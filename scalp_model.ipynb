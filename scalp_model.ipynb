{
 "cells": [
  {
   "cell_type": "code",
   "execution_count": 185,
   "metadata": {
    "collapsed": true
   },
   "outputs": [],
   "source": [
    "import numpy as np\n",
    "import pandas as pd\n",
    "import mne\n",
    "from sklearn.model_selection import train_test_split\n",
    "from matplotlib import pyplot as plt\n",
    "from sklearn.ensemble import RandomForestClassifier\n",
    "from sklearn.metrics import confusion_matrix, ConfusionMatrixDisplay\n",
    "from sklearn.metrics import plot_confusion_matrix\n",
    "from lightgbm import LGBMClassifier\n",
    "import lightgbm\n",
    "import xgboost as xgb\n",
    "from ipynb.fs.defs.yasa_model import calc_features\n",
    "import joblib\n",
    "\n",
    "plt.style.use('dark_background')\n",
    "pd.options.display.precision = 10"
   ]
  },
  {
   "cell_type": "code",
   "execution_count": null,
   "outputs": [],
   "source": [
    "joblib_file = 'model_try.pkl'\n",
    "jl_model = joblib.load(joblib_file)\n",
    "features_names = pd.read_csv('features.csv').columns.tolist()"
   ],
   "metadata": {
    "collapsed": false,
    "pycharm": {
     "name": "#%%\n"
    }
   }
  },
  {
   "cell_type": "code",
   "execution_count": 2,
   "outputs": [],
   "source": [
    "####################\n",
    "# MAIN PARAMETERS\n",
    "####################\n",
    "\n",
    "# Bandpass filter\n",
    "freq_broad = (0.1, 500)\n",
    "# FFT & bandpower parameters\n",
    "sr = 1000\n",
    "bands = [\n",
    "    (0.1, 4, 'delta'), (4, 8, 'theta'),\n",
    "    (8, 12, 'alpha'), (12, 16, 'sigma'), (16, 30, 'beta'),\n",
    "    (30, 75, 'gamma'), (75, 300, 'fast')\n",
    "]"
   ],
   "metadata": {
    "collapsed": false,
    "pycharm": {
     "name": "#%%\n"
    }
   }
  },
  {
   "cell_type": "code",
   "execution_count": 157,
   "outputs": [],
   "source": [
    "def format_raw_night(edf, channel):\n",
    "    epochs = []\n",
    "    window_size = int(sr / 4)\n",
    "    raw_data = mne.io.read_raw_edf(edf).pick_channels([channel]).resample(sr).get_data()[0]\n",
    "    for i in range(0, len(raw_data), window_size):\n",
    "        curr_block = raw_data[i: i  + window_size]\n",
    "        if i + window_size < len(raw_data):\n",
    "            epochs.append(curr_block)\n",
    "    return np.array(epochs)\n",
    "\n",
    "def get_one_y_bi(subj):\n",
    "    x_right = format_raw_night(f'/Users/rotemfalach/Documents/University/lab/EDFs_forRotem/P{subj}_overnightData.edf', 'SEEG RAH1-REF')\n",
    "    feat_right = calc_features(x_right)\n",
    "    y_right = jl_model.predict(feat_right[features_names[1:]])\n",
    "\n",
    "    x_left = format_raw_night(f'/Users/rotemfalach/Documents/University/lab/EDFs_forRotem/P{subj}_overnightData.edf', 'SEEG LAH1-REF')\n",
    "    feat_left = calc_features(x_left)\n",
    "    y_left = jl_model.predict(feat_left[features_names[1:]])\n",
    "    y_all = y_right + y_left\n",
    "    y_all[y_all == 2] = 1\n",
    "    return y_all\n",
    "\n",
    "def get_y_bi_prob(subj):\n",
    "    x_right = format_raw_night(f'/Users/rotemfalach/Documents/University/lab/EDFs_forRotem/P{subj}_overnightData.edf', 'SEEG RAH1-REF')\n",
    "    feat_right = calc_features(x_right)\n",
    "    y_right_prob = jl_model.predict_proba(feat_right[features_names[1:]]).T\n",
    "    y_right = [1 if p > 0.85 else 0 for p in y_right_prob[1]]\n",
    "\n",
    "    x_left = format_raw_night(f'/Users/rotemfalach/Documents/University/lab/EDFs_forRotem/P{subj}_overnightData.edf', 'SEEG LAH1-REF')\n",
    "    feat_left = calc_features(x_left)\n",
    "    y_left_prob = jl_model.predict_proba(feat_left[features_names[1:]]).T\n",
    "    y_left = [1 if p > 0.85 else 0 for p in y_left_prob[1]]\n",
    "    y_all = y_right + y_left\n",
    "    y_all[y_all == 2] = 1\n",
    "    return y_all"
   ],
   "metadata": {
    "collapsed": false,
    "pycharm": {
     "name": "#%%\n"
    }
   }
  },
  {
   "cell_type": "code",
   "execution_count": null,
   "outputs": [],
   "source": [
    "y_406_bi = get_one_y_bi('406')\n",
    "y_402_bi = get_one_y_bi('402')"
   ],
   "metadata": {
    "collapsed": false,
    "pycharm": {
     "name": "#%%\n",
     "is_executing": true
    }
   }
  },
  {
   "cell_type": "code",
   "execution_count": null,
   "outputs": [],
   "source": [
    "y_406_bi_prob = get_y_bi_prob('406')\n",
    "y_402_bi_prob = get_y_bi_prob('402')"
   ],
   "metadata": {
    "collapsed": false,
    "pycharm": {
     "name": "#%%\n",
     "is_executing": true
    }
   }
  },
  {
   "cell_type": "code",
   "execution_count": 138,
   "outputs": [],
   "source": [
    "# jl_model.feature_importances_"
   ],
   "metadata": {
    "collapsed": false,
    "pycharm": {
     "name": "#%%\n"
    }
   }
  },
  {
   "cell_type": "code",
   "execution_count": 142,
   "outputs": [
    {
     "data": {
      "text/plain": "2631"
     },
     "execution_count": 142,
     "metadata": {},
     "output_type": "execute_result"
    }
   ],
   "source": [
    "len(np.where(y_402_bi==1)[0])"
   ],
   "metadata": {
    "collapsed": false,
    "pycharm": {
     "name": "#%%\n"
    }
   }
  },
  {
   "cell_type": "code",
   "execution_count": 166,
   "outputs": [
    {
     "data": {
      "text/plain": "array([1., 0., 0., ..., 0., 0., 0.])"
     },
     "execution_count": 166,
     "metadata": {},
     "output_type": "execute_result"
    }
   ],
   "source": [
    "y_402_bi"
   ],
   "metadata": {
    "collapsed": false,
    "pycharm": {
     "name": "#%%\n"
    }
   }
  },
  {
   "cell_type": "code",
   "execution_count": 168,
   "outputs": [
    {
     "data": {
      "text/plain": "1"
     },
     "execution_count": 168,
     "metadata": {},
     "output_type": "execute_result"
    }
   ],
   "source": [
    "len(np.where(np.array(y_402_bi_prob)==True))"
   ],
   "metadata": {
    "collapsed": false,
    "pycharm": {
     "name": "#%%\n"
    }
   }
  },
  {
   "cell_type": "code",
   "execution_count": 167,
   "outputs": [
    {
     "data": {
      "text/plain": "array([1, 0, 0, ..., 0, 0, 0])"
     },
     "execution_count": 167,
     "metadata": {},
     "output_type": "execute_result"
    }
   ],
   "source": [
    "np.array(y_402_bi_prob)"
   ],
   "metadata": {
    "collapsed": false,
    "pycharm": {
     "name": "#%%\n"
    }
   }
  },
  {
   "cell_type": "code",
   "execution_count": 140,
   "outputs": [],
   "source": [
    "# plt.rcParams[\"figure.figsize\"] = (15,7)\n",
    "# lightgbm.plot_importance(jl_model)"
   ],
   "metadata": {
    "collapsed": false,
    "pycharm": {
     "name": "#%%\n"
    }
   }
  },
  {
   "cell_type": "code",
   "execution_count": null,
   "outputs": [],
   "source": [
    "# i_pred = np.where(y==1)[0]\n",
    "# for i in i_pred[:10]:\n",
    "#     plt.figure()\n",
    "#     pred_view = np.concatenate(x[i - 4: i + 5])\n",
    "#     plt.plot(pred_view)\n",
    "#     plt.plot(range(1000, 1250), x[i], c='red')"
   ],
   "metadata": {
    "collapsed": false,
    "pycharm": {
     "name": "#%%\n",
     "is_executing": true
    }
   }
  },
  {
   "cell_type": "code",
   "execution_count": 184,
   "outputs": [
    {
     "name": "stdout",
     "output_type": "stream",
     "text": [
      "Extracting EDF parameters from /Users/rotemfalach/Documents/University/lab/EDFs_forRotem/P406_overnightData.edf...\n",
      "EDF file detected\n",
      "Setting channel info structure...\n",
      "Creating raw.info structure...\n"
     ]
    },
    {
     "name": "stderr",
     "output_type": "stream",
     "text": [
      "/Users/rotemfalach/projects/venv/mmf_to_edf/lib/python3.7/site-packages/scipy/signal/spectral.py:1963: UserWarning: nperseg = 256 is greater than input length  = 250, using nperseg = 250\n",
      "  .format(nperseg, input_length))\n"
     ]
    },
    {
     "name": "stdout",
     "output_type": "stream",
     "text": [
      "[20:38:41] WARNING: /Users/runner/work/xgboost/xgboost/src/learner.cc:1115: Starting in XGBoost 1.3.0, the default evaluation metric used with the objective 'multi:softmax' was changed from 'merror' to 'mlogloss'. Explicitly set eval_metric if you'd like to restore the old behavior.\n"
     ]
    }
   ],
   "source": [
    "# x = format_raw_night('/Users/rotemfalach/Documents/University/lab/EDFs_forRotem/P406_overnightData.edf', 'SEEG RAH1-REF')\n",
    "# feat = calc_features(x)\n",
    "# y = jl_model.predict(feat[features_names[1:]])\n",
    "#\n",
    "# x_eye = format_raw_night('/Users/rotemfalach/Documents/University/lab/EDFs_forRotem/P406_overnightData.edf', 'EOG EOG2-REF')\n",
    "# feat_eye = calc_features(x_eye)\n",
    "\n",
    "# TODO: why its not the same length?\n",
    "X_train, X_test, y_train, y_test = train_test_split(feat_eye, y_402_bi[:len(feat_eye)], stratify=y_402_bi[:len(feat_eye)], random_state=20)\n",
    "\n",
    "classifiers = {\n",
    "    \"Random Forest\": RandomForestClassifier(),\n",
    "    \"LGBM\": LGBMClassifier(),\n",
    "    \"XGB\": xgb.XGBClassifier(objective=\"multi:softmax\", num_class=2, use_label_encoder=False),\n",
    "    #     \"Tree\": DecisionTreeClassifier()\n",
    "}\n",
    "\n",
    "f, axes = plt.subplots(1, len(classifiers), figsize=(20, 5), sharey='row')\n",
    "\n",
    "for i, (key, classifier) in enumerate(classifiers.items()):\n",
    "    y_pred = classifier.fit(X_train, y_train).predict(X_test)\n",
    "    cf_matrix = confusion_matrix(y_test, y_pred)\n",
    "    disp = ConfusionMatrixDisplay(cf_matrix)\n",
    "    disp.plot(ax=axes[i], xticks_rotation=45)\n",
    "    disp.ax_.set_title(key)\n",
    "    disp.im_.colorbar.remove()\n",
    "    disp.ax_.set_xlabel('')\n",
    "    if i!=0:\n",
    "        disp.ax_.set_ylabel('')\n",
    "\n",
    "f.text(0.4, 0.1, 'Predicted label', ha='left')\n",
    "plt.subplots_adjust(wspace=0.40, hspace=0.1)\n",
    "\n",
    "\n",
    "f.colorbar(disp.im_, ax=axes)\n",
    "plt.show()"
   ],
   "metadata": {
    "collapsed": false,
    "pycharm": {
     "name": "#%%\n"
    }
   }
  },
  {
   "cell_type": "code",
   "execution_count": null,
   "outputs": [],
   "source": [
    "x = format_raw_night('/Users/rotemfalach/Documents/University/lab/EDFs_forRotem/P402_overnightData.edf', 'SEEG RAH1-REF')\n",
    "feat = calc_features(x)\n",
    "y = jl_model.predict(feat[features_names[1:]])\n",
    "\n",
    "x_eye = format_raw_night('/Users/rotemfalach/Documents/University/lab/EDFs_forRotem/P402_overnightData.edf', 'EOG EOG2-REF')\n",
    "feat_eye = calc_features(x_eye)\n",
    "\n"
   ],
   "metadata": {
    "collapsed": false,
    "pycharm": {
     "name": "#%%\n",
     "is_executing": true
    }
   }
  },
  {
   "cell_type": "code",
   "execution_count": 187,
   "outputs": [
    {
     "name": "stdout",
     "output_type": "stream",
     "text": [
      "[20:45:48] WARNING: /Users/runner/work/xgboost/xgboost/src/learner.cc:1115: Starting in XGBoost 1.3.0, the default evaluation metric used with the objective 'multi:softmax' was changed from 'merror' to 'mlogloss'. Explicitly set eval_metric if you'd like to restore the old behavior.\n"
     ]
    }
   ],
   "source": [
    "# EOG2 model #\n",
    "\n",
    "X_train, X_test, y_train, y_test = train_test_split(feat_eye, y, stratify=y, random_state=20)\n",
    "\n",
    "classifiers = {\n",
    "    \"Random Forest\": RandomForestClassifier(),\n",
    "    \"LGBM\": LGBMClassifier(),\n",
    "    \"XGB\": xgb.XGBClassifier(objective=\"multi:softmax\", num_class=2, use_label_encoder=False),\n",
    "    #     \"Tree\": DecisionTreeClassifier()\n",
    "}\n",
    "\n",
    "f, axes = plt.subplots(1, len(classifiers), figsize=(20, 5), sharey='row')\n",
    "\n",
    "for i, (key, classifier) in enumerate(classifiers.items()):\n",
    "    y_pred = classifier.fit(X_train, y_train).predict(X_test)\n",
    "    cf_matrix = confusion_matrix(y_test, y_pred)\n",
    "    disp = ConfusionMatrixDisplay(cf_matrix)\n",
    "    disp.plot(ax=axes[i], xticks_rotation=45)\n",
    "    disp.ax_.set_title(key)\n",
    "    disp.im_.colorbar.remove()\n",
    "    disp.ax_.set_xlabel('')\n",
    "    if i!=0:\n",
    "        disp.ax_.set_ylabel('')\n",
    "\n",
    "f.text(0.4, 0.1, 'Predicted label', ha='left')\n",
    "plt.subplots_adjust(wspace=0.40, hspace=0.1)\n",
    "\n",
    "\n",
    "f.colorbar(disp.im_, ax=axes)\n",
    "plt.show()"
   ],
   "metadata": {
    "collapsed": false,
    "pycharm": {
     "name": "#%%\n"
    }
   }
  },
  {
   "cell_type": "code",
   "execution_count": 48,
   "outputs": [
    {
     "name": "stdout",
     "output_type": "stream",
     "text": [
      "Extracting EDF parameters from /Users/rotemfalach/Documents/University/lab/EDFs_forRotem/P406_overnightData.edf...\n",
      "EDF file detected\n",
      "Setting channel info structure...\n",
      "Creating raw.info structure...\n"
     ]
    },
    {
     "name": "stderr",
     "output_type": "stream",
     "text": [
      "/Users/rotemfalach/projects/venv/mmf_to_edf/lib/python3.7/site-packages/scipy/signal/spectral.py:1963: UserWarning: nperseg = 256 is greater than input length  = 250, using nperseg = 250\n",
      "  .format(nperseg, input_length))\n"
     ]
    },
    {
     "name": "stdout",
     "output_type": "stream",
     "text": [
      "[17:44:01] WARNING: /Users/runner/work/xgboost/xgboost/src/learner.cc:1115: Starting in XGBoost 1.3.0, the default evaluation metric used with the objective 'multi:softmax' was changed from 'merror' to 'mlogloss'. Explicitly set eval_metric if you'd like to restore the old behavior.\n"
     ]
    },
    {
     "data": {
      "text/plain": "<Figure size 1440x360 with 4 Axes>",
      "image/png": "[encoded data removed]"
     },
     "metadata": {},
     "output_type": "display_data"
    }
   ],
   "source": [
    "# PZ model #\n",
    "x_eye = format_raw_night('/Users/rotemfalach/Documents/University/lab/EDFs_forRotem/P406_overnightData.edf', 'EEG PZ-REF')\n",
    "feat_eye = calc_features(x_eye)\n",
    "\n",
    "\n",
    "X_train, X_test, y_train, y_test = train_test_split(feat_eye, y, stratify=y, random_state=20)\n",
    "\n",
    "classifiers = {\n",
    "    \"Random Forest\": RandomForestClassifier(),\n",
    "    \"LGBM\": LGBMClassifier(),\n",
    "    \"XGB\": xgb.XGBClassifier(objective=\"multi:softmax\", num_class=2, use_label_encoder=False),\n",
    "    #     \"Tree\": DecisionTreeClassifier()\n",
    "}\n",
    "\n",
    "f, axes = plt.subplots(1, len(classifiers), figsize=(20, 5), sharey='row')\n",
    "\n",
    "for i, (key, classifier) in enumerate(classifiers.items()):\n",
    "    y_pred = classifier.fit(X_train, y_train).predict(X_test)\n",
    "    cf_matrix = confusion_matrix(y_test, y_pred)\n",
    "    disp = ConfusionMatrixDisplay(cf_matrix)\n",
    "    disp.plot(ax=axes[i], xticks_rotation=45)\n",
    "    disp.ax_.set_title(key)\n",
    "    disp.im_.colorbar.remove()\n",
    "    disp.ax_.set_xlabel('')\n",
    "    if i!=0:\n",
    "        disp.ax_.set_ylabel('')\n",
    "\n",
    "f.text(0.4, 0.1, 'Predicted label', ha='left')\n",
    "plt.subplots_adjust(wspace=0.40, hspace=0.1)\n",
    "\n",
    "\n",
    "f.colorbar(disp.im_, ax=axes)\n",
    "plt.show()"
   ],
   "metadata": {
    "collapsed": false,
    "pycharm": {
     "name": "#%%\n"
    }
   }
  },
  {
   "cell_type": "code",
   "execution_count": 193,
   "outputs": [
    {
     "data": {
      "text/plain": "[<matplotlib.lines.Line2D at 0x135866250>]"
     },
     "execution_count": 193,
     "metadata": {},
     "output_type": "execute_result"
    }
   ],
   "source": [],
   "metadata": {
    "collapsed": false,
    "pycharm": {
     "name": "#%%\n"
    }
   }
  },
  {
   "cell_type": "code",
   "execution_count": 49,
   "outputs": [
    {
     "name": "stdout",
     "output_type": "stream",
     "text": [
      "Extracting EDF parameters from /Users/rotemfalach/Documents/University/lab/EDFs_forRotem/P406_overnightData.edf...\n",
      "EDF file detected\n",
      "Setting channel info structure...\n",
      "Creating raw.info structure...\n"
     ]
    },
    {
     "name": "stderr",
     "output_type": "stream",
     "text": [
      "/Users/rotemfalach/projects/venv/mmf_to_edf/lib/python3.7/site-packages/scipy/signal/spectral.py:1963: UserWarning: nperseg = 256 is greater than input length  = 250, using nperseg = 250\n",
      "  .format(nperseg, input_length))\n"
     ]
    },
    {
     "name": "stdout",
     "output_type": "stream",
     "text": [
      "[17:48:32] WARNING: /Users/runner/work/xgboost/xgboost/src/learner.cc:1115: Starting in XGBoost 1.3.0, the default evaluation metric used with the objective 'multi:softmax' was changed from 'merror' to 'mlogloss'. Explicitly set eval_metric if you'd like to restore the old behavior.\n"
     ]
    },
    {
     "data": {
      "text/plain": "<Figure size 1440x360 with 4 Axes>",
      "image/png": "[encoded data removed]"
     },
     "metadata": {},
     "output_type": "display_data"
    }
   ],
   "source": [
    "# C4 model #\n",
    "x_eye = format_raw_night('/Users/rotemfalach/Documents/University/lab/EDFs_forRotem/P406_overnightData.edf', 'EEG C4-REF')\n",
    "feat_eye = calc_features(x_eye)\n",
    "\n",
    "\n",
    "X_train, X_test, y_train, y_test = train_test_split(feat_eye, y, stratify=y, random_state=20)\n",
    "\n",
    "classifiers = {\n",
    "    \"Random Forest\": RandomForestClassifier(),\n",
    "    \"LGBM\": LGBMClassifier(),\n",
    "    \"XGB\": xgb.XGBClassifier(objective=\"multi:softmax\", num_class=2, use_label_encoder=False),\n",
    "    #     \"Tree\": DecisionTreeClassifier()\n",
    "}\n",
    "\n",
    "f, axes = plt.subplots(1, len(classifiers), figsize=(20, 5), sharey='row')\n",
    "\n",
    "for i, (key, classifier) in enumerate(classifiers.items()):\n",
    "    y_pred = classifier.fit(X_train, y_train).predict(X_test)\n",
    "    cf_matrix = confusion_matrix(y_test, y_pred)\n",
    "    disp = ConfusionMatrixDisplay(cf_matrix)\n",
    "    disp.plot(ax=axes[i], xticks_rotation=45)\n",
    "    disp.ax_.set_title(key)\n",
    "    disp.im_.colorbar.remove()\n",
    "    disp.ax_.set_xlabel('')\n",
    "    if i!=0:\n",
    "        disp.ax_.set_ylabel('')\n",
    "\n",
    "f.text(0.4, 0.1, 'Predicted label', ha='left')\n",
    "plt.subplots_adjust(wspace=0.40, hspace=0.1)\n",
    "\n",
    "\n",
    "f.colorbar(disp.im_, ax=axes)\n",
    "plt.show()"
   ],
   "metadata": {
    "collapsed": false,
    "pycharm": {
     "name": "#%%\n"
    }
   }
  },
  {
   "cell_type": "code",
   "execution_count": 50,
   "outputs": [
    {
     "name": "stdout",
     "output_type": "stream",
     "text": [
      "Extracting EDF parameters from /Users/rotemfalach/Documents/University/lab/EDFs_forRotem/P406_overnightData.edf...\n",
      "EDF file detected\n",
      "Setting channel info structure...\n",
      "Creating raw.info structure...\n"
     ]
    },
    {
     "name": "stderr",
     "output_type": "stream",
     "text": [
      "/Users/rotemfalach/projects/venv/mmf_to_edf/lib/python3.7/site-packages/scipy/signal/spectral.py:1963: UserWarning: nperseg = 256 is greater than input length  = 250, using nperseg = 250\n",
      "  .format(nperseg, input_length))\n"
     ]
    },
    {
     "name": "stdout",
     "output_type": "stream",
     "text": [
      "[17:51:29] WARNING: /Users/runner/work/xgboost/xgboost/src/learner.cc:1115: Starting in XGBoost 1.3.0, the default evaluation metric used with the objective 'multi:softmax' was changed from 'merror' to 'mlogloss'. Explicitly set eval_metric if you'd like to restore the old behavior.\n"
     ]
    },
    {
     "data": {
      "text/plain": "<Figure size 1440x360 with 4 Axes>",
      "image/png": "[encoded data removed]"
     },
     "metadata": {},
     "output_type": "display_data"
    }
   ],
   "source": [
    "# EOG1 model #\n",
    "x_eye = format_raw_night('/Users/rotemfalach/Documents/University/lab/EDFs_forRotem/P406_overnightData.edf', 'EOG EOG1-REF')\n",
    "feat_eye = calc_features(x_eye)\n",
    "\n",
    "\n",
    "X_train, X_test, y_train, y_test = train_test_split(feat_eye, y, stratify=y, random_state=20)\n",
    "\n",
    "classifiers = {\n",
    "    \"Random Forest\": RandomForestClassifier(),\n",
    "    \"LGBM\": LGBMClassifier(),\n",
    "    \"XGB\": xgb.XGBClassifier(objective=\"multi:softmax\", num_class=2, use_label_encoder=False),\n",
    "    #     \"Tree\": DecisionTreeClassifier()\n",
    "}\n",
    "\n",
    "f, axes = plt.subplots(1, len(classifiers), figsize=(20, 5), sharey='row')\n",
    "\n",
    "for i, (key, classifier) in enumerate(classifiers.items()):\n",
    "    y_pred = classifier.fit(X_train, y_train).predict(X_test)\n",
    "    cf_matrix = confusion_matrix(y_test, y_pred)\n",
    "    disp = ConfusionMatrixDisplay(cf_matrix)\n",
    "    disp.plot(ax=axes[i], xticks_rotation=45)\n",
    "    disp.ax_.set_title(key)\n",
    "    disp.im_.colorbar.remove()\n",
    "    disp.ax_.set_xlabel('')\n",
    "    if i!=0:\n",
    "        disp.ax_.set_ylabel('')\n",
    "\n",
    "f.text(0.4, 0.1, 'Predicted label', ha='left')\n",
    "plt.subplots_adjust(wspace=0.40, hspace=0.1)\n",
    "\n",
    "\n",
    "f.colorbar(disp.im_, ax=axes)\n",
    "plt.show()"
   ],
   "metadata": {
    "collapsed": false,
    "pycharm": {
     "name": "#%%\n"
    }
   }
  },
  {
   "cell_type": "code",
   "execution_count": 51,
   "outputs": [
    {
     "name": "stdout",
     "output_type": "stream",
     "text": [
      "Extracting EDF parameters from /Users/rotemfalach/Documents/University/lab/EDFs_forRotem/P406_overnightData.edf...\n",
      "EDF file detected\n",
      "Setting channel info structure...\n",
      "Creating raw.info structure...\n"
     ]
    },
    {
     "name": "stderr",
     "output_type": "stream",
     "text": [
      "/Users/rotemfalach/projects/venv/mmf_to_edf/lib/python3.7/site-packages/scipy/signal/spectral.py:1963: UserWarning: nperseg = 256 is greater than input length  = 250, using nperseg = 250\n",
      "  .format(nperseg, input_length))\n"
     ]
    },
    {
     "data": {
      "text/plain": "array([0., 0., 0., ..., 0., 0., 0.])"
     },
     "execution_count": 51,
     "metadata": {},
     "output_type": "execute_result"
    }
   ],
   "source": [
    "x_left = format_raw_night('/Users/rotemfalach/Documents/University/lab/EDFs_forRotem/P406_overnightData.edf', 'SEEG LAH1-REF')\n",
    "feat_left = calc_features(x_left)\n",
    "y_left = jl_model.predict(feat_left[features_names[1:]])\n",
    "y_all = y + y_left\n",
    "y_all[y_all == 2] = 1"
   ],
   "metadata": {
    "collapsed": false,
    "pycharm": {
     "name": "#%%\n"
    }
   }
  },
  {
   "cell_type": "code",
   "execution_count": 53,
   "outputs": [
    {
     "data": {
      "text/plain": "array([], dtype=float64)"
     },
     "execution_count": 53,
     "metadata": {},
     "output_type": "execute_result"
    }
   ],
   "source": [
    "y_all[y_all == 2] = 1"
   ],
   "metadata": {
    "collapsed": false,
    "pycharm": {
     "name": "#%%\n"
    }
   }
  },
  {
   "cell_type": "code",
   "execution_count": 54,
   "outputs": [
    {
     "name": "stdout",
     "output_type": "stream",
     "text": [
      "Extracting EDF parameters from /Users/rotemfalach/Documents/University/lab/EDFs_forRotem/P406_overnightData.edf...\n",
      "EDF file detected\n",
      "Setting channel info structure...\n",
      "Creating raw.info structure...\n"
     ]
    },
    {
     "name": "stderr",
     "output_type": "stream",
     "text": [
      "/Users/rotemfalach/projects/venv/mmf_to_edf/lib/python3.7/site-packages/scipy/signal/spectral.py:1963: UserWarning: nperseg = 256 is greater than input length  = 250, using nperseg = 250\n",
      "  .format(nperseg, input_length))\n"
     ]
    },
    {
     "name": "stdout",
     "output_type": "stream",
     "text": [
      "[18:02:37] WARNING: /Users/runner/work/xgboost/xgboost/src/learner.cc:1115: Starting in XGBoost 1.3.0, the default evaluation metric used with the objective 'multi:softmax' was changed from 'merror' to 'mlogloss'. Explicitly set eval_metric if you'd like to restore the old behavior.\n"
     ]
    },
    {
     "data": {
      "text/plain": "<Figure size 1440x360 with 4 Axes>",
      "image/png": "[encoded data removed]"
     },
     "metadata": {},
     "output_type": "display_data"
    }
   ],
   "source": [
    "x_eye = format_raw_night('/Users/rotemfalach/Documents/University/lab/EDFs_forRotem/P406_overnightData.edf', 'EOG EOG2-REF')\n",
    "feat_eye = calc_features(x_eye)\n",
    "\n",
    "\n",
    "X_train, X_test, y_train, y_test = train_test_split(feat_eye, y_all, stratify=y_all, random_state=20)\n",
    "\n",
    "classifiers = {\n",
    "    \"Random Forest\": RandomForestClassifier(),\n",
    "    \"LGBM\": LGBMClassifier(),\n",
    "    \"XGB\": xgb.XGBClassifier(objective=\"multi:softmax\", num_class=2, use_label_encoder=False),\n",
    "    #     \"Tree\": DecisionTreeClassifier()\n",
    "}\n",
    "\n",
    "f, axes = plt.subplots(1, len(classifiers), figsize=(20, 5), sharey='row')\n",
    "\n",
    "for i, (key, classifier) in enumerate(classifiers.items()):\n",
    "    y_pred = classifier.fit(X_train, y_train).predict(X_test)\n",
    "    cf_matrix = confusion_matrix(y_test, y_pred)\n",
    "    disp = ConfusionMatrixDisplay(cf_matrix)\n",
    "    disp.plot(ax=axes[i], xticks_rotation=45)\n",
    "    disp.ax_.set_title(key)\n",
    "    disp.im_.colorbar.remove()\n",
    "    disp.ax_.set_xlabel('')\n",
    "    if i!=0:\n",
    "        disp.ax_.set_ylabel('')\n",
    "\n",
    "f.text(0.4, 0.1, 'Predicted label', ha='left')\n",
    "plt.subplots_adjust(wspace=0.40, hspace=0.1)\n",
    "\n",
    "\n",
    "f.colorbar(disp.im_, ax=axes)\n",
    "plt.show()"
   ],
   "metadata": {
    "collapsed": false,
    "pycharm": {
     "name": "#%%\n"
    }
   }
  },
  {
   "cell_type": "code",
   "execution_count": null,
   "outputs": [],
   "source": [
    "# subject 402\n",
    "x_402 = format_raw_night('/Users/rotemfalach/Documents/University/lab/EDFs_forRotem/P402_overnightData.edf', 'SEEG RAH1-REF')\n",
    "feat_402 = calc_features(x_402)\n",
    "y_402 = jl_model.predict(feat_402[features_names[1:]])\n",
    "\n",
    "x_eye = format_raw_night('/Users/rotemfalach/Documents/University/lab/EDFs_forRotem/P402_overnightData.edf', 'EOG EOG2-REF')\n",
    "feat_eye = calc_features(x_eye)\n",
    "\n",
    "\n",
    "X_train, X_test, y_train, y_test = train_test_split(feat_eye, y_402, stratify=y_402, random_state=20)\n",
    "\n",
    "classifiers = {\n",
    "    \"Random Forest\": RandomForestClassifier(),\n",
    "    \"LGBM\": LGBMClassifier(),\n",
    "    \"XGB\": xgb.XGBClassifier(objective=\"multi:softmax\", num_class=2, use_label_encoder=False),\n",
    "    #     \"Tree\": DecisionTreeClassifier()\n",
    "}\n",
    "\n",
    "f, axes = plt.subplots(1, len(classifiers), figsize=(20, 5), sharey='row')\n",
    "\n",
    "for i, (key, classifier) in enumerate(classifiers.items()):\n",
    "    y_pred = classifier.fit(X_train, y_train).predict(X_test)\n",
    "    cf_matrix = confusion_matrix(y_test, y_pred)\n",
    "    disp = ConfusionMatrixDisplay(cf_matrix)\n",
    "    disp.plot(ax=axes[i], xticks_rotation=45)\n",
    "    disp.ax_.set_title(key)\n",
    "    disp.im_.colorbar.remove()\n",
    "    disp.ax_.set_xlabel('')\n",
    "    if i!=0:\n",
    "        disp.ax_.set_ylabel('')\n",
    "\n",
    "f.text(0.4, 0.1, 'Predicted label', ha='left')\n",
    "plt.subplots_adjust(wspace=0.40, hspace=0.1)\n",
    "\n",
    "\n",
    "f.colorbar(disp.im_, ax=axes)\n",
    "plt.show()"
   ],
   "metadata": {
    "collapsed": false,
    "pycharm": {
     "name": "#%%\n",
     "is_executing": true
    }
   }
  },
  {
   "cell_type": "code",
   "execution_count": 90,
   "outputs": [],
   "source": [
    "# union channels and subjects\n",
    "def run_all():\n",
    "    x_all = np.empty((0, 250))\n",
    "    y_all = np.empty(0)\n",
    "    feat_all = pd.DataFrame()\n",
    "    features = pd.DataFrame()\n",
    "    y_subj = None\n",
    "    # create y array\n",
    "    for subj in ['402', '406']:\n",
    "        for channel in ['RAH1', 'LAH1']:\n",
    "            x_curr = format_raw_night(f'/Users/rotemfalach/Documents/University/lab/EDFs_forRotem/P{subj}_overnightData.edf', f'SEEG {channel}-REF')\n",
    "            feat_curr = calc_features(x_curr)\n",
    "            y_curr = jl_model.predict(feat_curr[features_names[1:]])\n",
    "            if y_subj is None:\n",
    "                y_subj = np.zeros(len(y_curr))\n",
    "            y_subj = y_subj + y_curr\n",
    "            y_subj[y_subj == 2] = 1\n",
    "        y_all = np.concatenate((y_all, y_subj))\n",
    "        y_subj = None\n",
    "\n",
    "    # create features for 2 eyes\n",
    "    for subj in ['402', '406']:\n",
    "        for channel in ['EOG1', 'EOG2']:\n",
    "            x_curr = format_raw_night(f'/Users/rotemfalach/Documents/University/lab/EDFs_forRotem/P{subj}_overnightData.edf', f'EOG {channel}-REF')\n",
    "            x_all = np.concatenate((x_all, x_curr))\n",
    "            feat_curr = calc_features(x_curr).add_prefix(f'{channel}_')\n",
    "            features = pd.concat([features, feat_curr], axis=1)\n",
    "\n",
    "        feat_all = pd.concat([feat_all, features], axis=0)\n",
    "        features = pd.DataFrame()\n",
    "\n",
    "    return x_all, feat_all, y_all"
   ],
   "metadata": {
    "collapsed": false,
    "pycharm": {
     "name": "#%%\n"
    }
   }
  },
  {
   "cell_type": "code",
   "execution_count": null,
   "outputs": [],
   "source": [
    "x_all, feat_all, y_all = run_all()"
   ],
   "metadata": {
    "collapsed": false,
    "pycharm": {
     "name": "#%%\n"
    }
   }
  },
  {
   "cell_type": "code",
   "execution_count": 88,
   "outputs": [
    {
     "name": "stdout",
     "output_type": "stream",
     "text": [
      "[20:44:24] WARNING: /Users/runner/work/xgboost/xgboost/src/learner.cc:1115: Starting in XGBoost 1.3.0, the default evaluation metric used with the objective 'multi:softmax' was changed from 'merror' to 'mlogloss'. Explicitly set eval_metric if you'd like to restore the old behavior.\n"
     ]
    },
    {
     "data": {
      "text/plain": "<Figure size 1440x360 with 4 Axes>",
      "image/png": "[encoded data removed]"
     },
     "metadata": {},
     "output_type": "display_data"
    }
   ],
   "source": [
    "# subject 402 + 406\n",
    "X_train, X_test, y_train, y_test = train_test_split(feat_all, y_all, stratify=y_all, random_state=20)\n",
    "\n",
    "classifiers = {\n",
    "    \"Random Forest\": RandomForestClassifier(),\n",
    "    \"LGBM\": LGBMClassifier(),\n",
    "    \"XGB\": xgb.XGBClassifier(objective=\"multi:softmax\", num_class=2, use_label_encoder=False),\n",
    "    #     \"Tree\": DecisionTreeClassifier()\n",
    "}\n",
    "\n",
    "f, axes = plt.subplots(1, len(classifiers), figsize=(20, 5), sharey='row')\n",
    "\n",
    "for i, (key, classifier) in enumerate(classifiers.items()):\n",
    "    y_pred = classifier.fit(X_train, y_train).predict(X_test)\n",
    "    cf_matrix = confusion_matrix(y_test, y_pred)\n",
    "    disp = ConfusionMatrixDisplay(cf_matrix)\n",
    "    disp.plot(ax=axes[i], xticks_rotation=45)\n",
    "    disp.ax_.set_title(key)\n",
    "    disp.im_.colorbar.remove()\n",
    "    disp.ax_.set_xlabel('')\n",
    "    if i!=0:\n",
    "        disp.ax_.set_ylabel('')\n",
    "\n",
    "f.text(0.4, 0.1, 'Predicted label', ha='left')\n",
    "plt.subplots_adjust(wspace=0.40, hspace=0.1)\n",
    "\n",
    "\n",
    "f.colorbar(disp.im_, ax=axes)\n",
    "plt.show()"
   ],
   "metadata": {
    "collapsed": false,
    "pycharm": {
     "name": "#%%\n"
    }
   }
  },
  {
   "cell_type": "code",
   "execution_count": null,
   "outputs": [],
   "source": [
    "from sklearn.feature_selection import VarianceThreshold\n",
    "x_all, feat_all, y_all = run_all()\n",
    "all_col = feat_all.columns\n",
    "selector = VarianceThreshold(.1)\n",
    "selector.fit_transform(feat_all)\n",
    "feat_all = feat_all[feat_all.columns[selector.get_support(indices=True)]]\n",
    "\n",
    "# subject 402 + 406\n",
    "\n",
    "X_train, X_test, y_train, y_test = train_test_split(feat_all, y_all, stratify=y_all, random_state=20)\n",
    "\n",
    "classifiers = {\n",
    "    \"Random Forest\": RandomForestClassifier(),\n",
    "    \"LGBM\": LGBMClassifier(),\n",
    "    \"XGB\": xgb.XGBClassifier(objective=\"multi:softmax\", num_class=2, use_label_encoder=False),\n",
    "    #     \"Tree\": DecisionTreeClassifier()\n",
    "}\n",
    "\n",
    "f, axes = plt.subplots(1, len(classifiers), figsize=(20, 5), sharey='row')\n",
    "\n",
    "for i, (key, classifier) in enumerate(classifiers.items()):\n",
    "    y_pred = classifier.fit(X_train, y_train).predict(X_test)\n",
    "    cf_matrix = confusion_matrix(y_test, y_pred)\n",
    "    disp = ConfusionMatrixDisplay(cf_matrix)\n",
    "    disp.plot(ax=axes[i], xticks_rotation=45)\n",
    "    disp.ax_.set_title(key)\n",
    "    disp.im_.colorbar.remove()\n",
    "    disp.ax_.set_xlabel('')\n",
    "    if i!=0:\n",
    "        disp.ax_.set_ylabel('')\n",
    "\n",
    "f.text(0.4, 0.1, 'Predicted label', ha='left')\n",
    "plt.subplots_adjust(wspace=0.40, hspace=0.1)\n",
    "\n",
    "\n",
    "f.colorbar(disp.im_, ax=axes)\n",
    "plt.show()"
   ],
   "metadata": {
    "collapsed": false,
    "pycharm": {
     "name": "#%%\n",
     "is_executing": true
    }
   }
  },
  {
   "cell_type": "code",
   "execution_count": 89,
   "outputs": [
    {
     "name": "stdout",
     "output_type": "stream",
     "text": [
      "[20:58:20] WARNING: /Users/runner/work/xgboost/xgboost/src/learner.cc:1115: Starting in XGBoost 1.3.0, the default evaluation metric used with the objective 'multi:softmax' was changed from 'merror' to 'mlogloss'. Explicitly set eval_metric if you'd like to restore the old behavior.\n"
     ]
    },
    {
     "data": {
      "text/plain": "<Figure size 1440x360 with 4 Axes>",
      "image/png": "[encoded data removed]"
     },
     "metadata": {},
     "output_type": "display_data"
    }
   ],
   "source": [
    "# subject 402 + 406 only EOG2\n",
    "eog2_feat = feat_all.loc[:, feat_all.columns.str.startswith(\"EOG2\")]\n",
    "X_train, X_test, y_train, y_test = train_test_split(eog2_feat, y_all, stratify=y_all, random_state=20)\n",
    "\n",
    "classifiers = {\n",
    "    \"Random Forest\": RandomForestClassifier(),\n",
    "    \"LGBM\": LGBMClassifier(),\n",
    "    \"XGB\": xgb.XGBClassifier(objective=\"multi:softmax\", num_class=2, use_label_encoder=False),\n",
    "    #     \"Tree\": DecisionTreeClassifier()\n",
    "}\n",
    "\n",
    "f, axes = plt.subplots(1, len(classifiers), figsize=(20, 5), sharey='row')\n",
    "\n",
    "for i, (key, classifier) in enumerate(classifiers.items()):\n",
    "    y_pred = classifier.fit(X_train, y_train).predict(X_test)\n",
    "    cf_matrix = confusion_matrix(y_test, y_pred)\n",
    "    disp = ConfusionMatrixDisplay(cf_matrix)\n",
    "    disp.plot(ax=axes[i], xticks_rotation=45)\n",
    "    disp.ax_.set_title(key)\n",
    "    disp.im_.colorbar.remove()\n",
    "    disp.ax_.set_xlabel('')\n",
    "    if i!=0:\n",
    "        disp.ax_.set_ylabel('')\n",
    "\n",
    "f.text(0.4, 0.1, 'Predicted label', ha='left')\n",
    "plt.subplots_adjust(wspace=0.40, hspace=0.1)\n",
    "\n",
    "\n",
    "f.colorbar(disp.im_, ax=axes)\n",
    "plt.show()"
   ],
   "metadata": {
    "collapsed": false,
    "pycharm": {
     "name": "#%%\n"
    }
   }
  },
  {
   "cell_type": "code",
   "execution_count": 82,
   "outputs": [
    {
     "data": {
      "text/plain": "           EOG1_std      EOG1_iqr     EOG1_skew     EOG1_kurt  EOG1_nzc  \\\nepoch                                                                     \n0      0.0000128736  0.0000199467 -0.2716413384 -0.8807789265         3   \n1      0.0000122359  0.0000219577  0.1450511571 -1.2575262875         0   \n2      0.0000119657  0.0000225876  0.2904861759 -1.4171907517         7   \n3      0.0000070682  0.0000072906 -1.2255720182  1.9402324485         1   \n4      0.0000084265  0.0000133481  0.6120629490 -0.7709775451         2   \n...             ...           ...           ...           ...       ...   \n94795  0.0000193124  0.0000341511  0.5361069658 -1.0751869971         0   \n94796  0.0000095531  0.0000176220 -0.1635944978 -1.4574385357         0   \n94797  0.0000227052  0.0000481315 -0.0436118204 -1.4405838024         0   \n94798  0.0000110126  0.0000137704 -0.8100647658  0.5809560081         1   \n94799  0.0000126144  0.0000232390 -0.4070556836 -1.2005318935         0   \n\n          EOG1_hmob     EOG1_hcomp    EOG1_theta    EOG1_alpha    EOG1_sigma  \\\nepoch                                                                          \n0      0.0630019858   4.5110506362  0.2342585611  0.4279188775  0.2414375632   \n1      0.0492130731   7.4116568925  0.7237201294  0.1822614034  0.0371030225   \n2      0.0480207904   7.6041407767  0.9679301265  0.1450480708  0.0103626072   \n3      0.0905666041   3.7239648860  0.3310281463  0.2453027344  0.2974598818   \n4      0.0753829843   4.5754722242  0.6161535059  0.2809774013  0.0492355469   \n...             ...            ...           ...           ...           ...   \n94795  0.0304171580   6.4971701731  0.9162409079  0.1829809175  0.0080083314   \n94796  0.0459084536   4.9966345079  0.5786727257  0.2948279822  0.0631411341   \n94797  0.0321652868   4.6618472815  0.7393090507  0.2400462396  0.0154893447   \n94798  0.0408644830   6.0597693288  0.6954300173  0.2626535121  0.0385050790   \n94799  0.0301053915  15.3067981636  0.7968987392  0.1263581478  0.0834744288   \n\n       ...  EOG2_fast_pmin_norm  EOG2_at_pmin_norm  EOG2_gt_pmin_norm  \\\nepoch  ...                                                              \n0      ...        -0.0760830552       1.1578466389      -0.0005830484   \n1      ...        -0.0485896456       0.1107950387      -0.0102578563   \n2      ...        -0.0337197634      -0.0791136303      -0.0276589966   \n3      ...         0.5670906198      -0.0207718004       0.6465550916   \n4      ...        -0.0883999008      -0.0029054637      -0.0490986318   \n...    ...                  ...                ...                ...   \n94795  ...        -0.0681520558      -0.1621958451      -0.0474233968   \n94796  ...        -0.0645357267       0.7868904436      -0.0233294382   \n94797  ...        -0.0483775448      -0.0359911096      -0.0433258766   \n94798  ...        -0.0417228132      -0.2642298101      -0.0459026694   \n94799  ...        -0.0197855841      -0.1454915236      -0.0291449032   \n\n       EOG2_ft_pmin_norm  EOG2_ag_pmin_norm  EOG2_af_pmin_norm  \\\nepoch                                                            \n0          -0.0223213391      -0.0625303611      -0.0602732161   \n1          -0.0254313307      -0.0300772413      -0.0407080216   \n2          -0.0266955805      -0.0199391664      -0.0206119871   \n3           0.4651039197       0.8427614851       0.6049581807   \n4          -0.0517969637      -0.0602527546      -0.0627408110   \n...                  ...                ...                ...   \n94795      -0.0389760804      -0.0391391438      -0.0386078977   \n94796      -0.0265373921      -0.0541397203      -0.0435596937   \n94797      -0.0277354896      -0.0459615931      -0.0290532566   \n94798      -0.0338035521       0.0280700579       0.0216299207   \n94799      -0.0212398973      -0.0036585399      -0.0022809548   \n\n       EOG2_abspow_pmin_norm  EOG2_perm_pmin_norm  EOG2_higuchi_pmin_norm  \\\nepoch                                                                       \n0               0.3468134929        -0.2209976879           -0.1608104351   \n1               0.0273810158         0.0594729675            0.2247874082   \n2               0.1412543506         0.1782733192            0.0933859142   \n3              -0.1736375180        -0.0716689719            0.2479171892   \n4               0.4719487224        -0.1588007538           -0.1005837424   \n...                      ...                  ...                     ...   \n94795           0.5182669647        -0.4286309924           -0.3623258772   \n94796           0.0824952463        -0.2622788949           -0.3235501210   \n94797           0.1224518863        -0.0494903963           -0.2516170308   \n94798           0.0028506032        -0.3751471405           -0.1219346897   \n94799          -0.0357459447         0.5515233859            0.2021415761   \n\n       EOG2_petrosian_pmin_norm  \nepoch                            \n0                 -0.1741569402  \n1                  0.0434336884  \n2                  0.1734832294  \n3                 -0.0869938079  \n4                 -0.2178022858  \n...                         ...  \n94795             -0.4760216385  \n94796             -0.3168734940  \n94797             -0.1054150487  \n94798             -0.0526814614  \n94799              0.6801787776  \n\n[284878 rows x 132 columns]",
      "text/html": "<div>\n<style scoped>\n    .dataframe tbody tr th:only-of-type {\n        vertical-align: middle;\n    }\n\n    .dataframe tbody tr th {\n        vertical-align: top;\n    }\n\n    .dataframe thead th {\n        text-align: right;\n    }\n</style>\n<table border=\"1\" class=\"dataframe\">\n  <thead>\n    <tr style=\"text-align: right;\">\n      <th></th>\n      <th>EOG1_std</th>\n      <th>EOG1_iqr</th>\n      <th>EOG1_skew</th>\n      <th>EOG1_kurt</th>\n      <th>EOG1_nzc</th>\n      <th>EOG1_hmob</th>\n      <th>EOG1_hcomp</th>\n      <th>EOG1_theta</th>\n      <th>EOG1_alpha</th>\n      <th>EOG1_sigma</th>\n      <th>...</th>\n      <th>EOG2_fast_pmin_norm</th>\n      <th>EOG2_at_pmin_norm</th>\n      <th>EOG2_gt_pmin_norm</th>\n      <th>EOG2_ft_pmin_norm</th>\n      <th>EOG2_ag_pmin_norm</th>\n      <th>EOG2_af_pmin_norm</th>\n      <th>EOG2_abspow_pmin_norm</th>\n      <th>EOG2_perm_pmin_norm</th>\n      <th>EOG2_higuchi_pmin_norm</th>\n      <th>EOG2_petrosian_pmin_norm</th>\n    </tr>\n    <tr>\n      <th>epoch</th>\n      <th></th>\n      <th></th>\n      <th></th>\n      <th></th>\n      <th></th>\n      <th></th>\n      <th></th>\n      <th></th>\n      <th></th>\n      <th></th>\n      <th></th>\n      <th></th>\n      <th></th>\n      <th></th>\n      <th></th>\n      <th></th>\n      <th></th>\n      <th></th>\n      <th></th>\n      <th></th>\n      <th></th>\n    </tr>\n  </thead>\n  <tbody>\n    <tr>\n      <th>0</th>\n      <td>0.0000128736</td>\n      <td>0.0000199467</td>\n      <td>-0.2716413384</td>\n      <td>-0.8807789265</td>\n      <td>3</td>\n      <td>0.0630019858</td>\n      <td>4.5110506362</td>\n      <td>0.2342585611</td>\n      <td>0.4279188775</td>\n      <td>0.2414375632</td>\n      <td>...</td>\n      <td>-0.0760830552</td>\n      <td>1.1578466389</td>\n      <td>-0.0005830484</td>\n      <td>-0.0223213391</td>\n      <td>-0.0625303611</td>\n      <td>-0.0602732161</td>\n      <td>0.3468134929</td>\n      <td>-0.2209976879</td>\n      <td>-0.1608104351</td>\n      <td>-0.1741569402</td>\n    </tr>\n    <tr>\n      <th>1</th>\n      <td>0.0000122359</td>\n      <td>0.0000219577</td>\n      <td>0.1450511571</td>\n      <td>-1.2575262875</td>\n      <td>0</td>\n      <td>0.0492130731</td>\n      <td>7.4116568925</td>\n      <td>0.7237201294</td>\n      <td>0.1822614034</td>\n      <td>0.0371030225</td>\n      <td>...</td>\n      <td>-0.0485896456</td>\n      <td>0.1107950387</td>\n      <td>-0.0102578563</td>\n      <td>-0.0254313307</td>\n      <td>-0.0300772413</td>\n      <td>-0.0407080216</td>\n      <td>0.0273810158</td>\n      <td>0.0594729675</td>\n      <td>0.2247874082</td>\n      <td>0.0434336884</td>\n    </tr>\n    <tr>\n      <th>2</th>\n      <td>0.0000119657</td>\n      <td>0.0000225876</td>\n      <td>0.2904861759</td>\n      <td>-1.4171907517</td>\n      <td>7</td>\n      <td>0.0480207904</td>\n      <td>7.6041407767</td>\n      <td>0.9679301265</td>\n      <td>0.1450480708</td>\n      <td>0.0103626072</td>\n      <td>...</td>\n      <td>-0.0337197634</td>\n      <td>-0.0791136303</td>\n      <td>-0.0276589966</td>\n      <td>-0.0266955805</td>\n      <td>-0.0199391664</td>\n      <td>-0.0206119871</td>\n      <td>0.1412543506</td>\n      <td>0.1782733192</td>\n      <td>0.0933859142</td>\n      <td>0.1734832294</td>\n    </tr>\n    <tr>\n      <th>3</th>\n      <td>0.0000070682</td>\n      <td>0.0000072906</td>\n      <td>-1.2255720182</td>\n      <td>1.9402324485</td>\n      <td>1</td>\n      <td>0.0905666041</td>\n      <td>3.7239648860</td>\n      <td>0.3310281463</td>\n      <td>0.2453027344</td>\n      <td>0.2974598818</td>\n      <td>...</td>\n      <td>0.5670906198</td>\n      <td>-0.0207718004</td>\n      <td>0.6465550916</td>\n      <td>0.4651039197</td>\n      <td>0.8427614851</td>\n      <td>0.6049581807</td>\n      <td>-0.1736375180</td>\n      <td>-0.0716689719</td>\n      <td>0.2479171892</td>\n      <td>-0.0869938079</td>\n    </tr>\n    <tr>\n      <th>4</th>\n      <td>0.0000084265</td>\n      <td>0.0000133481</td>\n      <td>0.6120629490</td>\n      <td>-0.7709775451</td>\n      <td>2</td>\n      <td>0.0753829843</td>\n      <td>4.5754722242</td>\n      <td>0.6161535059</td>\n      <td>0.2809774013</td>\n      <td>0.0492355469</td>\n      <td>...</td>\n      <td>-0.0883999008</td>\n      <td>-0.0029054637</td>\n      <td>-0.0490986318</td>\n      <td>-0.0517969637</td>\n      <td>-0.0602527546</td>\n      <td>-0.0627408110</td>\n      <td>0.4719487224</td>\n      <td>-0.1588007538</td>\n      <td>-0.1005837424</td>\n      <td>-0.2178022858</td>\n    </tr>\n    <tr>\n      <th>...</th>\n      <td>...</td>\n      <td>...</td>\n      <td>...</td>\n      <td>...</td>\n      <td>...</td>\n      <td>...</td>\n      <td>...</td>\n      <td>...</td>\n      <td>...</td>\n      <td>...</td>\n      <td>...</td>\n      <td>...</td>\n      <td>...</td>\n      <td>...</td>\n      <td>...</td>\n      <td>...</td>\n      <td>...</td>\n      <td>...</td>\n      <td>...</td>\n      <td>...</td>\n      <td>...</td>\n    </tr>\n    <tr>\n      <th>94795</th>\n      <td>0.0000193124</td>\n      <td>0.0000341511</td>\n      <td>0.5361069658</td>\n      <td>-1.0751869971</td>\n      <td>0</td>\n      <td>0.0304171580</td>\n      <td>6.4971701731</td>\n      <td>0.9162409079</td>\n      <td>0.1829809175</td>\n      <td>0.0080083314</td>\n      <td>...</td>\n      <td>-0.0681520558</td>\n      <td>-0.1621958451</td>\n      <td>-0.0474233968</td>\n      <td>-0.0389760804</td>\n      <td>-0.0391391438</td>\n      <td>-0.0386078977</td>\n      <td>0.5182669647</td>\n      <td>-0.4286309924</td>\n      <td>-0.3623258772</td>\n      <td>-0.4760216385</td>\n    </tr>\n    <tr>\n      <th>94796</th>\n      <td>0.0000095531</td>\n      <td>0.0000176220</td>\n      <td>-0.1635944978</td>\n      <td>-1.4574385357</td>\n      <td>0</td>\n      <td>0.0459084536</td>\n      <td>4.9966345079</td>\n      <td>0.5786727257</td>\n      <td>0.2948279822</td>\n      <td>0.0631411341</td>\n      <td>...</td>\n      <td>-0.0645357267</td>\n      <td>0.7868904436</td>\n      <td>-0.0233294382</td>\n      <td>-0.0265373921</td>\n      <td>-0.0541397203</td>\n      <td>-0.0435596937</td>\n      <td>0.0824952463</td>\n      <td>-0.2622788949</td>\n      <td>-0.3235501210</td>\n      <td>-0.3168734940</td>\n    </tr>\n    <tr>\n      <th>94797</th>\n      <td>0.0000227052</td>\n      <td>0.0000481315</td>\n      <td>-0.0436118204</td>\n      <td>-1.4405838024</td>\n      <td>0</td>\n      <td>0.0321652868</td>\n      <td>4.6618472815</td>\n      <td>0.7393090507</td>\n      <td>0.2400462396</td>\n      <td>0.0154893447</td>\n      <td>...</td>\n      <td>-0.0483775448</td>\n      <td>-0.0359911096</td>\n      <td>-0.0433258766</td>\n      <td>-0.0277354896</td>\n      <td>-0.0459615931</td>\n      <td>-0.0290532566</td>\n      <td>0.1224518863</td>\n      <td>-0.0494903963</td>\n      <td>-0.2516170308</td>\n      <td>-0.1054150487</td>\n    </tr>\n    <tr>\n      <th>94798</th>\n      <td>0.0000110126</td>\n      <td>0.0000137704</td>\n      <td>-0.8100647658</td>\n      <td>0.5809560081</td>\n      <td>1</td>\n      <td>0.0408644830</td>\n      <td>6.0597693288</td>\n      <td>0.6954300173</td>\n      <td>0.2626535121</td>\n      <td>0.0385050790</td>\n      <td>...</td>\n      <td>-0.0417228132</td>\n      <td>-0.2642298101</td>\n      <td>-0.0459026694</td>\n      <td>-0.0338035521</td>\n      <td>0.0280700579</td>\n      <td>0.0216299207</td>\n      <td>0.0028506032</td>\n      <td>-0.3751471405</td>\n      <td>-0.1219346897</td>\n      <td>-0.0526814614</td>\n    </tr>\n    <tr>\n      <th>94799</th>\n      <td>0.0000126144</td>\n      <td>0.0000232390</td>\n      <td>-0.4070556836</td>\n      <td>-1.2005318935</td>\n      <td>0</td>\n      <td>0.0301053915</td>\n      <td>15.3067981636</td>\n      <td>0.7968987392</td>\n      <td>0.1263581478</td>\n      <td>0.0834744288</td>\n      <td>...</td>\n      <td>-0.0197855841</td>\n      <td>-0.1454915236</td>\n      <td>-0.0291449032</td>\n      <td>-0.0212398973</td>\n      <td>-0.0036585399</td>\n      <td>-0.0022809548</td>\n      <td>-0.0357459447</td>\n      <td>0.5515233859</td>\n      <td>0.2021415761</td>\n      <td>0.6801787776</td>\n    </tr>\n  </tbody>\n</table>\n<p>284878 rows × 132 columns</p>\n</div>"
     },
     "execution_count": 82,
     "metadata": {},
     "output_type": "execute_result"
    }
   ],
   "source": [
    "feat_all"
   ],
   "metadata": {
    "collapsed": false,
    "pycharm": {
     "name": "#%%\n"
    }
   }
  },
  {
   "cell_type": "code",
   "execution_count": 85,
   "outputs": [
    {
     "data": {
      "text/plain": "['EOG1_std',\n 'EOG1_iqr',\n 'EOG1_skew',\n 'EOG1_kurt',\n 'EOG1_nzc',\n 'EOG1_hmob',\n 'EOG1_hcomp',\n 'EOG1_theta',\n 'EOG1_alpha',\n 'EOG1_sigma',\n 'EOG1_beta',\n 'EOG1_gamma',\n 'EOG1_fast',\n 'EOG1_at',\n 'EOG1_gt',\n 'EOG1_ft',\n 'EOG1_ag',\n 'EOG1_af',\n 'EOG1_abspow',\n 'EOG1_perm',\n 'EOG1_higuchi',\n 'EOG1_petrosian',\n 'EOG1_std_cmin_norm',\n 'EOG1_iqr_cmin_norm',\n 'EOG1_skew_cmin_norm',\n 'EOG1_kurt_cmin_norm',\n 'EOG1_nzc_cmin_norm',\n 'EOG1_hmob_cmin_norm',\n 'EOG1_hcomp_cmin_norm',\n 'EOG1_theta_cmin_norm',\n 'EOG1_alpha_cmin_norm',\n 'EOG1_sigma_cmin_norm',\n 'EOG1_beta_cmin_norm',\n 'EOG1_gamma_cmin_norm',\n 'EOG1_fast_cmin_norm',\n 'EOG1_at_cmin_norm',\n 'EOG1_gt_cmin_norm',\n 'EOG1_ft_cmin_norm',\n 'EOG1_ag_cmin_norm',\n 'EOG1_af_cmin_norm',\n 'EOG1_abspow_cmin_norm',\n 'EOG1_perm_cmin_norm',\n 'EOG1_higuchi_cmin_norm',\n 'EOG1_petrosian_cmin_norm',\n 'EOG1_std_pmin_norm',\n 'EOG1_iqr_pmin_norm',\n 'EOG1_skew_pmin_norm',\n 'EOG1_kurt_pmin_norm',\n 'EOG1_nzc_pmin_norm',\n 'EOG1_hmob_pmin_norm',\n 'EOG1_hcomp_pmin_norm',\n 'EOG1_theta_pmin_norm',\n 'EOG1_alpha_pmin_norm',\n 'EOG1_sigma_pmin_norm',\n 'EOG1_beta_pmin_norm',\n 'EOG1_gamma_pmin_norm',\n 'EOG1_fast_pmin_norm',\n 'EOG1_at_pmin_norm',\n 'EOG1_gt_pmin_norm',\n 'EOG1_ft_pmin_norm',\n 'EOG1_ag_pmin_norm',\n 'EOG1_af_pmin_norm',\n 'EOG1_abspow_pmin_norm',\n 'EOG1_perm_pmin_norm',\n 'EOG1_higuchi_pmin_norm',\n 'EOG1_petrosian_pmin_norm',\n 'EOG2_std',\n 'EOG2_iqr',\n 'EOG2_skew',\n 'EOG2_kurt',\n 'EOG2_nzc',\n 'EOG2_hmob',\n 'EOG2_hcomp',\n 'EOG2_theta',\n 'EOG2_alpha',\n 'EOG2_sigma',\n 'EOG2_beta',\n 'EOG2_gamma',\n 'EOG2_fast',\n 'EOG2_at',\n 'EOG2_gt',\n 'EOG2_ft',\n 'EOG2_ag',\n 'EOG2_af',\n 'EOG2_abspow',\n 'EOG2_perm',\n 'EOG2_higuchi',\n 'EOG2_petrosian',\n 'EOG2_std_cmin_norm',\n 'EOG2_iqr_cmin_norm',\n 'EOG2_skew_cmin_norm',\n 'EOG2_kurt_cmin_norm',\n 'EOG2_nzc_cmin_norm',\n 'EOG2_hmob_cmin_norm',\n 'EOG2_hcomp_cmin_norm',\n 'EOG2_theta_cmin_norm',\n 'EOG2_alpha_cmin_norm',\n 'EOG2_sigma_cmin_norm',\n 'EOG2_beta_cmin_norm',\n 'EOG2_gamma_cmin_norm',\n 'EOG2_fast_cmin_norm',\n 'EOG2_at_cmin_norm',\n 'EOG2_gt_cmin_norm',\n 'EOG2_ft_cmin_norm',\n 'EOG2_ag_cmin_norm',\n 'EOG2_af_cmin_norm',\n 'EOG2_abspow_cmin_norm',\n 'EOG2_perm_cmin_norm',\n 'EOG2_higuchi_cmin_norm',\n 'EOG2_petrosian_cmin_norm',\n 'EOG2_std_pmin_norm',\n 'EOG2_iqr_pmin_norm',\n 'EOG2_skew_pmin_norm',\n 'EOG2_kurt_pmin_norm',\n 'EOG2_nzc_pmin_norm',\n 'EOG2_hmob_pmin_norm',\n 'EOG2_hcomp_pmin_norm',\n 'EOG2_theta_pmin_norm',\n 'EOG2_alpha_pmin_norm',\n 'EOG2_sigma_pmin_norm',\n 'EOG2_beta_pmin_norm',\n 'EOG2_gamma_pmin_norm',\n 'EOG2_fast_pmin_norm',\n 'EOG2_at_pmin_norm',\n 'EOG2_gt_pmin_norm',\n 'EOG2_ft_pmin_norm',\n 'EOG2_ag_pmin_norm',\n 'EOG2_af_pmin_norm',\n 'EOG2_abspow_pmin_norm',\n 'EOG2_perm_pmin_norm',\n 'EOG2_higuchi_pmin_norm',\n 'EOG2_petrosian_pmin_norm']"
     },
     "execution_count": 85,
     "metadata": {},
     "output_type": "execute_result"
    }
   ],
   "source": [
    "feat_all.columns.tolist()"
   ],
   "metadata": {
    "collapsed": false,
    "pycharm": {
     "name": "#%%\n"
    }
   }
  },
  {
   "cell_type": "code",
   "execution_count": 105,
   "outputs": [
    {
     "data": {
      "text/plain": "<AxesSubplot:>"
     },
     "execution_count": 105,
     "metadata": {},
     "output_type": "execute_result"
    },
    {
     "data": {
      "text/plain": "<Figure size 432x288 with 1 Axes>",
      "image/png": "[encoded data removed]"
     },
     "metadata": {},
     "output_type": "display_data"
    }
   ],
   "source": [
    "prob = pd.DataFrame(classifiers['LGBM'].predict_proba(X_test))\n",
    "prob[prob[0] < 0.99].sort_values(by=prob.columns[1])[1].hist()\n"
   ],
   "metadata": {
    "collapsed": false,
    "pycharm": {
     "name": "#%%\n"
    }
   }
  },
  {
   "cell_type": "code",
   "execution_count": 110,
   "outputs": [
    {
     "data": {
      "text/plain": "<AxesSubplot:>"
     },
     "execution_count": 110,
     "metadata": {},
     "output_type": "execute_result"
    },
    {
     "data": {
      "text/plain": "<Figure size 432x288 with 1 Axes>",
      "image/png": "[encoded data removed]"
     },
     "metadata": {},
     "output_type": "display_data"
    }
   ],
   "source": [
    "prob[prob[0] < 0.95].sort_values(by=prob.columns[1])[1].hist()"
   ],
   "metadata": {
    "collapsed": false,
    "pycharm": {
     "name": "#%%\n"
    }
   }
  },
  {
   "cell_type": "code",
   "execution_count": 111,
   "outputs": [
    {
     "data": {
      "text/plain": "<AxesSubplot:>"
     },
     "execution_count": 111,
     "metadata": {},
     "output_type": "execute_result"
    },
    {
     "data": {
      "text/plain": "<Figure size 432x288 with 1 Axes>",
      "image/png": "[encoded data removed]"
     },
     "metadata": {},
     "output_type": "display_data"
    }
   ],
   "source": [
    "prob[prob[0] < 0.5].sort_values(by=prob.columns[1])[1].hist()\n"
   ],
   "metadata": {
    "collapsed": false,
    "pycharm": {
     "name": "#%%\n"
    }
   }
  },
  {
   "cell_type": "code",
   "execution_count": 120,
   "outputs": [
    {
     "data": {
      "text/plain": "                  0             1\n1653   0.1950729533  0.8049270467\n4802   0.0670808524  0.9329191476\n5823   0.0859042207  0.9140957793\n6788   0.1551129379  0.8448870621\n7550   0.1904161691  0.8095838309\n9034   0.0887498460  0.9112501540\n9401   0.1882604851  0.8117395149\n9648   0.1769513408  0.8230486592\n9986   0.1265502009  0.8734497991\n10115  0.1470840943  0.8529159057\n11352  0.0907122083  0.9092877917\n12206  0.1588110258  0.8411889742\n12735  0.1243360919  0.8756639081\n12788  0.0894448225  0.9105551775\n15340  0.1281515214  0.8718484786\n16185  0.1401357770  0.8598642230\n16783  0.1634365028  0.8365634972\n19376  0.1070522191  0.8929477809\n21583  0.1733780221  0.8266219779\n22178  0.1217625577  0.8782374423",
      "text/html": "<div>\n<style scoped>\n    .dataframe tbody tr th:only-of-type {\n        vertical-align: middle;\n    }\n\n    .dataframe tbody tr th {\n        vertical-align: top;\n    }\n\n    .dataframe thead th {\n        text-align: right;\n    }\n</style>\n<table border=\"1\" class=\"dataframe\">\n  <thead>\n    <tr style=\"text-align: right;\">\n      <th></th>\n      <th>0</th>\n      <th>1</th>\n    </tr>\n  </thead>\n  <tbody>\n    <tr>\n      <th>1653</th>\n      <td>0.1950729533</td>\n      <td>0.8049270467</td>\n    </tr>\n    <tr>\n      <th>4802</th>\n      <td>0.0670808524</td>\n      <td>0.9329191476</td>\n    </tr>\n    <tr>\n      <th>5823</th>\n      <td>0.0859042207</td>\n      <td>0.9140957793</td>\n    </tr>\n    <tr>\n      <th>6788</th>\n      <td>0.1551129379</td>\n      <td>0.8448870621</td>\n    </tr>\n    <tr>\n      <th>7550</th>\n      <td>0.1904161691</td>\n      <td>0.8095838309</td>\n    </tr>\n    <tr>\n      <th>9034</th>\n      <td>0.0887498460</td>\n      <td>0.9112501540</td>\n    </tr>\n    <tr>\n      <th>9401</th>\n      <td>0.1882604851</td>\n      <td>0.8117395149</td>\n    </tr>\n    <tr>\n      <th>9648</th>\n      <td>0.1769513408</td>\n      <td>0.8230486592</td>\n    </tr>\n    <tr>\n      <th>9986</th>\n      <td>0.1265502009</td>\n      <td>0.8734497991</td>\n    </tr>\n    <tr>\n      <th>10115</th>\n      <td>0.1470840943</td>\n      <td>0.8529159057</td>\n    </tr>\n    <tr>\n      <th>11352</th>\n      <td>0.0907122083</td>\n      <td>0.9092877917</td>\n    </tr>\n    <tr>\n      <th>12206</th>\n      <td>0.1588110258</td>\n      <td>0.8411889742</td>\n    </tr>\n    <tr>\n      <th>12735</th>\n      <td>0.1243360919</td>\n      <td>0.8756639081</td>\n    </tr>\n    <tr>\n      <th>12788</th>\n      <td>0.0894448225</td>\n      <td>0.9105551775</td>\n    </tr>\n    <tr>\n      <th>15340</th>\n      <td>0.1281515214</td>\n      <td>0.8718484786</td>\n    </tr>\n    <tr>\n      <th>16185</th>\n      <td>0.1401357770</td>\n      <td>0.8598642230</td>\n    </tr>\n    <tr>\n      <th>16783</th>\n      <td>0.1634365028</td>\n      <td>0.8365634972</td>\n    </tr>\n    <tr>\n      <th>19376</th>\n      <td>0.1070522191</td>\n      <td>0.8929477809</td>\n    </tr>\n    <tr>\n      <th>21583</th>\n      <td>0.1733780221</td>\n      <td>0.8266219779</td>\n    </tr>\n    <tr>\n      <th>22178</th>\n      <td>0.1217625577</td>\n      <td>0.8782374423</td>\n    </tr>\n  </tbody>\n</table>\n</div>"
     },
     "execution_count": 120,
     "metadata": {},
     "output_type": "execute_result"
    }
   ],
   "source": [
    "prob[prob[1] > 0.8]"
   ],
   "metadata": {
    "collapsed": false,
    "pycharm": {
     "name": "#%%\n"
    }
   }
  },
  {
   "cell_type": "code",
   "execution_count": 119,
   "outputs": [
    {
     "data": {
      "text/plain": "          0             1             2             3             4      \\\n0  0.9792334993  0.9899814096  0.9936363417  0.9986918195  0.9736285091   \n1  0.0207665007  0.0100185904  0.0063636583  0.0013081805  0.0263714909   \n\n          5             6             7             8             9      ...  \\\n0  0.9809770185  0.9960767873  0.9949168869  0.9984067273  0.9906943782  ...   \n1  0.0190229815  0.0039232127  0.0050831131  0.0015932727  0.0093056218  ...   \n\n          23690         23691         23692         23693         23694  \\\n0  0.9841846373  0.9838004667  0.9920176636  0.9975607981  0.9964100873   \n1  0.0158153627  0.0161995333  0.0079823364  0.0024392019  0.0035899127   \n\n          23695         23696         23697         23698        23699  \n0  0.9931237007  0.9890348297  0.9919490099  0.9973101149  0.991546077  \n1  0.0068762993  0.0109651703  0.0080509901  0.0026898851  0.008453923  \n\n[2 rows x 23700 columns]",
      "text/html": "<div>\n<style scoped>\n    .dataframe tbody tr th:only-of-type {\n        vertical-align: middle;\n    }\n\n    .dataframe tbody tr th {\n        vertical-align: top;\n    }\n\n    .dataframe thead th {\n        text-align: right;\n    }\n</style>\n<table border=\"1\" class=\"dataframe\">\n  <thead>\n    <tr style=\"text-align: right;\">\n      <th></th>\n      <th>0</th>\n      <th>1</th>\n      <th>2</th>\n      <th>3</th>\n      <th>4</th>\n      <th>5</th>\n      <th>6</th>\n      <th>7</th>\n      <th>8</th>\n      <th>9</th>\n      <th>...</th>\n      <th>23690</th>\n      <th>23691</th>\n      <th>23692</th>\n      <th>23693</th>\n      <th>23694</th>\n      <th>23695</th>\n      <th>23696</th>\n      <th>23697</th>\n      <th>23698</th>\n      <th>23699</th>\n    </tr>\n  </thead>\n  <tbody>\n    <tr>\n      <th>0</th>\n      <td>0.9792334993</td>\n      <td>0.9899814096</td>\n      <td>0.9936363417</td>\n      <td>0.9986918195</td>\n      <td>0.9736285091</td>\n      <td>0.9809770185</td>\n      <td>0.9960767873</td>\n      <td>0.9949168869</td>\n      <td>0.9984067273</td>\n      <td>0.9906943782</td>\n      <td>...</td>\n      <td>0.9841846373</td>\n      <td>0.9838004667</td>\n      <td>0.9920176636</td>\n      <td>0.9975607981</td>\n      <td>0.9964100873</td>\n      <td>0.9931237007</td>\n      <td>0.9890348297</td>\n      <td>0.9919490099</td>\n      <td>0.9973101149</td>\n      <td>0.991546077</td>\n    </tr>\n    <tr>\n      <th>1</th>\n      <td>0.0207665007</td>\n      <td>0.0100185904</td>\n      <td>0.0063636583</td>\n      <td>0.0013081805</td>\n      <td>0.0263714909</td>\n      <td>0.0190229815</td>\n      <td>0.0039232127</td>\n      <td>0.0050831131</td>\n      <td>0.0015932727</td>\n      <td>0.0093056218</td>\n      <td>...</td>\n      <td>0.0158153627</td>\n      <td>0.0161995333</td>\n      <td>0.0079823364</td>\n      <td>0.0024392019</td>\n      <td>0.0035899127</td>\n      <td>0.0068762993</td>\n      <td>0.0109651703</td>\n      <td>0.0080509901</td>\n      <td>0.0026898851</td>\n      <td>0.008453923</td>\n    </tr>\n  </tbody>\n</table>\n<p>2 rows × 23700 columns</p>\n</div>"
     },
     "execution_count": 119,
     "metadata": {},
     "output_type": "execute_result"
    }
   ],
   "source": [
    "prob.T"
   ],
   "metadata": {
    "collapsed": false,
    "pycharm": {
     "name": "#%%\n"
    }
   }
  },
  {
   "cell_type": "code",
   "execution_count": 131,
   "outputs": [
    {
     "data": {
      "text/plain": "<sklearn.metrics._plot.confusion_matrix.ConfusionMatrixDisplay at 0x12d54ac10>"
     },
     "execution_count": 131,
     "metadata": {},
     "output_type": "execute_result"
    },
    {
     "data": {
      "text/plain": "<Figure size 432x288 with 2 Axes>",
      "image/png": "[encoded data removed]"
     },
     "metadata": {},
     "output_type": "display_data"
    }
   ],
   "source": [
    "cf_matrix = confusion_matrix(y_test, [p > 0.80 for p in prob[1]])\n",
    "disp = ConfusionMatrixDisplay(cf_matrix)\n",
    "disp.plot()"
   ],
   "metadata": {
    "collapsed": false,
    "pycharm": {
     "name": "#%%\n"
    }
   }
  },
  {
   "cell_type": "code",
   "execution_count": 146,
   "outputs": [
    {
     "data": {
      "text/plain": "                  0             1\n0      0.9792334993  0.0207665007\n1      0.9899814096  0.0100185904\n2      0.9936363417  0.0063636583\n3      0.9986918195  0.0013081805\n4      0.9736285091  0.0263714909\n...             ...           ...\n23695  0.9931237007  0.0068762993\n23696  0.9890348297  0.0109651703\n23697  0.9919490099  0.0080509901\n23698  0.9973101149  0.0026898851\n23699  0.9915460770  0.0084539230\n\n[23700 rows x 2 columns]",
      "text/html": "<div>\n<style scoped>\n    .dataframe tbody tr th:only-of-type {\n        vertical-align: middle;\n    }\n\n    .dataframe tbody tr th {\n        vertical-align: top;\n    }\n\n    .dataframe thead th {\n        text-align: right;\n    }\n</style>\n<table border=\"1\" class=\"dataframe\">\n  <thead>\n    <tr style=\"text-align: right;\">\n      <th></th>\n      <th>0</th>\n      <th>1</th>\n    </tr>\n  </thead>\n  <tbody>\n    <tr>\n      <th>0</th>\n      <td>0.9792334993</td>\n      <td>0.0207665007</td>\n    </tr>\n    <tr>\n      <th>1</th>\n      <td>0.9899814096</td>\n      <td>0.0100185904</td>\n    </tr>\n    <tr>\n      <th>2</th>\n      <td>0.9936363417</td>\n      <td>0.0063636583</td>\n    </tr>\n    <tr>\n      <th>3</th>\n      <td>0.9986918195</td>\n      <td>0.0013081805</td>\n    </tr>\n    <tr>\n      <th>4</th>\n      <td>0.9736285091</td>\n      <td>0.0263714909</td>\n    </tr>\n    <tr>\n      <th>...</th>\n      <td>...</td>\n      <td>...</td>\n    </tr>\n    <tr>\n      <th>23695</th>\n      <td>0.9931237007</td>\n      <td>0.0068762993</td>\n    </tr>\n    <tr>\n      <th>23696</th>\n      <td>0.9890348297</td>\n      <td>0.0109651703</td>\n    </tr>\n    <tr>\n      <th>23697</th>\n      <td>0.9919490099</td>\n      <td>0.0080509901</td>\n    </tr>\n    <tr>\n      <th>23698</th>\n      <td>0.9973101149</td>\n      <td>0.0026898851</td>\n    </tr>\n    <tr>\n      <th>23699</th>\n      <td>0.9915460770</td>\n      <td>0.0084539230</td>\n    </tr>\n  </tbody>\n</table>\n<p>23700 rows × 2 columns</p>\n</div>"
     },
     "execution_count": 146,
     "metadata": {},
     "output_type": "execute_result"
    }
   ],
   "source": [
    "prob = pd.DataFrame(classifiers['LGBM'].predict_proba(X_test))\n",
    "prob"
   ],
   "metadata": {
    "collapsed": false,
    "pycharm": {
     "name": "#%%\n"
    }
   }
  },
  {
   "cell_type": "code",
   "execution_count": 155,
   "outputs": [
    {
     "name": "stdout",
     "output_type": "stream",
     "text": [
      "Extracting EDF parameters from /Users/rotemfalach/Documents/University/lab/EDFs_forRotem/P402_overnightData.edf...\n",
      "EDF file detected\n",
      "Setting channel info structure...\n",
      "Creating raw.info structure...\n"
     ]
    },
    {
     "name": "stderr",
     "output_type": "stream",
     "text": [
      "/Users/rotemfalach/projects/venv/mmf_to_edf/lib/python3.7/site-packages/scipy/signal/spectral.py:1963: UserWarning: nperseg = 256 is greater than input length  = 250, using nperseg = 250\n",
      "  .format(nperseg, input_length))\n"
     ]
    },
    {
     "data": {
      "text/plain": "array([[2.18813728e-01, 9.99933836e-01, 9.99989763e-01, ...,\n        9.99991090e-01, 9.99994772e-01, 9.99989886e-01],\n       [7.81186272e-01, 6.61644644e-05, 1.02367510e-05, ...,\n        8.90995923e-06, 5.22826589e-06, 1.01144647e-05]])"
     },
     "execution_count": 155,
     "metadata": {},
     "output_type": "execute_result"
    }
   ],
   "source": [
    "subj = '402'\n",
    "x_right = format_raw_night(f'/Users/rotemfalach/Documents/University/lab/EDFs_forRotem/P{subj}_overnightData.edf', 'SEEG RAH1-REF')\n",
    "feat_right = calc_features(x_right)\n",
    "y_right_prob = jl_model.predict_proba(feat_right[features_names[1:]]).T\n",
    "y_right = [p > 0.85 for p in y_right_prob[1]]\n",
    "y_right_prob\n",
    "# x_left = format_raw_night(f'/Users/rotemfalach/Documents/University/lab/EDFs_forRotem/P{subj}_overnightData.edf', 'SEEG LAH1-REF')\n",
    "# feat_left = calc_features(x_left)\n",
    "# y_left_prob = jl_model.predict_proba(feat_left[features_names[1:]])\n",
    "# y_left = [p > 0.85 for p in y_left_prob[1]]\n",
    "# y_all = y_right + y_left\n",
    "# y_all[y_all == 2] = 1"
   ],
   "metadata": {
    "collapsed": false,
    "pycharm": {
     "name": "#%%\n"
    }
   }
  },
  {
   "cell_type": "code",
   "execution_count": 160,
   "outputs": [
    {
     "data": {
      "text/plain": "          0             1             2             3             4      \\\n0  0.2188137285  0.9999338355  0.9999897632  0.9999849408  0.9999404316   \n1  0.7811862715  0.0000661645  0.0000102368  0.0000150592  0.0000595684   \n\n          5             6            7             8             9      ...  \\\n0  0.0214208952  0.9984924322  0.999990501  0.9999800273  0.9999361217  ...   \n1  0.9785791048  0.0015075678  0.000009499  0.0000199727  0.0000638783  ...   \n\n          95029         95030         95031        95032         95033  \\\n0  0.9999963685  0.9999946405  0.9999959739  0.999979633  0.9994005297   \n1  0.0000036315  0.0000053595  0.0000040261  0.000020367  0.0005994703   \n\n         95034         95035       95036         95037         95038  \n0  0.999982399  0.9999612036  0.99999109  0.9999947717  0.9999898855  \n1  0.000017601  0.0000387964  0.00000891  0.0000052283  0.0000101145  \n\n[2 rows x 95039 columns]",
      "text/html": "<div>\n<style scoped>\n    .dataframe tbody tr th:only-of-type {\n        vertical-align: middle;\n    }\n\n    .dataframe tbody tr th {\n        vertical-align: top;\n    }\n\n    .dataframe thead th {\n        text-align: right;\n    }\n</style>\n<table border=\"1\" class=\"dataframe\">\n  <thead>\n    <tr style=\"text-align: right;\">\n      <th></th>\n      <th>0</th>\n      <th>1</th>\n      <th>2</th>\n      <th>3</th>\n      <th>4</th>\n      <th>5</th>\n      <th>6</th>\n      <th>7</th>\n      <th>8</th>\n      <th>9</th>\n      <th>...</th>\n      <th>95029</th>\n      <th>95030</th>\n      <th>95031</th>\n      <th>95032</th>\n      <th>95033</th>\n      <th>95034</th>\n      <th>95035</th>\n      <th>95036</th>\n      <th>95037</th>\n      <th>95038</th>\n    </tr>\n  </thead>\n  <tbody>\n    <tr>\n      <th>0</th>\n      <td>0.2188137285</td>\n      <td>0.9999338355</td>\n      <td>0.9999897632</td>\n      <td>0.9999849408</td>\n      <td>0.9999404316</td>\n      <td>0.0214208952</td>\n      <td>0.9984924322</td>\n      <td>0.999990501</td>\n      <td>0.9999800273</td>\n      <td>0.9999361217</td>\n      <td>...</td>\n      <td>0.9999963685</td>\n      <td>0.9999946405</td>\n      <td>0.9999959739</td>\n      <td>0.999979633</td>\n      <td>0.9994005297</td>\n      <td>0.999982399</td>\n      <td>0.9999612036</td>\n      <td>0.99999109</td>\n      <td>0.9999947717</td>\n      <td>0.9999898855</td>\n    </tr>\n    <tr>\n      <th>1</th>\n      <td>0.7811862715</td>\n      <td>0.0000661645</td>\n      <td>0.0000102368</td>\n      <td>0.0000150592</td>\n      <td>0.0000595684</td>\n      <td>0.9785791048</td>\n      <td>0.0015075678</td>\n      <td>0.000009499</td>\n      <td>0.0000199727</td>\n      <td>0.0000638783</td>\n      <td>...</td>\n      <td>0.0000036315</td>\n      <td>0.0000053595</td>\n      <td>0.0000040261</td>\n      <td>0.000020367</td>\n      <td>0.0005994703</td>\n      <td>0.000017601</td>\n      <td>0.0000387964</td>\n      <td>0.00000891</td>\n      <td>0.0000052283</td>\n      <td>0.0000101145</td>\n    </tr>\n  </tbody>\n</table>\n<p>2 rows × 95039 columns</p>\n</div>"
     },
     "execution_count": 160,
     "metadata": {},
     "output_type": "execute_result"
    }
   ],
   "source": [
    "pd.DataFrame(y_right_prob)"
   ],
   "metadata": {
    "collapsed": false,
    "pycharm": {
     "name": "#%%\n"
    }
   }
  },
  {
   "cell_type": "code",
   "execution_count": 161,
   "outputs": [],
   "source": [
    "y_right = [p > 0.85 for p in y_right_prob[1]]"
   ],
   "metadata": {
    "collapsed": false,
    "pycharm": {
     "name": "#%%\n"
    }
   }
  },
  {
   "cell_type": "code",
   "execution_count": 162,
   "outputs": [
    {
     "data": {
      "text/plain": "[False,\n False,\n False,\n False,\n False,\n True,\n False,\n False,\n False,\n False,\n False,\n False,\n False,\n False,\n False,\n False,\n False,\n False,\n False,\n False,\n False,\n False,\n False,\n False,\n False,\n False,\n False,\n False,\n False,\n False,\n False,\n False,\n False,\n False,\n False,\n False,\n False,\n False,\n False,\n False,\n False,\n False,\n False,\n False,\n True,\n False,\n False,\n False,\n False,\n False,\n False,\n False,\n False,\n False,\n False,\n False,\n False,\n False,\n False,\n False,\n False,\n False,\n False,\n False,\n False,\n False,\n False,\n False,\n False,\n False,\n False,\n False,\n False,\n False,\n False,\n False,\n False,\n False,\n False,\n False,\n False,\n False,\n False,\n False,\n False,\n False,\n False,\n False,\n False,\n False,\n False,\n False,\n False,\n False,\n False,\n False,\n False,\n False,\n False,\n False,\n False,\n False,\n False,\n False,\n False,\n False,\n False,\n False,\n False,\n False,\n False,\n False,\n False,\n True,\n False,\n False,\n False,\n False,\n False,\n False,\n False,\n False,\n False,\n False,\n False,\n False,\n False,\n False,\n False,\n False,\n False,\n False,\n False,\n False,\n False,\n False,\n False,\n False,\n False,\n False,\n True,\n False,\n False,\n False,\n False,\n False,\n False,\n False,\n False,\n False,\n False,\n False,\n False,\n False,\n False,\n False,\n False,\n False,\n False,\n False,\n False,\n False,\n False,\n False,\n False,\n False,\n False,\n False,\n False,\n False,\n False,\n False,\n False,\n False,\n False,\n False,\n False,\n False,\n False,\n False,\n False,\n False,\n False,\n False,\n False,\n False,\n False,\n False,\n False,\n False,\n False,\n False,\n False,\n False,\n False,\n False,\n False,\n False,\n False,\n False,\n False,\n False,\n False,\n False,\n False,\n False,\n False,\n False,\n False,\n False,\n False,\n False,\n False,\n False,\n False,\n False,\n False,\n False,\n False,\n False,\n False,\n False,\n False,\n False,\n False,\n False,\n False,\n False,\n False,\n False,\n False,\n False,\n False,\n False,\n False,\n False,\n False,\n False,\n False,\n False,\n False,\n False,\n False,\n False,\n False,\n False,\n False,\n False,\n False,\n False,\n False,\n False,\n False,\n False,\n False,\n False,\n False,\n False,\n False,\n False,\n False,\n False,\n False,\n False,\n False,\n False,\n False,\n False,\n False,\n False,\n False,\n False,\n False,\n False,\n False,\n False,\n False,\n False,\n False,\n False,\n False,\n False,\n False,\n False,\n False,\n False,\n False,\n False,\n False,\n False,\n False,\n False,\n False,\n False,\n False,\n False,\n False,\n False,\n False,\n False,\n False,\n False,\n False,\n False,\n False,\n False,\n False,\n False,\n False,\n False,\n False,\n False,\n False,\n False,\n False,\n False,\n False,\n False,\n False,\n False,\n False,\n False,\n False,\n False,\n False,\n False,\n False,\n False,\n False,\n False,\n False,\n False,\n False,\n False,\n False,\n False,\n False,\n False,\n False,\n False,\n False,\n False,\n False,\n False,\n False,\n False,\n False,\n False,\n False,\n False,\n False,\n False,\n False,\n False,\n False,\n False,\n False,\n False,\n False,\n False,\n False,\n False,\n True,\n False,\n False,\n False,\n False,\n False,\n False,\n False,\n False,\n False,\n False,\n False,\n False,\n False,\n False,\n False,\n False,\n False,\n False,\n False,\n False,\n False,\n False,\n False,\n False,\n False,\n False,\n False,\n False,\n False,\n False,\n False,\n False,\n False,\n False,\n False,\n False,\n False,\n False,\n False,\n False,\n False,\n False,\n False,\n False,\n False,\n False,\n False,\n False,\n False,\n False,\n False,\n False,\n False,\n False,\n False,\n False,\n True,\n False,\n False,\n False,\n False,\n False,\n False,\n False,\n False,\n False,\n False,\n False,\n False,\n False,\n False,\n False,\n False,\n False,\n False,\n False,\n False,\n False,\n False,\n False,\n False,\n False,\n False,\n False,\n False,\n False,\n False,\n False,\n False,\n False,\n False,\n False,\n False,\n False,\n False,\n False,\n False,\n False,\n False,\n False,\n False,\n False,\n False,\n False,\n False,\n False,\n False,\n False,\n False,\n False,\n False,\n False,\n False,\n False,\n False,\n False,\n False,\n False,\n False,\n False,\n False,\n False,\n False,\n False,\n False,\n False,\n False,\n False,\n False,\n False,\n False,\n False,\n False,\n False,\n False,\n False,\n False,\n False,\n False,\n False,\n False,\n False,\n False,\n False,\n False,\n False,\n False,\n False,\n False,\n False,\n False,\n False,\n False,\n False,\n False,\n False,\n False,\n False,\n False,\n False,\n False,\n False,\n False,\n False,\n False,\n False,\n False,\n False,\n False,\n False,\n False,\n False,\n False,\n False,\n False,\n False,\n False,\n False,\n False,\n False,\n False,\n False,\n False,\n False,\n False,\n False,\n False,\n False,\n False,\n False,\n False,\n False,\n False,\n False,\n False,\n False,\n False,\n False,\n False,\n False,\n False,\n False,\n False,\n False,\n False,\n False,\n False,\n False,\n False,\n False,\n False,\n False,\n False,\n False,\n False,\n False,\n False,\n False,\n False,\n False,\n False,\n False,\n False,\n False,\n False,\n False,\n False,\n False,\n False,\n False,\n False,\n False,\n False,\n False,\n False,\n False,\n False,\n False,\n False,\n False,\n False,\n False,\n False,\n False,\n False,\n False,\n False,\n False,\n False,\n False,\n False,\n False,\n False,\n False,\n False,\n False,\n False,\n False,\n False,\n False,\n False,\n False,\n False,\n False,\n False,\n False,\n False,\n False,\n False,\n False,\n False,\n False,\n False,\n False,\n False,\n False,\n False,\n False,\n False,\n False,\n False,\n False,\n False,\n False,\n False,\n False,\n False,\n False,\n False,\n False,\n False,\n False,\n False,\n False,\n False,\n False,\n False,\n False,\n False,\n False,\n False,\n False,\n False,\n False,\n False,\n False,\n False,\n False,\n False,\n False,\n False,\n False,\n False,\n False,\n False,\n False,\n False,\n False,\n False,\n False,\n False,\n False,\n False,\n False,\n False,\n False,\n False,\n False,\n False,\n False,\n False,\n False,\n False,\n False,\n False,\n False,\n False,\n False,\n False,\n False,\n False,\n False,\n False,\n False,\n False,\n False,\n False,\n False,\n False,\n False,\n False,\n False,\n False,\n False,\n False,\n False,\n False,\n False,\n False,\n False,\n False,\n False,\n False,\n False,\n False,\n False,\n False,\n False,\n False,\n False,\n False,\n False,\n False,\n False,\n False,\n False,\n False,\n False,\n False,\n False,\n False,\n False,\n False,\n False,\n False,\n False,\n False,\n False,\n False,\n False,\n False,\n False,\n False,\n False,\n False,\n False,\n False,\n False,\n False,\n False,\n False,\n False,\n False,\n False,\n False,\n False,\n False,\n False,\n False,\n False,\n False,\n False,\n False,\n False,\n False,\n False,\n False,\n False,\n False,\n False,\n False,\n False,\n False,\n False,\n False,\n False,\n False,\n False,\n False,\n False,\n False,\n False,\n False,\n False,\n False,\n False,\n False,\n False,\n False,\n False,\n False,\n False,\n False,\n False,\n False,\n False,\n False,\n False,\n False,\n False,\n False,\n False,\n False,\n False,\n False,\n False,\n False,\n False,\n False,\n False,\n False,\n False,\n False,\n False,\n False,\n False,\n False,\n False,\n False,\n False,\n False,\n False,\n False,\n False,\n False,\n False,\n False,\n False,\n False,\n False,\n False,\n False,\n False,\n False,\n False,\n False,\n False,\n False,\n False,\n False,\n False,\n False,\n False,\n False,\n False,\n False,\n False,\n False,\n False,\n False,\n False,\n False,\n False,\n False,\n False,\n False,\n False,\n False,\n False,\n False,\n False,\n False,\n False,\n False,\n False,\n False,\n False,\n False,\n False,\n False,\n False,\n False,\n False,\n False,\n False,\n False,\n False,\n False,\n False,\n False,\n False,\n False,\n False,\n False,\n False,\n False,\n False,\n False,\n False,\n False,\n False,\n False,\n False,\n False,\n False,\n False,\n False,\n False,\n False,\n False,\n False,\n False,\n False,\n False,\n False,\n False,\n False,\n False,\n False,\n False,\n False,\n False,\n False,\n False,\n False,\n False,\n False,\n False,\n False,\n False,\n False,\n False,\n False,\n False,\n False,\n False,\n False,\n False,\n False,\n False,\n False,\n False,\n False,\n False,\n False,\n False,\n False,\n False,\n False,\n False,\n False,\n False,\n False,\n False,\n False,\n False,\n False,\n False,\n False,\n False,\n False,\n False,\n False,\n False,\n False,\n False,\n False,\n False,\n False,\n False,\n False,\n False,\n False,\n False,\n False,\n False,\n False,\n False,\n False,\n False,\n False,\n False,\n False,\n False,\n False,\n False,\n False,\n False,\n False,\n False,\n False,\n False,\n False,\n False,\n False,\n False,\n False,\n ...]"
     },
     "execution_count": 162,
     "metadata": {},
     "output_type": "execute_result"
    }
   ],
   "source": [
    "y_right"
   ],
   "metadata": {
    "collapsed": false,
    "pycharm": {
     "name": "#%%\n"
    }
   }
  },
  {
   "cell_type": "code",
   "execution_count": 154,
   "outputs": [
    {
     "data": {
      "text/plain": "array([0.21881373, 0.78118627])"
     },
     "execution_count": 154,
     "metadata": {},
     "output_type": "execute_result"
    }
   ],
   "source": [
    "y_right_prob[]"
   ],
   "metadata": {
    "collapsed": false,
    "pycharm": {
     "name": "#%%\n"
    }
   }
  },
  {
   "cell_type": "code",
   "execution_count": 170,
   "outputs": [
    {
     "name": "stdout",
     "output_type": "stream",
     "text": [
      "Reading EGI MFF Header from /Users/rotemfalach/Downloads/MG4_sleep2_20190503_125004.mff...\n",
      "    Reading events ...\n",
      "    Assembling measurement info ...\n",
      "    Synthesizing trigger channel \"STI 014\" ...\n",
      "    Excluding events {} ...\n"
     ]
    },
    {
     "name": "stderr",
     "output_type": "stream",
     "text": [
      "<ipython-input-170-32665a3a045f>:1: RuntimeWarning: Did not find any event code with more than one event.\n",
      "  health_raw = mne.io.read_raw_egi('/Users/rotemfalach/Downloads/MG4_sleep2_20190503_125004.mff')\n"
     ]
    },
    {
     "ename": "AttributeError",
     "evalue": "'RawMff' object has no attribute 'chan'",
     "output_type": "error",
     "traceback": [
      "\u001B[0;31m---------------------------------------------------------------------------\u001B[0m",
      "\u001B[0;31mAttributeError\u001B[0m                            Traceback (most recent call last)",
      "\u001B[0;32m<ipython-input-170-32665a3a045f>\u001B[0m in \u001B[0;36m<module>\u001B[0;34m\u001B[0m\n\u001B[1;32m      1\u001B[0m \u001B[0mhealth_raw\u001B[0m \u001B[0;34m=\u001B[0m \u001B[0mmne\u001B[0m\u001B[0;34m.\u001B[0m\u001B[0mio\u001B[0m\u001B[0;34m.\u001B[0m\u001B[0mread_raw_egi\u001B[0m\u001B[0;34m(\u001B[0m\u001B[0;34m'/Users/rotemfalach/Downloads/MG4_sleep2_20190503_125004.mff'\u001B[0m\u001B[0;34m)\u001B[0m\u001B[0;34m\u001B[0m\u001B[0;34m\u001B[0m\u001B[0m\n\u001B[0;32m----> 2\u001B[0;31m \u001B[0mhealth_raw\u001B[0m\u001B[0;34m.\u001B[0m\u001B[0mchan\u001B[0m\u001B[0;34m\u001B[0m\u001B[0;34m\u001B[0m\u001B[0m\n\u001B[0m",
      "\u001B[0;31mAttributeError\u001B[0m: 'RawMff' object has no attribute 'chan'"
     ]
    }
   ],
   "source": [
    "health_raw = mne.io.read_raw_egi('/Users/rotemfalach/Downloads/MG4_sleep2_20190503_125004.mff')\n"
   ],
   "metadata": {
    "collapsed": false,
    "pycharm": {
     "name": "#%%\n"
    }
   }
  },
  {
   "cell_type": "code",
   "execution_count": 174,
   "outputs": [
    {
     "data": {
      "text/plain": "['E1',\n 'E2',\n 'E3',\n 'E4',\n 'E5',\n 'E6',\n 'E7',\n 'E8',\n 'E9',\n 'E10',\n 'E11',\n 'E12',\n 'E13',\n 'E14',\n 'E15',\n 'E16',\n 'E17',\n 'E18',\n 'E19',\n 'E20',\n 'E21',\n 'E22',\n 'E23',\n 'E24',\n 'E25',\n 'E26',\n 'E27',\n 'E28',\n 'E29',\n 'E30',\n 'E31',\n 'E32',\n 'E33',\n 'E34',\n 'E35',\n 'E36',\n 'E37',\n 'E38',\n 'E39',\n 'E40',\n 'E41',\n 'E42',\n 'E43',\n 'E44',\n 'E45',\n 'E46',\n 'E47',\n 'E48',\n 'E49',\n 'E50',\n 'E51',\n 'E52',\n 'E53',\n 'E54',\n 'E55',\n 'E56',\n 'E57',\n 'E58',\n 'E59',\n 'E60',\n 'E61',\n 'E62',\n 'E63',\n 'E64',\n 'E65',\n 'E66',\n 'E67',\n 'E68',\n 'E69',\n 'E70',\n 'E71',\n 'E72',\n 'E73',\n 'E74',\n 'E75',\n 'E76',\n 'E77',\n 'E78',\n 'E79',\n 'E80',\n 'E81',\n 'E82',\n 'E83',\n 'E84',\n 'E85',\n 'E86',\n 'E87',\n 'E88',\n 'E89',\n 'E90',\n 'E91',\n 'E92',\n 'E93',\n 'E94',\n 'E95',\n 'E96',\n 'E97',\n 'E98',\n 'E99',\n 'E100',\n 'E101',\n 'E102',\n 'E103',\n 'E104',\n 'E105',\n 'E106',\n 'E107',\n 'E108',\n 'E109',\n 'E110',\n 'E111',\n 'E112',\n 'E113',\n 'E114',\n 'E115',\n 'E116',\n 'E117',\n 'E118',\n 'E119',\n 'E120',\n 'E121',\n 'E122',\n 'E123',\n 'E124',\n 'E125',\n 'E126',\n 'E127',\n 'E128',\n 'E129',\n 'E130',\n 'E131',\n 'E132',\n 'E133',\n 'E134',\n 'E135',\n 'E136',\n 'E137',\n 'E138',\n 'E139',\n 'E140',\n 'E141',\n 'E142',\n 'E143',\n 'E144',\n 'E145',\n 'E146',\n 'E147',\n 'E148',\n 'E149',\n 'E150',\n 'E151',\n 'E152',\n 'E153',\n 'E154',\n 'E155',\n 'E156',\n 'E157',\n 'E158',\n 'E159',\n 'E160',\n 'E161',\n 'E162',\n 'E163',\n 'E164',\n 'E165',\n 'E166',\n 'E167',\n 'E168',\n 'E169',\n 'E170',\n 'E171',\n 'E172',\n 'E173',\n 'E174',\n 'E175',\n 'E176',\n 'E177',\n 'E178',\n 'E179',\n 'E180',\n 'E181',\n 'E182',\n 'E183',\n 'E184',\n 'E185',\n 'E186',\n 'E187',\n 'E188',\n 'E189',\n 'E190',\n 'E191',\n 'E192',\n 'E193',\n 'E194',\n 'E195',\n 'E196',\n 'E197',\n 'E198',\n 'E199',\n 'E200',\n 'E201',\n 'E202',\n 'E203',\n 'E204',\n 'E205',\n 'E206',\n 'E207',\n 'E208',\n 'E209',\n 'E210',\n 'E211',\n 'E212',\n 'E213',\n 'E214',\n 'E215',\n 'E216',\n 'E217',\n 'E218',\n 'E219',\n 'E220',\n 'E221',\n 'E222',\n 'E223',\n 'E224',\n 'E225',\n 'E226',\n 'E227',\n 'E228',\n 'E229',\n 'E230',\n 'E231',\n 'E232',\n 'E233',\n 'E234',\n 'E235',\n 'E236',\n 'E237',\n 'E238',\n 'E239',\n 'E240',\n 'E241',\n 'E242',\n 'E243',\n 'E244',\n 'E245',\n 'E246',\n 'E247',\n 'E248',\n 'E249',\n 'E250',\n 'E251',\n 'E252',\n 'E253',\n 'E254',\n 'E255',\n 'E256',\n 'E257',\n 'net',\n 'STI 014',\n 'Airflow',\n 'Snore',\n 'SPO2',\n 'Body.Position',\n 'Chest Belt',\n 'Abdomen Belt',\n 'Pleth']"
     },
     "execution_count": 174,
     "metadata": {},
     "output_type": "execute_result"
    }
   ],
   "source": [
    "health_raw.info['ch_names']"
   ],
   "metadata": {
    "collapsed": false,
    "pycharm": {
     "name": "#%%\n"
    }
   }
  },
  {
   "cell_type": "code",
   "execution_count": 176,
   "outputs": [
    {
     "name": "stdout",
     "output_type": "stream",
     "text": [
      "Applying a custom ECoG reference.\n"
     ]
    },
    {
     "ename": "TypeError",
     "evalue": "copy() got an unexpected keyword argument 'tmax'",
     "output_type": "error",
     "traceback": [
      "\u001B[0;31m---------------------------------------------------------------------------\u001B[0m",
      "\u001B[0;31mTypeError\u001B[0m                                 Traceback (most recent call last)",
      "\u001B[0;32m<ipython-input-176-3e5acceb5bd6>\u001B[0m in \u001B[0;36m<module>\u001B[0;34m\u001B[0m\n\u001B[1;32m     14\u001B[0m \u001B[0mhealth_raw\u001B[0m\u001B[0;34m.\u001B[0m\u001B[0mset_channel_types\u001B[0m\u001B[0;34m(\u001B[0m\u001B[0;34m{\u001B[0m\u001B[0mselected_set\u001B[0m\u001B[0;34m[\u001B[0m\u001B[0;36m1\u001B[0m\u001B[0;34m]\u001B[0m\u001B[0;34m[\u001B[0m\u001B[0mi\u001B[0m\u001B[0;34m]\u001B[0m\u001B[0;34m:\u001B[0m \u001B[0;34m'eog'\u001B[0m \u001B[0;32mfor\u001B[0m \u001B[0mi\u001B[0m \u001B[0;32min\u001B[0m \u001B[0mrange\u001B[0m\u001B[0;34m(\u001B[0m\u001B[0;36m2\u001B[0m\u001B[0;34m)\u001B[0m\u001B[0;34m}\u001B[0m\u001B[0;34m)\u001B[0m\u001B[0;34m\u001B[0m\u001B[0;34m\u001B[0m\u001B[0m\n\u001B[1;32m     15\u001B[0m \u001B[0mhealth_raw\u001B[0m\u001B[0;34m.\u001B[0m\u001B[0mdrop_channels\u001B[0m\u001B[0;34m(\u001B[0m\u001B[0;34m[\u001B[0m\u001B[0mselected_set\u001B[0m\u001B[0;34m[\u001B[0m\u001B[0;36m1\u001B[0m\u001B[0;34m]\u001B[0m\u001B[0;34m[\u001B[0m\u001B[0;36m2\u001B[0m\u001B[0;34m]\u001B[0m\u001B[0;34m,\u001B[0m \u001B[0mselected_set\u001B[0m\u001B[0;34m[\u001B[0m\u001B[0;36m1\u001B[0m\u001B[0;34m]\u001B[0m\u001B[0;34m[\u001B[0m\u001B[0;36m6\u001B[0m\u001B[0;34m]\u001B[0m\u001B[0;34m]\u001B[0m\u001B[0;34m)\u001B[0m\u001B[0;34m\u001B[0m\u001B[0;34m\u001B[0m\u001B[0m\n\u001B[0;32m---> 16\u001B[0;31m \u001B[0mhealth_raw\u001B[0m\u001B[0;34m.\u001B[0m\u001B[0mcopy\u001B[0m\u001B[0;34m(\u001B[0m\u001B[0mtmax\u001B[0m\u001B[0;34m=\u001B[0m\u001B[0;36m60\u001B[0m\u001B[0;34m)\u001B[0m\u001B[0;34m.\u001B[0m\u001B[0mcrop\u001B[0m\u001B[0;34m(\u001B[0m\u001B[0;34m)\u001B[0m\u001B[0;34m.\u001B[0m\u001B[0mplot\u001B[0m\u001B[0;34m(\u001B[0m\u001B[0;34m)\u001B[0m\u001B[0;34m\u001B[0m\u001B[0;34m\u001B[0m\u001B[0m\n\u001B[0m",
      "\u001B[0;31mTypeError\u001B[0m: copy() got an unexpected keyword argument 'tmax'"
     ]
    }
   ],
   "source": [
    "# this is the  left set referenced to RM, while EOG referenced to LM\n",
    "selected_set = [['E226', 'E46', 'E104', 'E35', 'E59', 'E116', 'E201'],\n",
    "                ['EOG E1-LM', 'EOG E2-LM', 'LM', 'EEG F3-RM', 'EEG C3-RM', 'EEG O1-RM', 'RM']]\n",
    "health_raw.pick_channels(selected_set[0]).resample(sr)\n",
    "# order channels according to selected set, MNE default is alphabetical\n",
    "health_raw.reorder_channels(selected_set[0])\n",
    "\n",
    "# rename channels\n",
    "health_raw.rename_channels({id: name for (id, name) in zip(selected_set[0], selected_set[1])})\n",
    "# set EOG channels as MNE type \"ecog\" for re-refrencing\n",
    "health_raw.set_channel_types({selected_set[1][i]: 'ecog' for i in range(2)})\n",
    "# re-reference channels\n",
    "health_raw.set_eeg_reference(ref_channels=[selected_set[1][2]], ch_type='ecog')\n",
    "health_raw.set_channel_types({selected_set[1][i]: 'eog' for i in range(2)})\n",
    "health_raw.drop_channels([selected_set[1][2], selected_set[1][6]])"
   ],
   "metadata": {
    "collapsed": false,
    "pycharm": {
     "name": "#%%\n"
    }
   }
  },
  {
   "cell_type": "code",
   "execution_count": 178,
   "outputs": [],
   "source": [
    "health_raw"
   ],
   "metadata": {
    "collapsed": false,
    "pycharm": {
     "name": "#%%\n"
    }
   }
  },
  {
   "cell_type": "code",
   "execution_count": 194,
   "outputs": [
    {
     "name": "stdout",
     "output_type": "stream",
     "text": [
      "[20:53:05] WARNING: /Users/runner/work/xgboost/xgboost/src/learner.cc:1115: Starting in XGBoost 1.3.0, the default evaluation metric used with the objective 'multi:softmax' was changed from 'merror' to 'mlogloss'. Explicitly set eval_metric if you'd like to restore the old behavior.\n"
     ]
    }
   ],
   "source": [
    "classifiers = {\n",
    "    \"Random Forest\": RandomForestClassifier(),\n",
    "    \"LGBM\": LGBMClassifier(),\n",
    "    \"XGB\": xgb.XGBClassifier(objective=\"multi:softmax\", num_class=2, use_label_encoder=False),\n",
    "    #     \"Tree\": DecisionTreeClassifier()\n",
    "}\n",
    "\n",
    "f, axes = plt.subplots(1, len(classifiers), figsize=(20, 5), sharey='row')\n",
    "\n",
    "for i, (key, classifier) in enumerate(classifiers.items()):\n",
    "    y_pred = classifier.fit(X_train, y_train).predict(X_test)\n",
    "    cf_matrix = confusion_matrix(y_test, y_pred)\n",
    "    disp = ConfusionMatrixDisplay(cf_matrix)\n",
    "    disp.plot(ax=axes[i], xticks_rotation=45)\n",
    "    disp.ax_.set_title(key)\n",
    "    disp.im_.colorbar.remove()\n",
    "    disp.ax_.set_xlabel('')\n",
    "    if i!=0:\n",
    "        disp.ax_.set_ylabel('')\n",
    "\n",
    "f.text(0.4, 0.1, 'Predicted label', ha='left')\n",
    "plt.subplots_adjust(wspace=0.40, hspace=0.1)\n",
    "\n",
    "\n",
    "f.colorbar(disp.im_, ax=axes)\n",
    "plt.show()"
   ],
   "metadata": {
    "collapsed": false,
    "pycharm": {
     "name": "#%%\n"
    }
   }
  },
  {
   "cell_type": "code",
   "execution_count": 195,
   "outputs": [
    {
     "name": "stderr",
     "output_type": "stream",
     "text": [
      "/Users/rotemfalach/projects/venv/mmf_to_edf/lib/python3.7/site-packages/scipy/signal/spectral.py:1963: UserWarning: nperseg = 256 is greater than input length  = 250, using nperseg = 250\n",
      "  .format(nperseg, input_length))\n"
     ]
    }
   ],
   "source": [
    "epochs = []\n",
    "health_data = health_raw.pick_channels(['EOG E2-LM']).get_data()[0]\n",
    "window_size = 250\n",
    "for i in range(0, len(health_data), window_size):\n",
    "    curr_block = health_data[i: i  + window_size]\n",
    "    if i + window_size < len(health_data):\n",
    "        epochs.append(curr_block)\n",
    "epochs = np.array(epochs)\n",
    "\n",
    "feat_healthy_eye = calc_features(epochs)\n",
    "y_healthy_pred = classifiers['LGBM'].predict(feat_healthy_eye)"
   ],
   "metadata": {
    "collapsed": false,
    "pycharm": {
     "name": "#%%\n"
    }
   }
  },
  {
   "cell_type": "code",
   "execution_count": 205,
   "outputs": [
    {
     "data": {
      "text/plain": "162"
     },
     "execution_count": 205,
     "metadata": {},
     "output_type": "execute_result"
    }
   ],
   "source": [
    "len(y_healthy_pred[y_healthy_pred == 1])"
   ],
   "metadata": {
    "collapsed": false,
    "pycharm": {
     "name": "#%%\n"
    }
   }
  },
  {
   "cell_type": "code",
   "execution_count": 203,
   "outputs": [
    {
     "data": {
      "text/plain": "                std           iqr          skew          kurt  nzc  \\\nepoch                                                                \n0      0.0000075539  0.0000096504 -0.2421958300 -0.1117589311    0   \n1      0.0000066761  0.0000095492 -0.1243751518 -0.0846559161    0   \n2      0.0000073864  0.0000100149  0.2813221255 -0.4094662977    0   \n3      0.0000109666  0.0000128826 -0.4713583613  0.2083148368    0   \n4      0.0000073230  0.0000097720  0.2211239749  0.0469000940    0   \n...             ...           ...           ...           ...  ...   \n10428  0.0000000045  0.0000000089  0.0000000108 -2.0000000000    0   \n10429  0.0000000045  0.0000000089  0.0000000191 -2.0000000000    0   \n10430  0.0000000045  0.0000000089  0.0000000187 -2.0000000000    0   \n10431  0.0000000045  0.0000000089  0.0000000413 -2.0000000000    0   \n10432  0.0000000045  0.0000000089  0.0000000372 -2.0000000000    0   \n\n               hmob         hcomp         theta         alpha         sigma  \\\nepoch                                                                         \n0      0.4543540034  2.9807514207  0.2355668088  0.0553939852  0.0203593506   \n1      0.4829503716  2.6677794357  0.2652677703  0.1489585522  0.0599768599   \n2      0.4023953290  3.4013268859  0.0363706737  0.1685263188  0.2688655155   \n3      0.3181732938  4.3221294127  0.2761152260  0.2019474120  0.0193963952   \n4      0.4308363626  3.0224434735  0.0738137541  0.0489147753  0.0748998690   \n...             ...           ...           ...           ...           ...   \n10428  1.9999838711  1.0000161290  0.0182608773  0.0071800362  0.0156090153   \n10429  1.9999838711  1.0000161290  0.0834725850  0.0088203978  0.0176793494   \n10430  1.9999838712  1.0000161290  0.2499411339  0.0110090386  0.0158032237   \n10431  1.9999838711  1.0000161291  0.4182704920  0.0183364471  0.0198609937   \n10432  1.9999838711  1.0000161290  0.2629398401  0.0179944685  0.0241709469   \n\n       ...  fast_pmin_norm  at_pmin_norm  gt_pmin_norm  ft_pmin_norm  \\\nepoch  ...                                                             \n0      ...    0.1469202340 -0.2761984977 -0.0203212345 -0.0113626131   \n1      ...   -0.1005633687 -0.1474279271 -0.0199569092 -0.0481084253   \n2      ...   -0.2068621133  1.4591195304  0.0291793089  0.0706165228   \n3      ...    0.0154360533 -0.0804175729 -0.0509186928 -0.0363974570   \n4      ...   -0.0539316472 -0.1075257842  0.1426283929  0.0577199520   \n...    ...             ...           ...           ...           ...   \n10428  ...    0.8736959636 -0.2138465610  0.6767327352  2.0548565503   \n10429  ...    0.7412203185 -0.3272839227  0.0932030729  0.3367914231   \n10430  ...    0.6777300221 -0.3515956250 -0.0051941354  0.0504167728   \n10431  ...    0.3175028784 -0.3516776071 -0.0202109447 -0.0293024373   \n10432  ...    0.7638849898 -0.3419733286 -0.0425672154  0.0540548380   \n\n       ag_pmin_norm  af_pmin_norm  abspow_pmin_norm  perm_pmin_norm  \\\nepoch                                                                 \n0      0.1045128792  0.1430332347     -0.1167928092    0.0034714785   \n1      0.0036721440 -0.0248118669     -0.0945571471   -0.5419984627   \n2     -0.0524487609 -0.0434083215     -0.0621957478   -0.2035306908   \n3     -0.0473974164 -0.0232214527     -0.1123583314   -0.0320008000   \n4      0.1894382921  0.0812328833     -0.1123159489   -0.1113413636   \n...             ...           ...               ...             ...   \n10428  1.4578271337  3.7576345677     -0.1774720469   -3.7037720662   \n10429  1.1808126139  2.7188816089     -0.1774720469   -3.3884366852   \n10430  1.1368866453  2.0393585636     -0.1774720469   -3.4034610060   \n10431  0.8675717638  0.7693792367     -0.1774720469   -3.2790169991   \n10432  0.2683449130  1.3262908506     -0.1774720469   -3.2699918372   \n\n       higuchi_pmin_norm  petrosian_pmin_norm  \nepoch                                          \n0           0.0057355029        -0.0588675248  \n1           0.0075643338        -0.5334272146  \n2          -0.2631214259        -0.2360686024  \n3          -0.1730004318        -0.0588675248  \n4          -0.2121641461        -0.1769013567  \n...                  ...                  ...  \n10428       7.3982904893         3.6063772921  \n10429       7.4150637738         3.6063772921  \n10430       7.4207471228         3.6063772921  \n10431       7.4101656536         3.6063772921  \n10432       7.4856260113         3.6063772921  \n\n[10433 rows x 66 columns]",
      "text/html": "<div>\n<style scoped>\n    .dataframe tbody tr th:only-of-type {\n        vertical-align: middle;\n    }\n\n    .dataframe tbody tr th {\n        vertical-align: top;\n    }\n\n    .dataframe thead th {\n        text-align: right;\n    }\n</style>\n<table border=\"1\" class=\"dataframe\">\n  <thead>\n    <tr style=\"text-align: right;\">\n      <th></th>\n      <th>std</th>\n      <th>iqr</th>\n      <th>skew</th>\n      <th>kurt</th>\n      <th>nzc</th>\n      <th>hmob</th>\n      <th>hcomp</th>\n      <th>theta</th>\n      <th>alpha</th>\n      <th>sigma</th>\n      <th>...</th>\n      <th>fast_pmin_norm</th>\n      <th>at_pmin_norm</th>\n      <th>gt_pmin_norm</th>\n      <th>ft_pmin_norm</th>\n      <th>ag_pmin_norm</th>\n      <th>af_pmin_norm</th>\n      <th>abspow_pmin_norm</th>\n      <th>perm_pmin_norm</th>\n      <th>higuchi_pmin_norm</th>\n      <th>petrosian_pmin_norm</th>\n    </tr>\n    <tr>\n      <th>epoch</th>\n      <th></th>\n      <th></th>\n      <th></th>\n      <th></th>\n      <th></th>\n      <th></th>\n      <th></th>\n      <th></th>\n      <th></th>\n      <th></th>\n      <th></th>\n      <th></th>\n      <th></th>\n      <th></th>\n      <th></th>\n      <th></th>\n      <th></th>\n      <th></th>\n      <th></th>\n      <th></th>\n      <th></th>\n    </tr>\n  </thead>\n  <tbody>\n    <tr>\n      <th>0</th>\n      <td>0.0000075539</td>\n      <td>0.0000096504</td>\n      <td>-0.2421958300</td>\n      <td>-0.1117589311</td>\n      <td>0</td>\n      <td>0.4543540034</td>\n      <td>2.9807514207</td>\n      <td>0.2355668088</td>\n      <td>0.0553939852</td>\n      <td>0.0203593506</td>\n      <td>...</td>\n      <td>0.1469202340</td>\n      <td>-0.2761984977</td>\n      <td>-0.0203212345</td>\n      <td>-0.0113626131</td>\n      <td>0.1045128792</td>\n      <td>0.1430332347</td>\n      <td>-0.1167928092</td>\n      <td>0.0034714785</td>\n      <td>0.0057355029</td>\n      <td>-0.0588675248</td>\n    </tr>\n    <tr>\n      <th>1</th>\n      <td>0.0000066761</td>\n      <td>0.0000095492</td>\n      <td>-0.1243751518</td>\n      <td>-0.0846559161</td>\n      <td>0</td>\n      <td>0.4829503716</td>\n      <td>2.6677794357</td>\n      <td>0.2652677703</td>\n      <td>0.1489585522</td>\n      <td>0.0599768599</td>\n      <td>...</td>\n      <td>-0.1005633687</td>\n      <td>-0.1474279271</td>\n      <td>-0.0199569092</td>\n      <td>-0.0481084253</td>\n      <td>0.0036721440</td>\n      <td>-0.0248118669</td>\n      <td>-0.0945571471</td>\n      <td>-0.5419984627</td>\n      <td>0.0075643338</td>\n      <td>-0.5334272146</td>\n    </tr>\n    <tr>\n      <th>2</th>\n      <td>0.0000073864</td>\n      <td>0.0000100149</td>\n      <td>0.2813221255</td>\n      <td>-0.4094662977</td>\n      <td>0</td>\n      <td>0.4023953290</td>\n      <td>3.4013268859</td>\n      <td>0.0363706737</td>\n      <td>0.1685263188</td>\n      <td>0.2688655155</td>\n      <td>...</td>\n      <td>-0.2068621133</td>\n      <td>1.4591195304</td>\n      <td>0.0291793089</td>\n      <td>0.0706165228</td>\n      <td>-0.0524487609</td>\n      <td>-0.0434083215</td>\n      <td>-0.0621957478</td>\n      <td>-0.2035306908</td>\n      <td>-0.2631214259</td>\n      <td>-0.2360686024</td>\n    </tr>\n    <tr>\n      <th>3</th>\n      <td>0.0000109666</td>\n      <td>0.0000128826</td>\n      <td>-0.4713583613</td>\n      <td>0.2083148368</td>\n      <td>0</td>\n      <td>0.3181732938</td>\n      <td>4.3221294127</td>\n      <td>0.2761152260</td>\n      <td>0.2019474120</td>\n      <td>0.0193963952</td>\n      <td>...</td>\n      <td>0.0154360533</td>\n      <td>-0.0804175729</td>\n      <td>-0.0509186928</td>\n      <td>-0.0363974570</td>\n      <td>-0.0473974164</td>\n      <td>-0.0232214527</td>\n      <td>-0.1123583314</td>\n      <td>-0.0320008000</td>\n      <td>-0.1730004318</td>\n      <td>-0.0588675248</td>\n    </tr>\n    <tr>\n      <th>4</th>\n      <td>0.0000073230</td>\n      <td>0.0000097720</td>\n      <td>0.2211239749</td>\n      <td>0.0469000940</td>\n      <td>0</td>\n      <td>0.4308363626</td>\n      <td>3.0224434735</td>\n      <td>0.0738137541</td>\n      <td>0.0489147753</td>\n      <td>0.0748998690</td>\n      <td>...</td>\n      <td>-0.0539316472</td>\n      <td>-0.1075257842</td>\n      <td>0.1426283929</td>\n      <td>0.0577199520</td>\n      <td>0.1894382921</td>\n      <td>0.0812328833</td>\n      <td>-0.1123159489</td>\n      <td>-0.1113413636</td>\n      <td>-0.2121641461</td>\n      <td>-0.1769013567</td>\n    </tr>\n    <tr>\n      <th>...</th>\n      <td>...</td>\n      <td>...</td>\n      <td>...</td>\n      <td>...</td>\n      <td>...</td>\n      <td>...</td>\n      <td>...</td>\n      <td>...</td>\n      <td>...</td>\n      <td>...</td>\n      <td>...</td>\n      <td>...</td>\n      <td>...</td>\n      <td>...</td>\n      <td>...</td>\n      <td>...</td>\n      <td>...</td>\n      <td>...</td>\n      <td>...</td>\n      <td>...</td>\n      <td>...</td>\n    </tr>\n    <tr>\n      <th>10428</th>\n      <td>0.0000000045</td>\n      <td>0.0000000089</td>\n      <td>0.0000000108</td>\n      <td>-2.0000000000</td>\n      <td>0</td>\n      <td>1.9999838711</td>\n      <td>1.0000161290</td>\n      <td>0.0182608773</td>\n      <td>0.0071800362</td>\n      <td>0.0156090153</td>\n      <td>...</td>\n      <td>0.8736959636</td>\n      <td>-0.2138465610</td>\n      <td>0.6767327352</td>\n      <td>2.0548565503</td>\n      <td>1.4578271337</td>\n      <td>3.7576345677</td>\n      <td>-0.1774720469</td>\n      <td>-3.7037720662</td>\n      <td>7.3982904893</td>\n      <td>3.6063772921</td>\n    </tr>\n    <tr>\n      <th>10429</th>\n      <td>0.0000000045</td>\n      <td>0.0000000089</td>\n      <td>0.0000000191</td>\n      <td>-2.0000000000</td>\n      <td>0</td>\n      <td>1.9999838711</td>\n      <td>1.0000161290</td>\n      <td>0.0834725850</td>\n      <td>0.0088203978</td>\n      <td>0.0176793494</td>\n      <td>...</td>\n      <td>0.7412203185</td>\n      <td>-0.3272839227</td>\n      <td>0.0932030729</td>\n      <td>0.3367914231</td>\n      <td>1.1808126139</td>\n      <td>2.7188816089</td>\n      <td>-0.1774720469</td>\n      <td>-3.3884366852</td>\n      <td>7.4150637738</td>\n      <td>3.6063772921</td>\n    </tr>\n    <tr>\n      <th>10430</th>\n      <td>0.0000000045</td>\n      <td>0.0000000089</td>\n      <td>0.0000000187</td>\n      <td>-2.0000000000</td>\n      <td>0</td>\n      <td>1.9999838712</td>\n      <td>1.0000161290</td>\n      <td>0.2499411339</td>\n      <td>0.0110090386</td>\n      <td>0.0158032237</td>\n      <td>...</td>\n      <td>0.6777300221</td>\n      <td>-0.3515956250</td>\n      <td>-0.0051941354</td>\n      <td>0.0504167728</td>\n      <td>1.1368866453</td>\n      <td>2.0393585636</td>\n      <td>-0.1774720469</td>\n      <td>-3.4034610060</td>\n      <td>7.4207471228</td>\n      <td>3.6063772921</td>\n    </tr>\n    <tr>\n      <th>10431</th>\n      <td>0.0000000045</td>\n      <td>0.0000000089</td>\n      <td>0.0000000413</td>\n      <td>-2.0000000000</td>\n      <td>0</td>\n      <td>1.9999838711</td>\n      <td>1.0000161291</td>\n      <td>0.4182704920</td>\n      <td>0.0183364471</td>\n      <td>0.0198609937</td>\n      <td>...</td>\n      <td>0.3175028784</td>\n      <td>-0.3516776071</td>\n      <td>-0.0202109447</td>\n      <td>-0.0293024373</td>\n      <td>0.8675717638</td>\n      <td>0.7693792367</td>\n      <td>-0.1774720469</td>\n      <td>-3.2790169991</td>\n      <td>7.4101656536</td>\n      <td>3.6063772921</td>\n    </tr>\n    <tr>\n      <th>10432</th>\n      <td>0.0000000045</td>\n      <td>0.0000000089</td>\n      <td>0.0000000372</td>\n      <td>-2.0000000000</td>\n      <td>0</td>\n      <td>1.9999838711</td>\n      <td>1.0000161290</td>\n      <td>0.2629398401</td>\n      <td>0.0179944685</td>\n      <td>0.0241709469</td>\n      <td>...</td>\n      <td>0.7638849898</td>\n      <td>-0.3419733286</td>\n      <td>-0.0425672154</td>\n      <td>0.0540548380</td>\n      <td>0.2683449130</td>\n      <td>1.3262908506</td>\n      <td>-0.1774720469</td>\n      <td>-3.2699918372</td>\n      <td>7.4856260113</td>\n      <td>3.6063772921</td>\n    </tr>\n  </tbody>\n</table>\n<p>10433 rows × 66 columns</p>\n</div>"
     },
     "execution_count": 203,
     "metadata": {},
     "output_type": "execute_result"
    }
   ],
   "source": [
    "pd.DataFrame(feat_healthy_eye)"
   ],
   "metadata": {
    "collapsed": false,
    "pycharm": {
     "name": "#%%\n"
    }
   }
  },
  {
   "cell_type": "code",
   "execution_count": 204,
   "outputs": [
    {
     "name": "stdout",
     "output_type": "stream",
     "text": [
      "Extracting EDF parameters from /Users/rotemfalach/Documents/University/lab/EDFs_forRotem/P402_overnightData.edf...\n",
      "EDF file detected\n",
      "Setting channel info structure...\n",
      "Creating raw.info structure...\n"
     ]
    },
    {
     "name": "stderr",
     "output_type": "stream",
     "text": [
      "/Users/rotemfalach/projects/venv/mmf_to_edf/lib/python3.7/site-packages/scipy/signal/spectral.py:1963: UserWarning: nperseg = 256 is greater than input length  = 250, using nperseg = 250\n",
      "  .format(nperseg, input_length))\n"
     ]
    }
   ],
   "source": [
    "x_eye = format_raw_night('/Users/rotemfalach/Documents/University/lab/EDFs_forRotem/P402_overnightData.edf', 'EOG EOG1-REF')\n",
    "feat_eye1 = calc_features(x_eye)\n",
    "y_healthy_pred = classifiers['LGBM'].predict(feat_eye1)"
   ],
   "metadata": {
    "collapsed": false,
    "pycharm": {
     "name": "#%%\n"
    }
   }
  },
  {
   "cell_type": "code",
   "execution_count": null,
   "outputs": [],
   "source": [],
   "metadata": {
    "collapsed": false,
    "pycharm": {
     "name": "#%%\n"
    }
   }
  }
 ],
 "metadata": {
  "kernelspec": {
   "display_name": "Python 3",
   "language": "python",
   "name": "python3"
  },
  "language_info": {
   "codemirror_mode": {
    "name": "ipython",
    "version": 2
   },
   "file_extension": ".py",
   "mimetype": "text/x-python",
   "name": "python",
   "nbconvert_exporter": "python",
   "pygments_lexer": "ipython2",
   "version": "2.7.6"
  }
 },
 "nbformat": 4,
 "nbformat_minor": 0
}