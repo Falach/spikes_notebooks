{
 "cells": [
  {
   "cell_type": "code",
   "execution_count": 67,
   "metadata": {
    "collapsed": true
   },
   "outputs": [],
   "source": [
    "import numpy as np\n",
    "import pandas as pd\n",
    "import mne\n",
    "from sklearn.model_selection import train_test_split\n",
    "from matplotlib import pyplot as plt\n",
    "from sklearn.ensemble import RandomForestClassifier\n",
    "from sklearn.metrics import confusion_matrix, ConfusionMatrixDisplay\n",
    "from sklearn.metrics import plot_confusion_matrix\n",
    "from lightgbm import LGBMClassifier\n",
    "import lightgbm\n",
    "from scipy.stats import zscore\n",
    "from datetime import datetime\n",
    "import xgboost as xgb\n",
    "from visbrain.io.rw_hypno import read_hypno\n",
    "from ipynb.fs.defs.yasa_model import calc_features, get_metrics\n",
    "import joblib\n",
    "from IPython.display import clear_output\n",
    "from sklearn.feature_selection import VarianceThreshold\n",
    "plt.style.use('dark_background')\n",
    "pd.options.display.precision = 10"
   ]
  },
  {
   "cell_type": "code",
   "execution_count": 108,
   "outputs": [],
   "source": [
    "# joblib_file = 'lgbm_model_multichannel.pkl'\n",
    "model = joblib.load('forest_full_7s.pkl')\n",
    "# model = joblib.load('lgbm_full_7s.pkl')\n",
    "features_names = pd.read_csv('features_7.csv').columns.tolist()"
   ],
   "metadata": {
    "collapsed": false,
    "pycharm": {
     "name": "#%%\n"
    }
   }
  },
  {
   "cell_type": "code",
   "execution_count": 69,
   "outputs": [],
   "source": [
    "####################\n",
    "# MAIN PARAMETERS\n",
    "####################\n",
    "\n",
    "# # Bandpass filter\n",
    "# freq_broad = (0.1, 500)\n",
    "# # FFT & bandpower parameters\n",
    "sr = 1000\n",
    "edf_path = 'C:\\\\UCLA\\\\P%s_full_filtered.edf'\n",
    "# edf_path = 'C:\\\\Users\\\\user\\\\PycharmProjects\\\\pythonProject\\\\%s_clean.edf'\n",
    "# edf_path = 'C:\\\\UCLA\\\\P%s_overnightData.edf'\n",
    "# bands = [\n",
    "#     (0.1, 4, 'delta'), (4, 8, 'theta'),\n",
    "#     (8, 12, 'alpha'), (12, 16, 'sigma'), (16, 30, 'beta'),\n",
    "#     (30, 75, 'gamma'), (75, 300, 'fast')\n",
    "# ]"
   ],
   "metadata": {
    "collapsed": false,
    "pycharm": {
     "name": "#%%\n"
    }
   }
  },
  {
   "cell_type": "code",
   "execution_count": 109,
   "outputs": [],
   "source": [
    "def remove_rem(raw, edf):\n",
    "    hypno_file = edf.split('_')[0] + '_hypno.txt'\n",
    "\n",
    "    # read hypnogram old format (1sec)\n",
    "    hypno, sf_hypno = read_hypno(hypno_file, time=None, datafile=None)\n",
    "\n",
    "    # make raw object into epochs (30 sec)\n",
    "    dummy_events = mne.make_fixed_length_events(raw, id=1, duration=30)[:len(hypno)]\n",
    "\n",
    "    # incorporate the scoring into the events file:\n",
    "    dummy_events[:, 2] = hypno\n",
    "    event_dict = {'W': 0, 'N1': 1, 'N2': 2, 'N3': 3, 'REM': 4, 'art': -1}\n",
    "\n",
    "    # epoch data into 30sec pieces:\n",
    "    epochs = mne.Epochs(raw, events=dummy_events, event_id=event_dict, tmin=0,\n",
    "                        tmax=30, baseline=(0, 0), on_missing='ignore')\n",
    "    epochs.drop(epochs['REM'].selection)\n",
    "    nrem_raw = mne.io.RawArray(np.concatenate(epochs.get_data(), axis=1), raw.info)\n",
    "\n",
    "    return nrem_raw\n",
    "\n",
    "def format_raw_night(edf, channel):\n",
    "    epochs = []\n",
    "    window_size = int(sr / 4)\n",
    "    if '-' in channel and 'REF' not in channel:\n",
    "        chans = channel.split('-')\n",
    "        raw = mne.io.read_raw_edf(edf).pick_channels(chans).resample(sr)\n",
    "        # raw = remove_rem(raw, edf)\n",
    "        mne.set_bipolar_reference(raw, chans[0], chans[1], ch_name=channel)\n",
    "        raw_data = raw.get_data()[0]\n",
    "    else:\n",
    "        raw_data = mne.io.read_raw_edf(edf).pick_channels([channel]).resample(sr).get_data()[0]\n",
    "    for i in range(0, len(raw_data), window_size):\n",
    "        curr_block = raw_data[i: i  + window_size]\n",
    "        if i + window_size < len(raw_data):\n",
    "            epochs.append(curr_block)\n",
    "    return np.array(epochs)\n",
    "    # return zscore(np.array(epochs))\n",
    "\n",
    "def format_combine_channel(edf, chans=['PZ' ,'C3' ,'C4']):\n",
    "    epochs = []\n",
    "    window_size = int(sr / 4)\n",
    "\n",
    "    raw = mne.io.read_raw_edf(edf).pick_channels(chans).resample(sr)\n",
    "    raw = mne.channels.combine_channels(raw, {'avg': [0, 1, 2]}, method='mean')\n",
    "    raw_data = raw.get_data()[0]\n",
    "\n",
    "    for i in range(0, len(raw_data), window_size):\n",
    "        curr_block = raw_data[i: i  + window_size]\n",
    "        if i + window_size < len(raw_data):\n",
    "            epochs.append(curr_block)\n",
    "    return np.array(epochs)\n"
   ],
   "metadata": {
    "collapsed": false,
    "pycharm": {
     "name": "#%%\n"
    }
   }
  },
  {
   "cell_type": "code",
   "execution_count": 110,
   "outputs": [],
   "source": [
    "def get_all_y_multi_channel(subjects=['38', '396', '398', '402', '406', '415', '416']):\n",
    "    neighbors = {'R': ['RAH1-RAH2', 'RA1'], 'L': ['LAH1-LAH2', 'LA1']}\n",
    "    side1_y = None\n",
    "    y_all = np.empty(0)\n",
    "    for subj in subjects:\n",
    "        # for subj in ['398']:\n",
    "        for channel in ['RAH1', 'LAH1']:\n",
    "            if not ((subj == '396' and channel == 'RAH1') or (subj == '38' and channel == 'LAH1')):\n",
    "                x = format_raw_night(edf_path % subj, channel)\n",
    "                features = calc_features(x, subj)\n",
    "                for neighbor in neighbors[channel[0]]:\n",
    "                    x_neighbor = format_raw_night(edf_path % subj, neighbor)\n",
    "                    prefix = neighbor.replace(channel[0], '')\n",
    "                    features_neighbor = calc_features(x_neighbor, subj).add_prefix(f'{prefix}_')\n",
    "                    features = pd.concat([features, features_neighbor.iloc[:, 2:]], axis=1)\n",
    "\n",
    "                # Here I have all features for one side\n",
    "                if side1_y is None:\n",
    "                    side1_y = model.predict(features[features_names[1:]])\n",
    "\n",
    "        if subj in ['38', '396']:\n",
    "            y_all = np.concatenate((y_all, side1_y))\n",
    "        else:\n",
    "            side2_y = model.predict(features[features_names[1:]])\n",
    "            y_bilateral = side1_y + side2_y\n",
    "            y_bilateral[y_bilateral == 2] = 1\n",
    "            y_all = np.concatenate((y_all, y_bilateral))\n",
    "\n",
    "        side1_y = None\n",
    "\n",
    "    return y_all\n",
    "\n",
    "def get_all_y_multi_channel_side(side, subjects=['38', '396', '398', '402', '406', '415', '416']):\n",
    "    neighbors = {'R': ['RAH1-RAH2', 'RA1'], 'L': ['LAH1-LAH2', 'LA1']}\n",
    "    y_all = np.empty(0)\n",
    "    for subj in subjects:\n",
    "        channel = side + 'AH1'\n",
    "        if not ((subj == '396' and channel == 'RAH1') or (subj == '38' and channel == 'LAH1')):\n",
    "            x = format_raw_night(edf_path % subj, channel)\n",
    "            features = calc_features(x, subj)\n",
    "            for neighbor in neighbors[channel[0]]:\n",
    "                x_neighbor = format_raw_night(edf_path % subj, neighbor)\n",
    "                prefix = neighbor.replace(channel[0], '')\n",
    "                features_neighbor = calc_features(x_neighbor, subj).add_prefix(f'{prefix}_')\n",
    "                features = pd.concat([features, features_neighbor.iloc[:, 2:]], axis=1)\n",
    "\n",
    "            side1_y = model.predict(features[features_names[1:]])\n",
    "            y_all = np.concatenate((y_all, side1_y))\n",
    "\n",
    "    return y_all\n",
    "\n",
    "def get_one_y_multi_channel_side(subj, side):\n",
    "    neighbors = {'R': ['RAH1-RAH2', 'RA1'], 'L': ['LAH1-LAH2', 'LA1']}\n",
    "    channel = side + 'AH1'\n",
    "    if not ((subj == '396' and channel == 'RAH1') or (subj == '38' and channel == 'LAH1')):\n",
    "        x = format_raw_night(edf_path % subj, channel)\n",
    "        features = calc_features(x, subj)\n",
    "        for neighbor in neighbors[channel[0]]:\n",
    "            x_neighbor = format_raw_night(edf_path % subj, neighbor)\n",
    "            prefix = neighbor.replace(channel[0], '')\n",
    "            features_neighbor = calc_features(x_neighbor, subj).add_prefix(f'{prefix}_')\n",
    "            features = pd.concat([features, features_neighbor.iloc[:, 2:]], axis=1)\n",
    "\n",
    "        side1_y = model.predict(features[features_names[1:]])\n",
    "\n",
    "    return side1_y\n",
    "\n",
    "def get_all_feat_eog(eog_num, subjects=['38', '396', '398', '402', '406', '415', '416']):\n",
    "    feat_all = pd.DataFrame()\n",
    "    for subj in subjects:\n",
    "        x = format_raw_night(edf_path % subj, 'EOG' + eog_num)\n",
    "        features = calc_features(x, subj)\n",
    "        # normalize each subject with respect to self\n",
    "        # features=(features-features.mean())/features.std()\n",
    "        # features.apply(zscore)\n",
    "        feat_all = pd.concat([feat_all, features], axis=0)\n",
    "\n",
    "    return feat_all\n",
    "\n",
    "def get_all_feat_by_chan(chan, subjects=['38', '396', '398', '402', '406', '415', '416']):\n",
    "    feat_all = pd.DataFrame()\n",
    "    for subj in subjects:\n",
    "        x = format_raw_night(edf_path % subj, chan)\n",
    "        features = calc_features(x, subj)\n",
    "        # normalize each subject with respect to self\n",
    "        # features=(features-features.mean())/features.std()\n",
    "        # features.apply(zscore)\n",
    "        feat_all = pd.concat([feat_all, features], axis=0)\n",
    "\n",
    "    return feat_all\n",
    "\n",
    "def get_all_feat_scalp_channels(channels=['C3', 'C4', 'PZ'], subjects=['38', '396', '398', '402', '406', '415', '416']):\n",
    "    feat_all = pd.DataFrame()\n",
    "    for subj in subjects:\n",
    "        channel = channels[0]\n",
    "        x = format_raw_night(edf_path % subj, channel)\n",
    "        features = calc_features(x, subj)\n",
    "        for neighbor in channels[1:]:\n",
    "            x_neighbor = format_raw_night(edf_path % subj, neighbor)\n",
    "            prefix = neighbor.replace(channel[0], '')\n",
    "            features_neighbor = calc_features(x_neighbor, subj).add_prefix(f'{prefix}_')\n",
    "            features = pd.concat([features, features_neighbor.iloc[:, 2:]], axis=1)\n",
    "\n",
    "        feat_all = pd.concat([feat_all, features], axis=0)\n",
    "\n",
    "    return feat_all\n",
    "\n",
    "def get_all_feat_avg_channels(subjects=['38', '396', '398', '402', '406', '415', '416']):\n",
    "    feat_all = pd.DataFrame()\n",
    "    for subj in subjects:\n",
    "        x = format_combine_channel(edf_path % subj)\n",
    "        features = calc_features(x, subj)\n",
    "        feat_all = pd.concat([feat_all, features], axis=0)\n",
    "\n",
    "    return feat_all"
   ],
   "metadata": {
    "collapsed": false,
    "pycharm": {
     "name": "#%%\n"
    }
   }
  },
  {
   "cell_type": "code",
   "execution_count": 115,
   "outputs": [],
   "source": [
    "def plt_80(cls, feat, y, stratify=False):\n",
    "    if stratify:\n",
    "        strat = pd.DataFrame()\n",
    "        strat['y'] = list(map(str, y))\n",
    "        strat['subj'] = list(feat['subj'])\n",
    "        strat['stratify'] = strat[['y', 'subj']].apply(lambda x: ''.join(x), axis=1)\n",
    "        X_train, X_test, y_train, y_test = train_test_split(feat, y, stratify=strat['stratify'], random_state=20)\n",
    "    else:\n",
    "        X_train, X_test, y_train, y_test = train_test_split(feat, y, stratify=y, random_state=20)\n",
    "    X_train_data = X_train.iloc[:, 2:]\n",
    "    selector = VarianceThreshold(.1)\n",
    "    selector.fit_transform(X_train_data)\n",
    "    X_train_data = X_train_data[X_train_data.columns[selector.get_support(indices=True)]]\n",
    "    X_test_data = X_test[X_train_data.columns]\n",
    "\n",
    "    f, axes = plt.subplots(1, len(cls), figsize=(10, 5), sharey='row')\n",
    "    pred_details = {}\n",
    "\n",
    "    for i, (key, classifier) in enumerate(cls.items()):\n",
    "        y_pred = classifier.predict_proba(X_test_data).T\n",
    "        cf_matrix = confusion_matrix(y_test, [p > 0.80 for p in y_pred[1]])\n",
    "        metrics = get_metrics(cf_matrix)\n",
    "        disp = ConfusionMatrixDisplay(cf_matrix)\n",
    "        disp.plot(ax=axes[i], xticks_rotation=45)\n",
    "        precision = '{0:.2f}'.format(metrics['precision'])\n",
    "        recall = '{0:.2f}'.format(metrics['recall'])\n",
    "        text = \"\"\"precision: {0}\n",
    "                          recall: {1}\"\"\".format(precision, recall)\n",
    "        axes[i].annotate(text, xy=(1, 0), xycoords='axes fraction', fontsize=16,\n",
    "                         xytext=(-60, -40), textcoords='offset points',\n",
    "                         ha='right', va='top')\n",
    "        disp.ax_.set_title(key)\n",
    "        disp.im_.colorbar.remove()\n",
    "        disp.ax_.set_xlabel('')\n",
    "        if i != 0:\n",
    "            disp.ax_.set_ylabel('')\n",
    "\n",
    "        curr_pred_details = pd.DataFrame(data=X_test)\n",
    "        curr_pred_details['pred'] = y_pred[1]\n",
    "        pred_details[key] = curr_pred_details\n",
    "\n",
    "    f.text(0.45, 0.1, 'Predicted label', ha='left')\n",
    "    plt.subplots_adjust(wspace=0.40, hspace=0.1)\n",
    "    plt.show()\n",
    "    return pred_details\n",
    "\n",
    "def plt_cls(feat, y, stratify=False):\n",
    "    if stratify:\n",
    "        strat = pd.DataFrame()\n",
    "        strat['y'] = list(map(str, y))\n",
    "        strat['subj'] = list(feat['subj'])\n",
    "        strat['stratify'] = strat[['y', 'subj']].apply(lambda x: ''.join(x), axis=1)\n",
    "        X_train, X_test, y_train, y_test = train_test_split(feat, y, stratify=strat['stratify'], random_state=20)\n",
    "    else:\n",
    "        X_train, X_test, y_train, y_test = train_test_split(feat, y, stratify=y, random_state=20)\n",
    "    X_train_data = X_train.iloc[:, 2:]\n",
    "    selector = VarianceThreshold(.1)\n",
    "    selector.fit_transform(X_train_data)\n",
    "    X_train_data = X_train_data[X_train_data.columns[selector.get_support(indices=True)]]\n",
    "    X_test_data = X_test[X_train_data.columns]\n",
    "\n",
    "    classifiers_2_all = {\n",
    "        \"Random Forest\": RandomForestClassifier(),\n",
    "        \"LGBM\": LGBMClassifier(),\n",
    "        # \"XGB\": xgb.XGBClassifier(objective=\"multi:softmax\", num_class=2, use_label_encoder=False),\n",
    "    }\n",
    "\n",
    "    pred_details = {}\n",
    "    f, axes = plt.subplots(1, len(classifiers_2_all), figsize=(10, 5), sharey='row')\n",
    "\n",
    "    for i, (key, classifier) in enumerate(classifiers_2_all.items()):\n",
    "        y_pred = classifier.fit(X_train_data, y_train).predict(X_test_data)\n",
    "        cf_matrix = confusion_matrix(y_test, y_pred)\n",
    "        metrics = get_metrics(cf_matrix)\n",
    "        disp = ConfusionMatrixDisplay(cf_matrix)\n",
    "        disp.plot(ax=axes[i], xticks_rotation=45)\n",
    "        precision = '{0:.2f}'.format(metrics['precision'])\n",
    "        recall = '{0:.2f}'.format(metrics['recall'])\n",
    "        text = \"\"\"precision: {0}\n",
    "                  recall: {1}\"\"\".format(precision, recall)\n",
    "        axes[i].annotate(text, xy=(1, 0), xycoords='axes fraction', fontsize=16,\n",
    "                         xytext=(-60, -40), textcoords='offset points',\n",
    "                         ha='right', va='top')\n",
    "        disp.ax_.set_title(key)\n",
    "        disp.im_.colorbar.remove()\n",
    "        disp.ax_.set_xlabel('')\n",
    "        if i != 0:\n",
    "            disp.ax_.set_ylabel('')\n",
    "        curr_pred_details = pd.DataFrame(data=X_test)\n",
    "        curr_pred_details['pred'] = y_pred\n",
    "        pred_details[key] = curr_pred_details\n",
    "\n",
    "    f.text(0.45, 0.1, 'Predicted label', ha='left')\n",
    "    plt.subplots_adjust(wspace=0.40, hspace=0.1)\n",
    "    plt.show()\n",
    "    return classifiers_2_all, pred_details"
   ],
   "metadata": {
    "collapsed": false,
    "pycharm": {
     "name": "#%%\n"
    }
   }
  },
  {
   "cell_type": "code",
   "execution_count": 91,
   "outputs": [],
   "source": [
    "# run all subj (~15min, 6 subj)\n",
    "y_all_bi = get_all_y_multi_channel()\n",
    "clear_output()\n",
    "feat_avg = get_all_feat_avg_channels()\n",
    "# feat_all_eog1 = get_all_feat_eog('1')\n",
    "feat_all_eog2 = get_all_feat_eog('2')\n",
    "# feat_all_eog_bi = pd.concat([feat_all_eog1.add_suffix('_1'), feat_all_eog2.iloc[:, 2:].add_suffix('_2')], axis=1)\n",
    "feat_avg.reset_index(inplace=True, drop=True)\n",
    "feat_all_eog2.reset_index(inplace=True, drop=True)\n",
    "feat_eog2_avg = pd.concat([feat_avg, feat_all_eog2.iloc[:, 2:].add_suffix('_2')], axis=1)\n",
    "clear_output()"
   ],
   "metadata": {
    "collapsed": false,
    "pycharm": {
     "name": "#%%\n"
    }
   }
  },
  {
   "cell_type": "code",
   "execution_count": null,
   "outputs": [],
   "source": [
    "feat_pz = get_all_feat_by_chan('PZ')\n",
    "# feat_c3 = get_all_feat_chan('C3')\n",
    "# feat_c4 = get_all_feat_chan('C4')\n",
    "# clear_output()"
   ],
   "metadata": {
    "collapsed": false,
    "pycharm": {
     "name": "#%%\n",
     "is_executing": true
    }
   }
  },
  {
   "cell_type": "code",
   "execution_count": 113,
   "outputs": [
    {
     "data": {
      "text/plain": "<Figure size 720x360 with 2 Axes>",
      "image/png": "[encoded data removed]"
     },
     "metadata": {},
     "output_type": "display_data"
    }
   ],
   "source": [
    "cls_all, pred_details = plt_cls(feat_pz, y_all_bi, stratify=True)"
   ],
   "metadata": {
    "collapsed": false,
    "pycharm": {
     "name": "#%%\n"
    }
   }
  },
  {
   "cell_type": "code",
   "execution_count": 116,
   "outputs": [
    {
     "data": {
      "text/plain": "<Figure size 720x360 with 2 Axes>",
      "image/png": "[encoded data removed]"
     },
     "metadata": {},
     "output_type": "display_data"
    }
   ],
   "source": [
    "pred_details_80 = plt_80(cls_all, feat_pz, y_all_bi, stratify=True)"
   ],
   "metadata": {
    "collapsed": false,
    "pycharm": {
     "name": "#%%\n"
    }
   }
  },
  {
   "cell_type": "code",
   "execution_count": null,
   "outputs": [],
   "source": [
    "# read all subj\n",
    "y_all_bi = np.load('y_all_ff_bi.npy')\n",
    "feat_all_eog1 = pd.read_pickle('feat_all_eog1.pkl')\n",
    "feat_all_eog2 = pd.read_pickle('feat_all_eog2.pkl')\n",
    "feat_all_eog_bi = pd.concat([feat_all_eog1.add_suffix('_1'), feat_all_eog2.iloc[:, 2:].add_suffix('_2')], axis=1)\n",
    "clear_output()"
   ],
   "metadata": {
    "collapsed": false,
    "pycharm": {
     "name": "#%%\n",
     "is_executing": true
    }
   }
  },
  {
   "cell_type": "code",
   "execution_count": 119,
   "outputs": [],
   "source": [
    "# save stuff\n",
    "# np.save('y_all_ff_bi.npy', y_all_bi)\n",
    "# feat_all_eog1.to_pickle('feat_all_eog1.pkl')"
   ],
   "metadata": {
    "collapsed": false,
    "pycharm": {
     "name": "#%%\n"
    }
   }
  },
  {
   "cell_type": "code",
   "execution_count": 50,
   "outputs": [],
   "source": [
    "feat_all_scalp = get_all_feat_channels()\n",
    "clear_output()"
   ],
   "metadata": {
    "collapsed": false,
    "pycharm": {
     "name": "#%%\n"
    }
   }
  },
  {
   "cell_type": "code",
   "execution_count": 65,
   "outputs": [],
   "source": [
    "y_all_right = get_all_y_multi_channel_side('R')\n",
    "y_all_left = get_all_y_multi_channel_side('L')\n",
    "clear_output()"
   ],
   "metadata": {
    "collapsed": false,
    "pycharm": {
     "name": "#%%\n"
    }
   }
  },
  {
   "cell_type": "code",
   "execution_count": 140,
   "outputs": [],
   "source": [
    "# plt.rcParams[\"figure.figsize\"] = (15,7)\n",
    "# lightgbm.plot_importance(jl_model)"
   ],
   "metadata": {
    "collapsed": false,
    "pycharm": {
     "name": "#%%\n"
    }
   }
  },
  {
   "cell_type": "code",
   "execution_count": null,
   "outputs": [],
   "source": [
    "prob = pd.DataFrame(classifiers['LGBM'].predict_proba(X_test))\n",
    "prob[prob[0] < 0.99].sort_values(by=prob.columns[1])[1].hist()"
   ],
   "metadata": {
    "collapsed": false,
    "pycharm": {
     "name": "#%%\n"
    }
   }
  },
  {
   "cell_type": "code",
   "execution_count": null,
   "outputs": [],
   "source": [
    "# health_raw = mne.io.read_raw_egi('/Users/rotemfalach/Downloads/MG4_sleep2_20190503_125004.mff')\n",
    "health_raw = mne.io.read_raw_egi('C:\\\\PAT\\\\AH8_SLEEP_20201125_155835.mff')\n",
    "# this is the  left set referenced to RM, while EOG referenced to LM\n",
    "selected_set = [['E226', 'E46', 'E104', 'E35', 'E59', 'E116', 'E201'],\n",
    "                ['EOG E1-LM', 'EOG E2-LM', 'LM', 'EEG F3-RM', 'EEG C3-RM', 'EEG O1-RM', 'RM']]\n",
    "health_raw.pick_channels(selected_set[0]).resample(sr)\n",
    "# order channels according to selected set, MNE default is alphabetical\n",
    "health_raw.reorder_channels(selected_set[0])\n",
    "\n",
    "# rename channels\n",
    "health_raw.rename_channels({id: name for (id, name) in zip(selected_set[0], selected_set[1])})\n",
    "# set EOG channels as MNE type \"ecog\" for re-refrencing\n",
    "health_raw.set_channel_types({selected_set[1][i]: 'ecog' for i in range(2)})\n",
    "# re-reference channels\n",
    "health_raw.set_eeg_reference(ref_channels=[selected_set[1][2]], ch_type='ecog')\n",
    "health_raw.set_channel_types({selected_set[1][i]: 'eog' for i in range(2)})\n",
    "health_raw.drop_channels([selected_set[1][2], selected_set[1][6]])"
   ],
   "metadata": {
    "collapsed": false,
    "pycharm": {
     "name": "#%%\n"
    }
   }
  },
  {
   "cell_type": "code",
   "execution_count": 178,
   "outputs": [],
   "source": [
    "health_raw"
   ],
   "metadata": {
    "collapsed": false,
    "pycharm": {
     "name": "#%%\n"
    }
   }
  },
  {
   "cell_type": "code",
   "execution_count": 46,
   "outputs": [
    {
     "name": "stderr",
     "output_type": "stream",
     "text": [
      "c:\\users\\user\\pycharmprojects\\pythonproject\\venv\\lib\\site-packages\\scipy\\signal\\spectral.py:1963: UserWarning: nperseg = 256 is greater than input length  = 250, using nperseg = 250\n",
      "  .format(nperseg, input_length))\n"
     ]
    },
    {
     "ename": "ValueError",
     "evalue": "Number of features of the model must match the input. Model n_features_ is 66 and input n_features is 63",
     "output_type": "error",
     "traceback": [
      "\u001B[1;31m---------------------------------------------------------------------------\u001B[0m",
      "\u001B[1;31mValueError\u001B[0m                                Traceback (most recent call last)",
      "\u001B[1;32m~\\AppData\\Local\\Temp/ipykernel_19736/1511014023.py\u001B[0m in \u001B[0;36m<module>\u001B[1;34m\u001B[0m\n\u001B[0;32m      9\u001B[0m \u001B[1;33m\u001B[0m\u001B[0m\n\u001B[0;32m     10\u001B[0m \u001B[0mfeat_healthy_eye\u001B[0m \u001B[1;33m=\u001B[0m \u001B[0mcalc_features\u001B[0m\u001B[1;33m(\u001B[0m\u001B[0mepochs\u001B[0m\u001B[1;33m)\u001B[0m\u001B[1;33m\u001B[0m\u001B[1;33m\u001B[0m\u001B[0m\n\u001B[1;32m---> 11\u001B[1;33m \u001B[0my_healthy_pred\u001B[0m \u001B[1;33m=\u001B[0m \u001B[0mclassifiers\u001B[0m\u001B[1;33m[\u001B[0m\u001B[1;34m'LGBM'\u001B[0m\u001B[1;33m]\u001B[0m\u001B[1;33m.\u001B[0m\u001B[0mpredict\u001B[0m\u001B[1;33m(\u001B[0m\u001B[0mfeat_healthy_eye\u001B[0m\u001B[1;33m)\u001B[0m\u001B[1;33m\u001B[0m\u001B[1;33m\u001B[0m\u001B[0m\n\u001B[0m",
      "\u001B[1;32mc:\\users\\user\\pycharmprojects\\pythonproject\\venv\\lib\\site-packages\\lightgbm\\sklearn.py\u001B[0m in \u001B[0;36mpredict\u001B[1;34m(self, X, raw_score, start_iteration, num_iteration, pred_leaf, pred_contrib, **kwargs)\u001B[0m\n\u001B[0;32m    983\u001B[0m         \u001B[1;34m\"\"\"Docstring is inherited from the LGBMModel.\"\"\"\u001B[0m\u001B[1;33m\u001B[0m\u001B[1;33m\u001B[0m\u001B[0m\n\u001B[0;32m    984\u001B[0m         result = self.predict_proba(X, raw_score, start_iteration, num_iteration,\n\u001B[1;32m--> 985\u001B[1;33m                                     pred_leaf, pred_contrib, **kwargs)\n\u001B[0m\u001B[0;32m    986\u001B[0m         \u001B[1;32mif\u001B[0m \u001B[0mcallable\u001B[0m\u001B[1;33m(\u001B[0m\u001B[0mself\u001B[0m\u001B[1;33m.\u001B[0m\u001B[0m_objective\u001B[0m\u001B[1;33m)\u001B[0m \u001B[1;32mor\u001B[0m \u001B[0mraw_score\u001B[0m \u001B[1;32mor\u001B[0m \u001B[0mpred_leaf\u001B[0m \u001B[1;32mor\u001B[0m \u001B[0mpred_contrib\u001B[0m\u001B[1;33m:\u001B[0m\u001B[1;33m\u001B[0m\u001B[1;33m\u001B[0m\u001B[0m\n\u001B[0;32m    987\u001B[0m             \u001B[1;32mreturn\u001B[0m \u001B[0mresult\u001B[0m\u001B[1;33m\u001B[0m\u001B[1;33m\u001B[0m\u001B[0m\n",
      "\u001B[1;32mc:\\users\\user\\pycharmprojects\\pythonproject\\venv\\lib\\site-packages\\lightgbm\\sklearn.py\u001B[0m in \u001B[0;36mpredict_proba\u001B[1;34m(self, X, raw_score, start_iteration, num_iteration, pred_leaf, pred_contrib, **kwargs)\u001B[0m\n\u001B[0;32m    995\u001B[0m                       pred_leaf=False, pred_contrib=False, **kwargs):\n\u001B[0;32m    996\u001B[0m         \u001B[1;34m\"\"\"Docstring is set after definition, using a template.\"\"\"\u001B[0m\u001B[1;33m\u001B[0m\u001B[1;33m\u001B[0m\u001B[0m\n\u001B[1;32m--> 997\u001B[1;33m         \u001B[0mresult\u001B[0m \u001B[1;33m=\u001B[0m \u001B[0msuper\u001B[0m\u001B[1;33m(\u001B[0m\u001B[1;33m)\u001B[0m\u001B[1;33m.\u001B[0m\u001B[0mpredict\u001B[0m\u001B[1;33m(\u001B[0m\u001B[0mX\u001B[0m\u001B[1;33m,\u001B[0m \u001B[0mraw_score\u001B[0m\u001B[1;33m,\u001B[0m \u001B[0mstart_iteration\u001B[0m\u001B[1;33m,\u001B[0m \u001B[0mnum_iteration\u001B[0m\u001B[1;33m,\u001B[0m \u001B[0mpred_leaf\u001B[0m\u001B[1;33m,\u001B[0m \u001B[0mpred_contrib\u001B[0m\u001B[1;33m,\u001B[0m \u001B[1;33m**\u001B[0m\u001B[0mkwargs\u001B[0m\u001B[1;33m)\u001B[0m\u001B[1;33m\u001B[0m\u001B[1;33m\u001B[0m\u001B[0m\n\u001B[0m\u001B[0;32m    998\u001B[0m         \u001B[1;32mif\u001B[0m \u001B[0mcallable\u001B[0m\u001B[1;33m(\u001B[0m\u001B[0mself\u001B[0m\u001B[1;33m.\u001B[0m\u001B[0m_objective\u001B[0m\u001B[1;33m)\u001B[0m \u001B[1;32mand\u001B[0m \u001B[1;32mnot\u001B[0m \u001B[1;33m(\u001B[0m\u001B[0mraw_score\u001B[0m \u001B[1;32mor\u001B[0m \u001B[0mpred_leaf\u001B[0m \u001B[1;32mor\u001B[0m \u001B[0mpred_contrib\u001B[0m\u001B[1;33m)\u001B[0m\u001B[1;33m:\u001B[0m\u001B[1;33m\u001B[0m\u001B[1;33m\u001B[0m\u001B[0m\n\u001B[0;32m    999\u001B[0m             _log_warning(\"Cannot compute class probabilities or labels \"\n",
      "\u001B[1;32mc:\\users\\user\\pycharmprojects\\pythonproject\\venv\\lib\\site-packages\\lightgbm\\sklearn.py\u001B[0m in \u001B[0;36mpredict\u001B[1;34m(self, X, raw_score, start_iteration, num_iteration, pred_leaf, pred_contrib, **kwargs)\u001B[0m\n\u001B[0;32m    798\u001B[0m         \u001B[0mn_features\u001B[0m \u001B[1;33m=\u001B[0m \u001B[0mX\u001B[0m\u001B[1;33m.\u001B[0m\u001B[0mshape\u001B[0m\u001B[1;33m[\u001B[0m\u001B[1;36m1\u001B[0m\u001B[1;33m]\u001B[0m\u001B[1;33m\u001B[0m\u001B[1;33m\u001B[0m\u001B[0m\n\u001B[0;32m    799\u001B[0m         \u001B[1;32mif\u001B[0m \u001B[0mself\u001B[0m\u001B[1;33m.\u001B[0m\u001B[0m_n_features\u001B[0m \u001B[1;33m!=\u001B[0m \u001B[0mn_features\u001B[0m\u001B[1;33m:\u001B[0m\u001B[1;33m\u001B[0m\u001B[1;33m\u001B[0m\u001B[0m\n\u001B[1;32m--> 800\u001B[1;33m             raise ValueError(\"Number of features of the model must \"\n\u001B[0m\u001B[0;32m    801\u001B[0m                              \u001B[1;34mf\"match the input. Model n_features_ is {self._n_features} and \"\u001B[0m\u001B[1;33m\u001B[0m\u001B[1;33m\u001B[0m\u001B[0m\n\u001B[0;32m    802\u001B[0m                              f\"input n_features is {n_features}\")\n",
      "\u001B[1;31mValueError\u001B[0m: Number of features of the model must match the input. Model n_features_ is 66 and input n_features is 63"
     ]
    }
   ],
   "source": [
    "epochs = []\n",
    "health_data = health_raw.pick_channels(['EOG E2-LM']).get_data()[0]\n",
    "window_size = 250\n",
    "for i in range(0, len(health_data), window_size):\n",
    "    curr_block = health_data[i: i  + window_size]\n",
    "    if i + window_size < len(health_data):\n",
    "        epochs.append(curr_block)\n",
    "epochs = np.array(epochs)\n",
    "\n",
    "feat_healthy_eye = calc_features(epochs)\n",
    "y_healthy_pred = classifiers['LGBM'].predict(feat_healthy_eye)"
   ],
   "metadata": {
    "collapsed": false,
    "pycharm": {
     "name": "#%%\n"
    }
   }
  },
  {
   "cell_type": "code",
   "execution_count": null,
   "outputs": [],
   "source": [
    "# i_pred = X_test[y_pred == 1].sort_values(by='epoch').index.tolist()\n",
    "# i_pred.sort()\n",
    "# for i in i_pred[:20]:\n",
    "#     fig, axs = plt.subplots(3, figsize=(4, 4))\n",
    "#     axs[0].set_title(i)\n",
    "#     pred_view = np.concatenate(x_AH[i - 2: i + 3])\n",
    "#     axs[0].plot(pred_view)\n",
    "#     axs[0].plot(range(500, 750), x_AH[i], c='red')\n",
    "#     pred_view = np.concatenate(x_bi[i - 2: i + 3])\n",
    "#     axs[2].plot(pred_view)\n",
    "#     axs[2].plot(range(500, 750), x_bi[i], c='black')\n",
    "#     pred_view = np.concatenate(x_A[i - 2: i + 3])\n",
    "#     axs[1].plot(pred_view)\n",
    "#     axs[1].plot(range(500, 750), x_A[i], c='green')"
   ],
   "metadata": {
    "collapsed": false,
    "pycharm": {
     "name": "#%%\n"
    }
   }
  },
  {
   "cell_type": "code",
   "execution_count": 192,
   "outputs": [
    {
     "data": {
      "text/plain": "      subj  epoch_id           std           iqr          skew          kurt  \\\n23240  402     23240  0.0000061805  0.0000075643  0.9043173818 -0.3731787874   \n3160   396      3160  0.0000015439  0.0000014184  1.2441867937  2.8720089154   \n66123  406     66123  0.0000113751  0.0000174620  0.6558363180 -0.9007563222   \n67080  406     67080  0.0000144562  0.0000265708  0.0766952076 -1.3312275436   \n33942  416     33942  0.0000160657  0.0000257005 -0.7877683070 -0.8680450799   \n...    ...       ...           ...           ...           ...           ...   \n54993  416     54993  0.0000283590  0.0000575902 -0.2651708552 -1.5181737549   \n11996  402     11996  0.0000064861  0.0000102593 -0.7229266879 -0.9711183663   \n40838  398     40838  0.0000063683  0.0000071969  1.0122663829  0.4029225544   \n69724  415     69724  0.0000177436  0.0000232742  0.2568682451 -0.3455045616   \n67826  415     67826  0.0000044657  0.0000061504 -0.5092255460  0.1382920385   \n\n       nzc          hmob          hcomp         theta  ...  at_pmin_norm_2  \\\n23240    3  0.0423529503   4.2800305518  0.5429664511  ...    0.2645690743   \n3160     1  0.0885457408   4.0280318501  0.2986484320  ...   -0.1012437133   \n66123    3  0.0466058011   2.9958969500  0.5193868697  ...    0.3819044301   \n67080    3  0.0388921002   2.9789513262  0.6251846699  ...    0.4051571890   \n33942    3  0.0372607046   2.4768767475  0.6232854062  ...   -0.1516864810   \n...    ...           ...            ...           ...  ...             ...   \n54993    0  0.0321858028   2.5324087236  0.7895380142  ...   -0.1960620407   \n11996    4  0.0240940966  12.6296137546  0.8588380423  ...    0.2507096879   \n40838    3  0.0307351829   7.1365384256  0.6609515663  ...    0.1455676836   \n69724    5  0.0544904173   1.6602074105  0.2939775346  ...    0.2763069495   \n67826    2  0.0440500839   6.5186101450  0.6280140188  ...   -0.0729048003   \n\n       gt_pmin_norm_2  ft_pmin_norm_2  ag_pmin_norm_2  af_pmin_norm_2  \\\n23240   -0.0638160215   -0.1207882743   -0.0799799096   -0.1765310793   \n3160     0.2246993063    0.2958636940    0.3112901272    0.3783851142   \n66123   -0.0289513737   -0.0862293586   -0.0411525961   -0.0117236570   \n67080   -0.0369814968    0.3431210163   -0.0602406452    0.1373595454   \n33942    0.3012074164   -0.0692659259    0.3760420507   -0.0496499390   \n...               ...             ...             ...             ...   \n54993   -0.1117743548   -0.1378050342   -0.1161920907   -0.1534598601   \n11996    0.5513401968    0.9792089970    0.2340487241    0.3945459644   \n40838    0.0319967697    0.5084866915   -0.0059247001    0.2553098439   \n69724    0.4486608213   -0.1435390011    0.1586304505   -0.1775994554   \n67826   -0.0556150442   -0.0719796734   -0.0593937871   -0.0776940723   \n\n       abspow_pmin_norm_2  perm_pmin_norm_2  higuchi_pmin_norm_2  \\\n23240        0.5403751808     -0.1934291748        -0.1128452484   \n3160        -0.1466988235      0.3952240036         0.2303743386   \n66123        0.2800988129      0.0140576637         0.1340014094   \n67080       -0.1384635840      0.5474291148         0.0633132832   \n33942        0.2171681939      0.0304982949        -0.2225433291   \n...                   ...               ...                  ...   \n54993        0.5412905042     -0.2784039606         0.0985758979   \n11996        0.4358849056     -0.0532248622        -0.1494672468   \n40838       -0.0113539616     -0.1952777094        -0.1599477270   \n69724        1.1745734530     -0.3772368067        -0.0324116335   \n67826       -0.0054565618      0.1750383663        -0.0382780804   \n\n       petrosian_pmin_norm_2  pred  \n23240          -0.3068614195     0  \n3160            0.4255226684     0  \n66123           0.0499600248     0  \n67080           0.6778949435     0  \n33942          -0.0136032034     0  \n...                      ...   ...  \n54993          -0.1745302021     0  \n11996           0.0919514509     0  \n40838           0.1573219860     0  \n69724          -0.3827457981     0  \n67826           0.2000439054     0  \n\n[146358 rows x 135 columns]",
      "text/html": "<div>\n<style scoped>\n    .dataframe tbody tr th:only-of-type {\n        vertical-align: middle;\n    }\n\n    .dataframe tbody tr th {\n        vertical-align: top;\n    }\n\n    .dataframe thead th {\n        text-align: right;\n    }\n</style>\n<table border=\"1\" class=\"dataframe\">\n  <thead>\n    <tr style=\"text-align: right;\">\n      <th></th>\n      <th>subj</th>\n      <th>epoch_id</th>\n      <th>std</th>\n      <th>iqr</th>\n      <th>skew</th>\n      <th>kurt</th>\n      <th>nzc</th>\n      <th>hmob</th>\n      <th>hcomp</th>\n      <th>theta</th>\n      <th>...</th>\n      <th>at_pmin_norm_2</th>\n      <th>gt_pmin_norm_2</th>\n      <th>ft_pmin_norm_2</th>\n      <th>ag_pmin_norm_2</th>\n      <th>af_pmin_norm_2</th>\n      <th>abspow_pmin_norm_2</th>\n      <th>perm_pmin_norm_2</th>\n      <th>higuchi_pmin_norm_2</th>\n      <th>petrosian_pmin_norm_2</th>\n      <th>pred</th>\n    </tr>\n  </thead>\n  <tbody>\n    <tr>\n      <th>23240</th>\n      <td>402</td>\n      <td>23240</td>\n      <td>0.0000061805</td>\n      <td>0.0000075643</td>\n      <td>0.9043173818</td>\n      <td>-0.3731787874</td>\n      <td>3</td>\n      <td>0.0423529503</td>\n      <td>4.2800305518</td>\n      <td>0.5429664511</td>\n      <td>...</td>\n      <td>0.2645690743</td>\n      <td>-0.0638160215</td>\n      <td>-0.1207882743</td>\n      <td>-0.0799799096</td>\n      <td>-0.1765310793</td>\n      <td>0.5403751808</td>\n      <td>-0.1934291748</td>\n      <td>-0.1128452484</td>\n      <td>-0.3068614195</td>\n      <td>0</td>\n    </tr>\n    <tr>\n      <th>3160</th>\n      <td>396</td>\n      <td>3160</td>\n      <td>0.0000015439</td>\n      <td>0.0000014184</td>\n      <td>1.2441867937</td>\n      <td>2.8720089154</td>\n      <td>1</td>\n      <td>0.0885457408</td>\n      <td>4.0280318501</td>\n      <td>0.2986484320</td>\n      <td>...</td>\n      <td>-0.1012437133</td>\n      <td>0.2246993063</td>\n      <td>0.2958636940</td>\n      <td>0.3112901272</td>\n      <td>0.3783851142</td>\n      <td>-0.1466988235</td>\n      <td>0.3952240036</td>\n      <td>0.2303743386</td>\n      <td>0.4255226684</td>\n      <td>0</td>\n    </tr>\n    <tr>\n      <th>66123</th>\n      <td>406</td>\n      <td>66123</td>\n      <td>0.0000113751</td>\n      <td>0.0000174620</td>\n      <td>0.6558363180</td>\n      <td>-0.9007563222</td>\n      <td>3</td>\n      <td>0.0466058011</td>\n      <td>2.9958969500</td>\n      <td>0.5193868697</td>\n      <td>...</td>\n      <td>0.3819044301</td>\n      <td>-0.0289513737</td>\n      <td>-0.0862293586</td>\n      <td>-0.0411525961</td>\n      <td>-0.0117236570</td>\n      <td>0.2800988129</td>\n      <td>0.0140576637</td>\n      <td>0.1340014094</td>\n      <td>0.0499600248</td>\n      <td>0</td>\n    </tr>\n    <tr>\n      <th>67080</th>\n      <td>406</td>\n      <td>67080</td>\n      <td>0.0000144562</td>\n      <td>0.0000265708</td>\n      <td>0.0766952076</td>\n      <td>-1.3312275436</td>\n      <td>3</td>\n      <td>0.0388921002</td>\n      <td>2.9789513262</td>\n      <td>0.6251846699</td>\n      <td>...</td>\n      <td>0.4051571890</td>\n      <td>-0.0369814968</td>\n      <td>0.3431210163</td>\n      <td>-0.0602406452</td>\n      <td>0.1373595454</td>\n      <td>-0.1384635840</td>\n      <td>0.5474291148</td>\n      <td>0.0633132832</td>\n      <td>0.6778949435</td>\n      <td>0</td>\n    </tr>\n    <tr>\n      <th>33942</th>\n      <td>416</td>\n      <td>33942</td>\n      <td>0.0000160657</td>\n      <td>0.0000257005</td>\n      <td>-0.7877683070</td>\n      <td>-0.8680450799</td>\n      <td>3</td>\n      <td>0.0372607046</td>\n      <td>2.4768767475</td>\n      <td>0.6232854062</td>\n      <td>...</td>\n      <td>-0.1516864810</td>\n      <td>0.3012074164</td>\n      <td>-0.0692659259</td>\n      <td>0.3760420507</td>\n      <td>-0.0496499390</td>\n      <td>0.2171681939</td>\n      <td>0.0304982949</td>\n      <td>-0.2225433291</td>\n      <td>-0.0136032034</td>\n      <td>0</td>\n    </tr>\n    <tr>\n      <th>...</th>\n      <td>...</td>\n      <td>...</td>\n      <td>...</td>\n      <td>...</td>\n      <td>...</td>\n      <td>...</td>\n      <td>...</td>\n      <td>...</td>\n      <td>...</td>\n      <td>...</td>\n      <td>...</td>\n      <td>...</td>\n      <td>...</td>\n      <td>...</td>\n      <td>...</td>\n      <td>...</td>\n      <td>...</td>\n      <td>...</td>\n      <td>...</td>\n      <td>...</td>\n      <td>...</td>\n    </tr>\n    <tr>\n      <th>54993</th>\n      <td>416</td>\n      <td>54993</td>\n      <td>0.0000283590</td>\n      <td>0.0000575902</td>\n      <td>-0.2651708552</td>\n      <td>-1.5181737549</td>\n      <td>0</td>\n      <td>0.0321858028</td>\n      <td>2.5324087236</td>\n      <td>0.7895380142</td>\n      <td>...</td>\n      <td>-0.1960620407</td>\n      <td>-0.1117743548</td>\n      <td>-0.1378050342</td>\n      <td>-0.1161920907</td>\n      <td>-0.1534598601</td>\n      <td>0.5412905042</td>\n      <td>-0.2784039606</td>\n      <td>0.0985758979</td>\n      <td>-0.1745302021</td>\n      <td>0</td>\n    </tr>\n    <tr>\n      <th>11996</th>\n      <td>402</td>\n      <td>11996</td>\n      <td>0.0000064861</td>\n      <td>0.0000102593</td>\n      <td>-0.7229266879</td>\n      <td>-0.9711183663</td>\n      <td>4</td>\n      <td>0.0240940966</td>\n      <td>12.6296137546</td>\n      <td>0.8588380423</td>\n      <td>...</td>\n      <td>0.2507096879</td>\n      <td>0.5513401968</td>\n      <td>0.9792089970</td>\n      <td>0.2340487241</td>\n      <td>0.3945459644</td>\n      <td>0.4358849056</td>\n      <td>-0.0532248622</td>\n      <td>-0.1494672468</td>\n      <td>0.0919514509</td>\n      <td>0</td>\n    </tr>\n    <tr>\n      <th>40838</th>\n      <td>398</td>\n      <td>40838</td>\n      <td>0.0000063683</td>\n      <td>0.0000071969</td>\n      <td>1.0122663829</td>\n      <td>0.4029225544</td>\n      <td>3</td>\n      <td>0.0307351829</td>\n      <td>7.1365384256</td>\n      <td>0.6609515663</td>\n      <td>...</td>\n      <td>0.1455676836</td>\n      <td>0.0319967697</td>\n      <td>0.5084866915</td>\n      <td>-0.0059247001</td>\n      <td>0.2553098439</td>\n      <td>-0.0113539616</td>\n      <td>-0.1952777094</td>\n      <td>-0.1599477270</td>\n      <td>0.1573219860</td>\n      <td>0</td>\n    </tr>\n    <tr>\n      <th>69724</th>\n      <td>415</td>\n      <td>69724</td>\n      <td>0.0000177436</td>\n      <td>0.0000232742</td>\n      <td>0.2568682451</td>\n      <td>-0.3455045616</td>\n      <td>5</td>\n      <td>0.0544904173</td>\n      <td>1.6602074105</td>\n      <td>0.2939775346</td>\n      <td>...</td>\n      <td>0.2763069495</td>\n      <td>0.4486608213</td>\n      <td>-0.1435390011</td>\n      <td>0.1586304505</td>\n      <td>-0.1775994554</td>\n      <td>1.1745734530</td>\n      <td>-0.3772368067</td>\n      <td>-0.0324116335</td>\n      <td>-0.3827457981</td>\n      <td>0</td>\n    </tr>\n    <tr>\n      <th>67826</th>\n      <td>415</td>\n      <td>67826</td>\n      <td>0.0000044657</td>\n      <td>0.0000061504</td>\n      <td>-0.5092255460</td>\n      <td>0.1382920385</td>\n      <td>2</td>\n      <td>0.0440500839</td>\n      <td>6.5186101450</td>\n      <td>0.6280140188</td>\n      <td>...</td>\n      <td>-0.0729048003</td>\n      <td>-0.0556150442</td>\n      <td>-0.0719796734</td>\n      <td>-0.0593937871</td>\n      <td>-0.0776940723</td>\n      <td>-0.0054565618</td>\n      <td>0.1750383663</td>\n      <td>-0.0382780804</td>\n      <td>0.2000439054</td>\n      <td>0</td>\n    </tr>\n  </tbody>\n</table>\n<p>146358 rows × 135 columns</p>\n</div>"
     },
     "execution_count": 192,
     "metadata": {},
     "output_type": "execute_result"
    }
   ],
   "source": [
    "pred_details['Random Forest']"
   ],
   "metadata": {
    "collapsed": false,
    "pycharm": {
     "name": "#%%\n"
    }
   }
  },
  {
   "cell_type": "code",
   "execution_count": 51,
   "outputs": [],
   "source": [
    "feat_all_eog_bi = pd.concat([feat_all_eog1.add_suffix('_1'), feat_all_eog2.iloc[:, 2:].add_suffix('_2')], axis=1)\n",
    "feat_all_scalp_eog = pd.concat([feat_all_eog_bi, feat_all_scalp.iloc[:, 2:]], axis=1)"
   ],
   "metadata": {
    "collapsed": false,
    "pycharm": {
     "name": "#%%\n"
    }
   }
  },
  {
   "cell_type": "code",
   "execution_count": null,
   "outputs": [],
   "source": [
    "pred_epochs = pred_details[(pred_details['subj'] == '402') & (pred_details['pred'] ==1 )].epoch_id.tolist()\n",
    "pred_epochs.sort()"
   ],
   "metadata": {
    "collapsed": false,
    "pycharm": {
     "name": "#%%\n"
    }
   }
  },
  {
   "cell_type": "code",
   "execution_count": 102,
   "outputs": [
    {
     "name": "stdout",
     "output_type": "stream",
     "text": [
      "[15:09:31] WARNING: C:/Users/Administrator/workspace/xgboost-win64_release_1.5.0/src/learner.cc:1115: Starting in XGBoost 1.3.0, the default evaluation metric used with the objective 'multi:softmax' was changed from 'merror' to 'mlogloss'. Explicitly set eval_metric if you'd like to restore the old behavior.\n"
     ]
    },
    {
     "data": {
      "text/plain": "<Figure size 1440x360 with 3 Axes>",
      "image/png": "[encoded data removed]"
     },
     "metadata": {},
     "output_type": "display_data"
    }
   ],
   "source": [
    "subj = '38'\n",
    "y_bi_416 = get_all_y_multi_channel([subj])\n",
    "# y_r = get_all_y_multi_channel_side('R', [subj])\n",
    "# y_l = get_all_y_multi_channel_side('L', [subj])\n",
    "feat_eog1_416 = get_all_feat_eog('1', [subj])\n",
    "feat_eog2_416 = get_all_feat_eog('2', [subj])\n",
    "feat_eog_bi_416 = pd.concat([feat_eog1_416.add_suffix('_1'), feat_eog2_416.add_suffix('_2')], axis=1)\n",
    "clear_output()\n",
    "cls_416_bi, pred_416 = plt_cls(feat_eog_bi_416, y_bi_416)"
   ],
   "metadata": {
    "collapsed": false,
    "pycharm": {
     "name": "#%%\n"
    }
   }
  },
  {
   "cell_type": "code",
   "execution_count": 103,
   "outputs": [
    {
     "data": {
      "text/plain": "<Figure size 1440x360 with 3 Axes>",
      "image/png": "[encoded data removed]"
     },
     "metadata": {},
     "output_type": "display_data"
    }
   ],
   "source": [
    "pred_416_80 = plt_80(cls_416_bi, feat_eog_bi_416, y_bi_416)"
   ],
   "metadata": {
    "collapsed": false,
    "pycharm": {
     "name": "#%%\n"
    }
   }
  },
  {
   "cell_type": "code",
   "execution_count": null,
   "outputs": [],
   "source": [
    "# before calling to calc feat, per row/col, sub mean from all for center, minmax or z score, per channel or per epoch\n",
    "# copy hist, remove XGB?, save results 7, use forest for detection"
   ],
   "metadata": {
    "collapsed": false,
    "pycharm": {
     "name": "#%%\n"
    }
   }
  },
  {
   "cell_type": "code",
   "execution_count": 107,
   "outputs": [],
   "source": [
    "details = pred_details['Random Forest']\n",
    "details[(details['pred'] ==1 )].sort_values(by='subj')[['subj', 'epoch_id']].to_csv('rf_filter_lgbm_scalp_avg_eog2_7.csv')"
   ],
   "metadata": {
    "collapsed": false,
    "pycharm": {
     "name": "#%%\n"
    }
   }
  },
  {
   "cell_type": "code",
   "execution_count": 219,
   "outputs": [
    {
     "data": {
      "text/plain": "['filter_lgbm_scalp_avg_eog2_80.pkl']"
     },
     "execution_count": 219,
     "metadata": {},
     "output_type": "execute_result"
    }
   ],
   "source": [
    "joblib.dump(pred_details, 'filter_lgbm_scalp_avg_eog2_80.pkl')"
   ],
   "metadata": {
    "collapsed": false,
    "pycharm": {
     "name": "#%%\n"
    }
   }
  },
  {
   "cell_type": "code",
   "execution_count": null,
   "outputs": [],
   "source": [
    "# save depth detection files\n",
    "for subj in ['38']:\n",
    "    y_bi = get_all_y_multi_channel([subj])\n",
    "    spike_index = np.transpose((y_bi == 1).nonzero())\n",
    "    pd.DataFrame(spike_index).to_csv(f\"filter_depth_lgbm_{subj}.csv\", header=False, index=False)"
   ],
   "metadata": {
    "collapsed": false,
    "pycharm": {
     "name": "#%%\n",
     "is_executing": true
    }
   }
  },
  {
   "cell_type": "code",
   "execution_count": 121,
   "outputs": [
    {
     "data": {
      "text/plain": "<AxesSubplot:>"
     },
     "execution_count": 121,
     "metadata": {},
     "output_type": "execute_result"
    },
    {
     "data": {
      "text/plain": "<Figure size 432x288 with 1 Axes>",
      "image/png": "[encoded data removed]"
     },
     "metadata": {},
     "output_type": "display_data"
    }
   ],
   "source": [
    "# check detection distribution\n",
    "details = pred_details_80['Random Forest']\n",
    "details[(details['pred'] > 0.8)].sort_values(by='subj')['subj'].hist()"
   ],
   "metadata": {
    "collapsed": false,
    "pycharm": {
     "name": "#%%\n"
    }
   }
  },
  {
   "cell_type": "code",
   "execution_count": null,
   "outputs": [],
   "source": [],
   "metadata": {
    "collapsed": false,
    "pycharm": {
     "name": "#%%\n",
     "is_executing": true
    }
   }
  },
  {
   "cell_type": "code",
   "execution_count": null,
   "outputs": [],
   "source": [],
   "metadata": {
    "collapsed": false,
    "pycharm": {
     "name": "#%%\n"
    }
   }
  }
 ],
 "metadata": {
  "kernelspec": {
   "display_name": "Python 3",
   "language": "python",
   "name": "python3"
  },
  "language_info": {
   "codemirror_mode": {
    "name": "ipython",
    "version": 2
   },
   "file_extension": ".py",
   "mimetype": "text/x-python",
   "name": "python",
   "nbconvert_exporter": "python",
   "pygments_lexer": "ipython2",
   "version": "2.7.6"
  }
 },
 "nbformat": 4,
 "nbformat_minor": 0
}