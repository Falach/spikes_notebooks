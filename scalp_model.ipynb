{
 "cells": [
  {
   "cell_type": "code",
   "execution_count": 1,
   "metadata": {},
   "outputs": [],
   "source": [
    "import numpy as np\n",
    "import pandas as pd\n",
    "import mne\n",
    "from sklearn.model_selection import train_test_split\n",
    "from matplotlib import pyplot as plt\n",
    "from sklearn.ensemble import RandomForestClassifier\n",
    "from sklearn.metrics import confusion_matrix, ConfusionMatrixDisplay\n",
    "from sklearn.metrics import plot_confusion_matrix\n",
    "from lightgbm import LGBMClassifier\n",
    "import lightgbm\n",
    "from scipy.stats import zscore\n",
    "from datetime import datetime\n",
    "import xgboost as xgb\n",
    "import antropy as ant\n",
    "import scipy.signal as sp_sig\n",
    "import scipy.stats as sp_stats\n",
    "from sklearn.preprocessing import robust_scale\n",
    "from visbrain.io.rw_hypno import read_hypno\n",
    "from ipynb.fs.defs.yasa_model import calc_features, get_metrics, bandpower_from_psd_ndarray\n",
    "import joblib\n",
    "from IPython.display import clear_output\n",
    "from sklearn.feature_selection import VarianceThreshold\n",
    "from imblearn.ensemble import BalancedRandomForestClassifier\n",
    "from imblearn.over_sampling import SMOTE\n",
    "from sklearn.tree import plot_tree\n",
    "plt.style.use('dark_background')\n",
    "pd.options.display.precision = 10"
   ]
  },
  {
   "cell_type": "code",
   "execution_count": null,
   "metadata": {
    "pycharm": {
     "name": "#%%\n",
     "is_executing": true
    }
   },
   "outputs": [],
   "source": [
    "# joblib_file = 'lgbm_model_multichannel.pkl'\n",
    "# model = joblib.load('forest_full_7s.pkl')\n",
    "#model = joblib.load('rf_thesis.pkl')\n",
    "#features_names = pd.read_csv('features_thesis.csv').columns.tolist()\n",
    "model = joblib.load('lgbm_fast.pkl')\n",
    "features_names = pd.read_csv('features_fast.csv').columns.tolist()\n"
   ]
  },
  {
   "cell_type": "code",
   "execution_count": 3,
   "metadata": {
    "pycharm": {
     "name": "#%%\n"
    }
   },
   "outputs": [],
   "source": [
    "####################\n",
    "# MAIN PARAMETERS\n",
    "####################\n",
    "\n",
    "# # Bandpass filter\n",
    "# freq_broad = (0.1, 500)\n",
    "# # FFT & bandpower parameters\n",
    "sr = 1000\n",
    "# edf_path = 'C:\\\\UCLA\\\\P%s_full_filtered.edf'\n",
    "edf_path = 'C:\\\\Users\\\\user\\\\PycharmProjects\\\\pythonProject\\\\%s_clean.edf'\n",
    "# edf_path = 'C:\\\\UCLA\\\\P%s_overnightData.edf'\n",
    "# bands = [\n",
    "#     (0.1, 4, 'delta'), (4, 8, 'theta'),\n",
    "#     (8, 12, 'alpha'), (12, 16, 'sigma'), (16, 30, 'beta'),\n",
    "#     (30, 75, 'gamma'), (75, 300, 'fast')\n",
    "# ]"
   ]
  },
  {
   "cell_type": "code",
   "execution_count": 4,
   "metadata": {
    "pycharm": {
     "name": "#%%\n"
    }
   },
   "outputs": [],
   "source": [
    "def calc_features_fast(epochs, subj):\n",
    "    # Bandpass filter\n",
    "    freq_broad = (0.1, 500)\n",
    "    # FFT & bandpower parameters\n",
    "    sr = 1000\n",
    "    bands = [\n",
    "        (0.1, 4, 'delta'), (4, 8, 'theta'),\n",
    "        (8, 12, 'alpha'), (12, 16, 'sigma'), (16, 30, 'beta'),\n",
    "        (30, 100, 'gamma'), (100, 300, 'fast')\n",
    "    ]\n",
    "\n",
    "    # Calculate standard descriptive statistics\n",
    "    hmob, hcomp = ant.hjorth_params(epochs, axis=1)\n",
    "\n",
    "    feat = {\n",
    "        'subj': np.full(len(epochs), subj),\n",
    "        'epoch_id': np.arange(len(epochs)),\n",
    "        'std': np.std(epochs, ddof=1, axis=1),\n",
    "        'iqr': sp_stats.iqr(epochs, axis=1),\n",
    "        'skew': sp_stats.skew(epochs, axis=1),\n",
    "        'kurt': sp_stats.kurtosis(epochs, axis=1),\n",
    "        'nzc': ant.num_zerocross(epochs, axis=1),\n",
    "        'hmob': hmob,\n",
    "        'hcomp': hcomp\n",
    "    }\n",
    "\n",
    "    # Calculate spectral power features (for EEG + EOG)\n",
    "    freqs, psd = sp_sig.welch(epochs, sr)\n",
    "    bp = bandpower_from_psd_ndarray(psd, freqs, bands=bands)\n",
    "    for j, (_, _, b) in enumerate(bands):\n",
    "        feat[b] = bp[j]\n",
    "\n",
    "    feat['at'] = feat['alpha'] / feat['theta']\n",
    "    feat['gt'] = feat['gamma'] / feat['theta']\n",
    "    feat['ft'] = feat['fast'] / feat['theta']\n",
    "    feat['ag'] = feat['gamma'] / feat['alpha']\n",
    "    feat['af'] = feat['fast'] / feat['alpha']\n",
    "    feat['sf'] = feat['sigma'] / feat['fast']\n",
    "    feat['bf'] = feat['beta'] / feat['fast']\n",
    "    feat['gf'] = feat['gamma'] / feat['fast']\n",
    "\n",
    "    # Add total power\n",
    "    idx_broad = np.logical_and(\n",
    "        freqs >= freq_broad[0], freqs <= freq_broad[1])\n",
    "    dx = freqs[1] - freqs[0]\n",
    "    feat['abspow'] = np.trapz(psd[:, idx_broad], dx=dx)\n",
    "\n",
    "    # Calculate entropy and fractal dimension features\n",
    "    feat['perm'] = np.apply_along_axis(\n",
    "        ant.perm_entropy, axis=1, arr=epochs, normalize=True)\n",
    "    feat['higuchi'] = np.apply_along_axis(\n",
    "        ant.higuchi_fd, axis=1, arr=epochs)\n",
    "    feat['petrosian'] = ant.petrosian_fd(epochs, axis=1)\n",
    "\n",
    "    # Convert to dataframe\n",
    "    feat = pd.DataFrame(feat)\n",
    "    # feat.index.name = 'epoch'\n",
    "\n",
    "    #############################\n",
    "    # SMOOTHING & NORMALIZATION\n",
    "    #############################\n",
    "    roll1 = feat.rolling(window=1, center=True, min_periods=1, win_type='triang').mean()\n",
    "    roll1[roll1.columns] = robust_scale(roll1, quantile_range=(5, 95))\n",
    "    roll1 = roll1.iloc[:, 2:].add_suffix('_cmin_norm')\n",
    "\n",
    "    roll3 = feat.rolling(window=3, center=True, min_periods=1, win_type='triang').mean()\n",
    "    roll3[roll3.columns] = robust_scale(roll3, quantile_range=(5, 95))\n",
    "    roll3 = roll3.iloc[:, 2:].add_suffix('_pmin_norm')\n",
    "\n",
    "    # Add to current set of features\n",
    "    feat = feat.join(roll1).join(roll3)\n",
    "    # Remove cols of only zeros\n",
    "    feat = feat.loc[:, (feat != 0).any(axis=0)]\n",
    "\n",
    "    return feat"
   ]
  },
  {
   "cell_type": "code",
   "execution_count": 5,
   "metadata": {
    "pycharm": {
     "name": "#%%\n"
    }
   },
   "outputs": [],
   "source": [
    "def remove_rem(raw, edf):\n",
    "    hypno_file = edf.split('_')[0] + '_hypno.txt'\n",
    "\n",
    "    # read hypnogram old format (1sec)\n",
    "    hypno, sf_hypno = read_hypno(hypno_file, time=None, datafile=None)\n",
    "\n",
    "    # make raw object into epochs (30 sec)\n",
    "    dummy_events = mne.make_fixed_length_events(raw, id=1, duration=30)[:len(hypno)]\n",
    "\n",
    "    # incorporate the scoring into the events file:\n",
    "    dummy_events[:, 2] = hypno\n",
    "    event_dict = {'W': 0, 'N1': 1, 'N2': 2, 'N3': 3, 'REM': 4, 'art': -1}\n",
    "\n",
    "    # epoch data into 30sec pieces:\n",
    "    epochs = mne.Epochs(raw, events=dummy_events, event_id=event_dict, tmin=0,\n",
    "                        tmax=30, baseline=(0, 0), on_missing='ignore')\n",
    "    epochs.drop(epochs['REM'].selection)\n",
    "    nrem_raw = mne.io.RawArray(np.concatenate(epochs.get_data(), axis=1), raw.info)\n",
    "\n",
    "    return nrem_raw\n",
    "\n",
    "def format_raw_night(edf, channel):\n",
    "    epochs = []\n",
    "    window_size = int(sr / 4)\n",
    "    if '-' in channel and 'REF' not in channel:\n",
    "        chans = channel.split('-')\n",
    "        raw = mne.io.read_raw_edf(edf).pick_channels(chans).resample(sr)\n",
    "        # raw = remove_rem(raw, edf)\n",
    "        mne.set_bipolar_reference(raw, chans[0], chans[1], ch_name=channel)\n",
    "        raw_data = raw.get_data()[0]\n",
    "    else:\n",
    "        raw_data = mne.io.read_raw_edf(edf).pick_channels([channel]).resample(sr).get_data()[0]\n",
    "    for i in range(0, len(raw_data), window_size):\n",
    "        curr_block = raw_data[i: i  + window_size]\n",
    "        if i + window_size < len(raw_data):\n",
    "            epochs.append(curr_block)\n",
    "\n",
    "    # Normalization\n",
    "    epochs = np.array(epochs)\n",
    "    epochs_norm = (epochs - epochs.mean()) / epochs.std()\n",
    "    return epochs_norm\n",
    "\n",
    "def format_combine_channel(edf, chans=['PZ' ,'C3' ,'C4']):\n",
    "    epochs = []\n",
    "    window_size = int(sr / 4)\n",
    "\n",
    "    raw = mne.io.read_raw_edf(edf).pick_channels(chans).resample(sr)\n",
    "    raw = mne.channels.combine_channels(raw, {'avg': [0, 1, 2]}, method='mean')\n",
    "    raw_data = raw.get_data()[0]\n",
    "\n",
    "    for i in range(0, len(raw_data), window_size):\n",
    "        curr_block = raw_data[i: i  + window_size]\n",
    "        if i + window_size < len(raw_data):\n",
    "            epochs.append(curr_block)\n",
    "\n",
    "    # Normalization\n",
    "    epochs = np.array(epochs)\n",
    "    epochs_norm = (epochs - epochs.mean()) / epochs.std()\n",
    "    return epochs_norm\n"
   ]
  },
  {
   "cell_type": "code",
   "execution_count": 6,
   "metadata": {
    "pycharm": {
     "name": "#%%\n"
    }
   },
   "outputs": [],
   "source": [
    "def get_all_y_multi_channel(subjects=['38', '396', '398', '402', '406', '415', '416']):\n",
    "    neighbors = {'R': ['RAH1-RAH2', 'RA1'], 'L': ['LAH1-LAH2', 'LA1']}\n",
    "    side1_y = None\n",
    "    y_all = np.empty(0)\n",
    "    for subj in subjects:\n",
    "        # for subj in ['398']:\n",
    "        for channel in ['RAH1', 'LAH1']:\n",
    "            if not ((subj == '396' and channel == 'RAH1') or (subj == '38' and channel == 'LAH1')):\n",
    "                x = format_raw_night(edf_path % subj, channel)\n",
    "                features = calc_features_fast(x, subj)\n",
    "                for neighbor in neighbors[channel[0]]:\n",
    "                    x_neighbor = format_raw_night(edf_path % subj, neighbor)\n",
    "                    prefix = neighbor.replace(channel[0], '')\n",
    "                    features_neighbor = calc_features_fast(x_neighbor, subj).add_prefix(f'{prefix}_')\n",
    "                    features = pd.concat([features, features_neighbor.iloc[:, 2:]], axis=1)\n",
    "\n",
    "                # Here I have all features for one side\n",
    "                if side1_y is None:\n",
    "                    side1_y = model.predict(features[features_names[1:]])\n",
    "\n",
    "        if subj in ['38', '396']:\n",
    "            y_all = np.concatenate((y_all, side1_y))\n",
    "        else:\n",
    "            side2_y = model.predict(features[features_names[1:]])\n",
    "            y_bilateral = side1_y + side2_y\n",
    "            y_bilateral[y_bilateral == 2] = 1\n",
    "            y_all = np.concatenate((y_all, y_bilateral))\n",
    "\n",
    "        side1_y = None\n",
    "\n",
    "    return y_all\n",
    "\n",
    "def get_all_y_multi_channel_side(side, subjects=['38', '396', '398', '402', '406', '415', '416']):\n",
    "    neighbors = {'R': ['RAH1-RAH2', 'RA1'], 'L': ['LAH1-LAH2', 'LA1']}\n",
    "    y_all = np.empty(0)\n",
    "    for subj in subjects:\n",
    "        channel = side + 'AH1'\n",
    "        if not ((subj == '396' and channel == 'RAH1') or (subj == '38' and channel == 'LAH1')):\n",
    "            x = format_raw_night(edf_path % subj, channel)\n",
    "            features = calc_features(x, subj)\n",
    "            for neighbor in neighbors[channel[0]]:\n",
    "                x_neighbor = format_raw_night(edf_path % subj, neighbor)\n",
    "                prefix = neighbor.replace(channel[0], '')\n",
    "                features_neighbor = calc_features(x_neighbor, subj).add_prefix(f'{prefix}_')\n",
    "                features = pd.concat([features, features_neighbor.iloc[:, 2:]], axis=1)\n",
    "\n",
    "            side1_y = model.predict(features[features_names[1:]])\n",
    "            y_all = np.concatenate((y_all, side1_y))\n",
    "\n",
    "    return y_all\n",
    "\n",
    "def get_one_y_multi_channel_side(subj, side):\n",
    "    neighbors = {'R': ['RAH1-RAH2', 'RA1'], 'L': ['LAH1-LAH2', 'LA1']}\n",
    "    channel = side + 'AH1'\n",
    "    if not ((subj == '396' and channel == 'RAH1') or (subj == '38' and channel == 'LAH1')):\n",
    "        x = format_raw_night(edf_path % subj, channel)\n",
    "        features = calc_features(x, subj)\n",
    "        for neighbor in neighbors[channel[0]]:\n",
    "            x_neighbor = format_raw_night(edf_path % subj, neighbor)\n",
    "            prefix = neighbor.replace(channel[0], '')\n",
    "            features_neighbor = calc_features(x_neighbor, subj).add_prefix(f'{prefix}_')\n",
    "            features = pd.concat([features, features_neighbor.iloc[:, 2:]], axis=1)\n",
    "\n",
    "        side1_y = model.predict(features[features_names[1:]])\n",
    "\n",
    "    return side1_y\n",
    "\n",
    "def get_all_feat_eog(eog_num, subjects=['38', '396', '398', '402', '406', '415', '416']):\n",
    "    feat_all = pd.DataFrame()\n",
    "    for subj in subjects:\n",
    "        x = format_raw_night(edf_path % subj, 'EOG' + eog_num)\n",
    "        features = calc_features_fast(x, subj)\n",
    "        feat_all = pd.concat([feat_all, features], axis=0)\n",
    "\n",
    "    return feat_all\n",
    "\n",
    "def get_all_feat_by_chan(chan, subjects=['38', '396', '398', '402', '406', '415', '416']):\n",
    "    feat_all = pd.DataFrame()\n",
    "    for subj in subjects:\n",
    "        x = format_raw_night(edf_path % subj, chan)\n",
    "        features = calc_features_fast(x, subj)\n",
    "        feat_all = pd.concat([feat_all, features], axis=0)\n",
    "\n",
    "    return feat_all\n",
    "\n",
    "def get_all_feat_scalp_channels(channels=['C3', 'C4', 'PZ'], subjects=['38', '396', '398', '402', '406', '415', '416']):\n",
    "    feat_all = pd.DataFrame()\n",
    "    for subj in subjects:\n",
    "        channel = channels[0]\n",
    "        x = format_raw_night(edf_path % subj, channel)\n",
    "        features = calc_features(x, subj)\n",
    "        for neighbor in channels[1:]:\n",
    "            x_neighbor = format_raw_night(edf_path % subj, neighbor)\n",
    "            prefix = neighbor.replace(channel[0], '')\n",
    "            features_neighbor = calc_features(x_neighbor, subj).add_prefix(f'{prefix}_')\n",
    "            features = pd.concat([features, features_neighbor.iloc[:, 2:]], axis=1)\n",
    "\n",
    "        feat_all = pd.concat([feat_all, features], axis=0)\n",
    "\n",
    "    return feat_all\n",
    "\n",
    "def get_all_feat_avg_channels(subjects=['38', '396', '398', '402', '406', '415', '416']):\n",
    "    feat_all = pd.DataFrame()\n",
    "    for subj in subjects:\n",
    "        x = format_combine_channel(edf_path % subj)\n",
    "        features = calc_features_fast(x, subj)\n",
    "        feat_all = pd.concat([feat_all, features], axis=0)\n",
    "\n",
    "    return feat_all"
   ]
  },
  {
   "cell_type": "code",
   "execution_count": 7,
   "metadata": {
    "pycharm": {
     "name": "#%%\n"
    }
   },
   "outputs": [],
   "source": [
    "def plt_80(cls, feat, y, prob=0.8, stratify=False, over=False):\n",
    "    if stratify:\n",
    "        strat = pd.DataFrame()\n",
    "        strat['y'] = list(map(str, y))\n",
    "        strat['subj'] = list(feat['subj'])\n",
    "        strat['stratify'] = strat[['y', 'subj']].apply(lambda x: ''.join(x), axis=1)\n",
    "        X_train, X_test, y_train, y_test = train_test_split(feat, y, stratify=strat['stratify'], random_state=20)\n",
    "    else:\n",
    "        X_train, X_test, y_train, y_test = train_test_split(feat, y, stratify=y, random_state=20)\n",
    "\n",
    "    if over:\n",
    "        oversample = SMOTE()\n",
    "        X_train, y_train = oversample.fit_resample(X_train, y_train)\n",
    "    X_train_data = X_train.iloc[:, 2:]\n",
    "    selector = VarianceThreshold(.1)\n",
    "    selector.fit_transform(X_train_data)\n",
    "    X_train_data = X_train_data[X_train_data.columns[selector.get_support(indices=True)]]\n",
    "    X_test_data = X_test[X_train_data.columns]\n",
    "\n",
    "    f, axes = plt.subplots(1, len(cls), figsize=(10, 5), sharey='row')\n",
    "    pred_details = {}\n",
    "\n",
    "    for i, (key, classifier) in enumerate(cls.items()):\n",
    "        y_pred = classifier.predict_proba(X_test_data).T\n",
    "        cf_matrix = confusion_matrix(y_test, [p > prob for p in y_pred[1]])\n",
    "        metrics = get_metrics(cf_matrix)\n",
    "        disp = ConfusionMatrixDisplay(cf_matrix)\n",
    "        disp.plot(ax=axes[i], xticks_rotation=45)\n",
    "        precision = '{0:.2f}'.format(metrics['precision'])\n",
    "        recall = '{0:.2f}'.format(metrics['recall'])\n",
    "        text = \"\"\"precision: {0}\n",
    "                          recall: {1}\"\"\".format(precision, recall)\n",
    "        axes[i].annotate(text, xy=(1, 0), xycoords='axes fraction', fontsize=16,\n",
    "                         xytext=(-60, -40), textcoords='offset points',\n",
    "                         ha='right', va='top')\n",
    "        disp.ax_.set_title(key)\n",
    "        disp.im_.colorbar.remove()\n",
    "        disp.ax_.set_xlabel('')\n",
    "        if i != 0:\n",
    "            disp.ax_.set_ylabel('')\n",
    "\n",
    "        curr_pred_details = pd.DataFrame(data=X_test, copy=True)\n",
    "        curr_pred_details['pred'] = y_pred[1]\n",
    "        pred_details[key] = curr_pred_details\n",
    "\n",
    "    f.text(0.45, 0.1, 'Predicted label', ha='left')\n",
    "    plt.subplots_adjust(wspace=0.40, hspace=0.1)\n",
    "    plt.show()\n",
    "    return pred_details\n",
    "\n",
    "def plt_cls(feat, y, stratify=False, over=False):\n",
    "    if stratify:\n",
    "        strat = pd.DataFrame()\n",
    "        strat['y'] = list(map(str, y))\n",
    "        strat['subj'] = list(feat['subj'].astype(str))\n",
    "        strat['stratify'] = strat[['y', 'subj']].apply(lambda x: ''.join(x), axis=1)\n",
    "        X_train, X_test, y_train, y_test = train_test_split(feat, y, stratify=strat['stratify'], random_state=20)\n",
    "    else:\n",
    "        X_train, X_test, y_train, y_test = train_test_split(feat, y, stratify=y, random_state=20)\n",
    "\n",
    "    if over:\n",
    "        oversample = SMOTE()\n",
    "        X_train, y_train = oversample.fit_resample(X_train, y_train)\n",
    "    X_train_data = X_train.iloc[:, 2:]\n",
    "    selector = VarianceThreshold(.1)\n",
    "    selector.fit_transform(X_train_data)\n",
    "    X_train_data = X_train_data[X_train_data.columns[selector.get_support(indices=True)]]\n",
    "    X_test_data = X_test[X_train_data.columns]\n",
    "\n",
    "    classifiers_2_all = {\n",
    "        \"Random Forest\": RandomForestClassifier(),\n",
    "        \"LGBM\": LGBMClassifier(),\n",
    "        # \"XGB\": xgb.XGBClassifier(objective=\"multi:softmax\", num_class=2, use_label_encoder=False),\n",
    "    }\n",
    "\n",
    "    pred_details = {}\n",
    "    f, axes = plt.subplots(1, len(classifiers_2_all), figsize=(10, 5), sharey='row')\n",
    "\n",
    "    for i, (key, classifier) in enumerate(classifiers_2_all.items()):\n",
    "        y_pred = classifier.fit(X_train_data, y_train).predict(X_test_data)\n",
    "        cf_matrix = confusion_matrix(y_test, y_pred)\n",
    "        metrics = get_metrics(cf_matrix)\n",
    "        disp = ConfusionMatrixDisplay(cf_matrix)\n",
    "        disp.plot(ax=axes[i], xticks_rotation=45)\n",
    "        precision = '{0:.2f}'.format(metrics['precision'])\n",
    "        recall = '{0:.2f}'.format(metrics['recall'])\n",
    "        text = \"\"\"precision: {0}\n",
    "                  recall: {1}\"\"\".format(precision, recall)\n",
    "        axes[i].annotate(text, xy=(1, 0), xycoords='axes fraction', fontsize=16,\n",
    "                         xytext=(-60, -40), textcoords='offset points',\n",
    "                         ha='right', va='top')\n",
    "        disp.ax_.set_title(key)\n",
    "        disp.im_.colorbar.remove()\n",
    "        disp.ax_.set_xlabel('')\n",
    "        if i != 0:\n",
    "            disp.ax_.set_ylabel('')\n",
    "        curr_pred_details = pd.DataFrame(data=X_test, copy=True)\n",
    "        curr_pred_details['pred'] = y_pred\n",
    "        pred_details[key] = curr_pred_details\n",
    "\n",
    "    f.text(0.45, 0.1, 'Predicted label', ha='left')\n",
    "    plt.subplots_adjust(wspace=0.40, hspace=0.1)\n",
    "    plt.show()\n",
    "    return classifiers_2_all, pred_details"
   ]
  },
  {
   "cell_type": "code",
   "execution_count": 8,
   "metadata": {
    "pycharm": {
     "name": "#%%\n"
    }
   },
   "outputs": [],
   "source": [
    "feat_all_eog1 = joblib.load('feat_all_eog1.pkl')\n",
    "feat_all_eog2 = joblib.load('feat_all_eog2.pkl')\n",
    "feat_avg = joblib.load('feat_avg.pkl')\n",
    "y_all_bi = joblib.load('y_all_bi.pkl')"
   ]
  },
  {
   "cell_type": "code",
   "execution_count": 9,
   "metadata": {
    "pycharm": {
     "name": "#%%\n"
    }
   },
   "outputs": [],
   "source": [
    "feat_avg.reset_index(inplace=True, drop=True)\n",
    "feat_all_eog1.reset_index(inplace=True, drop=True)\n",
    "feat_all_eog2.reset_index(inplace=True, drop=True)\n",
    "feat_eog2_avg = pd.concat([feat_avg, feat_all_eog2.iloc[:, 2:].add_suffix('_2')], axis=1)\n",
    "feat_eog12_avg = pd.concat([feat_avg, feat_all_eog1.iloc[:, 2:].add_suffix('_1'), feat_all_eog2.iloc[:, 2:].add_suffix('_2')], axis=1)\n",
    "feat_eog1_avg = pd.concat([feat_avg, feat_all_eog1.iloc[:, 2:].add_suffix('_1')], axis=1)"
   ]
  },
  {
   "cell_type": "code",
   "execution_count": 8,
   "metadata": {
    "pycharm": {
     "name": "#%%\n"
    }
   },
   "outputs": [],
   "source": [
    "# run all subj (~15min, 6 subj)\n",
    "# TODO: check normalization in all!!!\n",
    "y_all_bi = get_all_y_multi_channel(subjects=['396', '398', '402', '406', '415', '416'])\n",
    "clear_output()"
   ]
  },
  {
   "cell_type": "code",
   "execution_count": 10,
   "metadata": {
    "pycharm": {
     "name": "#%%\n"
    }
   },
   "outputs": [],
   "source": [
    "feat_avg = get_all_feat_avg_channels(subjects=['396', '398', '402', '406', '415', '416'])\n",
    "feat_all_eog2 = get_all_feat_eog('2', subjects=['396', '398', '402', '406', '415', '416'])\n",
    "clear_output()"
   ]
  },
  {
   "cell_type": "code",
   "execution_count": 9,
   "metadata": {
    "pycharm": {
     "name": "#%%\n"
    }
   },
   "outputs": [
    {
     "data": {
      "text/plain": "17771.0"
     },
     "execution_count": 9,
     "metadata": {},
     "output_type": "execute_result"
    }
   ],
   "source": [
    "# feat_c3 = get_all_feat_chan('C3')\n",
    "# feat_c4 = get_all_feat_chan('C4')\n",
    "# feat_all_eog1 = get_all_feat_eog('1', subjects=['396', '398', '402', '406', '415', '416'])\n",
    "# clear_output()\n",
    "y_all_bi.sum()"
   ]
  },
  {
   "cell_type": "code",
   "execution_count": 10,
   "metadata": {
    "pycharm": {
     "name": "#%%\n"
    }
   },
   "outputs": [],
   "source": [
    "feat_pz = get_all_feat_by_chan('PZ', subjects=['396', '398', '402', '406', '415', '416'])\n",
    "feat_pz.reset_index(inplace=True, drop=True)\n",
    "clear_output()\n",
    "feat_all_eog2 = joblib.load('feat_all_eog2.pkl')\n",
    "feat_eog2_pz = pd.concat([feat_all_eog2.iloc[:, 2:].add_suffix('_2'), feat_pz.iloc[:, 2:].add_suffix('_pz')], axis=1)"
   ]
  },
  {
   "cell_type": "code",
   "execution_count": 9,
   "metadata": {
    "pycharm": {
     "name": "#%%\n"
    }
   },
   "outputs": [],
   "source": [
    "feat_c3 = get_all_feat_by_chan('C3', subjects=['396', '398', '402', '406', '415', '416'])\n",
    "clear_output()\n",
    "feat_c3.reset_index(inplace=True, drop=True)\n",
    "feat_eog2_c3 = pd.concat([feat_all_eog2.iloc[:, 2:].add_suffix('_2'), feat_c3.iloc[:, 2:].add_suffix('_c3')], axis=1)"
   ]
  },
  {
   "cell_type": "code",
   "execution_count": 8,
   "metadata": {
    "pycharm": {
     "name": "#%%\n"
    }
   },
   "outputs": [],
   "source": [
    "# joblib.dump(feat_all_eog1, 'feat_all_eog1.pkl')\n",
    "# joblib.dump(feat_all_eog2, 'feat_all_eog2.pkl')\n",
    "# joblib.dump(feat_avg, 'feat_avg.pkl')\n",
    "# joblib.dump(y_all_bi, 'y_all_bi.pkl')"
   ]
  },
  {
   "cell_type": "code",
   "execution_count": 28,
   "metadata": {
    "pycharm": {
     "name": "#%%\n"
    }
   },
   "outputs": [],
   "source": [
    "feat_all_eog12 = pd.concat([feat_all_eog1.iloc[:, 2:].add_suffix('_1'), feat_all_eog2.iloc[:, 2:].add_suffix('_2')], axis=1)"
   ]
  },
  {
   "cell_type": "code",
   "execution_count": null,
   "metadata": {
    "pycharm": {
     "name": "#%%\n",
     "is_executing": true
    }
   },
   "outputs": [],
   "source": [
    "# K-fold\n",
    "from sklearn.model_selection import StratifiedShuffleSplit\n",
    "\n",
    "skf = StratifiedShuffleSplit(n_splits=4, test_size=0.25, random_state=None)\n",
    "classifiers_all = {\n",
    "    \"Random Forest\": RandomForestClassifier(),\n",
    "    \"LGBM\": LGBMClassifier()\n",
    "}\n",
    "\n",
    "feat_all_np = feat_eog2_avg.to_numpy()\n",
    "precision_list = []\n",
    "recall_list = []\n",
    "pred_details = {}\n",
    "f, axes = plt.subplots(4, len(classifiers_all), figsize=(10, 20), sharey='row')\n",
    "\n",
    "# feat_eog2_c3_over, y_all_bi_over = oversample.fit_resample(feat_eog2_avg, y_all_bi)\n",
    "\n",
    "for j, (train_index, test_index) in enumerate(skf.split(feat_eog2_avg, y_all_bi)):\n",
    "    X_train, X_test = feat_eog2_avg.iloc[train_index], feat_eog2_avg.iloc[test_index]\n",
    "    y_train, y_test = y_all_bi[train_index], y_all_bi[test_index]\n",
    "    X_train_data = X_train.iloc[:, 2:]\n",
    "    selector = VarianceThreshold(.1)\n",
    "    selector.fit_transform(X_train_data)\n",
    "    X_train_data = X_train_data[X_train_data.columns[selector.get_support(indices=True)]]\n",
    "    X_test_data = X_test[X_train_data.columns]\n",
    "    oversample = SMOTE()\n",
    "    X_train_data, y_train = oversample.fit_resample(X_train_data, y_train)\n",
    "    for i, (key, classifier) in enumerate(classifiers_all.items()):\n",
    "        y_pred = classifier.fit(X_train_data, y_train).predict(X_test_data)\n",
    "        cf_matrix = confusion_matrix(y_test, y_pred)\n",
    "        metrics = get_metrics(cf_matrix)\n",
    "        disp = ConfusionMatrixDisplay(cf_matrix)\n",
    "        disp.plot(ax=axes[j][i], xticks_rotation=45)\n",
    "        precision = '{0:.2f}'.format(metrics['precision'])\n",
    "        recall = '{0:.2f}'.format(metrics['recall'])\n",
    "        text = \"\"\"precision: {0}\n",
    "                      recall: {1}\"\"\".format(precision, recall)\n",
    "        axes[j][i].annotate(text, xy=(1, 0), xycoords='axes fraction', fontsize=16,\n",
    "                         xytext=(-60, -40), textcoords='offset points',\n",
    "                         ha='right', va='top')\n",
    "        precision_list.append(metrics['precision'])\n",
    "        recall_list.append(metrics['recall'])\n",
    "        disp.ax_.set_title(key)\n",
    "        disp.im_.colorbar.remove()\n",
    "        disp.ax_.set_xlabel('')\n",
    "        if i != 0:\n",
    "            disp.ax_.set_ylabel('')\n",
    "        curr_pred_details = pd.DataFrame(data=X_test, copy=True)\n",
    "        curr_pred_details['pred'] = y_pred\n",
    "        pred_details[key] = curr_pred_details\n",
    "\n",
    "    f.text(0.45, 0.1, 'Predicted label', ha='left')\n",
    "    plt.subplots_adjust(wspace=0.1, hspace=0.5)\n",
    "\n",
    "precision_list_np = np.array(precision_list)\n",
    "recall_list_np = np.array(recall_list)\n",
    "plt.show()\n",
    "rf_precision = np.sum(precision_list_np, where=[1, 0, 1, 0, 1, 0, 1, 0]) / 4\n",
    "lgbm_precision = np.sum(precision_list_np, where=[0, 1, 0, 1, 0, 1, 0, 1]) / 4\n",
    "rf_recall = np.sum(recall_list_np, where=[1, 0, 1, 0, 1, 0, 1, 0]) / 4\n",
    "lgbm_recall = np.sum(recall_list_np, where=[0, 1, 0, 1, 0, 1, 0, 1]) / 4\n",
    "print(\"Random forest precision: {0:.3f}\".format(rf_precision))\n",
    "print(\"Random forest recall: {0:.3f}\".format(rf_recall))\n",
    "print(\"LGBM precision: {0:.3f}\".format(lgbm_precision))\n",
    "print(\"LGBM recall: {0:.3f}\".format(lgbm_recall))"
   ]
  },
  {
   "cell_type": "code",
   "execution_count": 12,
   "metadata": {
    "pycharm": {
     "name": "#%%\n"
    }
   },
   "outputs": [
    {
     "data": {
      "image/png": "[encoded data removed]",
      "text/plain": [
       "<Figure size 720x360 with 2 Axes>"
      ]
     },
     "metadata": {},
     "output_type": "display_data"
    }
   ],
   "source": [
    "# overlapping / oversampling games\n",
    "classifiers_overlap = {\n",
    "    \"Random Forest\": RandomForestClassifier(),\n",
    "    \"LGBM\": LGBMClassifier(),\n",
    "}\n",
    "\n",
    "f, axes = plt.subplots(1, len(classifiers_overlap), figsize=(10, 5), sharey='row')\n",
    "\n",
    "oversample = SMOTE()\n",
    "x_over, y_over = oversample.fit_resample(feat_eog2_avg, y_all_bi)\n",
    "X_train, X_test, y_train, y_test = train_test_split(x_over, y_over, stratify=y_over, random_state=20)\n",
    "X_train_data = X_train.iloc[:, 2:]\n",
    "selector = VarianceThreshold(.1)\n",
    "selector.fit_transform(X_train_data)\n",
    "X_train_data = X_train_data[X_train_data.columns[selector.get_support(indices=True)]]\n",
    "X_test_data = X_test[X_train_data.columns]\n",
    "\n",
    "for i, (key, classifier) in enumerate(classifiers_overlap.items()):\n",
    "    y_pred = classifier.fit(X_train_data, y_train).predict(X_test_data)\n",
    "    cf_matrix = confusion_matrix(y_test, y_pred)\n",
    "    metrics = get_metrics(cf_matrix)\n",
    "    disp = ConfusionMatrixDisplay(cf_matrix)\n",
    "    disp.plot(ax=axes[i], xticks_rotation=45)\n",
    "    text = \"\"\"precision: {0}\n",
    "              recall: {1}\"\"\".format(str('{0:.2f}'.format(metrics['precision'])), str('{0:.2f}'.format(metrics['recall'])))\n",
    "    axes[i].annotate(text, xy=(1, 0), xycoords='axes fraction', fontsize=16,\n",
    "                     xytext=(-60, -40), textcoords='offset points',\n",
    "                     ha='right', va='top')\n",
    "    disp.ax_.set_title(key)\n",
    "    disp.im_.colorbar.remove()\n",
    "    disp.ax_.set_xlabel('')\n",
    "    if i!=0:\n",
    "        disp.ax_.set_ylabel('')\n",
    "        y_lgbm = y_pred\n",
    "    else:\n",
    "        y_rf = y_pred\n",
    "\n",
    "f.text(0.45, 0.1, 'Predicted label', ha='left')\n",
    "plt.subplots_adjust(wspace=0.40, hspace=0.1)\n",
    "\n",
    "plt.show()"
   ]
  },
  {
   "cell_type": "code",
   "execution_count": null,
   "metadata": {
    "pycharm": {
     "name": "#%%\n"
    }
   },
   "outputs": [],
   "source": []
  },
  {
   "cell_type": "code",
   "execution_count": 20,
   "metadata": {
    "pycharm": {
     "name": "#%%\n"
    }
   },
   "outputs": [
    {
     "data": {
      "image/png": "[encoded data removed]",
      "text/plain": [
       "<Figure size 720x360 with 2 Axes>"
      ]
     },
     "metadata": {},
     "output_type": "display_data"
    }
   ],
   "source": [
    "f, axes = plt.subplots(1, len(classifiers_overlap), figsize=(10, 5), sharey='row')\n",
    "for i, (key, classifier) in enumerate(classifiers_overlap.items()):\n",
    "    y_pred = classifier.predict_proba(X_test_data).T\n",
    "    cf_matrix = confusion_matrix(y_test, [p >= 0.8 for p in y_pred[1]])\n",
    "    metrics = get_metrics(cf_matrix)\n",
    "    disp = ConfusionMatrixDisplay(cf_matrix)\n",
    "    disp.plot(ax=axes[i], xticks_rotation=45)\n",
    "    precision = '{0:.2f}'.format(metrics['precision'])\n",
    "    recall = '{0:.2f}'.format(metrics['recall'])\n",
    "    text = \"\"\"precision: {0}\n",
    "                          recall: {1}\"\"\".format(precision, recall)\n",
    "    axes[i].annotate(text, xy=(1, 0), xycoords='axes fraction', fontsize=16,\n",
    "                     xytext=(-60, -40), textcoords='offset points',\n",
    "                     ha='right', va='top')\n",
    "    disp.ax_.set_title(key)\n",
    "    disp.im_.colorbar.remove()\n",
    "    disp.ax_.set_xlabel('')\n",
    "    if i != 0:\n",
    "        disp.ax_.set_ylabel('')\n",
    "\n",
    "f.text(0.45, 0.1, 'Predicted label', ha='left')\n",
    "plt.subplots_adjust(wspace=0.40, hspace=0.1)\n",
    "plt.show()"
   ]
  },
  {
   "cell_type": "code",
   "execution_count": null,
   "metadata": {
    "pycharm": {
     "name": "#%%\n"
    }
   },
   "outputs": [],
   "source": [
    "from datetime import datetime\n",
    "\n",
    "print(datetime.now())"
   ]
  },
  {
   "cell_type": "code",
   "execution_count": 13,
   "metadata": {
    "pycharm": {
     "name": "#%%\n"
    }
   },
   "outputs": [
    {
     "data": {
      "text/html": [
       "<div>\n",
       "<style scoped>\n",
       "    .dataframe tbody tr th:only-of-type {\n",
       "        vertical-align: middle;\n",
       "    }\n",
       "\n",
       "    .dataframe tbody tr th {\n",
       "        vertical-align: top;\n",
       "    }\n",
       "\n",
       "    .dataframe thead th {\n",
       "        text-align: right;\n",
       "    }\n",
       "</style>\n",
       "<table border=\"1\" class=\"dataframe\">\n",
       "  <thead>\n",
       "    <tr style=\"text-align: right;\">\n",
       "      <th></th>\n",
       "      <th>0</th>\n",
       "      <th>imp</th>\n",
       "    </tr>\n",
       "  </thead>\n",
       "  <tbody>\n",
       "    <tr>\n",
       "      <th>66</th>\n",
       "      <td>nzc_cmin_norm_2</td>\n",
       "      <td>0.1023832014</td>\n",
       "    </tr>\n",
       "    <tr>\n",
       "      <th>16</th>\n",
       "      <td>nzc_cmin_norm</td>\n",
       "      <td>0.0730049698</td>\n",
       "    </tr>\n",
       "    <tr>\n",
       "      <th>85</th>\n",
       "      <td>nzc_pmin_norm_2</td>\n",
       "      <td>0.0392529222</td>\n",
       "    </tr>\n",
       "    <tr>\n",
       "      <th>3</th>\n",
       "      <td>nzc</td>\n",
       "      <td>0.0252581562</td>\n",
       "    </tr>\n",
       "    <tr>\n",
       "      <th>54</th>\n",
       "      <td>nzc_2</td>\n",
       "      <td>0.0235594364</td>\n",
       "    </tr>\n",
       "    <tr>\n",
       "      <th>79</th>\n",
       "      <td>abspow_cmin_norm_2</td>\n",
       "      <td>0.0223800208</td>\n",
       "    </tr>\n",
       "    <tr>\n",
       "      <th>97</th>\n",
       "      <td>abspow_pmin_norm_2</td>\n",
       "      <td>0.0179849675</td>\n",
       "    </tr>\n",
       "    <tr>\n",
       "      <th>12</th>\n",
       "      <td>abspow</td>\n",
       "      <td>0.0154875857</td>\n",
       "    </tr>\n",
       "    <tr>\n",
       "      <th>82</th>\n",
       "      <td>std_pmin_norm_2</td>\n",
       "      <td>0.0134982893</td>\n",
       "    </tr>\n",
       "    <tr>\n",
       "      <th>63</th>\n",
       "      <td>std_cmin_norm_2</td>\n",
       "      <td>0.0131831976</td>\n",
       "    </tr>\n",
       "    <tr>\n",
       "      <th>83</th>\n",
       "      <td>iqr_pmin_norm_2</td>\n",
       "      <td>0.0127004688</td>\n",
       "    </tr>\n",
       "    <tr>\n",
       "      <th>91</th>\n",
       "      <td>ft_pmin_norm_2</td>\n",
       "      <td>0.0111201205</td>\n",
       "    </tr>\n",
       "    <tr>\n",
       "      <th>51</th>\n",
       "      <td>iqr_2</td>\n",
       "      <td>0.0110680255</td>\n",
       "    </tr>\n",
       "    <tr>\n",
       "      <th>76</th>\n",
       "      <td>sf_cmin_norm_2</td>\n",
       "      <td>0.0109875327</td>\n",
       "    </tr>\n",
       "    <tr>\n",
       "      <th>64</th>\n",
       "      <td>iqr_cmin_norm_2</td>\n",
       "      <td>0.0109175734</td>\n",
       "    </tr>\n",
       "  </tbody>\n",
       "</table>\n",
       "</div>"
      ],
      "text/plain": [
       "                     0           imp\n",
       "66     nzc_cmin_norm_2  0.1023832014\n",
       "16       nzc_cmin_norm  0.0730049698\n",
       "85     nzc_pmin_norm_2  0.0392529222\n",
       "3                  nzc  0.0252581562\n",
       "54               nzc_2  0.0235594364\n",
       "79  abspow_cmin_norm_2  0.0223800208\n",
       "97  abspow_pmin_norm_2  0.0179849675\n",
       "12              abspow  0.0154875857\n",
       "82     std_pmin_norm_2  0.0134982893\n",
       "63     std_cmin_norm_2  0.0131831976\n",
       "83     iqr_pmin_norm_2  0.0127004688\n",
       "91      ft_pmin_norm_2  0.0111201205\n",
       "51               iqr_2  0.0110680255\n",
       "76      sf_cmin_norm_2  0.0109875327\n",
       "64     iqr_cmin_norm_2  0.0109175734"
      ]
     },
     "execution_count": 13,
     "metadata": {},
     "output_type": "execute_result"
    }
   ],
   "source": [
    "imp = pd.DataFrame(classifiers_overlap['LGBM'].feature_name_)\n",
    "imp['imp'] = classifiers_overlap[\"Random Forest\"].feature_importances_\n",
    "imp = imp.sort_values(by=['imp'], ascending=False)\n",
    "imp.head(15)"
   ]
  },
  {
   "cell_type": "code",
   "execution_count": 14,
   "metadata": {
    "pycharm": {
     "name": "#%%\n"
    }
   },
   "outputs": [
    {
     "data": {
      "text/html": [
       "<div>\n",
       "<style scoped>\n",
       "    .dataframe tbody tr th:only-of-type {\n",
       "        vertical-align: middle;\n",
       "    }\n",
       "\n",
       "    .dataframe tbody tr th {\n",
       "        vertical-align: top;\n",
       "    }\n",
       "\n",
       "    .dataframe thead th {\n",
       "        text-align: right;\n",
       "    }\n",
       "</style>\n",
       "<table border=\"1\" class=\"dataframe\">\n",
       "  <thead>\n",
       "    <tr style=\"text-align: right;\">\n",
       "      <th></th>\n",
       "      <th>0</th>\n",
       "      <th>imp</th>\n",
       "    </tr>\n",
       "  </thead>\n",
       "  <tbody>\n",
       "    <tr>\n",
       "      <th>16</th>\n",
       "      <td>nzc_cmin_norm</td>\n",
       "      <td>593</td>\n",
       "    </tr>\n",
       "    <tr>\n",
       "      <th>66</th>\n",
       "      <td>nzc_cmin_norm_2</td>\n",
       "      <td>426</td>\n",
       "    </tr>\n",
       "    <tr>\n",
       "      <th>85</th>\n",
       "      <td>nzc_pmin_norm_2</td>\n",
       "      <td>267</td>\n",
       "    </tr>\n",
       "    <tr>\n",
       "      <th>3</th>\n",
       "      <td>nzc</td>\n",
       "      <td>144</td>\n",
       "    </tr>\n",
       "    <tr>\n",
       "      <th>54</th>\n",
       "      <td>nzc_2</td>\n",
       "      <td>102</td>\n",
       "    </tr>\n",
       "    <tr>\n",
       "      <th>79</th>\n",
       "      <td>abspow_cmin_norm_2</td>\n",
       "      <td>90</td>\n",
       "    </tr>\n",
       "    <tr>\n",
       "      <th>12</th>\n",
       "      <td>abspow</td>\n",
       "      <td>86</td>\n",
       "    </tr>\n",
       "    <tr>\n",
       "      <th>33</th>\n",
       "      <td>petrosian_cmin_norm</td>\n",
       "      <td>74</td>\n",
       "    </tr>\n",
       "    <tr>\n",
       "      <th>77</th>\n",
       "      <td>bf_cmin_norm_2</td>\n",
       "      <td>47</td>\n",
       "    </tr>\n",
       "    <tr>\n",
       "      <th>73</th>\n",
       "      <td>ft_cmin_norm_2</td>\n",
       "      <td>44</td>\n",
       "    </tr>\n",
       "    <tr>\n",
       "      <th>24</th>\n",
       "      <td>ft_cmin_norm</td>\n",
       "      <td>40</td>\n",
       "    </tr>\n",
       "    <tr>\n",
       "      <th>96</th>\n",
       "      <td>gf_pmin_norm_2</td>\n",
       "      <td>38</td>\n",
       "    </tr>\n",
       "    <tr>\n",
       "      <th>30</th>\n",
       "      <td>abspow_cmin_norm</td>\n",
       "      <td>36</td>\n",
       "    </tr>\n",
       "    <tr>\n",
       "      <th>97</th>\n",
       "      <td>abspow_pmin_norm_2</td>\n",
       "      <td>34</td>\n",
       "    </tr>\n",
       "    <tr>\n",
       "      <th>62</th>\n",
       "      <td>gf_2</td>\n",
       "      <td>33</td>\n",
       "    </tr>\n",
       "  </tbody>\n",
       "</table>\n",
       "</div>"
      ],
      "text/plain": [
       "                      0  imp\n",
       "16        nzc_cmin_norm  593\n",
       "66      nzc_cmin_norm_2  426\n",
       "85      nzc_pmin_norm_2  267\n",
       "3                   nzc  144\n",
       "54                nzc_2  102\n",
       "79   abspow_cmin_norm_2   90\n",
       "12               abspow   86\n",
       "33  petrosian_cmin_norm   74\n",
       "77       bf_cmin_norm_2   47\n",
       "73       ft_cmin_norm_2   44\n",
       "24         ft_cmin_norm   40\n",
       "96       gf_pmin_norm_2   38\n",
       "30     abspow_cmin_norm   36\n",
       "97   abspow_pmin_norm_2   34\n",
       "62                 gf_2   33"
      ]
     },
     "execution_count": 14,
     "metadata": {},
     "output_type": "execute_result"
    }
   ],
   "source": [
    "imp = pd.DataFrame(classifiers_overlap['LGBM'].feature_name_)\n",
    "imp['imp'] = classifiers_overlap[\"LGBM\"].feature_importances_\n",
    "imp = imp.sort_values(by=['imp'], ascending=False)\n",
    "imp.head(15)"
   ]
  },
  {
   "cell_type": "code",
   "execution_count": 17,
   "metadata": {
    "pycharm": {
     "name": "#%%\n"
    }
   },
   "outputs": [
    {
     "data": {
      "text/plain": [
       "['over_data.pkl']"
      ]
     },
     "execution_count": 17,
     "metadata": {},
     "output_type": "execute_result"
    }
   ],
   "source": [
    "joblib.dump(classifiers_overlap, 'over_models.pkl')\n",
    "joblib.dump({'X_train_data': X_train_data, 'y_train': y_train, 'X_test_data': X_test_data, 'y_test': y_test}, 'over_data.pkl')"
   ]
  },
  {
   "cell_type": "code",
   "execution_count": 10,
   "outputs": [
    {
     "data": {
      "text/plain": "<Figure size 720x360 with 2 Axes>",
      "image/png": "[encoded data removed]"
     },
     "metadata": {},
     "output_type": "display_data"
    }
   ],
   "source": [
    "cls_all, pred_details = plt_cls(feat_eog2_avg, y_all_bi)"
   ],
   "metadata": {
    "collapsed": false,
    "pycharm": {
     "name": "#%%\n"
    }
   }
  },
  {
   "cell_type": "code",
   "execution_count": 11,
   "outputs": [
    {
     "data": {
      "text/plain": "<Figure size 720x360 with 2 Axes>",
      "image/png": "[encoded data removed]"
     },
     "metadata": {},
     "output_type": "display_data"
    }
   ],
   "source": [
    "details_55 = plt_80(cls_all, feat_eog2_avg, y_all_bi,prob=0.55)"
   ],
   "metadata": {
    "collapsed": false,
    "pycharm": {
     "name": "#%%\n"
    }
   }
  },
  {
   "cell_type": "code",
   "execution_count": 12,
   "outputs": [
    {
     "data": {
      "text/plain": "<Figure size 720x360 with 2 Axes>",
      "image/png": "[encoded data removed]"
     },
     "metadata": {},
     "output_type": "display_data"
    }
   ],
   "source": [
    "details_60 = plt_80(cls_all, feat_eog2_avg, y_all_bi,prob=0.6)"
   ],
   "metadata": {
    "collapsed": false,
    "pycharm": {
     "name": "#%%\n"
    }
   }
  },
  {
   "cell_type": "code",
   "execution_count": 13,
   "outputs": [
    {
     "data": {
      "text/plain": "<Figure size 720x360 with 2 Axes>",
      "image/png": "[encoded data removed]"
     },
     "metadata": {},
     "output_type": "display_data"
    }
   ],
   "source": [
    "details_65 = plt_80(cls_all, feat_eog2_avg, y_all_bi,prob=0.65)"
   ],
   "metadata": {
    "collapsed": false,
    "pycharm": {
     "name": "#%%\n"
    }
   }
  },
  {
   "cell_type": "code",
   "execution_count": 14,
   "outputs": [
    {
     "data": {
      "text/plain": "<Figure size 720x360 with 2 Axes>",
      "image/png": "[encoded data removed]"
     },
     "metadata": {},
     "output_type": "display_data"
    }
   ],
   "source": [
    "details_70 = plt_80(cls_all, feat_eog2_avg, y_all_bi,prob=0.7)"
   ],
   "metadata": {
    "collapsed": false,
    "pycharm": {
     "name": "#%%\n"
    }
   }
  },
  {
   "cell_type": "code",
   "execution_count": 15,
   "outputs": [
    {
     "data": {
      "text/plain": "<Figure size 720x360 with 2 Axes>",
      "image/png": "[encoded data removed]"
     },
     "metadata": {},
     "output_type": "display_data"
    }
   ],
   "source": [
    "details_75 = plt_80(cls_all, feat_eog2_avg, y_all_bi,prob=0.75)"
   ],
   "metadata": {
    "collapsed": false,
    "pycharm": {
     "name": "#%%\n"
    }
   }
  },
  {
   "cell_type": "code",
   "execution_count": 16,
   "outputs": [
    {
     "data": {
      "text/plain": "<Figure size 720x360 with 2 Axes>",
      "image/png": "[encoded data removed]"
     },
     "metadata": {},
     "output_type": "display_data"
    }
   ],
   "source": [
    "details_80 = plt_80(cls_all, feat_eog2_avg, y_all_bi,prob=0.8)"
   ],
   "metadata": {
    "collapsed": false,
    "pycharm": {
     "name": "#%%\n"
    }
   }
  },
  {
   "cell_type": "code",
   "execution_count": 17,
   "outputs": [
    {
     "data": {
      "text/plain": "<Figure size 720x360 with 2 Axes>",
      "image/png": "[encoded data removed]"
     },
     "metadata": {},
     "output_type": "display_data"
    }
   ],
   "source": [
    "details_85 = plt_80(cls_all, feat_eog2_avg, y_all_bi,prob=0.85)"
   ],
   "metadata": {
    "collapsed": false,
    "pycharm": {
     "name": "#%%\n"
    }
   }
  },
  {
   "cell_type": "code",
   "execution_count": 18,
   "outputs": [
    {
     "data": {
      "text/plain": "<Figure size 720x360 with 2 Axes>",
      "image/png": "[encoded data removed]"
     },
     "metadata": {},
     "output_type": "display_data"
    }
   ],
   "source": [
    "details_90 = plt_80(cls_all, feat_eog2_avg, y_all_bi,prob=0.9)"
   ],
   "metadata": {
    "collapsed": false,
    "pycharm": {
     "name": "#%%\n"
    }
   }
  },
  {
   "cell_type": "code",
   "execution_count": 19,
   "outputs": [
    {
     "data": {
      "text/plain": "<Figure size 720x360 with 2 Axes>",
      "image/png": "[encoded data removed]"
     },
     "metadata": {},
     "output_type": "display_data"
    }
   ],
   "source": [
    "details_95 = plt_80(cls_all, feat_eog2_avg, y_all_bi,prob=0.95)"
   ],
   "metadata": {
    "collapsed": false,
    "pycharm": {
     "name": "#%%\n"
    }
   }
  },
  {
   "cell_type": "code",
   "execution_count": 22,
   "outputs": [
    {
     "data": {
      "text/plain": "<AxesSubplot:>"
     },
     "execution_count": 22,
     "metadata": {},
     "output_type": "execute_result"
    },
    {
     "data": {
      "text/plain": "<Figure size 432x288 with 1 Axes>",
      "image/png": "[encoded data removed]"
     },
     "metadata": {},
     "output_type": "display_data"
    }
   ],
   "source": [
    "details = details_95['Random Forest']\n",
    "details[(details['pred'] > 0.95)].sort_values(by='subj')['subj'].hist()"
   ],
   "metadata": {
    "collapsed": false,
    "pycharm": {
     "name": "#%%\n"
    }
   }
  },
  {
   "cell_type": "code",
   "execution_count": 23,
   "outputs": [
    {
     "data": {
      "text/plain": "<AxesSubplot:>"
     },
     "execution_count": 23,
     "metadata": {},
     "output_type": "execute_result"
    },
    {
     "data": {
      "text/plain": "<Figure size 432x288 with 1 Axes>",
      "image/png": "[encoded data removed]"
     },
     "metadata": {},
     "output_type": "display_data"
    }
   ],
   "source": [
    "details = details_85['Random Forest']\n",
    "details[(details['pred'] > 0.85)].sort_values(by='subj')['subj'].hist()"
   ],
   "metadata": {
    "collapsed": false,
    "pycharm": {
     "name": "#%%\n"
    }
   }
  },
  {
   "cell_type": "code",
   "execution_count": 15,
   "metadata": {
    "pycharm": {
     "name": "#%%\n"
    }
   },
   "outputs": [
    {
     "data": {
      "image/png": "[encoded data removed]",
      "text/plain": [
       "<Figure size 720x360 with 2 Axes>"
      ]
     },
     "metadata": {},
     "output_type": "display_data"
    }
   ],
   "source": [
    "cls_all_12, pred_details_12 = plt_cls(feat_eog12_avg, y_all_bi)"
   ]
  },
  {
   "cell_type": "code",
   "execution_count": 16,
   "metadata": {
    "pycharm": {
     "name": "#%%\n"
    }
   },
   "outputs": [
    {
     "data": {
      "image/png": "[encoded data removed]",
      "text/plain": [
       "<Figure size 720x360 with 2 Axes>"
      ]
     },
     "metadata": {},
     "output_type": "display_data"
    }
   ],
   "source": [
    "details_80 = plt_80(cls_all_12, feat_eog12_avg, y_all_bi, prob=0.80)"
   ]
  },
  {
   "cell_type": "code",
   "execution_count": 16,
   "metadata": {
    "pycharm": {
     "name": "#%%\n"
    }
   },
   "outputs": [
    {
     "data": {
      "image/png": "[encoded data removed]",
      "text/plain": [
       "<Figure size 720x360 with 2 Axes>"
      ]
     },
     "metadata": {},
     "output_type": "display_data"
    }
   ],
   "source": [
    "cls_all_strat, pred_details_strat = plt_cls(feat_eog2_avg, y_all_bi, stratify=True)"
   ]
  },
  {
   "cell_type": "code",
   "execution_count": 65,
   "metadata": {
    "pycharm": {
     "name": "#%%\n"
    }
   },
   "outputs": [],
   "source": [
    "y_all_right = get_all_y_multi_channel_side('R')\n",
    "y_all_left = get_all_y_multi_channel_side('L')\n",
    "clear_output()"
   ]
  },
  {
   "cell_type": "code",
   "execution_count": 140,
   "metadata": {
    "pycharm": {
     "name": "#%%\n"
    }
   },
   "outputs": [],
   "source": [
    "# plt.rcParams[\"figure.figsize\"] = (15,7)\n",
    "# lightgbm.plot_importance(jl_model)"
   ]
  },
  {
   "cell_type": "code",
   "execution_count": null,
   "metadata": {
    "pycharm": {
     "name": "#%%\n"
    }
   },
   "outputs": [],
   "source": [
    "prob = pd.DataFrame(classifiers['LGBM'].predict_proba(X_test))\n",
    "prob[prob[0] < 0.99].sort_values(by=prob.columns[1])[1].hist()"
   ]
  },
  {
   "cell_type": "code",
   "execution_count": null,
   "metadata": {
    "pycharm": {
     "name": "#%%\n"
    }
   },
   "outputs": [],
   "source": [
    "# i_pred = X_test[y_pred == 1].sort_values(by='epoch').index.tolist()\n",
    "# i_pred.sort()\n",
    "# for i in i_pred[:20]:\n",
    "#     fig, axs = plt.subplots(3, figsize=(4, 4))\n",
    "#     axs[0].set_title(i)\n",
    "#     pred_view = np.concatenate(x_AH[i - 2: i + 3])\n",
    "#     axs[0].plot(pred_view)\n",
    "#     axs[0].plot(range(500, 750), x_AH[i], c='red')\n",
    "#     pred_view = np.concatenate(x_bi[i - 2: i + 3])\n",
    "#     axs[2].plot(pred_view)\n",
    "#     axs[2].plot(range(500, 750), x_bi[i], c='black')\n",
    "#     pred_view = np.concatenate(x_A[i - 2: i + 3])\n",
    "#     axs[1].plot(pred_view)\n",
    "#     axs[1].plot(range(500, 750), x_A[i], c='green')"
   ]
  },
  {
   "cell_type": "code",
   "execution_count": 192,
   "metadata": {
    "pycharm": {
     "name": "#%%\n"
    }
   },
   "outputs": [
    {
     "data": {
      "text/html": [
       "<div>\n",
       "<style scoped>\n",
       "    .dataframe tbody tr th:only-of-type {\n",
       "        vertical-align: middle;\n",
       "    }\n",
       "\n",
       "    .dataframe tbody tr th {\n",
       "        vertical-align: top;\n",
       "    }\n",
       "\n",
       "    .dataframe thead th {\n",
       "        text-align: right;\n",
       "    }\n",
       "</style>\n",
       "<table border=\"1\" class=\"dataframe\">\n",
       "  <thead>\n",
       "    <tr style=\"text-align: right;\">\n",
       "      <th></th>\n",
       "      <th>subj</th>\n",
       "      <th>epoch_id</th>\n",
       "      <th>std</th>\n",
       "      <th>iqr</th>\n",
       "      <th>skew</th>\n",
       "      <th>kurt</th>\n",
       "      <th>nzc</th>\n",
       "      <th>hmob</th>\n",
       "      <th>hcomp</th>\n",
       "      <th>theta</th>\n",
       "      <th>...</th>\n",
       "      <th>at_pmin_norm_2</th>\n",
       "      <th>gt_pmin_norm_2</th>\n",
       "      <th>ft_pmin_norm_2</th>\n",
       "      <th>ag_pmin_norm_2</th>\n",
       "      <th>af_pmin_norm_2</th>\n",
       "      <th>abspow_pmin_norm_2</th>\n",
       "      <th>perm_pmin_norm_2</th>\n",
       "      <th>higuchi_pmin_norm_2</th>\n",
       "      <th>petrosian_pmin_norm_2</th>\n",
       "      <th>pred</th>\n",
       "    </tr>\n",
       "  </thead>\n",
       "  <tbody>\n",
       "    <tr>\n",
       "      <th>23240</th>\n",
       "      <td>402</td>\n",
       "      <td>23240</td>\n",
       "      <td>0.0000061805</td>\n",
       "      <td>0.0000075643</td>\n",
       "      <td>0.9043173818</td>\n",
       "      <td>-0.3731787874</td>\n",
       "      <td>3</td>\n",
       "      <td>0.0423529503</td>\n",
       "      <td>4.2800305518</td>\n",
       "      <td>0.5429664511</td>\n",
       "      <td>...</td>\n",
       "      <td>0.2645690743</td>\n",
       "      <td>-0.0638160215</td>\n",
       "      <td>-0.1207882743</td>\n",
       "      <td>-0.0799799096</td>\n",
       "      <td>-0.1765310793</td>\n",
       "      <td>0.5403751808</td>\n",
       "      <td>-0.1934291748</td>\n",
       "      <td>-0.1128452484</td>\n",
       "      <td>-0.3068614195</td>\n",
       "      <td>0</td>\n",
       "    </tr>\n",
       "    <tr>\n",
       "      <th>3160</th>\n",
       "      <td>396</td>\n",
       "      <td>3160</td>\n",
       "      <td>0.0000015439</td>\n",
       "      <td>0.0000014184</td>\n",
       "      <td>1.2441867937</td>\n",
       "      <td>2.8720089154</td>\n",
       "      <td>1</td>\n",
       "      <td>0.0885457408</td>\n",
       "      <td>4.0280318501</td>\n",
       "      <td>0.2986484320</td>\n",
       "      <td>...</td>\n",
       "      <td>-0.1012437133</td>\n",
       "      <td>0.2246993063</td>\n",
       "      <td>0.2958636940</td>\n",
       "      <td>0.3112901272</td>\n",
       "      <td>0.3783851142</td>\n",
       "      <td>-0.1466988235</td>\n",
       "      <td>0.3952240036</td>\n",
       "      <td>0.2303743386</td>\n",
       "      <td>0.4255226684</td>\n",
       "      <td>0</td>\n",
       "    </tr>\n",
       "    <tr>\n",
       "      <th>66123</th>\n",
       "      <td>406</td>\n",
       "      <td>66123</td>\n",
       "      <td>0.0000113751</td>\n",
       "      <td>0.0000174620</td>\n",
       "      <td>0.6558363180</td>\n",
       "      <td>-0.9007563222</td>\n",
       "      <td>3</td>\n",
       "      <td>0.0466058011</td>\n",
       "      <td>2.9958969500</td>\n",
       "      <td>0.5193868697</td>\n",
       "      <td>...</td>\n",
       "      <td>0.3819044301</td>\n",
       "      <td>-0.0289513737</td>\n",
       "      <td>-0.0862293586</td>\n",
       "      <td>-0.0411525961</td>\n",
       "      <td>-0.0117236570</td>\n",
       "      <td>0.2800988129</td>\n",
       "      <td>0.0140576637</td>\n",
       "      <td>0.1340014094</td>\n",
       "      <td>0.0499600248</td>\n",
       "      <td>0</td>\n",
       "    </tr>\n",
       "    <tr>\n",
       "      <th>67080</th>\n",
       "      <td>406</td>\n",
       "      <td>67080</td>\n",
       "      <td>0.0000144562</td>\n",
       "      <td>0.0000265708</td>\n",
       "      <td>0.0766952076</td>\n",
       "      <td>-1.3312275436</td>\n",
       "      <td>3</td>\n",
       "      <td>0.0388921002</td>\n",
       "      <td>2.9789513262</td>\n",
       "      <td>0.6251846699</td>\n",
       "      <td>...</td>\n",
       "      <td>0.4051571890</td>\n",
       "      <td>-0.0369814968</td>\n",
       "      <td>0.3431210163</td>\n",
       "      <td>-0.0602406452</td>\n",
       "      <td>0.1373595454</td>\n",
       "      <td>-0.1384635840</td>\n",
       "      <td>0.5474291148</td>\n",
       "      <td>0.0633132832</td>\n",
       "      <td>0.6778949435</td>\n",
       "      <td>0</td>\n",
       "    </tr>\n",
       "    <tr>\n",
       "      <th>33942</th>\n",
       "      <td>416</td>\n",
       "      <td>33942</td>\n",
       "      <td>0.0000160657</td>\n",
       "      <td>0.0000257005</td>\n",
       "      <td>-0.7877683070</td>\n",
       "      <td>-0.8680450799</td>\n",
       "      <td>3</td>\n",
       "      <td>0.0372607046</td>\n",
       "      <td>2.4768767475</td>\n",
       "      <td>0.6232854062</td>\n",
       "      <td>...</td>\n",
       "      <td>-0.1516864810</td>\n",
       "      <td>0.3012074164</td>\n",
       "      <td>-0.0692659259</td>\n",
       "      <td>0.3760420507</td>\n",
       "      <td>-0.0496499390</td>\n",
       "      <td>0.2171681939</td>\n",
       "      <td>0.0304982949</td>\n",
       "      <td>-0.2225433291</td>\n",
       "      <td>-0.0136032034</td>\n",
       "      <td>0</td>\n",
       "    </tr>\n",
       "    <tr>\n",
       "      <th>...</th>\n",
       "      <td>...</td>\n",
       "      <td>...</td>\n",
       "      <td>...</td>\n",
       "      <td>...</td>\n",
       "      <td>...</td>\n",
       "      <td>...</td>\n",
       "      <td>...</td>\n",
       "      <td>...</td>\n",
       "      <td>...</td>\n",
       "      <td>...</td>\n",
       "      <td>...</td>\n",
       "      <td>...</td>\n",
       "      <td>...</td>\n",
       "      <td>...</td>\n",
       "      <td>...</td>\n",
       "      <td>...</td>\n",
       "      <td>...</td>\n",
       "      <td>...</td>\n",
       "      <td>...</td>\n",
       "      <td>...</td>\n",
       "      <td>...</td>\n",
       "    </tr>\n",
       "    <tr>\n",
       "      <th>54993</th>\n",
       "      <td>416</td>\n",
       "      <td>54993</td>\n",
       "      <td>0.0000283590</td>\n",
       "      <td>0.0000575902</td>\n",
       "      <td>-0.2651708552</td>\n",
       "      <td>-1.5181737549</td>\n",
       "      <td>0</td>\n",
       "      <td>0.0321858028</td>\n",
       "      <td>2.5324087236</td>\n",
       "      <td>0.7895380142</td>\n",
       "      <td>...</td>\n",
       "      <td>-0.1960620407</td>\n",
       "      <td>-0.1117743548</td>\n",
       "      <td>-0.1378050342</td>\n",
       "      <td>-0.1161920907</td>\n",
       "      <td>-0.1534598601</td>\n",
       "      <td>0.5412905042</td>\n",
       "      <td>-0.2784039606</td>\n",
       "      <td>0.0985758979</td>\n",
       "      <td>-0.1745302021</td>\n",
       "      <td>0</td>\n",
       "    </tr>\n",
       "    <tr>\n",
       "      <th>11996</th>\n",
       "      <td>402</td>\n",
       "      <td>11996</td>\n",
       "      <td>0.0000064861</td>\n",
       "      <td>0.0000102593</td>\n",
       "      <td>-0.7229266879</td>\n",
       "      <td>-0.9711183663</td>\n",
       "      <td>4</td>\n",
       "      <td>0.0240940966</td>\n",
       "      <td>12.6296137546</td>\n",
       "      <td>0.8588380423</td>\n",
       "      <td>...</td>\n",
       "      <td>0.2507096879</td>\n",
       "      <td>0.5513401968</td>\n",
       "      <td>0.9792089970</td>\n",
       "      <td>0.2340487241</td>\n",
       "      <td>0.3945459644</td>\n",
       "      <td>0.4358849056</td>\n",
       "      <td>-0.0532248622</td>\n",
       "      <td>-0.1494672468</td>\n",
       "      <td>0.0919514509</td>\n",
       "      <td>0</td>\n",
       "    </tr>\n",
       "    <tr>\n",
       "      <th>40838</th>\n",
       "      <td>398</td>\n",
       "      <td>40838</td>\n",
       "      <td>0.0000063683</td>\n",
       "      <td>0.0000071969</td>\n",
       "      <td>1.0122663829</td>\n",
       "      <td>0.4029225544</td>\n",
       "      <td>3</td>\n",
       "      <td>0.0307351829</td>\n",
       "      <td>7.1365384256</td>\n",
       "      <td>0.6609515663</td>\n",
       "      <td>...</td>\n",
       "      <td>0.1455676836</td>\n",
       "      <td>0.0319967697</td>\n",
       "      <td>0.5084866915</td>\n",
       "      <td>-0.0059247001</td>\n",
       "      <td>0.2553098439</td>\n",
       "      <td>-0.0113539616</td>\n",
       "      <td>-0.1952777094</td>\n",
       "      <td>-0.1599477270</td>\n",
       "      <td>0.1573219860</td>\n",
       "      <td>0</td>\n",
       "    </tr>\n",
       "    <tr>\n",
       "      <th>69724</th>\n",
       "      <td>415</td>\n",
       "      <td>69724</td>\n",
       "      <td>0.0000177436</td>\n",
       "      <td>0.0000232742</td>\n",
       "      <td>0.2568682451</td>\n",
       "      <td>-0.3455045616</td>\n",
       "      <td>5</td>\n",
       "      <td>0.0544904173</td>\n",
       "      <td>1.6602074105</td>\n",
       "      <td>0.2939775346</td>\n",
       "      <td>...</td>\n",
       "      <td>0.2763069495</td>\n",
       "      <td>0.4486608213</td>\n",
       "      <td>-0.1435390011</td>\n",
       "      <td>0.1586304505</td>\n",
       "      <td>-0.1775994554</td>\n",
       "      <td>1.1745734530</td>\n",
       "      <td>-0.3772368067</td>\n",
       "      <td>-0.0324116335</td>\n",
       "      <td>-0.3827457981</td>\n",
       "      <td>0</td>\n",
       "    </tr>\n",
       "    <tr>\n",
       "      <th>67826</th>\n",
       "      <td>415</td>\n",
       "      <td>67826</td>\n",
       "      <td>0.0000044657</td>\n",
       "      <td>0.0000061504</td>\n",
       "      <td>-0.5092255460</td>\n",
       "      <td>0.1382920385</td>\n",
       "      <td>2</td>\n",
       "      <td>0.0440500839</td>\n",
       "      <td>6.5186101450</td>\n",
       "      <td>0.6280140188</td>\n",
       "      <td>...</td>\n",
       "      <td>-0.0729048003</td>\n",
       "      <td>-0.0556150442</td>\n",
       "      <td>-0.0719796734</td>\n",
       "      <td>-0.0593937871</td>\n",
       "      <td>-0.0776940723</td>\n",
       "      <td>-0.0054565618</td>\n",
       "      <td>0.1750383663</td>\n",
       "      <td>-0.0382780804</td>\n",
       "      <td>0.2000439054</td>\n",
       "      <td>0</td>\n",
       "    </tr>\n",
       "  </tbody>\n",
       "</table>\n",
       "<p>146358 rows × 135 columns</p>\n",
       "</div>"
      ],
      "text/plain": [
       "      subj  epoch_id           std           iqr          skew          kurt  \\\n",
       "23240  402     23240  0.0000061805  0.0000075643  0.9043173818 -0.3731787874   \n",
       "3160   396      3160  0.0000015439  0.0000014184  1.2441867937  2.8720089154   \n",
       "66123  406     66123  0.0000113751  0.0000174620  0.6558363180 -0.9007563222   \n",
       "67080  406     67080  0.0000144562  0.0000265708  0.0766952076 -1.3312275436   \n",
       "33942  416     33942  0.0000160657  0.0000257005 -0.7877683070 -0.8680450799   \n",
       "...    ...       ...           ...           ...           ...           ...   \n",
       "54993  416     54993  0.0000283590  0.0000575902 -0.2651708552 -1.5181737549   \n",
       "11996  402     11996  0.0000064861  0.0000102593 -0.7229266879 -0.9711183663   \n",
       "40838  398     40838  0.0000063683  0.0000071969  1.0122663829  0.4029225544   \n",
       "69724  415     69724  0.0000177436  0.0000232742  0.2568682451 -0.3455045616   \n",
       "67826  415     67826  0.0000044657  0.0000061504 -0.5092255460  0.1382920385   \n",
       "\n",
       "       nzc          hmob          hcomp         theta  ...  at_pmin_norm_2  \\\n",
       "23240    3  0.0423529503   4.2800305518  0.5429664511  ...    0.2645690743   \n",
       "3160     1  0.0885457408   4.0280318501  0.2986484320  ...   -0.1012437133   \n",
       "66123    3  0.0466058011   2.9958969500  0.5193868697  ...    0.3819044301   \n",
       "67080    3  0.0388921002   2.9789513262  0.6251846699  ...    0.4051571890   \n",
       "33942    3  0.0372607046   2.4768767475  0.6232854062  ...   -0.1516864810   \n",
       "...    ...           ...            ...           ...  ...             ...   \n",
       "54993    0  0.0321858028   2.5324087236  0.7895380142  ...   -0.1960620407   \n",
       "11996    4  0.0240940966  12.6296137546  0.8588380423  ...    0.2507096879   \n",
       "40838    3  0.0307351829   7.1365384256  0.6609515663  ...    0.1455676836   \n",
       "69724    5  0.0544904173   1.6602074105  0.2939775346  ...    0.2763069495   \n",
       "67826    2  0.0440500839   6.5186101450  0.6280140188  ...   -0.0729048003   \n",
       "\n",
       "       gt_pmin_norm_2  ft_pmin_norm_2  ag_pmin_norm_2  af_pmin_norm_2  \\\n",
       "23240   -0.0638160215   -0.1207882743   -0.0799799096   -0.1765310793   \n",
       "3160     0.2246993063    0.2958636940    0.3112901272    0.3783851142   \n",
       "66123   -0.0289513737   -0.0862293586   -0.0411525961   -0.0117236570   \n",
       "67080   -0.0369814968    0.3431210163   -0.0602406452    0.1373595454   \n",
       "33942    0.3012074164   -0.0692659259    0.3760420507   -0.0496499390   \n",
       "...               ...             ...             ...             ...   \n",
       "54993   -0.1117743548   -0.1378050342   -0.1161920907   -0.1534598601   \n",
       "11996    0.5513401968    0.9792089970    0.2340487241    0.3945459644   \n",
       "40838    0.0319967697    0.5084866915   -0.0059247001    0.2553098439   \n",
       "69724    0.4486608213   -0.1435390011    0.1586304505   -0.1775994554   \n",
       "67826   -0.0556150442   -0.0719796734   -0.0593937871   -0.0776940723   \n",
       "\n",
       "       abspow_pmin_norm_2  perm_pmin_norm_2  higuchi_pmin_norm_2  \\\n",
       "23240        0.5403751808     -0.1934291748        -0.1128452484   \n",
       "3160        -0.1466988235      0.3952240036         0.2303743386   \n",
       "66123        0.2800988129      0.0140576637         0.1340014094   \n",
       "67080       -0.1384635840      0.5474291148         0.0633132832   \n",
       "33942        0.2171681939      0.0304982949        -0.2225433291   \n",
       "...                   ...               ...                  ...   \n",
       "54993        0.5412905042     -0.2784039606         0.0985758979   \n",
       "11996        0.4358849056     -0.0532248622        -0.1494672468   \n",
       "40838       -0.0113539616     -0.1952777094        -0.1599477270   \n",
       "69724        1.1745734530     -0.3772368067        -0.0324116335   \n",
       "67826       -0.0054565618      0.1750383663        -0.0382780804   \n",
       "\n",
       "       petrosian_pmin_norm_2  pred  \n",
       "23240          -0.3068614195     0  \n",
       "3160            0.4255226684     0  \n",
       "66123           0.0499600248     0  \n",
       "67080           0.6778949435     0  \n",
       "33942          -0.0136032034     0  \n",
       "...                      ...   ...  \n",
       "54993          -0.1745302021     0  \n",
       "11996           0.0919514509     0  \n",
       "40838           0.1573219860     0  \n",
       "69724          -0.3827457981     0  \n",
       "67826           0.2000439054     0  \n",
       "\n",
       "[146358 rows x 135 columns]"
      ]
     },
     "execution_count": 192,
     "metadata": {},
     "output_type": "execute_result"
    }
   ],
   "source": [
    "pred_details['Random Forest']"
   ]
  },
  {
   "cell_type": "code",
   "execution_count": 51,
   "metadata": {
    "pycharm": {
     "name": "#%%\n"
    }
   },
   "outputs": [],
   "source": [
    "feat_all_eog_bi = pd.concat([feat_all_eog1.add_suffix('_1'), feat_all_eog2.iloc[:, 2:].add_suffix('_2')], axis=1)\n",
    "feat_all_scalp_eog = pd.concat([feat_all_eog_bi, feat_all_scalp.iloc[:, 2:]], axis=1)"
   ]
  },
  {
   "cell_type": "code",
   "execution_count": null,
   "metadata": {
    "pycharm": {
     "name": "#%%\n"
    }
   },
   "outputs": [],
   "source": [
    "pred_epochs = pred_details[(pred_details['subj'] == '402') & (pred_details['pred'] ==1 )].epoch_id.tolist()\n",
    "pred_epochs.sort()"
   ]
  },
  {
   "cell_type": "code",
   "execution_count": 11,
   "metadata": {
    "pycharm": {
     "name": "#%%\n"
    }
   },
   "outputs": [
    {
     "data": {
      "image/png": "[encoded data removed]",
      "text/plain": [
       "<Figure size 720x360 with 2 Axes>"
      ]
     },
     "metadata": {},
     "output_type": "display_data"
    }
   ],
   "source": [
    "subj = '38'\n",
    "y_bi_416 = get_all_y_multi_channel([subj])\n",
    "# y_r = get_all_y_multi_channel_side('R', [subj])\n",
    "# y_l = get_all_y_multi_channel_side('L', [subj])\n",
    "feat_eog1_416 = get_all_feat_eog('1', [subj])\n",
    "feat_eog2_416 = get_all_feat_eog('2', [subj])\n",
    "feat_eog_bi_416 = pd.concat([feat_eog1_416.add_suffix('_1'), feat_eog2_416.add_suffix('_2')], axis=1)\n",
    "clear_output()\n",
    "cls_416_bi, pred_416 = plt_cls(feat_eog_bi_416, y_bi_416)"
   ]
  },
  {
   "cell_type": "code",
   "execution_count": 107,
   "metadata": {
    "pycharm": {
     "name": "#%%\n"
    }
   },
   "outputs": [],
   "source": [
    "details = pred_details['Random Forest']\n",
    "details[(details['pred'] ==1 )].sort_values(by='subj')[['subj', 'epoch_id']].to_csv('rf_filter_lgbm_scalp_avg_eog2_7.csv')"
   ]
  },
  {
   "cell_type": "code",
   "execution_count": 21,
   "metadata": {
    "pycharm": {
     "name": "#%%\n"
    }
   },
   "outputs": [
    {
     "data": {
      "text/plain": [
       "['thesis_pred_details.pkl']"
      ]
     },
     "execution_count": 21,
     "metadata": {},
     "output_type": "execute_result"
    }
   ],
   "source": [
    "joblib.dump(pred_details, 'thesis_pred_details.pkl')"
   ]
  },
  {
   "cell_type": "code",
   "execution_count": 10,
   "metadata": {
    "pycharm": {
     "name": "#%%\n"
    }
   },
   "outputs": [],
   "source": [
    "pred_details = joblib.load('thesis_pred_details.pkl')"
   ]
  },
  {
   "cell_type": "code",
   "execution_count": 13,
   "metadata": {
    "pycharm": {
     "name": "#%%\n"
    }
   },
   "outputs": [
    {
     "data": {
      "text/html": [
       "<div>\n",
       "<style scoped>\n",
       "    .dataframe tbody tr th:only-of-type {\n",
       "        vertical-align: middle;\n",
       "    }\n",
       "\n",
       "    .dataframe tbody tr th {\n",
       "        vertical-align: top;\n",
       "    }\n",
       "\n",
       "    .dataframe thead th {\n",
       "        text-align: right;\n",
       "    }\n",
       "</style>\n",
       "<table border=\"1\" class=\"dataframe\">\n",
       "  <thead>\n",
       "    <tr style=\"text-align: right;\">\n",
       "      <th></th>\n",
       "      <th>subj</th>\n",
       "      <th>epoch_id</th>\n",
       "      <th>std</th>\n",
       "      <th>iqr</th>\n",
       "      <th>skew</th>\n",
       "      <th>kurt</th>\n",
       "      <th>nzc</th>\n",
       "      <th>hmob</th>\n",
       "      <th>hcomp</th>\n",
       "      <th>theta</th>\n",
       "      <th>...</th>\n",
       "      <th>ag_pmin_norm_2</th>\n",
       "      <th>af_pmin_norm_2</th>\n",
       "      <th>sf_pmin_norm_2</th>\n",
       "      <th>bf_pmin_norm_2</th>\n",
       "      <th>gf_pmin_norm_2</th>\n",
       "      <th>abspow_pmin_norm_2</th>\n",
       "      <th>perm_pmin_norm_2</th>\n",
       "      <th>higuchi_pmin_norm_2</th>\n",
       "      <th>petrosian_pmin_norm_2</th>\n",
       "      <th>pred</th>\n",
       "    </tr>\n",
       "  </thead>\n",
       "  <tbody>\n",
       "    <tr>\n",
       "      <th>539732</th>\n",
       "      <td>416</td>\n",
       "      <td>85341</td>\n",
       "      <td>0.7157909531</td>\n",
       "      <td>1.3206209332</td>\n",
       "      <td>0.4141095836</td>\n",
       "      <td>-1.2614912931</td>\n",
       "      <td>0</td>\n",
       "      <td>0.0115763425</td>\n",
       "      <td>18.2740133604</td>\n",
       "      <td>1.2634007043</td>\n",
       "      <td>...</td>\n",
       "      <td>-0.0067107178</td>\n",
       "      <td>-0.0092469148</td>\n",
       "      <td>1.6593039126</td>\n",
       "      <td>0.0221773551</td>\n",
       "      <td>0.1504024372</td>\n",
       "      <td>0.6618443629</td>\n",
       "      <td>-0.8049939656</td>\n",
       "      <td>-0.5704268485</td>\n",
       "      <td>-0.3276902884</td>\n",
       "      <td>0.0</td>\n",
       "    </tr>\n",
       "    <tr>\n",
       "      <th>172465</th>\n",
       "      <td>402</td>\n",
       "      <td>5487</td>\n",
       "      <td>0.3300901192</td>\n",
       "      <td>0.5280611960</td>\n",
       "      <td>0.3940948567</td>\n",
       "      <td>-1.0919591982</td>\n",
       "      <td>3</td>\n",
       "      <td>0.0242223003</td>\n",
       "      <td>16.9173500821</td>\n",
       "      <td>0.8204919477</td>\n",
       "      <td>...</td>\n",
       "      <td>0.0046997826</td>\n",
       "      <td>-0.0020309933</td>\n",
       "      <td>0.1569180284</td>\n",
       "      <td>0.1158025400</td>\n",
       "      <td>0.0480720745</td>\n",
       "      <td>-0.1312160235</td>\n",
       "      <td>-0.0715512196</td>\n",
       "      <td>-0.0141656731</td>\n",
       "      <td>-0.0443214081</td>\n",
       "      <td>0.0</td>\n",
       "    </tr>\n",
       "    <tr>\n",
       "      <th>460008</th>\n",
       "      <td>416</td>\n",
       "      <td>5617</td>\n",
       "      <td>1.0770907100</td>\n",
       "      <td>1.4597722310</td>\n",
       "      <td>0.4265570741</td>\n",
       "      <td>-0.8056209101</td>\n",
       "      <td>2</td>\n",
       "      <td>0.0257825308</td>\n",
       "      <td>4.4772834172</td>\n",
       "      <td>0.9002726939</td>\n",
       "      <td>...</td>\n",
       "      <td>-0.1324664221</td>\n",
       "      <td>-0.0136051080</td>\n",
       "      <td>0.1286877748</td>\n",
       "      <td>0.2660720576</td>\n",
       "      <td>-0.0267496233</td>\n",
       "      <td>0.9602837751</td>\n",
       "      <td>-0.5083170259</td>\n",
       "      <td>-0.2696677971</td>\n",
       "      <td>-0.4928969395</td>\n",
       "      <td>0.0</td>\n",
       "    </tr>\n",
       "    <tr>\n",
       "      <th>367907</th>\n",
       "      <td>415</td>\n",
       "      <td>20687</td>\n",
       "      <td>0.2621357008</td>\n",
       "      <td>0.3813288671</td>\n",
       "      <td>-0.4004360577</td>\n",
       "      <td>-0.8800150415</td>\n",
       "      <td>2</td>\n",
       "      <td>0.0565635987</td>\n",
       "      <td>3.0144345320</td>\n",
       "      <td>0.2386066057</td>\n",
       "      <td>...</td>\n",
       "      <td>-0.0416840593</td>\n",
       "      <td>-0.0022071524</td>\n",
       "      <td>0.6250947794</td>\n",
       "      <td>0.6384513741</td>\n",
       "      <td>0.4047911960</td>\n",
       "      <td>0.0598768362</td>\n",
       "      <td>-0.3205679147</td>\n",
       "      <td>-0.3140918981</td>\n",
       "      <td>-0.3484051225</td>\n",
       "      <td>0.0</td>\n",
       "    </tr>\n",
       "    <tr>\n",
       "      <th>528415</th>\n",
       "      <td>416</td>\n",
       "      <td>74024</td>\n",
       "      <td>0.3027847686</td>\n",
       "      <td>0.5173702257</td>\n",
       "      <td>-0.0111556774</td>\n",
       "      <td>-1.0114107502</td>\n",
       "      <td>3</td>\n",
       "      <td>0.0417888480</td>\n",
       "      <td>5.2947896714</td>\n",
       "      <td>0.6132988078</td>\n",
       "      <td>...</td>\n",
       "      <td>-0.1080899321</td>\n",
       "      <td>-0.0062456665</td>\n",
       "      <td>0.1101039110</td>\n",
       "      <td>-0.0613640321</td>\n",
       "      <td>-0.0921061983</td>\n",
       "      <td>0.1243336565</td>\n",
       "      <td>-0.2894369942</td>\n",
       "      <td>-0.3254729075</td>\n",
       "      <td>-0.2977712980</td>\n",
       "      <td>0.0</td>\n",
       "    </tr>\n",
       "    <tr>\n",
       "      <th>...</th>\n",
       "      <td>...</td>\n",
       "      <td>...</td>\n",
       "      <td>...</td>\n",
       "      <td>...</td>\n",
       "      <td>...</td>\n",
       "      <td>...</td>\n",
       "      <td>...</td>\n",
       "      <td>...</td>\n",
       "      <td>...</td>\n",
       "      <td>...</td>\n",
       "      <td>...</td>\n",
       "      <td>...</td>\n",
       "      <td>...</td>\n",
       "      <td>...</td>\n",
       "      <td>...</td>\n",
       "      <td>...</td>\n",
       "      <td>...</td>\n",
       "      <td>...</td>\n",
       "      <td>...</td>\n",
       "      <td>...</td>\n",
       "      <td>...</td>\n",
       "    </tr>\n",
       "    <tr>\n",
       "      <th>438124</th>\n",
       "      <td>415</td>\n",
       "      <td>90904</td>\n",
       "      <td>0.3584589798</td>\n",
       "      <td>0.5496638502</td>\n",
       "      <td>-0.1736918586</td>\n",
       "      <td>-0.8970105324</td>\n",
       "      <td>1</td>\n",
       "      <td>0.0425813321</td>\n",
       "      <td>3.1923223450</td>\n",
       "      <td>0.5666004449</td>\n",
       "      <td>...</td>\n",
       "      <td>-0.0886528321</td>\n",
       "      <td>-0.0030241682</td>\n",
       "      <td>0.1210855923</td>\n",
       "      <td>-0.2295128477</td>\n",
       "      <td>-0.1290923105</td>\n",
       "      <td>0.0269843970</td>\n",
       "      <td>-0.2457964974</td>\n",
       "      <td>0.0709817446</td>\n",
       "      <td>-0.1990692549</td>\n",
       "      <td>0.0</td>\n",
       "    </tr>\n",
       "    <tr>\n",
       "      <th>267543</th>\n",
       "      <td>406</td>\n",
       "      <td>7554</td>\n",
       "      <td>0.5240197139</td>\n",
       "      <td>0.6989892565</td>\n",
       "      <td>0.4647437503</td>\n",
       "      <td>-0.8214026853</td>\n",
       "      <td>7</td>\n",
       "      <td>0.0507648206</td>\n",
       "      <td>2.8321723022</td>\n",
       "      <td>0.3003910284</td>\n",
       "      <td>...</td>\n",
       "      <td>-0.1001687478</td>\n",
       "      <td>-0.0026310704</td>\n",
       "      <td>1.6986835172</td>\n",
       "      <td>1.3711931057</td>\n",
       "      <td>-0.0909490919</td>\n",
       "      <td>0.9756811446</td>\n",
       "      <td>-0.1603717655</td>\n",
       "      <td>-0.3953069414</td>\n",
       "      <td>-0.1329415544</td>\n",
       "      <td>0.0</td>\n",
       "    </tr>\n",
       "    <tr>\n",
       "      <th>48272</th>\n",
       "      <td>396</td>\n",
       "      <td>48272</td>\n",
       "      <td>0.0753206688</td>\n",
       "      <td>0.1176604917</td>\n",
       "      <td>-0.0624071174</td>\n",
       "      <td>-1.0710007308</td>\n",
       "      <td>0</td>\n",
       "      <td>0.0754330783</td>\n",
       "      <td>5.3519074936</td>\n",
       "      <td>0.2521666634</td>\n",
       "      <td>...</td>\n",
       "      <td>0.0668607392</td>\n",
       "      <td>0.0062916314</td>\n",
       "      <td>-0.0737617488</td>\n",
       "      <td>-0.1880779770</td>\n",
       "      <td>-0.0476437148</td>\n",
       "      <td>-0.1205953854</td>\n",
       "      <td>0.5093166567</td>\n",
       "      <td>0.2987007548</td>\n",
       "      <td>0.5217636458</td>\n",
       "      <td>0.0</td>\n",
       "    </tr>\n",
       "    <tr>\n",
       "      <th>345951</th>\n",
       "      <td>406</td>\n",
       "      <td>85962</td>\n",
       "      <td>0.3541181367</td>\n",
       "      <td>0.6083808413</td>\n",
       "      <td>0.0745123368</td>\n",
       "      <td>-1.2647154797</td>\n",
       "      <td>2</td>\n",
       "      <td>0.0498539063</td>\n",
       "      <td>3.3036784857</td>\n",
       "      <td>0.6302935436</td>\n",
       "      <td>...</td>\n",
       "      <td>-0.0815927531</td>\n",
       "      <td>0.0051396052</td>\n",
       "      <td>-0.1525443946</td>\n",
       "      <td>-0.1998401565</td>\n",
       "      <td>-0.1367725525</td>\n",
       "      <td>-0.2045819435</td>\n",
       "      <td>0.4759670847</td>\n",
       "      <td>-0.3664392056</td>\n",
       "      <td>0.5192892332</td>\n",
       "      <td>0.0</td>\n",
       "    </tr>\n",
       "    <tr>\n",
       "      <th>209776</th>\n",
       "      <td>402</td>\n",
       "      <td>42798</td>\n",
       "      <td>0.4217510810</td>\n",
       "      <td>0.6467477510</td>\n",
       "      <td>-0.3747553571</td>\n",
       "      <td>-1.0264531614</td>\n",
       "      <td>1</td>\n",
       "      <td>0.0235832427</td>\n",
       "      <td>14.7217574499</td>\n",
       "      <td>0.9553562513</td>\n",
       "      <td>...</td>\n",
       "      <td>0.1118469271</td>\n",
       "      <td>0.0111191904</td>\n",
       "      <td>-0.0795107778</td>\n",
       "      <td>-0.0334300479</td>\n",
       "      <td>-0.0018571612</td>\n",
       "      <td>-0.1331918415</td>\n",
       "      <td>0.2392316375</td>\n",
       "      <td>0.7382439188</td>\n",
       "      <td>0.1677169765</td>\n",
       "      <td>0.0</td>\n",
       "    </tr>\n",
       "  </tbody>\n",
       "</table>\n",
       "<p>140401 rows × 153 columns</p>\n",
       "</div>"
      ],
      "text/plain": [
       "       subj  epoch_id           std           iqr          skew          kurt  \\\n",
       "539732  416     85341  0.7157909531  1.3206209332  0.4141095836 -1.2614912931   \n",
       "172465  402      5487  0.3300901192  0.5280611960  0.3940948567 -1.0919591982   \n",
       "460008  416      5617  1.0770907100  1.4597722310  0.4265570741 -0.8056209101   \n",
       "367907  415     20687  0.2621357008  0.3813288671 -0.4004360577 -0.8800150415   \n",
       "528415  416     74024  0.3027847686  0.5173702257 -0.0111556774 -1.0114107502   \n",
       "...     ...       ...           ...           ...           ...           ...   \n",
       "438124  415     90904  0.3584589798  0.5496638502 -0.1736918586 -0.8970105324   \n",
       "267543  406      7554  0.5240197139  0.6989892565  0.4647437503 -0.8214026853   \n",
       "48272   396     48272  0.0753206688  0.1176604917 -0.0624071174 -1.0710007308   \n",
       "345951  406     85962  0.3541181367  0.6083808413  0.0745123368 -1.2647154797   \n",
       "209776  402     42798  0.4217510810  0.6467477510 -0.3747553571 -1.0264531614   \n",
       "\n",
       "        nzc          hmob          hcomp         theta  ...  ag_pmin_norm_2  \\\n",
       "539732    0  0.0115763425  18.2740133604  1.2634007043  ...   -0.0067107178   \n",
       "172465    3  0.0242223003  16.9173500821  0.8204919477  ...    0.0046997826   \n",
       "460008    2  0.0257825308   4.4772834172  0.9002726939  ...   -0.1324664221   \n",
       "367907    2  0.0565635987   3.0144345320  0.2386066057  ...   -0.0416840593   \n",
       "528415    3  0.0417888480   5.2947896714  0.6132988078  ...   -0.1080899321   \n",
       "...     ...           ...            ...           ...  ...             ...   \n",
       "438124    1  0.0425813321   3.1923223450  0.5666004449  ...   -0.0886528321   \n",
       "267543    7  0.0507648206   2.8321723022  0.3003910284  ...   -0.1001687478   \n",
       "48272     0  0.0754330783   5.3519074936  0.2521666634  ...    0.0668607392   \n",
       "345951    2  0.0498539063   3.3036784857  0.6302935436  ...   -0.0815927531   \n",
       "209776    1  0.0235832427  14.7217574499  0.9553562513  ...    0.1118469271   \n",
       "\n",
       "        af_pmin_norm_2  sf_pmin_norm_2  bf_pmin_norm_2  gf_pmin_norm_2  \\\n",
       "539732   -0.0092469148    1.6593039126    0.0221773551    0.1504024372   \n",
       "172465   -0.0020309933    0.1569180284    0.1158025400    0.0480720745   \n",
       "460008   -0.0136051080    0.1286877748    0.2660720576   -0.0267496233   \n",
       "367907   -0.0022071524    0.6250947794    0.6384513741    0.4047911960   \n",
       "528415   -0.0062456665    0.1101039110   -0.0613640321   -0.0921061983   \n",
       "...                ...             ...             ...             ...   \n",
       "438124   -0.0030241682    0.1210855923   -0.2295128477   -0.1290923105   \n",
       "267543   -0.0026310704    1.6986835172    1.3711931057   -0.0909490919   \n",
       "48272     0.0062916314   -0.0737617488   -0.1880779770   -0.0476437148   \n",
       "345951    0.0051396052   -0.1525443946   -0.1998401565   -0.1367725525   \n",
       "209776    0.0111191904   -0.0795107778   -0.0334300479   -0.0018571612   \n",
       "\n",
       "        abspow_pmin_norm_2  perm_pmin_norm_2  higuchi_pmin_norm_2  \\\n",
       "539732        0.6618443629     -0.8049939656        -0.5704268485   \n",
       "172465       -0.1312160235     -0.0715512196        -0.0141656731   \n",
       "460008        0.9602837751     -0.5083170259        -0.2696677971   \n",
       "367907        0.0598768362     -0.3205679147        -0.3140918981   \n",
       "528415        0.1243336565     -0.2894369942        -0.3254729075   \n",
       "...                    ...               ...                  ...   \n",
       "438124        0.0269843970     -0.2457964974         0.0709817446   \n",
       "267543        0.9756811446     -0.1603717655        -0.3953069414   \n",
       "48272        -0.1205953854      0.5093166567         0.2987007548   \n",
       "345951       -0.2045819435      0.4759670847        -0.3664392056   \n",
       "209776       -0.1331918415      0.2392316375         0.7382439188   \n",
       "\n",
       "        petrosian_pmin_norm_2  pred  \n",
       "539732          -0.3276902884   0.0  \n",
       "172465          -0.0443214081   0.0  \n",
       "460008          -0.4928969395   0.0  \n",
       "367907          -0.3484051225   0.0  \n",
       "528415          -0.2977712980   0.0  \n",
       "...                       ...   ...  \n",
       "438124          -0.1990692549   0.0  \n",
       "267543          -0.1329415544   0.0  \n",
       "48272            0.5217636458   0.0  \n",
       "345951           0.5192892332   0.0  \n",
       "209776           0.1677169765   0.0  \n",
       "\n",
       "[140401 rows x 153 columns]"
      ]
     },
     "execution_count": 13,
     "metadata": {},
     "output_type": "execute_result"
    }
   ],
   "source": [
    "pred_details['Random Forest']"
   ]
  },
  {
   "cell_type": "code",
   "execution_count": 20,
   "metadata": {
    "pycharm": {
     "name": "#%%\n"
    }
   },
   "outputs": [
    {
     "data": {
      "text/plain": [
       "['thesis_scalp_lgbm.pkl']"
      ]
     },
     "execution_count": 20,
     "metadata": {},
     "output_type": "execute_result"
    }
   ],
   "source": [
    "joblib.dump(cls_all['Random Forest'],'thesis_scalp_rf.pkl' )\n",
    "joblib.dump(cls_all['LGBM'],'thesis_scalp_lgbm.pkl' )"
   ]
  },
  {
   "cell_type": "code",
   "execution_count": 82,
   "metadata": {
    "pycharm": {
     "name": "#%%\n"
    }
   },
   "outputs": [
    {
     "ename": "KeyError",
     "evalue": "'LGBM'",
     "output_type": "error",
     "traceback": [
      "\u001B[1;31m---------------------------------------------------------------------------\u001B[0m",
      "\u001B[1;31mKeyError\u001B[0m                                  Traceback (most recent call last)",
      "\u001B[1;32m~\\AppData\\Local\\Temp/ipykernel_29052/2843034598.py\u001B[0m in \u001B[0;36m<module>\u001B[1;34m\u001B[0m\n\u001B[0;32m      1\u001B[0m \u001B[0mdetails\u001B[0m \u001B[1;33m=\u001B[0m \u001B[0mpred_details\u001B[0m\u001B[1;33m[\u001B[0m\u001B[1;34m'Random Forest'\u001B[0m\u001B[1;33m]\u001B[0m\u001B[1;33m\u001B[0m\u001B[1;33m\u001B[0m\u001B[0m\n\u001B[0;32m      2\u001B[0m \u001B[0mdetails\u001B[0m\u001B[1;33m[\u001B[0m\u001B[1;33m(\u001B[0m\u001B[0mdetails\u001B[0m\u001B[1;33m[\u001B[0m\u001B[1;34m'pred'\u001B[0m\u001B[1;33m]\u001B[0m \u001B[1;33m==\u001B[0m\u001B[1;36m1\u001B[0m \u001B[1;33m)\u001B[0m\u001B[1;33m]\u001B[0m\u001B[1;33m.\u001B[0m\u001B[0msort_values\u001B[0m\u001B[1;33m(\u001B[0m\u001B[0mby\u001B[0m\u001B[1;33m=\u001B[0m\u001B[1;34m'subj'\u001B[0m\u001B[1;33m)\u001B[0m\u001B[1;33m[\u001B[0m\u001B[1;33m[\u001B[0m\u001B[1;34m'subj'\u001B[0m\u001B[1;33m,\u001B[0m \u001B[1;34m'epoch_id'\u001B[0m\u001B[1;33m]\u001B[0m\u001B[1;33m]\u001B[0m\u001B[1;33m.\u001B[0m\u001B[0mto_csv\u001B[0m\u001B[1;33m(\u001B[0m\u001B[1;34m'thesis_rf_scalp.csv'\u001B[0m\u001B[1;33m)\u001B[0m\u001B[1;33m\u001B[0m\u001B[1;33m\u001B[0m\u001B[0m\n\u001B[1;32m----> 3\u001B[1;33m \u001B[0mdetails\u001B[0m \u001B[1;33m=\u001B[0m \u001B[0mpred_details\u001B[0m\u001B[1;33m[\u001B[0m\u001B[1;34m'LGBM'\u001B[0m\u001B[1;33m]\u001B[0m\u001B[1;33m\u001B[0m\u001B[1;33m\u001B[0m\u001B[0m\n\u001B[0m\u001B[0;32m      4\u001B[0m \u001B[0mdetails\u001B[0m\u001B[1;33m[\u001B[0m\u001B[1;33m(\u001B[0m\u001B[0mdetails\u001B[0m\u001B[1;33m[\u001B[0m\u001B[1;34m'pred'\u001B[0m\u001B[1;33m]\u001B[0m \u001B[1;33m==\u001B[0m\u001B[1;36m1\u001B[0m \u001B[1;33m)\u001B[0m\u001B[1;33m]\u001B[0m\u001B[1;33m.\u001B[0m\u001B[0msort_values\u001B[0m\u001B[1;33m(\u001B[0m\u001B[0mby\u001B[0m\u001B[1;33m=\u001B[0m\u001B[1;34m'subj'\u001B[0m\u001B[1;33m)\u001B[0m\u001B[1;33m[\u001B[0m\u001B[1;33m[\u001B[0m\u001B[1;34m'subj'\u001B[0m\u001B[1;33m,\u001B[0m \u001B[1;34m'epoch_id'\u001B[0m\u001B[1;33m]\u001B[0m\u001B[1;33m]\u001B[0m\u001B[1;33m.\u001B[0m\u001B[0mto_csv\u001B[0m\u001B[1;33m(\u001B[0m\u001B[1;34m'thesis_lgbm_scalp.csv'\u001B[0m\u001B[1;33m)\u001B[0m\u001B[1;33m\u001B[0m\u001B[1;33m\u001B[0m\u001B[0m\n",
      "\u001B[1;31mKeyError\u001B[0m: 'LGBM'"
     ]
    }
   ],
   "source": [
    "details = pred_details['Random Forest']\n",
    "details[(details['pred'] ==1 )].sort_values(by='subj')[['subj', 'epoch_id']].to_csv('thesis_rf_scalp.csv')\n",
    "details = pred_details['LGBM']\n",
    "details[(details['pred'] ==1 )].sort_values(by='subj')[['subj', 'epoch_id']].to_csv('thesis_lgbm_scalp.csv')"
   ]
  },
  {
   "cell_type": "code",
   "execution_count": null,
   "metadata": {
    "pycharm": {
     "name": "#%%\n"
    }
   },
   "outputs": [],
   "source": [
    "# save depth detection files\n",
    "for subj in ['396', '398', '402', '406', '415', '416']:\n",
    "    y_bi = get_all_y_multi_channel([subj])\n",
    "    spike_index = np.transpose((y_bi == 1).nonzero())\n",
    "    pd.DataFrame(spike_index).to_csv(f\"filter_depth_lgbm_{subj}.csv\", header=False, index=False)"
   ]
  },
  {
   "cell_type": "code",
   "execution_count": null,
   "metadata": {
    "pycharm": {
     "name": "#%%\n"
    }
   },
   "outputs": [],
   "source": [
    "# save depth detection files\n",
    "for subj in ['396', '398', '402', '406', '415', '416']:\n",
    "    y_bi = get_all_y_multi_channel([subj])\n",
    "    spike_index = np.transpose((y_bi == 1).nonzero())\n",
    "    pd.DataFrame(spike_index).to_csv(f\"thesis_fast_depth_lgbm_{subj}.csv\", header=False, index=False)"
   ]
  },
  {
   "cell_type": "code",
   "execution_count": 91,
   "metadata": {
    "pycharm": {
     "name": "#%%\n"
    }
   },
   "outputs": [
    {
     "data": {
      "text/plain": [
       "dict_keys(['Random Forest'])"
      ]
     },
     "execution_count": 91,
     "metadata": {},
     "output_type": "execute_result"
    }
   ],
   "source": [
    "pred_details.keys()"
   ]
  },
  {
   "cell_type": "code",
   "execution_count": 14,
   "metadata": {
    "pycharm": {
     "name": "#%%\n"
    }
   },
   "outputs": [
    {
     "data": {
      "text/plain": [
       "<AxesSubplot:>"
      ]
     },
     "execution_count": 14,
     "metadata": {},
     "output_type": "execute_result"
    },
    {
     "data": {
      "image/png": "[encoded data removed]",
      "text/plain": [
       "<Figure size 432x288 with 1 Axes>"
      ]
     },
     "metadata": {},
     "output_type": "display_data"
    }
   ],
   "source": [
    "# check detection distribution\n",
    "details = pred_details['Random Forest']\n",
    "details[(details['pred'] > 0.8)].sort_values(by='subj')['subj'].hist()"
   ]
  },
  {
   "cell_type": "code",
   "execution_count": 30,
   "metadata": {
    "pycharm": {
     "name": "#%%\n"
    }
   },
   "outputs": [
    {
     "ename": "TypeError",
     "evalue": "'<' not supported between instances of 'str' and 'int'",
     "output_type": "error",
     "traceback": [
      "\u001B[1;31m---------------------------------------------------------------------------\u001B[0m",
      "\u001B[1;31mTypeError\u001B[0m                                 Traceback (most recent call last)",
      "\u001B[1;32m~\\AppData\\Local\\Temp/ipykernel_2872/1511653702.py\u001B[0m in \u001B[0;36m<module>\u001B[1;34m\u001B[0m\n\u001B[0;32m      1\u001B[0m \u001B[1;31m# check detection distribution\u001B[0m\u001B[1;33m\u001B[0m\u001B[1;33m\u001B[0m\u001B[1;33m\u001B[0m\u001B[0m\n\u001B[0;32m      2\u001B[0m \u001B[0mdetails\u001B[0m \u001B[1;33m=\u001B[0m \u001B[0mpred_details\u001B[0m\u001B[1;33m[\u001B[0m\u001B[1;34m'Random Forest'\u001B[0m\u001B[1;33m]\u001B[0m\u001B[1;33m\u001B[0m\u001B[1;33m\u001B[0m\u001B[0m\n\u001B[1;32m----> 3\u001B[1;33m \u001B[0mdetails\u001B[0m\u001B[1;33m[\u001B[0m\u001B[1;33m(\u001B[0m\u001B[0mdetails\u001B[0m\u001B[1;33m[\u001B[0m\u001B[1;34m'pred'\u001B[0m\u001B[1;33m]\u001B[0m \u001B[1;33m>\u001B[0m \u001B[1;36m0.8\u001B[0m\u001B[1;33m)\u001B[0m\u001B[1;33m]\u001B[0m\u001B[1;33m.\u001B[0m\u001B[0msort_values\u001B[0m\u001B[1;33m(\u001B[0m\u001B[0mby\u001B[0m\u001B[1;33m=\u001B[0m\u001B[1;34m'subj'\u001B[0m\u001B[1;33m)\u001B[0m\u001B[1;33m[\u001B[0m\u001B[1;34m'subj'\u001B[0m\u001B[1;33m]\u001B[0m\u001B[1;33m.\u001B[0m\u001B[0mplot\u001B[0m\u001B[1;33m.\u001B[0m\u001B[0mpie\u001B[0m\u001B[1;33m(\u001B[0m\u001B[1;33m)\u001B[0m\u001B[1;33m\u001B[0m\u001B[1;33m\u001B[0m\u001B[0m\n\u001B[0m",
      "\u001B[1;32mc:\\users\\user\\pycharmprojects\\pythonproject\\venv\\lib\\site-packages\\pandas\\plotting\\_core.py\u001B[0m in \u001B[0;36mpie\u001B[1;34m(self, **kwargs)\u001B[0m\n\u001B[0;32m   1532\u001B[0m         ):\n\u001B[0;32m   1533\u001B[0m             \u001B[1;32mraise\u001B[0m \u001B[0mValueError\u001B[0m\u001B[1;33m(\u001B[0m\u001B[1;34m\"pie requires either y column or 'subplots=True'\"\u001B[0m\u001B[1;33m)\u001B[0m\u001B[1;33m\u001B[0m\u001B[1;33m\u001B[0m\u001B[0m\n\u001B[1;32m-> 1534\u001B[1;33m         \u001B[1;32mreturn\u001B[0m \u001B[0mself\u001B[0m\u001B[1;33m(\u001B[0m\u001B[0mkind\u001B[0m\u001B[1;33m=\u001B[0m\u001B[1;34m\"pie\"\u001B[0m\u001B[1;33m,\u001B[0m \u001B[1;33m**\u001B[0m\u001B[0mkwargs\u001B[0m\u001B[1;33m)\u001B[0m\u001B[1;33m\u001B[0m\u001B[1;33m\u001B[0m\u001B[0m\n\u001B[0m\u001B[0;32m   1535\u001B[0m \u001B[1;33m\u001B[0m\u001B[0m\n\u001B[0;32m   1536\u001B[0m     \u001B[1;32mdef\u001B[0m \u001B[0mscatter\u001B[0m\u001B[1;33m(\u001B[0m\u001B[0mself\u001B[0m\u001B[1;33m,\u001B[0m \u001B[0mx\u001B[0m\u001B[1;33m,\u001B[0m \u001B[0my\u001B[0m\u001B[1;33m,\u001B[0m \u001B[0ms\u001B[0m\u001B[1;33m=\u001B[0m\u001B[1;32mNone\u001B[0m\u001B[1;33m,\u001B[0m \u001B[0mc\u001B[0m\u001B[1;33m=\u001B[0m\u001B[1;32mNone\u001B[0m\u001B[1;33m,\u001B[0m \u001B[1;33m**\u001B[0m\u001B[0mkwargs\u001B[0m\u001B[1;33m)\u001B[0m\u001B[1;33m:\u001B[0m\u001B[1;33m\u001B[0m\u001B[1;33m\u001B[0m\u001B[0m\n",
      "\u001B[1;32mc:\\users\\user\\pycharmprojects\\pythonproject\\venv\\lib\\site-packages\\pandas\\plotting\\_core.py\u001B[0m in \u001B[0;36m__call__\u001B[1;34m(self, *args, **kwargs)\u001B[0m\n\u001B[0;32m    953\u001B[0m                     \u001B[0mdata\u001B[0m\u001B[1;33m.\u001B[0m\u001B[0mcolumns\u001B[0m \u001B[1;33m=\u001B[0m \u001B[0mlabel_name\u001B[0m\u001B[1;33m\u001B[0m\u001B[1;33m\u001B[0m\u001B[0m\n\u001B[0;32m    954\u001B[0m \u001B[1;33m\u001B[0m\u001B[0m\n\u001B[1;32m--> 955\u001B[1;33m         \u001B[1;32mreturn\u001B[0m \u001B[0mplot_backend\u001B[0m\u001B[1;33m.\u001B[0m\u001B[0mplot\u001B[0m\u001B[1;33m(\u001B[0m\u001B[0mdata\u001B[0m\u001B[1;33m,\u001B[0m \u001B[0mkind\u001B[0m\u001B[1;33m=\u001B[0m\u001B[0mkind\u001B[0m\u001B[1;33m,\u001B[0m \u001B[1;33m**\u001B[0m\u001B[0mkwargs\u001B[0m\u001B[1;33m)\u001B[0m\u001B[1;33m\u001B[0m\u001B[1;33m\u001B[0m\u001B[0m\n\u001B[0m\u001B[0;32m    956\u001B[0m \u001B[1;33m\u001B[0m\u001B[0m\n\u001B[0;32m    957\u001B[0m     \u001B[0m__call__\u001B[0m\u001B[1;33m.\u001B[0m\u001B[0m__doc__\u001B[0m \u001B[1;33m=\u001B[0m \u001B[0m__doc__\u001B[0m\u001B[1;33m\u001B[0m\u001B[1;33m\u001B[0m\u001B[0m\n",
      "\u001B[1;32mc:\\users\\user\\pycharmprojects\\pythonproject\\venv\\lib\\site-packages\\pandas\\plotting\\_matplotlib\\__init__.py\u001B[0m in \u001B[0;36mplot\u001B[1;34m(data, kind, **kwargs)\u001B[0m\n\u001B[0;32m     58\u001B[0m                 \u001B[0max\u001B[0m \u001B[1;33m=\u001B[0m \u001B[0mplt\u001B[0m\u001B[1;33m.\u001B[0m\u001B[0mgca\u001B[0m\u001B[1;33m(\u001B[0m\u001B[1;33m)\u001B[0m\u001B[1;33m\u001B[0m\u001B[1;33m\u001B[0m\u001B[0m\n\u001B[0;32m     59\u001B[0m             \u001B[0mkwargs\u001B[0m\u001B[1;33m[\u001B[0m\u001B[1;34m\"ax\"\u001B[0m\u001B[1;33m]\u001B[0m \u001B[1;33m=\u001B[0m \u001B[0mgetattr\u001B[0m\u001B[1;33m(\u001B[0m\u001B[0max\u001B[0m\u001B[1;33m,\u001B[0m \u001B[1;34m\"left_ax\"\u001B[0m\u001B[1;33m,\u001B[0m \u001B[0max\u001B[0m\u001B[1;33m)\u001B[0m\u001B[1;33m\u001B[0m\u001B[1;33m\u001B[0m\u001B[0m\n\u001B[1;32m---> 60\u001B[1;33m     \u001B[0mplot_obj\u001B[0m \u001B[1;33m=\u001B[0m \u001B[0mPLOT_CLASSES\u001B[0m\u001B[1;33m[\u001B[0m\u001B[0mkind\u001B[0m\u001B[1;33m]\u001B[0m\u001B[1;33m(\u001B[0m\u001B[0mdata\u001B[0m\u001B[1;33m,\u001B[0m \u001B[1;33m**\u001B[0m\u001B[0mkwargs\u001B[0m\u001B[1;33m)\u001B[0m\u001B[1;33m\u001B[0m\u001B[1;33m\u001B[0m\u001B[0m\n\u001B[0m\u001B[0;32m     61\u001B[0m     \u001B[0mplot_obj\u001B[0m\u001B[1;33m.\u001B[0m\u001B[0mgenerate\u001B[0m\u001B[1;33m(\u001B[0m\u001B[1;33m)\u001B[0m\u001B[1;33m\u001B[0m\u001B[1;33m\u001B[0m\u001B[0m\n\u001B[0;32m     62\u001B[0m     \u001B[0mplot_obj\u001B[0m\u001B[1;33m.\u001B[0m\u001B[0mdraw\u001B[0m\u001B[1;33m(\u001B[0m\u001B[1;33m)\u001B[0m\u001B[1;33m\u001B[0m\u001B[1;33m\u001B[0m\u001B[0m\n",
      "\u001B[1;32mc:\\users\\user\\pycharmprojects\\pythonproject\\venv\\lib\\site-packages\\pandas\\plotting\\_matplotlib\\core.py\u001B[0m in \u001B[0;36m__init__\u001B[1;34m(self, data, kind, **kwargs)\u001B[0m\n\u001B[0;32m   1538\u001B[0m     \u001B[1;32mdef\u001B[0m \u001B[0m__init__\u001B[0m\u001B[1;33m(\u001B[0m\u001B[0mself\u001B[0m\u001B[1;33m,\u001B[0m \u001B[0mdata\u001B[0m\u001B[1;33m,\u001B[0m \u001B[0mkind\u001B[0m\u001B[1;33m=\u001B[0m\u001B[1;32mNone\u001B[0m\u001B[1;33m,\u001B[0m \u001B[1;33m**\u001B[0m\u001B[0mkwargs\u001B[0m\u001B[1;33m)\u001B[0m\u001B[1;33m:\u001B[0m\u001B[1;33m\u001B[0m\u001B[1;33m\u001B[0m\u001B[0m\n\u001B[0;32m   1539\u001B[0m         \u001B[0mdata\u001B[0m \u001B[1;33m=\u001B[0m \u001B[0mdata\u001B[0m\u001B[1;33m.\u001B[0m\u001B[0mfillna\u001B[0m\u001B[1;33m(\u001B[0m\u001B[0mvalue\u001B[0m\u001B[1;33m=\u001B[0m\u001B[1;36m0\u001B[0m\u001B[1;33m)\u001B[0m\u001B[1;33m\u001B[0m\u001B[1;33m\u001B[0m\u001B[0m\n\u001B[1;32m-> 1540\u001B[1;33m         \u001B[1;32mif\u001B[0m \u001B[1;33m(\u001B[0m\u001B[0mdata\u001B[0m \u001B[1;33m<\u001B[0m \u001B[1;36m0\u001B[0m\u001B[1;33m)\u001B[0m\u001B[1;33m.\u001B[0m\u001B[0many\u001B[0m\u001B[1;33m(\u001B[0m\u001B[1;33m)\u001B[0m\u001B[1;33m.\u001B[0m\u001B[0many\u001B[0m\u001B[1;33m(\u001B[0m\u001B[1;33m)\u001B[0m\u001B[1;33m:\u001B[0m\u001B[1;33m\u001B[0m\u001B[1;33m\u001B[0m\u001B[0m\n\u001B[0m\u001B[0;32m   1541\u001B[0m             \u001B[1;32mraise\u001B[0m \u001B[0mValueError\u001B[0m\u001B[1;33m(\u001B[0m\u001B[1;34mf\"{kind} doesn't allow negative values\"\u001B[0m\u001B[1;33m)\u001B[0m\u001B[1;33m\u001B[0m\u001B[1;33m\u001B[0m\u001B[0m\n\u001B[0;32m   1542\u001B[0m         \u001B[0mMPLPlot\u001B[0m\u001B[1;33m.\u001B[0m\u001B[0m__init__\u001B[0m\u001B[1;33m(\u001B[0m\u001B[0mself\u001B[0m\u001B[1;33m,\u001B[0m \u001B[0mdata\u001B[0m\u001B[1;33m,\u001B[0m \u001B[0mkind\u001B[0m\u001B[1;33m=\u001B[0m\u001B[0mkind\u001B[0m\u001B[1;33m,\u001B[0m \u001B[1;33m**\u001B[0m\u001B[0mkwargs\u001B[0m\u001B[1;33m)\u001B[0m\u001B[1;33m\u001B[0m\u001B[1;33m\u001B[0m\u001B[0m\n",
      "\u001B[1;32mc:\\users\\user\\pycharmprojects\\pythonproject\\venv\\lib\\site-packages\\pandas\\core\\ops\\common.py\u001B[0m in \u001B[0;36mnew_method\u001B[1;34m(self, other)\u001B[0m\n\u001B[0;32m     63\u001B[0m         \u001B[0mother\u001B[0m \u001B[1;33m=\u001B[0m \u001B[0mitem_from_zerodim\u001B[0m\u001B[1;33m(\u001B[0m\u001B[0mother\u001B[0m\u001B[1;33m)\u001B[0m\u001B[1;33m\u001B[0m\u001B[1;33m\u001B[0m\u001B[0m\n\u001B[0;32m     64\u001B[0m \u001B[1;33m\u001B[0m\u001B[0m\n\u001B[1;32m---> 65\u001B[1;33m         \u001B[1;32mreturn\u001B[0m \u001B[0mmethod\u001B[0m\u001B[1;33m(\u001B[0m\u001B[0mself\u001B[0m\u001B[1;33m,\u001B[0m \u001B[0mother\u001B[0m\u001B[1;33m)\u001B[0m\u001B[1;33m\u001B[0m\u001B[1;33m\u001B[0m\u001B[0m\n\u001B[0m\u001B[0;32m     66\u001B[0m \u001B[1;33m\u001B[0m\u001B[0m\n\u001B[0;32m     67\u001B[0m     \u001B[1;32mreturn\u001B[0m \u001B[0mnew_method\u001B[0m\u001B[1;33m\u001B[0m\u001B[1;33m\u001B[0m\u001B[0m\n",
      "\u001B[1;32mc:\\users\\user\\pycharmprojects\\pythonproject\\venv\\lib\\site-packages\\pandas\\core\\arraylike.py\u001B[0m in \u001B[0;36m__lt__\u001B[1;34m(self, other)\u001B[0m\n\u001B[0;32m     35\u001B[0m     \u001B[1;33m@\u001B[0m\u001B[0munpack_zerodim_and_defer\u001B[0m\u001B[1;33m(\u001B[0m\u001B[1;34m\"__lt__\"\u001B[0m\u001B[1;33m)\u001B[0m\u001B[1;33m\u001B[0m\u001B[1;33m\u001B[0m\u001B[0m\n\u001B[0;32m     36\u001B[0m     \u001B[1;32mdef\u001B[0m \u001B[0m__lt__\u001B[0m\u001B[1;33m(\u001B[0m\u001B[0mself\u001B[0m\u001B[1;33m,\u001B[0m \u001B[0mother\u001B[0m\u001B[1;33m)\u001B[0m\u001B[1;33m:\u001B[0m\u001B[1;33m\u001B[0m\u001B[1;33m\u001B[0m\u001B[0m\n\u001B[1;32m---> 37\u001B[1;33m         \u001B[1;32mreturn\u001B[0m \u001B[0mself\u001B[0m\u001B[1;33m.\u001B[0m\u001B[0m_cmp_method\u001B[0m\u001B[1;33m(\u001B[0m\u001B[0mother\u001B[0m\u001B[1;33m,\u001B[0m \u001B[0moperator\u001B[0m\u001B[1;33m.\u001B[0m\u001B[0mlt\u001B[0m\u001B[1;33m)\u001B[0m\u001B[1;33m\u001B[0m\u001B[1;33m\u001B[0m\u001B[0m\n\u001B[0m\u001B[0;32m     38\u001B[0m \u001B[1;33m\u001B[0m\u001B[0m\n\u001B[0;32m     39\u001B[0m     \u001B[1;33m@\u001B[0m\u001B[0munpack_zerodim_and_defer\u001B[0m\u001B[1;33m(\u001B[0m\u001B[1;34m\"__le__\"\u001B[0m\u001B[1;33m)\u001B[0m\u001B[1;33m\u001B[0m\u001B[1;33m\u001B[0m\u001B[0m\n",
      "\u001B[1;32mc:\\users\\user\\pycharmprojects\\pythonproject\\venv\\lib\\site-packages\\pandas\\core\\series.py\u001B[0m in \u001B[0;36m_cmp_method\u001B[1;34m(self, other, op)\u001B[0m\n\u001B[0;32m   4976\u001B[0m         \u001B[0mrvalues\u001B[0m \u001B[1;33m=\u001B[0m \u001B[0mextract_array\u001B[0m\u001B[1;33m(\u001B[0m\u001B[0mother\u001B[0m\u001B[1;33m,\u001B[0m \u001B[0mextract_numpy\u001B[0m\u001B[1;33m=\u001B[0m\u001B[1;32mTrue\u001B[0m\u001B[1;33m)\u001B[0m\u001B[1;33m\u001B[0m\u001B[1;33m\u001B[0m\u001B[0m\n\u001B[0;32m   4977\u001B[0m \u001B[1;33m\u001B[0m\u001B[0m\n\u001B[1;32m-> 4978\u001B[1;33m         \u001B[0mres_values\u001B[0m \u001B[1;33m=\u001B[0m \u001B[0mops\u001B[0m\u001B[1;33m.\u001B[0m\u001B[0mcomparison_op\u001B[0m\u001B[1;33m(\u001B[0m\u001B[0mlvalues\u001B[0m\u001B[1;33m,\u001B[0m \u001B[0mrvalues\u001B[0m\u001B[1;33m,\u001B[0m \u001B[0mop\u001B[0m\u001B[1;33m)\u001B[0m\u001B[1;33m\u001B[0m\u001B[1;33m\u001B[0m\u001B[0m\n\u001B[0m\u001B[0;32m   4979\u001B[0m \u001B[1;33m\u001B[0m\u001B[0m\n\u001B[0;32m   4980\u001B[0m         \u001B[1;32mreturn\u001B[0m \u001B[0mself\u001B[0m\u001B[1;33m.\u001B[0m\u001B[0m_construct_result\u001B[0m\u001B[1;33m(\u001B[0m\u001B[0mres_values\u001B[0m\u001B[1;33m,\u001B[0m \u001B[0mname\u001B[0m\u001B[1;33m=\u001B[0m\u001B[0mres_name\u001B[0m\u001B[1;33m)\u001B[0m\u001B[1;33m\u001B[0m\u001B[1;33m\u001B[0m\u001B[0m\n",
      "\u001B[1;32mc:\\users\\user\\pycharmprojects\\pythonproject\\venv\\lib\\site-packages\\pandas\\core\\ops\\array_ops.py\u001B[0m in \u001B[0;36mcomparison_op\u001B[1;34m(left, right, op)\u001B[0m\n\u001B[0;32m    241\u001B[0m \u001B[1;33m\u001B[0m\u001B[0m\n\u001B[0;32m    242\u001B[0m     \u001B[1;32melif\u001B[0m \u001B[0mis_object_dtype\u001B[0m\u001B[1;33m(\u001B[0m\u001B[0mlvalues\u001B[0m\u001B[1;33m.\u001B[0m\u001B[0mdtype\u001B[0m\u001B[1;33m)\u001B[0m\u001B[1;33m:\u001B[0m\u001B[1;33m\u001B[0m\u001B[1;33m\u001B[0m\u001B[0m\n\u001B[1;32m--> 243\u001B[1;33m         \u001B[0mres_values\u001B[0m \u001B[1;33m=\u001B[0m \u001B[0mcomp_method_OBJECT_ARRAY\u001B[0m\u001B[1;33m(\u001B[0m\u001B[0mop\u001B[0m\u001B[1;33m,\u001B[0m \u001B[0mlvalues\u001B[0m\u001B[1;33m,\u001B[0m \u001B[0mrvalues\u001B[0m\u001B[1;33m)\u001B[0m\u001B[1;33m\u001B[0m\u001B[1;33m\u001B[0m\u001B[0m\n\u001B[0m\u001B[0;32m    244\u001B[0m \u001B[1;33m\u001B[0m\u001B[0m\n\u001B[0;32m    245\u001B[0m     \u001B[1;32melse\u001B[0m\u001B[1;33m:\u001B[0m\u001B[1;33m\u001B[0m\u001B[1;33m\u001B[0m\u001B[0m\n",
      "\u001B[1;32mc:\\users\\user\\pycharmprojects\\pythonproject\\venv\\lib\\site-packages\\pandas\\core\\ops\\array_ops.py\u001B[0m in \u001B[0;36mcomp_method_OBJECT_ARRAY\u001B[1;34m(op, x, y)\u001B[0m\n\u001B[0;32m     53\u001B[0m         \u001B[0mresult\u001B[0m \u001B[1;33m=\u001B[0m \u001B[0mlibops\u001B[0m\u001B[1;33m.\u001B[0m\u001B[0mvec_compare\u001B[0m\u001B[1;33m(\u001B[0m\u001B[0mx\u001B[0m\u001B[1;33m.\u001B[0m\u001B[0mravel\u001B[0m\u001B[1;33m(\u001B[0m\u001B[1;33m)\u001B[0m\u001B[1;33m,\u001B[0m \u001B[0my\u001B[0m\u001B[1;33m.\u001B[0m\u001B[0mravel\u001B[0m\u001B[1;33m(\u001B[0m\u001B[1;33m)\u001B[0m\u001B[1;33m,\u001B[0m \u001B[0mop\u001B[0m\u001B[1;33m)\u001B[0m\u001B[1;33m\u001B[0m\u001B[1;33m\u001B[0m\u001B[0m\n\u001B[0;32m     54\u001B[0m     \u001B[1;32melse\u001B[0m\u001B[1;33m:\u001B[0m\u001B[1;33m\u001B[0m\u001B[1;33m\u001B[0m\u001B[0m\n\u001B[1;32m---> 55\u001B[1;33m         \u001B[0mresult\u001B[0m \u001B[1;33m=\u001B[0m \u001B[0mlibops\u001B[0m\u001B[1;33m.\u001B[0m\u001B[0mscalar_compare\u001B[0m\u001B[1;33m(\u001B[0m\u001B[0mx\u001B[0m\u001B[1;33m.\u001B[0m\u001B[0mravel\u001B[0m\u001B[1;33m(\u001B[0m\u001B[1;33m)\u001B[0m\u001B[1;33m,\u001B[0m \u001B[0my\u001B[0m\u001B[1;33m,\u001B[0m \u001B[0mop\u001B[0m\u001B[1;33m)\u001B[0m\u001B[1;33m\u001B[0m\u001B[1;33m\u001B[0m\u001B[0m\n\u001B[0m\u001B[0;32m     56\u001B[0m     \u001B[1;32mreturn\u001B[0m \u001B[0mresult\u001B[0m\u001B[1;33m.\u001B[0m\u001B[0mreshape\u001B[0m\u001B[1;33m(\u001B[0m\u001B[0mx\u001B[0m\u001B[1;33m.\u001B[0m\u001B[0mshape\u001B[0m\u001B[1;33m)\u001B[0m\u001B[1;33m\u001B[0m\u001B[1;33m\u001B[0m\u001B[0m\n\u001B[0;32m     57\u001B[0m \u001B[1;33m\u001B[0m\u001B[0m\n",
      "\u001B[1;32mpandas\\_libs\\ops.pyx\u001B[0m in \u001B[0;36mpandas._libs.ops.scalar_compare\u001B[1;34m()\u001B[0m\n",
      "\u001B[1;31mTypeError\u001B[0m: '<' not supported between instances of 'str' and 'int'"
     ]
    }
   ],
   "source": [
    "# check detection distribution\n",
    "details = pred_details['Random Forest']\n",
    "details[(details['pred'] > 0.8)].sort_values(by='subj')['subj'].plot.pie()"
   ]
  },
  {
   "cell_type": "code",
   "execution_count": 28,
   "metadata": {
    "pycharm": {
     "name": "#%%\n"
    }
   },
   "outputs": [
    {
     "data": {
      "text/plain": [
       "{'398': 13, '402': 7, '406': 135, '415': 6, '416': 27}"
      ]
     },
     "execution_count": 28,
     "metadata": {},
     "output_type": "execute_result"
    }
   ],
   "source": [
    "# check detection distribution\n",
    "details = pred_details['LGBM']\n",
    "unique, counts = np.unique(details[(details['pred'] > 0.8)].sort_values(by='subj')['subj'].to_numpy(), return_counts=True)\n",
    "dict(zip(unique, counts))"
   ]
  },
  {
   "cell_type": "code",
   "execution_count": 78,
   "metadata": {
    "pycharm": {
     "name": "#%%\n"
    }
   },
   "outputs": [
    {
     "data": {
      "image/png": "[encoded data removed]",
      "text/plain": [
       "<Figure size 720x504 with 1 Axes>"
      ]
     },
     "metadata": {},
     "output_type": "display_data"
    }
   ],
   "source": [
    "plt.rcParams.update({'font.size': 14, 'font.weight': 'medium'})\n",
    "plt.figure(figsize=(10,7))\n",
    "#  = plt.pie(nonzero_spending['Sum'], labels=cat, radius=2, startangle=160,\n",
    "#                                      autopct=lambda p: f\"{p:.2f}%  ({p * sum(nonzero_spending['Sum']) / 100:,.0f})\",\n",
    "#                                      rotatelabels=True, pctdistance=0.5)\n",
    "\n",
    "patches, labels, pct_texts = plt.pie(counts, labels=unique,  rotatelabels=True, startangle=10, colors=['tab:green','tab:red', 'tab:blue','tab:orange', 'tab:purple'], \n",
    "                                     autopct=lambda p: '{:.1f}% ({:.0f})'.format(p,(p/100)*counts.sum()))\n",
    "\n",
    "for label, pct_text in zip(labels, pct_texts):\n",
    "    pct_text.set_rotation(label.get_rotation())"
   ]
  },
  {
   "cell_type": "code",
   "execution_count": null,
   "metadata": {
    "pycharm": {
     "is_executing": true
    }
   },
   "outputs": [],
   "source": [
    "import seaborn as sns\n",
    "plt.rcParams.update({'font.size': 14, 'font.weight': 'medium'})\n",
    "\n",
    "days = details[(details['pred'] > 0.8)].sort_values(by='subj').groupby('subj').size()\n",
    "    \n",
    "sns.set()\n",
    "days.plot(kind='pie', title='Number of parties on different days',  rotatelabels=True, figsize=[8,8],\n",
    "          autopct=lambda p: '{:.1f}%({:.0f})'.format(p,(p/100)*days.sum()), fontsize=14)\n",
    "\n",
    "plt.show()"
   ]
  },
  {
   "cell_type": "code",
   "execution_count": null,
   "metadata": {
    "pycharm": {
     "is_executing": true
    }
   },
   "outputs": [],
   "source": [
    "days.plot(kind='pie', title='Number of parties on different days',  rotatelabels=True, figsize=[8,8],\n",
    "          autopct=lambda p: '{:.1f}%({:.0f})'.format(p,(p/100)*days.sum()))"
   ]
  },
  {
   "cell_type": "code",
   "execution_count": null,
   "metadata": {
    "pycharm": {
     "name": "#%%\n",
     "is_executing": true
    }
   },
   "outputs": [],
   "source": [
    "details[(details['pred'] > 0.8)].sort_values(by='subj')['subj']"
   ]
  },
  {
   "cell_type": "code",
   "execution_count": 136,
   "metadata": {
    "pycharm": {
     "name": "#%%\n"
    }
   },
   "outputs": [
    {
     "data": {
      "text/html": [
       "<div>\n",
       "<style scoped>\n",
       "    .dataframe tbody tr th:only-of-type {\n",
       "        vertical-align: middle;\n",
       "    }\n",
       "\n",
       "    .dataframe tbody tr th {\n",
       "        vertical-align: top;\n",
       "    }\n",
       "\n",
       "    .dataframe thead th {\n",
       "        text-align: right;\n",
       "    }\n",
       "</style>\n",
       "<table border=\"1\" class=\"dataframe\">\n",
       "  <thead>\n",
       "    <tr style=\"text-align: right;\">\n",
       "      <th></th>\n",
       "      <th>subj</th>\n",
       "      <th>epoch_id</th>\n",
       "      <th>std</th>\n",
       "      <th>iqr</th>\n",
       "      <th>skew</th>\n",
       "      <th>kurt</th>\n",
       "      <th>nzc</th>\n",
       "      <th>hmob</th>\n",
       "      <th>hcomp</th>\n",
       "      <th>theta</th>\n",
       "      <th>...</th>\n",
       "      <th>at_pmin_norm_2</th>\n",
       "      <th>gt_pmin_norm_2</th>\n",
       "      <th>ft_pmin_norm_2</th>\n",
       "      <th>ag_pmin_norm_2</th>\n",
       "      <th>af_pmin_norm_2</th>\n",
       "      <th>abspow_pmin_norm_2</th>\n",
       "      <th>perm_pmin_norm_2</th>\n",
       "      <th>higuchi_pmin_norm_2</th>\n",
       "      <th>petrosian_pmin_norm_2</th>\n",
       "      <th>pred</th>\n",
       "    </tr>\n",
       "  </thead>\n",
       "  <tbody>\n",
       "    <tr>\n",
       "      <th>97304</th>\n",
       "      <td>38</td>\n",
       "      <td>97304</td>\n",
       "      <td>0.0000074927</td>\n",
       "      <td>0.0000110640</td>\n",
       "      <td>-0.2401809763</td>\n",
       "      <td>-0.6616114037</td>\n",
       "      <td>3</td>\n",
       "      <td>0.0628107032</td>\n",
       "      <td>2.1964572063</td>\n",
       "      <td>0.3066889497</td>\n",
       "      <td>...</td>\n",
       "      <td>0.2484994213</td>\n",
       "      <td>-0.0815633262</td>\n",
       "      <td>-0.1147020012</td>\n",
       "      <td>-0.0976165261</td>\n",
       "      <td>-0.1627905729</td>\n",
       "      <td>1.5140582055</td>\n",
       "      <td>0.1512633938</td>\n",
       "      <td>-0.4684584650</td>\n",
       "      <td>0.1271129542</td>\n",
       "      <td>1.0</td>\n",
       "    </tr>\n",
       "    <tr>\n",
       "      <th>76754</th>\n",
       "      <td>38</td>\n",
       "      <td>76754</td>\n",
       "      <td>0.0000081495</td>\n",
       "      <td>0.0000131287</td>\n",
       "      <td>-0.7024768235</td>\n",
       "      <td>-0.8417677507</td>\n",
       "      <td>3</td>\n",
       "      <td>0.0637083663</td>\n",
       "      <td>2.2284174094</td>\n",
       "      <td>0.3185052298</td>\n",
       "      <td>...</td>\n",
       "      <td>0.0335774074</td>\n",
       "      <td>0.0285112243</td>\n",
       "      <td>0.0758459039</td>\n",
       "      <td>-0.0244433676</td>\n",
       "      <td>-0.0269518669</td>\n",
       "      <td>0.6656885752</td>\n",
       "      <td>-0.1604311457</td>\n",
       "      <td>-0.3893215098</td>\n",
       "      <td>-0.1782531480</td>\n",
       "      <td>1.0</td>\n",
       "    </tr>\n",
       "    <tr>\n",
       "      <th>81789</th>\n",
       "      <td>38</td>\n",
       "      <td>81789</td>\n",
       "      <td>0.0000083452</td>\n",
       "      <td>0.0000099413</td>\n",
       "      <td>-0.1552546975</td>\n",
       "      <td>0.0550255949</td>\n",
       "      <td>4</td>\n",
       "      <td>0.0938094790</td>\n",
       "      <td>2.4760067375</td>\n",
       "      <td>0.4199942571</td>\n",
       "      <td>...</td>\n",
       "      <td>-0.0267188088</td>\n",
       "      <td>-0.0107209110</td>\n",
       "      <td>-0.1696967700</td>\n",
       "      <td>0.0012076090</td>\n",
       "      <td>-0.1802860498</td>\n",
       "      <td>2.6021258560</td>\n",
       "      <td>-0.3872581529</td>\n",
       "      <td>-0.2039243865</td>\n",
       "      <td>-0.3948408886</td>\n",
       "      <td>1.0</td>\n",
       "    </tr>\n",
       "    <tr>\n",
       "      <th>29457</th>\n",
       "      <td>38</td>\n",
       "      <td>29457</td>\n",
       "      <td>0.0000083800</td>\n",
       "      <td>0.0000149435</td>\n",
       "      <td>-0.5202462607</td>\n",
       "      <td>-1.1455612352</td>\n",
       "      <td>6</td>\n",
       "      <td>0.0559912591</td>\n",
       "      <td>2.6227914727</td>\n",
       "      <td>0.3173467132</td>\n",
       "      <td>...</td>\n",
       "      <td>0.3878175896</td>\n",
       "      <td>-0.0324924973</td>\n",
       "      <td>0.3438454422</td>\n",
       "      <td>-0.0911169120</td>\n",
       "      <td>-0.0663423698</td>\n",
       "      <td>2.6145945869</td>\n",
       "      <td>0.0137087849</td>\n",
       "      <td>-0.3148226383</td>\n",
       "      <td>0.0366857624</td>\n",
       "      <td>1.0</td>\n",
       "    </tr>\n",
       "    <tr>\n",
       "      <th>29209</th>\n",
       "      <td>38</td>\n",
       "      <td>29209</td>\n",
       "      <td>0.0000035326</td>\n",
       "      <td>0.0000059051</td>\n",
       "      <td>-0.2471957389</td>\n",
       "      <td>-0.7800274210</td>\n",
       "      <td>8</td>\n",
       "      <td>0.1093921358</td>\n",
       "      <td>1.8182051427</td>\n",
       "      <td>0.1430322960</td>\n",
       "      <td>...</td>\n",
       "      <td>-0.1581268161</td>\n",
       "      <td>-0.0846889232</td>\n",
       "      <td>-0.1566385253</td>\n",
       "      <td>-0.0802124107</td>\n",
       "      <td>-0.1503521004</td>\n",
       "      <td>1.2919873250</td>\n",
       "      <td>-0.0542947382</td>\n",
       "      <td>-0.3026649504</td>\n",
       "      <td>-0.0628379765</td>\n",
       "      <td>1.0</td>\n",
       "    </tr>\n",
       "    <tr>\n",
       "      <th>...</th>\n",
       "      <td>...</td>\n",
       "      <td>...</td>\n",
       "      <td>...</td>\n",
       "      <td>...</td>\n",
       "      <td>...</td>\n",
       "      <td>...</td>\n",
       "      <td>...</td>\n",
       "      <td>...</td>\n",
       "      <td>...</td>\n",
       "      <td>...</td>\n",
       "      <td>...</td>\n",
       "      <td>...</td>\n",
       "      <td>...</td>\n",
       "      <td>...</td>\n",
       "      <td>...</td>\n",
       "      <td>...</td>\n",
       "      <td>...</td>\n",
       "      <td>...</td>\n",
       "      <td>...</td>\n",
       "      <td>...</td>\n",
       "      <td>...</td>\n",
       "    </tr>\n",
       "    <tr>\n",
       "      <th>721321</th>\n",
       "      <td>416</td>\n",
       "      <td>97883</td>\n",
       "      <td>0.0000762893</td>\n",
       "      <td>0.0001320659</td>\n",
       "      <td>-0.3306474399</td>\n",
       "      <td>-1.0260596839</td>\n",
       "      <td>3</td>\n",
       "      <td>0.0303910993</td>\n",
       "      <td>1.8622314964</td>\n",
       "      <td>0.6338153843</td>\n",
       "      <td>...</td>\n",
       "      <td>-0.1724785710</td>\n",
       "      <td>-0.1168509375</td>\n",
       "      <td>-0.1384406799</td>\n",
       "      <td>-0.1225872666</td>\n",
       "      <td>-0.1356265639</td>\n",
       "      <td>3.0907330079</td>\n",
       "      <td>-0.4288443127</td>\n",
       "      <td>-0.6198485345</td>\n",
       "      <td>-0.3647386106</td>\n",
       "      <td>1.0</td>\n",
       "    </tr>\n",
       "    <tr>\n",
       "      <th>673943</th>\n",
       "      <td>416</td>\n",
       "      <td>50505</td>\n",
       "      <td>0.0000726453</td>\n",
       "      <td>0.0000917371</td>\n",
       "      <td>-0.6102664597</td>\n",
       "      <td>-0.6399849878</td>\n",
       "      <td>3</td>\n",
       "      <td>0.0442889712</td>\n",
       "      <td>1.3298975828</td>\n",
       "      <td>0.5948791160</td>\n",
       "      <td>...</td>\n",
       "      <td>-0.1210625654</td>\n",
       "      <td>-0.1090290497</td>\n",
       "      <td>-0.1473487509</td>\n",
       "      <td>-0.1125712849</td>\n",
       "      <td>-0.1630746846</td>\n",
       "      <td>3.5952070099</td>\n",
       "      <td>-0.4718581123</td>\n",
       "      <td>-0.6080063639</td>\n",
       "      <td>-0.3832293133</td>\n",
       "      <td>1.0</td>\n",
       "    </tr>\n",
       "    <tr>\n",
       "      <th>726995</th>\n",
       "      <td>416</td>\n",
       "      <td>103557</td>\n",
       "      <td>0.0000982789</td>\n",
       "      <td>0.0001637512</td>\n",
       "      <td>-0.7085319849</td>\n",
       "      <td>-0.9725307158</td>\n",
       "      <td>2</td>\n",
       "      <td>0.0316524548</td>\n",
       "      <td>1.4965275069</td>\n",
       "      <td>0.7362012147</td>\n",
       "      <td>...</td>\n",
       "      <td>-0.2374694271</td>\n",
       "      <td>-0.1143345690</td>\n",
       "      <td>-0.1501745191</td>\n",
       "      <td>-0.1187755441</td>\n",
       "      <td>-0.1733879774</td>\n",
       "      <td>9.3422110403</td>\n",
       "      <td>-0.9923462894</td>\n",
       "      <td>-0.7396215943</td>\n",
       "      <td>-0.6571291413</td>\n",
       "      <td>1.0</td>\n",
       "    </tr>\n",
       "    <tr>\n",
       "      <th>697765</th>\n",
       "      <td>416</td>\n",
       "      <td>74327</td>\n",
       "      <td>0.0000621858</td>\n",
       "      <td>0.0001029926</td>\n",
       "      <td>-0.5674986275</td>\n",
       "      <td>-0.8301006118</td>\n",
       "      <td>2</td>\n",
       "      <td>0.0312172027</td>\n",
       "      <td>1.7344472264</td>\n",
       "      <td>0.6375864175</td>\n",
       "      <td>...</td>\n",
       "      <td>-0.1215140294</td>\n",
       "      <td>-0.1090712104</td>\n",
       "      <td>-0.1474988945</td>\n",
       "      <td>-0.1126182618</td>\n",
       "      <td>-0.1707840322</td>\n",
       "      <td>2.1715730374</td>\n",
       "      <td>-0.5602478703</td>\n",
       "      <td>-0.6279755482</td>\n",
       "      <td>-0.3745888478</td>\n",
       "      <td>1.0</td>\n",
       "    </tr>\n",
       "    <tr>\n",
       "      <th>707683</th>\n",
       "      <td>416</td>\n",
       "      <td>84245</td>\n",
       "      <td>0.0000643773</td>\n",
       "      <td>0.0001095620</td>\n",
       "      <td>-0.5291382666</td>\n",
       "      <td>-0.8454581788</td>\n",
       "      <td>2</td>\n",
       "      <td>0.0313593658</td>\n",
       "      <td>1.8446871694</td>\n",
       "      <td>0.6393519962</td>\n",
       "      <td>...</td>\n",
       "      <td>-0.1173204019</td>\n",
       "      <td>-0.1132295379</td>\n",
       "      <td>-0.1428933232</td>\n",
       "      <td>-0.1059420085</td>\n",
       "      <td>-0.1444120217</td>\n",
       "      <td>2.0640379355</td>\n",
       "      <td>-0.7578383253</td>\n",
       "      <td>-0.5924484269</td>\n",
       "      <td>-0.4955639625</td>\n",
       "      <td>1.0</td>\n",
       "    </tr>\n",
       "  </tbody>\n",
       "</table>\n",
       "<p>234 rows × 135 columns</p>\n",
       "</div>"
      ],
      "text/plain": [
       "       subj  epoch_id           std           iqr          skew          kurt  \\\n",
       "97304    38     97304  0.0000074927  0.0000110640 -0.2401809763 -0.6616114037   \n",
       "76754    38     76754  0.0000081495  0.0000131287 -0.7024768235 -0.8417677507   \n",
       "81789    38     81789  0.0000083452  0.0000099413 -0.1552546975  0.0550255949   \n",
       "29457    38     29457  0.0000083800  0.0000149435 -0.5202462607 -1.1455612352   \n",
       "29209    38     29209  0.0000035326  0.0000059051 -0.2471957389 -0.7800274210   \n",
       "...     ...       ...           ...           ...           ...           ...   \n",
       "721321  416     97883  0.0000762893  0.0001320659 -0.3306474399 -1.0260596839   \n",
       "673943  416     50505  0.0000726453  0.0000917371 -0.6102664597 -0.6399849878   \n",
       "726995  416    103557  0.0000982789  0.0001637512 -0.7085319849 -0.9725307158   \n",
       "697765  416     74327  0.0000621858  0.0001029926 -0.5674986275 -0.8301006118   \n",
       "707683  416     84245  0.0000643773  0.0001095620 -0.5291382666 -0.8454581788   \n",
       "\n",
       "        nzc          hmob         hcomp         theta  ...  at_pmin_norm_2  \\\n",
       "97304     3  0.0628107032  2.1964572063  0.3066889497  ...    0.2484994213   \n",
       "76754     3  0.0637083663  2.2284174094  0.3185052298  ...    0.0335774074   \n",
       "81789     4  0.0938094790  2.4760067375  0.4199942571  ...   -0.0267188088   \n",
       "29457     6  0.0559912591  2.6227914727  0.3173467132  ...    0.3878175896   \n",
       "29209     8  0.1093921358  1.8182051427  0.1430322960  ...   -0.1581268161   \n",
       "...     ...           ...           ...           ...  ...             ...   \n",
       "721321    3  0.0303910993  1.8622314964  0.6338153843  ...   -0.1724785710   \n",
       "673943    3  0.0442889712  1.3298975828  0.5948791160  ...   -0.1210625654   \n",
       "726995    2  0.0316524548  1.4965275069  0.7362012147  ...   -0.2374694271   \n",
       "697765    2  0.0312172027  1.7344472264  0.6375864175  ...   -0.1215140294   \n",
       "707683    2  0.0313593658  1.8446871694  0.6393519962  ...   -0.1173204019   \n",
       "\n",
       "        gt_pmin_norm_2  ft_pmin_norm_2  ag_pmin_norm_2  af_pmin_norm_2  \\\n",
       "97304    -0.0815633262   -0.1147020012   -0.0976165261   -0.1627905729   \n",
       "76754     0.0285112243    0.0758459039   -0.0244433676   -0.0269518669   \n",
       "81789    -0.0107209110   -0.1696967700    0.0012076090   -0.1802860498   \n",
       "29457    -0.0324924973    0.3438454422   -0.0911169120   -0.0663423698   \n",
       "29209    -0.0846889232   -0.1566385253   -0.0802124107   -0.1503521004   \n",
       "...                ...             ...             ...             ...   \n",
       "721321   -0.1168509375   -0.1384406799   -0.1225872666   -0.1356265639   \n",
       "673943   -0.1090290497   -0.1473487509   -0.1125712849   -0.1630746846   \n",
       "726995   -0.1143345690   -0.1501745191   -0.1187755441   -0.1733879774   \n",
       "697765   -0.1090712104   -0.1474988945   -0.1126182618   -0.1707840322   \n",
       "707683   -0.1132295379   -0.1428933232   -0.1059420085   -0.1444120217   \n",
       "\n",
       "        abspow_pmin_norm_2  perm_pmin_norm_2  higuchi_pmin_norm_2  \\\n",
       "97304         1.5140582055      0.1512633938        -0.4684584650   \n",
       "76754         0.6656885752     -0.1604311457        -0.3893215098   \n",
       "81789         2.6021258560     -0.3872581529        -0.2039243865   \n",
       "29457         2.6145945869      0.0137087849        -0.3148226383   \n",
       "29209         1.2919873250     -0.0542947382        -0.3026649504   \n",
       "...                    ...               ...                  ...   \n",
       "721321        3.0907330079     -0.4288443127        -0.6198485345   \n",
       "673943        3.5952070099     -0.4718581123        -0.6080063639   \n",
       "726995        9.3422110403     -0.9923462894        -0.7396215943   \n",
       "697765        2.1715730374     -0.5602478703        -0.6279755482   \n",
       "707683        2.0640379355     -0.7578383253        -0.5924484269   \n",
       "\n",
       "        petrosian_pmin_norm_2  pred  \n",
       "97304            0.1271129542   1.0  \n",
       "76754           -0.1782531480   1.0  \n",
       "81789           -0.3948408886   1.0  \n",
       "29457            0.0366857624   1.0  \n",
       "29209           -0.0628379765   1.0  \n",
       "...                       ...   ...  \n",
       "721321          -0.3647386106   1.0  \n",
       "673943          -0.3832293133   1.0  \n",
       "726995          -0.6571291413   1.0  \n",
       "697765          -0.3745888478   1.0  \n",
       "707683          -0.4955639625   1.0  \n",
       "\n",
       "[234 rows x 135 columns]"
      ]
     },
     "execution_count": 136,
     "metadata": {},
     "output_type": "execute_result"
    }
   ],
   "source": [
    "# TODO: check why its always LGBM results!!!!!!!!!!!!\n",
    "details[(details['pred'] > 0.8)].sort_values(by='subj')"
   ]
  },
  {
   "cell_type": "code",
   "execution_count": 13,
   "metadata": {
    "pycharm": {
     "name": "#%%\n"
    }
   },
   "outputs": [
    {
     "data": {
      "text/plain": [
       "{'accuracy': 0.9678614402917046,\n",
       " 'precision': 0.9962638365679897,\n",
       " 'recall': 0.9392452142206016,\n",
       " 'f_score': 0.9843129282686749}"
      ]
     },
     "execution_count": 13,
     "metadata": {},
     "output_type": "execute_result"
    }
   ],
   "source": [
    "metrics"
   ]
  },
  {
   "cell_type": "code",
   "execution_count": 14,
   "metadata": {
    "pycharm": {
     "name": "#%%\n"
    }
   },
   "outputs": [
    {
     "data": {
      "text/plain": [
       "136653.0"
      ]
     },
     "execution_count": 14,
     "metadata": {},
     "output_type": "execute_result"
    }
   ],
   "source": [
    "y_rf.sum()"
   ]
  },
  {
   "cell_type": "code",
   "execution_count": 15,
   "metadata": {
    "pycharm": {
     "name": "#%%\n"
    }
   },
   "outputs": [],
   "source": [
    "random_metrics = []\n",
    "for i in range(0, 100000):\n",
    "    np.random.shuffle(y_rf)\n",
    "    cf_matrix = confusion_matrix(y_test, y_rf)\n",
    "    random_metrics.append(get_metrics(cf_matrix))"
   ]
  },
  {
   "cell_type": "code",
   "execution_count": 44,
   "metadata": {
    "pycharm": {
     "name": "#%%\n"
    }
   },
   "outputs": [
    {
     "data": {
      "text/plain": [
       "100000"
      ]
     },
     "execution_count": 44,
     "metadata": {},
     "output_type": "execute_result"
    }
   ],
   "source": [
    "len(random_metrics_e5)"
   ]
  },
  {
   "cell_type": "code",
   "execution_count": null,
   "metadata": {
    "pycharm": {
     "is_executing": true
    }
   },
   "outputs": [],
   "source": [
    "%matplotlib inline\n",
    "\n",
    "import matplotlib as mpl\n",
    "import matplotlib.pyplot as plt\n",
    "plt.style.use('classic')\n",
    "\n",
    "%matplotlib inline\n",
    "inline_rc = dict(mpl.rcParams)\n",
    "mpl.rcParams.update(inline_rc)"
   ]
  },
  {
   "cell_type": "code",
   "execution_count": 36,
   "metadata": {
    "pycharm": {
     "name": "#%%\n"
    }
   },
   "outputs": [],
   "source": [
    "random_metrics_e5 = random_metrics[:100000]"
   ]
  },
  {
   "cell_type": "code",
   "execution_count": 16,
   "metadata": {
    "pycharm": {
     "name": "#%%\n"
    }
   },
   "outputs": [
    {
     "data": {
      "text/plain": [
       "['scalp_shuffle_oversample.pkl']"
      ]
     },
     "execution_count": 16,
     "metadata": {},
     "output_type": "execute_result"
    }
   ],
   "source": [
    "joblib.dump(random_metrics, 'scalp_shuffle_oversample.pkl')"
   ]
  },
  {
   "cell_type": "code",
   "execution_count": 18,
   "metadata": {
    "pycharm": {
     "name": "#%%\n"
    }
   },
   "outputs": [],
   "source": [
    "precision_random = [x['precision'] for x in random_metrics]\n",
    "# recall_random = [x['recall'] for x in random_metrics]\n",
    "# accuracy_random = [x['accuracy'] for x in random_metrics]\n",
    "# f_random = [x['f_score'] for x in random_metrics]"
   ]
  },
  {
   "cell_type": "code",
   "execution_count": null,
   "metadata": {
    "pycharm": {
     "name": "#%%\n",
     "is_executing": true
    }
   },
   "outputs": [],
   "source": [
    "# Final plots at the other notebook (playground)\n",
    "plt.hist(precision_random)\n",
    "precision_max = '{0:.2f}'.format(max(precision_random))\n",
    "plt.title('scalp: max precision = {}'.format(precision_max))\n",
    "plt.xlim(0, 1)"
   ]
  },
  {
   "cell_type": "code",
   "execution_count": null,
   "metadata": {
    "pycharm": {
     "is_executing": true
    }
   },
   "outputs": [],
   "source": [
    "plt.figure(figsize=(8,5))\n",
    "x = np.array(precision_random)\n",
    "plt.hist(precision_random, bins=15, edgecolor=\"black\", color='tab:blue')\n",
    "plt.xlim(0, 1)\n",
    "plt.axvline(x.mean(), color='red', linestyle='dashed', linewidth=2)\n",
    "plt.axvline(x.max(), color='green', linestyle='dashed', linewidth=1.5)\n",
    "plt.axvline(0.99, color='black', linestyle='dashed', linewidth=1.5)\n",
    "plt.xlabel('Precision', fontsize=14)\n",
    "\n",
    "min_ylim, max_ylim = plt.ylim()\n",
    "plt.text(x.mean()*1.2, max_ylim*0.9, 'Mean: {:.2f}%'.format(x.mean() * 100))\n",
    "plt.text(x.max()*1.1, max_ylim*0.7, 'Max: {:.2f}%'.format(x.max() * 100))\n",
    "plt.text(x.max()*1.3, max_ylim*0.5, 'classifier: {:.2f}%'.format(99))"
   ]
  },
  {
   "cell_type": "code",
   "execution_count": 12,
   "metadata": {
    "pycharm": {
     "name": "#%%\n"
    }
   },
   "outputs": [
    {
     "ename": "NameError",
     "evalue": "name 'X_test_data' is not defined",
     "output_type": "error",
     "traceback": [
      "\u001B[1;31m---------------------------------------------------------------------------\u001B[0m",
      "\u001B[1;31mNameError\u001B[0m                                 Traceback (most recent call last)",
      "\u001B[1;32m~\\AppData\\Local\\Temp/ipykernel_28548/2804629458.py\u001B[0m in \u001B[0;36m<module>\u001B[1;34m\u001B[0m\n\u001B[0;32m      7\u001B[0m \u001B[0mmodel_lgbm\u001B[0m \u001B[1;33m=\u001B[0m \u001B[0mjoblib\u001B[0m\u001B[1;33m.\u001B[0m\u001B[0mload\u001B[0m\u001B[1;33m(\u001B[0m\u001B[1;34m'thesis_scalp_lgbm.pkl'\u001B[0m\u001B[1;33m)\u001B[0m\u001B[1;33m\u001B[0m\u001B[1;33m\u001B[0m\u001B[0m\n\u001B[0;32m      8\u001B[0m \u001B[0mmodel_rf\u001B[0m \u001B[1;33m=\u001B[0m \u001B[0mjoblib\u001B[0m\u001B[1;33m.\u001B[0m\u001B[0mload\u001B[0m\u001B[1;33m(\u001B[0m\u001B[1;34m'thesis_scalp_rf.pkl'\u001B[0m\u001B[1;33m)\u001B[0m\u001B[1;33m\u001B[0m\u001B[1;33m\u001B[0m\u001B[0m\n\u001B[1;32m----> 9\u001B[1;33m \u001B[0mtestX\u001B[0m\u001B[1;33m,\u001B[0m \u001B[0mtesty\u001B[0m \u001B[1;33m=\u001B[0m \u001B[0mX_test_data\u001B[0m\u001B[1;33m,\u001B[0m \u001B[0my_test\u001B[0m\u001B[1;33m\u001B[0m\u001B[1;33m\u001B[0m\u001B[0m\n\u001B[0m\u001B[0;32m     10\u001B[0m \u001B[0mlr_probs\u001B[0m \u001B[1;33m=\u001B[0m \u001B[0mmodel_lgbm\u001B[0m\u001B[1;33m.\u001B[0m\u001B[0mpredict_proba\u001B[0m\u001B[1;33m(\u001B[0m\u001B[0mtestX\u001B[0m\u001B[1;33m)\u001B[0m\u001B[1;33m[\u001B[0m\u001B[1;33m:\u001B[0m\u001B[1;33m,\u001B[0m \u001B[1;36m1\u001B[0m\u001B[1;33m]\u001B[0m\u001B[1;33m\u001B[0m\u001B[1;33m\u001B[0m\u001B[0m\n\u001B[0;32m     11\u001B[0m \u001B[0mlr_precision\u001B[0m\u001B[1;33m,\u001B[0m \u001B[0mlr_recall\u001B[0m\u001B[1;33m,\u001B[0m \u001B[0m_\u001B[0m \u001B[1;33m=\u001B[0m \u001B[0mprecision_recall_curve\u001B[0m\u001B[1;33m(\u001B[0m\u001B[0mtesty\u001B[0m\u001B[1;33m,\u001B[0m \u001B[0mlr_probs\u001B[0m\u001B[1;33m)\u001B[0m\u001B[1;33m\u001B[0m\u001B[1;33m\u001B[0m\u001B[0m\n",
      "\u001B[1;31mNameError\u001B[0m: name 'X_test_data' is not defined"
     ]
    },
    {
     "data": {
      "text/plain": "<Figure size 576x360 with 0 Axes>"
     },
     "metadata": {},
     "output_type": "display_data"
    }
   ],
   "source": [
    "from sklearn.metrics import f1_score\n",
    "from sklearn.metrics import auc\n",
    "from sklearn.metrics import precision_recall_curve\n",
    "\n",
    "plt.rcParams.update({'font.size': 14, 'font.weight': 'medium'})\n",
    "plt.figure(figsize=(8,5))\n",
    "model_lgbm = joblib.load('thesis_scalp_lgbm.pkl')\n",
    "model_rf = joblib.load('thesis_scalp_rf.pkl')\n",
    "testX, testy = X_test_data, y_test\n",
    "lr_probs = model_lgbm.predict_proba(testX)[:, 1]\n",
    "lr_precision, lr_recall, _ = precision_recall_curve(testy, lr_probs)\n",
    "lr_f1, lr_auc = f1_score(testy, y_pred), auc(lr_recall, lr_precision)\n",
    "# summarize scores\n",
    "print('Logistic: f1=%.3f auc=%.3f' % (lr_f1, lr_auc))\n",
    "# plot the precision-recall curves\n",
    "plt.plot(lr_recall, lr_precision, label='LGBM (AUC = 0.11)', color='tab:blue')\n",
    "lr_probs = model_rf.predict_proba(testX)[:, 1]\n",
    "lr_precision, lr_recall, _ = precision_recall_curve(testy, lr_probs)\n",
    "lr_f1, lr_auc = f1_score(testy, y_pred), auc(lr_recall, lr_precision)\n",
    "plt.plot(lr_recall, lr_precision, label='RF (AUC = 0.13)', color='tab:orange')\n",
    "# axis labels\n",
    "plt.xlabel('Recall')\n",
    "plt.ylabel('Precision')\n",
    "# show the legend\n",
    "plt.legend(prop={'size': 14})\n",
    "# show the plot\n",
    "plt.show()"
   ]
  },
  {
   "cell_type": "code",
   "execution_count": 38,
   "metadata": {
    "pycharm": {
     "name": "#%%\n"
    }
   },
   "outputs": [
    {
     "name": "stdout",
     "output_type": "stream",
     "text": [
      "Logistic: f1=0.967 auc=0.993\n",
      "Logistic: f1=0.967 auc=0.999\n"
     ]
    },
    {
     "data": {
      "image/png": "[encoded data removed]",
      "text/plain": [
       "<Figure size 576x360 with 1 Axes>"
      ]
     },
     "metadata": {
      "needs_background": "light"
     },
     "output_type": "display_data"
    }
   ],
   "source": [
    "from sklearn.metrics import f1_score\n",
    "from sklearn.metrics import auc\n",
    "from sklearn.metrics import precision_recall_curve\n",
    "plt.rcParams.update({'font.size': 14, 'font.weight': 'medium'})\n",
    "plt.figure(figsize=(8,5))\n",
    "model_lgbm = classifiers_overlap[\"LGBM\"]\n",
    "model_rf = classifiers_overlap['Random Forest']\n",
    "testX, testy = X_test_data, y_test\n",
    "lr_probs = model_lgbm.predict_proba(testX)[:, 1]\n",
    "lr_precision, lr_recall, _ = precision_recall_curve(testy, lr_probs)\n",
    "lr_f1, lr_auc = f1_score(testy, y_pred), auc(lr_recall, lr_precision)\n",
    "# summarize scores\n",
    "print('Logistic: f1=%.3f auc=%.3f' % (lr_f1, lr_auc))\n",
    "# plot the precision-recall curves\n",
    "plt.plot(lr_recall, lr_precision, label='LGBM (AUC = 0.993)', color='tab:blue')\n",
    "lr_probs = model_rf.predict_proba(testX)[:, 1]\n",
    "lr_precision, lr_recall, _ = precision_recall_curve(testy, lr_probs)\n",
    "lr_f1, lr_auc = f1_score(testy, y_pred), auc(lr_recall, lr_precision)\n",
    "print('Logistic: f1=%.3f auc=%.3f' % (lr_f1, lr_auc))\n",
    "plt.plot(lr_recall, lr_precision, label='RF (AUC = 0.999)', color='tab:orange')\n",
    "# axis labels\n",
    "plt.xlabel('Recall')\n",
    "plt.ylabel('Precision')\n",
    "plt.gca().set_ylim([0.5, 1.05])\n",
    "plt.gca().set_xlim([0, 1.05])\n",
    "# show the legend\n",
    "plt.legend(loc=3, prop={'size': 14})\n",
    "# show the plot\n",
    "plt.show()"
   ]
  },
  {
   "cell_type": "code",
   "execution_count": 41,
   "metadata": {
    "pycharm": {
     "name": "#%%\n"
    }
   },
   "outputs": [
    {
     "name": "stdout",
     "output_type": "stream",
     "text": [
      "Logistic: f1=0.002 auc=0.130\n",
      "Logistic: f1=0.002 auc=0.112\n"
     ]
    }
   ],
   "source": [
    "testX, testy = X_test_data, y_test\n",
    "lr_probs = model_rf.predict_proba(testX)[:, 1]\n",
    "lr_precision, lr_recall, _ = precision_recall_curve(testy, lr_probs)\n",
    "lr_f1, lr_auc = f1_score(testy, y_pred), auc(lr_recall, lr_precision)\n",
    "# summarize scores\n",
    "print('Logistic: f1=%.3f auc=%.3f' % (lr_f1, lr_auc))\n",
    "lr_probs = model_lgbm.predict_proba(testX)[:, 1]\n",
    "lr_precision, lr_recall, _ = precision_recall_curve(testy, lr_probs)\n",
    "lr_f1, lr_auc = f1_score(testy, y_pred), auc(lr_recall, lr_precision)\n",
    "# summarize scores\n",
    "print('Logistic: f1=%.3f auc=%.3f' % (lr_f1, lr_auc))"
   ]
  },
  {
   "cell_type": "code",
   "execution_count": 49,
   "metadata": {
    "pycharm": {
     "name": "#%%\n"
    }
   },
   "outputs": [
    {
     "data": {
      "text/html": [
       "<div>\n",
       "<style scoped>\n",
       "    .dataframe tbody tr th:only-of-type {\n",
       "        vertical-align: middle;\n",
       "    }\n",
       "\n",
       "    .dataframe tbody tr th {\n",
       "        vertical-align: top;\n",
       "    }\n",
       "\n",
       "    .dataframe thead th {\n",
       "        text-align: right;\n",
       "    }\n",
       "</style>\n",
       "<table border=\"1\" class=\"dataframe\">\n",
       "  <thead>\n",
       "    <tr style=\"text-align: right;\">\n",
       "      <th></th>\n",
       "      <th>0</th>\n",
       "      <th>imp</th>\n",
       "    </tr>\n",
       "  </thead>\n",
       "  <tbody>\n",
       "    <tr>\n",
       "      <th>61</th>\n",
       "      <td>AH1-AH2_abspow_cmin_norm</td>\n",
       "      <td>0.0927461876</td>\n",
       "    </tr>\n",
       "    <tr>\n",
       "      <th>23</th>\n",
       "      <td>abspow_cmin_norm</td>\n",
       "      <td>0.0743821079</td>\n",
       "    </tr>\n",
       "    <tr>\n",
       "      <th>47</th>\n",
       "      <td>AH1-AH2_std_cmin_norm</td>\n",
       "      <td>0.0629714676</td>\n",
       "    </tr>\n",
       "    <tr>\n",
       "      <th>63</th>\n",
       "      <td>AH1-AH2_std_pmin_norm</td>\n",
       "      <td>0.0354071212</td>\n",
       "    </tr>\n",
       "    <tr>\n",
       "      <th>75</th>\n",
       "      <td>AH1-AH2_abspow_pmin_norm</td>\n",
       "      <td>0.0323411597</td>\n",
       "    </tr>\n",
       "    <tr>\n",
       "      <th>25</th>\n",
       "      <td>std_pmin_norm</td>\n",
       "      <td>0.0315685053</td>\n",
       "    </tr>\n",
       "    <tr>\n",
       "      <th>8</th>\n",
       "      <td>std_cmin_norm</td>\n",
       "      <td>0.0302244825</td>\n",
       "    </tr>\n",
       "    <tr>\n",
       "      <th>99</th>\n",
       "      <td>A1_abspow_cmin_norm</td>\n",
       "      <td>0.0273783518</td>\n",
       "    </tr>\n",
       "    <tr>\n",
       "      <th>38</th>\n",
       "      <td>abspow_pmin_norm</td>\n",
       "      <td>0.0247077445</td>\n",
       "    </tr>\n",
       "    <tr>\n",
       "      <th>51</th>\n",
       "      <td>AH1-AH2_hcomp_cmin_norm</td>\n",
       "      <td>0.0227156142</td>\n",
       "    </tr>\n",
       "    <tr>\n",
       "      <th>13</th>\n",
       "      <td>hcomp_cmin_norm</td>\n",
       "      <td>0.0182295586</td>\n",
       "    </tr>\n",
       "    <tr>\n",
       "      <th>77</th>\n",
       "      <td>AH1-AH2_higuchi_pmin_norm</td>\n",
       "      <td>0.0179091821</td>\n",
       "    </tr>\n",
       "    <tr>\n",
       "      <th>48</th>\n",
       "      <td>AH1-AH2_iqr_cmin_norm</td>\n",
       "      <td>0.0143955892</td>\n",
       "    </tr>\n",
       "    <tr>\n",
       "      <th>3</th>\n",
       "      <td>hcomp</td>\n",
       "      <td>0.0142248339</td>\n",
       "    </tr>\n",
       "    <tr>\n",
       "      <th>116</th>\n",
       "      <td>A1_abspow_pmin_norm</td>\n",
       "      <td>0.0127073728</td>\n",
       "    </tr>\n",
       "    <tr>\n",
       "      <th>41</th>\n",
       "      <td>AH1-AH2_kurt</td>\n",
       "      <td>0.0120085992</td>\n",
       "    </tr>\n",
       "    <tr>\n",
       "      <th>49</th>\n",
       "      <td>AH1-AH2_kurt_cmin_norm</td>\n",
       "      <td>0.0109406181</td>\n",
       "    </tr>\n",
       "    <tr>\n",
       "      <th>10</th>\n",
       "      <td>kurt_cmin_norm</td>\n",
       "      <td>0.0108195941</td>\n",
       "    </tr>\n",
       "    <tr>\n",
       "      <th>27</th>\n",
       "      <td>kurt_pmin_norm</td>\n",
       "      <td>0.0107183195</td>\n",
       "    </tr>\n",
       "    <tr>\n",
       "      <th>101</th>\n",
       "      <td>A1_std_pmin_norm</td>\n",
       "      <td>0.0104461980</td>\n",
       "    </tr>\n",
       "    <tr>\n",
       "      <th>1</th>\n",
       "      <td>kurt</td>\n",
       "      <td>0.0104083021</td>\n",
       "    </tr>\n",
       "    <tr>\n",
       "      <th>64</th>\n",
       "      <td>AH1-AH2_iqr_pmin_norm</td>\n",
       "      <td>0.0103532859</td>\n",
       "    </tr>\n",
       "    <tr>\n",
       "      <th>9</th>\n",
       "      <td>iqr_cmin_norm</td>\n",
       "      <td>0.0101495329</td>\n",
       "    </tr>\n",
       "    <tr>\n",
       "      <th>44</th>\n",
       "      <td>AH1-AH2_at</td>\n",
       "      <td>0.0094989191</td>\n",
       "    </tr>\n",
       "    <tr>\n",
       "      <th>65</th>\n",
       "      <td>AH1-AH2_kurt_pmin_norm</td>\n",
       "      <td>0.0085929224</td>\n",
       "    </tr>\n",
       "    <tr>\n",
       "      <th>89</th>\n",
       "      <td>A1_hcomp_cmin_norm</td>\n",
       "      <td>0.0083076373</td>\n",
       "    </tr>\n",
       "    <tr>\n",
       "      <th>84</th>\n",
       "      <td>A1_std_cmin_norm</td>\n",
       "      <td>0.0082666547</td>\n",
       "    </tr>\n",
       "    <tr>\n",
       "      <th>55</th>\n",
       "      <td>AH1-AH2_fast_cmin_norm</td>\n",
       "      <td>0.0081123458</td>\n",
       "    </tr>\n",
       "    <tr>\n",
       "      <th>40</th>\n",
       "      <td>AH1-AH2_skew</td>\n",
       "      <td>0.0079331310</td>\n",
       "    </tr>\n",
       "    <tr>\n",
       "      <th>66</th>\n",
       "      <td>AH1-AH2_hcomp_pmin_norm</td>\n",
       "      <td>0.0078508956</td>\n",
       "    </tr>\n",
       "  </tbody>\n",
       "</table>\n",
       "</div>"
      ],
      "text/plain": [
       "                             0           imp\n",
       "61    AH1-AH2_abspow_cmin_norm  0.0927461876\n",
       "23            abspow_cmin_norm  0.0743821079\n",
       "47       AH1-AH2_std_cmin_norm  0.0629714676\n",
       "63       AH1-AH2_std_pmin_norm  0.0354071212\n",
       "75    AH1-AH2_abspow_pmin_norm  0.0323411597\n",
       "25               std_pmin_norm  0.0315685053\n",
       "8                std_cmin_norm  0.0302244825\n",
       "99         A1_abspow_cmin_norm  0.0273783518\n",
       "38            abspow_pmin_norm  0.0247077445\n",
       "51     AH1-AH2_hcomp_cmin_norm  0.0227156142\n",
       "13             hcomp_cmin_norm  0.0182295586\n",
       "77   AH1-AH2_higuchi_pmin_norm  0.0179091821\n",
       "48       AH1-AH2_iqr_cmin_norm  0.0143955892\n",
       "3                        hcomp  0.0142248339\n",
       "116        A1_abspow_pmin_norm  0.0127073728\n",
       "41                AH1-AH2_kurt  0.0120085992\n",
       "49      AH1-AH2_kurt_cmin_norm  0.0109406181\n",
       "10              kurt_cmin_norm  0.0108195941\n",
       "27              kurt_pmin_norm  0.0107183195\n",
       "101           A1_std_pmin_norm  0.0104461980\n",
       "1                         kurt  0.0104083021\n",
       "64       AH1-AH2_iqr_pmin_norm  0.0103532859\n",
       "9                iqr_cmin_norm  0.0101495329\n",
       "44                  AH1-AH2_at  0.0094989191\n",
       "65      AH1-AH2_kurt_pmin_norm  0.0085929224\n",
       "89          A1_hcomp_cmin_norm  0.0083076373\n",
       "84            A1_std_cmin_norm  0.0082666547\n",
       "55      AH1-AH2_fast_cmin_norm  0.0081123458\n",
       "40                AH1-AH2_skew  0.0079331310\n",
       "66     AH1-AH2_hcomp_pmin_norm  0.0078508956"
      ]
     },
     "execution_count": 49,
     "metadata": {},
     "output_type": "execute_result"
    }
   ],
   "source": [
    "imp.head(30)"
   ]
  },
  {
   "cell_type": "code",
   "execution_count": 21,
   "metadata": {
    "pycharm": {
     "name": "#%%\n"
    }
   },
   "outputs": [],
   "source": [
    "# leave one out section\n",
    "subjects = ['398', '402', '406', '415', '416']\n",
    "y_all_bi = get_all_y_multi_channel(subjects=subjects)\n",
    "clear_output()\n",
    "feat_avg = get_all_feat_avg_channels(subjects=subjects)\n",
    "feat_all_eog2 = get_all_feat_eog('2', subjects=subjects)\n",
    "clear_output()\n",
    "feat_avg.reset_index(inplace=True, drop=True)\n",
    "feat_all_eog2.reset_index(inplace=True, drop=True)\n",
    "feat_eog2_avg = pd.concat([feat_avg, feat_all_eog2.iloc[:, 2:].add_suffix('_2')], axis=1)"
   ]
  },
  {
   "cell_type": "code",
   "execution_count": 22,
   "metadata": {
    "pycharm": {
     "name": "#%%\n"
    }
   },
   "outputs": [
    {
     "data": {
      "image/png": "[encoded data removed]",
      "text/plain": [
       "<Figure size 720x360 with 2 Axes>"
      ]
     },
     "metadata": {},
     "output_type": "display_data"
    }
   ],
   "source": [
    "cls_over_loo = {\n",
    "    \"Random Forest\": RandomForestClassifier(max_depth=10),\n",
    "    \"LGBM\": LGBMClassifier(),\n",
    "}\n",
    "\n",
    "f, axes = plt.subplots(1, len(cls_over_loo), figsize=(10, 5), sharey='row')\n",
    "\n",
    "oversample = SMOTE()\n",
    "x_over, y_over = oversample.fit_resample(feat_eog2_avg, y_all_bi)\n",
    "X_train, X_test, y_train, y_test = train_test_split(x_over, y_over, stratify=y_over, random_state=20)\n",
    "X_train_data = X_train.iloc[:, 2:]\n",
    "selector = VarianceThreshold(.1)\n",
    "selector.fit_transform(X_train_data)\n",
    "X_train_data = X_train_data[X_train_data.columns[selector.get_support(indices=True)]]\n",
    "X_test_data = X_test[X_train_data.columns]\n",
    "\n",
    "for i, (key, classifier) in enumerate(cls_over_loo.items()):\n",
    "    y_pred = classifier.fit(X_train_data, y_train).predict(X_test_data)\n",
    "    cf_matrix = confusion_matrix(y_test, y_pred)\n",
    "    metrics = get_metrics(cf_matrix)\n",
    "    disp = ConfusionMatrixDisplay(cf_matrix)\n",
    "    disp.plot(ax=axes[i], xticks_rotation=45)\n",
    "    text = \"\"\"precision: {0}\n",
    "              recall: {1}\"\"\".format(str('{0:.2f}'.format(metrics['precision'])), str('{0:.2f}'.format(metrics['recall'])))\n",
    "    axes[i].annotate(text, xy=(1, 0), xycoords='axes fraction', fontsize=16,\n",
    "                     xytext=(-60, -40), textcoords='offset points',\n",
    "                     ha='right', va='top')\n",
    "    disp.ax_.set_title(key)\n",
    "    disp.im_.colorbar.remove()\n",
    "    disp.ax_.set_xlabel('')\n",
    "    if i!=0:\n",
    "        disp.ax_.set_ylabel('')\n",
    "        y_lgbm = y_pred\n",
    "    else:\n",
    "        y_rf = y_pred\n",
    "\n",
    "f.text(0.45, 0.1, 'Predicted label', ha='left')\n",
    "plt.subplots_adjust(wspace=0.40, hspace=0.1)\n",
    "\n",
    "plt.show()"
   ]
  },
  {
   "cell_type": "code",
   "execution_count": 23,
   "metadata": {},
   "outputs": [],
   "source": [
    "# metrics for out subject\n",
    "y_396 = get_all_y_multi_channel(subjects=['396'])\n",
    "feat_avg_396 = get_all_feat_avg_channels(subjects=['396'])\n",
    "feat_eog2_396 = get_all_feat_eog('2', subjects=['396'])\n",
    "clear_output()\n",
    "feat_eog2_avg_396 = pd.concat([feat_avg_396, feat_eog2_396.iloc[:, 2:].add_suffix('_2')], axis=1)"
   ]
  },
  {
   "cell_type": "code",
   "execution_count": 24,
   "metadata": {},
   "outputs": [
    {
     "name": "stderr",
     "output_type": "stream",
     "text": [
      "ipynb.fs.defs.yasa_model:94: RuntimeWarning: invalid value encountered in double_scalars\n"
     ]
    },
    {
     "data": {
      "image/png": "[encoded data removed]",
      "text/plain": [
       "<Figure size 720x360 with 2 Axes>"
      ]
     },
     "metadata": {},
     "output_type": "display_data"
    }
   ],
   "source": [
    "# results top 30\n",
    "f, axes = plt.subplots(1, len(cls_over_loo), figsize=(10, 5), sharey='row')\n",
    "\n",
    "feat_396_data = feat_eog2_avg_396.iloc[:, 2:]\n",
    "feat_396_data = feat_396_data[cls_over_loo['LGBM'].feature_name_]\n",
    "\n",
    "for i, (key, classifier) in enumerate(cls_over_loo.items()):\n",
    "    # y_pred = classifier.predict(feat_396_data)\n",
    "    # cf_matrix = confusion_matrix(y_396_fast, y_pred)\n",
    "    y_pred = classifier.predict_proba(feat_396_data).T\n",
    "    prob = np.sort(y_pred[1])[::-1].T[20]\n",
    "    cf_matrix = confusion_matrix(y_396,  [p >= prob for p in y_pred[1]])\n",
    "    metrics = get_metrics(cf_matrix)\n",
    "    disp = ConfusionMatrixDisplay(cf_matrix)\n",
    "    disp.plot(ax=axes[i], xticks_rotation=45)\n",
    "    precision = '{0:.2f}'.format(metrics['precision'])\n",
    "    recall = '{0:.2f}'.format(metrics['recall'])\n",
    "    text = \"\"\"precision: {0}\n",
    "                  recall: {1}\"\"\".format(precision, recall)\n",
    "    axes[i].annotate(text, xy=(1, 0), xycoords='axes fraction', fontsize=16,\n",
    "                     xytext=(-60, -40), textcoords='offset points',\n",
    "                     ha='right', va='top')\n",
    "    disp.ax_.set_title(key)\n",
    "    disp.im_.colorbar.remove()\n",
    "    disp.ax_.set_xlabel('')\n",
    "    if i != 0:\n",
    "        disp.ax_.set_ylabel('')\n",
    "\n",
    "f.text(0.45, 0.1, 'Predicted label', ha='left')\n",
    "plt.subplots_adjust(wspace=0.40, hspace=0.1)\n",
    "plt.show()"
   ]
  },
  {
   "cell_type": "code",
   "execution_count": 25,
   "metadata": {
    "pycharm": {
     "name": "#%%\n"
    }
   },
   "outputs": [
    {
     "data": {
      "image/png": "[encoded data removed]",
      "text/plain": [
       "<Figure size 720x360 with 2 Axes>"
      ]
     },
     "metadata": {},
     "output_type": "display_data"
    }
   ],
   "source": [
    "# default depth\n",
    "cls_over_loo = {\n",
    "    \"Random Forest\": RandomForestClassifier(),\n",
    "    \"LGBM\": LGBMClassifier(),\n",
    "}\n",
    "\n",
    "f, axes = plt.subplots(1, len(cls_over_loo), figsize=(10, 5), sharey='row')\n",
    "\n",
    "oversample = SMOTE()\n",
    "x_over, y_over = oversample.fit_resample(feat_eog2_avg, y_all_bi)\n",
    "X_train, X_test, y_train, y_test = train_test_split(x_over, y_over, stratify=y_over, random_state=20)\n",
    "X_train_data = X_train.iloc[:, 2:]\n",
    "selector = VarianceThreshold(.1)\n",
    "selector.fit_transform(X_train_data)\n",
    "X_train_data = X_train_data[X_train_data.columns[selector.get_support(indices=True)]]\n",
    "X_test_data = X_test[X_train_data.columns]\n",
    "\n",
    "for i, (key, classifier) in enumerate(cls_over_loo.items()):\n",
    "    y_pred = classifier.fit(X_train_data, y_train).predict(X_test_data)\n",
    "    cf_matrix = confusion_matrix(y_test, y_pred)\n",
    "    metrics = get_metrics(cf_matrix)\n",
    "    disp = ConfusionMatrixDisplay(cf_matrix)\n",
    "    disp.plot(ax=axes[i], xticks_rotation=45)\n",
    "    text = \"\"\"precision: {0}\n",
    "              recall: {1}\"\"\".format(str('{0:.2f}'.format(metrics['precision'])), str('{0:.2f}'.format(metrics['recall'])))\n",
    "    axes[i].annotate(text, xy=(1, 0), xycoords='axes fraction', fontsize=16,\n",
    "                     xytext=(-60, -40), textcoords='offset points',\n",
    "                     ha='right', va='top')\n",
    "    disp.ax_.set_title(key)\n",
    "    disp.im_.colorbar.remove()\n",
    "    disp.ax_.set_xlabel('')\n",
    "    if i!=0:\n",
    "        disp.ax_.set_ylabel('')\n",
    "        y_lgbm = y_pred\n",
    "    else:\n",
    "        y_rf = y_pred\n",
    "\n",
    "f.text(0.45, 0.1, 'Predicted label', ha='left')\n",
    "plt.subplots_adjust(wspace=0.40, hspace=0.1)\n",
    "\n",
    "plt.show()"
   ]
  },
  {
   "cell_type": "code",
   "execution_count": 26,
   "metadata": {
    "pycharm": {
     "name": "#%%\n"
    }
   },
   "outputs": [
    {
     "name": "stderr",
     "output_type": "stream",
     "text": [
      "ipynb.fs.defs.yasa_model:94: RuntimeWarning: invalid value encountered in double_scalars\n"
     ]
    },
    {
     "data": {
      "image/png": "[encoded data removed]",
      "text/plain": [
       "<Figure size 720x360 with 2 Axes>"
      ]
     },
     "metadata": {},
     "output_type": "display_data"
    }
   ],
   "source": [
    "# results top 30\n",
    "f, axes = plt.subplots(1, len(cls_over_loo), figsize=(10, 5), sharey='row')\n",
    "\n",
    "feat_396_data = feat_eog2_avg_396.iloc[:, 2:]\n",
    "feat_396_data = feat_396_data[cls_over_loo['LGBM'].feature_name_]\n",
    "\n",
    "for i, (key, classifier) in enumerate(cls_over_loo.items()):\n",
    "    # y_pred = classifier.predict(feat_396_data)\n",
    "    # cf_matrix = confusion_matrix(y_396_fast, y_pred)\n",
    "    y_pred = classifier.predict_proba(feat_396_data).T\n",
    "    prob = np.sort(y_pred[1])[::-1].T[20]\n",
    "    cf_matrix = confusion_matrix(y_396,  [p >= prob for p in y_pred[1]])\n",
    "    metrics = get_metrics(cf_matrix)\n",
    "    disp = ConfusionMatrixDisplay(cf_matrix)\n",
    "    disp.plot(ax=axes[i], xticks_rotation=45)\n",
    "    precision = '{0:.2f}'.format(metrics['precision'])\n",
    "    recall = '{0:.2f}'.format(metrics['recall'])\n",
    "    text = \"\"\"precision: {0}\n",
    "                  recall: {1}\"\"\".format(precision, recall)\n",
    "    axes[i].annotate(text, xy=(1, 0), xycoords='axes fraction', fontsize=16,\n",
    "                     xytext=(-60, -40), textcoords='offset points',\n",
    "                     ha='right', va='top')\n",
    "    disp.ax_.set_title(key)\n",
    "    disp.im_.colorbar.remove()\n",
    "    disp.ax_.set_xlabel('')\n",
    "    if i != 0:\n",
    "        disp.ax_.set_ylabel('')\n",
    "\n",
    "f.text(0.45, 0.1, 'Predicted label', ha='left')\n",
    "plt.subplots_adjust(wspace=0.40, hspace=0.1)\n",
    "plt.show()"
   ]
  },
  {
   "cell_type": "code",
   "execution_count": 12,
   "metadata": {
    "pycharm": {
     "name": "#%%\n"
    }
   },
   "outputs": [
    {
     "data": {
      "text/plain": [
       "8961.0"
      ]
     },
     "execution_count": 12,
     "metadata": {},
     "output_type": "execute_result"
    }
   ],
   "source": [
    "# sanity check fast balance\n",
    "feat_data = feat_eog2_avg_fast.iloc[:, 2:]\n",
    "feat_data = feat_data[cls_all_balance['LGBM'].feature_name_]\n",
    "y_try = cls_all_balance[\"Random Forest\"].predict(feat_data)\n",
    "y_try.sum()"
   ]
  },
  {
   "cell_type": "code",
   "execution_count": 13,
   "metadata": {
    "pycharm": {
     "name": "#%%\n"
    }
   },
   "outputs": [],
   "source": [
    "# metrics for out subject\n",
    "y_396_fast = get_all_y_multi_channel(subjects=['398'])\n",
    "feat_avg_396_fast = get_all_feat_avg_channels(subjects=['398'])\n",
    "feat_eog2_396_fast = get_all_feat_eog('2', subjects=['398'])\n",
    "clear_output()\n",
    "feat_eog2_avg_396_fast = pd.concat([feat_avg_396_fast, feat_eog2_396_fast.iloc[:, 2:].add_suffix('_2')], axis=1)"
   ]
  },
  {
   "cell_type": "code",
   "execution_count": 16,
   "metadata": {
    "pycharm": {
     "name": "#%%\n"
    }
   },
   "outputs": [],
   "source": [
    "# get everyone feat and y\n",
    "feat_by_subj = []\n",
    "feat_dict = {}\n",
    "y_by_subj = []\n",
    "y_dict = {}\n",
    "for subj in ['396', '398', '402', '406', '415', '416']:\n",
    "    y_396_fast = get_all_y_multi_channel(subjects=[subj])\n",
    "    y_by_subj.append(y_396_fast)\n",
    "    y_dict[subj] = y_396_fast\n",
    "    feat_avg_396_fast = get_all_feat_avg_channels(subjects=[subj])\n",
    "    feat_eog2_396_fast = get_all_feat_eog('2', subjects=[subj])\n",
    "    clear_output()\n",
    "    feat_eog2_avg_396_fast = pd.concat([feat_avg_396_fast, feat_eog2_396_fast.iloc[:, 2:].add_suffix('_2')], axis=1)\n",
    "    feat_by_subj.append(feat_eog2_avg_396_fast)\n",
    "    feat_dict[subj] = feat_eog2_avg_396_fast"
   ]
  },
  {
   "cell_type": "code",
   "execution_count": 17,
   "metadata": {
    "pycharm": {
     "name": "#%%\n"
    }
   },
   "outputs": [
    {
     "data": {
      "text/plain": [
       "['y_dict.pkl']"
      ]
     },
     "execution_count": 17,
     "metadata": {},
     "output_type": "execute_result"
    }
   ],
   "source": [
    "joblib.dump(feat_by_subj, 'feat_by_subj.pkl')\n",
    "joblib.dump(feat_dict, 'feat_dict.pkl')\n",
    "joblib.dump(y_by_subj, 'y_by_subj.pkl')\n",
    "joblib.dump(y_dict, 'y_dict.pkl')"
   ]
  },
  {
   "cell_type": "code",
   "execution_count": 15,
   "metadata": {
    "pycharm": {
     "name": "#%%\n"
    }
   },
   "outputs": [
    {
     "data": {
      "image/png": "[encoded data removed]",
      "text/plain": [
       "<Figure size 720x360 with 2 Axes>"
      ]
     },
     "metadata": {},
     "output_type": "display_data"
    }
   ],
   "source": [
    "# simple model results top 30\n",
    "f, axes = plt.subplots(1, len(cls_all_fast2), figsize=(10, 5), sharey='row')\n",
    "\n",
    "feat_396_data = feat_eog2_avg_396_fast.iloc[:, 2:]\n",
    "feat_396_data = feat_396_data[cls_all_fast2['LGBM'].feature_name_]\n",
    "\n",
    "for i, (key, classifier) in enumerate(cls_all_fast2.items()):\n",
    "    # y_pred = classifier.predict(feat_396_data)\n",
    "    # cf_matrix = confusion_matrix(y_396_fast, y_pred)\n",
    "    y_pred = classifier.predict_proba(feat_396_data).T\n",
    "    prob = np.sort(y_pred[1])[::-1].T[20]\n",
    "    cf_matrix = confusion_matrix(y_396_fast,  [p >= prob for p in y_pred[1]])\n",
    "    metrics = get_metrics(cf_matrix)\n",
    "    disp = ConfusionMatrixDisplay(cf_matrix)\n",
    "    disp.plot(ax=axes[i], xticks_rotation=45)\n",
    "    precision = '{0:.2f}'.format(metrics['precision'])\n",
    "    recall = '{0:.2f}'.format(metrics['recall'])\n",
    "    text = \"\"\"precision: {0}\n",
    "                  recall: {1}\"\"\".format(precision, recall)\n",
    "    axes[i].annotate(text, xy=(1, 0), xycoords='axes fraction', fontsize=16,\n",
    "                     xytext=(-60, -40), textcoords='offset points',\n",
    "                     ha='right', va='top')\n",
    "    disp.ax_.set_title(key)\n",
    "    disp.im_.colorbar.remove()\n",
    "    disp.ax_.set_xlabel('')\n",
    "    if i != 0:\n",
    "        disp.ax_.set_ylabel('')\n",
    "\n",
    "f.text(0.45, 0.1, 'Predicted label', ha='left')\n",
    "plt.subplots_adjust(wspace=0.40, hspace=0.1)\n",
    "plt.show()"
   ]
  },
  {
   "cell_type": "code",
   "execution_count": 16,
   "metadata": {
    "pycharm": {
     "name": "#%%\n"
    }
   },
   "outputs": [
    {
     "data": {
      "image/png": "[encoded data removed]",
      "text/plain": [
       "<Figure size 720x360 with 2 Axes>"
      ]
     },
     "metadata": {},
     "output_type": "display_data"
    }
   ],
   "source": [
    "# over-sample model top 30\n",
    "f, axes = plt.subplots(1, len(cls_all_balance), figsize=(10, 5), sharey='row')\n",
    "\n",
    "feat_396_data = feat_eog2_avg_396_fast.iloc[:, 2:]\n",
    "feat_396_data = feat_396_data[cls_all_balance['LGBM'].feature_name_]\n",
    "\n",
    "for i, (key, classifier) in enumerate(cls_all_balance.items()):\n",
    "    # y_pred = classifier.predict(feat_396_data)\n",
    "    # cf_matrix = confusion_matrix(y_396_fast, y_pred)\n",
    "    y_pred = classifier.predict_proba(feat_396_data).T\n",
    "    prob = np.sort(y_pred[1])[::-1].T[20]\n",
    "    cf_matrix = confusion_matrix(y_396_fast,  [p >= prob for p in y_pred[1]])\n",
    "    metrics = get_metrics(cf_matrix)\n",
    "    disp = ConfusionMatrixDisplay(cf_matrix)\n",
    "    disp.plot(ax=axes[i], xticks_rotation=45)\n",
    "    precision = '{0:.2f}'.format(metrics['precision'])\n",
    "    recall = '{0:.2f}'.format(metrics['recall'])\n",
    "    text = \"\"\"precision: {0}\n",
    "                  recall: {1}\"\"\".format(precision, recall)\n",
    "    axes[i].annotate(text, xy=(1, 0), xycoords='axes fraction', fontsize=16,\n",
    "                     xytext=(-60, -40), textcoords='offset points',\n",
    "                     ha='right', va='top')\n",
    "    disp.ax_.set_title(key)\n",
    "    disp.im_.colorbar.remove()\n",
    "    disp.ax_.set_xlabel('')\n",
    "    if i != 0:\n",
    "        disp.ax_.set_ylabel('')\n",
    "\n",
    "f.text(0.45, 0.1, 'Predicted label', ha='left')\n",
    "plt.subplots_adjust(wspace=0.40, hspace=0.1)\n",
    "plt.show()"
   ]
  },
  {
   "cell_type": "code",
   "execution_count": 17,
   "metadata": {
    "pycharm": {
     "name": "#%%\n"
    }
   },
   "outputs": [
    {
     "data": {
      "image/png": "[encoded data removed]",
      "text/plain": [
       "<Figure size 720x360 with 2 Axes>"
      ]
     },
     "metadata": {},
     "output_type": "display_data"
    }
   ],
   "source": [
    "# over-sample subj\n",
    "oversample = SMOTE()\n",
    "feat_over, y_over = oversample.fit_resample(feat_eog2_avg_396_fast, y_396_fast)\n",
    "\n",
    "f, axes = plt.subplots(1, len(cls_all_balance), figsize=(10, 5), sharey='row')\n",
    "\n",
    "feat_396_data = feat_over.iloc[:, 2:]\n",
    "feat_396_data = feat_396_data[cls_all_balance['LGBM'].feature_name_]\n",
    "\n",
    "for i, (key, classifier) in enumerate(cls_all_balance.items()):\n",
    "    y_pred = classifier.predict(feat_396_data)\n",
    "    cf_matrix = confusion_matrix(y_over, y_pred)\n",
    "    metrics = get_metrics(cf_matrix)\n",
    "    disp = ConfusionMatrixDisplay(cf_matrix)\n",
    "    disp.plot(ax=axes[i], xticks_rotation=45)\n",
    "    precision = '{0:.2f}'.format(metrics['precision'])\n",
    "    recall = '{0:.2f}'.format(metrics['recall'])\n",
    "    text = \"\"\"precision: {0}\n",
    "                  recall: {1}\"\"\".format(precision, recall)\n",
    "    axes[i].annotate(text, xy=(1, 0), xycoords='axes fraction', fontsize=16,\n",
    "                     xytext=(-60, -40), textcoords='offset points',\n",
    "                     ha='right', va='top')\n",
    "    disp.ax_.set_title(key)\n",
    "    disp.im_.colorbar.remove()\n",
    "    disp.ax_.set_xlabel('')\n",
    "    if i != 0:\n",
    "        disp.ax_.set_ylabel('')\n",
    "\n",
    "f.text(0.45, 0.1, 'Predicted label', ha='left')\n",
    "plt.subplots_adjust(wspace=0.40, hspace=0.1)\n",
    "plt.show()"
   ]
  },
  {
   "cell_type": "code",
   "execution_count": 23,
   "metadata": {
    "pycharm": {
     "name": "#%%\n"
    }
   },
   "outputs": [
    {
     "data": {
      "image/png": "[encoded data removed]",
      "text/plain": [
       "<Figure size 720x360 with 2 Axes>"
      ]
     },
     "metadata": {},
     "output_type": "display_data"
    }
   ],
   "source": [
    "# over-sample subj prob 80\n",
    "prob=0.8\n",
    "f, axes = plt.subplots(1, len(cls_all_balance), figsize=(10, 5), sharey='row')\n",
    "\n",
    "feat_396_data = feat_over.iloc[:, 2:]\n",
    "feat_396_data = feat_396_data[cls_all_balance['LGBM'].feature_name_]\n",
    "\n",
    "for i, (key, classifier) in enumerate(cls_all_balance.items()):\n",
    "    y_pred = classifier.predict_proba(feat_396_data).T\n",
    "    cf_matrix = confusion_matrix(y_over, [p > prob for p in y_pred[1]])\n",
    "    # y_pred = classifier.predict(feat_396_data)\n",
    "    # cf_matrix = confusion_matrix(y_396_fast, y_pred)\n",
    "    metrics = get_metrics(cf_matrix)\n",
    "    disp = ConfusionMatrixDisplay(cf_matrix)\n",
    "    disp.plot(ax=axes[i], xticks_rotation=45)\n",
    "    precision = '{0:.2f}'.format(metrics['precision'])\n",
    "    recall = '{0:.2f}'.format(metrics['recall'])\n",
    "    text = \"\"\"precision: {0}\n",
    "                  recall: {1}\"\"\".format(precision, recall)\n",
    "    axes[i].annotate(text, xy=(1, 0), xycoords='axes fraction', fontsize=16,\n",
    "                     xytext=(-60, -40), textcoords='offset points',\n",
    "                     ha='right', va='top')\n",
    "    disp.ax_.set_title(key)\n",
    "    disp.im_.colorbar.remove()\n",
    "    disp.ax_.set_xlabel('')\n",
    "    if i != 0:\n",
    "        disp.ax_.set_ylabel('')\n",
    "        y_pred_lgbm = y_pred\n",
    "    else:\n",
    "        y_pred_rf = y_pred\n",
    "\n",
    "f.text(0.45, 0.1, 'Predicted label', ha='left')\n",
    "plt.subplots_adjust(wspace=0.40, hspace=0.1)\n",
    "plt.show()"
   ]
  },
  {
   "cell_type": "code",
   "execution_count": 96,
   "metadata": {
    "pycharm": {
     "name": "#%%\n"
    }
   },
   "outputs": [
    {
     "data": {
      "image/png": "[encoded data removed]",
      "text/plain": [
       "<Figure size 720x360 with 2 Axes>"
      ]
     },
     "metadata": {},
     "output_type": "display_data"
    }
   ],
   "source": [
    "f, axes = plt.subplots(1, len(cls_all_fast2), figsize=(10, 5), sharey='row')\n",
    "\n",
    "feat_396_data = feat_eog2_avg_396_fast.iloc[:, 2:]\n",
    "feat_396_data = feat_396_data[cls_all_fast2['LGBM'].feature_name_]\n",
    "\n",
    "for i, (key, classifier) in enumerate(cls_all_fast2.items()):\n",
    "    y_pred = classifier.predict_proba(feat_396_data).T\n",
    "    prob = np.sort(y_pred[1])[::-1].T[30]\n",
    "    cf_matrix = confusion_matrix(y_396_fast,  [p > prob for p in y_pred[1]])\n",
    "    metrics = get_metrics(cf_matrix)\n",
    "    disp = ConfusionMatrixDisplay(cf_matrix)\n",
    "    disp.plot(ax=axes[i], xticks_rotation=45)\n",
    "    precision = '{0:.2f}'.format(metrics['precision'])\n",
    "    recall = '{0:.2f}'.format(metrics['recall'])\n",
    "    text = \"\"\"precision: {0}\n",
    "                  recall: {1}\"\"\".format(precision, recall)\n",
    "    axes[i].annotate(text, xy=(1, 0), xycoords='axes fraction', fontsize=16,\n",
    "                     xytext=(-60, -40), textcoords='offset points',\n",
    "                     ha='right', va='top')\n",
    "    disp.ax_.set_title(key)\n",
    "    disp.im_.colorbar.remove()\n",
    "    disp.ax_.set_xlabel('')\n",
    "    if i != 0:\n",
    "        disp.ax_.set_ylabel('')\n",
    "\n",
    "f.text(0.45, 0.1, 'Predicted label', ha='left')\n",
    "plt.subplots_adjust(wspace=0.40, hspace=0.1)\n",
    "plt.show()"
   ]
  },
  {
   "cell_type": "code",
   "execution_count": 88,
   "metadata": {
    "pycharm": {
     "name": "#%%\n"
    }
   },
   "outputs": [
    {
     "data": {
      "text/plain": [
       "array([0.49026808, 0.4856692 , 0.46045651, ..., 0.00257861, 0.00228339,\n",
       "       0.0018166 ])"
      ]
     },
     "execution_count": 88,
     "metadata": {},
     "output_type": "execute_result"
    }
   ],
   "source": [
    "np.sort(y_pred[1])[::-1].T"
   ]
  },
  {
   "cell_type": "code",
   "execution_count": 39,
   "metadata": {
    "pycharm": {
     "name": "#%%\n"
    }
   },
   "outputs": [
    {
     "data": {
      "text/plain": [
       "[Text(0.4789496527777778, 0.9444444444444444, 'X[11] <= 0.025\\ngini = 0.5\\nsamples = 471668\\nvalue = [373612, 372573]'),\n",
       " Text(0.2199074074074074, 0.8333333333333334, 'X[21] <= -0.121\\ngini = 0.455\\nsamples = 85277\\nvalue = [87752, 47175]'),\n",
       " Text(0.1072048611111111, 0.7222222222222222, 'X[20] <= -0.168\\ngini = 0.354\\nsamples = 15526\\nvalue = [18864, 5620]'),\n",
       " Text(0.046296296296296294, 0.6111111111111112, 'X[36] <= 4192.171\\ngini = 0.48\\nsamples = 1847\\nvalue = [1758, 1169]'),\n",
       " Text(0.018518518518518517, 0.5, 'X[35] <= 0.0\\ngini = 0.238\\nsamples = 354\\nvalue = [475, 76]'),\n",
       " Text(0.006944444444444444, 0.3888888888888889, 'X[11] <= 0.009\\ngini = 0.398\\nsamples = 114\\nvalue = [127, 48]'),\n",
       " Text(0.004629629629629629, 0.2777777777777778, 'gini = 0.0\\nsamples = 20\\nvalue = [35, 0]'),\n",
       " Text(0.009259259259259259, 0.2777777777777778, 'X[14] <= 2.347\\ngini = 0.451\\nsamples = 94\\nvalue = [92, 48]'),\n",
       " Text(0.004629629629629629, 0.16666666666666666, 'X[36] <= 3324.154\\ngini = 0.358\\nsamples = 71\\nvalue = [82, 25]'),\n",
       " Text(0.0023148148148148147, 0.05555555555555555, 'gini = 0.071\\nsamples = 32\\nvalue = [52, 2]'),\n",
       " Text(0.006944444444444444, 0.05555555555555555, 'gini = 0.491\\nsamples = 39\\nvalue = [30, 23]'),\n",
       " Text(0.013888888888888888, 0.16666666666666666, 'X[2] <= 5.0\\ngini = 0.422\\nsamples = 23\\nvalue = [10, 23]'),\n",
       " Text(0.011574074074074073, 0.05555555555555555, 'gini = 0.087\\nsamples = 15\\nvalue = [1, 21]'),\n",
       " Text(0.016203703703703703, 0.05555555555555555, 'gini = 0.298\\nsamples = 8\\nvalue = [9, 2]'),\n",
       " Text(0.03009259259259259, 0.3888888888888889, 'X[51] <= -0.05\\ngini = 0.138\\nsamples = 240\\nvalue = [348, 28]'),\n",
       " Text(0.027777777777777776, 0.2777777777777778, 'X[21] <= -0.143\\ngini = 0.223\\nsamples = 142\\nvalue = [191, 28]'),\n",
       " Text(0.023148148148148147, 0.16666666666666666, 'X[50] <= -0.28\\ngini = 0.093\\nsamples = 106\\nvalue = [155, 8]'),\n",
       " Text(0.020833333333333332, 0.05555555555555555, 'gini = 0.469\\nsamples = 6\\nvalue = [5, 3]'),\n",
       " Text(0.02546296296296296, 0.05555555555555555, 'gini = 0.062\\nsamples = 100\\nvalue = [150, 5]'),\n",
       " Text(0.032407407407407406, 0.16666666666666666, 'X[20] <= -0.191\\ngini = 0.459\\nsamples = 36\\nvalue = [36, 20]'),\n",
       " Text(0.03009259259259259, 0.05555555555555555, 'gini = 0.153\\nsamples = 16\\nvalue = [22, 2]'),\n",
       " Text(0.034722222222222224, 0.05555555555555555, 'gini = 0.492\\nsamples = 20\\nvalue = [14, 18]'),\n",
       " Text(0.032407407407407406, 0.2777777777777778, 'gini = 0.0\\nsamples = 98\\nvalue = [157, 0]'),\n",
       " Text(0.07407407407407407, 0.5, 'X[46] <= 0.088\\ngini = 0.497\\nsamples = 1493\\nvalue = [1283, 1093]'),\n",
       " Text(0.05555555555555555, 0.3888888888888889, 'X[5] <= 0.168\\ngini = 0.462\\nsamples = 1042\\nvalue = [1062, 603]'),\n",
       " Text(0.046296296296296294, 0.2777777777777778, 'X[36] <= 38863.311\\ngini = 0.284\\nsamples = 259\\nvalue = [353, 73]'),\n",
       " Text(0.041666666666666664, 0.16666666666666666, 'X[51] <= 0.155\\ngini = 0.244\\nsamples = 240\\nvalue = [343, 57]'),\n",
       " Text(0.03935185185185185, 0.05555555555555555, 'gini = 0.076\\nsamples = 182\\nvalue = [290, 12]'),\n",
       " Text(0.04398148148148148, 0.05555555555555555, 'gini = 0.497\\nsamples = 58\\nvalue = [53, 45]'),\n",
       " Text(0.05092592592592592, 0.16666666666666666, 'X[21] <= -0.198\\ngini = 0.473\\nsamples = 19\\nvalue = [10, 16]'),\n",
       " Text(0.04861111111111111, 0.05555555555555555, 'gini = 0.0\\nsamples = 8\\nvalue = [9, 0]'),\n",
       " Text(0.05324074074074074, 0.05555555555555555, 'gini = 0.111\\nsamples = 11\\nvalue = [1, 16]'),\n",
       " Text(0.06481481481481481, 0.2777777777777778, 'X[39] <= 0.025\\ngini = 0.49\\nsamples = 783\\nvalue = [709, 530]'),\n",
       " Text(0.06018518518518518, 0.16666666666666666, 'X[28] <= 0.188\\ngini = 0.491\\nsamples = 313\\nvalue = [213, 279]'),\n",
       " Text(0.05787037037037037, 0.05555555555555555, 'gini = 0.477\\nsamples = 282\\nvalue = [172, 267]'),\n",
       " Text(0.0625, 0.05555555555555555, 'gini = 0.35\\nsamples = 31\\nvalue = [41, 12]'),\n",
       " Text(0.06944444444444445, 0.16666666666666666, 'X[23] <= 1.032\\ngini = 0.446\\nsamples = 470\\nvalue = [496, 251]'),\n",
       " Text(0.06712962962962964, 0.05555555555555555, 'gini = 0.496\\nsamples = 290\\nvalue = [246, 205]'),\n",
       " Text(0.07175925925925926, 0.05555555555555555, 'gini = 0.263\\nsamples = 180\\nvalue = [250, 46]'),\n",
       " Text(0.09259259259259259, 0.3888888888888889, 'X[41] <= -0.033\\ngini = 0.428\\nsamples = 451\\nvalue = [221, 490]'),\n",
       " Text(0.08333333333333333, 0.2777777777777778, 'X[9] <= 18786.957\\ngini = 0.318\\nsamples = 277\\nvalue = [84, 340]'),\n",
       " Text(0.0787037037037037, 0.16666666666666666, 'X[27] <= -0.194\\ngini = 0.254\\nsamples = 247\\nvalue = [56, 319]'),\n",
       " Text(0.0763888888888889, 0.05555555555555555, 'gini = 0.0\\nsamples = 6\\nvalue = [12, 0]'),\n",
       " Text(0.08101851851851852, 0.05555555555555555, 'gini = 0.213\\nsamples = 241\\nvalue = [44, 319]'),\n",
       " Text(0.08796296296296297, 0.16666666666666666, 'X[24] <= 0.014\\ngini = 0.49\\nsamples = 30\\nvalue = [28, 21]'),\n",
       " Text(0.08564814814814815, 0.05555555555555555, 'gini = 0.231\\nsamples = 8\\nvalue = [2, 13]'),\n",
       " Text(0.09027777777777778, 0.05555555555555555, 'gini = 0.36\\nsamples = 22\\nvalue = [26, 8]'),\n",
       " Text(0.10185185185185185, 0.2777777777777778, 'X[32] <= 4.651\\ngini = 0.499\\nsamples = 174\\nvalue = [137, 150]'),\n",
       " Text(0.09722222222222222, 0.16666666666666666, 'X[3] <= 2.034\\ngini = 0.477\\nsamples = 144\\nvalue = [95, 147]'),\n",
       " Text(0.09490740740740741, 0.05555555555555555, 'gini = 0.426\\nsamples = 52\\nvalue = [54, 24]'),\n",
       " Text(0.09953703703703703, 0.05555555555555555, 'gini = 0.375\\nsamples = 92\\nvalue = [41, 123]'),\n",
       " Text(0.10648148148148148, 0.16666666666666666, 'X[45] <= -0.019\\ngini = 0.124\\nsamples = 30\\nvalue = [42, 3]'),\n",
       " Text(0.10416666666666667, 0.05555555555555555, 'gini = 0.48\\nsamples = 5\\nvalue = [3, 2]'),\n",
       " Text(0.1087962962962963, 0.05555555555555555, 'gini = 0.049\\nsamples = 25\\nvalue = [39, 1]'),\n",
       " Text(0.16811342592592593, 0.6111111111111112, 'X[52] <= 0.396\\ngini = 0.328\\nsamples = 13679\\nvalue = [17106, 4451]'),\n",
       " Text(0.1394675925925926, 0.5, 'X[3] <= 2.522\\ngini = 0.358\\nsamples = 11712\\nvalue = [14109, 4299]'),\n",
       " Text(0.1261574074074074, 0.3888888888888889, 'X[38] <= 2178.452\\ngini = 0.138\\nsamples = 1882\\nvalue = [2725, 219]'),\n",
       " Text(0.12037037037037036, 0.2777777777777778, 'X[12] <= -0.201\\ngini = 0.13\\nsamples = 1870\\nvalue = [2721, 205]'),\n",
       " Text(0.11574074074074074, 0.16666666666666666, 'X[4] <= 7.885\\ngini = 0.204\\nsamples = 932\\nvalue = [1269, 165]'),\n",
       " Text(0.11342592592592593, 0.05555555555555555, 'gini = 0.192\\nsamples = 919\\nvalue = [1263, 152]'),\n",
       " Text(0.11805555555555555, 0.05555555555555555, 'gini = 0.432\\nsamples = 13\\nvalue = [6, 13]'),\n",
       " Text(0.125, 0.16666666666666666, 'X[38] <= 1569.609\\ngini = 0.052\\nsamples = 938\\nvalue = [1452, 40]'),\n",
       " Text(0.12268518518518519, 0.05555555555555555, 'gini = 0.035\\nsamples = 901\\nvalue = [1415, 26]'),\n",
       " Text(0.12731481481481483, 0.05555555555555555, 'gini = 0.398\\nsamples = 37\\nvalue = [37, 14]'),\n",
       " Text(0.13194444444444445, 0.2777777777777778, 'X[52] <= 0.082\\ngini = 0.346\\nsamples = 12\\nvalue = [4, 14]'),\n",
       " Text(0.12962962962962962, 0.16666666666666666, 'gini = 0.0\\nsamples = 7\\nvalue = [0, 10]'),\n",
       " Text(0.13425925925925927, 0.16666666666666666, 'gini = 0.5\\nsamples = 5\\nvalue = [4, 4]'),\n",
       " Text(0.1527777777777778, 0.3888888888888889, 'X[36] <= 5963.414\\ngini = 0.388\\nsamples = 9830\\nvalue = [11384, 4080]'),\n",
       " Text(0.14351851851851852, 0.2777777777777778, 'X[43] <= -0.111\\ngini = 0.363\\nsamples = 7135\\nvalue = [8503, 2663]'),\n",
       " Text(0.1388888888888889, 0.16666666666666666, 'X[29] <= 0.401\\ngini = 0.218\\nsamples = 1282\\nvalue = [1775, 252]'),\n",
       " Text(0.13657407407407407, 0.05555555555555555, 'gini = 0.206\\nsamples = 1264\\nvalue = [1769, 234]'),\n",
       " Text(0.1412037037037037, 0.05555555555555555, 'gini = 0.375\\nsamples = 18\\nvalue = [6, 18]'),\n",
       " Text(0.14814814814814814, 0.16666666666666666, 'X[31] <= 3.5\\ngini = 0.388\\nsamples = 5853\\nvalue = [6728, 2411]'),\n",
       " Text(0.14583333333333334, 0.05555555555555555, 'gini = 0.409\\nsamples = 4797\\nvalue = [5361, 2155]'),\n",
       " Text(0.15046296296296297, 0.05555555555555555, 'gini = 0.266\\nsamples = 1056\\nvalue = [1367, 256]'),\n",
       " Text(0.16203703703703703, 0.2777777777777778, 'X[52] <= 0.027\\ngini = 0.442\\nsamples = 2695\\nvalue = [2881, 1417]'),\n",
       " Text(0.1574074074074074, 0.16666666666666666, 'X[33] <= 0.994\\ngini = 0.378\\nsamples = 1393\\nvalue = [1670, 566]'),\n",
       " Text(0.1550925925925926, 0.05555555555555555, 'gini = 0.43\\nsamples = 1027\\nvalue = [1133, 517]'),\n",
       " Text(0.1597222222222222, 0.05555555555555555, 'gini = 0.153\\nsamples = 366\\nvalue = [537, 49]'),\n",
       " Text(0.16666666666666666, 0.16666666666666666, 'X[3] <= 3.107\\ngini = 0.485\\nsamples = 1302\\nvalue = [1211, 851]'),\n",
       " Text(0.16435185185185186, 0.05555555555555555, 'gini = 0.414\\nsamples = 372\\nvalue = [428, 177]'),\n",
       " Text(0.16898148148148148, 0.05555555555555555, 'gini = 0.497\\nsamples = 930\\nvalue = [783, 674]'),\n",
       " Text(0.19675925925925927, 0.5, 'X[24] <= 0.394\\ngini = 0.092\\nsamples = 1967\\nvalue = [2997, 152]'),\n",
       " Text(0.1863425925925926, 0.3888888888888889, 'X[9] <= 6674.895\\ngini = 0.158\\nsamples = 833\\nvalue = [1217, 115]'),\n",
       " Text(0.18055555555555555, 0.2777777777777778, 'X[47] <= 0.787\\ngini = 0.242\\nsamples = 510\\nvalue = [696, 114]'),\n",
       " Text(0.17592592592592593, 0.16666666666666666, 'X[19] <= 0.024\\ngini = 0.315\\nsamples = 356\\nvalue = [452, 110]'),\n",
       " Text(0.1736111111111111, 0.05555555555555555, 'gini = 0.101\\nsamples = 122\\nvalue = [177, 10]'),\n",
       " Text(0.17824074074074073, 0.05555555555555555, 'gini = 0.391\\nsamples = 234\\nvalue = [275, 100]'),\n",
       " Text(0.18518518518518517, 0.16666666666666666, 'X[24] <= 0.315\\ngini = 0.032\\nsamples = 154\\nvalue = [244, 4]'),\n",
       " Text(0.18287037037037038, 0.05555555555555555, 'gini = 0.0\\nsamples = 129\\nvalue = [206, 0]'),\n",
       " Text(0.1875, 0.05555555555555555, 'gini = 0.172\\nsamples = 25\\nvalue = [38, 4]'),\n",
       " Text(0.19212962962962962, 0.2777777777777778, 'X[3] <= 4.603\\ngini = 0.004\\nsamples = 323\\nvalue = [521, 1]'),\n",
       " Text(0.18981481481481483, 0.16666666666666666, 'gini = 0.0\\nsamples = 317\\nvalue = [513, 0]'),\n",
       " Text(0.19444444444444445, 0.16666666666666666, 'gini = 0.198\\nsamples = 6\\nvalue = [8, 1]'),\n",
       " Text(0.20717592592592593, 0.3888888888888889, 'X[52] <= 0.465\\ngini = 0.04\\nsamples = 1134\\nvalue = [1780, 37]'),\n",
       " Text(0.2013888888888889, 0.2777777777777778, 'X[29] <= 0.049\\ngini = 0.156\\nsamples = 122\\nvalue = [182, 17]'),\n",
       " Text(0.19907407407407407, 0.16666666666666666, 'X[30] <= -0.731\\ngini = 0.091\\nsamples = 115\\nvalue = [179, 9]'),\n",
       " Text(0.19675925925925927, 0.05555555555555555, 'gini = 0.198\\nsamples = 51\\nvalue = [72, 9]'),\n",
       " Text(0.2013888888888889, 0.05555555555555555, 'gini = 0.0\\nsamples = 64\\nvalue = [107, 0]'),\n",
       " Text(0.2037037037037037, 0.16666666666666666, 'gini = 0.397\\nsamples = 7\\nvalue = [3, 8]'),\n",
       " Text(0.21296296296296297, 0.2777777777777778, 'X[2] <= 0.5\\ngini = 0.024\\nsamples = 1012\\nvalue = [1598, 20]'),\n",
       " Text(0.20833333333333334, 0.16666666666666666, 'X[52] <= 0.863\\ngini = 0.079\\nsamples = 243\\nvalue = [371, 16]'),\n",
       " Text(0.20601851851851852, 0.05555555555555555, 'gini = 0.17\\nsamples = 91\\nvalue = [135, 14]'),\n",
       " Text(0.21064814814814814, 0.05555555555555555, 'gini = 0.017\\nsamples = 152\\nvalue = [236, 2]'),\n",
       " Text(0.2175925925925926, 0.16666666666666666, 'X[5] <= 2.43\\ngini = 0.006\\nsamples = 769\\nvalue = [1227, 4]'),\n",
       " Text(0.2152777777777778, 0.05555555555555555, 'gini = 0.002\\nsamples = 738\\nvalue = [1183, 1]'),\n",
       " Text(0.2199074074074074, 0.05555555555555555, 'gini = 0.12\\nsamples = 31\\nvalue = [44, 3]'),\n",
       " Text(0.3326099537037037, 0.7222222222222222, 'X[11] <= 0.009\\ngini = 0.469\\nsamples = 69751\\nvalue = [68888, 41555]'),\n",
       " Text(0.26707175925925924, 0.6111111111111112, 'X[50] <= -0.161\\ngini = 0.384\\nsamples = 14954\\nvalue = [17538, 6121]'),\n",
       " Text(0.24131944444444445, 0.5, 'X[9] <= 1727.05\\ngini = 0.217\\nsamples = 2146\\nvalue = [2979, 422]'),\n",
       " Text(0.22916666666666666, 0.3888888888888889, 'X[9] <= 459.62\\ngini = 0.14\\nsamples = 1020\\nvalue = [1482, 121]'),\n",
       " Text(0.22685185185185186, 0.2777777777777778, 'gini = 0.0\\nsamples = 225\\nvalue = [367, 0]'),\n",
       " Text(0.23148148148148148, 0.2777777777777778, 'X[44] <= -0.165\\ngini = 0.177\\nsamples = 795\\nvalue = [1115, 121]'),\n",
       " Text(0.22685185185185186, 0.16666666666666666, 'X[46] <= -0.022\\ngini = 0.332\\nsamples = 182\\nvalue = [226, 60]'),\n",
       " Text(0.22453703703703703, 0.05555555555555555, 'gini = 0.225\\nsamples = 140\\nvalue = [189, 28]'),\n",
       " Text(0.22916666666666666, 0.05555555555555555, 'gini = 0.497\\nsamples = 42\\nvalue = [37, 32]'),\n",
       " Text(0.2361111111111111, 0.16666666666666666, 'X[26] <= -0.146\\ngini = 0.12\\nsamples = 613\\nvalue = [889, 61]'),\n",
       " Text(0.2337962962962963, 0.05555555555555555, 'gini = 0.072\\nsamples = 337\\nvalue = [516, 20]'),\n",
       " Text(0.23842592592592593, 0.05555555555555555, 'gini = 0.178\\nsamples = 276\\nvalue = [373, 41]'),\n",
       " Text(0.2534722222222222, 0.3888888888888889, 'X[33] <= 0.238\\ngini = 0.279\\nsamples = 1126\\nvalue = [1497, 301]'),\n",
       " Text(0.24768518518518517, 0.2777777777777778, 'X[10] <= 5385.9\\ngini = 0.142\\nsamples = 348\\nvalue = [493, 41]'),\n",
       " Text(0.24537037037037038, 0.16666666666666666, 'X[20] <= -0.101\\ngini = 0.078\\nsamples = 338\\nvalue = [493, 21]'),\n",
       " Text(0.24305555555555555, 0.05555555555555555, 'gini = 0.016\\nsamples = 167\\nvalue = [254, 2]'),\n",
       " Text(0.24768518518518517, 0.05555555555555555, 'gini = 0.136\\nsamples = 171\\nvalue = [239, 19]'),\n",
       " Text(0.25, 0.16666666666666666, 'gini = 0.0\\nsamples = 10\\nvalue = [0, 20]'),\n",
       " Text(0.25925925925925924, 0.2777777777777778, 'X[24] <= 1.761\\ngini = 0.327\\nsamples = 778\\nvalue = [1004, 260]'),\n",
       " Text(0.25462962962962965, 0.16666666666666666, 'X[18] <= -0.068\\ngini = 0.294\\nsamples = 706\\nvalue = [936, 204]'),\n",
       " Text(0.2523148148148148, 0.05555555555555555, 'gini = 0.395\\nsamples = 324\\nvalue = [368, 137]'),\n",
       " Text(0.2569444444444444, 0.05555555555555555, 'gini = 0.189\\nsamples = 382\\nvalue = [568, 67]'),\n",
       " Text(0.2638888888888889, 0.16666666666666666, 'X[39] <= 0.365\\ngini = 0.495\\nsamples = 72\\nvalue = [68, 56]'),\n",
       " Text(0.26157407407407407, 0.05555555555555555, 'gini = 0.474\\nsamples = 51\\nvalue = [32, 51]'),\n",
       " Text(0.2662037037037037, 0.05555555555555555, 'gini = 0.214\\nsamples = 21\\nvalue = [36, 5]'),\n",
       " Text(0.29282407407407407, 0.5, 'X[46] <= -0.085\\ngini = 0.404\\nsamples = 12808\\nvalue = [14559, 5699]'),\n",
       " Text(0.2800925925925926, 0.3888888888888889, 'X[7] <= 0.017\\ngini = 0.293\\nsamples = 2833\\nvalue = [3688, 802]'),\n",
       " Text(0.2777777777777778, 0.2777777777777778, 'X[30] <= -0.624\\ngini = 0.289\\nsamples = 2821\\nvalue = [3688, 783]'),\n",
       " Text(0.27314814814814814, 0.16666666666666666, 'X[29] <= -0.109\\ngini = 0.213\\nsamples = 1239\\nvalue = [1756, 242]'),\n",
       " Text(0.2708333333333333, 0.05555555555555555, 'gini = 0.15\\nsamples = 863\\nvalue = [1278, 114]'),\n",
       " Text(0.27546296296296297, 0.05555555555555555, 'gini = 0.333\\nsamples = 376\\nvalue = [478, 128]'),\n",
       " Text(0.2824074074074074, 0.16666666666666666, 'X[8] <= 2489.818\\ngini = 0.342\\nsamples = 1582\\nvalue = [1932, 541]'),\n",
       " Text(0.2800925925925926, 0.05555555555555555, 'gini = 0.389\\nsamples = 1111\\nvalue = [1287, 462]'),\n",
       " Text(0.2847222222222222, 0.05555555555555555, 'gini = 0.194\\nsamples = 471\\nvalue = [645, 79]'),\n",
       " Text(0.2824074074074074, 0.2777777777777778, 'gini = 0.0\\nsamples = 12\\nvalue = [0, 19]'),\n",
       " Text(0.3055555555555556, 0.3888888888888889, 'X[20] <= -0.094\\ngini = 0.428\\nsamples = 9975\\nvalue = [10871, 4897]'),\n",
       " Text(0.2962962962962963, 0.2777777777777778, 'X[33] <= 0.19\\ngini = 0.361\\nsamples = 5461\\nvalue = [6580, 2042]'),\n",
       " Text(0.2916666666666667, 0.16666666666666666, 'X[13] <= 6.874\\ngini = 0.185\\nsamples = 629\\nvalue = [911, 105]'),\n",
       " Text(0.28935185185185186, 0.05555555555555555, 'gini = 0.167\\nsamples = 613\\nvalue = [898, 91]'),\n",
       " Text(0.29398148148148145, 0.05555555555555555, 'gini = 0.499\\nsamples = 16\\nvalue = [13, 14]'),\n",
       " Text(0.30092592592592593, 0.16666666666666666, 'X[46] <= -0.01\\ngini = 0.38\\nsamples = 4832\\nvalue = [5669, 1937]'),\n",
       " Text(0.2986111111111111, 0.05555555555555555, 'gini = 0.332\\nsamples = 2962\\nvalue = [3659, 976]'),\n",
       " Text(0.30324074074074076, 0.05555555555555555, 'gini = 0.438\\nsamples = 1870\\nvalue = [2010, 961]'),\n",
       " Text(0.3148148148148148, 0.2777777777777778, 'X[40] <= 0.058\\ngini = 0.48\\nsamples = 4514\\nvalue = [4291, 2855]'),\n",
       " Text(0.3101851851851852, 0.16666666666666666, 'X[48] <= 0.222\\ngini = 0.403\\nsamples = 1982\\nvalue = [2288, 891]'),\n",
       " Text(0.30787037037037035, 0.05555555555555555, 'gini = 0.426\\nsamples = 1707\\nvalue = [1895, 842]'),\n",
       " Text(0.3125, 0.05555555555555555, 'gini = 0.197\\nsamples = 275\\nvalue = [393, 49]'),\n",
       " Text(0.3194444444444444, 0.16666666666666666, 'X[15] <= 0.043\\ngini = 0.5\\nsamples = 2532\\nvalue = [2003, 1964]'),\n",
       " Text(0.31712962962962965, 0.05555555555555555, 'gini = 0.276\\nsamples = 153\\nvalue = [187, 37]'),\n",
       " Text(0.32175925925925924, 0.05555555555555555, 'gini = 0.5\\nsamples = 2379\\nvalue = [1816, 1927]'),\n",
       " Text(0.39814814814814814, 0.6111111111111112, 'X[53] <= -0.108\\ngini = 0.483\\nsamples = 54797\\nvalue = [51350, 35434]'),\n",
       " Text(0.3611111111111111, 0.5, 'X[3] <= 11.198\\ngini = 0.327\\nsamples = 6298\\nvalue = [7884, 2045]'),\n",
       " Text(0.3425925925925926, 0.3888888888888889, 'X[22] <= 0.039\\ngini = 0.349\\nsamples = 5346\\nvalue = [6537, 1902]'),\n",
       " Text(0.3333333333333333, 0.2777777777777778, 'X[17] <= -0.134\\ngini = 0.25\\nsamples = 1669\\nvalue = [2262, 389]'),\n",
       " Text(0.3287037037037037, 0.16666666666666666, 'X[35] <= 0.001\\ngini = 0.079\\nsamples = 353\\nvalue = [532, 23]'),\n",
       " Text(0.3263888888888889, 0.05555555555555555, 'gini = 0.061\\nsamples = 339\\nvalue = [520, 17]'),\n",
       " Text(0.33101851851851855, 0.05555555555555555, 'gini = 0.444\\nsamples = 14\\nvalue = [12, 6]'),\n",
       " Text(0.33796296296296297, 0.16666666666666666, 'X[42] <= 0.136\\ngini = 0.288\\nsamples = 1316\\nvalue = [1730, 366]'),\n",
       " Text(0.33564814814814814, 0.05555555555555555, 'gini = 0.099\\nsamples = 296\\nvalue = [437, 24]'),\n",
       " Text(0.3402777777777778, 0.05555555555555555, 'gini = 0.331\\nsamples = 1020\\nvalue = [1293, 342]'),\n",
       " Text(0.35185185185185186, 0.2777777777777778, 'X[26] <= -0.215\\ngini = 0.386\\nsamples = 3677\\nvalue = [4275, 1513]'),\n",
       " Text(0.3472222222222222, 0.16666666666666666, 'X[1] <= 0.094\\ngini = 0.063\\nsamples = 357\\nvalue = [563, 19]'),\n",
       " Text(0.3449074074074074, 0.05555555555555555, 'gini = 0.027\\nsamples = 262\\nvalue = [437, 6]'),\n",
       " Text(0.34953703703703703, 0.05555555555555555, 'gini = 0.17\\nsamples = 95\\nvalue = [126, 13]'),\n",
       " Text(0.35648148148148145, 0.16666666666666666, 'X[53] <= -0.132\\ngini = 0.409\\nsamples = 3320\\nvalue = [3712, 1494]'),\n",
       " Text(0.3541666666666667, 0.05555555555555555, 'gini = 0.321\\nsamples = 1774\\nvalue = [2221, 558]'),\n",
       " Text(0.3587962962962963, 0.05555555555555555, 'gini = 0.474\\nsamples = 1546\\nvalue = [1491, 936]'),\n",
       " Text(0.37962962962962965, 0.3888888888888889, 'X[36] <= 1115.807\\ngini = 0.174\\nsamples = 952\\nvalue = [1347, 143]'),\n",
       " Text(0.37037037037037035, 0.2777777777777778, 'X[25] <= 3.192\\ngini = 0.064\\nsamples = 428\\nvalue = [647, 22]'),\n",
       " Text(0.36574074074074076, 0.16666666666666666, 'X[14] <= 1.633\\ngini = 0.036\\nsamples = 418\\nvalue = [642, 12]'),\n",
       " Text(0.36342592592592593, 0.05555555555555555, 'gini = 0.027\\nsamples = 413\\nvalue = [637, 9]'),\n",
       " Text(0.3680555555555556, 0.05555555555555555, 'gini = 0.469\\nsamples = 5\\nvalue = [5, 3]'),\n",
       " Text(0.375, 0.16666666666666666, 'X[19] <= -0.071\\ngini = 0.444\\nsamples = 10\\nvalue = [5, 10]'),\n",
       " Text(0.3726851851851852, 0.05555555555555555, 'gini = 0.0\\nsamples = 5\\nvalue = [0, 9]'),\n",
       " Text(0.3773148148148148, 0.05555555555555555, 'gini = 0.278\\nsamples = 5\\nvalue = [5, 1]'),\n",
       " Text(0.3888888888888889, 0.2777777777777778, 'X[3] <= 14.575\\ngini = 0.251\\nsamples = 524\\nvalue = [700, 121]'),\n",
       " Text(0.38425925925925924, 0.16666666666666666, 'X[6] <= 0.051\\ngini = 0.351\\nsamples = 305\\nvalue = [361, 106]'),\n",
       " Text(0.3819444444444444, 0.05555555555555555, 'gini = 0.217\\nsamples = 119\\nvalue = [163, 23]'),\n",
       " Text(0.38657407407407407, 0.05555555555555555, 'gini = 0.416\\nsamples = 186\\nvalue = [198, 83]'),\n",
       " Text(0.39351851851851855, 0.16666666666666666, 'X[52] <= -0.072\\ngini = 0.081\\nsamples = 219\\nvalue = [339, 15]'),\n",
       " Text(0.3912037037037037, 0.05555555555555555, 'gini = 0.365\\nsamples = 15\\nvalue = [19, 6]'),\n",
       " Text(0.3958333333333333, 0.05555555555555555, 'gini = 0.053\\nsamples = 204\\nvalue = [320, 9]'),\n",
       " Text(0.4351851851851852, 0.5, 'X[28] <= 0.182\\ngini = 0.491\\nsamples = 48499\\nvalue = [43466, 33389]'),\n",
       " Text(0.4166666666666667, 0.3888888888888889, 'X[45] <= -0.109\\ngini = 0.496\\nsamples = 41718\\nvalue = [35854, 30269]'),\n",
       " Text(0.4074074074074074, 0.2777777777777778, 'X[31] <= 2.5\\ngini = 0.358\\nsamples = 3630\\nvalue = [4420, 1345]'),\n",
       " Text(0.4027777777777778, 0.16666666666666666, 'X[26] <= -0.085\\ngini = 0.401\\nsamples = 2385\\nvalue = [2723, 1047]'),\n",
       " Text(0.40046296296296297, 0.05555555555555555, 'gini = 0.312\\nsamples = 1041\\nvalue = [1345, 322]'),\n",
       " Text(0.4050925925925926, 0.05555555555555555, 'gini = 0.452\\nsamples = 1344\\nvalue = [1378, 725]'),\n",
       " Text(0.41203703703703703, 0.16666666666666666, 'X[53] <= 0.276\\ngini = 0.254\\nsamples = 1245\\nvalue = [1697, 298]'),\n",
       " Text(0.4097222222222222, 0.05555555555555555, 'gini = 0.237\\nsamples = 1195\\nvalue = [1661, 265]'),\n",
       " Text(0.41435185185185186, 0.05555555555555555, 'gini = 0.499\\nsamples = 50\\nvalue = [36, 33]'),\n",
       " Text(0.42592592592592593, 0.2777777777777778, 'X[44] <= -0.103\\ngini = 0.499\\nsamples = 38088\\nvalue = [31434, 28924]'),\n",
       " Text(0.4212962962962963, 0.16666666666666666, 'X[37] <= 1303.321\\ngini = 0.45\\nsamples = 8021\\nvalue = [8332, 4333]'),\n",
       " Text(0.41898148148148145, 0.05555555555555555, 'gini = 0.478\\nsamples = 5260\\nvalue = [4999, 3250]'),\n",
       " Text(0.4236111111111111, 0.05555555555555555, 'gini = 0.37\\nsamples = 2761\\nvalue = [3333, 1083]'),\n",
       " Text(0.4305555555555556, 0.16666666666666666, 'X[35] <= 0.0\\ngini = 0.5\\nsamples = 30067\\nvalue = [23102, 24591]'),\n",
       " Text(0.42824074074074076, 0.05555555555555555, 'gini = 0.498\\nsamples = 18094\\nvalue = [15265, 13344]'),\n",
       " Text(0.43287037037037035, 0.05555555555555555, 'gini = 0.484\\nsamples = 11973\\nvalue = [7837, 11247]'),\n",
       " Text(0.4537037037037037, 0.3888888888888889, 'X[24] <= 0.712\\ngini = 0.412\\nsamples = 6781\\nvalue = [7612, 3120]'),\n",
       " Text(0.4444444444444444, 0.2777777777777778, 'X[52] <= 0.657\\ngini = 0.441\\nsamples = 4696\\nvalue = [5004, 2442]'),\n",
       " Text(0.4398148148148148, 0.16666666666666666, 'X[20] <= -0.066\\ngini = 0.457\\nsamples = 4257\\nvalue = [4351, 2380]'),\n",
       " Text(0.4375, 0.05555555555555555, 'gini = 0.388\\nsamples = 1873\\nvalue = [2202, 789]'),\n",
       " Text(0.44212962962962965, 0.05555555555555555, 'gini = 0.489\\nsamples = 2384\\nvalue = [2149, 1591]'),\n",
       " Text(0.44907407407407407, 0.16666666666666666, 'X[28] <= 2.893\\ngini = 0.158\\nsamples = 439\\nvalue = [653, 62]'),\n",
       " Text(0.44675925925925924, 0.05555555555555555, 'gini = 0.13\\nsamples = 432\\nvalue = [651, 49]'),\n",
       " Text(0.4513888888888889, 0.05555555555555555, 'gini = 0.231\\nsamples = 7\\nvalue = [2, 13]'),\n",
       " Text(0.46296296296296297, 0.2777777777777778, 'X[2] <= 6.5\\ngini = 0.328\\nsamples = 2085\\nvalue = [2608, 678]'),\n",
       " Text(0.4583333333333333, 0.16666666666666666, 'X[53] <= -0.097\\ngini = 0.344\\nsamples = 1932\\nvalue = [2384, 674]'),\n",
       " Text(0.45601851851851855, 0.05555555555555555, 'gini = 0.468\\nsamples = 40\\nvalue = [25, 42]'),\n",
       " Text(0.46064814814814814, 0.05555555555555555, 'gini = 0.333\\nsamples = 1892\\nvalue = [2359, 632]'),\n",
       " Text(0.4675925925925926, 0.16666666666666666, 'X[8] <= 1312.626\\ngini = 0.034\\nsamples = 153\\nvalue = [224, 4]'),\n",
       " Text(0.4652777777777778, 0.05555555555555555, 'gini = 0.287\\nsamples = 17\\nvalue = [19, 4]'),\n",
       " Text(0.4699074074074074, 0.05555555555555555, 'gini = 0.0\\nsamples = 136\\nvalue = [205, 0]'),\n",
       " Text(0.7379918981481481, 0.8333333333333334, 'X[33] <= 0.167\\ngini = 0.498\\nsamples = 386391\\nvalue = [285860, 325398]'),\n",
       " Text(0.5980902777777778, 0.7222222222222222, 'X[4] <= 0.137\\ngini = 0.448\\nsamples = 34780\\nvalue = [36480, 18714]'),\n",
       " Text(0.5379050925925926, 0.6111111111111112, 'X[23] <= -0.127\\ngini = 0.286\\nsamples = 5692\\nvalue = [7510, 1574]'),\n",
       " Text(0.5063657407407407, 0.5, 'X[1] <= 0.762\\ngini = 0.194\\nsamples = 2177\\nvalue = [3086, 376]'),\n",
       " Text(0.49074074074074076, 0.3888888888888889, 'X[25] <= -0.154\\ngini = 0.166\\nsamples = 2060\\nvalue = [2974, 298]'),\n",
       " Text(0.48148148148148145, 0.2777777777777778, 'X[1] <= -1.099\\ngini = 0.409\\nsamples = 135\\nvalue = [157, 63]'),\n",
       " Text(0.47685185185185186, 0.16666666666666666, 'X[52] <= 0.513\\ngini = 0.224\\nsamples = 80\\nvalue = [122, 18]'),\n",
       " Text(0.47453703703703703, 0.05555555555555555, 'gini = 0.135\\nsamples = 71\\nvalue = [115, 9]'),\n",
       " Text(0.4791666666666667, 0.05555555555555555, 'gini = 0.492\\nsamples = 9\\nvalue = [7, 9]'),\n",
       " Text(0.4861111111111111, 0.16666666666666666, 'X[8] <= 51321.109\\ngini = 0.492\\nsamples = 55\\nvalue = [35, 45]'),\n",
       " Text(0.4837962962962963, 0.05555555555555555, 'gini = 0.461\\nsamples = 33\\nvalue = [32, 18]'),\n",
       " Text(0.48842592592592593, 0.05555555555555555, 'gini = 0.18\\nsamples = 22\\nvalue = [3, 27]'),\n",
       " Text(0.5, 0.2777777777777778, 'X[9] <= 3193.948\\ngini = 0.142\\nsamples = 1925\\nvalue = [2817, 235]'),\n",
       " Text(0.49537037037037035, 0.16666666666666666, 'X[45] <= -0.008\\ngini = 0.291\\nsamples = 450\\nvalue = [605, 130]'),\n",
       " Text(0.4930555555555556, 0.05555555555555555, 'gini = 0.118\\nsamples = 215\\nvalue = [326, 22]'),\n",
       " Text(0.4976851851851852, 0.05555555555555555, 'gini = 0.402\\nsamples = 235\\nvalue = [279, 108]'),\n",
       " Text(0.5046296296296297, 0.16666666666666666, 'X[50] <= -0.216\\ngini = 0.087\\nsamples = 1475\\nvalue = [2212, 105]'),\n",
       " Text(0.5023148148148148, 0.05555555555555555, 'gini = 0.278\\nsamples = 5\\nvalue = [1, 5]'),\n",
       " Text(0.5069444444444444, 0.05555555555555555, 'gini = 0.083\\nsamples = 1470\\nvalue = [2211, 100]'),\n",
       " Text(0.5219907407407407, 0.3888888888888889, 'X[26] <= 0.462\\ngini = 0.484\\nsamples = 117\\nvalue = [112, 78]'),\n",
       " Text(0.5162037037037037, 0.2777777777777778, 'X[13] <= -0.037\\ngini = 0.2\\nsamples = 42\\nvalue = [63, 8]'),\n",
       " Text(0.5138888888888888, 0.16666666666666666, 'X[47] <= -0.047\\ngini = 0.032\\nsamples = 35\\nvalue = [60, 1]'),\n",
       " Text(0.5115740740740741, 0.05555555555555555, 'gini = 0.0\\nsamples = 30\\nvalue = [52, 0]'),\n",
       " Text(0.5162037037037037, 0.05555555555555555, 'gini = 0.198\\nsamples = 5\\nvalue = [8, 1]'),\n",
       " Text(0.5185185185185185, 0.16666666666666666, 'gini = 0.42\\nsamples = 7\\nvalue = [3, 7]'),\n",
       " Text(0.5277777777777778, 0.2777777777777778, 'X[47] <= -0.112\\ngini = 0.484\\nsamples = 75\\nvalue = [49, 70]'),\n",
       " Text(0.5231481481481481, 0.16666666666666666, 'X[48] <= -0.11\\ngini = 0.095\\nsamples = 10\\nvalue = [19, 1]'),\n",
       " Text(0.5208333333333334, 0.05555555555555555, 'gini = 0.0\\nsamples = 5\\nvalue = [13, 0]'),\n",
       " Text(0.5254629629629629, 0.05555555555555555, 'gini = 0.245\\nsamples = 5\\nvalue = [6, 1]'),\n",
       " Text(0.5324074074074074, 0.16666666666666666, 'X[45] <= 0.184\\ngini = 0.422\\nsamples = 65\\nvalue = [30, 69]'),\n",
       " Text(0.5300925925925926, 0.05555555555555555, 'gini = 0.323\\nsamples = 54\\nvalue = [17, 67]'),\n",
       " Text(0.5347222222222222, 0.05555555555555555, 'gini = 0.231\\nsamples = 11\\nvalue = [13, 2]'),\n",
       " Text(0.5694444444444444, 0.5, 'X[26] <= 1.4\\ngini = 0.335\\nsamples = 3515\\nvalue = [4424, 1198]'),\n",
       " Text(0.5555555555555556, 0.3888888888888889, 'X[39] <= -0.04\\ngini = 0.323\\nsamples = 3420\\nvalue = [4350, 1106]'),\n",
       " Text(0.5462962962962963, 0.2777777777777778, 'X[20] <= 0.28\\ngini = 0.264\\nsamples = 1627\\nvalue = [2171, 402]'),\n",
       " Text(0.5416666666666666, 0.16666666666666666, 'X[24] <= 5.843\\ngini = 0.156\\nsamples = 991\\nvalue = [1416, 132]'),\n",
       " Text(0.5393518518518519, 0.05555555555555555, 'gini = 0.147\\nsamples = 984\\nvalue = [1416, 123]'),\n",
       " Text(0.5439814814814815, 0.05555555555555555, 'gini = 0.0\\nsamples = 7\\nvalue = [0, 9]'),\n",
       " Text(0.5509259259259259, 0.16666666666666666, 'X[1] <= -1.205\\ngini = 0.388\\nsamples = 636\\nvalue = [755, 270]'),\n",
       " Text(0.5486111111111112, 0.05555555555555555, 'gini = 0.207\\nsamples = 271\\nvalue = [399, 53]'),\n",
       " Text(0.5532407407407407, 0.05555555555555555, 'gini = 0.471\\nsamples = 365\\nvalue = [356, 217]'),\n",
       " Text(0.5648148148148148, 0.2777777777777778, 'X[29] <= 1.55\\ngini = 0.369\\nsamples = 1793\\nvalue = [2179, 704]'),\n",
       " Text(0.5601851851851852, 0.16666666666666666, 'X[28] <= 0.13\\ngini = 0.358\\nsamples = 1759\\nvalue = [2173, 663]'),\n",
       " Text(0.5578703703703703, 0.05555555555555555, 'gini = 0.397\\nsamples = 1321\\nvalue = [1559, 587]'),\n",
       " Text(0.5625, 0.05555555555555555, 'gini = 0.196\\nsamples = 438\\nvalue = [614, 76]'),\n",
       " Text(0.5694444444444444, 0.16666666666666666, 'X[10] <= 904.065\\ngini = 0.223\\nsamples = 34\\nvalue = [6, 41]'),\n",
       " Text(0.5671296296296297, 0.05555555555555555, 'gini = 0.0\\nsamples = 29\\nvalue = [0, 41]'),\n",
       " Text(0.5717592592592593, 0.05555555555555555, 'gini = 0.0\\nsamples = 5\\nvalue = [6, 0]'),\n",
       " Text(0.5833333333333334, 0.3888888888888889, 'X[12] <= 0.032\\ngini = 0.494\\nsamples = 95\\nvalue = [74, 92]'),\n",
       " Text(0.5763888888888888, 0.2777777777777778, 'X[18] <= 0.018\\ngini = 0.266\\nsamples = 54\\nvalue = [15, 80]'),\n",
       " Text(0.5740740740740741, 0.16666666666666666, 'gini = 0.219\\nsamples = 5\\nvalue = [7, 1]'),\n",
       " Text(0.5787037037037037, 0.16666666666666666, 'X[11] <= 0.132\\ngini = 0.167\\nsamples = 49\\nvalue = [8, 79]'),\n",
       " Text(0.5763888888888888, 0.05555555555555555, 'gini = 0.49\\nsamples = 5\\nvalue = [4, 3]'),\n",
       " Text(0.5810185185185185, 0.05555555555555555, 'gini = 0.095\\nsamples = 44\\nvalue = [4, 76]'),\n",
       " Text(0.5902777777777778, 0.2777777777777778, 'X[48] <= -0.102\\ngini = 0.281\\nsamples = 41\\nvalue = [59, 12]'),\n",
       " Text(0.5879629629629629, 0.16666666666666666, 'X[13] <= -0.052\\ngini = 0.496\\nsamples = 11\\nvalue = [10, 12]'),\n",
       " Text(0.5856481481481481, 0.05555555555555555, 'gini = 0.0\\nsamples = 5\\nvalue = [0, 8]'),\n",
       " Text(0.5902777777777778, 0.05555555555555555, 'gini = 0.408\\nsamples = 6\\nvalue = [10, 4]'),\n",
       " Text(0.5925925925925926, 0.16666666666666666, 'gini = 0.0\\nsamples = 30\\nvalue = [49, 0]'),\n",
       " Text(0.6582754629629629, 0.6111111111111112, 'X[46] <= -0.056\\ngini = 0.467\\nsamples = 29088\\nvalue = [28970, 17140]'),\n",
       " Text(0.6221064814814815, 0.5, 'X[53] <= -0.127\\ngini = 0.395\\nsamples = 5247\\nvalue = [6062, 2247]'),\n",
       " Text(0.6053240740740741, 0.3888888888888889, 'X[38] <= 102.582\\ngini = 0.177\\nsamples = 1138\\nvalue = [1631, 177]'),\n",
       " Text(0.5995370370370371, 0.2777777777777778, 'X[16] <= 0.509\\ngini = 0.004\\nsamples = 363\\nvalue = [563, 1]'),\n",
       " Text(0.5972222222222222, 0.16666666666666666, 'gini = 0.0\\nsamples = 358\\nvalue = [557, 0]'),\n",
       " Text(0.6018518518518519, 0.16666666666666666, 'gini = 0.245\\nsamples = 5\\nvalue = [6, 1]'),\n",
       " Text(0.6111111111111112, 0.2777777777777778, 'X[30] <= 1.406\\ngini = 0.243\\nsamples = 775\\nvalue = [1068, 176]'),\n",
       " Text(0.6064814814814815, 0.16666666666666666, 'X[29] <= -0.262\\ngini = 0.218\\nsamples = 741\\nvalue = [1035, 147]'),\n",
       " Text(0.6041666666666666, 0.05555555555555555, 'gini = 0.463\\nsamples = 14\\nvalue = [8, 14]'),\n",
       " Text(0.6087962962962963, 0.05555555555555555, 'gini = 0.203\\nsamples = 727\\nvalue = [1027, 133]'),\n",
       " Text(0.6157407407407407, 0.16666666666666666, 'X[20] <= -0.011\\ngini = 0.498\\nsamples = 34\\nvalue = [33, 29]'),\n",
       " Text(0.6134259259259259, 0.05555555555555555, 'gini = 0.0\\nsamples = 8\\nvalue = [16, 0]'),\n",
       " Text(0.6180555555555556, 0.05555555555555555, 'gini = 0.466\\nsamples = 26\\nvalue = [17, 29]'),\n",
       " Text(0.6388888888888888, 0.3888888888888889, 'X[21] <= -0.05\\ngini = 0.434\\nsamples = 4109\\nvalue = [4431, 2070]'),\n",
       " Text(0.6296296296296297, 0.2777777777777778, 'X[33] <= 0.093\\ngini = 0.317\\nsamples = 1289\\nvalue = [1628, 400]'),\n",
       " Text(0.625, 0.16666666666666666, 'X[17] <= 0.904\\ngini = 0.12\\nsamples = 342\\nvalue = [526, 36]'),\n",
       " Text(0.6226851851851852, 0.05555555555555555, 'gini = 0.076\\nsamples = 321\\nvalue = [511, 21]'),\n",
       " Text(0.6273148148148148, 0.05555555555555555, 'gini = 0.5\\nsamples = 21\\nvalue = [15, 15]'),\n",
       " Text(0.6342592592592593, 0.16666666666666666, 'X[16] <= -0.062\\ngini = 0.373\\nsamples = 947\\nvalue = [1102, 364]'),\n",
       " Text(0.6319444444444444, 0.05555555555555555, 'gini = 0.221\\nsamples = 231\\nvalue = [311, 45]'),\n",
       " Text(0.6365740740740741, 0.05555555555555555, 'gini = 0.41\\nsamples = 716\\nvalue = [791, 319]'),\n",
       " Text(0.6481481481481481, 0.2777777777777778, 'X[41] <= 0.008\\ngini = 0.468\\nsamples = 2820\\nvalue = [2803, 1670]'),\n",
       " Text(0.6435185185185185, 0.16666666666666666, 'X[50] <= 0.095\\ngini = 0.056\\nsamples = 141\\nvalue = [234, 7]'),\n",
       " Text(0.6412037037037037, 0.05555555555555555, 'gini = 0.019\\nsamples = 124\\nvalue = [208, 2]'),\n",
       " Text(0.6458333333333334, 0.05555555555555555, 'gini = 0.271\\nsamples = 17\\nvalue = [26, 5]'),\n",
       " Text(0.6527777777777778, 0.16666666666666666, 'X[27] <= -0.124\\ngini = 0.477\\nsamples = 2679\\nvalue = [2569, 1663]'),\n",
       " Text(0.6504629629629629, 0.05555555555555555, 'gini = 0.372\\nsamples = 799\\nvalue = [953, 312]'),\n",
       " Text(0.6550925925925926, 0.05555555555555555, 'gini = 0.496\\nsamples = 1880\\nvalue = [1616, 1351]'),\n",
       " Text(0.6944444444444444, 0.5, 'X[49] <= -0.088\\ngini = 0.478\\nsamples = 23841\\nvalue = [22908, 14893]'),\n",
       " Text(0.6759259259259259, 0.3888888888888889, 'X[52] <= 0.434\\ngini = 0.412\\nsamples = 6590\\nvalue = [7364, 3009]'),\n",
       " Text(0.6666666666666666, 0.2777777777777778, 'X[1] <= -1.159\\ngini = 0.444\\nsamples = 5152\\nvalue = [5447, 2719]'),\n",
       " Text(0.6620370370370371, 0.16666666666666666, 'X[43] <= 0.349\\ngini = 0.33\\nsamples = 1703\\nvalue = [2139, 563]'),\n",
       " Text(0.6597222222222222, 0.05555555555555555, 'gini = 0.297\\nsamples = 1346\\nvalue = [1749, 387]'),\n",
       " Text(0.6643518518518519, 0.05555555555555555, 'gini = 0.429\\nsamples = 357\\nvalue = [390, 176]'),\n",
       " Text(0.6712962962962963, 0.16666666666666666, 'X[32] <= 10.159\\ngini = 0.478\\nsamples = 3449\\nvalue = [3308, 2156]'),\n",
       " Text(0.6689814814814815, 0.05555555555555555, 'gini = 0.498\\nsamples = 2131\\nvalue = [1792, 1598]'),\n",
       " Text(0.6736111111111112, 0.05555555555555555, 'gini = 0.393\\nsamples = 1318\\nvalue = [1516, 558]'),\n",
       " Text(0.6851851851851852, 0.2777777777777778, 'X[29] <= 4.535\\ngini = 0.228\\nsamples = 1438\\nvalue = [1917, 290]'),\n",
       " Text(0.6805555555555556, 0.16666666666666666, 'X[51] <= 16.396\\ngini = 0.19\\nsamples = 1394\\nvalue = [1913, 228]'),\n",
       " Text(0.6782407407407407, 0.05555555555555555, 'gini = 0.173\\nsamples = 1376\\nvalue = [1907, 202]'),\n",
       " Text(0.6828703703703703, 0.05555555555555555, 'gini = 0.305\\nsamples = 18\\nvalue = [6, 26]'),\n",
       " Text(0.6898148148148148, 0.16666666666666666, 'X[17] <= 0.144\\ngini = 0.114\\nsamples = 44\\nvalue = [4, 62]'),\n",
       " Text(0.6875, 0.05555555555555555, 'gini = 0.494\\nsamples = 5\\nvalue = [4, 5]'),\n",
       " Text(0.6921296296296297, 0.05555555555555555, 'gini = 0.0\\nsamples = 39\\nvalue = [0, 57]'),\n",
       " Text(0.7129629629629629, 0.3888888888888889, 'X[19] <= 0.442\\ngini = 0.491\\nsamples = 17251\\nvalue = [15544, 11884]'),\n",
       " Text(0.7037037037037037, 0.2777777777777778, 'X[48] <= 0.325\\ngini = 0.496\\nsamples = 15514\\nvalue = [13492, 11167]'),\n",
       " Text(0.6990740740740741, 0.16666666666666666, 'X[24] <= -0.09\\ngini = 0.499\\nsamples = 13443\\nvalue = [11221, 10128]'),\n",
       " Text(0.6967592592592593, 0.05555555555555555, 'gini = 0.415\\nsamples = 1232\\nvalue = [1398, 582]'),\n",
       " Text(0.7013888888888888, 0.05555555555555555, 'gini = 0.5\\nsamples = 12211\\nvalue = [9823, 9546]'),\n",
       " Text(0.7083333333333334, 0.16666666666666666, 'X[30] <= -1.095\\ngini = 0.431\\nsamples = 2071\\nvalue = [2271, 1039]'),\n",
       " Text(0.7060185185185185, 0.05555555555555555, 'gini = 0.255\\nsamples = 578\\nvalue = [804, 142]'),\n",
       " Text(0.7106481481481481, 0.05555555555555555, 'gini = 0.471\\nsamples = 1493\\nvalue = [1467, 897]'),\n",
       " Text(0.7222222222222222, 0.2777777777777778, 'X[48] <= -0.01\\ngini = 0.384\\nsamples = 1737\\nvalue = [2052, 717]'),\n",
       " Text(0.7175925925925926, 0.16666666666666666, 'X[16] <= -0.087\\ngini = 0.497\\nsamples = 313\\nvalue = [233, 272]'),\n",
       " Text(0.7152777777777778, 0.05555555555555555, 'gini = 0.353\\nsamples = 106\\nvalue = [38, 128]'),\n",
       " Text(0.7199074074074074, 0.05555555555555555, 'gini = 0.489\\nsamples = 207\\nvalue = [195, 144]'),\n",
       " Text(0.7268518518518519, 0.16666666666666666, 'X[27] <= 3.534\\ngini = 0.316\\nsamples = 1424\\nvalue = [1819, 445]'),\n",
       " Text(0.7245370370370371, 0.05555555555555555, 'gini = 0.276\\nsamples = 1357\\nvalue = [1801, 357]'),\n",
       " Text(0.7291666666666666, 0.05555555555555555, 'gini = 0.282\\nsamples = 67\\nvalue = [18, 88]'),\n",
       " Text(0.8778935185185185, 0.7222222222222222, 'X[31] <= 3.5\\ngini = 0.495\\nsamples = 351611\\nvalue = [249380, 306684]'),\n",
       " Text(0.8055555555555556, 0.6111111111111112, 'X[53] <= 0.092\\ngini = 0.487\\nsamples = 308774\\nvalue = [204862, 283374]'),\n",
       " Text(0.7685185185185185, 0.5, 'X[46] <= -0.07\\ngini = 0.5\\nsamples = 166073\\nvalue = [129665, 132772]'),\n",
       " Text(0.75, 0.3888888888888889, 'X[10] <= 136.008\\ngini = 0.447\\nsamples = 29899\\nvalue = [31398, 15924]'),\n",
       " Text(0.7407407407407407, 0.2777777777777778, 'X[21] <= 0.077\\ngini = 0.314\\nsamples = 3930\\nvalue = [4982, 1210]'),\n",
       " Text(0.7361111111111112, 0.16666666666666666, 'X[38] <= 81.666\\ngini = 0.186\\nsamples = 1777\\nvalue = [2489, 289]'),\n",
       " Text(0.7337962962962963, 0.05555555555555555, 'gini = 0.097\\nsamples = 707\\nvalue = [1053, 57]'),\n",
       " Text(0.7384259259259259, 0.05555555555555555, 'gini = 0.239\\nsamples = 1070\\nvalue = [1436, 232]'),\n",
       " Text(0.7453703703703703, 0.16666666666666666, 'X[6] <= 0.011\\ngini = 0.394\\nsamples = 2153\\nvalue = [2493, 921]'),\n",
       " Text(0.7430555555555556, 0.05555555555555555, 'gini = 0.322\\nsamples = 1230\\nvalue = [1540, 389]'),\n",
       " Text(0.7476851851851852, 0.05555555555555555, 'gini = 0.46\\nsamples = 923\\nvalue = [953, 532]'),\n",
       " Text(0.7592592592592593, 0.2777777777777778, 'X[12] <= -0.185\\ngini = 0.46\\nsamples = 25969\\nvalue = [26416, 14714]'),\n",
       " Text(0.7546296296296297, 0.16666666666666666, 'X[21] <= -0.305\\ngini = 0.315\\nsamples = 2865\\nvalue = [3627, 882]'),\n",
       " Text(0.7523148148148148, 0.05555555555555555, 'gini = 0.162\\nsamples = 944\\nvalue = [1333, 130]'),\n",
       " Text(0.7569444444444444, 0.05555555555555555, 'gini = 0.372\\nsamples = 1921\\nvalue = [2294, 752]'),\n",
       " Text(0.7638888888888888, 0.16666666666666666, 'X[16] <= 0.066\\ngini = 0.47\\nsamples = 23104\\nvalue = [22789, 13832]'),\n",
       " Text(0.7615740740740741, 0.05555555555555555, 'gini = 0.441\\nsamples = 14377\\nvalue = [15338, 7490]'),\n",
       " Text(0.7662037037037037, 0.05555555555555555, 'gini = 0.497\\nsamples = 8727\\nvalue = [7451, 6342]'),\n",
       " Text(0.7870370370370371, 0.3888888888888889, 'X[2] <= 3.5\\ngini = 0.496\\nsamples = 136174\\nvalue = [98267, 116848]'),\n",
       " Text(0.7777777777777778, 0.2777777777777778, 'X[28] <= 0.162\\ngini = 0.483\\nsamples = 104597\\nvalue = [67566, 97573]'),\n",
       " Text(0.7731481481481481, 0.16666666666666666, 'X[25] <= -0.042\\ngini = 0.473\\nsamples = 89179\\nvalue = [54024, 86945]'),\n",
       " Text(0.7708333333333334, 0.05555555555555555, 'gini = 0.499\\nsamples = 29649\\nvalue = [22431, 24657]'),\n",
       " Text(0.7754629629629629, 0.05555555555555555, 'gini = 0.447\\nsamples = 59530\\nvalue = [31593, 62288]'),\n",
       " Text(0.7824074074074074, 0.16666666666666666, 'X[52] <= 0.318\\ngini = 0.493\\nsamples = 15418\\nvalue = [13542, 10628]'),\n",
       " Text(0.7800925925925926, 0.05555555555555555, 'gini = 0.499\\nsamples = 12335\\nvalue = [10020, 9264]'),\n",
       " Text(0.7847222222222222, 0.05555555555555555, 'gini = 0.402\\nsamples = 3083\\nvalue = [3522, 1364]'),\n",
       " Text(0.7962962962962963, 0.2777777777777778, 'X[29] <= -0.085\\ngini = 0.474\\nsamples = 31577\\nvalue = [30701, 19275]'),\n",
       " Text(0.7916666666666666, 0.16666666666666666, 'X[38] <= 429.914\\ngini = 0.499\\nsamples = 4452\\nvalue = [3399, 3681]'),\n",
       " Text(0.7893518518518519, 0.05555555555555555, 'gini = 0.433\\nsamples = 928\\nvalue = [1006, 468]'),\n",
       " Text(0.7939814814814815, 0.05555555555555555, 'gini = 0.489\\nsamples = 3524\\nvalue = [2393, 3213]'),\n",
       " Text(0.8009259259259259, 0.16666666666666666, 'X[10] <= 3479.149\\ngini = 0.463\\nsamples = 27125\\nvalue = [27302, 15594]'),\n",
       " Text(0.7986111111111112, 0.05555555555555555, 'gini = 0.442\\nsamples = 22132\\nvalue = [23475, 11578]'),\n",
       " Text(0.8032407407407407, 0.05555555555555555, 'gini = 0.5\\nsamples = 4993\\nvalue = [3827, 4016]'),\n",
       " Text(0.8425925925925926, 0.5, 'X[23] <= -0.078\\ngini = 0.444\\nsamples = 142701\\nvalue = [75197, 150602]'),\n",
       " Text(0.8240740740740741, 0.3888888888888889, 'X[17] <= 2.039\\ngini = 0.484\\nsamples = 68729\\nvalue = [44723, 64338]'),\n",
       " Text(0.8148148148148148, 0.2777777777777778, 'X[30] <= -1.363\\ngini = 0.497\\nsamples = 58639\\nvalue = [42794, 50314]'),\n",
       " Text(0.8101851851851852, 0.16666666666666666, 'X[11] <= 1.369\\ngini = 0.464\\nsamples = 7730\\nvalue = [7822, 4501]'),\n",
       " Text(0.8078703703703703, 0.05555555555555555, 'gini = 0.441\\nsamples = 6719\\nvalue = [7205, 3512]'),\n",
       " Text(0.8125, 0.05555555555555555, 'gini = 0.473\\nsamples = 1011\\nvalue = [617, 989]'),\n",
       " Text(0.8194444444444444, 0.16666666666666666, 'X[21] <= -0.191\\ngini = 0.491\\nsamples = 50909\\nvalue = [34972, 45813]'),\n",
       " Text(0.8171296296296297, 0.05555555555555555, 'gini = 0.494\\nsamples = 9598\\nvalue = [8449, 6809]'),\n",
       " Text(0.8217592592592593, 0.05555555555555555, 'gini = 0.482\\nsamples = 41311\\nvalue = [26523, 39004]'),\n",
       " Text(0.8333333333333334, 0.2777777777777778, 'X[12] <= -0.256\\ngini = 0.213\\nsamples = 10090\\nvalue = [1929, 14024]'),\n",
       " Text(0.8287037037037037, 0.16666666666666666, 'X[8] <= 161576.898\\ngini = 0.131\\nsamples = 8226\\nvalue = [917, 12058]'),\n",
       " Text(0.8263888888888888, 0.05555555555555555, 'gini = 0.453\\nsamples = 208\\nvalue = [213, 113]'),\n",
       " Text(0.8310185185185185, 0.05555555555555555, 'gini = 0.105\\nsamples = 8018\\nvalue = [704, 11945]'),\n",
       " Text(0.8379629629629629, 0.16666666666666666, 'X[32] <= 3.109\\ngini = 0.449\\nsamples = 1864\\nvalue = [1012, 1966]'),\n",
       " Text(0.8356481481481481, 0.05555555555555555, 'gini = 0.491\\nsamples = 441\\nvalue = [413, 313]'),\n",
       " Text(0.8402777777777778, 0.05555555555555555, 'gini = 0.39\\nsamples = 1423\\nvalue = [599, 1653]'),\n",
       " Text(0.8611111111111112, 0.3888888888888889, 'X[32] <= 4.276\\ngini = 0.386\\nsamples = 73972\\nvalue = [30474, 86264]'),\n",
       " Text(0.8518518518518519, 0.2777777777777778, 'X[46] <= 0.548\\ngini = 0.311\\nsamples = 35586\\nvalue = [10811, 45289]'),\n",
       " Text(0.8472222222222222, 0.16666666666666666, 'X[39] <= -0.054\\ngini = 0.386\\nsamples = 21088\\nvalue = [8705, 24597]'),\n",
       " Text(0.8449074074074074, 0.05555555555555555, 'gini = 0.406\\nsamples = 570\\nvalue = [629, 249]'),\n",
       " Text(0.8495370370370371, 0.05555555555555555, 'gini = 0.374\\nsamples = 20518\\nvalue = [8076, 24348]'),\n",
       " Text(0.8564814814814815, 0.16666666666666666, 'X[45] <= 1.555\\ngini = 0.168\\nsamples = 14498\\nvalue = [2106, 20692]'),\n",
       " Text(0.8541666666666666, 0.05555555555555555, 'gini = 0.141\\nsamples = 13901\\nvalue = [1664, 20174]'),\n",
       " Text(0.8587962962962963, 0.05555555555555555, 'gini = 0.497\\nsamples = 597\\nvalue = [442, 518]'),\n",
       " Text(0.8703703703703703, 0.2777777777777778, 'X[28] <= 0.274\\ngini = 0.438\\nsamples = 38386\\nvalue = [19663, 40975]'),\n",
       " Text(0.8657407407407407, 0.16666666666666666, 'X[1] <= -1.308\\ngini = 0.421\\nsamples = 33595\\nvalue = [15983, 37016]'),\n",
       " Text(0.8634259259259259, 0.05555555555555555, 'gini = 0.5\\nsamples = 3921\\nvalue = [3019, 3206]'),\n",
       " Text(0.8680555555555556, 0.05555555555555555, 'gini = 0.401\\nsamples = 29674\\nvalue = [12964, 33810]'),\n",
       " Text(0.875, 0.16666666666666666, 'X[8] <= 27386.733\\ngini = 0.499\\nsamples = 4791\\nvalue = [3680, 3959]'),\n",
       " Text(0.8726851851851852, 0.05555555555555555, 'gini = 0.493\\nsamples = 3288\\nvalue = [2934, 2305]'),\n",
       " Text(0.8773148148148148, 0.05555555555555555, 'gini = 0.428\\nsamples = 1503\\nvalue = [746, 1654]'),\n",
       " Text(0.9502314814814815, 0.6111111111111112, 'X[11] <= 1.645\\ngini = 0.451\\nsamples = 42837\\nvalue = [44518, 23310]'),\n",
       " Text(0.9166666666666666, 0.5, 'X[2] <= 3.5\\ngini = 0.445\\nsamples = 42105\\nvalue = [44368, 22307]'),\n",
       " Text(0.8981481481481481, 0.3888888888888889, 'X[46] <= 0.366\\ngini = 0.479\\nsamples = 26056\\nvalue = [24822, 16299]'),\n",
       " Text(0.8888888888888888, 0.2777777777777778, 'X[45] <= -0.093\\ngini = 0.468\\nsamples = 22865\\nvalue = [22681, 13470]'),\n",
       " Text(0.8842592592592593, 0.16666666666666666, 'X[14] <= 0.053\\ngini = 0.323\\nsamples = 2477\\nvalue = [3085, 782]'),\n",
       " Text(0.8819444444444444, 0.05555555555555555, 'gini = 0.254\\nsamples = 1883\\nvalue = [2482, 436]'),\n",
       " Text(0.8865740740740741, 0.05555555555555555, 'gini = 0.463\\nsamples = 594\\nvalue = [603, 346]'),\n",
       " Text(0.8935185185185185, 0.16666666666666666, 'X[5] <= 0.007\\ngini = 0.477\\nsamples = 20388\\nvalue = [19596, 12688]'),\n",
       " Text(0.8912037037037037, 0.05555555555555555, 'gini = 0.43\\nsamples = 7545\\nvalue = [8201, 3725]'),\n",
       " Text(0.8958333333333334, 0.05555555555555555, 'gini = 0.493\\nsamples = 12843\\nvalue = [11395, 8963]'),\n",
       " Text(0.9074074074074074, 0.2777777777777778, 'X[16] <= -0.054\\ngini = 0.49\\nsamples = 3191\\nvalue = [2141, 2829]'),\n",
       " Text(0.9027777777777778, 0.16666666666666666, 'X[41] <= -0.059\\ngini = 0.489\\nsamples = 1836\\nvalue = [1628, 1210]'),\n",
       " Text(0.9004629629629629, 0.05555555555555555, 'gini = 0.298\\nsamples = 607\\nvalue = [782, 174]'),\n",
       " Text(0.9050925925925926, 0.05555555555555555, 'gini = 0.495\\nsamples = 1229\\nvalue = [846, 1036]'),\n",
       " Text(0.9120370370370371, 0.16666666666666666, 'X[30] <= -1.08\\ngini = 0.365\\nsamples = 1355\\nvalue = [513, 1619]'),\n",
       " Text(0.9097222222222222, 0.05555555555555555, 'gini = 0.473\\nsamples = 223\\nvalue = [213, 133]'),\n",
       " Text(0.9143518518518519, 0.05555555555555555, 'gini = 0.28\\nsamples = 1132\\nvalue = [300, 1486]'),\n",
       " Text(0.9351851851851852, 0.3888888888888889, 'X[10] <= 2627.266\\ngini = 0.36\\nsamples = 16049\\nvalue = [19546, 6008]'),\n",
       " Text(0.9259259259259259, 0.2777777777777778, 'X[21] <= -0.145\\ngini = 0.274\\nsamples = 10449\\nvalue = [13913, 2720]'),\n",
       " Text(0.9212962962962963, 0.16666666666666666, 'X[53] <= 0.027\\ngini = 0.188\\nsamples = 5487\\nvalue = [7769, 911]'),\n",
       " Text(0.9189814814814815, 0.05555555555555555, 'gini = 0.132\\nsamples = 3102\\nvalue = [4562, 350]'),\n",
       " Text(0.9236111111111112, 0.05555555555555555, 'gini = 0.253\\nsamples = 2385\\nvalue = [3207, 561]'),\n",
       " Text(0.9305555555555556, 0.16666666666666666, 'X[30] <= -0.654\\ngini = 0.351\\nsamples = 4962\\nvalue = [6144, 1809]'),\n",
       " Text(0.9282407407407407, 0.05555555555555555, 'gini = 0.278\\nsamples = 2602\\nvalue = [3442, 691]'),\n",
       " Text(0.9328703703703703, 0.05555555555555555, 'gini = 0.414\\nsamples = 2360\\nvalue = [2702, 1118]'),\n",
       " Text(0.9444444444444444, 0.2777777777777778, 'X[36] <= 14961.711\\ngini = 0.465\\nsamples = 5600\\nvalue = [5633, 3288]'),\n",
       " Text(0.9398148148148148, 0.16666666666666666, 'X[32] <= 3.403\\ngini = 0.358\\nsamples = 2457\\nvalue = [3044, 929]'),\n",
       " Text(0.9375, 0.05555555555555555, 'gini = 0.405\\nsamples = 1643\\nvalue = [1869, 736]'),\n",
       " Text(0.9421296296296297, 0.05555555555555555, 'gini = 0.242\\nsamples = 814\\nvalue = [1175, 193]'),\n",
       " Text(0.9490740740740741, 0.16666666666666666, 'X[25] <= 0.017\\ngini = 0.499\\nsamples = 3143\\nvalue = [2589, 2359]'),\n",
       " Text(0.9467592592592593, 0.05555555555555555, 'gini = 0.479\\nsamples = 1824\\nvalue = [1719, 1139]'),\n",
       " Text(0.9513888888888888, 0.05555555555555555, 'gini = 0.486\\nsamples = 1319\\nvalue = [870, 1220]'),\n",
       " Text(0.9837962962962963, 0.5, 'X[29] <= 3.338\\ngini = 0.226\\nsamples = 732\\nvalue = [150, 1003]'),\n",
       " Text(0.9722222222222222, 0.3888888888888889, 'X[36] <= 93569.609\\ngini = 0.366\\nsamples = 376\\nvalue = [141, 444]'),\n",
       " Text(0.9629629629629629, 0.2777777777777778, 'X[24] <= -0.107\\ngini = 0.282\\nsamples = 330\\nvalue = [86, 421]'),\n",
       " Text(0.9583333333333334, 0.16666666666666666, 'X[43] <= 0.414\\ngini = 0.5\\nsamples = 44\\nvalue = [36, 36]'),\n",
       " Text(0.9560185185185185, 0.05555555555555555, 'gini = 0.083\\nsamples = 14\\nvalue = [22, 1]'),\n",
       " Text(0.9606481481481481, 0.05555555555555555, 'gini = 0.408\\nsamples = 30\\nvalue = [14, 35]'),\n",
       " Text(0.9675925925925926, 0.16666666666666666, 'X[22] <= -0.104\\ngini = 0.203\\nsamples = 286\\nvalue = [50, 385]'),\n",
       " Text(0.9652777777777778, 0.05555555555555555, 'gini = 0.473\\nsamples = 8\\nvalue = [8, 5]'),\n",
       " Text(0.9699074074074074, 0.05555555555555555, 'gini = 0.179\\nsamples = 278\\nvalue = [42, 380]'),\n",
       " Text(0.9814814814814815, 0.2777777777777778, 'X[5] <= 0.003\\ngini = 0.416\\nsamples = 46\\nvalue = [55, 23]'),\n",
       " Text(0.9768518518518519, 0.16666666666666666, 'X[20] <= 3.482\\ngini = 0.231\\nsamples = 36\\nvalue = [52, 8]'),\n",
       " Text(0.9745370370370371, 0.05555555555555555, 'gini = 0.0\\nsamples = 19\\nvalue = [32, 0]'),\n",
       " Text(0.9791666666666666, 0.05555555555555555, 'gini = 0.408\\nsamples = 17\\nvalue = [20, 8]'),\n",
       " Text(0.9861111111111112, 0.16666666666666666, 'X[17] <= 2.374\\ngini = 0.278\\nsamples = 10\\nvalue = [3, 15]'),\n",
       " Text(0.9837962962962963, 0.05555555555555555, 'gini = 0.0\\nsamples = 5\\nvalue = [0, 9]'),\n",
       " Text(0.9884259259259259, 0.05555555555555555, 'gini = 0.444\\nsamples = 5\\nvalue = [3, 6]'),\n",
       " Text(0.9953703703703703, 0.3888888888888889, 'X[3] <= 2.19\\ngini = 0.031\\nsamples = 356\\nvalue = [9, 559]'),\n",
       " Text(0.9930555555555556, 0.2777777777777778, 'X[26] <= 1.849\\ngini = 0.018\\nsamples = 349\\nvalue = [5, 552]'),\n",
       " Text(0.9907407407407407, 0.16666666666666666, 'gini = 0.375\\nsamples = 7\\nvalue = [2, 6]'),\n",
       " Text(0.9953703703703703, 0.16666666666666666, 'X[46] <= 2.319\\ngini = 0.011\\nsamples = 342\\nvalue = [3, 546]'),\n",
       " Text(0.9930555555555556, 0.05555555555555555, 'gini = 0.049\\nsamples = 78\\nvalue = [3, 116]'),\n",
       " Text(0.9976851851851852, 0.05555555555555555, 'gini = 0.0\\nsamples = 264\\nvalue = [0, 430]'),\n",
       " Text(0.9976851851851852, 0.2777777777777778, 'gini = 0.463\\nsamples = 7\\nvalue = [4, 7]')]"
      ]
     },
     "execution_count": 39,
     "metadata": {},
     "output_type": "execute_result"
    },
    {
     "data": {
      "image/png": "[encoded data removed]",
      "text/plain": [
       "<Figure size 432x288 with 1 Axes>"
      ]
     },
     "metadata": {},
     "output_type": "display_data"
    }
   ],
   "source": [
    "from sklearn.tree import plot_tree\n",
    "\n",
    "plot_tree(cls_all_balance[\"Random Forest\"].estimators_[0])"
   ]
  },
  {
   "cell_type": "code",
   "execution_count": 11,
   "metadata": {
    "pycharm": {
     "name": "#%%\n"
    }
   },
   "outputs": [
    {
     "data": {
      "text/html": [
       "<div>\n",
       "<style scoped>\n",
       "    .dataframe tbody tr th:only-of-type {\n",
       "        vertical-align: middle;\n",
       "    }\n",
       "\n",
       "    .dataframe tbody tr th {\n",
       "        vertical-align: top;\n",
       "    }\n",
       "\n",
       "    .dataframe thead th {\n",
       "        text-align: right;\n",
       "    }\n",
       "</style>\n",
       "<table border=\"1\" class=\"dataframe\">\n",
       "  <thead>\n",
       "    <tr style=\"text-align: right;\">\n",
       "      <th></th>\n",
       "      <th>0</th>\n",
       "      <th>imp</th>\n",
       "    </tr>\n",
       "  </thead>\n",
       "  <tbody>\n",
       "    <tr>\n",
       "      <th>20</th>\n",
       "      <td>fast_cmin_norm_2</td>\n",
       "      <td>0.0134583369</td>\n",
       "    </tr>\n",
       "    <tr>\n",
       "      <th>0</th>\n",
       "      <td>skew_2</td>\n",
       "      <td>0.0127251303</td>\n",
       "    </tr>\n",
       "    <tr>\n",
       "      <th>29</th>\n",
       "      <td>abspow_cmin_norm_2</td>\n",
       "      <td>0.0117167907</td>\n",
       "    </tr>\n",
       "    <tr>\n",
       "      <th>27</th>\n",
       "      <td>bf_cmin_norm_2</td>\n",
       "      <td>0.0116435138</td>\n",
       "    </tr>\n",
       "    <tr>\n",
       "      <th>80</th>\n",
       "      <td>sf_cmin_norm_c3</td>\n",
       "      <td>0.0115823173</td>\n",
       "    </tr>\n",
       "    <tr>\n",
       "      <th>26</th>\n",
       "      <td>sf_cmin_norm_2</td>\n",
       "      <td>0.0114795171</td>\n",
       "    </tr>\n",
       "    <tr>\n",
       "      <th>9</th>\n",
       "      <td>bf_2</td>\n",
       "      <td>0.0114475152</td>\n",
       "    </tr>\n",
       "    <tr>\n",
       "      <th>3</th>\n",
       "      <td>hcomp_2</td>\n",
       "      <td>0.0113479653</td>\n",
       "    </tr>\n",
       "    <tr>\n",
       "      <th>16</th>\n",
       "      <td>hcomp_cmin_norm_2</td>\n",
       "      <td>0.0111919083</td>\n",
       "    </tr>\n",
       "    <tr>\n",
       "      <th>31</th>\n",
       "      <td>higuchi_cmin_norm_2</td>\n",
       "      <td>0.0110421177</td>\n",
       "    </tr>\n",
       "    <tr>\n",
       "      <th>54</th>\n",
       "      <td>skew_c3</td>\n",
       "      <td>0.0110057372</td>\n",
       "    </tr>\n",
       "    <tr>\n",
       "      <th>85</th>\n",
       "      <td>higuchi_cmin_norm_c3</td>\n",
       "      <td>0.0108045491</td>\n",
       "    </tr>\n",
       "    <tr>\n",
       "      <th>11</th>\n",
       "      <td>std_cmin_norm_2</td>\n",
       "      <td>0.0106360884</td>\n",
       "    </tr>\n",
       "    <tr>\n",
       "      <th>101</th>\n",
       "      <td>sf_pmin_norm_c3</td>\n",
       "      <td>0.0106070026</td>\n",
       "    </tr>\n",
       "    <tr>\n",
       "      <th>1</th>\n",
       "      <td>kurt_2</td>\n",
       "      <td>0.0105173244</td>\n",
       "    </tr>\n",
       "  </tbody>\n",
       "</table>\n",
       "</div>"
      ],
      "text/plain": [
       "                        0           imp\n",
       "20       fast_cmin_norm_2  0.0134583369\n",
       "0                  skew_2  0.0127251303\n",
       "29     abspow_cmin_norm_2  0.0117167907\n",
       "27         bf_cmin_norm_2  0.0116435138\n",
       "80        sf_cmin_norm_c3  0.0115823173\n",
       "26         sf_cmin_norm_2  0.0114795171\n",
       "9                    bf_2  0.0114475152\n",
       "3                 hcomp_2  0.0113479653\n",
       "16      hcomp_cmin_norm_2  0.0111919083\n",
       "31    higuchi_cmin_norm_2  0.0110421177\n",
       "54                skew_c3  0.0110057372\n",
       "85   higuchi_cmin_norm_c3  0.0108045491\n",
       "11        std_cmin_norm_2  0.0106360884\n",
       "101       sf_pmin_norm_c3  0.0106070026\n",
       "1                  kurt_2  0.0105173244"
      ]
     },
     "execution_count": 11,
     "metadata": {},
     "output_type": "execute_result"
    }
   ],
   "source": []
  },
  {
   "cell_type": "code",
   "execution_count": 11,
   "outputs": [
    {
     "data": {
      "text/plain": "                      0  imp\n66                 gf_2   76\n105      gf_pmin_norm_2   73\n28         bf_cmin_norm   61\n11                   gf   58\n10                   bf   58\n39      hcomp_pmin_norm   57\n59              hcomp_2   57\n9                    sf   57\n72    hcomp_cmin_norm_2   56\n56               skew_2   54\n67      std_cmin_norm_2   53\n83       bf_cmin_norm_2   52\n65                 bf_2   45\n4                 hcomp   45\n85   abspow_cmin_norm_2   44",
      "text/html": "<div>\n<style scoped>\n    .dataframe tbody tr th:only-of-type {\n        vertical-align: middle;\n    }\n\n    .dataframe tbody tr th {\n        vertical-align: top;\n    }\n\n    .dataframe thead th {\n        text-align: right;\n    }\n</style>\n<table border=\"1\" class=\"dataframe\">\n  <thead>\n    <tr style=\"text-align: right;\">\n      <th></th>\n      <th>0</th>\n      <th>imp</th>\n    </tr>\n  </thead>\n  <tbody>\n    <tr>\n      <th>66</th>\n      <td>gf_2</td>\n      <td>76</td>\n    </tr>\n    <tr>\n      <th>105</th>\n      <td>gf_pmin_norm_2</td>\n      <td>73</td>\n    </tr>\n    <tr>\n      <th>28</th>\n      <td>bf_cmin_norm</td>\n      <td>61</td>\n    </tr>\n    <tr>\n      <th>11</th>\n      <td>gf</td>\n      <td>58</td>\n    </tr>\n    <tr>\n      <th>10</th>\n      <td>bf</td>\n      <td>58</td>\n    </tr>\n    <tr>\n      <th>39</th>\n      <td>hcomp_pmin_norm</td>\n      <td>57</td>\n    </tr>\n    <tr>\n      <th>59</th>\n      <td>hcomp_2</td>\n      <td>57</td>\n    </tr>\n    <tr>\n      <th>9</th>\n      <td>sf</td>\n      <td>57</td>\n    </tr>\n    <tr>\n      <th>72</th>\n      <td>hcomp_cmin_norm_2</td>\n      <td>56</td>\n    </tr>\n    <tr>\n      <th>56</th>\n      <td>skew_2</td>\n      <td>54</td>\n    </tr>\n    <tr>\n      <th>67</th>\n      <td>std_cmin_norm_2</td>\n      <td>53</td>\n    </tr>\n    <tr>\n      <th>83</th>\n      <td>bf_cmin_norm_2</td>\n      <td>52</td>\n    </tr>\n    <tr>\n      <th>65</th>\n      <td>bf_2</td>\n      <td>45</td>\n    </tr>\n    <tr>\n      <th>4</th>\n      <td>hcomp</td>\n      <td>45</td>\n    </tr>\n    <tr>\n      <th>85</th>\n      <td>abspow_cmin_norm_2</td>\n      <td>44</td>\n    </tr>\n  </tbody>\n</table>\n</div>"
     },
     "execution_count": 11,
     "metadata": {},
     "output_type": "execute_result"
    }
   ],
   "source": [],
   "metadata": {
    "collapsed": false,
    "pycharm": {
     "name": "#%%\n"
    }
   }
  },
  {
   "cell_type": "code",
   "execution_count": null,
   "outputs": [],
   "source": [],
   "metadata": {
    "collapsed": false,
    "pycharm": {
     "name": "#%%\n",
     "is_executing": true
    }
   }
  },
  {
   "cell_type": "code",
   "execution_count": null,
   "metadata": {
    "pycharm": {
     "name": "#%%\n",
     "is_executing": true
    }
   },
   "outputs": [],
   "source": [
    "imp = pd.DataFrame(cls_all['LGBM'].feature_name_)\n",
    "imp['imp'] = cls_all[\"LGBM\"].feature_importances_\n",
    "imp = imp.sort_values(by=['imp'], ascending=False)\n",
    "imp.head(15)"
   ]
  },
  {
   "cell_type": "code",
   "execution_count": null,
   "metadata": {
    "pycharm": {
     "name": "#%%\n",
     "is_executing": true
    }
   },
   "outputs": [],
   "source": [
    "imp = pd.DataFrame(cls_all_12['LGBM'].feature_name_)\n",
    "imp['imp'] = cls_all_12[\"LGBM\"].feature_importances_\n",
    "imp = imp.sort_values(by=['imp'], ascending=False)\n",
    "imp.head(20)"
   ]
  },
  {
   "cell_type": "code",
   "execution_count": 9,
   "metadata": {
    "pycharm": {
     "name": "#%%\n"
    }
   },
   "outputs": [],
   "source": [
    "subjects = ['396', '402', '406', '415', '416']\n",
    "feat_avg_new = get_all_feat_avg_channels(subjects=subjects)\n",
    "feat_all_eog2_new = get_all_feat_eog('2', subjects=subjects)\n",
    "clear_output()\n",
    "feat_eog2_avg_new = pd.concat([feat_avg_new, feat_all_eog2_new.iloc[:, 2:].add_suffix('_2')], axis=1)"
   ]
  },
  {
   "cell_type": "code",
   "execution_count": 10,
   "metadata": {
    "pycharm": {
     "name": "#%%\n"
    }
   },
   "outputs": [],
   "source": [
    "feat_avg_396_new = get_all_feat_avg_channels(subjects=['398'])\n",
    "feat_eog2_396_new = get_all_feat_eog('2', subjects=['398'])\n",
    "clear_output()\n",
    "feat_eog2_avg_396 = pd.concat([feat_avg_396_new, feat_eog2_396_new.iloc[:, 2:].add_suffix('_2')], axis=1)"
   ]
  },
  {
   "cell_type": "code",
   "execution_count": null,
   "metadata": {
    "pycharm": {
     "is_executing": true,
     "name": "#%%\n"
    }
   },
   "outputs": [],
   "source": [
    "y_all_bi = get_all_y_multi_channel(subjects=subjects)\n",
    "y_396 = get_all_y_multi_channel(subjects=['398'])\n",
    "clear_output()\n",
    "cls_all, pred_details = plt_cls(feat_eog2_avg_new, y_all_bi, stratify=True)"
   ]
  },
  {
   "cell_type": "code",
   "execution_count": 18,
   "metadata": {
    "pycharm": {
     "name": "#%%\n"
    }
   },
   "outputs": [
    {
     "data": {
      "text/html": [
       "<div>\n",
       "<style scoped>\n",
       "    .dataframe tbody tr th:only-of-type {\n",
       "        vertical-align: middle;\n",
       "    }\n",
       "\n",
       "    .dataframe tbody tr th {\n",
       "        vertical-align: top;\n",
       "    }\n",
       "\n",
       "    .dataframe thead th {\n",
       "        text-align: right;\n",
       "    }\n",
       "</style>\n",
       "<table border=\"1\" class=\"dataframe\">\n",
       "  <thead>\n",
       "    <tr style=\"text-align: right;\">\n",
       "      <th></th>\n",
       "      <th>0</th>\n",
       "      <th>imp</th>\n",
       "    </tr>\n",
       "  </thead>\n",
       "  <tbody>\n",
       "    <tr>\n",
       "      <th>10</th>\n",
       "      <td>sf_cmin_norm</td>\n",
       "      <td>0.0778408220</td>\n",
       "    </tr>\n",
       "    <tr>\n",
       "      <th>13</th>\n",
       "      <td>abspow_cmin_norm</td>\n",
       "      <td>0.0635889002</td>\n",
       "    </tr>\n",
       "    <tr>\n",
       "      <th>30</th>\n",
       "      <td>abspow_cmin_norm_2</td>\n",
       "      <td>0.0602879116</td>\n",
       "    </tr>\n",
       "    <tr>\n",
       "      <th>5</th>\n",
       "      <td>sf</td>\n",
       "      <td>0.0595316556</td>\n",
       "    </tr>\n",
       "    <tr>\n",
       "      <th>20</th>\n",
       "      <td>hcomp_2</td>\n",
       "      <td>0.0446756419</td>\n",
       "    </tr>\n",
       "    <tr>\n",
       "      <th>26</th>\n",
       "      <td>ag_cmin_norm_2</td>\n",
       "      <td>0.0441525952</td>\n",
       "    </tr>\n",
       "    <tr>\n",
       "      <th>25</th>\n",
       "      <td>abspow_2</td>\n",
       "      <td>0.0422440379</td>\n",
       "    </tr>\n",
       "    <tr>\n",
       "      <th>35</th>\n",
       "      <td>gf_pmin_norm_2</td>\n",
       "      <td>0.0409952709</td>\n",
       "    </tr>\n",
       "    <tr>\n",
       "      <th>27</th>\n",
       "      <td>sf_cmin_norm_2</td>\n",
       "      <td>0.0396580261</td>\n",
       "    </tr>\n",
       "    <tr>\n",
       "      <th>17</th>\n",
       "      <td>gf_pmin_norm</td>\n",
       "      <td>0.0341667186</td>\n",
       "    </tr>\n",
       "    <tr>\n",
       "      <th>23</th>\n",
       "      <td>bf_2</td>\n",
       "      <td>0.0337471038</td>\n",
       "    </tr>\n",
       "    <tr>\n",
       "      <th>32</th>\n",
       "      <td>ag_pmin_norm_2</td>\n",
       "      <td>0.0316617448</td>\n",
       "    </tr>\n",
       "    <tr>\n",
       "      <th>36</th>\n",
       "      <td>abspow_pmin_norm_2</td>\n",
       "      <td>0.0287833244</td>\n",
       "    </tr>\n",
       "    <tr>\n",
       "      <th>8</th>\n",
       "      <td>hcomp_cmin_norm</td>\n",
       "      <td>0.0253629675</td>\n",
       "    </tr>\n",
       "    <tr>\n",
       "      <th>22</th>\n",
       "      <td>sf_2</td>\n",
       "      <td>0.0251063820</td>\n",
       "    </tr>\n",
       "    <tr>\n",
       "      <th>24</th>\n",
       "      <td>gf_2</td>\n",
       "      <td>0.0245827394</td>\n",
       "    </tr>\n",
       "    <tr>\n",
       "      <th>16</th>\n",
       "      <td>bf_pmin_norm</td>\n",
       "      <td>0.0244171254</td>\n",
       "    </tr>\n",
       "    <tr>\n",
       "      <th>7</th>\n",
       "      <td>gf</td>\n",
       "      <td>0.0237006044</td>\n",
       "    </tr>\n",
       "    <tr>\n",
       "      <th>4</th>\n",
       "      <td>ag</td>\n",
       "      <td>0.0230989231</td>\n",
       "    </tr>\n",
       "    <tr>\n",
       "      <th>29</th>\n",
       "      <td>gf_cmin_norm_2</td>\n",
       "      <td>0.0221738482</td>\n",
       "    </tr>\n",
       "  </tbody>\n",
       "</table>\n",
       "</div>"
      ],
      "text/plain": [
       "                     0           imp\n",
       "10        sf_cmin_norm  0.0778408220\n",
       "13    abspow_cmin_norm  0.0635889002\n",
       "30  abspow_cmin_norm_2  0.0602879116\n",
       "5                   sf  0.0595316556\n",
       "20             hcomp_2  0.0446756419\n",
       "26      ag_cmin_norm_2  0.0441525952\n",
       "25            abspow_2  0.0422440379\n",
       "35      gf_pmin_norm_2  0.0409952709\n",
       "27      sf_cmin_norm_2  0.0396580261\n",
       "17        gf_pmin_norm  0.0341667186\n",
       "23                bf_2  0.0337471038\n",
       "32      ag_pmin_norm_2  0.0316617448\n",
       "36  abspow_pmin_norm_2  0.0287833244\n",
       "8      hcomp_cmin_norm  0.0253629675\n",
       "22                sf_2  0.0251063820\n",
       "24                gf_2  0.0245827394\n",
       "16        bf_pmin_norm  0.0244171254\n",
       "7                   gf  0.0237006044\n",
       "4                   ag  0.0230989231\n",
       "29      gf_cmin_norm_2  0.0221738482"
      ]
     },
     "execution_count": 18,
     "metadata": {},
     "output_type": "execute_result"
    }
   ],
   "source": [
    "imp = pd.DataFrame(cls_all['LGBM'].feature_name_)\n",
    "imp['imp'] = cls_all[\"Random Forest\"].feature_importances_\n",
    "imp = imp.sort_values(by=['imp'], ascending=False)\n",
    "imp.head(20)"
   ]
  },
  {
   "cell_type": "code",
   "execution_count": 19,
   "metadata": {
    "pycharm": {
     "name": "#%%\n"
    }
   },
   "outputs": [
    {
     "data": {
      "text/plain": [
       "146.0"
      ]
     },
     "execution_count": 19,
     "metadata": {},
     "output_type": "execute_result"
    }
   ],
   "source": [
    "# sanity check\n",
    "feat_data = feat_eog2_avg_new.iloc[:, 2:]\n",
    "feat_data = feat_data[cls_all['LGBM'].feature_name_]\n",
    "y_try = cls_all[\"Random Forest\"].predict(feat_data)\n",
    "y_try.sum()"
   ]
  },
  {
   "cell_type": "code",
   "execution_count": 21,
   "metadata": {
    "pycharm": {
     "name": "#%%\n"
    }
   },
   "outputs": [
    {
     "data": {
      "text/plain": [
       "37"
      ]
     },
     "execution_count": 21,
     "metadata": {},
     "output_type": "execute_result"
    }
   ],
   "source": [
    "len(cls_all['LGBM'].feature_name_)"
   ]
  },
  {
   "cell_type": "code",
   "execution_count": null,
   "metadata": {
    "pycharm": {
     "name": "#%%\n",
     "is_executing": true
    }
   },
   "outputs": [],
   "source": [
    "feat_eog2_avg_396_fast"
   ]
  },
  {
   "cell_type": "code",
   "execution_count": null,
   "metadata": {
    "pycharm": {
     "name": "#%%\n",
     "is_executing": true
    }
   },
   "outputs": [],
   "source": [
    "feat_over"
   ]
  },
  {
   "cell_type": "code",
   "execution_count": null,
   "metadata": {
    "pycharm": {
     "name": "#%%\n",
     "is_executing": true
    }
   },
   "outputs": [],
   "source": [
    "y_pred_rf.T[:67167]"
   ]
  },
  {
   "cell_type": "code",
   "execution_count": 40,
   "metadata": {
    "pycharm": {
     "name": "#%%\n"
    }
   },
   "outputs": [
    {
     "name": "stderr",
     "output_type": "stream",
     "text": [
      "ipynb.fs.defs.yasa_model:94: RuntimeWarning: invalid value encountered in double_scalars\n"
     ]
    },
    {
     "ename": "IndexError",
     "evalue": "invalid index to scalar variable.",
     "output_type": "error",
     "traceback": [
      "\u001B[1;31m---------------------------------------------------------------------------\u001B[0m",
      "\u001B[1;31mIndexError\u001B[0m                                Traceback (most recent call last)",
      "\u001B[1;32m~\\AppData\\Local\\Temp/ipykernel_16404/1648265612.py\u001B[0m in \u001B[0;36m<module>\u001B[1;34m\u001B[0m\n\u001B[0;32m      8\u001B[0m \u001B[1;32mfor\u001B[0m \u001B[0mi\u001B[0m\u001B[1;33m,\u001B[0m \u001B[1;33m(\u001B[0m\u001B[0mkey\u001B[0m\u001B[1;33m,\u001B[0m \u001B[0mclassifier\u001B[0m\u001B[1;33m)\u001B[0m \u001B[1;32min\u001B[0m \u001B[0menumerate\u001B[0m\u001B[1;33m(\u001B[0m\u001B[0mcls_all_balance\u001B[0m\u001B[1;33m.\u001B[0m\u001B[0mitems\u001B[0m\u001B[1;33m(\u001B[0m\u001B[1;33m)\u001B[0m\u001B[1;33m)\u001B[0m\u001B[1;33m:\u001B[0m\u001B[1;33m\u001B[0m\u001B[1;33m\u001B[0m\u001B[0m\n\u001B[0;32m      9\u001B[0m     \u001B[1;31m# y_pred = classifier.predict_proba(feat_396_data).T\u001B[0m\u001B[1;33m\u001B[0m\u001B[1;33m\u001B[0m\u001B[1;33m\u001B[0m\u001B[0m\n\u001B[1;32m---> 10\u001B[1;33m     \u001B[0my_pred\u001B[0m \u001B[1;33m=\u001B[0m \u001B[0my_pred_rf\u001B[0m\u001B[1;33m[\u001B[0m\u001B[1;36m1\u001B[0m\u001B[1;33m]\u001B[0m\u001B[1;33m.\u001B[0m\u001B[0mT\u001B[0m\u001B[1;33m[\u001B[0m\u001B[1;33m:\u001B[0m\u001B[1;36m67167\u001B[0m\u001B[1;33m]\u001B[0m\u001B[1;33m\u001B[0m\u001B[1;33m\u001B[0m\u001B[0m\n\u001B[0m\u001B[0;32m     11\u001B[0m     \u001B[0mcf_matrix\u001B[0m \u001B[1;33m=\u001B[0m \u001B[0mconfusion_matrix\u001B[0m\u001B[1;33m(\u001B[0m\u001B[0my_396_fast\u001B[0m\u001B[1;33m,\u001B[0m \u001B[1;33m[\u001B[0m\u001B[0mp\u001B[0m \u001B[1;33m>\u001B[0m \u001B[0mprob\u001B[0m \u001B[1;32mfor\u001B[0m \u001B[0mp\u001B[0m \u001B[1;32min\u001B[0m \u001B[0my_pred\u001B[0m\u001B[1;33m]\u001B[0m\u001B[1;33m)\u001B[0m\u001B[1;33m\u001B[0m\u001B[1;33m\u001B[0m\u001B[0m\n\u001B[0;32m     12\u001B[0m     \u001B[1;31m# y_pred = classifier.predict(feat_396_data)\u001B[0m\u001B[1;33m\u001B[0m\u001B[1;33m\u001B[0m\u001B[1;33m\u001B[0m\u001B[0m\n",
      "\u001B[1;31mIndexError\u001B[0m: invalid index to scalar variable."
     ]
    },
    {
     "data": {
      "image/png": "[encoded data removed]",
      "text/plain": [
       "<Figure size 720x360 with 2 Axes>"
      ]
     },
     "metadata": {},
     "output_type": "display_data"
    }
   ],
   "source": [
    "# over-sample subj prob 80\n",
    "prob=0.8\n",
    "f, axes = plt.subplots(1, len(cls_all_balance), figsize=(10, 5), sharey='row')\n",
    "\n",
    "# feat_396_data = feat_over.iloc[:, 2:]\n",
    "# feat_396_data = feat_396_data[cls_all_balance['LGBM'].feature_name_]\n",
    "\n",
    "for i, (key, classifier) in enumerate(cls_all_balance.items()):\n",
    "    # y_pred = classifier.predict_proba(feat_396_data).T\n",
    "    y_pred = y_pred_rf[1].T[:67167]\n",
    "    cf_matrix = confusion_matrix(y_396_fast, [p > prob for p in y_pred])\n",
    "    # y_pred = classifier.predict(feat_396_data)\n",
    "    # cf_matrix = confusion_matrix(y_396_fast, y_pred)\n",
    "    metrics = get_metrics(cf_matrix)\n",
    "    disp = ConfusionMatrixDisplay(cf_matrix)\n",
    "    disp.plot(ax=axes[i], xticks_rotation=45)\n",
    "    precision = '{0:.2f}'.format(metrics['precision'])\n",
    "    recall = '{0:.2f}'.format(metrics['recall'])\n",
    "    text = \"\"\"precision: {0}\n",
    "                  recall: {1}\"\"\".format(precision, recall)\n",
    "    axes[i].annotate(text, xy=(1, 0), xycoords='axes fraction', fontsize=16,\n",
    "                     xytext=(-60, -40), textcoords='offset points',\n",
    "                     ha='right', va='top')\n",
    "    disp.ax_.set_title(key)\n",
    "    disp.im_.colorbar.remove()\n",
    "    disp.ax_.set_xlabel('')\n",
    "    if i != 0:\n",
    "        disp.ax_.set_ylabel('')\n",
    "        y_pred_lgbm = y_pred\n",
    "    else:\n",
    "        y_pred_rf = y_pred\n",
    "\n",
    "f.text(0.45, 0.1, 'Predicted label', ha='left')\n",
    "plt.subplots_adjust(wspace=0.40, hspace=0.1)\n",
    "plt.show()"
   ]
  },
  {
   "cell_type": "code",
   "execution_count": 29,
   "metadata": {
    "pycharm": {
     "name": "#%%\n"
    }
   },
   "outputs": [
    {
     "ename": "KeyboardInterrupt",
     "evalue": "",
     "output_type": "error",
     "traceback": [
      "\u001B[1;31m---------------------------------------------------------------------------\u001B[0m",
      "\u001B[1;31mKeyboardInterrupt\u001B[0m                         Traceback (most recent call last)",
      "\u001B[1;32m~\\AppData\\Local\\Temp/ipykernel_17732/1870930587.py\u001B[0m in \u001B[0;36m<module>\u001B[1;34m\u001B[0m\n\u001B[0;32m     31\u001B[0m     \u001B[0mcurr_pred_details\u001B[0m \u001B[1;33m=\u001B[0m \u001B[0mpd\u001B[0m\u001B[1;33m.\u001B[0m\u001B[0mDataFrame\u001B[0m\u001B[1;33m(\u001B[0m\u001B[0mdata\u001B[0m\u001B[1;33m=\u001B[0m\u001B[0mX_test\u001B[0m\u001B[1;33m,\u001B[0m \u001B[0mcopy\u001B[0m\u001B[1;33m=\u001B[0m\u001B[1;32mTrue\u001B[0m\u001B[1;33m)\u001B[0m\u001B[1;33m\u001B[0m\u001B[1;33m\u001B[0m\u001B[0m\n\u001B[0;32m     32\u001B[0m     \u001B[0mcurr_pred_details\u001B[0m\u001B[1;33m[\u001B[0m\u001B[1;34m'pred'\u001B[0m\u001B[1;33m]\u001B[0m \u001B[1;33m=\u001B[0m \u001B[0my_pred\u001B[0m\u001B[1;33m[\u001B[0m\u001B[1;36m1\u001B[0m\u001B[1;33m]\u001B[0m\u001B[1;33m\u001B[0m\u001B[1;33m\u001B[0m\u001B[0m\n\u001B[1;32m---> 33\u001B[1;33m     \u001B[0mpred_details\u001B[0m\u001B[1;33m[\u001B[0m\u001B[0mkey\u001B[0m\u001B[1;33m]\u001B[0m \u001B[1;33m=\u001B[0m \u001B[0mcurr_pred_details\u001B[0m\u001B[1;33m\u001B[0m\u001B[1;33m\u001B[0m\u001B[0m\n\u001B[0m",
      "\u001B[1;32m~\\AppData\\Local\\Temp/ipykernel_17732/1870930587.py\u001B[0m in \u001B[0;36m<module>\u001B[1;34m\u001B[0m\n\u001B[0;32m     31\u001B[0m     \u001B[0mcurr_pred_details\u001B[0m \u001B[1;33m=\u001B[0m \u001B[0mpd\u001B[0m\u001B[1;33m.\u001B[0m\u001B[0mDataFrame\u001B[0m\u001B[1;33m(\u001B[0m\u001B[0mdata\u001B[0m\u001B[1;33m=\u001B[0m\u001B[0mX_test\u001B[0m\u001B[1;33m,\u001B[0m \u001B[0mcopy\u001B[0m\u001B[1;33m=\u001B[0m\u001B[1;32mTrue\u001B[0m\u001B[1;33m)\u001B[0m\u001B[1;33m\u001B[0m\u001B[1;33m\u001B[0m\u001B[0m\n\u001B[0;32m     32\u001B[0m     \u001B[0mcurr_pred_details\u001B[0m\u001B[1;33m[\u001B[0m\u001B[1;34m'pred'\u001B[0m\u001B[1;33m]\u001B[0m \u001B[1;33m=\u001B[0m \u001B[0my_pred\u001B[0m\u001B[1;33m[\u001B[0m\u001B[1;36m1\u001B[0m\u001B[1;33m]\u001B[0m\u001B[1;33m\u001B[0m\u001B[1;33m\u001B[0m\u001B[0m\n\u001B[1;32m---> 33\u001B[1;33m     \u001B[0mpred_details\u001B[0m\u001B[1;33m[\u001B[0m\u001B[0mkey\u001B[0m\u001B[1;33m]\u001B[0m \u001B[1;33m=\u001B[0m \u001B[0mcurr_pred_details\u001B[0m\u001B[1;33m\u001B[0m\u001B[1;33m\u001B[0m\u001B[0m\n\u001B[0m",
      "\u001B[1;32m_pydevd_bundle\\pydevd_cython_win32_37_64.pyx\u001B[0m in \u001B[0;36m_pydevd_bundle.pydevd_cython_win32_37_64.SafeCallWrapper.__call__\u001B[1;34m()\u001B[0m\n",
      "\u001B[1;32m_pydevd_bundle\\pydevd_cython_win32_37_64.pyx\u001B[0m in \u001B[0;36m_pydevd_bundle.pydevd_cython_win32_37_64.PyDBFrame.trace_dispatch\u001B[1;34m()\u001B[0m\n",
      "\u001B[1;32m_pydevd_bundle\\pydevd_cython_win32_37_64.pyx\u001B[0m in \u001B[0;36m_pydevd_bundle.pydevd_cython_win32_37_64.PyDBFrame.trace_dispatch\u001B[1;34m()\u001B[0m\n",
      "\u001B[1;32m_pydevd_bundle\\pydevd_cython_win32_37_64.pyx\u001B[0m in \u001B[0;36m_pydevd_bundle.pydevd_cython_win32_37_64.PyDBFrame.trace_dispatch\u001B[1;34m()\u001B[0m\n",
      "\u001B[1;32mC:\\Program Files\\JetBrains\\DataSpell 2021.3\\plugins\\python-ce\\helpers-pro\\jupyter_debug\\pydev_jupyter_plugin.py\u001B[0m in \u001B[0;36mstop\u001B[1;34m(plugin, pydb, frame, event, args, stop_info, arg, step_cmd)\u001B[0m\n\u001B[0;32m    163\u001B[0m         \u001B[0mframe\u001B[0m \u001B[1;33m=\u001B[0m \u001B[0msuspend_jupyter\u001B[0m\u001B[1;33m(\u001B[0m\u001B[0mmain_debugger\u001B[0m\u001B[1;33m,\u001B[0m \u001B[0mthread\u001B[0m\u001B[1;33m,\u001B[0m \u001B[0mframe\u001B[0m\u001B[1;33m,\u001B[0m \u001B[0mstep_cmd\u001B[0m\u001B[1;33m)\u001B[0m\u001B[1;33m\u001B[0m\u001B[1;33m\u001B[0m\u001B[0m\n\u001B[0;32m    164\u001B[0m         \u001B[1;32mif\u001B[0m \u001B[0mframe\u001B[0m\u001B[1;33m:\u001B[0m\u001B[1;33m\u001B[0m\u001B[1;33m\u001B[0m\u001B[0m\n\u001B[1;32m--> 165\u001B[1;33m             \u001B[0mmain_debugger\u001B[0m\u001B[1;33m.\u001B[0m\u001B[0mdo_wait_suspend\u001B[0m\u001B[1;33m(\u001B[0m\u001B[0mthread\u001B[0m\u001B[1;33m,\u001B[0m \u001B[0mframe\u001B[0m\u001B[1;33m,\u001B[0m \u001B[0mevent\u001B[0m\u001B[1;33m,\u001B[0m \u001B[0marg\u001B[0m\u001B[1;33m)\u001B[0m\u001B[1;33m\u001B[0m\u001B[1;33m\u001B[0m\u001B[0m\n\u001B[0m\u001B[0;32m    166\u001B[0m             \u001B[1;32mreturn\u001B[0m \u001B[1;32mTrue\u001B[0m\u001B[1;33m\u001B[0m\u001B[1;33m\u001B[0m\u001B[0m\n\u001B[0;32m    167\u001B[0m     \u001B[1;32mreturn\u001B[0m \u001B[1;32mFalse\u001B[0m\u001B[1;33m\u001B[0m\u001B[1;33m\u001B[0m\u001B[0m\n",
      "\u001B[1;32mC:\\Program Files\\JetBrains\\DataSpell 2021.3\\plugins\\python-ce\\helpers\\pydev\\pydevd.py\u001B[0m in \u001B[0;36mdo_wait_suspend\u001B[1;34m(self, thread, frame, event, arg, send_suspend_message, is_unhandled_exception)\u001B[0m\n\u001B[0;32m   1145\u001B[0m \u001B[1;33m\u001B[0m\u001B[0m\n\u001B[0;32m   1146\u001B[0m         \u001B[1;32mwith\u001B[0m \u001B[0mself\u001B[0m\u001B[1;33m.\u001B[0m\u001B[0m_threads_suspended_single_notification\u001B[0m\u001B[1;33m.\u001B[0m\u001B[0mnotify_thread_suspended\u001B[0m\u001B[1;33m(\u001B[0m\u001B[0mthread_id\u001B[0m\u001B[1;33m,\u001B[0m \u001B[0mstop_reason\u001B[0m\u001B[1;33m)\u001B[0m\u001B[1;33m:\u001B[0m\u001B[1;33m\u001B[0m\u001B[1;33m\u001B[0m\u001B[0m\n\u001B[1;32m-> 1147\u001B[1;33m             \u001B[0mself\u001B[0m\u001B[1;33m.\u001B[0m\u001B[0m_do_wait_suspend\u001B[0m\u001B[1;33m(\u001B[0m\u001B[0mthread\u001B[0m\u001B[1;33m,\u001B[0m \u001B[0mframe\u001B[0m\u001B[1;33m,\u001B[0m \u001B[0mevent\u001B[0m\u001B[1;33m,\u001B[0m \u001B[0marg\u001B[0m\u001B[1;33m,\u001B[0m \u001B[0msuspend_type\u001B[0m\u001B[1;33m,\u001B[0m \u001B[0mfrom_this_thread\u001B[0m\u001B[1;33m)\u001B[0m\u001B[1;33m\u001B[0m\u001B[1;33m\u001B[0m\u001B[0m\n\u001B[0m\u001B[0;32m   1148\u001B[0m \u001B[1;33m\u001B[0m\u001B[0m\n\u001B[0;32m   1149\u001B[0m     \u001B[1;32mdef\u001B[0m \u001B[0m_do_wait_suspend\u001B[0m\u001B[1;33m(\u001B[0m\u001B[0mself\u001B[0m\u001B[1;33m,\u001B[0m \u001B[0mthread\u001B[0m\u001B[1;33m,\u001B[0m \u001B[0mframe\u001B[0m\u001B[1;33m,\u001B[0m \u001B[0mevent\u001B[0m\u001B[1;33m,\u001B[0m \u001B[0marg\u001B[0m\u001B[1;33m,\u001B[0m \u001B[0msuspend_type\u001B[0m\u001B[1;33m,\u001B[0m \u001B[0mfrom_this_thread\u001B[0m\u001B[1;33m)\u001B[0m\u001B[1;33m:\u001B[0m\u001B[1;33m\u001B[0m\u001B[1;33m\u001B[0m\u001B[0m\n",
      "\u001B[1;32mC:\\Program Files\\JetBrains\\DataSpell 2021.3\\plugins\\python-ce\\helpers\\pydev\\pydevd.py\u001B[0m in \u001B[0;36m_do_wait_suspend\u001B[1;34m(self, thread, frame, event, arg, suspend_type, from_this_thread)\u001B[0m\n\u001B[0;32m   1160\u001B[0m \u001B[1;33m\u001B[0m\u001B[0m\n\u001B[0;32m   1161\u001B[0m                 \u001B[0mself\u001B[0m\u001B[1;33m.\u001B[0m\u001B[0mprocess_internal_commands\u001B[0m\u001B[1;33m(\u001B[0m\u001B[1;33m)\u001B[0m\u001B[1;33m\u001B[0m\u001B[1;33m\u001B[0m\u001B[0m\n\u001B[1;32m-> 1162\u001B[1;33m                 \u001B[0mtime\u001B[0m\u001B[1;33m.\u001B[0m\u001B[0msleep\u001B[0m\u001B[1;33m(\u001B[0m\u001B[1;36m0.01\u001B[0m\u001B[1;33m)\u001B[0m\u001B[1;33m\u001B[0m\u001B[1;33m\u001B[0m\u001B[0m\n\u001B[0m\u001B[0;32m   1163\u001B[0m \u001B[1;33m\u001B[0m\u001B[0m\n\u001B[0;32m   1164\u001B[0m         \u001B[0mself\u001B[0m\u001B[1;33m.\u001B[0m\u001B[0mcancel_async_evaluation\u001B[0m\u001B[1;33m(\u001B[0m\u001B[0mget_current_thread_id\u001B[0m\u001B[1;33m(\u001B[0m\u001B[0mthread\u001B[0m\u001B[1;33m)\u001B[0m\u001B[1;33m,\u001B[0m \u001B[0mstr\u001B[0m\u001B[1;33m(\u001B[0m\u001B[0mid\u001B[0m\u001B[1;33m(\u001B[0m\u001B[0mframe\u001B[0m\u001B[1;33m)\u001B[0m\u001B[1;33m)\u001B[0m\u001B[1;33m)\u001B[0m\u001B[1;33m\u001B[0m\u001B[1;33m\u001B[0m\u001B[0m\n",
      "\u001B[1;31mKeyboardInterrupt\u001B[0m: "
     ]
    },
    {
     "data": {
      "text/plain": "<Figure size 720x360 with 2 Axes>",
      "image/png": "[encoded data removed]"
     },
     "metadata": {},
     "output_type": "display_data"
    }
   ],
   "source": [
    "cls, feat, y, prob = cls_all, feat_eog2_avg, y_all_bi, 0.85\n",
    "X_train, X_test, y_train, y_test = train_test_split(feat, y, stratify=y, random_state=20)\n",
    "X_train_data = X_train.iloc[:, 2:]\n",
    "selector = VarianceThreshold(.1)\n",
    "selector.fit_transform(X_train_data)\n",
    "X_train_data = X_train_data[X_train_data.columns[selector.get_support(indices=True)]]\n",
    "X_test_data = X_test[X_train_data.columns]\n",
    "\n",
    "f, axes = plt.subplots(1, len(cls), figsize=(10, 5), sharey='row')\n",
    "pred_details = {}\n",
    "\n",
    "for i, (key, classifier) in enumerate(cls.items()):\n",
    "    y_pred = classifier.predict_proba(X_test_data).T\n",
    "    cf_matrix = confusion_matrix(y_test, [p > prob for p in y_pred[1]])\n",
    "    metrics = get_metrics(cf_matrix)\n",
    "    disp = ConfusionMatrixDisplay(cf_matrix)\n",
    "    disp.plot(ax=axes[i], xticks_rotation=45)\n",
    "    precision = '{0:.2f}'.format(metrics['precision'])\n",
    "    recall = '{0:.2f}'.format(metrics['recall'])\n",
    "    text = \"\"\"precision: {0}\n",
    "                          recall: {1}\"\"\".format(precision, recall)\n",
    "    axes[i].annotate(text, xy=(1, 0), xycoords='axes fraction', fontsize=16,\n",
    "                     xytext=(-60, -40), textcoords='offset points',\n",
    "                     ha='right', va='top')\n",
    "    disp.ax_.set_title(key)\n",
    "    disp.im_.colorbar.remove()\n",
    "    disp.ax_.set_xlabel('')\n",
    "    if i != 0:\n",
    "        disp.ax_.set_ylabel('')\n",
    "\n",
    "    curr_pred_details = pd.DataFrame(data=X_test, copy=True)\n",
    "    curr_pred_details['pred'] = y_pred[1]\n",
    "    pred_details[key] = curr_pred_details"
   ]
  },
  {
   "cell_type": "code",
   "execution_count": null,
   "outputs": [],
   "source": [],
   "metadata": {
    "collapsed": false,
    "pycharm": {
     "name": "#%%\n"
    }
   }
  }
 ],
 "metadata": {
  "kernelspec": {
   "display_name": "Python 3 (ipykernel)",
   "language": "python",
   "name": "python3"
  },
  "language_info": {
   "codemirror_mode": {
    "name": "ipython",
    "version": 3
   },
   "file_extension": ".py",
   "mimetype": "text/x-python",
   "name": "python",
   "nbconvert_exporter": "python",
   "pygments_lexer": "ipython3",
   "version": "3.7.7"
  }
 },
 "nbformat": 4,
 "nbformat_minor": 1
}