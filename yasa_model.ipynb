{
 "cells": [
  {
   "cell_type": "code",
   "execution_count": 1,
   "id": "bea472a8",
   "metadata": {},
   "outputs": [],
   "source": [
    "import yasa\n",
    "import numpy as np\n",
    "import pandas as pd\n",
    "import mne\n",
    "import scipy.stats as sp_stats\n",
    "import scipy.signal as sp_sig\n",
    "import antropy as ant\n",
    "from scipy.integrate import simps\n",
    "from sklearn.model_selection import train_test_split\n",
    "from matplotlib import pyplot as plt\n",
    "from sklearn.ensemble import RandomForestClassifier\n",
    "from sklearn.metrics import confusion_matrix, ConfusionMatrixDisplay\n",
    "from sklearn.metrics import plot_confusion_matrix\n",
    "from sklearn.preprocessing import robust_scale\n",
    "from lightgbm import LGBMClassifier\n",
    "import xgboost as xgb\n",
    "from sklearn.svm import SVC\n",
    "\n",
    "pd.options.display.precision = 10"
   ]
  },
  {
   "cell_type": "code",
   "execution_count": 2,
   "id": "b31387be",
   "metadata": {},
   "outputs": [],
   "source": [
    "####################\n",
    "# MAIN PARAMETERS\n",
    "####################\n",
    "\n",
    "# Bandpass filter\n",
    "freq_broad = (0.1, 500)\n",
    "# FFT & bandpower parameters\n",
    "sr = 1000\n",
    "bands = [\n",
    "    (0.1, 4, 'delta'), (4, 8, 'theta'),\n",
    "    (8, 12, 'alpha'), (12, 16, 'sigma'), (16, 30, 'beta'),\n",
    "    (30, 100, 'gamma'), (100, 300, 'fast')\n",
    "]"
   ]
  },
  {
   "cell_type": "code",
   "execution_count": 3,
   "id": "6d4215d7",
   "metadata": {},
   "outputs": [],
   "source": [
    "def bandpower_from_psd_ndarray(psd, freqs, bands=[(0.5, 4, 'Delta'),\n",
    "                               (4, 8, 'Theta'), (8, 12, 'Alpha'),\n",
    "                               (12, 16, 'Sigma'), (16, 30, 'Beta'),\n",
    "                               (30, 40, 'Gamma')], relative=True):\n",
    "    # Type checks\n",
    "    assert isinstance(bands, list), 'bands must be a list of tuple(s)'\n",
    "    assert isinstance(relative, bool), 'relative must be a boolean'\n",
    "\n",
    "    # Safety checks\n",
    "    freqs = np.asarray(freqs)\n",
    "    psd = np.asarray(psd)\n",
    "    assert freqs.ndim == 1, 'freqs must be a 1-D array of shape (n_freqs,)'\n",
    "    assert psd.shape[-1] == freqs.shape[-1], 'n_freqs must be last axis of psd'\n",
    "\n",
    "    # Extract frequencies of interest\n",
    "    all_freqs = np.hstack([[b[0], b[1]] for b in bands])\n",
    "    fmin, fmax = min(all_freqs), max(all_freqs)\n",
    "    idx_good_freq = np.logical_and(freqs >= fmin, freqs <= fmax)\n",
    "    freqs = freqs[idx_good_freq]\n",
    "    res = freqs[1] - freqs[0]\n",
    "\n",
    "    # Trim PSD to frequencies of interest\n",
    "    psd = psd[..., idx_good_freq]\n",
    "\n",
    "    # Check if there are negative values in PSD\n",
    "    if (psd < 0).any():\n",
    "        msg = (\n",
    "            \"There are negative values in PSD. This will result in incorrect \"\n",
    "            \"bandpower values. We highly recommend working with an \"\n",
    "            \"all-positive PSD. For more details, please refer to: \"\n",
    "            \"https://github.com/raphaelvallat/yasa/issues/29\")\n",
    "        logger.warning(msg)\n",
    "\n",
    "    # Calculate total power\n",
    "    total_power = simps(psd, dx=res, axis=-1)\n",
    "    total_power = total_power[np.newaxis, ...]\n",
    "\n",
    "    # Initialize empty array\n",
    "    bp = np.zeros((len(bands), *psd.shape[:-1]), dtype=np.float)\n",
    "\n",
    "    # Enumerate over the frequency bands\n",
    "    labels = []\n",
    "    for i, band in enumerate(bands):\n",
    "        b0, b1, la = band\n",
    "        labels.append(la)\n",
    "        idx_band = np.logical_and(freqs >= b0, freqs <= b1)\n",
    "        bp[i] = simps(psd[..., idx_band], dx=res, axis=-1)\n",
    "\n",
    "    if relative:\n",
    "        bp /= total_power\n",
    "    return bp\n",
    "\n",
    "def get_metrics(cm):\n",
    "    if len(cm) == 0:\n",
    "        cm = np.zeros((2,2), dtype=int)\n",
    "    if np.squeeze(cm).ndim < 2:\n",
    "        new_cm = np.zeros((2,2), dtype=int)\n",
    "        new_cm[1, 1] = int(cm[0][0])\n",
    "        cm = new_cm\n",
    "    numerator = cm[0, 0] + cm[1, 1]\n",
    "    denominator = cm[0, 0] + cm[1, 1] + cm[0, 1] + cm[1, 0]\n",
    "    accuracy = numerator / denominator\n",
    "    precision = cm[1, 1] / (cm[1, 1] + cm[0, 1])\n",
    "    recall = cm[1, 1] / (cm[1, 1] + cm[1, 0])\n",
    "    numerator = precision * recall\n",
    "    denominator = (0.25 * precision) + recall\n",
    "    f_score = 1.25 * numerator / denominator\n",
    "    return {'accuracy': accuracy, 'precision': precision, 'recall': recall, 'f_score': f_score}"
   ]
  },
  {
   "cell_type": "code",
   "execution_count": 4,
   "id": "216dc762",
   "metadata": {},
   "outputs": [],
   "source": [
    "def format_raw(edf, side):\n",
    "    raw = mne.io.read_raw_edf(edf)\n",
    "    spikes = raw.annotations\n",
    "    spikes_df = pd.DataFrame(spikes)\n",
    "    end_onset = list(spikes_df[spikes_df['description'].str.contains('END')]['onset'])[0]\n",
    "    spikes_df = spikes_df[spikes_df['onset'] < end_onset]\n",
    "    spikes_df = spikes_df[spikes_df['description'].str.contains(side + 't')]\n",
    "    # spikes_df.onset = spikes_df.onset.astype(int)\n",
    "    spikes_df = spikes_df.drop_duplicates(subset=['onset'])\n",
    "    raw_data = raw.crop(tmax=end_onset).pick_channels([side + 'AH1']).resample(sr).get_data()[0]\n",
    "    \n",
    "    epochs = []\n",
    "    epochs_zscore = []\n",
    "    window_size = int(sr / 4)\n",
    "    for i in range(0, len(raw_data), window_size):\n",
    "        curr_block = raw_data[i: i  + window_size]\n",
    "        if i + window_size < len(raw_data):\n",
    "            epochs.append(curr_block)\n",
    "            epochs_zscore.append(sp_stats.zscore(curr_block))\n",
    "    \n",
    "    y_windows = np.zeros(len(epochs))\n",
    "    for onset in spikes_df['onset']:\n",
    "        y_windows[int(onset * 1000 / window_size + 1)] = 1\n",
    "        \n",
    "    return np.array(epochs), np.array(epochs_zscore), y_windows"
   ]
  },
  {
   "cell_type": "code",
   "execution_count": 5,
   "id": "acfbe84e",
   "metadata": {},
   "outputs": [],
   "source": [
    "def calc_features(epochs):\n",
    "    # Calculate standard descriptive statistics\n",
    "    hmob, hcomp = ant.hjorth_params(epochs, axis=1)\n",
    "\n",
    "    feat = {\n",
    "        'std': np.std(epochs, ddof=1, axis=1),\n",
    "        'iqr': sp_stats.iqr(epochs, rng=(25, 75), axis=1),\n",
    "        'skew': sp_stats.skew(epochs, axis=1),\n",
    "        'kurt': sp_stats.kurtosis(epochs, axis=1),\n",
    "        'nzc': ant.num_zerocross(epochs, axis=1),\n",
    "        'hmob': hmob,\n",
    "        'hcomp': hcomp\n",
    "    }\n",
    "\n",
    "    # Calculate spectral power features (for EEG + EOG)\n",
    "    freqs, psd = sp_sig.welch(epochs, sr)\n",
    "    bp = bandpower_from_psd_ndarray(psd, freqs, bands=bands)\n",
    "    for j, (_, _, b) in enumerate(bands):\n",
    "        feat[b] = bp[j]\n",
    "\n",
    "    # Add power ratios for EEG\n",
    "    delta = feat['delta']\n",
    "    feat['dt'] = delta / feat['theta']\n",
    "    feat['ds'] = delta / feat['sigma']\n",
    "    feat['db'] = delta / feat['beta']\n",
    "    feat['dg'] = delta / feat['gamma']\n",
    "    feat['df'] = delta / feat['fast']\n",
    "    feat['at'] = feat['alpha'] / feat['theta']\n",
    "    feat['gt'] = feat['gamma'] / feat['theta']\n",
    "    feat['ft'] = feat['fast'] / feat['theta']\n",
    "    feat['ag'] = feat['gamma'] / feat['alpha']\n",
    "    feat['af'] = feat['fast'] / feat['alpha']\n",
    "\n",
    "    # Add total power\n",
    "    idx_broad = np.logical_and(\n",
    "        freqs >= freq_broad[0], freqs <= freq_broad[1])\n",
    "    dx = freqs[1] - freqs[0]\n",
    "    feat['abspow'] = np.trapz(psd[:, idx_broad], dx=dx)\n",
    "\n",
    "    # Calculate entropy and fractal dimension features\n",
    "    feat['perm'] = np.apply_along_axis(\n",
    "        ant.perm_entropy, axis=1, arr=epochs, normalize=True)\n",
    "    feat['higuchi'] = np.apply_along_axis(\n",
    "        ant.higuchi_fd, axis=1, arr=epochs)\n",
    "    feat['petrosian'] = ant.petrosian_fd(epochs, axis=1)\n",
    "\n",
    "    # Convert to dataframe\n",
    "    feat = pd.DataFrame(feat)\n",
    "    feat.index.name = 'epoch'\n",
    "\n",
    "    #############################\n",
    "    # SMOOTHING & NORMALIZATION\n",
    "    #############################\n",
    "\n",
    "    # Apply centered rolling average (15 epochs = 7 min 30)\n",
    "    # Triang: [0.125, 0.25, 0.375, 0.5, 0.625, 0.75, 0.875, 1.,\n",
    "    #          0.875, 0.75, 0.625, 0.5, 0.375, 0.25, 0.125]\n",
    "    rollc = feat.rolling(\n",
    "        window=2, center=True, min_periods=1, win_type='triang').mean()\n",
    "    rollc[rollc.columns] = robust_scale(rollc, quantile_range=(5, 95))\n",
    "    rollc = rollc.add_suffix('_cmin_norm')\n",
    "\n",
    "    # Now look at the past 2 minutes\n",
    "    rollp = feat.rolling(window=1, min_periods=1).mean()\n",
    "    rollp[rollp.columns] = robust_scale(rollp, quantile_range=(5, 95))\n",
    "    rollp = rollp.add_suffix('_pmin_norm')\n",
    "\n",
    "    # Add to current set of features\n",
    "    feat = feat.join(rollc).join(rollp)\n",
    "    # Remove cols of only zeros\n",
    "    feat = feat.loc[:, (feat != 0).any(axis=0)]\n",
    "    \n",
    "    return feat"
   ]
  },
  {
   "cell_type": "code",
   "execution_count": 17,
   "id": "4fab84cf",
   "metadata": {},
   "outputs": [
    {
     "name": "stdout",
     "output_type": "stream",
     "text": [
      "Extracting EDF parameters from C:\\Lilach\\396_for_tag_filtered.edf...\n",
      "EDF file detected\n",
      "Setting channel info structure...\n",
      "Creating raw.info structure...\n",
      "Extracting EDF parameters from C:\\Lilach\\398_for_tag_filtered.edf...\n",
      "EDF file detected\n",
      "Setting channel info structure...\n",
      "Creating raw.info structure...\n",
      "Extracting EDF parameters from C:\\Lilach\\398_for_tag_filtered.edf...\n",
      "EDF file detected\n",
      "Setting channel info structure...\n",
      "Creating raw.info structure...\n",
      "Extracting EDF parameters from C:\\Lilach\\402_for_tag_filtered.edf...\n",
      "EDF file detected\n",
      "Setting channel info structure...\n",
      "Creating raw.info structure...\n",
      "Extracting EDF parameters from C:\\Lilach\\402_for_tag_filtered.edf...\n",
      "EDF file detected\n",
      "Setting channel info structure...\n",
      "Creating raw.info structure...\n",
      "Extracting EDF parameters from C:\\Lilach\\406_for_tag_filtered.edf...\n",
      "EDF file detected\n",
      "Setting channel info structure...\n",
      "Creating raw.info structure...\n",
      "Extracting EDF parameters from C:\\Lilach\\406_for_tag_filtered.edf...\n",
      "EDF file detected\n",
      "Setting channel info structure...\n",
      "Creating raw.info structure...\n",
      "Extracting EDF parameters from C:\\Lilach\\415_for_tag_filtered.edf...\n",
      "EDF file detected\n",
      "Setting channel info structure...\n",
      "Creating raw.info structure...\n",
      "Extracting EDF parameters from C:\\Lilach\\415_for_tag_filtered.edf...\n",
      "EDF file detected\n",
      "Setting channel info structure...\n",
      "Creating raw.info structure...\n",
      "Extracting EDF parameters from C:\\Lilach\\416_for_tag_filtered.edf...\n",
      "EDF file detected\n",
      "Setting channel info structure...\n",
      "Creating raw.info structure...\n",
      "Extracting EDF parameters from C:\\Lilach\\416_for_tag_filtered.edf...\n",
      "EDF file detected\n",
      "Setting channel info structure...\n",
      "Creating raw.info structure...\n"
     ]
    }
   ],
   "source": [
    "x_all = np.empty((0, 250))\n",
    "x_all_zscore = np.empty((0, 250))\n",
    "y_all = np.empty(0)\n",
    "for subj in ['396', '398', '402', '406', '415', '416']:\n",
    "    for side in ['R', 'L']:\n",
    "        if not (subj == '396' and side == 'R'):\n",
    "            x, x_zscore, y = format_raw(f'C:\\\\Lilach\\\\{subj}_for_tag_filtered.edf', side)\n",
    "            x_all = np.concatenate((x_all, x))\n",
    "            x_all_zscore = np.concatenate((x_all_zscore, x_zscore))\n",
    "            y_all = np.concatenate((y_all, y))"
   ]
  },
  {
   "cell_type": "code",
   "execution_count": 18,
   "id": "919e5857",
   "metadata": {},
   "outputs": [],
   "source": [
    "# x_406, x_zscore_406, y_406 = format_raw('C:\\\\Lilach\\\\406_for_tag_filtered.edf', 'R')\n",
    "# x_415, x_zscore_415, y_415 = format_raw('C:\\\\Lilach\\\\415_for_tag_filtered.edf', 'R')\n",
    "# x_416, x_zscore_416, y_416 = format_raw('C:\\\\Lilach\\\\416_for_tag_filtered.edf', 'R')\n",
    "# x_all = np.concatenate((x_406, x_415, x_416))\n",
    "# x_all_zscore = np.concatenate((x_zscore_406, x_zscore_415, x_zscore_416))\n",
    "# y_all = np.concatenate((y_406, y_415, y_416))"
   ]
  },
  {
   "cell_type": "code",
   "execution_count": 19,
   "id": "be341e9b",
   "metadata": {},
   "outputs": [
    {
     "name": "stderr",
     "output_type": "stream",
     "text": [
      "c:\\users\\user\\pycharmprojects\\pythonproject\\venv\\lib\\site-packages\\scipy\\signal\\spectral.py:1963: UserWarning: nperseg = 256 is greater than input length  = 250, using nperseg = 250\n",
      "  .format(nperseg, input_length))\n",
      "c:\\users\\user\\pycharmprojects\\pythonproject\\venv\\lib\\site-packages\\ipykernel_launcher.py:39: DeprecationWarning: `np.float` is a deprecated alias for the builtin `float`. To silence this warning, use `float` by itself. Doing this will not modify any behavior and is safe. If you specifically wanted the numpy scalar type, use `np.float64` here.\n",
      "Deprecated in NumPy 1.20; for more details and guidance: https://numpy.org/devdocs/release/1.20.0-notes.html#deprecations\n",
      "c:\\users\\user\\pycharmprojects\\pythonproject\\venv\\lib\\site-packages\\scipy\\signal\\spectral.py:1963: UserWarning: nperseg = 256 is greater than input length  = 250, using nperseg = 250\n",
      "  .format(nperseg, input_length))\n",
      "c:\\users\\user\\pycharmprojects\\pythonproject\\venv\\lib\\site-packages\\ipykernel_launcher.py:39: DeprecationWarning: `np.float` is a deprecated alias for the builtin `float`. To silence this warning, use `float` by itself. Doing this will not modify any behavior and is safe. If you specifically wanted the numpy scalar type, use `np.float64` here.\n",
      "Deprecated in NumPy 1.20; for more details and guidance: https://numpy.org/devdocs/release/1.20.0-notes.html#deprecations\n"
     ]
    }
   ],
   "source": [
    "feat_all = calc_features(x_all)\n",
    "feat_all_zscore = calc_features(x_all_zscore)"
   ]
  },
  {
   "cell_type": "code",
   "execution_count": 20,
   "id": "caabe7ed",
   "metadata": {},
   "outputs": [
    {
     "name": "stdout",
     "output_type": "stream",
     "text": [
      "[17:56:47] WARNING: C:/Users/Administrator/workspace/xgboost-win64_release_1.5.0/src/learner.cc:1115: Starting in XGBoost 1.3.0, the default evaluation metric used with the objective 'multi:softmax' was changed from 'merror' to 'mlogloss'. Explicitly set eval_metric if you'd like to restore the old behavior.\n"
     ]
    },
    {
     "data": {
      "image/png": "[encoded data removed]",
      "text/plain": [
       "<Figure size 1440x360 with 5 Axes>"
      ]
     },
     "metadata": {
      "needs_background": "light"
     },
     "output_type": "display_data"
    }
   ],
   "source": [
    "X_train, X_test, y_train, y_test = train_test_split(feat_all, y_all, stratify=y_all)\n",
    "\n",
    "classifiers = {\n",
    "    \"Random Forest\": RandomForestClassifier(),\n",
    "    \"LGBM\": LGBMClassifier(),\n",
    "    \"XGB\": xgb.XGBClassifier(objective=\"multi:softmax\", num_class=2, use_label_encoder=False),\n",
    "    \"SVM\": SVC()\n",
    "}\n",
    "\n",
    "f, axes = plt.subplots(1, len(classifiers), figsize=(20, 5), sharey='row')\n",
    "\n",
    "for i, (key, classifier) in enumerate(classifiers.items()):\n",
    "    y_pred = classifier.fit(X_train, y_train).predict(X_test)\n",
    "    cf_matrix = confusion_matrix(y_test, y_pred)\n",
    "    disp = ConfusionMatrixDisplay(cf_matrix)\n",
    "    disp.plot(ax=axes[i], xticks_rotation=45)\n",
    "    disp.ax_.set_title(key)\n",
    "    disp.im_.colorbar.remove()\n",
    "    disp.ax_.set_xlabel('')\n",
    "    if i!=0:\n",
    "        disp.ax_.set_ylabel('')\n",
    "\n",
    "f.text(0.4, 0.1, 'Predicted label', ha='left')\n",
    "plt.subplots_adjust(wspace=0.40, hspace=0.1)\n",
    "\n",
    "\n",
    "f.colorbar(disp.im_, ax=axes)\n",
    "plt.show()"
   ]
  },
  {
   "cell_type": "code",
   "execution_count": 21,
   "id": "dc9d8acd",
   "metadata": {},
   "outputs": [
    {
     "name": "stdout",
     "output_type": "stream",
     "text": [
      "[17:56:58] WARNING: C:/Users/Administrator/workspace/xgboost-win64_release_1.5.0/src/learner.cc:1115: Starting in XGBoost 1.3.0, the default evaluation metric used with the objective 'multi:softmax' was changed from 'merror' to 'mlogloss'. Explicitly set eval_metric if you'd like to restore the old behavior.\n"
     ]
    },
    {
     "data": {
      "image/png": "[encoded data removed]",
      "text/plain": [
       "<Figure size 1440x360 with 5 Axes>"
      ]
     },
     "metadata": {
      "needs_background": "light"
     },
     "output_type": "display_data"
    }
   ],
   "source": [
    "X_train, X_test, y_train, y_test = train_test_split(feat_all_zscore, y_all, stratify=y_all)\n",
    "\n",
    "classifiers = {\n",
    "    \"Random Forest\": RandomForestClassifier(),\n",
    "    \"LGBM\": LGBMClassifier(),\n",
    "    \"XGB\": xgb.XGBClassifier(objective=\"multi:softmax\", num_class=2, use_label_encoder=False),\n",
    "    \"SVM\": SVC()\n",
    "}\n",
    "\n",
    "f, axes = plt.subplots(1, len(classifiers), figsize=(20, 5), sharey='row')\n",
    "\n",
    "for i, (key, classifier) in enumerate(classifiers.items()):\n",
    "    y_pred = classifier.fit(X_train, y_train).predict(X_test)\n",
    "    cf_matrix = confusion_matrix(y_test, y_pred)\n",
    "    disp = ConfusionMatrixDisplay(cf_matrix)\n",
    "    disp.plot(ax=axes[i], xticks_rotation=45)\n",
    "    disp.ax_.set_title(key)\n",
    "    disp.im_.colorbar.remove()\n",
    "    disp.ax_.set_xlabel('')\n",
    "    if i!=0:\n",
    "        disp.ax_.set_ylabel('')\n",
    "\n",
    "f.text(0.4, 0.1, 'Predicted label', ha='left')\n",
    "plt.subplots_adjust(wspace=0.40, hspace=0.1)\n",
    "\n",
    "\n",
    "f.colorbar(disp.im_, ax=axes)\n",
    "plt.show()"
   ]
  },
  {
   "cell_type": "code",
   "execution_count": 16,
   "id": "46133400",
   "metadata": {},
   "outputs": [
    {
     "data": {
      "text/plain": [
       "array([], dtype=float64)"
      ]
     },
     "execution_count": 16,
     "metadata": {},
     "output_type": "execute_result"
    }
   ],
   "source": [
    "np.empty(0)"
   ]
  },
  {
   "cell_type": "code",
   "execution_count": null,
   "id": "512b2763",
   "metadata": {},
   "outputs": [],
   "source": []
  }
 ],
 "metadata": {
  "kernelspec": {
   "display_name": "Python 3 (ipykernel)",
   "language": "python",
   "name": "python3"
  },
  "language_info": {
   "codemirror_mode": {
    "name": "ipython",
    "version": 3
   },
   "file_extension": ".py",
   "mimetype": "text/x-python",
   "name": "python",
   "nbconvert_exporter": "python",
   "pygments_lexer": "ipython3",
   "version": "3.7.7"
  }
 },
 "nbformat": 4,
 "nbformat_minor": 5
}
