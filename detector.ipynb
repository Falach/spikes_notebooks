{
 "cells": [
  {
   "cell_type": "code",
   "execution_count": 1,
   "id": "broke-runner",
   "metadata": {},
   "outputs": [
    {
     "name": "stderr",
     "output_type": "stream",
     "text": [
      "/Users/rotemfalach/projects/mne-python/lib/python3.7/site-packages/pandas/compat/__init__.py:97: UserWarning: Could not import the lzma module. Your installed Python is incomplete. Attempting to use lzma compression will result in a RuntimeError.\n",
      "  warnings.warn(msg)\n"
     ]
    }
   ],
   "source": [
    "import mne\n",
    "import numpy as np\n",
    "from matplotlib import pyplot as plt\n",
    "import math\n",
    "from scipy import stats, signal\n",
    "import itertools\n",
    "import pandas as pd\n",
    "from datetime import datetime"
   ]
  },
  {
   "cell_type": "code",
   "execution_count": 2,
   "id": "metropolitan-image",
   "metadata": {},
   "outputs": [],
   "source": [
    "# consts\n",
    "threshold_env = 8  \n",
    "threshold_amp = 5  \n",
    "threshold_grad = 5\n",
    "use_env = True\n",
    "use_amp = True\n",
    "use_grad = True\n",
    "block_size_sec = 10  # filter and find peaks at blocks of X seconds - based on Andrillon et al\n",
    "\n",
    "# the bandpass range is based on Andrillon et al\n",
    "low_pass = 50\n",
    "high_pass = 150\n",
    "\n",
    "# general constants\n",
    "min_distance = 200  # minimal distance for 'different' spikes - in miliseconds\n",
    "min_spike_length_sec = 0.004  # a spike is detected if there are points for 5 ms passing the threshold, based on Andrillon et al\n"
   ]
  },
  {
   "cell_type": "code",
   "execution_count": 23,
   "id": "inside-parker",
   "metadata": {},
   "outputs": [],
   "source": [
    "def get_markers(data, index_above_threshold, thresh_type):\n",
    "    max_markers_index = []\n",
    "    max_marker_value = []\n",
    "\n",
    "    # find max markers\n",
    "#     counter = 1\n",
    "    curr_spike = []\n",
    "    curr_spike_data = [thresh_type, index_above_threshold[0]]\n",
    "    curr_spike.append(index_above_threshold[0])\n",
    "    for j in range(len(index_above_threshold)):\n",
    "        # check that the next index is the same spike\n",
    "        if j + 1 < len(index_above_threshold) and index_above_threshold[j + 1] - index_above_threshold[j] == 1:\n",
    "            curr_spike.append(index_above_threshold[j + 1])\n",
    "        # the current spike finished\n",
    "        else:\n",
    "            # check min spike length\n",
    "            if sampling_rate * min_spike_length_sec <= len(curr_spike):\n",
    "                # check if the peak is positive or negative and append it's value\n",
    "                max_value = data[curr_spike[0]: curr_spike[-1] + 1].max()\n",
    "                min_value = data[curr_spike[0]: curr_spike[-1] + 1].min()\n",
    "                value = max_value if abs(max_value) > abs(min_value) else min_value\n",
    "                print(value)\n",
    "                print(curr_spike)\n",
    "                index = np.intersect1d(np.where(data == value)[0], curr_spike)[0]\n",
    "                max_marker_value.append(value)\n",
    "                max_markers_index.append(index)\n",
    "                curr_spike = []\n",
    "                curr_spike_data.extend((index_above_threshold[j], index, value))\n",
    "                spikes_list.append(curr_spike_data)\n",
    "            \n",
    "            if j + 1 < len(index_above_threshold):\n",
    "                curr_spike_data = [thresh_type, index_above_threshold[j + 1]]\n",
    "\n",
    "    return np.array(max_markers_index), np.array(max_marker_value)"
   ]
  },
  {
   "cell_type": "code",
   "execution_count": 24,
   "id": "twenty-vietnamese",
   "metadata": {},
   "outputs": [
    {
     "data": {
      "text/plain": [
       "[<matplotlib.lines.Line2D at 0x12da294d0>]"
      ]
     },
     "execution_count": 24,
     "metadata": {},
     "output_type": "execute_result"
    },
    {
     "data": {
      "image/png": "[encoded data removed]",
      "text/plain": [
       "<Figure size 432x288 with 1 Axes>"
      ]
     },
     "metadata": {
      "needs_background": "light"
     },
     "output_type": "display_data"
    }
   ],
   "source": [
    "common_spikes_index = []\n",
    "# format: [spike_id, threshold_type, first_index, last_index, max_index, max_amp, duration(calc once for all after convert to df), sleep_stage?]\n",
    "spikes_list = []\n",
    "id = '402_RAH1-RAH2_bi'\n",
    "# edf = '/Users/rotemfalach/Documents/University/lab/EDFs_forRotem/402_for_tag.edf'\n",
    "mne.set_log_level(False)\n",
    "edf = '/Users/rotemfalach/Documents/University/lab/EDFs_forRotem/402_for_tag.edf'\n",
    "raw = mne.io.read_raw_edf(edf)\n",
    "sampling_rate = int(raw.info['sfreq'])\n",
    "raw.pick_channels(['RAH1-RAH2'])\n",
    "raw.crop(tmin=0, tmax=200)\n",
    "\n",
    "data = raw.get_data()[0]\n",
    "plt.plot(data)"
   ]
  },
  {
   "cell_type": "code",
   "execution_count": 25,
   "id": "supposed-genetics",
   "metadata": {},
   "outputs": [
    {
     "name": "stdout",
     "output_type": "stream",
     "text": [
      "-0.00012977798123140266\n",
      "[16191, 16192, 16193, 16194, 16195, 16196, 16197, 16198, 16199, 16200, 16201, 16202, 16203, 16204, 16205, 16206, 16207, 16208, 16209, 16210, 16211]\n",
      "-0.0001223010605020214\n",
      "[56805, 56806, 56807, 56808, 56809, 56810, 56811, 56812, 56813, 56814, 56815, 56816, 56817, 56818, 56819, 56820, 56821, 56822, 56823, 56824, 56825, 56826, 56827, 56828]\n",
      "-0.0002118715190356294\n",
      "[82371, 82372, 82373, 82374, 82375, 82376, 82377, 82378, 82379, 82380, 82381, 82382, 82383, 82384, 82385, 82386, 82387, 82388, 82389, 82390, 82391, 82392, 82393, 82394, 82395, 82396, 82397, 82398]\n",
      "-5.1041428244449106e-05\n",
      "[82480, 82481, 82482, 82483, 82484, 82485, 82486, 82487]\n",
      "0.0002559700923170829\n",
      "[123744, 123745, 123746, 123747, 123748, 123749, 123750, 123751, 123752, 123753, 123754, 123755, 123756, 123757, 123758, 123759, 123760, 123761, 123762, 123763, 123764, 123765, 123766, 123767, 123768]\n",
      "0.0002584115358205544\n",
      "[123744, 123745, 123746, 123747, 123748, 123749, 123750, 123751, 123752, 123753, 123754, 123755, 123756, 123757, 123758, 123759, 123760, 123761, 123762, 123763, 123764, 123765, 123766, 123767, 123768, 123769, 123770, 123771, 123772, 123773, 123774, 123775, 123776, 123777, 123778, 123779, 123780, 123781, 123782, 123783, 123784, 123785, 123786, 123787, 123788, 123789, 123790, 123791, 123792, 123793, 123794, 123795, 123796, 123797]\n",
      "-3.8986800946058936e-05\n",
      "[163993, 163994, 163995, 163996, 163997, 163998, 163999, 164000, 164001, 164002, 164003, 164004]\n",
      "0.00013679713130388386\n",
      "[175150, 175151, 175152, 175153, 175154, 175155, 175156, 175157, 175158, 175159, 175160, 175161, 175162, 175163, 175164, 175165, 175166, 175167, 175168, 175169]\n",
      "-0.00021934843976501064\n",
      "[194270, 194271, 194272, 194273, 194274, 194275, 194276, 194502, 194503, 194504, 194505, 194506, 194507, 194508, 194509, 194510, 194511, 194512, 194513, 194514, 194515, 194516, 194517, 194518, 194519, 194520, 194521, 194522, 194523, 194524, 194525, 194526, 194527, 194528]\n"
     ]
    },
    {
     "ename": "IndexError",
     "evalue": "index 0 is out of bounds for axis 0 with size 0",
     "output_type": "error",
     "traceback": [
      "\u001b[0;31m---------------------------------------------------------------------------\u001b[0m",
      "\u001b[0;31mIndexError\u001b[0m                                Traceback (most recent call last)",
      "\u001b[0;32m<ipython-input-25-ec67d6d7b2f1>\u001b[0m in \u001b[0;36m<module>\u001b[0;34m\u001b[0m\n\u001b[1;32m     23\u001b[0m         \u001b[0;32mif\u001b[0m \u001b[0mlen\u001b[0m\u001b[0;34m(\u001b[0m\u001b[0mpoints_above_thresh_grad\u001b[0m\u001b[0;34m)\u001b[0m \u001b[0;34m>\u001b[0m \u001b[0;36m0\u001b[0m\u001b[0;34m:\u001b[0m\u001b[0;34m\u001b[0m\u001b[0;34m\u001b[0m\u001b[0m\n\u001b[1;32m     24\u001b[0m             \u001b[0mindex_above_threshold_grad\u001b[0m \u001b[0;34m=\u001b[0m \u001b[0;34m(\u001b[0m\u001b[0mz_score_grad\u001b[0m \u001b[0;34m>\u001b[0m \u001b[0mthreshold_grad\u001b[0m\u001b[0;34m)\u001b[0m\u001b[0;34m.\u001b[0m\u001b[0mnonzero\u001b[0m\u001b[0;34m(\u001b[0m\u001b[0;34m)\u001b[0m\u001b[0;34m[\u001b[0m\u001b[0;36m0\u001b[0m\u001b[0;34m]\u001b[0m \u001b[0;34m+\u001b[0m \u001b[0mi\u001b[0m \u001b[0;34m*\u001b[0m \u001b[0mpoints_in_block\u001b[0m\u001b[0;34m\u001b[0m\u001b[0;34m\u001b[0m\u001b[0m\n\u001b[0;32m---> 25\u001b[0;31m             \u001b[0mmax_markers_index_grad\u001b[0m\u001b[0;34m,\u001b[0m \u001b[0mmax_marker_value_grad\u001b[0m \u001b[0;34m=\u001b[0m \u001b[0mget_markers\u001b[0m\u001b[0;34m(\u001b[0m\u001b[0mdata\u001b[0m\u001b[0;34m,\u001b[0m \u001b[0mindex_above_threshold_grad\u001b[0m\u001b[0;34m,\u001b[0m \u001b[0;34m'grad'\u001b[0m\u001b[0;34m)\u001b[0m\u001b[0;34m\u001b[0m\u001b[0;34m\u001b[0m\u001b[0m\n\u001b[0m\u001b[1;32m     26\u001b[0m \u001b[0;34m\u001b[0m\u001b[0m\n\u001b[1;32m     27\u001b[0m     \u001b[0;31m# check envelope threshold\u001b[0m\u001b[0;34m\u001b[0m\u001b[0;34m\u001b[0m\u001b[0;34m\u001b[0m\u001b[0m\n",
      "\u001b[0;32m<ipython-input-23-555ce9e348ef>\u001b[0m in \u001b[0;36mget_markers\u001b[0;34m(data, index_above_threshold, thresh_type)\u001b[0m\n\u001b[1;32m     22\u001b[0m                 \u001b[0mprint\u001b[0m\u001b[0;34m(\u001b[0m\u001b[0mvalue\u001b[0m\u001b[0;34m)\u001b[0m\u001b[0;34m\u001b[0m\u001b[0;34m\u001b[0m\u001b[0m\n\u001b[1;32m     23\u001b[0m                 \u001b[0mprint\u001b[0m\u001b[0;34m(\u001b[0m\u001b[0mcurr_spike\u001b[0m\u001b[0;34m)\u001b[0m\u001b[0;34m\u001b[0m\u001b[0;34m\u001b[0m\u001b[0m\n\u001b[0;32m---> 24\u001b[0;31m                 \u001b[0mindex\u001b[0m \u001b[0;34m=\u001b[0m \u001b[0mnp\u001b[0m\u001b[0;34m.\u001b[0m\u001b[0mintersect1d\u001b[0m\u001b[0;34m(\u001b[0m\u001b[0mnp\u001b[0m\u001b[0;34m.\u001b[0m\u001b[0mwhere\u001b[0m\u001b[0;34m(\u001b[0m\u001b[0mdata\u001b[0m \u001b[0;34m==\u001b[0m \u001b[0mvalue\u001b[0m\u001b[0;34m)\u001b[0m\u001b[0;34m[\u001b[0m\u001b[0;36m0\u001b[0m\u001b[0;34m]\u001b[0m\u001b[0;34m,\u001b[0m \u001b[0mcurr_spike\u001b[0m\u001b[0;34m)\u001b[0m\u001b[0;34m[\u001b[0m\u001b[0;36m0\u001b[0m\u001b[0;34m]\u001b[0m\u001b[0;34m\u001b[0m\u001b[0;34m\u001b[0m\u001b[0m\n\u001b[0m\u001b[1;32m     25\u001b[0m                 \u001b[0mmax_marker_value\u001b[0m\u001b[0;34m.\u001b[0m\u001b[0mappend\u001b[0m\u001b[0;34m(\u001b[0m\u001b[0mvalue\u001b[0m\u001b[0;34m)\u001b[0m\u001b[0;34m\u001b[0m\u001b[0;34m\u001b[0m\u001b[0m\n\u001b[1;32m     26\u001b[0m                 \u001b[0mmax_markers_index\u001b[0m\u001b[0;34m.\u001b[0m\u001b[0mappend\u001b[0m\u001b[0;34m(\u001b[0m\u001b[0mindex\u001b[0m\u001b[0;34m)\u001b[0m\u001b[0;34m\u001b[0m\u001b[0;34m\u001b[0m\u001b[0m\n",
      "\u001b[0;31mIndexError\u001b[0m: index 0 is out of bounds for axis 0 with size 0"
     ]
    }
   ],
   "source": [
    "points_in_block = block_size_sec * sampling_rate\n",
    "number_of_blocks = math.floor(len(data) / points_in_block)\n",
    "max_markers_index_amp, max_markers_index_grad, max_markers_index_env, all_common_index, all_common_value = [], [], [], [], []\n",
    "\n",
    "for i in range(number_of_blocks):\n",
    "    curr_block = data[i * points_in_block: (i + 1) * points_in_block]\n",
    "\n",
    "    # check amplitude threshold\n",
    "    if use_amp or use_amp_env or use_amp_grad:\n",
    "        z_score_amp = stats.zscore(curr_block)\n",
    "        points_above_thresh_amp = z_score_amp[z_score_amp > threshold_amp]\n",
    "        # get indexes from z_score values and add offset of the current block\n",
    "        if len(points_above_thresh_amp) > 0:\n",
    "            index_above_threshold_amp = (z_score_amp > threshold_amp).nonzero()[0] + i * points_in_block\n",
    "            max_markers_index_amp, max_marker_value_amp = get_markers(data, index_above_threshold_amp, 'amp')\n",
    "            print(max_markers_index_amp)\n",
    "\n",
    "    # check gradient threshold\n",
    "    if use_grad or use_amp_grad:\n",
    "        gradient_diff = np.diff(curr_block)\n",
    "        z_score_grad = stats.zscore(np.insert(gradient_diff, 0, 0))\n",
    "        points_above_thresh_grad = z_score_grad[z_score_grad > threshold_grad]\n",
    "        if len(points_above_thresh_grad) > 0:\n",
    "            index_above_threshold_grad = (z_score_grad > threshold_grad).nonzero()[0] + i * points_in_block\n",
    "            max_markers_index_grad, max_marker_value_grad = get_markers(data, index_above_threshold_grad, 'grad')\n",
    "\n",
    "    # check envelope threshold\n",
    "    if use_env or use_amp_env:\n",
    "        filtered_block = mne.filter.filter_data(curr_block, sampling_rate, low_pass, high_pass)\n",
    "        env_block = abs(signal.hilbert(filtered_block))\n",
    "        z_score_env = stats.zscore(env_block)\n",
    "        points_above_thresh_env = z_score_env[z_score_env > threshold_env]\n",
    "        if len(points_above_thresh_env) > 0:\n",
    "            index_above_threshold_env = (z_score_env > threshold_env).nonzero()[0] + i * points_in_block\n",
    "            max_markers_index_env, max_marker_value_env = get_markers(data, index_above_threshold_env, 'env')\n"
   ]
  },
  {
   "cell_type": "code",
   "execution_count": 6,
   "id": "legendary-catalog",
   "metadata": {},
   "outputs": [
    {
     "data": {
      "text/plain": [
       "<matplotlib.collections.PathCollection at 0x12c7c8f90>"
      ]
     },
     "execution_count": 6,
     "metadata": {},
     "output_type": "execute_result"
    },
    {
     "data": {
      "image/png": "[encoded data removed]",
      "text/plain": [
       "<Figure size 432x288 with 1 Axes>"
      ]
     },
     "metadata": {
      "needs_background": "light"
     },
     "output_type": "display_data"
    }
   ],
   "source": [
    "plt.plot(data, alpha=0.8)\n",
    "plt.scatter(max_markers_index_amp, data[max_markers_index_amp] if len(max_markers_index_amp) > 0 else [], marker='X', color='fuchsia')\n",
    "plt.scatter(max_markers_index_grad, data[max_markers_index_grad] if len(max_markers_index_grad) > 0 else [], marker='P', color='red')\n",
    "plt.scatter(max_markers_index_env, data[max_markers_index_env] if len(max_markers_index_env) > 0 else [], marker='o', color='blue', s=15)"
   ]
  },
  {
   "cell_type": "code",
   "execution_count": 7,
   "id": "coordinated-circular",
   "metadata": {},
   "outputs": [
    {
     "data": {
      "text/plain": [
       "[]"
      ]
     },
     "execution_count": 7,
     "metadata": {},
     "output_type": "execute_result"
    }
   ],
   "source": [
    "max_markers_index_amp"
   ]
  },
  {
   "cell_type": "code",
   "execution_count": 14,
   "id": "collective-sending",
   "metadata": {},
   "outputs": [
    {
     "data": {
      "text/plain": [
       "(array([177191, 194496, 354935, 354936]),)"
      ]
     },
     "execution_count": 14,
     "metadata": {},
     "output_type": "execute_result"
    }
   ],
   "source": [
    "np.where(data == -0.00021934843976501064)"
   ]
  },
  {
   "cell_type": "code",
   "execution_count": 18,
   "id": "silver-irish",
   "metadata": {},
   "outputs": [
    {
     "data": {
      "text/plain": [
       "4"
      ]
     },
     "execution_count": 18,
     "metadata": {},
     "output_type": "execute_result"
    }
   ],
   "source": [
    "x = [1, 2, 3, 4]\n",
    "x[-1]"
   ]
  },
  {
   "cell_type": "code",
   "execution_count": null,
   "id": "documented-question",
   "metadata": {},
   "outputs": [],
   "source": []
  }
 ],
 "metadata": {
  "kernelspec": {
   "display_name": "Python 3",
   "language": "python",
   "name": "python3"
  },
  "language_info": {
   "codemirror_mode": {
    "name": "ipython",
    "version": 3
   },
   "file_extension": ".py",
   "mimetype": "text/x-python",
   "name": "python",
   "nbconvert_exporter": "python",
   "pygments_lexer": "ipython3",
   "version": "3.7.5"
  }
 },
 "nbformat": 4,
 "nbformat_minor": 5
}
