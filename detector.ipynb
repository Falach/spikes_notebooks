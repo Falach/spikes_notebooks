{
 "cells": [
  {
   "cell_type": "code",
   "execution_count": 1,
   "id": "broke-runner",
   "metadata": {},
   "outputs": [],
   "source": [
    "import mne\n",
    "import numpy as np\n",
    "from matplotlib import pyplot as plt\n",
    "import math\n",
    "from scipy import stats, signal\n",
    "import itertools\n",
    "import pandas as pd\n",
    "from datetime import datetime"
   ]
  },
  {
   "cell_type": "code",
   "execution_count": 2,
   "id": "metropolitan-image",
   "metadata": {},
   "outputs": [],
   "source": [
    "# consts\n",
    "threshold_env = 8  \n",
    "threshold_amp = 5  \n",
    "threshold_grad = 5\n",
    "use_env = True\n",
    "use_amp = True\n",
    "use_grad = True\n",
    "block_size_sec = 10  # filter and find peaks at blocks of X seconds - based on Andrillon et al\n",
    "\n",
    "# the bandpass range is based on Andrillon et al\n",
    "low_pass = 50\n",
    "high_pass = 150\n",
    "\n",
    "# general constants\n",
    "min_distance = 200  # minimal distance for 'different' spikes - in miliseconds\n",
    "min_spike_length_sec = 0.004  # a spike is detected if there are points for 5 ms passing the threshold, based on Andrillon et al\n"
   ]
  },
  {
   "cell_type": "code",
   "execution_count": 3,
   "id": "inside-parker",
   "metadata": {},
   "outputs": [],
   "source": [
    "def get_markers(data, index_above_threshold, thresh_type):\n",
    "    max_markers_index = []\n",
    "    max_marker_value = []\n",
    "\n",
    "    # find max markers\n",
    "    #     counter = 1\n",
    "    curr_spike = []\n",
    "    curr_spike_data = [thresh_type, index_above_threshold[0]]\n",
    "    curr_spike.append(index_above_threshold[0])\n",
    "    for j in range(len(index_above_threshold)):\n",
    "        # check that the next index is the same spike\n",
    "        if j + 1 < len(index_above_threshold) and index_above_threshold[j + 1] - index_above_threshold[j] == 1:\n",
    "            curr_spike.append(index_above_threshold[j + 1])\n",
    "        # the current spike finished\n",
    "        else:\n",
    "            # check min spike length\n",
    "            if sampling_rate * min_spike_length_sec <= len(curr_spike):\n",
    "                # check if the peak is positive or negative and append it's value\n",
    "                max_value = data[curr_spike[0]: curr_spike[-1] + 1].max()\n",
    "                min_value = data[curr_spike[0]: curr_spike[-1] + 1].min()\n",
    "                value = max_value if abs(max_value) > abs(min_value) else min_value\n",
    "                \n",
    "                # find the index of the spike's peak\n",
    "                index = np.intersect1d(np.where(data == value)[0], curr_spike)[0]\n",
    "                max_marker_value.append(value)\n",
    "                max_markers_index.append(index)\n",
    "                curr_spike_data.extend((index_above_threshold[j], index, value))\n",
    "                spikes_list.append(curr_spike_data)\n",
    "                \n",
    "            # init data for next spike\n",
    "            if j + 1 < len(index_above_threshold):\n",
    "                curr_spike = []\n",
    "                curr_spike_data = [thresh_type, index_above_threshold[j + 1]]\n",
    "                \n",
    "    return np.array(max_markers_index), np.array(max_marker_value)"
   ]
  },
  {
   "cell_type": "code",
   "execution_count": 4,
   "id": "twenty-vietnamese",
   "metadata": {},
   "outputs": [
    {
     "data": {
      "text/plain": [
       "[<matplotlib.lines.Line2D at 0x29c56f53a48>]"
      ]
     },
     "execution_count": 4,
     "metadata": {},
     "output_type": "execute_result"
    },
    {
     "data": {
      "image/png": "[encoded data removed]",
      "text/plain": [
       "<Figure size 432x288 with 1 Axes>"
      ]
     },
     "metadata": {
      "needs_background": "light"
     },
     "output_type": "display_data"
    }
   ],
   "source": [
    "spikes_list = []\n",
    "# edf = '/Users/rotemfalach/Documents/University/lab/EDFs_forRotem/402_for_tag.edf'\n",
    "mne.set_log_level(False)\n",
    "save_csv = True\n",
    "edf = 'C:\\\\Users\\\\user\\\\PycharmProjects\\\\pythonProject\\\\results\\\\402\\\\402_for_tag.edf'\n",
    "raw = mne.io.read_raw_edf(edf)\n",
    "sampling_rate = int(raw.info['sfreq'])\n",
    "raw.pick_channels(['RAH1-RAH2'])\n",
    "# raw.crop(tmin=0, tmax=300)\n",
    "\n",
    "data = raw.get_data()[0]\n",
    "plt.plot(data)"
   ]
  },
  {
   "cell_type": "code",
   "execution_count": 5,
   "id": "supposed-genetics",
   "metadata": {},
   "outputs": [],
   "source": [
    "points_in_block = block_size_sec * sampling_rate\n",
    "number_of_blocks = math.floor(len(data) / points_in_block)\n",
    "max_markers_index_amp, max_markers_index_grad, max_markers_index_env = [], [], []\n",
    "\n",
    "for i in range(number_of_blocks):\n",
    "    curr_block = data[i * points_in_block: (i + 1) * points_in_block]\n",
    "\n",
    "    # check amplitude threshold\n",
    "    if use_amp or use_amp_env or use_amp_grad:\n",
    "        z_score_amp = stats.zscore(curr_block)\n",
    "        points_above_thresh_amp = z_score_amp[z_score_amp > threshold_amp]\n",
    "        # get indexes from z_score values and add offset of the current block\n",
    "        if len(points_above_thresh_amp) > 0:\n",
    "            index_above_threshold_amp = (z_score_amp > threshold_amp).nonzero()[0] + i * points_in_block\n",
    "            curr_markers_index_amp, curr_markers_value_amp = get_markers(data, index_above_threshold_amp, 'amp')\n",
    "            max_markers_index_amp.extend(curr_markers_index_amp)\n",
    "\n",
    "\n",
    "    # check gradient threshold\n",
    "    if use_grad or use_amp_grad:\n",
    "        gradient_diff = np.diff(curr_block)\n",
    "        z_score_grad = stats.zscore(np.insert(gradient_diff, 0, 0))\n",
    "        points_above_thresh_grad = z_score_grad[z_score_grad > threshold_grad]\n",
    "        if len(points_above_thresh_grad) > 0:\n",
    "            index_above_threshold_grad = (z_score_grad > threshold_grad).nonzero()[0] + i * points_in_block\n",
    "            curr_markers_index_grad, curr_marker_value_grad = get_markers(data, index_above_threshold_grad, 'grad')\n",
    "            max_markers_index_grad.extend(curr_markers_index_grad)\n",
    "\n",
    "    # check envelope threshold\n",
    "    if use_env or use_amp_env:\n",
    "        filtered_block = mne.filter.filter_data(curr_block, sampling_rate, low_pass, high_pass)\n",
    "        env_block = abs(signal.hilbert(filtered_block))\n",
    "        z_score_env = stats.zscore(env_block)\n",
    "        points_above_thresh_env = z_score_env[z_score_env > threshold_env]\n",
    "        if len(points_above_thresh_env) > 0:\n",
    "            index_above_threshold_env = (z_score_env > threshold_env).nonzero()[0] + i * points_in_block\n",
    "            curr_markers_index_env, curr_marker_value_env = get_markers(data, index_above_threshold_env, 'env')\n",
    "            max_markers_index_env.extend(curr_markers_index_env)\n"
   ]
  },
  {
   "cell_type": "code",
   "execution_count": 6,
   "id": "legendary-catalog",
   "metadata": {},
   "outputs": [
    {
     "data": {
      "text/plain": [
       "<matplotlib.collections.PathCollection at 0x29c5afad048>"
      ]
     },
     "execution_count": 6,
     "metadata": {},
     "output_type": "execute_result"
    },
    {
     "data": {
      "image/png": "[encoded data removed]",
      "text/plain": [
       "<Figure size 432x288 with 1 Axes>"
      ]
     },
     "metadata": {
      "needs_background": "light"
     },
     "output_type": "display_data"
    }
   ],
   "source": [
    "plt.plot(data, alpha=0.8)\n",
    "plt.scatter(max_markers_index_amp, data[max_markers_index_amp] if len(max_markers_index_amp) > 0 else [], marker='X', color='fuchsia')\n",
    "plt.scatter(max_markers_index_grad, data[max_markers_index_grad] if len(max_markers_index_grad) > 0 else [], marker='P', color='red')\n",
    "plt.scatter(max_markers_index_env, data[max_markers_index_env] if len(max_markers_index_env) > 0 else [], marker='o', color='blue', s=15)"
   ]
  },
  {
   "cell_type": "code",
   "execution_count": 7,
   "id": "4e5a85c1",
   "metadata": {},
   "outputs": [],
   "source": [
    "# union close spikes\n",
    "def union_spikes(spikes_df, min_distance_sec, sr):\n",
    "    new_spikes_list = []\n",
    "    flag, any_union = False, False\n",
    "    for i, x in spikes_df.iterrows():\n",
    "        # prevent double unions\n",
    "        for j, y in spikes_df[i + 1:].iterrows():\n",
    "            # check distance between the peaks\n",
    "            if abs(x['max_index'] - y['max_index']) / sr < min_distance_sec:\n",
    "                # more than one union with the current spike x\n",
    "                if flag:\n",
    "                    thresh_type = list(set([curr_union[0].append(y['threshold_type'])]))\n",
    "                    max_index, max_amp = (curr_union[3], curr_union[4]) if abs(curr_union[4]) > abs(y['max_amp']) \\\n",
    "                        else (y['max_index'], y['max_amp'])\n",
    "                    curr_union = [thresh_type, min(x[1], y['first_index']), max(curr_union[2], y['last_index']),\n",
    "                         max_index, max_amp, abs(curr_union[1] - y['first_index'])]\n",
    "                else:\n",
    "                    thresh_type = list(set([x['threshold_type'], y['threshold_type']]))\n",
    "                    max_index, max_amp = (x['max_index'], x['max_amp']) if abs(x['max_amp']) > abs(y['max_amp']) \\\n",
    "                            else (y['max_index'], y['max_amp'])\n",
    "                    curr_union = [thresh_type, min(x['first_index'], y['first_index']), max(x['last_index'], y['last_index']),\n",
    "                         max_index, max_amp, abs(x['first_index'] - y['first_index'])]\n",
    "                flag, any_union = True, True\n",
    "        if flag:\n",
    "            new_spikes_list.append(curr_union)\n",
    "            flag = False\n",
    "        else:\n",
    "            new_spikes_list.append(x.tolist())\n",
    "\n",
    "    columns = ['threshold_type', 'first_index', 'last_index', 'max_index', 'max_amp', 'start_diff']\n",
    "    if not any_union:\n",
    "        columns.remove('start_diff')\n",
    "    new_spikes_df = pd.DataFrame(new_spikes_list, columns=columns)\n",
    "    new_spikes_df = new_spikes_df.drop_duplicates(subset='max_index')\n",
    "    new_spikes_df['duration'] = spikes_df['last_index'] - spikes_df['first_index']\n",
    "    return new_spikes_df"
   ]
  },
  {
   "cell_type": "code",
   "execution_count": 8,
   "id": "silver-irish",
   "metadata": {},
   "outputs": [],
   "source": [
    "if save_csv:\n",
    "    spikes_df = pd.DataFrame(spikes_list, columns=['threshold_type', 'first_index', 'last_index', 'max_index', 'max_amp'])\n",
    "    spikes_df['duration_sec'] = (spikes_df['last_index'] - spikes_df['first_index']) / sampling_rate\n",
    "    spikes_df = spikes_df.astype({\"max_index\": int})\n",
    "    # start index from 1 instead 0\n",
    "    spikes_df.index += 1\n",
    "    spikes_df.to_csv('C:\\\\Users\\\\user\\\\PycharmProjects\\\\pythonProject\\\\results\\\\402\\\\402_for_tag_spikes.csv')"
   ]
  },
  {
   "cell_type": "code",
   "execution_count": 9,
   "id": "documented-question",
   "metadata": {},
   "outputs": [],
   "source": [
    "new_spikes_df = pd.DataFrame(spikes_list, columns=['threshold_type', 'first_index', 'last_index', 'max_index', 'max_amp'])"
   ]
  },
  {
   "cell_type": "code",
   "execution_count": 10,
   "id": "4827fbfa",
   "metadata": {},
   "outputs": [
    {
     "data": {
      "text/html": [
       "<div>\n",
       "<style scoped>\n",
       "    .dataframe tbody tr th:only-of-type {\n",
       "        vertical-align: middle;\n",
       "    }\n",
       "\n",
       "    .dataframe tbody tr th {\n",
       "        vertical-align: top;\n",
       "    }\n",
       "\n",
       "    .dataframe thead th {\n",
       "        text-align: right;\n",
       "    }\n",
       "</style>\n",
       "<table border=\"1\" class=\"dataframe\">\n",
       "  <thead>\n",
       "    <tr style=\"text-align: right;\">\n",
       "      <th></th>\n",
       "      <th>threshold_type</th>\n",
       "      <th>first_index</th>\n",
       "      <th>last_index</th>\n",
       "      <th>max_index</th>\n",
       "      <th>max_amp</th>\n",
       "    </tr>\n",
       "  </thead>\n",
       "  <tbody>\n",
       "    <tr>\n",
       "      <th>0</th>\n",
       "      <td>grad</td>\n",
       "      <td>16191</td>\n",
       "      <td>16211</td>\n",
       "      <td>16191</td>\n",
       "      <td>-0.000130</td>\n",
       "    </tr>\n",
       "    <tr>\n",
       "      <th>1</th>\n",
       "      <td>grad</td>\n",
       "      <td>56805</td>\n",
       "      <td>56828</td>\n",
       "      <td>56805</td>\n",
       "      <td>-0.000122</td>\n",
       "    </tr>\n",
       "    <tr>\n",
       "      <th>2</th>\n",
       "      <td>grad</td>\n",
       "      <td>82371</td>\n",
       "      <td>82398</td>\n",
       "      <td>82371</td>\n",
       "      <td>-0.000212</td>\n",
       "    </tr>\n",
       "    <tr>\n",
       "      <th>3</th>\n",
       "      <td>grad</td>\n",
       "      <td>82479</td>\n",
       "      <td>82487</td>\n",
       "      <td>82480</td>\n",
       "      <td>-0.000051</td>\n",
       "    </tr>\n",
       "    <tr>\n",
       "      <th>4</th>\n",
       "      <td>grad</td>\n",
       "      <td>123744</td>\n",
       "      <td>123768</td>\n",
       "      <td>123768</td>\n",
       "      <td>0.000256</td>\n",
       "    </tr>\n",
       "    <tr>\n",
       "      <th>...</th>\n",
       "      <td>...</td>\n",
       "      <td>...</td>\n",
       "      <td>...</td>\n",
       "      <td>...</td>\n",
       "      <td>...</td>\n",
       "    </tr>\n",
       "    <tr>\n",
       "      <th>193</th>\n",
       "      <td>grad</td>\n",
       "      <td>1895014</td>\n",
       "      <td>1895046</td>\n",
       "      <td>1895046</td>\n",
       "      <td>0.001385</td>\n",
       "    </tr>\n",
       "    <tr>\n",
       "      <th>194</th>\n",
       "      <td>env</td>\n",
       "      <td>1894987</td>\n",
       "      <td>1895064</td>\n",
       "      <td>1895051</td>\n",
       "      <td>0.001424</td>\n",
       "    </tr>\n",
       "    <tr>\n",
       "      <th>195</th>\n",
       "      <td>grad</td>\n",
       "      <td>1909639</td>\n",
       "      <td>1909646</td>\n",
       "      <td>1909639</td>\n",
       "      <td>-0.000221</td>\n",
       "    </tr>\n",
       "    <tr>\n",
       "      <th>196</th>\n",
       "      <td>grad</td>\n",
       "      <td>1914573</td>\n",
       "      <td>1914599</td>\n",
       "      <td>1914599</td>\n",
       "      <td>0.000275</td>\n",
       "    </tr>\n",
       "    <tr>\n",
       "      <th>197</th>\n",
       "      <td>env</td>\n",
       "      <td>1909631</td>\n",
       "      <td>1909653</td>\n",
       "      <td>1909634</td>\n",
       "      <td>-0.000254</td>\n",
       "    </tr>\n",
       "  </tbody>\n",
       "</table>\n",
       "<p>198 rows × 5 columns</p>\n",
       "</div>"
      ],
      "text/plain": [
       "    threshold_type  first_index  last_index  max_index   max_amp\n",
       "0             grad        16191       16211      16191 -0.000130\n",
       "1             grad        56805       56828      56805 -0.000122\n",
       "2             grad        82371       82398      82371 -0.000212\n",
       "3             grad        82479       82487      82480 -0.000051\n",
       "4             grad       123744      123768     123768  0.000256\n",
       "..             ...          ...         ...        ...       ...\n",
       "193           grad      1895014     1895046    1895046  0.001385\n",
       "194            env      1894987     1895064    1895051  0.001424\n",
       "195           grad      1909639     1909646    1909639 -0.000221\n",
       "196           grad      1914573     1914599    1914599  0.000275\n",
       "197            env      1909631     1909653    1909634 -0.000254\n",
       "\n",
       "[198 rows x 5 columns]"
      ]
     },
     "execution_count": 10,
     "metadata": {},
     "output_type": "execute_result"
    }
   ],
   "source": [
    "new_spikes_df"
   ]
  },
  {
   "cell_type": "code",
   "execution_count": 11,
   "id": "9f128f4f",
   "metadata": {},
   "outputs": [
    {
     "data": {
      "text/html": [
       "<div>\n",
       "<style scoped>\n",
       "    .dataframe tbody tr th:only-of-type {\n",
       "        vertical-align: middle;\n",
       "    }\n",
       "\n",
       "    .dataframe tbody tr th {\n",
       "        vertical-align: top;\n",
       "    }\n",
       "\n",
       "    .dataframe thead th {\n",
       "        text-align: right;\n",
       "    }\n",
       "</style>\n",
       "<table border=\"1\" class=\"dataframe\">\n",
       "  <thead>\n",
       "    <tr style=\"text-align: right;\">\n",
       "      <th></th>\n",
       "      <th>threshold_type</th>\n",
       "      <th>first_index</th>\n",
       "      <th>last_index</th>\n",
       "      <th>max_index</th>\n",
       "      <th>max_amp</th>\n",
       "      <th>start_diff</th>\n",
       "      <th>duration</th>\n",
       "    </tr>\n",
       "  </thead>\n",
       "  <tbody>\n",
       "    <tr>\n",
       "      <th>0</th>\n",
       "      <td>grad</td>\n",
       "      <td>16191</td>\n",
       "      <td>16211</td>\n",
       "      <td>16191</td>\n",
       "      <td>-0.000130</td>\n",
       "      <td>NaN</td>\n",
       "      <td>20</td>\n",
       "    </tr>\n",
       "    <tr>\n",
       "      <th>1</th>\n",
       "      <td>grad</td>\n",
       "      <td>56805</td>\n",
       "      <td>56828</td>\n",
       "      <td>56805</td>\n",
       "      <td>-0.000122</td>\n",
       "      <td>NaN</td>\n",
       "      <td>23</td>\n",
       "    </tr>\n",
       "    <tr>\n",
       "      <th>2</th>\n",
       "      <td>[grad]</td>\n",
       "      <td>82371</td>\n",
       "      <td>82487</td>\n",
       "      <td>82371</td>\n",
       "      <td>-0.000212</td>\n",
       "      <td>108.0</td>\n",
       "      <td>27</td>\n",
       "    </tr>\n",
       "    <tr>\n",
       "      <th>3</th>\n",
       "      <td>grad</td>\n",
       "      <td>82479</td>\n",
       "      <td>82487</td>\n",
       "      <td>82480</td>\n",
       "      <td>-0.000051</td>\n",
       "      <td>NaN</td>\n",
       "      <td>8</td>\n",
       "    </tr>\n",
       "    <tr>\n",
       "      <th>4</th>\n",
       "      <td>[grad, env]</td>\n",
       "      <td>123744</td>\n",
       "      <td>123797</td>\n",
       "      <td>123769</td>\n",
       "      <td>0.000258</td>\n",
       "      <td>0.0</td>\n",
       "      <td>24</td>\n",
       "    </tr>\n",
       "    <tr>\n",
       "      <th>...</th>\n",
       "      <td>...</td>\n",
       "      <td>...</td>\n",
       "      <td>...</td>\n",
       "      <td>...</td>\n",
       "      <td>...</td>\n",
       "      <td>...</td>\n",
       "      <td>...</td>\n",
       "    </tr>\n",
       "    <tr>\n",
       "      <th>189</th>\n",
       "      <td>[grad, env]</td>\n",
       "      <td>1865142</td>\n",
       "      <td>1865179</td>\n",
       "      <td>1865179</td>\n",
       "      <td>0.000551</td>\n",
       "      <td>4.0</td>\n",
       "      <td>25</td>\n",
       "    </tr>\n",
       "    <tr>\n",
       "      <th>190</th>\n",
       "      <td>grad</td>\n",
       "      <td>1868711</td>\n",
       "      <td>1868729</td>\n",
       "      <td>1868712</td>\n",
       "      <td>-0.000209</td>\n",
       "      <td>NaN</td>\n",
       "      <td>18</td>\n",
       "    </tr>\n",
       "    <tr>\n",
       "      <th>192</th>\n",
       "      <td>[None]</td>\n",
       "      <td>1894987</td>\n",
       "      <td>1895068</td>\n",
       "      <td>1895051</td>\n",
       "      <td>0.001424</td>\n",
       "      <td>27.0</td>\n",
       "      <td>34</td>\n",
       "    </tr>\n",
       "    <tr>\n",
       "      <th>195</th>\n",
       "      <td>[grad, env]</td>\n",
       "      <td>1909631</td>\n",
       "      <td>1909653</td>\n",
       "      <td>1909634</td>\n",
       "      <td>-0.000254</td>\n",
       "      <td>8.0</td>\n",
       "      <td>7</td>\n",
       "    </tr>\n",
       "    <tr>\n",
       "      <th>196</th>\n",
       "      <td>grad</td>\n",
       "      <td>1914573</td>\n",
       "      <td>1914599</td>\n",
       "      <td>1914599</td>\n",
       "      <td>0.000275</td>\n",
       "      <td>NaN</td>\n",
       "      <td>26</td>\n",
       "    </tr>\n",
       "  </tbody>\n",
       "</table>\n",
       "<p>154 rows × 7 columns</p>\n",
       "</div>"
      ],
      "text/plain": [
       "    threshold_type  first_index  last_index  max_index   max_amp  start_diff  \\\n",
       "0             grad        16191       16211      16191 -0.000130         NaN   \n",
       "1             grad        56805       56828      56805 -0.000122         NaN   \n",
       "2           [grad]        82371       82487      82371 -0.000212       108.0   \n",
       "3             grad        82479       82487      82480 -0.000051         NaN   \n",
       "4      [grad, env]       123744      123797     123769  0.000258         0.0   \n",
       "..             ...          ...         ...        ...       ...         ...   \n",
       "189    [grad, env]      1865142     1865179    1865179  0.000551         4.0   \n",
       "190           grad      1868711     1868729    1868712 -0.000209         NaN   \n",
       "192         [None]      1894987     1895068    1895051  0.001424        27.0   \n",
       "195    [grad, env]      1909631     1909653    1909634 -0.000254         8.0   \n",
       "196           grad      1914573     1914599    1914599  0.000275         NaN   \n",
       "\n",
       "     duration  \n",
       "0          20  \n",
       "1          23  \n",
       "2          27  \n",
       "3           8  \n",
       "4          24  \n",
       "..        ...  \n",
       "189        25  \n",
       "190        18  \n",
       "192        34  \n",
       "195         7  \n",
       "196        26  \n",
       "\n",
       "[154 rows x 7 columns]"
      ]
     },
     "execution_count": 11,
     "metadata": {},
     "output_type": "execute_result"
    }
   ],
   "source": [
    "union_spikes(new_spikes_df, 0.1, sampling_rate)"
   ]
  },
  {
   "cell_type": "code",
   "execution_count": 12,
   "id": "dc35abdd",
   "metadata": {},
   "outputs": [
    {
     "data": {
      "text/plain": [
       "[<matplotlib.lines.Line2D at 0x29c5c092f88>]"
      ]
     },
     "execution_count": 12,
     "metadata": {},
     "output_type": "execute_result"
    },
    {
     "data": {
      "image/png": "[encoded data removed]",
      "text/plain": [
       "<Figure size 432x288 with 1 Axes>"
      ]
     },
     "metadata": {
      "needs_background": "light"
     },
     "output_type": "display_data"
    }
   ],
   "source": [
    "# lines instead of markers\n",
    "spike_indexes = np.arange(spikes_list[0][1], spikes_list[0][2] + 1)\n",
    "plt.plot(data, alpha=0.8)\n",
    "plt.plot(spike_indexes, data[spike_indexes])"
   ]
  },
  {
   "cell_type": "code",
   "execution_count": 13,
   "id": "1fe7edbe",
   "metadata": {},
   "outputs": [],
   "source": [
    "x, y = False, False"
   ]
  },
  {
   "cell_type": "code",
   "execution_count": 14,
   "id": "f00a3943",
   "metadata": {},
   "outputs": [
    {
     "data": {
      "text/plain": [
       "['asd']"
      ]
     },
     "execution_count": 14,
     "metadata": {},
     "output_type": "execute_result"
    }
   ],
   "source": [
    "list(set(['asd', 'asd']))"
   ]
  },
  {
   "cell_type": "code",
   "execution_count": 15,
   "id": "fec3fde0",
   "metadata": {},
   "outputs": [
    {
     "data": {
      "text/plain": [
       "<generator object DataFrame.iterrows at 0x0000029C5C078848>"
      ]
     },
     "execution_count": 15,
     "metadata": {},
     "output_type": "execute_result"
    }
   ],
   "source": [
    "spikes_df.iterrows()"
   ]
  },
  {
   "cell_type": "code",
   "execution_count": 16,
   "id": "0ea3c299",
   "metadata": {},
   "outputs": [
    {
     "data": {
      "text/plain": [
       "False"
      ]
     },
     "execution_count": 16,
     "metadata": {},
     "output_type": "execute_result"
    }
   ],
   "source": [
    "y"
   ]
  },
  {
   "cell_type": "code",
   "execution_count": null,
   "id": "03f598b6",
   "metadata": {},
   "outputs": [],
   "source": []
  }
 ],
 "metadata": {
  "kernelspec": {
   "display_name": "Python 3 (ipykernel)",
   "language": "python",
   "name": "python3"
  },
  "language_info": {
   "codemirror_mode": {
    "name": "ipython",
    "version": 3
   },
   "file_extension": ".py",
   "mimetype": "text/x-python",
   "name": "python",
   "nbconvert_exporter": "python",
   "pygments_lexer": "ipython3",
   "version": "3.7.7"
  }
 },
 "nbformat": 4,
 "nbformat_minor": 5
}
