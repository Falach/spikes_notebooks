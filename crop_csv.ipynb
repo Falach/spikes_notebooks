{
 "cells": [
  {
   "cell_type": "code",
   "execution_count": null,
   "metadata": {},
   "outputs": [],
   "source": [
    "import pandas as pd\n",
    "import numpy as np\n",
    "import mne\n",
    "import os\n",
    "time_path = r\"C:\\Users\\mad17\\Downloads\\Time_Rem.csv\"\n",
    "fif_path = r\"C:\\Users\\mad17\\Desktop\\VE\\MFF\\mff\"\n",
    "fif_files = os.listdir(fif_path)\n",
    "time = pd.read_csv(time_path)"
   ]
  },
  {
   "cell_type": "code",
   "execution_count": null,
   "metadata": {},
   "outputs": [],
   "source": [
    "# rename files in fif_files\n",
    "for i in range(len(fif_files)):\n",
    "    fif_files[i] = fif_files[i].split('_')[0]\n",
    "# leave in time only id and Unnamed: 4\tUnnamed: 5\n",
    "time = time[['ID','sec_start1','sec_end1']]\n",
    "time = time.dropna()\n",
    "time = time.sort_values(by=['ID'])\n",
    "time['ID'] = time['ID'].astype(str) + '.fif'\n",
    "time"
   ]
  },
  {
   "cell_type": "code",
   "execution_count": null,
   "metadata": {},
   "outputs": [],
   "source": [
    "# Crop fif files by sec_start and sec_end in time\n",
    "for i in range(len(time)):\n",
    "    # find the file in fif_files\n",
    "    for j in range(len(fif_files)):\n",
    "        if fif_files[j] == time.iloc[i,0]:\n",
    "            # read fif file\n",
    "            raw = mne.io.read_raw_fif(os.path.join(fif_path,fif_files[j]), preload=False)\n",
    "            # crop fif file\n",
    "            crop = raw.crop(time.iloc[i,1],time.iloc[i,2],include_tmax=True)\n",
    "            # save fif file\n",
    "            crop.save(fname=os.path.join(fif_path,fif_files[j]+'_crop.fif'))\n",
    "            print(fif_files[j])\n",
    "            break\n",
    "        \n",
    "\n",
    "\n"
   ]
  },
  {
   "cell_type": "code",
   "execution_count": null,
   "metadata": {},
   "outputs": [],
   "source": [
    "\n",
    "import glob\n",
    "import os\n",
    "fif_files = glob.glob(r\"D:\\EPI_MFF\\REM_EOG\\EPI\\*.fif\")\n",
    "for fif_file in fif_files:\n",
    "    os.rename(fif_file, fif_file.replace('.fif_crop.fif', '.fif'))\n",
    "    fif_files = glob.glob(r\"D:\\EPI_MFF\\REM_EOG\\HC\\*.fif\")\n",
    "for fif_file in fif_files:\n",
    "    os.rename(fif_file, fif_file.replace('.fif_crop.fif', '.fif'))\n",
    "    "
   ]
  }
 ],
 "metadata": {
  "language_info": {
   "name": "python"
  },
  "orig_nbformat": 4
 },
 "nbformat": 4,
 "nbformat_minor": 2
}
