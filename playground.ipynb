{
 "cells": [
  {
   "cell_type": "code",
   "execution_count": 36,
   "id": "f0bcdb99",
   "metadata": {},
   "outputs": [],
   "source": [
    "import mne\n",
    "import numpy as np\n",
    "from matplotlib import pyplot as plt\n",
    "import math\n",
    "from scipy import stats, signal\n",
    "import itertools\n",
    "import pandas as pd\n",
    "from datetime import datetime\n",
    "import os"
   ]
  },
  {
   "cell_type": "code",
   "execution_count": null,
   "id": "2a1fac81",
   "metadata": {},
   "outputs": [],
   "source": [
    "%matplotlib qt\n",
    "raw = mne.io.read_raw_edf('C:\\\\Lilach\\\\402_for_tag.edf')\n",
    "raw.plot(duration=30, scalings='auto')"
   ]
  },
  {
   "cell_type": "code",
   "execution_count": null,
   "id": "fef514c9",
   "metadata": {},
   "outputs": [],
   "source": [
    "for x in raw.annotations:\n",
    "    print(x)"
   ]
  },
  {
   "cell_type": "code",
   "execution_count": null,
   "id": "1bd563d2",
   "metadata": {},
   "outputs": [],
   "source": [
    "# raw.annotations.save('C:\\\\Lilach\\\\402_anot.csv')"
   ]
  },
  {
   "cell_type": "code",
   "execution_count": 3,
   "id": "d7afd89f",
   "metadata": {},
   "outputs": [
    {
     "name": "stdout",
     "output_type": "stream",
     "text": [
      "Extracting EDF parameters from C:\\Lilach\\402_for_tag.edf...\n",
      "EDF file detected\n",
      "Setting channel info structure...\n",
      "Creating raw.info structure...\n"
     ]
    }
   ],
   "source": [
    "# Get tags from annotations (only until the 'end' cause it's 100% covered)\n",
    "raw = mne.io.read_raw_edf('C:\\\\Lilach\\\\402_for_tag.edf')\n",
    "\n",
    "df = pd.DataFrame(raw.annotations)\n",
    "i = df.loc[df['description'] == 'END'].index[0]\n",
    "df = df[:i]\n",
    "right = df[df['description'].str.contains('Rt')]\n",
    "left = df[df['description'].str.contains('Lt')]"
   ]
  },
  {
   "cell_type": "code",
   "execution_count": 19,
   "id": "f561a8ed",
   "metadata": {},
   "outputs": [],
   "source": []
  },
  {
   "cell_type": "code",
   "execution_count": null,
   "id": "bed60f8d",
   "metadata": {},
   "outputs": [],
   "source": [
    "path = 'C:\\\\Users\\\\user\\\\PycharmProjects\\\\pythonProject\\\\results\\\\'\n",
    "subj = '402'\n",
    "right_tags = pd.read_csv(path + f'{subj}\\\\{subj}_tags.csv')['R'].dropna()"
   ]
  },
  {
   "cell_type": "code",
   "execution_count": 20,
   "id": "e913152c",
   "metadata": {},
   "outputs": [
    {
     "data": {
      "text/html": [
       "<div>\n",
       "<style scoped>\n",
       "    .dataframe tbody tr th:only-of-type {\n",
       "        vertical-align: middle;\n",
       "    }\n",
       "\n",
       "    .dataframe tbody tr th {\n",
       "        vertical-align: top;\n",
       "    }\n",
       "\n",
       "    .dataframe thead th {\n",
       "        text-align: right;\n",
       "    }\n",
       "</style>\n",
       "<table border=\"1\" class=\"dataframe\">\n",
       "  <thead>\n",
       "    <tr style=\"text-align: right;\">\n",
       "      <th></th>\n",
       "    </tr>\n",
       "  </thead>\n",
       "  <tbody>\n",
       "  </tbody>\n",
       "</table>\n",
       "</div>"
      ],
      "text/plain": [
       "Empty DataFrame\n",
       "Columns: []\n",
       "Index: []"
      ]
     },
     "execution_count": 20,
     "metadata": {},
     "output_type": "execute_result"
    }
   ],
   "source": []
  },
  {
   "cell_type": "code",
   "execution_count": 5,
   "id": "f679dfbc",
   "metadata": {},
   "outputs": [
    {
     "data": {
      "text/plain": [
       "array([ 60, 120, 180, 240])"
      ]
     },
     "execution_count": 5,
     "metadata": {},
     "output_type": "execute_result"
    }
   ],
   "source": [
    "\n",
    "np.arange(60, 241, 60)"
   ]
  },
  {
   "cell_type": "code",
   "execution_count": null,
   "id": "89a90967",
   "metadata": {},
   "outputs": [],
   "source": []
  },
  {
   "cell_type": "code",
   "execution_count": 21,
   "id": "d45f5549",
   "metadata": {},
   "outputs": [],
   "source": [
    "# from mnelab.io.writers import write_edf\n",
    "# for subj in ['396', '398', '402', '405', '406', '415', '416']:\n",
    "#     raw = mne.io.read_raw_edf(f'C:\\\\Lilach\\\\{subj}_for_tag.edf')\n",
    "#     raw.load_data()\n",
    "#     raw.filter(l_freq=0.1, h_freq=500)\n",
    "#     raw.notch_filter((60, 120, 180, 240), method='spectrum_fit')\n",
    "#     write_edf(f'C:\\\\Lilach\\\\{subj}_for_tag_filtered.edf', raw)"
   ]
  },
  {
   "cell_type": "code",
   "execution_count": 25,
   "id": "44a84242",
   "metadata": {},
   "outputs": [],
   "source": [
    "df = pd.read_csv(\"C:\\\\analysis\\\\402\\\\best_thresh_detect\\\\402_LAH1_t5_6_10.csv\")"
   ]
  },
  {
   "cell_type": "code",
   "execution_count": 26,
   "id": "51dff1f5",
   "metadata": {},
   "outputs": [
    {
     "data": {
      "text/html": [
       "<div>\n",
       "<style scoped>\n",
       "    .dataframe tbody tr th:only-of-type {\n",
       "        vertical-align: middle;\n",
       "    }\n",
       "\n",
       "    .dataframe tbody tr th {\n",
       "        vertical-align: top;\n",
       "    }\n",
       "\n",
       "    .dataframe thead th {\n",
       "        text-align: right;\n",
       "    }\n",
       "</style>\n",
       "<table border=\"1\" class=\"dataframe\">\n",
       "  <thead>\n",
       "    <tr style=\"text-align: right;\">\n",
       "      <th></th>\n",
       "      <th>Unnamed: 0</th>\n",
       "      <th>threshold_type</th>\n",
       "      <th>first_index</th>\n",
       "      <th>last_index</th>\n",
       "      <th>max_index</th>\n",
       "      <th>max_amp</th>\n",
       "      <th>duration</th>\n",
       "      <th>duration_sec</th>\n",
       "    </tr>\n",
       "  </thead>\n",
       "  <tbody>\n",
       "    <tr>\n",
       "      <th>0</th>\n",
       "      <td>1</td>\n",
       "      <td>['env', 'grad', 'amp']</td>\n",
       "      <td>4751</td>\n",
       "      <td>4849</td>\n",
       "      <td>4833</td>\n",
       "      <td>0.000534</td>\n",
       "      <td>98</td>\n",
       "      <td>0.0490</td>\n",
       "    </tr>\n",
       "    <tr>\n",
       "      <th>1</th>\n",
       "      <td>2</td>\n",
       "      <td>['env', 'grad']</td>\n",
       "      <td>1346</td>\n",
       "      <td>1375</td>\n",
       "      <td>1375</td>\n",
       "      <td>0.000090</td>\n",
       "      <td>29</td>\n",
       "      <td>0.0145</td>\n",
       "    </tr>\n",
       "    <tr>\n",
       "      <th>2</th>\n",
       "      <td>3</td>\n",
       "      <td>['env', 'grad']</td>\n",
       "      <td>4751</td>\n",
       "      <td>4829</td>\n",
       "      <td>4829</td>\n",
       "      <td>0.000522</td>\n",
       "      <td>78</td>\n",
       "      <td>0.0390</td>\n",
       "    </tr>\n",
       "    <tr>\n",
       "      <th>3</th>\n",
       "      <td>4</td>\n",
       "      <td>env</td>\n",
       "      <td>4755</td>\n",
       "      <td>4776</td>\n",
       "      <td>4767</td>\n",
       "      <td>0.000286</td>\n",
       "      <td>21</td>\n",
       "      <td>0.0105</td>\n",
       "    </tr>\n",
       "    <tr>\n",
       "      <th>4</th>\n",
       "      <td>5</td>\n",
       "      <td>grad</td>\n",
       "      <td>26667</td>\n",
       "      <td>26677</td>\n",
       "      <td>26667</td>\n",
       "      <td>-0.000106</td>\n",
       "      <td>10</td>\n",
       "      <td>0.0050</td>\n",
       "    </tr>\n",
       "    <tr>\n",
       "      <th>...</th>\n",
       "      <td>...</td>\n",
       "      <td>...</td>\n",
       "      <td>...</td>\n",
       "      <td>...</td>\n",
       "      <td>...</td>\n",
       "      <td>...</td>\n",
       "      <td>...</td>\n",
       "      <td>...</td>\n",
       "    </tr>\n",
       "    <tr>\n",
       "      <th>2341</th>\n",
       "      <td>2342</td>\n",
       "      <td>env</td>\n",
       "      <td>47260861</td>\n",
       "      <td>47260891</td>\n",
       "      <td>47260863</td>\n",
       "      <td>0.000161</td>\n",
       "      <td>30</td>\n",
       "      <td>0.0150</td>\n",
       "    </tr>\n",
       "    <tr>\n",
       "      <th>2342</th>\n",
       "      <td>2343</td>\n",
       "      <td>['env', 'grad', 'amp']</td>\n",
       "      <td>47286026</td>\n",
       "      <td>47286138</td>\n",
       "      <td>47286103</td>\n",
       "      <td>0.000653</td>\n",
       "      <td>112</td>\n",
       "      <td>0.0560</td>\n",
       "    </tr>\n",
       "    <tr>\n",
       "      <th>2343</th>\n",
       "      <td>2344</td>\n",
       "      <td>['env', 'grad']</td>\n",
       "      <td>47286026</td>\n",
       "      <td>47286096</td>\n",
       "      <td>47286096</td>\n",
       "      <td>0.000631</td>\n",
       "      <td>70</td>\n",
       "      <td>0.0350</td>\n",
       "    </tr>\n",
       "    <tr>\n",
       "      <th>2344</th>\n",
       "      <td>2345</td>\n",
       "      <td>env</td>\n",
       "      <td>47286026</td>\n",
       "      <td>47286078</td>\n",
       "      <td>47286078</td>\n",
       "      <td>0.000320</td>\n",
       "      <td>52</td>\n",
       "      <td>0.0260</td>\n",
       "    </tr>\n",
       "    <tr>\n",
       "      <th>2345</th>\n",
       "      <td>2346</td>\n",
       "      <td>amp</td>\n",
       "      <td>47400677</td>\n",
       "      <td>47400692</td>\n",
       "      <td>47400681</td>\n",
       "      <td>0.000220</td>\n",
       "      <td>15</td>\n",
       "      <td>0.0075</td>\n",
       "    </tr>\n",
       "  </tbody>\n",
       "</table>\n",
       "<p>2346 rows × 8 columns</p>\n",
       "</div>"
      ],
      "text/plain": [
       "      Unnamed: 0          threshold_type  first_index  last_index  max_index  \\\n",
       "0              1  ['env', 'grad', 'amp']         4751        4849       4833   \n",
       "1              2         ['env', 'grad']         1346        1375       1375   \n",
       "2              3         ['env', 'grad']         4751        4829       4829   \n",
       "3              4                     env         4755        4776       4767   \n",
       "4              5                    grad        26667       26677      26667   \n",
       "...          ...                     ...          ...         ...        ...   \n",
       "2341        2342                     env     47260861    47260891   47260863   \n",
       "2342        2343  ['env', 'grad', 'amp']     47286026    47286138   47286103   \n",
       "2343        2344         ['env', 'grad']     47286026    47286096   47286096   \n",
       "2344        2345                     env     47286026    47286078   47286078   \n",
       "2345        2346                     amp     47400677    47400692   47400681   \n",
       "\n",
       "       max_amp  duration  duration_sec  \n",
       "0     0.000534        98        0.0490  \n",
       "1     0.000090        29        0.0145  \n",
       "2     0.000522        78        0.0390  \n",
       "3     0.000286        21        0.0105  \n",
       "4    -0.000106        10        0.0050  \n",
       "...        ...       ...           ...  \n",
       "2341  0.000161        30        0.0150  \n",
       "2342  0.000653       112        0.0560  \n",
       "2343  0.000631        70        0.0350  \n",
       "2344  0.000320        52        0.0260  \n",
       "2345  0.000220        15        0.0075  \n",
       "\n",
       "[2346 rows x 8 columns]"
      ]
     },
     "execution_count": 26,
     "metadata": {},
     "output_type": "execute_result"
    }
   ],
   "source": [
    "df"
   ]
  },
  {
   "cell_type": "code",
   "execution_count": 27,
   "id": "2f877ea3",
   "metadata": {},
   "outputs": [
    {
     "data": {
      "text/html": [
       "<div>\n",
       "<style scoped>\n",
       "    .dataframe tbody tr th:only-of-type {\n",
       "        vertical-align: middle;\n",
       "    }\n",
       "\n",
       "    .dataframe tbody tr th {\n",
       "        vertical-align: top;\n",
       "    }\n",
       "\n",
       "    .dataframe thead th {\n",
       "        text-align: right;\n",
       "    }\n",
       "</style>\n",
       "<table border=\"1\" class=\"dataframe\">\n",
       "  <thead>\n",
       "    <tr style=\"text-align: right;\">\n",
       "      <th></th>\n",
       "      <th>Unnamed: 0</th>\n",
       "      <th>threshold_type</th>\n",
       "      <th>first_index</th>\n",
       "      <th>last_index</th>\n",
       "      <th>max_index</th>\n",
       "      <th>max_amp</th>\n",
       "      <th>duration</th>\n",
       "      <th>duration_sec</th>\n",
       "    </tr>\n",
       "  </thead>\n",
       "  <tbody>\n",
       "    <tr>\n",
       "      <th>59</th>\n",
       "      <td>60</td>\n",
       "      <td>['env', 'grad']</td>\n",
       "      <td>1623218</td>\n",
       "      <td>1623300</td>\n",
       "      <td>1623300</td>\n",
       "      <td>0.000645</td>\n",
       "      <td>82</td>\n",
       "      <td>0.0410</td>\n",
       "    </tr>\n",
       "    <tr>\n",
       "      <th>1963</th>\n",
       "      <td>1964</td>\n",
       "      <td>['env', 'grad']</td>\n",
       "      <td>40529289</td>\n",
       "      <td>40529360</td>\n",
       "      <td>40529360</td>\n",
       "      <td>0.000207</td>\n",
       "      <td>71</td>\n",
       "      <td>0.0355</td>\n",
       "    </tr>\n",
       "    <tr>\n",
       "      <th>49</th>\n",
       "      <td>50</td>\n",
       "      <td>['env', 'grad', 'amp']</td>\n",
       "      <td>1508616</td>\n",
       "      <td>1508714</td>\n",
       "      <td>1508691</td>\n",
       "      <td>0.000610</td>\n",
       "      <td>98</td>\n",
       "      <td>0.0490</td>\n",
       "    </tr>\n",
       "    <tr>\n",
       "      <th>546</th>\n",
       "      <td>547</td>\n",
       "      <td>['env', 'grad']</td>\n",
       "      <td>12624643</td>\n",
       "      <td>12624710</td>\n",
       "      <td>12624686</td>\n",
       "      <td>-0.000169</td>\n",
       "      <td>67</td>\n",
       "      <td>0.0335</td>\n",
       "    </tr>\n",
       "    <tr>\n",
       "      <th>1626</th>\n",
       "      <td>1627</td>\n",
       "      <td>env</td>\n",
       "      <td>31962924</td>\n",
       "      <td>31962971</td>\n",
       "      <td>31962958</td>\n",
       "      <td>0.000144</td>\n",
       "      <td>47</td>\n",
       "      <td>0.0235</td>\n",
       "    </tr>\n",
       "    <tr>\n",
       "      <th>...</th>\n",
       "      <td>...</td>\n",
       "      <td>...</td>\n",
       "      <td>...</td>\n",
       "      <td>...</td>\n",
       "      <td>...</td>\n",
       "      <td>...</td>\n",
       "      <td>...</td>\n",
       "      <td>...</td>\n",
       "    </tr>\n",
       "    <tr>\n",
       "      <th>931</th>\n",
       "      <td>932</td>\n",
       "      <td>grad</td>\n",
       "      <td>20161862</td>\n",
       "      <td>20161872</td>\n",
       "      <td>20161872</td>\n",
       "      <td>0.000035</td>\n",
       "      <td>10</td>\n",
       "      <td>0.0050</td>\n",
       "    </tr>\n",
       "    <tr>\n",
       "      <th>1567</th>\n",
       "      <td>1568</td>\n",
       "      <td>['env', 'grad']</td>\n",
       "      <td>31240934</td>\n",
       "      <td>31240978</td>\n",
       "      <td>31240978</td>\n",
       "      <td>0.000781</td>\n",
       "      <td>44</td>\n",
       "      <td>0.0220</td>\n",
       "    </tr>\n",
       "    <tr>\n",
       "      <th>145</th>\n",
       "      <td>146</td>\n",
       "      <td>['env', 'grad']</td>\n",
       "      <td>2402419</td>\n",
       "      <td>2402446</td>\n",
       "      <td>2402422</td>\n",
       "      <td>-0.000115</td>\n",
       "      <td>27</td>\n",
       "      <td>0.0135</td>\n",
       "    </tr>\n",
       "    <tr>\n",
       "      <th>784</th>\n",
       "      <td>785</td>\n",
       "      <td>amp</td>\n",
       "      <td>16157557</td>\n",
       "      <td>16157585</td>\n",
       "      <td>16157570</td>\n",
       "      <td>0.000225</td>\n",
       "      <td>28</td>\n",
       "      <td>0.0140</td>\n",
       "    </tr>\n",
       "    <tr>\n",
       "      <th>2302</th>\n",
       "      <td>2303</td>\n",
       "      <td>grad</td>\n",
       "      <td>46645412</td>\n",
       "      <td>46645429</td>\n",
       "      <td>46645429</td>\n",
       "      <td>0.000108</td>\n",
       "      <td>17</td>\n",
       "      <td>0.0085</td>\n",
       "    </tr>\n",
       "  </tbody>\n",
       "</table>\n",
       "<p>100 rows × 8 columns</p>\n",
       "</div>"
      ],
      "text/plain": [
       "      Unnamed: 0          threshold_type  first_index  last_index  max_index  \\\n",
       "59            60         ['env', 'grad']      1623218     1623300    1623300   \n",
       "1963        1964         ['env', 'grad']     40529289    40529360   40529360   \n",
       "49            50  ['env', 'grad', 'amp']      1508616     1508714    1508691   \n",
       "546          547         ['env', 'grad']     12624643    12624710   12624686   \n",
       "1626        1627                     env     31962924    31962971   31962958   \n",
       "...          ...                     ...          ...         ...        ...   \n",
       "931          932                    grad     20161862    20161872   20161872   \n",
       "1567        1568         ['env', 'grad']     31240934    31240978   31240978   \n",
       "145          146         ['env', 'grad']      2402419     2402446    2402422   \n",
       "784          785                     amp     16157557    16157585   16157570   \n",
       "2302        2303                    grad     46645412    46645429   46645429   \n",
       "\n",
       "       max_amp  duration  duration_sec  \n",
       "59    0.000645        82        0.0410  \n",
       "1963  0.000207        71        0.0355  \n",
       "49    0.000610        98        0.0490  \n",
       "546  -0.000169        67        0.0335  \n",
       "1626  0.000144        47        0.0235  \n",
       "...        ...       ...           ...  \n",
       "931   0.000035        10        0.0050  \n",
       "1567  0.000781        44        0.0220  \n",
       "145  -0.000115        27        0.0135  \n",
       "784   0.000225        28        0.0140  \n",
       "2302  0.000108        17        0.0085  \n",
       "\n",
       "[100 rows x 8 columns]"
      ]
     },
     "execution_count": 27,
     "metadata": {},
     "output_type": "execute_result"
    }
   ],
   "source": [
    "df.sample(100)"
   ]
  },
  {
   "cell_type": "code",
   "execution_count": 32,
   "id": "45c74985",
   "metadata": {},
   "outputs": [
    {
     "data": {
      "text/plain": [
       "False"
      ]
     },
     "execution_count": 32,
     "metadata": {},
     "output_type": "execute_result"
    }
   ],
   "source": [
    "'amp' in 'env'"
   ]
  },
  {
   "cell_type": "code",
   "execution_count": 30,
   "id": "bc666a90",
   "metadata": {},
   "outputs": [
    {
     "data": {
      "text/plain": [
       "False"
      ]
     },
     "execution_count": 30,
     "metadata": {},
     "output_type": "execute_result"
    }
   ],
   "source": [
    "'amp' in ['env', 'grad']"
   ]
  },
  {
   "cell_type": "code",
   "execution_count": 57,
   "id": "9b03a5de",
   "metadata": {},
   "outputs": [
    {
     "name": "stdout",
     "output_type": "stream",
     "text": [
      "Opening raw data file C:\\UCLA\\396_cz+bi_full_filtered.fif...\n"
     ]
    },
    {
     "name": "stderr",
     "output_type": "stream",
     "text": [
      "C:\\Users\\user\\AppData\\Local\\Temp/ipykernel_13268/286939407.py:5: RuntimeWarning: This filename (C:\\UCLA\\396_cz+bi_full_filtered.fif) does not conform to MNE naming conventions. All raw files should end with raw.fif, raw_sss.fif, raw_tsss.fif, _meg.fif, _eeg.fif, _ieeg.fif, raw.fif.gz, raw_sss.fif.gz, raw_tsss.fif.gz, _meg.fif.gz, _eeg.fif.gz or _ieeg.fif.gz\n",
      "  raw = mne.io.read_raw_fif(f'C:\\\\UCLA\\\\{subj}_cz+bi_full_filtered.fif')\n"
     ]
    },
    {
     "name": "stdout",
     "output_type": "stream",
     "text": [
      "Isotrak not found\n",
      "    Range : 0 ... 17883999 =      0.000 ...  8941.999 secs\n",
      "Ready.\n",
      "Opening raw data file C:\\UCLA\\396_cz+bi_full_filtered-1.fif...\n",
      "Isotrak not found\n",
      "    Range : 17884000 ... 35767999 =   8942.000 ... 17884.000 secs\n",
      "Ready.\n",
      "Opening raw data file C:\\UCLA\\396_cz+bi_full_filtered-2.fif...\n",
      "Isotrak not found\n",
      "    Range : 35768000 ... 50401999 =  17884.000 ... 25201.000 secs\n",
      "Ready.\n",
      "Creating RawArray with float64 data, n_channels=1, n_times=50402000\n",
      "    Range : 0 ... 50401999 =      0.000 ... 25201.000 secs\n",
      "Ready.\n",
      "Creating RawArray with float64 data, n_channels=1, n_times=50402000\n",
      "    Range : 0 ... 50401999 =      0.000 ... 25201.000 secs\n",
      "Ready.\n",
      "Creating RawArray with float64 data, n_channels=1, n_times=50402000\n",
      "    Range : 0 ... 50401999 =      0.000 ... 25201.000 secs\n",
      "Ready.\n",
      "Reading 0 ... 50401999  =      0.000 ... 25201.000 secs...\n",
      "Writing C:\\analysis\\396\\396_LAH1_100_samples.fif\n"
     ]
    },
    {
     "name": "stderr",
     "output_type": "stream",
     "text": [
      "C:\\Users\\user\\AppData\\Local\\Temp/ipykernel_13268/286939407.py:28: RuntimeWarning: This filename (C:\\analysis\\396\\396_LAH1_100_samples.fif) does not conform to MNE naming conventions. All raw files should end with raw.fif, raw_sss.fif, raw_tsss.fif, _meg.fif, _eeg.fif, _ieeg.fif, raw.fif.gz, raw_sss.fif.gz, raw_tsss.fif.gz, _meg.fif.gz, _eeg.fif.gz or _ieeg.fif.gz\n",
      "  raw.save(f'C:\\\\analysis\\\\{subj}\\\\{subj}_LAH1_100_samples.fif', overwrite=True)\n"
     ]
    },
    {
     "name": "stdout",
     "output_type": "stream",
     "text": [
      "Writing C:\\analysis\\396\\396_LAH1_100_samples-1.fif\n",
      "Closing C:\\analysis\\396\\396_LAH1_100_samples-1.fif\n",
      "Closing C:\\analysis\\396\\396_LAH1_100_samples.fif\n",
      "[done]\n"
     ]
    }
   ],
   "source": [
    "# create files with 100 samples\n",
    "channel_name = 'LAH1'\n",
    "#for subj in ['396', '398', '402', '406', '415', '416']:\n",
    "for subj in ['396']:\n",
    "    raw = mne.io.read_raw_fif(f'C:\\\\UCLA\\\\{subj}_cz+bi_full_filtered.fif')\n",
    "    sf = raw.info['sfreq']\n",
    "    path = f'C:\\\\analysis\\\\{subj}\\\\best_thresh_detect'\n",
    "    pred_file = [x for x in os.listdir(path) if '2' not in x and 'tag' not in x][0]\n",
    "    spikes_df = pd.read_csv(path + '\\\\' + pred_file)\n",
    "    stim_amp, stim_grad, stim_env = np.zeros((1, raw.n_times)), np.zeros((1, raw.n_times)), np.zeros((1, raw.n_times))\n",
    "    for evt in spikes_df.sample(100).values:\n",
    "        if 'amp' in evt[1]:\n",
    "            stim_amp[0][evt[4]] = 1\n",
    "        if 'grad' in evt[1]:\n",
    "            stim_grad[0][evt[4]] = 1\n",
    "        if 'env' in evt[1]:\n",
    "            stim_env[0][evt[4]] = 1\n",
    "\n",
    "    raw.pick_channels([x for x in raw.ch_names if x[0] == 'L' and '-' not in x])\n",
    "    info_amp = mne.create_info(['AMP'], raw.info['sfreq'], ['stim'])\n",
    "    info_grad = mne.create_info(['GRAD'], raw.info['sfreq'], ['stim'])\n",
    "    info_env = mne.create_info(['ENV'], raw.info['sfreq'], ['stim'])\n",
    "    amp_raw = mne.io.RawArray(stim_amp, info_amp)\n",
    "    grad_raw = mne.io.RawArray(stim_grad, info_grad)\n",
    "    env_raw = mne.io.RawArray(stim_env, info_env)\n",
    "    raw.load_data()\n",
    "    raw.add_channels([amp_raw, grad_raw, env_raw], force_update_info=True)\n",
    "    raw.save(f'C:\\\\analysis\\\\{subj}\\\\{subj}_LAH1_100_samples.fif', overwrite=True)\n"
   ]
  },
  {
   "cell_type": "code",
   "execution_count": 60,
   "id": "984aae34",
   "metadata": {},
   "outputs": [
    {
     "data": {
      "text/html": [
       "<div>\n",
       "<style scoped>\n",
       "    .dataframe tbody tr th:only-of-type {\n",
       "        vertical-align: middle;\n",
       "    }\n",
       "\n",
       "    .dataframe tbody tr th {\n",
       "        vertical-align: top;\n",
       "    }\n",
       "\n",
       "    .dataframe thead th {\n",
       "        text-align: right;\n",
       "    }\n",
       "</style>\n",
       "<table border=\"1\" class=\"dataframe\">\n",
       "  <thead>\n",
       "    <tr style=\"text-align: right;\">\n",
       "      <th></th>\n",
       "      <th>Unnamed: 0</th>\n",
       "      <th>threshold_type</th>\n",
       "      <th>first_index</th>\n",
       "      <th>last_index</th>\n",
       "      <th>max_index</th>\n",
       "      <th>max_amp</th>\n",
       "      <th>duration</th>\n",
       "      <th>duration_sec</th>\n",
       "    </tr>\n",
       "  </thead>\n",
       "  <tbody>\n",
       "    <tr>\n",
       "      <th>106</th>\n",
       "      <td>107</td>\n",
       "      <td>env</td>\n",
       "      <td>2029731</td>\n",
       "      <td>2029747</td>\n",
       "      <td>2029740</td>\n",
       "      <td>0.000321</td>\n",
       "      <td>16</td>\n",
       "      <td>0.0080</td>\n",
       "    </tr>\n",
       "    <tr>\n",
       "      <th>2577</th>\n",
       "      <td>2578</td>\n",
       "      <td>amp</td>\n",
       "      <td>46573247</td>\n",
       "      <td>46573283</td>\n",
       "      <td>46573269</td>\n",
       "      <td>0.001822</td>\n",
       "      <td>36</td>\n",
       "      <td>0.0180</td>\n",
       "    </tr>\n",
       "    <tr>\n",
       "      <th>1086</th>\n",
       "      <td>1087</td>\n",
       "      <td>['env', 'grad']</td>\n",
       "      <td>18340520</td>\n",
       "      <td>18340597</td>\n",
       "      <td>18340565</td>\n",
       "      <td>-0.001534</td>\n",
       "      <td>77</td>\n",
       "      <td>0.0385</td>\n",
       "    </tr>\n",
       "    <tr>\n",
       "      <th>1384</th>\n",
       "      <td>1385</td>\n",
       "      <td>env</td>\n",
       "      <td>22667435</td>\n",
       "      <td>22667461</td>\n",
       "      <td>22667443</td>\n",
       "      <td>0.000183</td>\n",
       "      <td>26</td>\n",
       "      <td>0.0130</td>\n",
       "    </tr>\n",
       "    <tr>\n",
       "      <th>2712</th>\n",
       "      <td>2713</td>\n",
       "      <td>env</td>\n",
       "      <td>49215548</td>\n",
       "      <td>49215569</td>\n",
       "      <td>49215554</td>\n",
       "      <td>0.000214</td>\n",
       "      <td>21</td>\n",
       "      <td>0.0105</td>\n",
       "    </tr>\n",
       "    <tr>\n",
       "      <th>...</th>\n",
       "      <td>...</td>\n",
       "      <td>...</td>\n",
       "      <td>...</td>\n",
       "      <td>...</td>\n",
       "      <td>...</td>\n",
       "      <td>...</td>\n",
       "      <td>...</td>\n",
       "      <td>...</td>\n",
       "    </tr>\n",
       "    <tr>\n",
       "      <th>2333</th>\n",
       "      <td>2334</td>\n",
       "      <td>grad</td>\n",
       "      <td>41159214</td>\n",
       "      <td>41159248</td>\n",
       "      <td>41159214</td>\n",
       "      <td>-0.001426</td>\n",
       "      <td>34</td>\n",
       "      <td>0.0170</td>\n",
       "    </tr>\n",
       "    <tr>\n",
       "      <th>1549</th>\n",
       "      <td>1550</td>\n",
       "      <td>['env', 'grad', 'amp']</td>\n",
       "      <td>27198741</td>\n",
       "      <td>27198813</td>\n",
       "      <td>27198782</td>\n",
       "      <td>0.001426</td>\n",
       "      <td>72</td>\n",
       "      <td>0.0360</td>\n",
       "    </tr>\n",
       "    <tr>\n",
       "      <th>2013</th>\n",
       "      <td>2014</td>\n",
       "      <td>['env', 'grad']</td>\n",
       "      <td>36156248</td>\n",
       "      <td>36156272</td>\n",
       "      <td>36156264</td>\n",
       "      <td>0.000537</td>\n",
       "      <td>24</td>\n",
       "      <td>0.0120</td>\n",
       "    </tr>\n",
       "    <tr>\n",
       "      <th>953</th>\n",
       "      <td>954</td>\n",
       "      <td>['env', 'grad']</td>\n",
       "      <td>16612243</td>\n",
       "      <td>16612395</td>\n",
       "      <td>16612374</td>\n",
       "      <td>-0.000901</td>\n",
       "      <td>152</td>\n",
       "      <td>0.0760</td>\n",
       "    </tr>\n",
       "    <tr>\n",
       "      <th>2711</th>\n",
       "      <td>2712</td>\n",
       "      <td>['env', 'grad']</td>\n",
       "      <td>49192324</td>\n",
       "      <td>49192419</td>\n",
       "      <td>49192363</td>\n",
       "      <td>0.000918</td>\n",
       "      <td>95</td>\n",
       "      <td>0.0475</td>\n",
       "    </tr>\n",
       "  </tbody>\n",
       "</table>\n",
       "<p>100 rows × 8 columns</p>\n",
       "</div>"
      ],
      "text/plain": [
       "      Unnamed: 0          threshold_type  first_index  last_index  max_index  \\\n",
       "106          107                     env      2029731     2029747    2029740   \n",
       "2577        2578                     amp     46573247    46573283   46573269   \n",
       "1086        1087         ['env', 'grad']     18340520    18340597   18340565   \n",
       "1384        1385                     env     22667435    22667461   22667443   \n",
       "2712        2713                     env     49215548    49215569   49215554   \n",
       "...          ...                     ...          ...         ...        ...   \n",
       "2333        2334                    grad     41159214    41159248   41159214   \n",
       "1549        1550  ['env', 'grad', 'amp']     27198741    27198813   27198782   \n",
       "2013        2014         ['env', 'grad']     36156248    36156272   36156264   \n",
       "953          954         ['env', 'grad']     16612243    16612395   16612374   \n",
       "2711        2712         ['env', 'grad']     49192324    49192419   49192363   \n",
       "\n",
       "       max_amp  duration  duration_sec  \n",
       "106   0.000321        16        0.0080  \n",
       "2577  0.001822        36        0.0180  \n",
       "1086 -0.001534        77        0.0385  \n",
       "1384  0.000183        26        0.0130  \n",
       "2712  0.000214        21        0.0105  \n",
       "...        ...       ...           ...  \n",
       "2333 -0.001426        34        0.0170  \n",
       "1549  0.001426        72        0.0360  \n",
       "2013  0.000537        24        0.0120  \n",
       "953  -0.000901       152        0.0760  \n",
       "2711  0.000918        95        0.0475  \n",
       "\n",
       "[100 rows x 8 columns]"
      ]
     },
     "execution_count": 60,
     "metadata": {},
     "output_type": "execute_result"
    }
   ],
   "source": [
    "spikes_df.sample(100)"
   ]
  },
  {
   "cell_type": "code",
   "execution_count": 62,
   "id": "cc789f36",
   "metadata": {},
   "outputs": [
    {
     "data": {
      "text/plain": [
       "9.0"
      ]
     },
     "execution_count": 62,
     "metadata": {},
     "output_type": "execute_result"
    }
   ],
   "source": [
    "stim_amp.sum()"
   ]
  },
  {
   "cell_type": "code",
   "execution_count": 65,
   "id": "bb0e6774",
   "metadata": {},
   "outputs": [
    {
     "data": {
      "text/plain": [
       "57.0"
      ]
     },
     "execution_count": 65,
     "metadata": {},
     "output_type": "execute_result"
    }
   ],
   "source": [
    "stim_grad.sum()"
   ]
  },
  {
   "cell_type": "code",
   "execution_count": 66,
   "id": "d07a90e7",
   "metadata": {},
   "outputs": [
    {
     "data": {
      "text/plain": [
       "84.0"
      ]
     },
     "execution_count": 66,
     "metadata": {},
     "output_type": "execute_result"
    }
   ],
   "source": [
    "stim_env.sum()"
   ]
  },
  {
   "cell_type": "code",
   "execution_count": 67,
   "id": "fc91e228",
   "metadata": {},
   "outputs": [
    {
     "data": {
      "text/plain": [
       "2785"
      ]
     },
     "execution_count": 67,
     "metadata": {},
     "output_type": "execute_result"
    }
   ],
   "source": [
    "len(spikes_df)"
   ]
  },
  {
   "cell_type": "code",
   "execution_count": 68,
   "id": "e9077c5a",
   "metadata": {},
   "outputs": [
    {
     "data": {
      "text/plain": [
       "1339"
      ]
     },
     "execution_count": 68,
     "metadata": {},
     "output_type": "execute_result"
    }
   ],
   "source": [
    "len(spikes_df[spikes_df['threshold_type'].str.contains(',')])"
   ]
  },
  {
   "cell_type": "code",
   "execution_count": null,
   "id": "6a5abbb4",
   "metadata": {},
   "outputs": [],
   "source": []
  }
 ],
 "metadata": {
  "kernelspec": {
   "display_name": "Python 3 (ipykernel)",
   "language": "python",
   "name": "python3"
  },
  "language_info": {
   "codemirror_mode": {
    "name": "ipython",
    "version": 3
   },
   "file_extension": ".py",
   "mimetype": "text/x-python",
   "name": "python",
   "nbconvert_exporter": "python",
   "pygments_lexer": "ipython3",
   "version": "3.7.7"
  }
 },
 "nbformat": 4,
 "nbformat_minor": 5
}
