{
 "cells": [
  {
   "attachments": {},
   "cell_type": "markdown",
   "metadata": {},
   "source": [
    "LGBM Average"
   ]
  },
  {
   "cell_type": "code",
   "execution_count": null,
   "metadata": {},
   "outputs": [],
   "source": [
    "import mne\n",
    "import numpy as np\n",
    "import os\n",
    "\n",
    "save_path = r\"D:\\EPI_MFF\\NREM_EOG_AVE_LGBM\\EPI\"\n",
    "# cycle through all the files in the folder\n",
    "for file in os.listdir(r\"D:\\EPI_MFF\\NREM_EOG_AVE_LGBM\\EPI\"):\n",
    "    # load the file\n",
    "    raw = mne.io.read_raw_fif(os.path.join(r\"D:\\EPI_MFF\\NREM_EOG_AVE_LGBM\\EPI\", file), preload=True)\n",
    "    raw.pick_channels(['E1','E220','E54','E61','E252','E253','E226','E225','E249','E254','E250','E255','E251','E231','E227','E232','E228','E233'])\n",
    "    total = mne.io.read_raw_fif(os.path.join(r\"D:\\EPI_MFF\\NREM_EOG_F\\EPI\", file), preload=True)\n",
    "    channels_data = raw.get_data()\n",
    "    average = np.mean(channels_data, axis=0)\n",
    "  \n",
    "    new_chan1 = mne.io.RawArray(average.reshape(1, len(average)), mne.create_info(['Banana'], raw.info['sfreq']))\n",
    "\n",
    "   \n",
    "\n",
    "    raw = mne.io.read_raw_fif(os.path.join(r\"D:\\EPI_MFF\\NREM_EOG_AVE_LGBM\\EPI\", file), preload=True)\n",
    "    raw.pick_channels(['E242','E243','E245','E246','E239','E240','E255','E236'])\n",
    "    total = mne.io.read_raw_fif(os.path.join(r\"D:\\EPI_MFF\\NREM_EOG_F\\EPI\", file), preload=True)\n",
    "    channels_data = raw.get_data()\n",
    "    average = np.mean(channels_data, axis=0) \n",
    "    \n",
    "    new_chan2 = mne.io.RawArray(average.reshape(1, len(average)), mne.create_info(['Box_1'], raw.info['sfreq']))\n",
    "\n",
    "\n",
    "\n",
    "    raw = mne.io.read_raw_fif(os.path.join(r\"D:\\EPI_MFF\\NREM_EOG_AVE_LGBM\\EPI\", file), preload=True)\n",
    "    raw.pick_channels(['E242','E243','E245','E246','E239','E240','E245','E236','E1','E220','E54','E61','E252','E253','E226','E225','E249','E254','E250','E255','E251','E231','E227','E233'])\n",
    "    total = mne.io.read_raw_fif(os.path.join(r\"D:\\EPI_MFF\\NREM_EOG_F\\EPI\", file), preload=True)\n",
    "    channels_data = raw.get_data()\n",
    "    average = np.mean(channels_data, axis=0) \n",
    "  \n",
    "    new_chan3 = mne.io.RawArray(average.reshape(1, len(average)), mne.create_info(['Banana_Box'], raw.info['sfreq']))\n",
    "    \n",
    "    raw = mne.io.read_raw_fif(os.path.join(r\"D:\\EPI_MFF\\NREM_EOG_AVE_LGBM\\EPI\", file), preload=True)\n",
    "    raw.pick_channels(['E249','E254','E231','E227','E220','E255','E223','E228'])\n",
    "    total = mne.io.read_raw_fif(os.path.join(r\"D:\\EPI_MFF\\NREM_EOG_F\\EPI\", file), preload=True)\n",
    "    channels_data = raw.get_data()\n",
    "    average = np.mean(channels_data, axis=0) \n",
    "    \n",
    "    new_chan4 = mne.io.RawArray(average.reshape(1, len(average)), mne.create_info(['Box_2'], raw.info['sfreq']))\n",
    "\n",
    "    raw = mne.io.read_raw_fif(os.path.join(r\"D:\\EPI_MFF\\NREM_EOG_AVE_LGBM\\EPI\", file), preload=True)\n",
    "    raw.pick_channels(['E252','E253','E226','E225','E249','E254','E231','E227'])\n",
    "    total = mne.io.read_raw_fif(os.path.join(r\"D:\\EPI_MFF\\NREM_EOG_F\\EPI\", file), preload=True)\n",
    "    channels_data = raw.get_data()\n",
    "    average = np.mean(channels_data, axis=0) \n",
    "  \n",
    "    new_chan5 = mne.io.RawArray(average.reshape(1, len(average)), mne.create_info(['Box_3'], raw.info['sfreq']))\n",
    "\n",
    "    total.add_channels([new_chan1,new_chan2,new_chan3,new_chan4,new_chan5], force_update_info=True)\n",
    "    \n",
    "    total.save(os.path.join(save_path, file), overwrite=True)\n",
    "\n",
    "\n"
   ]
  },
  {
   "cell_type": "code",
   "execution_count": 55,
   "metadata": {},
   "outputs": [
    {
     "name": "stdout",
     "output_type": "stream",
     "text": [
      "Opening raw data file D:\\EPI_MFF\\NREM_EOG_AVE_XGB\\EPI\\AO0.fif...\n"
     ]
    },
    {
     "name": "stderr",
     "output_type": "stream",
     "text": [
      "C:\\Users\\mad17\\AppData\\Local\\Temp\\ipykernel_11884\\244015385.py:7: RuntimeWarning: This filename (D:\\EPI_MFF\\NREM_EOG_AVE_XGB\\EPI\\AO0.fif) does not conform to MNE naming conventions. All raw files should end with raw.fif, raw_sss.fif, raw_tsss.fif, _meg.fif, _eeg.fif, _ieeg.fif, raw.fif.gz, raw_sss.fif.gz, raw_tsss.fif.gz, _meg.fif.gz, _eeg.fif.gz or _ieeg.fif.gz\n",
      "  raw = mne.io.read_raw_fif(os.path.join(r\"D:\\EPI_MFF\\NREM_EOG_AVE_XGB\\EPI\", file), preload=True)\n"
     ]
    },
    {
     "name": "stdout",
     "output_type": "stream",
     "text": [
      "    Range : 60000 ... 712500 =    240.000 ...  2850.000 secs\n",
      "Ready.\n",
      "Reading 0 ... 652500  =      0.000 ...  2610.000 secs...\n",
      "Opening raw data file D:\\EPI_MFF\\NREM_EOG_F\\EPI\\AO0.fif...\n"
     ]
    },
    {
     "name": "stderr",
     "output_type": "stream",
     "text": [
      "C:\\Users\\mad17\\AppData\\Local\\Temp\\ipykernel_11884\\244015385.py:9: RuntimeWarning: This filename (D:\\EPI_MFF\\NREM_EOG_F\\EPI\\AO0.fif) does not conform to MNE naming conventions. All raw files should end with raw.fif, raw_sss.fif, raw_tsss.fif, _meg.fif, _eeg.fif, _ieeg.fif, raw.fif.gz, raw_sss.fif.gz, raw_tsss.fif.gz, _meg.fif.gz, _eeg.fif.gz or _ieeg.fif.gz\n",
      "  total = mne.io.read_raw_fif(os.path.join(r\"D:\\EPI_MFF\\NREM_EOG_F\\EPI\", file), preload=True)\n"
     ]
    },
    {
     "name": "stdout",
     "output_type": "stream",
     "text": [
      "    Range : 60000 ... 712500 =    240.000 ...  2850.000 secs\n",
      "Ready.\n",
      "Reading 0 ... 652500  =      0.000 ...  2610.000 secs...\n",
      "Creating RawArray with float64 data, n_channels=1, n_times=652501\n",
      "    Range : 0 ... 652500 =      0.000 ...  2610.000 secs\n",
      "Ready.\n",
      "Opening raw data file D:\\EPI_MFF\\NREM_EOG_AVE_XGB\\EPI\\AO0.fif...\n",
      "    Range : 60000 ... 712500 =    240.000 ...  2850.000 secs\n",
      "Ready.\n",
      "Reading 0 ... 652500  =      0.000 ...  2610.000 secs...\n"
     ]
    },
    {
     "name": "stderr",
     "output_type": "stream",
     "text": [
      "C:\\Users\\mad17\\AppData\\Local\\Temp\\ipykernel_11884\\244015385.py:17: RuntimeWarning: This filename (D:\\EPI_MFF\\NREM_EOG_AVE_XGB\\EPI\\AO0.fif) does not conform to MNE naming conventions. All raw files should end with raw.fif, raw_sss.fif, raw_tsss.fif, _meg.fif, _eeg.fif, _ieeg.fif, raw.fif.gz, raw_sss.fif.gz, raw_tsss.fif.gz, _meg.fif.gz, _eeg.fif.gz or _ieeg.fif.gz\n",
      "  raw = mne.io.read_raw_fif(os.path.join(r\"D:\\EPI_MFF\\NREM_EOG_AVE_XGB\\EPI\", file), preload=True)\n"
     ]
    },
    {
     "name": "stdout",
     "output_type": "stream",
     "text": [
      "Opening raw data file D:\\EPI_MFF\\NREM_EOG_F\\EPI\\AO0.fif...\n",
      "    Range : 60000 ... 712500 =    240.000 ...  2850.000 secs\n",
      "Ready.\n",
      "Reading 0 ... 652500  =      0.000 ...  2610.000 secs...\n"
     ]
    },
    {
     "name": "stderr",
     "output_type": "stream",
     "text": [
      "C:\\Users\\mad17\\AppData\\Local\\Temp\\ipykernel_11884\\244015385.py:19: RuntimeWarning: This filename (D:\\EPI_MFF\\NREM_EOG_F\\EPI\\AO0.fif) does not conform to MNE naming conventions. All raw files should end with raw.fif, raw_sss.fif, raw_tsss.fif, _meg.fif, _eeg.fif, _ieeg.fif, raw.fif.gz, raw_sss.fif.gz, raw_tsss.fif.gz, _meg.fif.gz, _eeg.fif.gz or _ieeg.fif.gz\n",
      "  total = mne.io.read_raw_fif(os.path.join(r\"D:\\EPI_MFF\\NREM_EOG_F\\EPI\", file), preload=True)\n"
     ]
    },
    {
     "name": "stdout",
     "output_type": "stream",
     "text": [
      "Creating RawArray with float64 data, n_channels=1, n_times=652501\n",
      "    Range : 0 ... 652500 =      0.000 ...  2610.000 secs\n",
      "Ready.\n",
      "Opening raw data file D:\\EPI_MFF\\NREM_EOG_AVE_XGB\\EPI\\AO0.fif...\n",
      "    Range : 60000 ... 712500 =    240.000 ...  2850.000 secs\n",
      "Ready.\n",
      "Reading 0 ... 652500  =      0.000 ...  2610.000 secs...\n"
     ]
    },
    {
     "name": "stderr",
     "output_type": "stream",
     "text": [
      "C:\\Users\\mad17\\AppData\\Local\\Temp\\ipykernel_11884\\244015385.py:25: RuntimeWarning: This filename (D:\\EPI_MFF\\NREM_EOG_AVE_XGB\\EPI\\AO0.fif) does not conform to MNE naming conventions. All raw files should end with raw.fif, raw_sss.fif, raw_tsss.fif, _meg.fif, _eeg.fif, _ieeg.fif, raw.fif.gz, raw_sss.fif.gz, raw_tsss.fif.gz, _meg.fif.gz, _eeg.fif.gz or _ieeg.fif.gz\n",
      "  raw = mne.io.read_raw_fif(os.path.join(r\"D:\\EPI_MFF\\NREM_EOG_AVE_XGB\\EPI\", file), preload=True)\n"
     ]
    },
    {
     "name": "stdout",
     "output_type": "stream",
     "text": [
      "Opening raw data file D:\\EPI_MFF\\NREM_EOG_F\\EPI\\AO0.fif...\n",
      "    Range : 60000 ... 712500 =    240.000 ...  2850.000 secs\n",
      "Ready.\n",
      "Reading 0 ... 652500  =      0.000 ...  2610.000 secs...\n"
     ]
    },
    {
     "name": "stderr",
     "output_type": "stream",
     "text": [
      "C:\\Users\\mad17\\AppData\\Local\\Temp\\ipykernel_11884\\244015385.py:27: RuntimeWarning: This filename (D:\\EPI_MFF\\NREM_EOG_F\\EPI\\AO0.fif) does not conform to MNE naming conventions. All raw files should end with raw.fif, raw_sss.fif, raw_tsss.fif, _meg.fif, _eeg.fif, _ieeg.fif, raw.fif.gz, raw_sss.fif.gz, raw_tsss.fif.gz, _meg.fif.gz, _eeg.fif.gz or _ieeg.fif.gz\n",
      "  total = mne.io.read_raw_fif(os.path.join(r\"D:\\EPI_MFF\\NREM_EOG_F\\EPI\", file), preload=True)\n"
     ]
    },
    {
     "name": "stdout",
     "output_type": "stream",
     "text": [
      "Creating RawArray with float64 data, n_channels=1, n_times=652501\n",
      "    Range : 0 ... 652500 =      0.000 ...  2610.000 secs\n",
      "Ready.\n",
      "Opening raw data file D:\\EPI_MFF\\NREM_EOG_AVE_XGB\\EPI\\AO0.fif...\n",
      "    Range : 60000 ... 712500 =    240.000 ...  2850.000 secs\n",
      "Ready.\n",
      "Reading 0 ... 652500  =      0.000 ...  2610.000 secs...\n"
     ]
    },
    {
     "name": "stderr",
     "output_type": "stream",
     "text": [
      "C:\\Users\\mad17\\AppData\\Local\\Temp\\ipykernel_11884\\244015385.py:33: RuntimeWarning: This filename (D:\\EPI_MFF\\NREM_EOG_AVE_XGB\\EPI\\AO0.fif) does not conform to MNE naming conventions. All raw files should end with raw.fif, raw_sss.fif, raw_tsss.fif, _meg.fif, _eeg.fif, _ieeg.fif, raw.fif.gz, raw_sss.fif.gz, raw_tsss.fif.gz, _meg.fif.gz, _eeg.fif.gz or _ieeg.fif.gz\n",
      "  raw = mne.io.read_raw_fif(os.path.join(r\"D:\\EPI_MFF\\NREM_EOG_AVE_XGB\\EPI\", file), preload=True)\n"
     ]
    },
    {
     "name": "stdout",
     "output_type": "stream",
     "text": [
      "Opening raw data file D:\\EPI_MFF\\NREM_EOG_F\\EPI\\AO0.fif...\n",
      "    Range : 60000 ... 712500 =    240.000 ...  2850.000 secs\n",
      "Ready.\n",
      "Reading 0 ... 652500  =      0.000 ...  2610.000 secs...\n"
     ]
    },
    {
     "name": "stderr",
     "output_type": "stream",
     "text": [
      "C:\\Users\\mad17\\AppData\\Local\\Temp\\ipykernel_11884\\244015385.py:35: RuntimeWarning: This filename (D:\\EPI_MFF\\NREM_EOG_F\\EPI\\AO0.fif) does not conform to MNE naming conventions. All raw files should end with raw.fif, raw_sss.fif, raw_tsss.fif, _meg.fif, _eeg.fif, _ieeg.fif, raw.fif.gz, raw_sss.fif.gz, raw_tsss.fif.gz, _meg.fif.gz, _eeg.fif.gz or _ieeg.fif.gz\n",
      "  total = mne.io.read_raw_fif(os.path.join(r\"D:\\EPI_MFF\\NREM_EOG_F\\EPI\", file), preload=True)\n"
     ]
    },
    {
     "name": "stdout",
     "output_type": "stream",
     "text": [
      "Creating RawArray with float64 data, n_channels=1, n_times=652501\n",
      "    Range : 0 ... 652500 =      0.000 ...  2610.000 secs\n",
      "Ready.\n",
      "Opening raw data file D:\\EPI_MFF\\NREM_EOG_AVE_XGB\\EPI\\AO0.fif...\n",
      "    Range : 60000 ... 712500 =    240.000 ...  2850.000 secs\n",
      "Ready.\n",
      "Reading 0 ... 652500  =      0.000 ...  2610.000 secs...\n"
     ]
    },
    {
     "name": "stderr",
     "output_type": "stream",
     "text": [
      "C:\\Users\\mad17\\AppData\\Local\\Temp\\ipykernel_11884\\244015385.py:41: RuntimeWarning: This filename (D:\\EPI_MFF\\NREM_EOG_AVE_XGB\\EPI\\AO0.fif) does not conform to MNE naming conventions. All raw files should end with raw.fif, raw_sss.fif, raw_tsss.fif, _meg.fif, _eeg.fif, _ieeg.fif, raw.fif.gz, raw_sss.fif.gz, raw_tsss.fif.gz, _meg.fif.gz, _eeg.fif.gz or _ieeg.fif.gz\n",
      "  raw = mne.io.read_raw_fif(os.path.join(r\"D:\\EPI_MFF\\NREM_EOG_AVE_XGB\\EPI\", file), preload=True)\n"
     ]
    },
    {
     "name": "stdout",
     "output_type": "stream",
     "text": [
      "Opening raw data file D:\\EPI_MFF\\NREM_EOG_F\\EPI\\AO0.fif...\n",
      "    Range : 60000 ... 712500 =    240.000 ...  2850.000 secs\n",
      "Ready.\n",
      "Reading 0 ... 652500  =      0.000 ...  2610.000 secs...\n"
     ]
    },
    {
     "name": "stderr",
     "output_type": "stream",
     "text": [
      "C:\\Users\\mad17\\AppData\\Local\\Temp\\ipykernel_11884\\244015385.py:43: RuntimeWarning: This filename (D:\\EPI_MFF\\NREM_EOG_F\\EPI\\AO0.fif) does not conform to MNE naming conventions. All raw files should end with raw.fif, raw_sss.fif, raw_tsss.fif, _meg.fif, _eeg.fif, _ieeg.fif, raw.fif.gz, raw_sss.fif.gz, raw_tsss.fif.gz, _meg.fif.gz, _eeg.fif.gz or _ieeg.fif.gz\n",
      "  total = mne.io.read_raw_fif(os.path.join(r\"D:\\EPI_MFF\\NREM_EOG_F\\EPI\", file), preload=True)\n"
     ]
    },
    {
     "name": "stdout",
     "output_type": "stream",
     "text": [
      "Creating RawArray with float64 data, n_channels=1, n_times=652501\n",
      "    Range : 0 ... 652500 =      0.000 ...  2610.000 secs\n",
      "Ready.\n",
      "Opening raw data file D:\\EPI_MFF\\NREM_EOG_AVE_XGB\\EPI\\AO0.fif...\n",
      "    Range : 60000 ... 712500 =    240.000 ...  2850.000 secs\n",
      "Ready.\n",
      "Reading 0 ... 652500  =      0.000 ...  2610.000 secs...\n"
     ]
    },
    {
     "name": "stderr",
     "output_type": "stream",
     "text": [
      "C:\\Users\\mad17\\AppData\\Local\\Temp\\ipykernel_11884\\244015385.py:49: RuntimeWarning: This filename (D:\\EPI_MFF\\NREM_EOG_AVE_XGB\\EPI\\AO0.fif) does not conform to MNE naming conventions. All raw files should end with raw.fif, raw_sss.fif, raw_tsss.fif, _meg.fif, _eeg.fif, _ieeg.fif, raw.fif.gz, raw_sss.fif.gz, raw_tsss.fif.gz, _meg.fif.gz, _eeg.fif.gz or _ieeg.fif.gz\n",
      "  raw = mne.io.read_raw_fif(os.path.join(r\"D:\\EPI_MFF\\NREM_EOG_AVE_XGB\\EPI\", file), preload=True)\n"
     ]
    },
    {
     "name": "stdout",
     "output_type": "stream",
     "text": [
      "Opening raw data file D:\\EPI_MFF\\NREM_EOG_F\\EPI\\AO0.fif...\n",
      "    Range : 60000 ... 712500 =    240.000 ...  2850.000 secs\n",
      "Ready.\n",
      "Reading 0 ... 652500  =      0.000 ...  2610.000 secs...\n"
     ]
    },
    {
     "name": "stderr",
     "output_type": "stream",
     "text": [
      "C:\\Users\\mad17\\AppData\\Local\\Temp\\ipykernel_11884\\244015385.py:51: RuntimeWarning: This filename (D:\\EPI_MFF\\NREM_EOG_F\\EPI\\AO0.fif) does not conform to MNE naming conventions. All raw files should end with raw.fif, raw_sss.fif, raw_tsss.fif, _meg.fif, _eeg.fif, _ieeg.fif, raw.fif.gz, raw_sss.fif.gz, raw_tsss.fif.gz, _meg.fif.gz, _eeg.fif.gz or _ieeg.fif.gz\n",
      "  total = mne.io.read_raw_fif(os.path.join(r\"D:\\EPI_MFF\\NREM_EOG_F\\EPI\", file), preload=True)\n"
     ]
    },
    {
     "name": "stdout",
     "output_type": "stream",
     "text": [
      "Creating RawArray with float64 data, n_channels=1, n_times=652501\n",
      "    Range : 0 ... 652500 =      0.000 ...  2610.000 secs\n",
      "Ready.\n",
      "Overwriting existing file.\n",
      "Writing D:\\EPI_MFF\\NREM_EOG_AVE_XGB\\EPI\\AO0.fif\n",
      "    Writing channel names to FIF truncated to 15 characters with remapping\n"
     ]
    },
    {
     "name": "stderr",
     "output_type": "stream",
     "text": [
      "C:\\Users\\mad17\\AppData\\Local\\Temp\\ipykernel_11884\\244015385.py:59: RuntimeWarning: This filename (D:\\EPI_MFF\\NREM_EOG_AVE_XGB\\EPI\\AO0.fif) does not conform to MNE naming conventions. All raw files should end with raw.fif, raw_sss.fif, raw_tsss.fif, _meg.fif, _eeg.fif, _ieeg.fif, raw.fif.gz, raw_sss.fif.gz, raw_tsss.fif.gz, _meg.fif.gz, _eeg.fif.gz or _ieeg.fif.gz\n",
      "  total.save(os.path.join(save_path, file), overwrite=True)\n"
     ]
    },
    {
     "name": "stdout",
     "output_type": "stream",
     "text": [
      "Closing D:\\EPI_MFF\\NREM_EOG_AVE_XGB\\EPI\\AO0.fif\n",
      "[done]\n",
      "Opening raw data file D:\\EPI_MFF\\NREM_EOG_AVE_XGB\\EPI\\DH3.fif...\n"
     ]
    },
    {
     "name": "stderr",
     "output_type": "stream",
     "text": [
      "C:\\Users\\mad17\\AppData\\Local\\Temp\\ipykernel_11884\\244015385.py:7: RuntimeWarning: This filename (D:\\EPI_MFF\\NREM_EOG_AVE_XGB\\EPI\\DH3.fif) does not conform to MNE naming conventions. All raw files should end with raw.fif, raw_sss.fif, raw_tsss.fif, _meg.fif, _eeg.fif, _ieeg.fif, raw.fif.gz, raw_sss.fif.gz, raw_tsss.fif.gz, _meg.fif.gz, _eeg.fif.gz or _ieeg.fif.gz\n",
      "  raw = mne.io.read_raw_fif(os.path.join(r\"D:\\EPI_MFF\\NREM_EOG_AVE_XGB\\EPI\", file), preload=True)\n"
     ]
    },
    {
     "name": "stdout",
     "output_type": "stream",
     "text": [
      "    Range : 345000 ... 1110000 =   1380.000 ...  4440.000 secs\n",
      "Ready.\n",
      "Reading 0 ... 765000  =      0.000 ...  3060.000 secs...\n",
      "Opening raw data file D:\\EPI_MFF\\NREM_EOG_F\\EPI\\DH3.fif...\n"
     ]
    },
    {
     "name": "stderr",
     "output_type": "stream",
     "text": [
      "C:\\Users\\mad17\\AppData\\Local\\Temp\\ipykernel_11884\\244015385.py:9: RuntimeWarning: This filename (D:\\EPI_MFF\\NREM_EOG_F\\EPI\\DH3.fif) does not conform to MNE naming conventions. All raw files should end with raw.fif, raw_sss.fif, raw_tsss.fif, _meg.fif, _eeg.fif, _ieeg.fif, raw.fif.gz, raw_sss.fif.gz, raw_tsss.fif.gz, _meg.fif.gz, _eeg.fif.gz or _ieeg.fif.gz\n",
      "  total = mne.io.read_raw_fif(os.path.join(r\"D:\\EPI_MFF\\NREM_EOG_F\\EPI\", file), preload=True)\n"
     ]
    },
    {
     "name": "stdout",
     "output_type": "stream",
     "text": [
      "    Range : 345000 ... 1110000 =   1380.000 ...  4440.000 secs\n",
      "Ready.\n",
      "Reading 0 ... 765000  =      0.000 ...  3060.000 secs...\n",
      "Creating RawArray with float64 data, n_channels=1, n_times=765001\n",
      "    Range : 0 ... 765000 =      0.000 ...  3060.000 secs\n",
      "Ready.\n",
      "Opening raw data file D:\\EPI_MFF\\NREM_EOG_AVE_XGB\\EPI\\DH3.fif...\n",
      "    Range : 345000 ... 1110000 =   1380.000 ...  4440.000 secs\n",
      "Ready.\n",
      "Reading 0 ... 765000  =      0.000 ...  3060.000 secs...\n"
     ]
    },
    {
     "name": "stderr",
     "output_type": "stream",
     "text": [
      "C:\\Users\\mad17\\AppData\\Local\\Temp\\ipykernel_11884\\244015385.py:17: RuntimeWarning: This filename (D:\\EPI_MFF\\NREM_EOG_AVE_XGB\\EPI\\DH3.fif) does not conform to MNE naming conventions. All raw files should end with raw.fif, raw_sss.fif, raw_tsss.fif, _meg.fif, _eeg.fif, _ieeg.fif, raw.fif.gz, raw_sss.fif.gz, raw_tsss.fif.gz, _meg.fif.gz, _eeg.fif.gz or _ieeg.fif.gz\n",
      "  raw = mne.io.read_raw_fif(os.path.join(r\"D:\\EPI_MFF\\NREM_EOG_AVE_XGB\\EPI\", file), preload=True)\n"
     ]
    },
    {
     "name": "stdout",
     "output_type": "stream",
     "text": [
      "Opening raw data file D:\\EPI_MFF\\NREM_EOG_F\\EPI\\DH3.fif...\n",
      "    Range : 345000 ... 1110000 =   1380.000 ...  4440.000 secs\n",
      "Ready.\n",
      "Reading 0 ... 765000  =      0.000 ...  3060.000 secs...\n"
     ]
    },
    {
     "name": "stderr",
     "output_type": "stream",
     "text": [
      "C:\\Users\\mad17\\AppData\\Local\\Temp\\ipykernel_11884\\244015385.py:19: RuntimeWarning: This filename (D:\\EPI_MFF\\NREM_EOG_F\\EPI\\DH3.fif) does not conform to MNE naming conventions. All raw files should end with raw.fif, raw_sss.fif, raw_tsss.fif, _meg.fif, _eeg.fif, _ieeg.fif, raw.fif.gz, raw_sss.fif.gz, raw_tsss.fif.gz, _meg.fif.gz, _eeg.fif.gz or _ieeg.fif.gz\n",
      "  total = mne.io.read_raw_fif(os.path.join(r\"D:\\EPI_MFF\\NREM_EOG_F\\EPI\", file), preload=True)\n"
     ]
    },
    {
     "name": "stdout",
     "output_type": "stream",
     "text": [
      "Creating RawArray with float64 data, n_channels=1, n_times=765001\n",
      "    Range : 0 ... 765000 =      0.000 ...  3060.000 secs\n",
      "Ready.\n",
      "Opening raw data file D:\\EPI_MFF\\NREM_EOG_AVE_XGB\\EPI\\DH3.fif...\n",
      "    Range : 345000 ... 1110000 =   1380.000 ...  4440.000 secs\n",
      "Ready.\n",
      "Reading 0 ... 765000  =      0.000 ...  3060.000 secs...\n"
     ]
    },
    {
     "name": "stderr",
     "output_type": "stream",
     "text": [
      "C:\\Users\\mad17\\AppData\\Local\\Temp\\ipykernel_11884\\244015385.py:25: RuntimeWarning: This filename (D:\\EPI_MFF\\NREM_EOG_AVE_XGB\\EPI\\DH3.fif) does not conform to MNE naming conventions. All raw files should end with raw.fif, raw_sss.fif, raw_tsss.fif, _meg.fif, _eeg.fif, _ieeg.fif, raw.fif.gz, raw_sss.fif.gz, raw_tsss.fif.gz, _meg.fif.gz, _eeg.fif.gz or _ieeg.fif.gz\n",
      "  raw = mne.io.read_raw_fif(os.path.join(r\"D:\\EPI_MFF\\NREM_EOG_AVE_XGB\\EPI\", file), preload=True)\n"
     ]
    },
    {
     "name": "stdout",
     "output_type": "stream",
     "text": [
      "Opening raw data file D:\\EPI_MFF\\NREM_EOG_F\\EPI\\DH3.fif...\n",
      "    Range : 345000 ... 1110000 =   1380.000 ...  4440.000 secs\n",
      "Ready.\n",
      "Reading 0 ... 765000  =      0.000 ...  3060.000 secs...\n"
     ]
    },
    {
     "name": "stderr",
     "output_type": "stream",
     "text": [
      "C:\\Users\\mad17\\AppData\\Local\\Temp\\ipykernel_11884\\244015385.py:27: RuntimeWarning: This filename (D:\\EPI_MFF\\NREM_EOG_F\\EPI\\DH3.fif) does not conform to MNE naming conventions. All raw files should end with raw.fif, raw_sss.fif, raw_tsss.fif, _meg.fif, _eeg.fif, _ieeg.fif, raw.fif.gz, raw_sss.fif.gz, raw_tsss.fif.gz, _meg.fif.gz, _eeg.fif.gz or _ieeg.fif.gz\n",
      "  total = mne.io.read_raw_fif(os.path.join(r\"D:\\EPI_MFF\\NREM_EOG_F\\EPI\", file), preload=True)\n"
     ]
    },
    {
     "name": "stdout",
     "output_type": "stream",
     "text": [
      "Creating RawArray with float64 data, n_channels=1, n_times=765001\n",
      "    Range : 0 ... 765000 =      0.000 ...  3060.000 secs\n",
      "Ready.\n",
      "Opening raw data file D:\\EPI_MFF\\NREM_EOG_AVE_XGB\\EPI\\DH3.fif...\n",
      "    Range : 345000 ... 1110000 =   1380.000 ...  4440.000 secs\n",
      "Ready.\n",
      "Reading 0 ... 765000  =      0.000 ...  3060.000 secs...\n"
     ]
    },
    {
     "name": "stderr",
     "output_type": "stream",
     "text": [
      "C:\\Users\\mad17\\AppData\\Local\\Temp\\ipykernel_11884\\244015385.py:33: RuntimeWarning: This filename (D:\\EPI_MFF\\NREM_EOG_AVE_XGB\\EPI\\DH3.fif) does not conform to MNE naming conventions. All raw files should end with raw.fif, raw_sss.fif, raw_tsss.fif, _meg.fif, _eeg.fif, _ieeg.fif, raw.fif.gz, raw_sss.fif.gz, raw_tsss.fif.gz, _meg.fif.gz, _eeg.fif.gz or _ieeg.fif.gz\n",
      "  raw = mne.io.read_raw_fif(os.path.join(r\"D:\\EPI_MFF\\NREM_EOG_AVE_XGB\\EPI\", file), preload=True)\n"
     ]
    },
    {
     "name": "stdout",
     "output_type": "stream",
     "text": [
      "Opening raw data file D:\\EPI_MFF\\NREM_EOG_F\\EPI\\DH3.fif...\n",
      "    Range : 345000 ... 1110000 =   1380.000 ...  4440.000 secs\n",
      "Ready.\n",
      "Reading 0 ... 765000  =      0.000 ...  3060.000 secs...\n"
     ]
    },
    {
     "name": "stderr",
     "output_type": "stream",
     "text": [
      "C:\\Users\\mad17\\AppData\\Local\\Temp\\ipykernel_11884\\244015385.py:35: RuntimeWarning: This filename (D:\\EPI_MFF\\NREM_EOG_F\\EPI\\DH3.fif) does not conform to MNE naming conventions. All raw files should end with raw.fif, raw_sss.fif, raw_tsss.fif, _meg.fif, _eeg.fif, _ieeg.fif, raw.fif.gz, raw_sss.fif.gz, raw_tsss.fif.gz, _meg.fif.gz, _eeg.fif.gz or _ieeg.fif.gz\n",
      "  total = mne.io.read_raw_fif(os.path.join(r\"D:\\EPI_MFF\\NREM_EOG_F\\EPI\", file), preload=True)\n"
     ]
    },
    {
     "name": "stdout",
     "output_type": "stream",
     "text": [
      "Creating RawArray with float64 data, n_channels=1, n_times=765001\n",
      "    Range : 0 ... 765000 =      0.000 ...  3060.000 secs\n",
      "Ready.\n",
      "Opening raw data file D:\\EPI_MFF\\NREM_EOG_AVE_XGB\\EPI\\DH3.fif...\n",
      "    Range : 345000 ... 1110000 =   1380.000 ...  4440.000 secs\n",
      "Ready.\n",
      "Reading 0 ... 765000  =      0.000 ...  3060.000 secs...\n"
     ]
    },
    {
     "name": "stderr",
     "output_type": "stream",
     "text": [
      "C:\\Users\\mad17\\AppData\\Local\\Temp\\ipykernel_11884\\244015385.py:41: RuntimeWarning: This filename (D:\\EPI_MFF\\NREM_EOG_AVE_XGB\\EPI\\DH3.fif) does not conform to MNE naming conventions. All raw files should end with raw.fif, raw_sss.fif, raw_tsss.fif, _meg.fif, _eeg.fif, _ieeg.fif, raw.fif.gz, raw_sss.fif.gz, raw_tsss.fif.gz, _meg.fif.gz, _eeg.fif.gz or _ieeg.fif.gz\n",
      "  raw = mne.io.read_raw_fif(os.path.join(r\"D:\\EPI_MFF\\NREM_EOG_AVE_XGB\\EPI\", file), preload=True)\n"
     ]
    },
    {
     "name": "stdout",
     "output_type": "stream",
     "text": [
      "Opening raw data file D:\\EPI_MFF\\NREM_EOG_F\\EPI\\DH3.fif...\n",
      "    Range : 345000 ... 1110000 =   1380.000 ...  4440.000 secs\n",
      "Ready.\n",
      "Reading 0 ... 765000  =      0.000 ...  3060.000 secs...\n"
     ]
    },
    {
     "name": "stderr",
     "output_type": "stream",
     "text": [
      "C:\\Users\\mad17\\AppData\\Local\\Temp\\ipykernel_11884\\244015385.py:43: RuntimeWarning: This filename (D:\\EPI_MFF\\NREM_EOG_F\\EPI\\DH3.fif) does not conform to MNE naming conventions. All raw files should end with raw.fif, raw_sss.fif, raw_tsss.fif, _meg.fif, _eeg.fif, _ieeg.fif, raw.fif.gz, raw_sss.fif.gz, raw_tsss.fif.gz, _meg.fif.gz, _eeg.fif.gz or _ieeg.fif.gz\n",
      "  total = mne.io.read_raw_fif(os.path.join(r\"D:\\EPI_MFF\\NREM_EOG_F\\EPI\", file), preload=True)\n"
     ]
    },
    {
     "name": "stdout",
     "output_type": "stream",
     "text": [
      "Creating RawArray with float64 data, n_channels=1, n_times=765001\n",
      "    Range : 0 ... 765000 =      0.000 ...  3060.000 secs\n",
      "Ready.\n",
      "Opening raw data file D:\\EPI_MFF\\NREM_EOG_AVE_XGB\\EPI\\DH3.fif...\n",
      "    Range : 345000 ... 1110000 =   1380.000 ...  4440.000 secs\n",
      "Ready.\n",
      "Reading 0 ... 765000  =      0.000 ...  3060.000 secs...\n"
     ]
    },
    {
     "name": "stderr",
     "output_type": "stream",
     "text": [
      "C:\\Users\\mad17\\AppData\\Local\\Temp\\ipykernel_11884\\244015385.py:49: RuntimeWarning: This filename (D:\\EPI_MFF\\NREM_EOG_AVE_XGB\\EPI\\DH3.fif) does not conform to MNE naming conventions. All raw files should end with raw.fif, raw_sss.fif, raw_tsss.fif, _meg.fif, _eeg.fif, _ieeg.fif, raw.fif.gz, raw_sss.fif.gz, raw_tsss.fif.gz, _meg.fif.gz, _eeg.fif.gz or _ieeg.fif.gz\n",
      "  raw = mne.io.read_raw_fif(os.path.join(r\"D:\\EPI_MFF\\NREM_EOG_AVE_XGB\\EPI\", file), preload=True)\n"
     ]
    },
    {
     "name": "stdout",
     "output_type": "stream",
     "text": [
      "Opening raw data file D:\\EPI_MFF\\NREM_EOG_F\\EPI\\DH3.fif...\n",
      "    Range : 345000 ... 1110000 =   1380.000 ...  4440.000 secs\n",
      "Ready.\n",
      "Reading 0 ... 765000  =      0.000 ...  3060.000 secs...\n"
     ]
    },
    {
     "name": "stderr",
     "output_type": "stream",
     "text": [
      "C:\\Users\\mad17\\AppData\\Local\\Temp\\ipykernel_11884\\244015385.py:51: RuntimeWarning: This filename (D:\\EPI_MFF\\NREM_EOG_F\\EPI\\DH3.fif) does not conform to MNE naming conventions. All raw files should end with raw.fif, raw_sss.fif, raw_tsss.fif, _meg.fif, _eeg.fif, _ieeg.fif, raw.fif.gz, raw_sss.fif.gz, raw_tsss.fif.gz, _meg.fif.gz, _eeg.fif.gz or _ieeg.fif.gz\n",
      "  total = mne.io.read_raw_fif(os.path.join(r\"D:\\EPI_MFF\\NREM_EOG_F\\EPI\", file), preload=True)\n"
     ]
    },
    {
     "name": "stdout",
     "output_type": "stream",
     "text": [
      "Creating RawArray with float64 data, n_channels=1, n_times=765001\n",
      "    Range : 0 ... 765000 =      0.000 ...  3060.000 secs\n",
      "Ready.\n",
      "Overwriting existing file.\n",
      "Writing D:\\EPI_MFF\\NREM_EOG_AVE_XGB\\EPI\\DH3.fif\n",
      "    Writing channel names to FIF truncated to 15 characters with remapping\n"
     ]
    },
    {
     "name": "stderr",
     "output_type": "stream",
     "text": [
      "C:\\Users\\mad17\\AppData\\Local\\Temp\\ipykernel_11884\\244015385.py:59: RuntimeWarning: This filename (D:\\EPI_MFF\\NREM_EOG_AVE_XGB\\EPI\\DH3.fif) does not conform to MNE naming conventions. All raw files should end with raw.fif, raw_sss.fif, raw_tsss.fif, _meg.fif, _eeg.fif, _ieeg.fif, raw.fif.gz, raw_sss.fif.gz, raw_tsss.fif.gz, _meg.fif.gz, _eeg.fif.gz or _ieeg.fif.gz\n",
      "  total.save(os.path.join(save_path, file), overwrite=True)\n"
     ]
    },
    {
     "name": "stdout",
     "output_type": "stream",
     "text": [
      "Closing D:\\EPI_MFF\\NREM_EOG_AVE_XGB\\EPI\\DH3.fif\n",
      "[done]\n",
      "Opening raw data file D:\\EPI_MFF\\NREM_EOG_AVE_XGB\\EPI\\MF7.fif...\n"
     ]
    },
    {
     "name": "stderr",
     "output_type": "stream",
     "text": [
      "C:\\Users\\mad17\\AppData\\Local\\Temp\\ipykernel_11884\\244015385.py:7: RuntimeWarning: This filename (D:\\EPI_MFF\\NREM_EOG_AVE_XGB\\EPI\\MF7.fif) does not conform to MNE naming conventions. All raw files should end with raw.fif, raw_sss.fif, raw_tsss.fif, _meg.fif, _eeg.fif, _ieeg.fif, raw.fif.gz, raw_sss.fif.gz, raw_tsss.fif.gz, _meg.fif.gz, _eeg.fif.gz or _ieeg.fif.gz\n",
      "  raw = mne.io.read_raw_fif(os.path.join(r\"D:\\EPI_MFF\\NREM_EOG_AVE_XGB\\EPI\", file), preload=True)\n"
     ]
    },
    {
     "name": "stdout",
     "output_type": "stream",
     "text": [
      "    Range : 30000 ... 930000 =    120.000 ...  3720.000 secs\n",
      "Ready.\n",
      "Reading 0 ... 900000  =      0.000 ...  3600.000 secs...\n",
      "Opening raw data file D:\\EPI_MFF\\NREM_EOG_F\\EPI\\MF7.fif...\n"
     ]
    },
    {
     "name": "stderr",
     "output_type": "stream",
     "text": [
      "C:\\Users\\mad17\\AppData\\Local\\Temp\\ipykernel_11884\\244015385.py:9: RuntimeWarning: This filename (D:\\EPI_MFF\\NREM_EOG_F\\EPI\\MF7.fif) does not conform to MNE naming conventions. All raw files should end with raw.fif, raw_sss.fif, raw_tsss.fif, _meg.fif, _eeg.fif, _ieeg.fif, raw.fif.gz, raw_sss.fif.gz, raw_tsss.fif.gz, _meg.fif.gz, _eeg.fif.gz or _ieeg.fif.gz\n",
      "  total = mne.io.read_raw_fif(os.path.join(r\"D:\\EPI_MFF\\NREM_EOG_F\\EPI\", file), preload=True)\n"
     ]
    },
    {
     "name": "stdout",
     "output_type": "stream",
     "text": [
      "    Range : 30000 ... 930000 =    120.000 ...  3720.000 secs\n",
      "Ready.\n",
      "Reading 0 ... 900000  =      0.000 ...  3600.000 secs...\n",
      "Creating RawArray with float64 data, n_channels=1, n_times=900001\n",
      "    Range : 0 ... 900000 =      0.000 ...  3600.000 secs\n",
      "Ready.\n",
      "Opening raw data file D:\\EPI_MFF\\NREM_EOG_AVE_XGB\\EPI\\MF7.fif...\n",
      "    Range : 30000 ... 930000 =    120.000 ...  3720.000 secs\n",
      "Ready.\n",
      "Reading 0 ... 900000  =      0.000 ...  3600.000 secs...\n"
     ]
    },
    {
     "name": "stderr",
     "output_type": "stream",
     "text": [
      "C:\\Users\\mad17\\AppData\\Local\\Temp\\ipykernel_11884\\244015385.py:17: RuntimeWarning: This filename (D:\\EPI_MFF\\NREM_EOG_AVE_XGB\\EPI\\MF7.fif) does not conform to MNE naming conventions. All raw files should end with raw.fif, raw_sss.fif, raw_tsss.fif, _meg.fif, _eeg.fif, _ieeg.fif, raw.fif.gz, raw_sss.fif.gz, raw_tsss.fif.gz, _meg.fif.gz, _eeg.fif.gz or _ieeg.fif.gz\n",
      "  raw = mne.io.read_raw_fif(os.path.join(r\"D:\\EPI_MFF\\NREM_EOG_AVE_XGB\\EPI\", file), preload=True)\n"
     ]
    },
    {
     "name": "stdout",
     "output_type": "stream",
     "text": [
      "Opening raw data file D:\\EPI_MFF\\NREM_EOG_F\\EPI\\MF7.fif...\n",
      "    Range : 30000 ... 930000 =    120.000 ...  3720.000 secs\n",
      "Ready.\n",
      "Reading 0 ... 900000  =      0.000 ...  3600.000 secs...\n"
     ]
    },
    {
     "name": "stderr",
     "output_type": "stream",
     "text": [
      "C:\\Users\\mad17\\AppData\\Local\\Temp\\ipykernel_11884\\244015385.py:19: RuntimeWarning: This filename (D:\\EPI_MFF\\NREM_EOG_F\\EPI\\MF7.fif) does not conform to MNE naming conventions. All raw files should end with raw.fif, raw_sss.fif, raw_tsss.fif, _meg.fif, _eeg.fif, _ieeg.fif, raw.fif.gz, raw_sss.fif.gz, raw_tsss.fif.gz, _meg.fif.gz, _eeg.fif.gz or _ieeg.fif.gz\n",
      "  total = mne.io.read_raw_fif(os.path.join(r\"D:\\EPI_MFF\\NREM_EOG_F\\EPI\", file), preload=True)\n"
     ]
    },
    {
     "name": "stdout",
     "output_type": "stream",
     "text": [
      "Creating RawArray with float64 data, n_channels=1, n_times=900001\n",
      "    Range : 0 ... 900000 =      0.000 ...  3600.000 secs\n",
      "Ready.\n",
      "Opening raw data file D:\\EPI_MFF\\NREM_EOG_AVE_XGB\\EPI\\MF7.fif...\n",
      "    Range : 30000 ... 930000 =    120.000 ...  3720.000 secs\n",
      "Ready.\n",
      "Reading 0 ... 900000  =      0.000 ...  3600.000 secs...\n"
     ]
    },
    {
     "name": "stderr",
     "output_type": "stream",
     "text": [
      "C:\\Users\\mad17\\AppData\\Local\\Temp\\ipykernel_11884\\244015385.py:25: RuntimeWarning: This filename (D:\\EPI_MFF\\NREM_EOG_AVE_XGB\\EPI\\MF7.fif) does not conform to MNE naming conventions. All raw files should end with raw.fif, raw_sss.fif, raw_tsss.fif, _meg.fif, _eeg.fif, _ieeg.fif, raw.fif.gz, raw_sss.fif.gz, raw_tsss.fif.gz, _meg.fif.gz, _eeg.fif.gz or _ieeg.fif.gz\n",
      "  raw = mne.io.read_raw_fif(os.path.join(r\"D:\\EPI_MFF\\NREM_EOG_AVE_XGB\\EPI\", file), preload=True)\n"
     ]
    },
    {
     "name": "stdout",
     "output_type": "stream",
     "text": [
      "Opening raw data file D:\\EPI_MFF\\NREM_EOG_F\\EPI\\MF7.fif...\n",
      "    Range : 30000 ... 930000 =    120.000 ...  3720.000 secs\n",
      "Ready.\n",
      "Reading 0 ... 900000  =      0.000 ...  3600.000 secs...\n"
     ]
    },
    {
     "name": "stderr",
     "output_type": "stream",
     "text": [
      "C:\\Users\\mad17\\AppData\\Local\\Temp\\ipykernel_11884\\244015385.py:27: RuntimeWarning: This filename (D:\\EPI_MFF\\NREM_EOG_F\\EPI\\MF7.fif) does not conform to MNE naming conventions. All raw files should end with raw.fif, raw_sss.fif, raw_tsss.fif, _meg.fif, _eeg.fif, _ieeg.fif, raw.fif.gz, raw_sss.fif.gz, raw_tsss.fif.gz, _meg.fif.gz, _eeg.fif.gz or _ieeg.fif.gz\n",
      "  total = mne.io.read_raw_fif(os.path.join(r\"D:\\EPI_MFF\\NREM_EOG_F\\EPI\", file), preload=True)\n"
     ]
    },
    {
     "name": "stdout",
     "output_type": "stream",
     "text": [
      "Creating RawArray with float64 data, n_channels=1, n_times=900001\n",
      "    Range : 0 ... 900000 =      0.000 ...  3600.000 secs\n",
      "Ready.\n",
      "Opening raw data file D:\\EPI_MFF\\NREM_EOG_AVE_XGB\\EPI\\MF7.fif...\n",
      "    Range : 30000 ... 930000 =    120.000 ...  3720.000 secs\n",
      "Ready.\n",
      "Reading 0 ... 900000  =      0.000 ...  3600.000 secs...\n"
     ]
    },
    {
     "name": "stderr",
     "output_type": "stream",
     "text": [
      "C:\\Users\\mad17\\AppData\\Local\\Temp\\ipykernel_11884\\244015385.py:33: RuntimeWarning: This filename (D:\\EPI_MFF\\NREM_EOG_AVE_XGB\\EPI\\MF7.fif) does not conform to MNE naming conventions. All raw files should end with raw.fif, raw_sss.fif, raw_tsss.fif, _meg.fif, _eeg.fif, _ieeg.fif, raw.fif.gz, raw_sss.fif.gz, raw_tsss.fif.gz, _meg.fif.gz, _eeg.fif.gz or _ieeg.fif.gz\n",
      "  raw = mne.io.read_raw_fif(os.path.join(r\"D:\\EPI_MFF\\NREM_EOG_AVE_XGB\\EPI\", file), preload=True)\n"
     ]
    },
    {
     "name": "stdout",
     "output_type": "stream",
     "text": [
      "Opening raw data file D:\\EPI_MFF\\NREM_EOG_F\\EPI\\MF7.fif...\n",
      "    Range : 30000 ... 930000 =    120.000 ...  3720.000 secs\n",
      "Ready.\n",
      "Reading 0 ... 900000  =      0.000 ...  3600.000 secs...\n"
     ]
    },
    {
     "name": "stderr",
     "output_type": "stream",
     "text": [
      "C:\\Users\\mad17\\AppData\\Local\\Temp\\ipykernel_11884\\244015385.py:35: RuntimeWarning: This filename (D:\\EPI_MFF\\NREM_EOG_F\\EPI\\MF7.fif) does not conform to MNE naming conventions. All raw files should end with raw.fif, raw_sss.fif, raw_tsss.fif, _meg.fif, _eeg.fif, _ieeg.fif, raw.fif.gz, raw_sss.fif.gz, raw_tsss.fif.gz, _meg.fif.gz, _eeg.fif.gz or _ieeg.fif.gz\n",
      "  total = mne.io.read_raw_fif(os.path.join(r\"D:\\EPI_MFF\\NREM_EOG_F\\EPI\", file), preload=True)\n"
     ]
    },
    {
     "name": "stdout",
     "output_type": "stream",
     "text": [
      "Creating RawArray with float64 data, n_channels=1, n_times=900001\n",
      "    Range : 0 ... 900000 =      0.000 ...  3600.000 secs\n",
      "Ready.\n",
      "Opening raw data file D:\\EPI_MFF\\NREM_EOG_AVE_XGB\\EPI\\MF7.fif...\n",
      "    Range : 30000 ... 930000 =    120.000 ...  3720.000 secs\n",
      "Ready.\n",
      "Reading 0 ... 900000  =      0.000 ...  3600.000 secs...\n"
     ]
    },
    {
     "name": "stderr",
     "output_type": "stream",
     "text": [
      "C:\\Users\\mad17\\AppData\\Local\\Temp\\ipykernel_11884\\244015385.py:41: RuntimeWarning: This filename (D:\\EPI_MFF\\NREM_EOG_AVE_XGB\\EPI\\MF7.fif) does not conform to MNE naming conventions. All raw files should end with raw.fif, raw_sss.fif, raw_tsss.fif, _meg.fif, _eeg.fif, _ieeg.fif, raw.fif.gz, raw_sss.fif.gz, raw_tsss.fif.gz, _meg.fif.gz, _eeg.fif.gz or _ieeg.fif.gz\n",
      "  raw = mne.io.read_raw_fif(os.path.join(r\"D:\\EPI_MFF\\NREM_EOG_AVE_XGB\\EPI\", file), preload=True)\n"
     ]
    },
    {
     "name": "stdout",
     "output_type": "stream",
     "text": [
      "Opening raw data file D:\\EPI_MFF\\NREM_EOG_F\\EPI\\MF7.fif...\n",
      "    Range : 30000 ... 930000 =    120.000 ...  3720.000 secs\n",
      "Ready.\n",
      "Reading 0 ... 900000  =      0.000 ...  3600.000 secs...\n"
     ]
    },
    {
     "name": "stderr",
     "output_type": "stream",
     "text": [
      "C:\\Users\\mad17\\AppData\\Local\\Temp\\ipykernel_11884\\244015385.py:43: RuntimeWarning: This filename (D:\\EPI_MFF\\NREM_EOG_F\\EPI\\MF7.fif) does not conform to MNE naming conventions. All raw files should end with raw.fif, raw_sss.fif, raw_tsss.fif, _meg.fif, _eeg.fif, _ieeg.fif, raw.fif.gz, raw_sss.fif.gz, raw_tsss.fif.gz, _meg.fif.gz, _eeg.fif.gz or _ieeg.fif.gz\n",
      "  total = mne.io.read_raw_fif(os.path.join(r\"D:\\EPI_MFF\\NREM_EOG_F\\EPI\", file), preload=True)\n"
     ]
    },
    {
     "name": "stdout",
     "output_type": "stream",
     "text": [
      "Creating RawArray with float64 data, n_channels=1, n_times=900001\n",
      "    Range : 0 ... 900000 =      0.000 ...  3600.000 secs\n",
      "Ready.\n",
      "Opening raw data file D:\\EPI_MFF\\NREM_EOG_AVE_XGB\\EPI\\MF7.fif...\n",
      "    Range : 30000 ... 930000 =    120.000 ...  3720.000 secs\n",
      "Ready.\n",
      "Reading 0 ... 900000  =      0.000 ...  3600.000 secs...\n"
     ]
    },
    {
     "name": "stderr",
     "output_type": "stream",
     "text": [
      "C:\\Users\\mad17\\AppData\\Local\\Temp\\ipykernel_11884\\244015385.py:49: RuntimeWarning: This filename (D:\\EPI_MFF\\NREM_EOG_AVE_XGB\\EPI\\MF7.fif) does not conform to MNE naming conventions. All raw files should end with raw.fif, raw_sss.fif, raw_tsss.fif, _meg.fif, _eeg.fif, _ieeg.fif, raw.fif.gz, raw_sss.fif.gz, raw_tsss.fif.gz, _meg.fif.gz, _eeg.fif.gz or _ieeg.fif.gz\n",
      "  raw = mne.io.read_raw_fif(os.path.join(r\"D:\\EPI_MFF\\NREM_EOG_AVE_XGB\\EPI\", file), preload=True)\n"
     ]
    },
    {
     "name": "stdout",
     "output_type": "stream",
     "text": [
      "Opening raw data file D:\\EPI_MFF\\NREM_EOG_F\\EPI\\MF7.fif...\n",
      "    Range : 30000 ... 930000 =    120.000 ...  3720.000 secs\n",
      "Ready.\n",
      "Reading 0 ... 900000  =      0.000 ...  3600.000 secs...\n"
     ]
    },
    {
     "name": "stderr",
     "output_type": "stream",
     "text": [
      "C:\\Users\\mad17\\AppData\\Local\\Temp\\ipykernel_11884\\244015385.py:51: RuntimeWarning: This filename (D:\\EPI_MFF\\NREM_EOG_F\\EPI\\MF7.fif) does not conform to MNE naming conventions. All raw files should end with raw.fif, raw_sss.fif, raw_tsss.fif, _meg.fif, _eeg.fif, _ieeg.fif, raw.fif.gz, raw_sss.fif.gz, raw_tsss.fif.gz, _meg.fif.gz, _eeg.fif.gz or _ieeg.fif.gz\n",
      "  total = mne.io.read_raw_fif(os.path.join(r\"D:\\EPI_MFF\\NREM_EOG_F\\EPI\", file), preload=True)\n"
     ]
    },
    {
     "name": "stdout",
     "output_type": "stream",
     "text": [
      "Creating RawArray with float64 data, n_channels=1, n_times=900001\n",
      "    Range : 0 ... 900000 =      0.000 ...  3600.000 secs\n",
      "Ready.\n",
      "Overwriting existing file.\n",
      "Writing D:\\EPI_MFF\\NREM_EOG_AVE_XGB\\EPI\\MF7.fif\n",
      "    Writing channel names to FIF truncated to 15 characters with remapping\n"
     ]
    },
    {
     "name": "stderr",
     "output_type": "stream",
     "text": [
      "C:\\Users\\mad17\\AppData\\Local\\Temp\\ipykernel_11884\\244015385.py:59: RuntimeWarning: This filename (D:\\EPI_MFF\\NREM_EOG_AVE_XGB\\EPI\\MF7.fif) does not conform to MNE naming conventions. All raw files should end with raw.fif, raw_sss.fif, raw_tsss.fif, _meg.fif, _eeg.fif, _ieeg.fif, raw.fif.gz, raw_sss.fif.gz, raw_tsss.fif.gz, _meg.fif.gz, _eeg.fif.gz or _ieeg.fif.gz\n",
      "  total.save(os.path.join(save_path, file), overwrite=True)\n"
     ]
    },
    {
     "name": "stdout",
     "output_type": "stream",
     "text": [
      "Closing D:\\EPI_MFF\\NREM_EOG_AVE_XGB\\EPI\\MF7.fif\n",
      "[done]\n",
      "Opening raw data file D:\\EPI_MFF\\NREM_EOG_AVE_XGB\\EPI\\MM1.fif...\n"
     ]
    },
    {
     "name": "stderr",
     "output_type": "stream",
     "text": [
      "C:\\Users\\mad17\\AppData\\Local\\Temp\\ipykernel_11884\\244015385.py:7: RuntimeWarning: This filename (D:\\EPI_MFF\\NREM_EOG_AVE_XGB\\EPI\\MM1.fif) does not conform to MNE naming conventions. All raw files should end with raw.fif, raw_sss.fif, raw_tsss.fif, _meg.fif, _eeg.fif, _ieeg.fif, raw.fif.gz, raw_sss.fif.gz, raw_tsss.fif.gz, _meg.fif.gz, _eeg.fif.gz or _ieeg.fif.gz\n",
      "  raw = mne.io.read_raw_fif(os.path.join(r\"D:\\EPI_MFF\\NREM_EOG_AVE_XGB\\EPI\", file), preload=True)\n"
     ]
    },
    {
     "name": "stdout",
     "output_type": "stream",
     "text": [
      "    Range : 367500 ... 1087500 =   1470.000 ...  4350.000 secs\n",
      "Ready.\n",
      "Reading 0 ... 720000  =      0.000 ...  2880.000 secs...\n",
      "Opening raw data file D:\\EPI_MFF\\NREM_EOG_F\\EPI\\MM1.fif...\n"
     ]
    },
    {
     "name": "stderr",
     "output_type": "stream",
     "text": [
      "C:\\Users\\mad17\\AppData\\Local\\Temp\\ipykernel_11884\\244015385.py:9: RuntimeWarning: This filename (D:\\EPI_MFF\\NREM_EOG_F\\EPI\\MM1.fif) does not conform to MNE naming conventions. All raw files should end with raw.fif, raw_sss.fif, raw_tsss.fif, _meg.fif, _eeg.fif, _ieeg.fif, raw.fif.gz, raw_sss.fif.gz, raw_tsss.fif.gz, _meg.fif.gz, _eeg.fif.gz or _ieeg.fif.gz\n",
      "  total = mne.io.read_raw_fif(os.path.join(r\"D:\\EPI_MFF\\NREM_EOG_F\\EPI\", file), preload=True)\n"
     ]
    },
    {
     "name": "stdout",
     "output_type": "stream",
     "text": [
      "    Range : 367500 ... 1087500 =   1470.000 ...  4350.000 secs\n",
      "Ready.\n",
      "Reading 0 ... 720000  =      0.000 ...  2880.000 secs...\n",
      "Creating RawArray with float64 data, n_channels=1, n_times=720001\n",
      "    Range : 0 ... 720000 =      0.000 ...  2880.000 secs\n",
      "Ready.\n",
      "Opening raw data file D:\\EPI_MFF\\NREM_EOG_AVE_XGB\\EPI\\MM1.fif...\n",
      "    Range : 367500 ... 1087500 =   1470.000 ...  4350.000 secs\n",
      "Ready.\n",
      "Reading 0 ... 720000  =      0.000 ...  2880.000 secs...\n"
     ]
    },
    {
     "name": "stderr",
     "output_type": "stream",
     "text": [
      "C:\\Users\\mad17\\AppData\\Local\\Temp\\ipykernel_11884\\244015385.py:17: RuntimeWarning: This filename (D:\\EPI_MFF\\NREM_EOG_AVE_XGB\\EPI\\MM1.fif) does not conform to MNE naming conventions. All raw files should end with raw.fif, raw_sss.fif, raw_tsss.fif, _meg.fif, _eeg.fif, _ieeg.fif, raw.fif.gz, raw_sss.fif.gz, raw_tsss.fif.gz, _meg.fif.gz, _eeg.fif.gz or _ieeg.fif.gz\n",
      "  raw = mne.io.read_raw_fif(os.path.join(r\"D:\\EPI_MFF\\NREM_EOG_AVE_XGB\\EPI\", file), preload=True)\n"
     ]
    },
    {
     "name": "stdout",
     "output_type": "stream",
     "text": [
      "Opening raw data file D:\\EPI_MFF\\NREM_EOG_F\\EPI\\MM1.fif...\n",
      "    Range : 367500 ... 1087500 =   1470.000 ...  4350.000 secs\n",
      "Ready.\n",
      "Reading 0 ... 720000  =      0.000 ...  2880.000 secs...\n"
     ]
    },
    {
     "name": "stderr",
     "output_type": "stream",
     "text": [
      "C:\\Users\\mad17\\AppData\\Local\\Temp\\ipykernel_11884\\244015385.py:19: RuntimeWarning: This filename (D:\\EPI_MFF\\NREM_EOG_F\\EPI\\MM1.fif) does not conform to MNE naming conventions. All raw files should end with raw.fif, raw_sss.fif, raw_tsss.fif, _meg.fif, _eeg.fif, _ieeg.fif, raw.fif.gz, raw_sss.fif.gz, raw_tsss.fif.gz, _meg.fif.gz, _eeg.fif.gz or _ieeg.fif.gz\n",
      "  total = mne.io.read_raw_fif(os.path.join(r\"D:\\EPI_MFF\\NREM_EOG_F\\EPI\", file), preload=True)\n"
     ]
    },
    {
     "name": "stdout",
     "output_type": "stream",
     "text": [
      "Creating RawArray with float64 data, n_channels=1, n_times=720001\n",
      "    Range : 0 ... 720000 =      0.000 ...  2880.000 secs\n",
      "Ready.\n",
      "Opening raw data file D:\\EPI_MFF\\NREM_EOG_AVE_XGB\\EPI\\MM1.fif...\n",
      "    Range : 367500 ... 1087500 =   1470.000 ...  4350.000 secs\n",
      "Ready.\n",
      "Reading 0 ... 720000  =      0.000 ...  2880.000 secs...\n"
     ]
    },
    {
     "name": "stderr",
     "output_type": "stream",
     "text": [
      "C:\\Users\\mad17\\AppData\\Local\\Temp\\ipykernel_11884\\244015385.py:25: RuntimeWarning: This filename (D:\\EPI_MFF\\NREM_EOG_AVE_XGB\\EPI\\MM1.fif) does not conform to MNE naming conventions. All raw files should end with raw.fif, raw_sss.fif, raw_tsss.fif, _meg.fif, _eeg.fif, _ieeg.fif, raw.fif.gz, raw_sss.fif.gz, raw_tsss.fif.gz, _meg.fif.gz, _eeg.fif.gz or _ieeg.fif.gz\n",
      "  raw = mne.io.read_raw_fif(os.path.join(r\"D:\\EPI_MFF\\NREM_EOG_AVE_XGB\\EPI\", file), preload=True)\n"
     ]
    },
    {
     "name": "stdout",
     "output_type": "stream",
     "text": [
      "Opening raw data file D:\\EPI_MFF\\NREM_EOG_F\\EPI\\MM1.fif...\n",
      "    Range : 367500 ... 1087500 =   1470.000 ...  4350.000 secs\n",
      "Ready.\n",
      "Reading 0 ... 720000  =      0.000 ...  2880.000 secs...\n"
     ]
    },
    {
     "name": "stderr",
     "output_type": "stream",
     "text": [
      "C:\\Users\\mad17\\AppData\\Local\\Temp\\ipykernel_11884\\244015385.py:27: RuntimeWarning: This filename (D:\\EPI_MFF\\NREM_EOG_F\\EPI\\MM1.fif) does not conform to MNE naming conventions. All raw files should end with raw.fif, raw_sss.fif, raw_tsss.fif, _meg.fif, _eeg.fif, _ieeg.fif, raw.fif.gz, raw_sss.fif.gz, raw_tsss.fif.gz, _meg.fif.gz, _eeg.fif.gz or _ieeg.fif.gz\n",
      "  total = mne.io.read_raw_fif(os.path.join(r\"D:\\EPI_MFF\\NREM_EOG_F\\EPI\", file), preload=True)\n"
     ]
    },
    {
     "name": "stdout",
     "output_type": "stream",
     "text": [
      "Creating RawArray with float64 data, n_channels=1, n_times=720001\n",
      "    Range : 0 ... 720000 =      0.000 ...  2880.000 secs\n",
      "Ready.\n",
      "Opening raw data file D:\\EPI_MFF\\NREM_EOG_AVE_XGB\\EPI\\MM1.fif...\n",
      "    Range : 367500 ... 1087500 =   1470.000 ...  4350.000 secs\n",
      "Ready.\n",
      "Reading 0 ... 720000  =      0.000 ...  2880.000 secs...\n"
     ]
    },
    {
     "name": "stderr",
     "output_type": "stream",
     "text": [
      "C:\\Users\\mad17\\AppData\\Local\\Temp\\ipykernel_11884\\244015385.py:33: RuntimeWarning: This filename (D:\\EPI_MFF\\NREM_EOG_AVE_XGB\\EPI\\MM1.fif) does not conform to MNE naming conventions. All raw files should end with raw.fif, raw_sss.fif, raw_tsss.fif, _meg.fif, _eeg.fif, _ieeg.fif, raw.fif.gz, raw_sss.fif.gz, raw_tsss.fif.gz, _meg.fif.gz, _eeg.fif.gz or _ieeg.fif.gz\n",
      "  raw = mne.io.read_raw_fif(os.path.join(r\"D:\\EPI_MFF\\NREM_EOG_AVE_XGB\\EPI\", file), preload=True)\n"
     ]
    },
    {
     "name": "stdout",
     "output_type": "stream",
     "text": [
      "Opening raw data file D:\\EPI_MFF\\NREM_EOG_F\\EPI\\MM1.fif...\n",
      "    Range : 367500 ... 1087500 =   1470.000 ...  4350.000 secs\n",
      "Ready.\n",
      "Reading 0 ... 720000  =      0.000 ...  2880.000 secs...\n"
     ]
    },
    {
     "name": "stderr",
     "output_type": "stream",
     "text": [
      "C:\\Users\\mad17\\AppData\\Local\\Temp\\ipykernel_11884\\244015385.py:35: RuntimeWarning: This filename (D:\\EPI_MFF\\NREM_EOG_F\\EPI\\MM1.fif) does not conform to MNE naming conventions. All raw files should end with raw.fif, raw_sss.fif, raw_tsss.fif, _meg.fif, _eeg.fif, _ieeg.fif, raw.fif.gz, raw_sss.fif.gz, raw_tsss.fif.gz, _meg.fif.gz, _eeg.fif.gz or _ieeg.fif.gz\n",
      "  total = mne.io.read_raw_fif(os.path.join(r\"D:\\EPI_MFF\\NREM_EOG_F\\EPI\", file), preload=True)\n"
     ]
    },
    {
     "name": "stdout",
     "output_type": "stream",
     "text": [
      "Creating RawArray with float64 data, n_channels=1, n_times=720001\n",
      "    Range : 0 ... 720000 =      0.000 ...  2880.000 secs\n",
      "Ready.\n",
      "Opening raw data file D:\\EPI_MFF\\NREM_EOG_AVE_XGB\\EPI\\MM1.fif...\n",
      "    Range : 367500 ... 1087500 =   1470.000 ...  4350.000 secs\n",
      "Ready.\n",
      "Reading 0 ... 720000  =      0.000 ...  2880.000 secs...\n"
     ]
    },
    {
     "name": "stderr",
     "output_type": "stream",
     "text": [
      "C:\\Users\\mad17\\AppData\\Local\\Temp\\ipykernel_11884\\244015385.py:41: RuntimeWarning: This filename (D:\\EPI_MFF\\NREM_EOG_AVE_XGB\\EPI\\MM1.fif) does not conform to MNE naming conventions. All raw files should end with raw.fif, raw_sss.fif, raw_tsss.fif, _meg.fif, _eeg.fif, _ieeg.fif, raw.fif.gz, raw_sss.fif.gz, raw_tsss.fif.gz, _meg.fif.gz, _eeg.fif.gz or _ieeg.fif.gz\n",
      "  raw = mne.io.read_raw_fif(os.path.join(r\"D:\\EPI_MFF\\NREM_EOG_AVE_XGB\\EPI\", file), preload=True)\n"
     ]
    },
    {
     "name": "stdout",
     "output_type": "stream",
     "text": [
      "Opening raw data file D:\\EPI_MFF\\NREM_EOG_F\\EPI\\MM1.fif...\n",
      "    Range : 367500 ... 1087500 =   1470.000 ...  4350.000 secs\n",
      "Ready.\n",
      "Reading 0 ... 720000  =      0.000 ...  2880.000 secs...\n"
     ]
    },
    {
     "name": "stderr",
     "output_type": "stream",
     "text": [
      "C:\\Users\\mad17\\AppData\\Local\\Temp\\ipykernel_11884\\244015385.py:43: RuntimeWarning: This filename (D:\\EPI_MFF\\NREM_EOG_F\\EPI\\MM1.fif) does not conform to MNE naming conventions. All raw files should end with raw.fif, raw_sss.fif, raw_tsss.fif, _meg.fif, _eeg.fif, _ieeg.fif, raw.fif.gz, raw_sss.fif.gz, raw_tsss.fif.gz, _meg.fif.gz, _eeg.fif.gz or _ieeg.fif.gz\n",
      "  total = mne.io.read_raw_fif(os.path.join(r\"D:\\EPI_MFF\\NREM_EOG_F\\EPI\", file), preload=True)\n"
     ]
    },
    {
     "name": "stdout",
     "output_type": "stream",
     "text": [
      "Creating RawArray with float64 data, n_channels=1, n_times=720001\n",
      "    Range : 0 ... 720000 =      0.000 ...  2880.000 secs\n",
      "Ready.\n",
      "Opening raw data file D:\\EPI_MFF\\NREM_EOG_AVE_XGB\\EPI\\MM1.fif...\n",
      "    Range : 367500 ... 1087500 =   1470.000 ...  4350.000 secs\n",
      "Ready.\n",
      "Reading 0 ... 720000  =      0.000 ...  2880.000 secs...\n"
     ]
    },
    {
     "name": "stderr",
     "output_type": "stream",
     "text": [
      "C:\\Users\\mad17\\AppData\\Local\\Temp\\ipykernel_11884\\244015385.py:49: RuntimeWarning: This filename (D:\\EPI_MFF\\NREM_EOG_AVE_XGB\\EPI\\MM1.fif) does not conform to MNE naming conventions. All raw files should end with raw.fif, raw_sss.fif, raw_tsss.fif, _meg.fif, _eeg.fif, _ieeg.fif, raw.fif.gz, raw_sss.fif.gz, raw_tsss.fif.gz, _meg.fif.gz, _eeg.fif.gz or _ieeg.fif.gz\n",
      "  raw = mne.io.read_raw_fif(os.path.join(r\"D:\\EPI_MFF\\NREM_EOG_AVE_XGB\\EPI\", file), preload=True)\n"
     ]
    },
    {
     "name": "stdout",
     "output_type": "stream",
     "text": [
      "Opening raw data file D:\\EPI_MFF\\NREM_EOG_F\\EPI\\MM1.fif...\n",
      "    Range : 367500 ... 1087500 =   1470.000 ...  4350.000 secs\n",
      "Ready.\n",
      "Reading 0 ... 720000  =      0.000 ...  2880.000 secs...\n"
     ]
    },
    {
     "name": "stderr",
     "output_type": "stream",
     "text": [
      "C:\\Users\\mad17\\AppData\\Local\\Temp\\ipykernel_11884\\244015385.py:51: RuntimeWarning: This filename (D:\\EPI_MFF\\NREM_EOG_F\\EPI\\MM1.fif) does not conform to MNE naming conventions. All raw files should end with raw.fif, raw_sss.fif, raw_tsss.fif, _meg.fif, _eeg.fif, _ieeg.fif, raw.fif.gz, raw_sss.fif.gz, raw_tsss.fif.gz, _meg.fif.gz, _eeg.fif.gz or _ieeg.fif.gz\n",
      "  total = mne.io.read_raw_fif(os.path.join(r\"D:\\EPI_MFF\\NREM_EOG_F\\EPI\", file), preload=True)\n"
     ]
    },
    {
     "name": "stdout",
     "output_type": "stream",
     "text": [
      "Creating RawArray with float64 data, n_channels=1, n_times=720001\n",
      "    Range : 0 ... 720000 =      0.000 ...  2880.000 secs\n",
      "Ready.\n",
      "Overwriting existing file.\n",
      "Writing D:\\EPI_MFF\\NREM_EOG_AVE_XGB\\EPI\\MM1.fif\n",
      "    Writing channel names to FIF truncated to 15 characters with remapping\n"
     ]
    },
    {
     "name": "stderr",
     "output_type": "stream",
     "text": [
      "C:\\Users\\mad17\\AppData\\Local\\Temp\\ipykernel_11884\\244015385.py:59: RuntimeWarning: This filename (D:\\EPI_MFF\\NREM_EOG_AVE_XGB\\EPI\\MM1.fif) does not conform to MNE naming conventions. All raw files should end with raw.fif, raw_sss.fif, raw_tsss.fif, _meg.fif, _eeg.fif, _ieeg.fif, raw.fif.gz, raw_sss.fif.gz, raw_tsss.fif.gz, _meg.fif.gz, _eeg.fif.gz or _ieeg.fif.gz\n",
      "  total.save(os.path.join(save_path, file), overwrite=True)\n"
     ]
    },
    {
     "name": "stdout",
     "output_type": "stream",
     "text": [
      "Closing D:\\EPI_MFF\\NREM_EOG_AVE_XGB\\EPI\\MM1.fif\n",
      "[done]\n",
      "Opening raw data file D:\\EPI_MFF\\NREM_EOG_AVE_XGB\\EPI\\SS1.fif...\n"
     ]
    },
    {
     "name": "stderr",
     "output_type": "stream",
     "text": [
      "C:\\Users\\mad17\\AppData\\Local\\Temp\\ipykernel_11884\\244015385.py:7: RuntimeWarning: This filename (D:\\EPI_MFF\\NREM_EOG_AVE_XGB\\EPI\\SS1.fif) does not conform to MNE naming conventions. All raw files should end with raw.fif, raw_sss.fif, raw_tsss.fif, _meg.fif, _eeg.fif, _ieeg.fif, raw.fif.gz, raw_sss.fif.gz, raw_tsss.fif.gz, _meg.fif.gz, _eeg.fif.gz or _ieeg.fif.gz\n",
      "  raw = mne.io.read_raw_fif(os.path.join(r\"D:\\EPI_MFF\\NREM_EOG_AVE_XGB\\EPI\", file), preload=True)\n"
     ]
    },
    {
     "name": "stdout",
     "output_type": "stream",
     "text": [
      "    Range : 112500 ... 1132500 =    450.000 ...  4530.000 secs\n",
      "Ready.\n",
      "Reading 0 ... 1020000  =      0.000 ...  4080.000 secs...\n",
      "Opening raw data file D:\\EPI_MFF\\NREM_EOG_F\\EPI\\SS1.fif...\n"
     ]
    },
    {
     "name": "stderr",
     "output_type": "stream",
     "text": [
      "C:\\Users\\mad17\\AppData\\Local\\Temp\\ipykernel_11884\\244015385.py:9: RuntimeWarning: This filename (D:\\EPI_MFF\\NREM_EOG_F\\EPI\\SS1.fif) does not conform to MNE naming conventions. All raw files should end with raw.fif, raw_sss.fif, raw_tsss.fif, _meg.fif, _eeg.fif, _ieeg.fif, raw.fif.gz, raw_sss.fif.gz, raw_tsss.fif.gz, _meg.fif.gz, _eeg.fif.gz or _ieeg.fif.gz\n",
      "  total = mne.io.read_raw_fif(os.path.join(r\"D:\\EPI_MFF\\NREM_EOG_F\\EPI\", file), preload=True)\n"
     ]
    },
    {
     "name": "stdout",
     "output_type": "stream",
     "text": [
      "    Range : 112500 ... 1132500 =    450.000 ...  4530.000 secs\n",
      "Ready.\n",
      "Reading 0 ... 1020000  =      0.000 ...  4080.000 secs...\n",
      "Creating RawArray with float64 data, n_channels=1, n_times=1020001\n",
      "    Range : 0 ... 1020000 =      0.000 ...  4080.000 secs\n",
      "Ready.\n",
      "Opening raw data file D:\\EPI_MFF\\NREM_EOG_AVE_XGB\\EPI\\SS1.fif...\n",
      "    Range : 112500 ... 1132500 =    450.000 ...  4530.000 secs\n",
      "Ready.\n",
      "Reading 0 ... 1020000  =      0.000 ...  4080.000 secs...\n"
     ]
    },
    {
     "name": "stderr",
     "output_type": "stream",
     "text": [
      "C:\\Users\\mad17\\AppData\\Local\\Temp\\ipykernel_11884\\244015385.py:17: RuntimeWarning: This filename (D:\\EPI_MFF\\NREM_EOG_AVE_XGB\\EPI\\SS1.fif) does not conform to MNE naming conventions. All raw files should end with raw.fif, raw_sss.fif, raw_tsss.fif, _meg.fif, _eeg.fif, _ieeg.fif, raw.fif.gz, raw_sss.fif.gz, raw_tsss.fif.gz, _meg.fif.gz, _eeg.fif.gz or _ieeg.fif.gz\n",
      "  raw = mne.io.read_raw_fif(os.path.join(r\"D:\\EPI_MFF\\NREM_EOG_AVE_XGB\\EPI\", file), preload=True)\n"
     ]
    },
    {
     "name": "stdout",
     "output_type": "stream",
     "text": [
      "Opening raw data file D:\\EPI_MFF\\NREM_EOG_F\\EPI\\SS1.fif...\n",
      "    Range : 112500 ... 1132500 =    450.000 ...  4530.000 secs\n",
      "Ready.\n",
      "Reading 0 ... 1020000  =      0.000 ...  4080.000 secs...\n"
     ]
    },
    {
     "name": "stderr",
     "output_type": "stream",
     "text": [
      "C:\\Users\\mad17\\AppData\\Local\\Temp\\ipykernel_11884\\244015385.py:19: RuntimeWarning: This filename (D:\\EPI_MFF\\NREM_EOG_F\\EPI\\SS1.fif) does not conform to MNE naming conventions. All raw files should end with raw.fif, raw_sss.fif, raw_tsss.fif, _meg.fif, _eeg.fif, _ieeg.fif, raw.fif.gz, raw_sss.fif.gz, raw_tsss.fif.gz, _meg.fif.gz, _eeg.fif.gz or _ieeg.fif.gz\n",
      "  total = mne.io.read_raw_fif(os.path.join(r\"D:\\EPI_MFF\\NREM_EOG_F\\EPI\", file), preload=True)\n"
     ]
    },
    {
     "name": "stdout",
     "output_type": "stream",
     "text": [
      "Creating RawArray with float64 data, n_channels=1, n_times=1020001\n",
      "    Range : 0 ... 1020000 =      0.000 ...  4080.000 secs\n",
      "Ready.\n",
      "Opening raw data file D:\\EPI_MFF\\NREM_EOG_AVE_XGB\\EPI\\SS1.fif...\n",
      "    Range : 112500 ... 1132500 =    450.000 ...  4530.000 secs\n",
      "Ready.\n",
      "Reading 0 ... 1020000  =      0.000 ...  4080.000 secs...\n"
     ]
    },
    {
     "name": "stderr",
     "output_type": "stream",
     "text": [
      "C:\\Users\\mad17\\AppData\\Local\\Temp\\ipykernel_11884\\244015385.py:25: RuntimeWarning: This filename (D:\\EPI_MFF\\NREM_EOG_AVE_XGB\\EPI\\SS1.fif) does not conform to MNE naming conventions. All raw files should end with raw.fif, raw_sss.fif, raw_tsss.fif, _meg.fif, _eeg.fif, _ieeg.fif, raw.fif.gz, raw_sss.fif.gz, raw_tsss.fif.gz, _meg.fif.gz, _eeg.fif.gz or _ieeg.fif.gz\n",
      "  raw = mne.io.read_raw_fif(os.path.join(r\"D:\\EPI_MFF\\NREM_EOG_AVE_XGB\\EPI\", file), preload=True)\n"
     ]
    },
    {
     "name": "stdout",
     "output_type": "stream",
     "text": [
      "Opening raw data file D:\\EPI_MFF\\NREM_EOG_F\\EPI\\SS1.fif...\n",
      "    Range : 112500 ... 1132500 =    450.000 ...  4530.000 secs\n",
      "Ready.\n",
      "Reading 0 ... 1020000  =      0.000 ...  4080.000 secs...\n"
     ]
    },
    {
     "name": "stderr",
     "output_type": "stream",
     "text": [
      "C:\\Users\\mad17\\AppData\\Local\\Temp\\ipykernel_11884\\244015385.py:27: RuntimeWarning: This filename (D:\\EPI_MFF\\NREM_EOG_F\\EPI\\SS1.fif) does not conform to MNE naming conventions. All raw files should end with raw.fif, raw_sss.fif, raw_tsss.fif, _meg.fif, _eeg.fif, _ieeg.fif, raw.fif.gz, raw_sss.fif.gz, raw_tsss.fif.gz, _meg.fif.gz, _eeg.fif.gz or _ieeg.fif.gz\n",
      "  total = mne.io.read_raw_fif(os.path.join(r\"D:\\EPI_MFF\\NREM_EOG_F\\EPI\", file), preload=True)\n"
     ]
    },
    {
     "name": "stdout",
     "output_type": "stream",
     "text": [
      "Creating RawArray with float64 data, n_channels=1, n_times=1020001\n",
      "    Range : 0 ... 1020000 =      0.000 ...  4080.000 secs\n",
      "Ready.\n",
      "Opening raw data file D:\\EPI_MFF\\NREM_EOG_AVE_XGB\\EPI\\SS1.fif...\n",
      "    Range : 112500 ... 1132500 =    450.000 ...  4530.000 secs\n",
      "Ready.\n",
      "Reading 0 ... 1020000  =      0.000 ...  4080.000 secs...\n"
     ]
    },
    {
     "name": "stderr",
     "output_type": "stream",
     "text": [
      "C:\\Users\\mad17\\AppData\\Local\\Temp\\ipykernel_11884\\244015385.py:33: RuntimeWarning: This filename (D:\\EPI_MFF\\NREM_EOG_AVE_XGB\\EPI\\SS1.fif) does not conform to MNE naming conventions. All raw files should end with raw.fif, raw_sss.fif, raw_tsss.fif, _meg.fif, _eeg.fif, _ieeg.fif, raw.fif.gz, raw_sss.fif.gz, raw_tsss.fif.gz, _meg.fif.gz, _eeg.fif.gz or _ieeg.fif.gz\n",
      "  raw = mne.io.read_raw_fif(os.path.join(r\"D:\\EPI_MFF\\NREM_EOG_AVE_XGB\\EPI\", file), preload=True)\n"
     ]
    },
    {
     "name": "stdout",
     "output_type": "stream",
     "text": [
      "Opening raw data file D:\\EPI_MFF\\NREM_EOG_F\\EPI\\SS1.fif...\n",
      "    Range : 112500 ... 1132500 =    450.000 ...  4530.000 secs\n",
      "Ready.\n",
      "Reading 0 ... 1020000  =      0.000 ...  4080.000 secs...\n"
     ]
    },
    {
     "name": "stderr",
     "output_type": "stream",
     "text": [
      "C:\\Users\\mad17\\AppData\\Local\\Temp\\ipykernel_11884\\244015385.py:35: RuntimeWarning: This filename (D:\\EPI_MFF\\NREM_EOG_F\\EPI\\SS1.fif) does not conform to MNE naming conventions. All raw files should end with raw.fif, raw_sss.fif, raw_tsss.fif, _meg.fif, _eeg.fif, _ieeg.fif, raw.fif.gz, raw_sss.fif.gz, raw_tsss.fif.gz, _meg.fif.gz, _eeg.fif.gz or _ieeg.fif.gz\n",
      "  total = mne.io.read_raw_fif(os.path.join(r\"D:\\EPI_MFF\\NREM_EOG_F\\EPI\", file), preload=True)\n"
     ]
    },
    {
     "name": "stdout",
     "output_type": "stream",
     "text": [
      "Creating RawArray with float64 data, n_channels=1, n_times=1020001\n",
      "    Range : 0 ... 1020000 =      0.000 ...  4080.000 secs\n",
      "Ready.\n",
      "Opening raw data file D:\\EPI_MFF\\NREM_EOG_AVE_XGB\\EPI\\SS1.fif...\n",
      "    Range : 112500 ... 1132500 =    450.000 ...  4530.000 secs\n",
      "Ready.\n",
      "Reading 0 ... 1020000  =      0.000 ...  4080.000 secs...\n"
     ]
    },
    {
     "name": "stderr",
     "output_type": "stream",
     "text": [
      "C:\\Users\\mad17\\AppData\\Local\\Temp\\ipykernel_11884\\244015385.py:41: RuntimeWarning: This filename (D:\\EPI_MFF\\NREM_EOG_AVE_XGB\\EPI\\SS1.fif) does not conform to MNE naming conventions. All raw files should end with raw.fif, raw_sss.fif, raw_tsss.fif, _meg.fif, _eeg.fif, _ieeg.fif, raw.fif.gz, raw_sss.fif.gz, raw_tsss.fif.gz, _meg.fif.gz, _eeg.fif.gz or _ieeg.fif.gz\n",
      "  raw = mne.io.read_raw_fif(os.path.join(r\"D:\\EPI_MFF\\NREM_EOG_AVE_XGB\\EPI\", file), preload=True)\n"
     ]
    },
    {
     "name": "stdout",
     "output_type": "stream",
     "text": [
      "Opening raw data file D:\\EPI_MFF\\NREM_EOG_F\\EPI\\SS1.fif...\n",
      "    Range : 112500 ... 1132500 =    450.000 ...  4530.000 secs\n",
      "Ready.\n",
      "Reading 0 ... 1020000  =      0.000 ...  4080.000 secs...\n"
     ]
    },
    {
     "name": "stderr",
     "output_type": "stream",
     "text": [
      "C:\\Users\\mad17\\AppData\\Local\\Temp\\ipykernel_11884\\244015385.py:43: RuntimeWarning: This filename (D:\\EPI_MFF\\NREM_EOG_F\\EPI\\SS1.fif) does not conform to MNE naming conventions. All raw files should end with raw.fif, raw_sss.fif, raw_tsss.fif, _meg.fif, _eeg.fif, _ieeg.fif, raw.fif.gz, raw_sss.fif.gz, raw_tsss.fif.gz, _meg.fif.gz, _eeg.fif.gz or _ieeg.fif.gz\n",
      "  total = mne.io.read_raw_fif(os.path.join(r\"D:\\EPI_MFF\\NREM_EOG_F\\EPI\", file), preload=True)\n"
     ]
    },
    {
     "name": "stdout",
     "output_type": "stream",
     "text": [
      "Creating RawArray with float64 data, n_channels=1, n_times=1020001\n",
      "    Range : 0 ... 1020000 =      0.000 ...  4080.000 secs\n",
      "Ready.\n",
      "Opening raw data file D:\\EPI_MFF\\NREM_EOG_AVE_XGB\\EPI\\SS1.fif...\n",
      "    Range : 112500 ... 1132500 =    450.000 ...  4530.000 secs\n",
      "Ready.\n",
      "Reading 0 ... 1020000  =      0.000 ...  4080.000 secs...\n"
     ]
    },
    {
     "name": "stderr",
     "output_type": "stream",
     "text": [
      "C:\\Users\\mad17\\AppData\\Local\\Temp\\ipykernel_11884\\244015385.py:49: RuntimeWarning: This filename (D:\\EPI_MFF\\NREM_EOG_AVE_XGB\\EPI\\SS1.fif) does not conform to MNE naming conventions. All raw files should end with raw.fif, raw_sss.fif, raw_tsss.fif, _meg.fif, _eeg.fif, _ieeg.fif, raw.fif.gz, raw_sss.fif.gz, raw_tsss.fif.gz, _meg.fif.gz, _eeg.fif.gz or _ieeg.fif.gz\n",
      "  raw = mne.io.read_raw_fif(os.path.join(r\"D:\\EPI_MFF\\NREM_EOG_AVE_XGB\\EPI\", file), preload=True)\n"
     ]
    },
    {
     "name": "stdout",
     "output_type": "stream",
     "text": [
      "Opening raw data file D:\\EPI_MFF\\NREM_EOG_F\\EPI\\SS1.fif...\n",
      "    Range : 112500 ... 1132500 =    450.000 ...  4530.000 secs\n",
      "Ready.\n",
      "Reading 0 ... 1020000  =      0.000 ...  4080.000 secs...\n"
     ]
    },
    {
     "name": "stderr",
     "output_type": "stream",
     "text": [
      "C:\\Users\\mad17\\AppData\\Local\\Temp\\ipykernel_11884\\244015385.py:51: RuntimeWarning: This filename (D:\\EPI_MFF\\NREM_EOG_F\\EPI\\SS1.fif) does not conform to MNE naming conventions. All raw files should end with raw.fif, raw_sss.fif, raw_tsss.fif, _meg.fif, _eeg.fif, _ieeg.fif, raw.fif.gz, raw_sss.fif.gz, raw_tsss.fif.gz, _meg.fif.gz, _eeg.fif.gz or _ieeg.fif.gz\n",
      "  total = mne.io.read_raw_fif(os.path.join(r\"D:\\EPI_MFF\\NREM_EOG_F\\EPI\", file), preload=True)\n"
     ]
    },
    {
     "name": "stdout",
     "output_type": "stream",
     "text": [
      "Creating RawArray with float64 data, n_channels=1, n_times=1020001\n",
      "    Range : 0 ... 1020000 =      0.000 ...  4080.000 secs\n",
      "Ready.\n",
      "Overwriting existing file.\n",
      "Writing D:\\EPI_MFF\\NREM_EOG_AVE_XGB\\EPI\\SS1.fif\n",
      "    Writing channel names to FIF truncated to 15 characters with remapping\n"
     ]
    },
    {
     "name": "stderr",
     "output_type": "stream",
     "text": [
      "C:\\Users\\mad17\\AppData\\Local\\Temp\\ipykernel_11884\\244015385.py:59: RuntimeWarning: This filename (D:\\EPI_MFF\\NREM_EOG_AVE_XGB\\EPI\\SS1.fif) does not conform to MNE naming conventions. All raw files should end with raw.fif, raw_sss.fif, raw_tsss.fif, _meg.fif, _eeg.fif, _ieeg.fif, raw.fif.gz, raw_sss.fif.gz, raw_tsss.fif.gz, _meg.fif.gz, _eeg.fif.gz or _ieeg.fif.gz\n",
      "  total.save(os.path.join(save_path, file), overwrite=True)\n"
     ]
    },
    {
     "name": "stdout",
     "output_type": "stream",
     "text": [
      "Closing D:\\EPI_MFF\\NREM_EOG_AVE_XGB\\EPI\\SS1.fif\n",
      "[done]\n",
      "Opening raw data file D:\\EPI_MFF\\NREM_EOG_AVE_XGB\\EPI\\TA1.fif...\n"
     ]
    },
    {
     "name": "stderr",
     "output_type": "stream",
     "text": [
      "C:\\Users\\mad17\\AppData\\Local\\Temp\\ipykernel_11884\\244015385.py:7: RuntimeWarning: This filename (D:\\EPI_MFF\\NREM_EOG_AVE_XGB\\EPI\\TA1.fif) does not conform to MNE naming conventions. All raw files should end with raw.fif, raw_sss.fif, raw_tsss.fif, _meg.fif, _eeg.fif, _ieeg.fif, raw.fif.gz, raw_sss.fif.gz, raw_tsss.fif.gz, _meg.fif.gz, _eeg.fif.gz or _ieeg.fif.gz\n",
      "  raw = mne.io.read_raw_fif(os.path.join(r\"D:\\EPI_MFF\\NREM_EOG_AVE_XGB\\EPI\", file), preload=True)\n"
     ]
    },
    {
     "name": "stdout",
     "output_type": "stream",
     "text": [
      "    Range : 877500 ... 1380000 =   3510.000 ...  5520.000 secs\n",
      "Ready.\n",
      "Reading 0 ... 502500  =      0.000 ...  2010.000 secs...\n",
      "Opening raw data file D:\\EPI_MFF\\NREM_EOG_F\\EPI\\TA1.fif...\n"
     ]
    },
    {
     "name": "stderr",
     "output_type": "stream",
     "text": [
      "C:\\Users\\mad17\\AppData\\Local\\Temp\\ipykernel_11884\\244015385.py:9: RuntimeWarning: This filename (D:\\EPI_MFF\\NREM_EOG_F\\EPI\\TA1.fif) does not conform to MNE naming conventions. All raw files should end with raw.fif, raw_sss.fif, raw_tsss.fif, _meg.fif, _eeg.fif, _ieeg.fif, raw.fif.gz, raw_sss.fif.gz, raw_tsss.fif.gz, _meg.fif.gz, _eeg.fif.gz or _ieeg.fif.gz\n",
      "  total = mne.io.read_raw_fif(os.path.join(r\"D:\\EPI_MFF\\NREM_EOG_F\\EPI\", file), preload=True)\n"
     ]
    },
    {
     "name": "stdout",
     "output_type": "stream",
     "text": [
      "    Range : 877500 ... 1380000 =   3510.000 ...  5520.000 secs\n",
      "Ready.\n",
      "Reading 0 ... 502500  =      0.000 ...  2010.000 secs...\n",
      "Creating RawArray with float64 data, n_channels=1, n_times=502501\n",
      "    Range : 0 ... 502500 =      0.000 ...  2010.000 secs\n",
      "Ready.\n",
      "Opening raw data file D:\\EPI_MFF\\NREM_EOG_AVE_XGB\\EPI\\TA1.fif...\n",
      "    Range : 877500 ... 1380000 =   3510.000 ...  5520.000 secs\n",
      "Ready.\n",
      "Reading 0 ... 502500  =      0.000 ...  2010.000 secs...\n"
     ]
    },
    {
     "name": "stderr",
     "output_type": "stream",
     "text": [
      "C:\\Users\\mad17\\AppData\\Local\\Temp\\ipykernel_11884\\244015385.py:17: RuntimeWarning: This filename (D:\\EPI_MFF\\NREM_EOG_AVE_XGB\\EPI\\TA1.fif) does not conform to MNE naming conventions. All raw files should end with raw.fif, raw_sss.fif, raw_tsss.fif, _meg.fif, _eeg.fif, _ieeg.fif, raw.fif.gz, raw_sss.fif.gz, raw_tsss.fif.gz, _meg.fif.gz, _eeg.fif.gz or _ieeg.fif.gz\n",
      "  raw = mne.io.read_raw_fif(os.path.join(r\"D:\\EPI_MFF\\NREM_EOG_AVE_XGB\\EPI\", file), preload=True)\n"
     ]
    },
    {
     "name": "stdout",
     "output_type": "stream",
     "text": [
      "Opening raw data file D:\\EPI_MFF\\NREM_EOG_F\\EPI\\TA1.fif...\n",
      "    Range : 877500 ... 1380000 =   3510.000 ...  5520.000 secs\n",
      "Ready.\n",
      "Reading 0 ... 502500  =      0.000 ...  2010.000 secs...\n"
     ]
    },
    {
     "name": "stderr",
     "output_type": "stream",
     "text": [
      "C:\\Users\\mad17\\AppData\\Local\\Temp\\ipykernel_11884\\244015385.py:19: RuntimeWarning: This filename (D:\\EPI_MFF\\NREM_EOG_F\\EPI\\TA1.fif) does not conform to MNE naming conventions. All raw files should end with raw.fif, raw_sss.fif, raw_tsss.fif, _meg.fif, _eeg.fif, _ieeg.fif, raw.fif.gz, raw_sss.fif.gz, raw_tsss.fif.gz, _meg.fif.gz, _eeg.fif.gz or _ieeg.fif.gz\n",
      "  total = mne.io.read_raw_fif(os.path.join(r\"D:\\EPI_MFF\\NREM_EOG_F\\EPI\", file), preload=True)\n"
     ]
    },
    {
     "name": "stdout",
     "output_type": "stream",
     "text": [
      "Creating RawArray with float64 data, n_channels=1, n_times=502501\n",
      "    Range : 0 ... 502500 =      0.000 ...  2010.000 secs\n",
      "Ready.\n",
      "Opening raw data file D:\\EPI_MFF\\NREM_EOG_AVE_XGB\\EPI\\TA1.fif...\n",
      "    Range : 877500 ... 1380000 =   3510.000 ...  5520.000 secs\n",
      "Ready.\n",
      "Reading 0 ... 502500  =      0.000 ...  2010.000 secs...\n"
     ]
    },
    {
     "name": "stderr",
     "output_type": "stream",
     "text": [
      "C:\\Users\\mad17\\AppData\\Local\\Temp\\ipykernel_11884\\244015385.py:25: RuntimeWarning: This filename (D:\\EPI_MFF\\NREM_EOG_AVE_XGB\\EPI\\TA1.fif) does not conform to MNE naming conventions. All raw files should end with raw.fif, raw_sss.fif, raw_tsss.fif, _meg.fif, _eeg.fif, _ieeg.fif, raw.fif.gz, raw_sss.fif.gz, raw_tsss.fif.gz, _meg.fif.gz, _eeg.fif.gz or _ieeg.fif.gz\n",
      "  raw = mne.io.read_raw_fif(os.path.join(r\"D:\\EPI_MFF\\NREM_EOG_AVE_XGB\\EPI\", file), preload=True)\n"
     ]
    },
    {
     "name": "stdout",
     "output_type": "stream",
     "text": [
      "Opening raw data file D:\\EPI_MFF\\NREM_EOG_F\\EPI\\TA1.fif...\n",
      "    Range : 877500 ... 1380000 =   3510.000 ...  5520.000 secs\n",
      "Ready.\n",
      "Reading 0 ... 502500  =      0.000 ...  2010.000 secs...\n"
     ]
    },
    {
     "name": "stderr",
     "output_type": "stream",
     "text": [
      "C:\\Users\\mad17\\AppData\\Local\\Temp\\ipykernel_11884\\244015385.py:27: RuntimeWarning: This filename (D:\\EPI_MFF\\NREM_EOG_F\\EPI\\TA1.fif) does not conform to MNE naming conventions. All raw files should end with raw.fif, raw_sss.fif, raw_tsss.fif, _meg.fif, _eeg.fif, _ieeg.fif, raw.fif.gz, raw_sss.fif.gz, raw_tsss.fif.gz, _meg.fif.gz, _eeg.fif.gz or _ieeg.fif.gz\n",
      "  total = mne.io.read_raw_fif(os.path.join(r\"D:\\EPI_MFF\\NREM_EOG_F\\EPI\", file), preload=True)\n"
     ]
    },
    {
     "name": "stdout",
     "output_type": "stream",
     "text": [
      "Creating RawArray with float64 data, n_channels=1, n_times=502501\n",
      "    Range : 0 ... 502500 =      0.000 ...  2010.000 secs\n",
      "Ready.\n",
      "Opening raw data file D:\\EPI_MFF\\NREM_EOG_AVE_XGB\\EPI\\TA1.fif...\n",
      "    Range : 877500 ... 1380000 =   3510.000 ...  5520.000 secs\n",
      "Ready.\n",
      "Reading 0 ... 502500  =      0.000 ...  2010.000 secs...\n"
     ]
    },
    {
     "name": "stderr",
     "output_type": "stream",
     "text": [
      "C:\\Users\\mad17\\AppData\\Local\\Temp\\ipykernel_11884\\244015385.py:33: RuntimeWarning: This filename (D:\\EPI_MFF\\NREM_EOG_AVE_XGB\\EPI\\TA1.fif) does not conform to MNE naming conventions. All raw files should end with raw.fif, raw_sss.fif, raw_tsss.fif, _meg.fif, _eeg.fif, _ieeg.fif, raw.fif.gz, raw_sss.fif.gz, raw_tsss.fif.gz, _meg.fif.gz, _eeg.fif.gz or _ieeg.fif.gz\n",
      "  raw = mne.io.read_raw_fif(os.path.join(r\"D:\\EPI_MFF\\NREM_EOG_AVE_XGB\\EPI\", file), preload=True)\n"
     ]
    },
    {
     "name": "stdout",
     "output_type": "stream",
     "text": [
      "Opening raw data file D:\\EPI_MFF\\NREM_EOG_F\\EPI\\TA1.fif...\n",
      "    Range : 877500 ... 1380000 =   3510.000 ...  5520.000 secs\n",
      "Ready.\n",
      "Reading 0 ... 502500  =      0.000 ...  2010.000 secs...\n"
     ]
    },
    {
     "name": "stderr",
     "output_type": "stream",
     "text": [
      "C:\\Users\\mad17\\AppData\\Local\\Temp\\ipykernel_11884\\244015385.py:35: RuntimeWarning: This filename (D:\\EPI_MFF\\NREM_EOG_F\\EPI\\TA1.fif) does not conform to MNE naming conventions. All raw files should end with raw.fif, raw_sss.fif, raw_tsss.fif, _meg.fif, _eeg.fif, _ieeg.fif, raw.fif.gz, raw_sss.fif.gz, raw_tsss.fif.gz, _meg.fif.gz, _eeg.fif.gz or _ieeg.fif.gz\n",
      "  total = mne.io.read_raw_fif(os.path.join(r\"D:\\EPI_MFF\\NREM_EOG_F\\EPI\", file), preload=True)\n"
     ]
    },
    {
     "name": "stdout",
     "output_type": "stream",
     "text": [
      "Creating RawArray with float64 data, n_channels=1, n_times=502501\n",
      "    Range : 0 ... 502500 =      0.000 ...  2010.000 secs\n",
      "Ready.\n",
      "Opening raw data file D:\\EPI_MFF\\NREM_EOG_AVE_XGB\\EPI\\TA1.fif...\n",
      "    Range : 877500 ... 1380000 =   3510.000 ...  5520.000 secs\n",
      "Ready.\n",
      "Reading 0 ... 502500  =      0.000 ...  2010.000 secs...\n"
     ]
    },
    {
     "name": "stderr",
     "output_type": "stream",
     "text": [
      "C:\\Users\\mad17\\AppData\\Local\\Temp\\ipykernel_11884\\244015385.py:41: RuntimeWarning: This filename (D:\\EPI_MFF\\NREM_EOG_AVE_XGB\\EPI\\TA1.fif) does not conform to MNE naming conventions. All raw files should end with raw.fif, raw_sss.fif, raw_tsss.fif, _meg.fif, _eeg.fif, _ieeg.fif, raw.fif.gz, raw_sss.fif.gz, raw_tsss.fif.gz, _meg.fif.gz, _eeg.fif.gz or _ieeg.fif.gz\n",
      "  raw = mne.io.read_raw_fif(os.path.join(r\"D:\\EPI_MFF\\NREM_EOG_AVE_XGB\\EPI\", file), preload=True)\n"
     ]
    },
    {
     "name": "stdout",
     "output_type": "stream",
     "text": [
      "Opening raw data file D:\\EPI_MFF\\NREM_EOG_F\\EPI\\TA1.fif...\n",
      "    Range : 877500 ... 1380000 =   3510.000 ...  5520.000 secs\n",
      "Ready.\n",
      "Reading 0 ... 502500  =      0.000 ...  2010.000 secs...\n"
     ]
    },
    {
     "name": "stderr",
     "output_type": "stream",
     "text": [
      "C:\\Users\\mad17\\AppData\\Local\\Temp\\ipykernel_11884\\244015385.py:43: RuntimeWarning: This filename (D:\\EPI_MFF\\NREM_EOG_F\\EPI\\TA1.fif) does not conform to MNE naming conventions. All raw files should end with raw.fif, raw_sss.fif, raw_tsss.fif, _meg.fif, _eeg.fif, _ieeg.fif, raw.fif.gz, raw_sss.fif.gz, raw_tsss.fif.gz, _meg.fif.gz, _eeg.fif.gz or _ieeg.fif.gz\n",
      "  total = mne.io.read_raw_fif(os.path.join(r\"D:\\EPI_MFF\\NREM_EOG_F\\EPI\", file), preload=True)\n"
     ]
    },
    {
     "name": "stdout",
     "output_type": "stream",
     "text": [
      "Creating RawArray with float64 data, n_channels=1, n_times=502501\n",
      "    Range : 0 ... 502500 =      0.000 ...  2010.000 secs\n",
      "Ready.\n",
      "Opening raw data file D:\\EPI_MFF\\NREM_EOG_AVE_XGB\\EPI\\TA1.fif...\n",
      "    Range : 877500 ... 1380000 =   3510.000 ...  5520.000 secs\n",
      "Ready.\n",
      "Reading 0 ... 502500  =      0.000 ...  2010.000 secs...\n"
     ]
    },
    {
     "name": "stderr",
     "output_type": "stream",
     "text": [
      "C:\\Users\\mad17\\AppData\\Local\\Temp\\ipykernel_11884\\244015385.py:49: RuntimeWarning: This filename (D:\\EPI_MFF\\NREM_EOG_AVE_XGB\\EPI\\TA1.fif) does not conform to MNE naming conventions. All raw files should end with raw.fif, raw_sss.fif, raw_tsss.fif, _meg.fif, _eeg.fif, _ieeg.fif, raw.fif.gz, raw_sss.fif.gz, raw_tsss.fif.gz, _meg.fif.gz, _eeg.fif.gz or _ieeg.fif.gz\n",
      "  raw = mne.io.read_raw_fif(os.path.join(r\"D:\\EPI_MFF\\NREM_EOG_AVE_XGB\\EPI\", file), preload=True)\n"
     ]
    },
    {
     "name": "stdout",
     "output_type": "stream",
     "text": [
      "Opening raw data file D:\\EPI_MFF\\NREM_EOG_F\\EPI\\TA1.fif...\n",
      "    Range : 877500 ... 1380000 =   3510.000 ...  5520.000 secs\n",
      "Ready.\n",
      "Reading 0 ... 502500  =      0.000 ...  2010.000 secs...\n"
     ]
    },
    {
     "name": "stderr",
     "output_type": "stream",
     "text": [
      "C:\\Users\\mad17\\AppData\\Local\\Temp\\ipykernel_11884\\244015385.py:51: RuntimeWarning: This filename (D:\\EPI_MFF\\NREM_EOG_F\\EPI\\TA1.fif) does not conform to MNE naming conventions. All raw files should end with raw.fif, raw_sss.fif, raw_tsss.fif, _meg.fif, _eeg.fif, _ieeg.fif, raw.fif.gz, raw_sss.fif.gz, raw_tsss.fif.gz, _meg.fif.gz, _eeg.fif.gz or _ieeg.fif.gz\n",
      "  total = mne.io.read_raw_fif(os.path.join(r\"D:\\EPI_MFF\\NREM_EOG_F\\EPI\", file), preload=True)\n"
     ]
    },
    {
     "name": "stdout",
     "output_type": "stream",
     "text": [
      "Creating RawArray with float64 data, n_channels=1, n_times=502501\n",
      "    Range : 0 ... 502500 =      0.000 ...  2010.000 secs\n",
      "Ready.\n",
      "Overwriting existing file.\n",
      "Writing D:\\EPI_MFF\\NREM_EOG_AVE_XGB\\EPI\\TA1.fif\n",
      "    Writing channel names to FIF truncated to 15 characters with remapping\n"
     ]
    },
    {
     "name": "stderr",
     "output_type": "stream",
     "text": [
      "C:\\Users\\mad17\\AppData\\Local\\Temp\\ipykernel_11884\\244015385.py:59: RuntimeWarning: This filename (D:\\EPI_MFF\\NREM_EOG_AVE_XGB\\EPI\\TA1.fif) does not conform to MNE naming conventions. All raw files should end with raw.fif, raw_sss.fif, raw_tsss.fif, _meg.fif, _eeg.fif, _ieeg.fif, raw.fif.gz, raw_sss.fif.gz, raw_tsss.fif.gz, _meg.fif.gz, _eeg.fif.gz or _ieeg.fif.gz\n",
      "  total.save(os.path.join(save_path, file), overwrite=True)\n"
     ]
    },
    {
     "name": "stdout",
     "output_type": "stream",
     "text": [
      "Closing D:\\EPI_MFF\\NREM_EOG_AVE_XGB\\EPI\\TA1.fif\n",
      "[done]\n",
      "Opening raw data file D:\\EPI_MFF\\NREM_EOG_AVE_XGB\\EPI\\YS5.fif...\n"
     ]
    },
    {
     "name": "stderr",
     "output_type": "stream",
     "text": [
      "C:\\Users\\mad17\\AppData\\Local\\Temp\\ipykernel_11884\\244015385.py:7: RuntimeWarning: This filename (D:\\EPI_MFF\\NREM_EOG_AVE_XGB\\EPI\\YS5.fif) does not conform to MNE naming conventions. All raw files should end with raw.fif, raw_sss.fif, raw_tsss.fif, _meg.fif, _eeg.fif, _ieeg.fif, raw.fif.gz, raw_sss.fif.gz, raw_tsss.fif.gz, _meg.fif.gz, _eeg.fif.gz or _ieeg.fif.gz\n",
      "  raw = mne.io.read_raw_fif(os.path.join(r\"D:\\EPI_MFF\\NREM_EOG_AVE_XGB\\EPI\", file), preload=True)\n"
     ]
    },
    {
     "name": "stdout",
     "output_type": "stream",
     "text": [
      "    Range : 22500 ... 922500 =     90.000 ...  3690.000 secs\n",
      "Ready.\n",
      "Reading 0 ... 900000  =      0.000 ...  3600.000 secs...\n",
      "Opening raw data file D:\\EPI_MFF\\NREM_EOG_F\\EPI\\YS5.fif...\n"
     ]
    },
    {
     "name": "stderr",
     "output_type": "stream",
     "text": [
      "C:\\Users\\mad17\\AppData\\Local\\Temp\\ipykernel_11884\\244015385.py:9: RuntimeWarning: This filename (D:\\EPI_MFF\\NREM_EOG_F\\EPI\\YS5.fif) does not conform to MNE naming conventions. All raw files should end with raw.fif, raw_sss.fif, raw_tsss.fif, _meg.fif, _eeg.fif, _ieeg.fif, raw.fif.gz, raw_sss.fif.gz, raw_tsss.fif.gz, _meg.fif.gz, _eeg.fif.gz or _ieeg.fif.gz\n",
      "  total = mne.io.read_raw_fif(os.path.join(r\"D:\\EPI_MFF\\NREM_EOG_F\\EPI\", file), preload=True)\n"
     ]
    },
    {
     "name": "stdout",
     "output_type": "stream",
     "text": [
      "    Range : 22500 ... 922500 =     90.000 ...  3690.000 secs\n",
      "Ready.\n",
      "Reading 0 ... 900000  =      0.000 ...  3600.000 secs...\n",
      "Creating RawArray with float64 data, n_channels=1, n_times=900001\n",
      "    Range : 0 ... 900000 =      0.000 ...  3600.000 secs\n",
      "Ready.\n",
      "Opening raw data file D:\\EPI_MFF\\NREM_EOG_AVE_XGB\\EPI\\YS5.fif...\n",
      "    Range : 22500 ... 922500 =     90.000 ...  3690.000 secs\n",
      "Ready.\n",
      "Reading 0 ... 900000  =      0.000 ...  3600.000 secs...\n"
     ]
    },
    {
     "name": "stderr",
     "output_type": "stream",
     "text": [
      "C:\\Users\\mad17\\AppData\\Local\\Temp\\ipykernel_11884\\244015385.py:17: RuntimeWarning: This filename (D:\\EPI_MFF\\NREM_EOG_AVE_XGB\\EPI\\YS5.fif) does not conform to MNE naming conventions. All raw files should end with raw.fif, raw_sss.fif, raw_tsss.fif, _meg.fif, _eeg.fif, _ieeg.fif, raw.fif.gz, raw_sss.fif.gz, raw_tsss.fif.gz, _meg.fif.gz, _eeg.fif.gz or _ieeg.fif.gz\n",
      "  raw = mne.io.read_raw_fif(os.path.join(r\"D:\\EPI_MFF\\NREM_EOG_AVE_XGB\\EPI\", file), preload=True)\n"
     ]
    },
    {
     "name": "stdout",
     "output_type": "stream",
     "text": [
      "Opening raw data file D:\\EPI_MFF\\NREM_EOG_F\\EPI\\YS5.fif...\n",
      "    Range : 22500 ... 922500 =     90.000 ...  3690.000 secs\n",
      "Ready.\n",
      "Reading 0 ... 900000  =      0.000 ...  3600.000 secs...\n"
     ]
    },
    {
     "name": "stderr",
     "output_type": "stream",
     "text": [
      "C:\\Users\\mad17\\AppData\\Local\\Temp\\ipykernel_11884\\244015385.py:19: RuntimeWarning: This filename (D:\\EPI_MFF\\NREM_EOG_F\\EPI\\YS5.fif) does not conform to MNE naming conventions. All raw files should end with raw.fif, raw_sss.fif, raw_tsss.fif, _meg.fif, _eeg.fif, _ieeg.fif, raw.fif.gz, raw_sss.fif.gz, raw_tsss.fif.gz, _meg.fif.gz, _eeg.fif.gz or _ieeg.fif.gz\n",
      "  total = mne.io.read_raw_fif(os.path.join(r\"D:\\EPI_MFF\\NREM_EOG_F\\EPI\", file), preload=True)\n"
     ]
    },
    {
     "name": "stdout",
     "output_type": "stream",
     "text": [
      "Creating RawArray with float64 data, n_channels=1, n_times=900001\n",
      "    Range : 0 ... 900000 =      0.000 ...  3600.000 secs\n",
      "Ready.\n",
      "Opening raw data file D:\\EPI_MFF\\NREM_EOG_AVE_XGB\\EPI\\YS5.fif...\n",
      "    Range : 22500 ... 922500 =     90.000 ...  3690.000 secs\n",
      "Ready.\n",
      "Reading 0 ... 900000  =      0.000 ...  3600.000 secs...\n"
     ]
    },
    {
     "name": "stderr",
     "output_type": "stream",
     "text": [
      "C:\\Users\\mad17\\AppData\\Local\\Temp\\ipykernel_11884\\244015385.py:25: RuntimeWarning: This filename (D:\\EPI_MFF\\NREM_EOG_AVE_XGB\\EPI\\YS5.fif) does not conform to MNE naming conventions. All raw files should end with raw.fif, raw_sss.fif, raw_tsss.fif, _meg.fif, _eeg.fif, _ieeg.fif, raw.fif.gz, raw_sss.fif.gz, raw_tsss.fif.gz, _meg.fif.gz, _eeg.fif.gz or _ieeg.fif.gz\n",
      "  raw = mne.io.read_raw_fif(os.path.join(r\"D:\\EPI_MFF\\NREM_EOG_AVE_XGB\\EPI\", file), preload=True)\n"
     ]
    },
    {
     "name": "stdout",
     "output_type": "stream",
     "text": [
      "Opening raw data file D:\\EPI_MFF\\NREM_EOG_F\\EPI\\YS5.fif...\n",
      "    Range : 22500 ... 922500 =     90.000 ...  3690.000 secs\n",
      "Ready.\n",
      "Reading 0 ... 900000  =      0.000 ...  3600.000 secs...\n"
     ]
    },
    {
     "name": "stderr",
     "output_type": "stream",
     "text": [
      "C:\\Users\\mad17\\AppData\\Local\\Temp\\ipykernel_11884\\244015385.py:27: RuntimeWarning: This filename (D:\\EPI_MFF\\NREM_EOG_F\\EPI\\YS5.fif) does not conform to MNE naming conventions. All raw files should end with raw.fif, raw_sss.fif, raw_tsss.fif, _meg.fif, _eeg.fif, _ieeg.fif, raw.fif.gz, raw_sss.fif.gz, raw_tsss.fif.gz, _meg.fif.gz, _eeg.fif.gz or _ieeg.fif.gz\n",
      "  total = mne.io.read_raw_fif(os.path.join(r\"D:\\EPI_MFF\\NREM_EOG_F\\EPI\", file), preload=True)\n"
     ]
    },
    {
     "name": "stdout",
     "output_type": "stream",
     "text": [
      "Creating RawArray with float64 data, n_channels=1, n_times=900001\n",
      "    Range : 0 ... 900000 =      0.000 ...  3600.000 secs\n",
      "Ready.\n",
      "Opening raw data file D:\\EPI_MFF\\NREM_EOG_AVE_XGB\\EPI\\YS5.fif...\n",
      "    Range : 22500 ... 922500 =     90.000 ...  3690.000 secs\n",
      "Ready.\n",
      "Reading 0 ... 900000  =      0.000 ...  3600.000 secs...\n"
     ]
    },
    {
     "name": "stderr",
     "output_type": "stream",
     "text": [
      "C:\\Users\\mad17\\AppData\\Local\\Temp\\ipykernel_11884\\244015385.py:33: RuntimeWarning: This filename (D:\\EPI_MFF\\NREM_EOG_AVE_XGB\\EPI\\YS5.fif) does not conform to MNE naming conventions. All raw files should end with raw.fif, raw_sss.fif, raw_tsss.fif, _meg.fif, _eeg.fif, _ieeg.fif, raw.fif.gz, raw_sss.fif.gz, raw_tsss.fif.gz, _meg.fif.gz, _eeg.fif.gz or _ieeg.fif.gz\n",
      "  raw = mne.io.read_raw_fif(os.path.join(r\"D:\\EPI_MFF\\NREM_EOG_AVE_XGB\\EPI\", file), preload=True)\n"
     ]
    },
    {
     "name": "stdout",
     "output_type": "stream",
     "text": [
      "Opening raw data file D:\\EPI_MFF\\NREM_EOG_F\\EPI\\YS5.fif...\n",
      "    Range : 22500 ... 922500 =     90.000 ...  3690.000 secs\n",
      "Ready.\n",
      "Reading 0 ... 900000  =      0.000 ...  3600.000 secs...\n"
     ]
    },
    {
     "name": "stderr",
     "output_type": "stream",
     "text": [
      "C:\\Users\\mad17\\AppData\\Local\\Temp\\ipykernel_11884\\244015385.py:35: RuntimeWarning: This filename (D:\\EPI_MFF\\NREM_EOG_F\\EPI\\YS5.fif) does not conform to MNE naming conventions. All raw files should end with raw.fif, raw_sss.fif, raw_tsss.fif, _meg.fif, _eeg.fif, _ieeg.fif, raw.fif.gz, raw_sss.fif.gz, raw_tsss.fif.gz, _meg.fif.gz, _eeg.fif.gz or _ieeg.fif.gz\n",
      "  total = mne.io.read_raw_fif(os.path.join(r\"D:\\EPI_MFF\\NREM_EOG_F\\EPI\", file), preload=True)\n"
     ]
    },
    {
     "name": "stdout",
     "output_type": "stream",
     "text": [
      "Creating RawArray with float64 data, n_channels=1, n_times=900001\n",
      "    Range : 0 ... 900000 =      0.000 ...  3600.000 secs\n",
      "Ready.\n",
      "Opening raw data file D:\\EPI_MFF\\NREM_EOG_AVE_XGB\\EPI\\YS5.fif...\n",
      "    Range : 22500 ... 922500 =     90.000 ...  3690.000 secs\n",
      "Ready.\n",
      "Reading 0 ... 900000  =      0.000 ...  3600.000 secs...\n"
     ]
    },
    {
     "name": "stderr",
     "output_type": "stream",
     "text": [
      "C:\\Users\\mad17\\AppData\\Local\\Temp\\ipykernel_11884\\244015385.py:41: RuntimeWarning: This filename (D:\\EPI_MFF\\NREM_EOG_AVE_XGB\\EPI\\YS5.fif) does not conform to MNE naming conventions. All raw files should end with raw.fif, raw_sss.fif, raw_tsss.fif, _meg.fif, _eeg.fif, _ieeg.fif, raw.fif.gz, raw_sss.fif.gz, raw_tsss.fif.gz, _meg.fif.gz, _eeg.fif.gz or _ieeg.fif.gz\n",
      "  raw = mne.io.read_raw_fif(os.path.join(r\"D:\\EPI_MFF\\NREM_EOG_AVE_XGB\\EPI\", file), preload=True)\n"
     ]
    },
    {
     "name": "stdout",
     "output_type": "stream",
     "text": [
      "Opening raw data file D:\\EPI_MFF\\NREM_EOG_F\\EPI\\YS5.fif...\n",
      "    Range : 22500 ... 922500 =     90.000 ...  3690.000 secs\n",
      "Ready.\n",
      "Reading 0 ... 900000  =      0.000 ...  3600.000 secs...\n"
     ]
    },
    {
     "name": "stderr",
     "output_type": "stream",
     "text": [
      "C:\\Users\\mad17\\AppData\\Local\\Temp\\ipykernel_11884\\244015385.py:43: RuntimeWarning: This filename (D:\\EPI_MFF\\NREM_EOG_F\\EPI\\YS5.fif) does not conform to MNE naming conventions. All raw files should end with raw.fif, raw_sss.fif, raw_tsss.fif, _meg.fif, _eeg.fif, _ieeg.fif, raw.fif.gz, raw_sss.fif.gz, raw_tsss.fif.gz, _meg.fif.gz, _eeg.fif.gz or _ieeg.fif.gz\n",
      "  total = mne.io.read_raw_fif(os.path.join(r\"D:\\EPI_MFF\\NREM_EOG_F\\EPI\", file), preload=True)\n"
     ]
    },
    {
     "name": "stdout",
     "output_type": "stream",
     "text": [
      "Creating RawArray with float64 data, n_channels=1, n_times=900001\n",
      "    Range : 0 ... 900000 =      0.000 ...  3600.000 secs\n",
      "Ready.\n",
      "Opening raw data file D:\\EPI_MFF\\NREM_EOG_AVE_XGB\\EPI\\YS5.fif...\n",
      "    Range : 22500 ... 922500 =     90.000 ...  3690.000 secs\n",
      "Ready.\n",
      "Reading 0 ... 900000  =      0.000 ...  3600.000 secs...\n"
     ]
    },
    {
     "name": "stderr",
     "output_type": "stream",
     "text": [
      "C:\\Users\\mad17\\AppData\\Local\\Temp\\ipykernel_11884\\244015385.py:49: RuntimeWarning: This filename (D:\\EPI_MFF\\NREM_EOG_AVE_XGB\\EPI\\YS5.fif) does not conform to MNE naming conventions. All raw files should end with raw.fif, raw_sss.fif, raw_tsss.fif, _meg.fif, _eeg.fif, _ieeg.fif, raw.fif.gz, raw_sss.fif.gz, raw_tsss.fif.gz, _meg.fif.gz, _eeg.fif.gz or _ieeg.fif.gz\n",
      "  raw = mne.io.read_raw_fif(os.path.join(r\"D:\\EPI_MFF\\NREM_EOG_AVE_XGB\\EPI\", file), preload=True)\n"
     ]
    },
    {
     "name": "stdout",
     "output_type": "stream",
     "text": [
      "Opening raw data file D:\\EPI_MFF\\NREM_EOG_F\\EPI\\YS5.fif...\n",
      "    Range : 22500 ... 922500 =     90.000 ...  3690.000 secs\n",
      "Ready.\n",
      "Reading 0 ... 900000  =      0.000 ...  3600.000 secs...\n"
     ]
    },
    {
     "name": "stderr",
     "output_type": "stream",
     "text": [
      "C:\\Users\\mad17\\AppData\\Local\\Temp\\ipykernel_11884\\244015385.py:51: RuntimeWarning: This filename (D:\\EPI_MFF\\NREM_EOG_F\\EPI\\YS5.fif) does not conform to MNE naming conventions. All raw files should end with raw.fif, raw_sss.fif, raw_tsss.fif, _meg.fif, _eeg.fif, _ieeg.fif, raw.fif.gz, raw_sss.fif.gz, raw_tsss.fif.gz, _meg.fif.gz, _eeg.fif.gz or _ieeg.fif.gz\n",
      "  total = mne.io.read_raw_fif(os.path.join(r\"D:\\EPI_MFF\\NREM_EOG_F\\EPI\", file), preload=True)\n"
     ]
    },
    {
     "name": "stdout",
     "output_type": "stream",
     "text": [
      "Creating RawArray with float64 data, n_channels=1, n_times=900001\n",
      "    Range : 0 ... 900000 =      0.000 ...  3600.000 secs\n",
      "Ready.\n",
      "Overwriting existing file.\n",
      "Writing D:\\EPI_MFF\\NREM_EOG_AVE_XGB\\EPI\\YS5.fif\n",
      "    Writing channel names to FIF truncated to 15 characters with remapping\n"
     ]
    },
    {
     "name": "stderr",
     "output_type": "stream",
     "text": [
      "C:\\Users\\mad17\\AppData\\Local\\Temp\\ipykernel_11884\\244015385.py:59: RuntimeWarning: This filename (D:\\EPI_MFF\\NREM_EOG_AVE_XGB\\EPI\\YS5.fif) does not conform to MNE naming conventions. All raw files should end with raw.fif, raw_sss.fif, raw_tsss.fif, _meg.fif, _eeg.fif, _ieeg.fif, raw.fif.gz, raw_sss.fif.gz, raw_tsss.fif.gz, _meg.fif.gz, _eeg.fif.gz or _ieeg.fif.gz\n",
      "  total.save(os.path.join(save_path, file), overwrite=True)\n"
     ]
    },
    {
     "name": "stdout",
     "output_type": "stream",
     "text": [
      "Closing D:\\EPI_MFF\\NREM_EOG_AVE_XGB\\EPI\\YS5.fif\n",
      "[done]\n"
     ]
    }
   ],
   "source": [
    "import mne\n",
    "import numpy as np\n",
    "import os\n",
    "save_path = r\"D:\\EPI_MFF\\NREM_EOG_AVE_XGB\\EPI\"\n",
    "for file in os.listdir(r\"D:\\EPI_MFF\\NREM_EOG_AVE_XGB\\EPI\"):\n",
    "    \n",
    "    raw = mne.io.read_raw_fif(os.path.join(r\"D:\\EPI_MFF\\NREM_EOG_AVE_XGB\\EPI\", file), preload=True)\n",
    "    raw.pick_channels(['E242','E243','E245','E246'])\n",
    "    total = mne.io.read_raw_fif(os.path.join(r\"D:\\EPI_MFF\\NREM_EOG_F\\EPI\", file), preload=True)\n",
    "    channels_data = raw.get_data()\n",
    "    average = np.mean(channels_data, axis=0) \n",
    "    \n",
    "    new_chan1 = mne.io.RawArray(average.reshape(1, len(average)), mne.create_info(['Box_sym_l'], raw.info['sfreq']))\n",
    "\n",
    "\n",
    "\n",
    "    raw = mne.io.read_raw_fif(os.path.join(r\"D:\\EPI_MFF\\NREM_EOG_AVE_XGB\\EPI\", file), preload=True)\n",
    "    raw.pick_channels(['E239','E240','E255','E236'])\n",
    "    total = mne.io.read_raw_fif(os.path.join(r\"D:\\EPI_MFF\\NREM_EOG_F\\EPI\", file), preload=True)\n",
    "    channels_data = raw.get_data()\n",
    "    average = np.mean(channels_data, axis=0) \n",
    "    \n",
    "    new_chan2 = mne.io.RawArray(average.reshape(1, len(average)), mne.create_info(['Box_sym_r'], raw.info['sfreq']))\n",
    "    \n",
    "    raw = mne.io.read_raw_fif(os.path.join(r\"D:\\EPI_MFF\\NREM_EOG_AVE_XGB\\EPI\", file), preload=True)\n",
    "    raw.pick_channels(['E244','E248','E242','E245','E243','E246'])\n",
    "    total = mne.io.read_raw_fif(os.path.join(r\"D:\\EPI_MFF\\NREM_EOG_F\\EPI\", file), preload=True)\n",
    "    channels_data = raw.get_data()\n",
    "    average = np.mean(channels_data, axis=0) \n",
    "    \n",
    "    new_chan3 = mne.io.RawArray(average.reshape(1, len(average)), mne.create_info(['Cylinder_l'], raw.info['sfreq']))\n",
    "\n",
    "    raw = mne.io.read_raw_fif(os.path.join(r\"D:\\EPI_MFF\\NREM_EOG_AVE_XGB\\EPI\", file), preload=True)\n",
    "    raw.pick_channels(['E232','E233','E237','E228','E229','E233'])\n",
    "    total = mne.io.read_raw_fif(os.path.join(r\"D:\\EPI_MFF\\NREM_EOG_F\\EPI\", file), preload=True)\n",
    "    channels_data = raw.get_data()\n",
    "    average = np.mean(channels_data, axis=0) \n",
    "  \n",
    "    new_chan4 = mne.io.RawArray(average.reshape(1, len(average)), mne.create_info(['Cylinder_r'], raw.info['sfreq']))\n",
    "\n",
    "    raw = mne.io.read_raw_fif(os.path.join(r\"D:\\EPI_MFF\\NREM_EOG_AVE_XGB\\EPI\", file), preload=True)\n",
    "    raw.pick_channels(['E234','E230','E239','E235','E240','E237'])\n",
    "    total = mne.io.read_raw_fif(os.path.join(r\"D:\\EPI_MFF\\NREM_EOG_F\\EPI\", file), preload=True)\n",
    "    channels_data = raw.get_data()\n",
    "    average = np.mean(channels_data, axis=0) \n",
    "    \n",
    "    new_chan5 = mne.io.RawArray(average.reshape(1, len(average)), mne.create_info(['Cylinder_l_opposite'], raw.info['sfreq']))\n",
    "\n",
    "    raw = mne.io.read_raw_fif(os.path.join(r\"D:\\EPI_MFF\\NREM_EOG_AVE_XGB\\EPI\", file), preload=True)\n",
    "    raw.pick_channels(['E250','E251','E247','E225','E256','E251'])\n",
    "    total = mne.io.read_raw_fif(os.path.join(r\"D:\\EPI_MFF\\NREM_EOG_F\\EPI\", file), preload=True)\n",
    "    channels_data = raw.get_data()\n",
    "    average = np.mean(channels_data, axis=0) \n",
    "  \n",
    "    new_chan6 = mne.io.RawArray(average.reshape(1, len(average)), mne.create_info(['Cylinder_r_opposite'], raw.info['sfreq']))\n",
    "\n",
    "    total.add_channels([new_chan1,new_chan2,new_chan3,new_chan4,new_chan5,new_chan6], force_update_info=True)\n",
    "    \n",
    "    total.save(os.path.join(save_path, file), overwrite=True)"
   ]
  },
  {
   "cell_type": "code",
   "execution_count": 22,
   "metadata": {},
   "outputs": [
    {
     "data": {
      "text/plain": [
       "(1, 652501)"
      ]
     },
     "execution_count": 22,
     "metadata": {},
     "output_type": "execute_result"
    }
   ],
   "source": [
    "average.reshape(1, len(average))"
   ]
  },
  {
   "cell_type": "code",
   "execution_count": null,
   "metadata": {},
   "outputs": [],
   "source": []
  }
 ],
 "metadata": {
  "kernelspec": {
   "display_name": ".venv",
   "language": "python",
   "name": "python3"
  },
  "language_info": {
   "codemirror_mode": {
    "name": "ipython",
    "version": 3
   },
   "file_extension": ".py",
   "mimetype": "text/x-python",
   "name": "python",
   "nbconvert_exporter": "python",
   "pygments_lexer": "ipython3",
   "version": "3.10.10"
  },
  "orig_nbformat": 4
 },
 "nbformat": 4,
 "nbformat_minor": 2
}
