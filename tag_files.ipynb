{
 "cells": [
  {
   "cell_type": "code",
   "execution_count": 1,
   "outputs": [],
   "source": [
    "import mne\n",
    "from mnelab.io.writers import write_edf\n",
    "# from mff_to_edf import write_edf as rotem_write_edf"
   ],
   "metadata": {
    "collapsed": false,
    "pycharm": {
     "name": "#%%\n"
    }
   }
  },
  {
   "cell_type": "code",
   "execution_count": 11,
   "outputs": [],
   "source": [
    "noisy = {'013': ['RA2'], '017': [], '018': ['RA1', 'RA2'], '025': ['RA1', 'RA2'], '38': ['RA1'], '39': [], '44': [], '46': [], '47': ['RH1'], '48': ['RAH1', 'LPHG4'], '51': ['RH2', 'LH3']}\n",
    "crop_start = {'013': 59, '017': 76, '018': 30, '025': 115, '38': 88, '39':113, '44': 250, '46': 20, '47': 76, '48': 8, '51': 25}"
   ],
   "metadata": {
    "collapsed": false,
    "pycharm": {
     "name": "#%%\n"
    }
   }
  },
  {
   "cell_type": "code",
   "execution_count": 13,
   "outputs": [
    {
     "name": "stdout",
     "output_type": "stream",
     "text": [
      "Extracting EDF parameters from C:\\UCLA\\P013_overnightData.edf...\n",
      "EDF file detected\n",
      "Setting channel info structure...\n",
      "Creating raw.info structure...\n",
      "EEG channel type selected for re-referencing\n",
      "Creating RawArray with float64 data, n_channels=11, n_times=180001\n",
      "    Range : 3540000 ... 3720000 =   3540.000 ...  3720.000 secs\n",
      "Ready.\n",
      "Added the following bipolar channels:\n",
      "LA1-LA2, LA2-LA3, LA3-LA4, LMH1-LMH2, LMH2-LMH3, LMH3-LMH4, RA1-RA3, RA3-RA4, RMH1-RMH2, RMH2-RMH3, RMH3-RMH4\n",
      "Extracting EDF parameters from C:\\UCLA\\P017_overnightData.edf...\n",
      "EDF file detected\n",
      "Setting channel info structure...\n",
      "Creating raw.info structure...\n",
      "EEG channel type selected for re-referencing\n",
      "Creating RawArray with float64 data, n_channels=12, n_times=180001\n",
      "    Range : 4560000 ... 4740000 =   4560.000 ...  4740.000 secs\n",
      "Ready.\n",
      "Added the following bipolar channels:\n",
      "LPHG1-LPHG2, LPHG2-LPHG3, LPHG3-LPHG4, RA1-RA2, RA2-RA3, RA3-RA4, REC1-REC2, REC2-REC3, REC3-REC4, RMH1-RMH2, RMH2-RMH3, RMH3-RMH4\n",
      "Extracting EDF parameters from C:\\UCLA\\P018_overnightData.edf...\n",
      "EDF file detected\n",
      "Setting channel info structure...\n",
      "Creating raw.info structure...\n",
      "EEG channel type selected for re-referencing\n",
      "Creating RawArray with float64 data, n_channels=4, n_times=180001\n",
      "    Range : 1800000 ... 1980000 =   1800.000 ...  1980.000 secs\n",
      "Ready.\n",
      "Added the following bipolar channels:\n",
      "RA3-RA4, RMH1-RMH2, RMH2-RMH3, RMH3-RMH4\n",
      "Extracting EDF parameters from C:\\UCLA\\P025_overnightData.edf...\n",
      "EDF file detected\n",
      "Setting channel info structure...\n",
      "Creating raw.info structure...\n",
      "EEG channel type selected for re-referencing\n",
      "Creating RawArray with float64 data, n_channels=4, n_times=180001\n",
      "    Range : 6900000 ... 7080000 =   6900.000 ...  7080.000 secs\n",
      "Ready.\n",
      "Added the following bipolar channels:\n",
      "LA1-LA2, LA2-LA3, LA3-LA4, RA3-RA4\n",
      "Extracting EDF parameters from C:\\UCLA\\P38_overnightData.edf...\n",
      "EDF file detected\n",
      "Setting channel info structure...\n",
      "Creating raw.info structure...\n",
      "EEG channel type selected for re-referencing\n",
      "Creating RawArray with float64 data, n_channels=23, n_times=180000\n",
      "    Range : 5280000 ... 5459999 =   5280.000 ...  5459.999 secs\n",
      "Ready.\n",
      "Added the following bipolar channels:\n",
      "RA2-RA3, RA3-RA4, RAH1-RAH2, RAH2-RAH3, RAH3-RAH4, RMH1-RMH2, RMH2-RMH3, RMH3-RMH4, RPHG1-RPHG2, RPHG2-RPHG3, RPHG3-RPHG4, LA1-LA2, LA2-LA3, LA3-LA4, LAH1-LAH2, LAH2-LAH3, LAH3-LAH4, LMH1-LMH2, LMH2-LMH3, LMH3-LMH4, LPHG1-LPHG2, LPHG2-LPHG3, LPHG3-LPHG4\n",
      "Extracting EDF parameters from C:\\UCLA\\P39_overnightData.edf...\n",
      "EDF file detected\n",
      "Setting channel info structure...\n",
      "Creating raw.info structure...\n",
      "EEG channel type selected for re-referencing\n",
      "Creating RawArray with float64 data, n_channels=12, n_times=180002\n",
      "    Range : 6780000 ... 6960001 =   6780.000 ...  6960.001 secs\n",
      "Ready.\n",
      "Added the following bipolar channels:\n",
      "LPHG1-LPHG2, LPHG2-LPHG3, LPHG3-LPHG4, LA1-LA2, LA2-LA3, LA3-LA4, LAH1-LAH2, LAH2-LAH3, LAH3-LAH4, RAH1-RAH2, RAH2-RAH3, RAH3-RAH4\n",
      "Extracting EDF parameters from C:\\UCLA\\P44_overnightData.edf...\n",
      "EDF file detected\n",
      "Setting channel info structure...\n",
      "Creating raw.info structure...\n",
      "EEG channel type selected for re-referencing\n",
      "Creating RawArray with float64 data, n_channels=12, n_times=180000\n",
      "    Range : 15000000 ... 15179999 =  15000.000 ... 15179.999 secs\n",
      "Ready.\n",
      "Added the following bipolar channels:\n",
      "LA1-LA2, LA2-LA3, LA3-LA4, LEC1-LEC2, LEC2-LEC3, LEC3-LEC4, LAH1-LAH2, LAH2-LAH3, LAH3-LAH4, LPHG1-LPHG2, LPHG2-LPHG3, LPHG3-LPHG4\n",
      "Extracting EDF parameters from C:\\UCLA\\P46_overnightData.edf...\n",
      "EDF file detected\n",
      "Setting channel info structure...\n",
      "Creating raw.info structure...\n"
     ]
    },
    {
     "name": "stderr",
     "output_type": "stream",
     "text": [
      "C:\\Users\\user\\AppData\\Local\\Temp/ipykernel_19812/2161790411.py:4: RuntimeWarning: Channel names are not unique, found duplicates for: {'L7-post Oper-MI-'}. Applying running numbers for duplicates.\n",
      "  raw = mne.io.read_raw_edf(edf)\n"
     ]
    },
    {
     "name": "stdout",
     "output_type": "stream",
     "text": [
      "EEG channel type selected for re-referencing\n",
      "Creating RawArray with float64 data, n_channels=3, n_times=180001\n",
      "    Range : 1200000 ... 1380000 =   1200.000 ...  1380.000 secs\n",
      "Ready.\n",
      "Added the following bipolar channels:\n",
      "LAH1-LAH2, LAH2-LAH3, LAH3-LAH4\n",
      "Extracting EDF parameters from C:\\UCLA\\P47_overnightData.edf...\n",
      "EDF file detected\n",
      "Setting channel info structure...\n",
      "Creating raw.info structure...\n",
      "EEG channel type selected for re-referencing\n",
      "Creating RawArray with float64 data, n_channels=14, n_times=180000\n",
      "    Range : 4560000 ... 4739999 =   4560.000 ...  4739.999 secs\n",
      "Ready.\n",
      "Added the following bipolar channels:\n",
      "LA1-LA2, LA2-LA3, LA3-LA4, LEC1-LEC2, LEC2-LEC3, LEC3-LEC4, LPHG1-LPHG2, LPHG2-LPHG3, LPHG3-LPHG4, LH1-LH2, LH2-LH3, LH3-LH4, RH2-RH3, RH3-RH4\n",
      "Extracting EDF parameters from C:\\UCLA\\P48_overnightData.edf...\n",
      "EDF file detected\n",
      "Setting channel info structure...\n",
      "Creating raw.info structure...\n",
      "EEG channel type selected for re-referencing\n",
      "Creating RawArray with float64 data, n_channels=13, n_times=180000\n",
      "    Range : 480000 ... 659999 =    480.000 ...   659.999 secs\n",
      "Ready.\n",
      "Added the following bipolar channels:\n",
      "REC1-REC2, REC2-REC3, REC3-REC4, RAH2-RAH3, RAH3-RAH4, RPHG1-RPHG2, RPHG2-RPHG3, RPHG3-RPHG4, LH1-LH2, LH2-LH3, LH3-LH4, LPHG1-LPHG2, LPHG2-LPHG3\n",
      "Extracting EDF parameters from C:\\UCLA\\P51_overnightData.edf...\n",
      "EDF file detected\n",
      "Setting channel info structure...\n",
      "Creating raw.info structure...\n",
      "EEG channel type selected for re-referencing\n",
      "Creating RawArray with float64 data, n_channels=7, n_times=180000\n",
      "    Range : 1500000 ... 1679999 =   1500.000 ...  1679.999 secs\n",
      "Ready.\n",
      "Added the following bipolar channels:\n",
      "LA1-LA2, LA2-LA3, LA3-LA4, LH1-LH2, LH2-LH4, RH1-RH3, RH3-RH4\n"
     ]
    }
   ],
   "source": [
    "for subj in noisy.keys():\n",
    "    # subj = '025'\n",
    "    edf = f'C:\\\\UCLA\\\\P{subj}_overnightData.edf'\n",
    "    raw = mne.io.read_raw_edf(edf)\n",
    "    depth = ['RAH', 'LAH', 'RA', 'LA', 'LEC', 'REC', 'RPHG', 'LPHG', 'RMH', 'LMH', 'RH', 'LH']\n",
    "    not_relevant = ['AC', 'AI', '5', '6', '7', '8', '9']\n",
    "\n",
    "    to_pick = [x for x in raw.ch_names if any([y in x for y in depth]) and not any([z in x for z in not_relevant])]\n",
    "    to_pick = [x for x in to_pick if x not in noisy[subj]]\n",
    "    chans_bi_1 = []\n",
    "    chans_bi_2 = []\n",
    "    # get the channels for bipolar reference\n",
    "    for i, chan in enumerate(to_pick):\n",
    "        if i + 1 < len(to_pick):\n",
    "            next_chan = to_pick[i + 1]\n",
    "            # check that its the same contact\n",
    "            if next_chan[:-1] == chan[:-1]:\n",
    "                chans_bi_1.append(chan)\n",
    "                chans_bi_2.append(next_chan)\n",
    "\n",
    "    raw.pick_channels(to_pick)\n",
    "    raw.crop(tmin=crop_start[subj] * 60, tmax=crop_start[subj] * 60 + 180)\n",
    "    raw.resample(1000)\n",
    "    raw.load_data()\n",
    "    raw_bi = mne.set_bipolar_reference(raw, anode=chans_bi_1, cathode=chans_bi_2, drop_refs=False)\n",
    "    # remove channel 4\n",
    "    raw_bi.pick_channels([x for x in raw_bi.ch_names if '4' not in x or '-' in x])\n",
    "    # Maybe another sort?\n",
    "    # raw_bi.reorder_channels(sorted(raw_bi.ch_names))\n",
    "    if len(raw_bi.annotations) > 0:\n",
    "        raw_bi.annotations.delete(list(range(len(raw_bi.annotations))))\n",
    "    # raw_bi.plot()\n",
    "    write_edf(f'C:\\\\Lilach\\\\{subj}_for_tag.edf', raw_bi)"
   ],
   "metadata": {
    "collapsed": false,
    "pycharm": {
     "name": "#%%\n"
    }
   }
  },
  {
   "cell_type": "code",
   "execution_count": 10,
   "outputs": [],
   "source": [],
   "metadata": {
    "collapsed": false,
    "pycharm": {
     "name": "#%%\n"
    }
   }
  },
  {
   "cell_type": "code",
   "execution_count": 68,
   "outputs": [
    {
     "data": {
      "text/plain": "0"
     },
     "execution_count": 68,
     "metadata": {},
     "output_type": "execute_result"
    }
   ],
   "source": [
    "len(raw_bi.annotations)"
   ],
   "metadata": {
    "collapsed": false,
    "pycharm": {
     "name": "#%%\n"
    }
   }
  },
  {
   "cell_type": "code",
   "execution_count": 67,
   "outputs": [],
   "source": [
    "raw_bi.annotations.delete([0, 1, 2])"
   ],
   "metadata": {
    "collapsed": false,
    "pycharm": {
     "name": "#%%\n"
    }
   }
  },
  {
   "cell_type": "code",
   "execution_count": null,
   "outputs": [],
   "source": [],
   "metadata": {
    "collapsed": false,
    "pycharm": {
     "name": "#%%\n"
    }
   }
  }
 ],
 "metadata": {
  "kernelspec": {
   "display_name": "Python 3",
   "language": "python",
   "name": "python3"
  },
  "language_info": {
   "codemirror_mode": {
    "name": "ipython",
    "version": 2
   },
   "file_extension": ".py",
   "mimetype": "text/x-python",
   "name": "python",
   "nbconvert_exporter": "python",
   "pygments_lexer": "ipython2",
   "version": "2.7.6"
  }
 },
 "nbformat": 4,
 "nbformat_minor": 0
}