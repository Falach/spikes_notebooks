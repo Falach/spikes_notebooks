{
 "cells": [
  {
   "cell_type": "code",
   "execution_count": 1,
   "outputs": [],
   "source": [
    "import mne\n",
    "from mnelab.io.writers import write_edf\n",
    "from mff_to_edf import write_edf as rotem_write_edf"
   ],
   "metadata": {
    "collapsed": false,
    "pycharm": {
     "name": "#%%\n"
    },
    "ExecuteTime": {
     "end_time": "2024-03-20T13:11:24.347824800Z",
     "start_time": "2024-03-20T13:11:22.799622700Z"
    }
   }
  },
  {
   "cell_type": "code",
   "execution_count": 3,
   "outputs": [],
   "source": [
    "noisy = {'013': ['RA2'], '017': [], '018': ['RA1', 'RA2'], '025': ['RA1', 'RA2'], '38': ['RA1'], '39': [], '44': [], '46': [], '47': ['RH1'], '48': ['RAH1', 'LPHG4'], '51': ['RH2', 'LH3']}\n",
    "crop_start = {'013': 59, '017': 76, '018': 30, '025': 115, '38': 104, '39':113, '44': 250, '46': 20, '47': 76, '48': 8, '51': 25}"
   ],
   "metadata": {
    "collapsed": false,
    "pycharm": {
     "name": "#%%\n"
    },
    "ExecuteTime": {
     "end_time": "2024-01-14T10:07:40.602891500Z",
     "start_time": "2024-01-14T10:07:40.587267700Z"
    }
   }
  },
  {
   "cell_type": "code",
   "execution_count": 6,
   "outputs": [
    {
     "name": "stdout",
     "output_type": "stream",
     "text": [
      "Extracting EDF parameters from C:\\UCLA\\P38_overnightData_fix.edf...\n",
      "EDF file detected\n",
      "Setting channel info structure...\n",
      "Creating raw.info structure...\n",
      "EEG channel type selected for re-referencing\n",
      "Creating RawArray with float64 data, n_channels=23, n_times=180001\n",
      "    Range : 6240000 ... 6420000 =   6240.000 ...  6420.000 secs\n",
      "Ready.\n",
      "Added the following bipolar channels:\n",
      "RA2-RA3, RA3-RA4, RAH1-RAH2, RAH2-RAH3, RAH3-RAH4, RMH1-RMH2, RMH2-RMH3, RMH3-RMH4, RPHG1-RPHG2, RPHG2-RPHG3, RPHG3-RPHG4, LA1-LA2, LA2-LA3, LA3-LA4, LAH1-LAH2, LAH2-LAH3, LAH3-LAH4, LMH1-LMH2, LMH2-LMH3, LMH3-LMH4, LPHG1-LPHG2, LPHG2-LPHG3, LPHG3-LPHG4\n",
      "saving to D:\\Lilach\\38_for_tag_fix2.edf, filetype 0\n",
      "conversion time:\n",
      "0:00:00.269664\n"
     ]
    }
   ],
   "source": [
    "# for subj in noisy.keys():\n",
    "for subj in ['38']:\n",
    "    # subj = '025'\n",
    "    edf = f'C:\\\\UCLA\\\\P{subj}_overnightData_fix.edf'\n",
    "    raw = mne.io.read_raw_edf(edf)\n",
    "    depth = ['RAH', 'LAH', 'RA', 'LA', 'LEC', 'REC', 'RPHG', 'LPHG', 'RMH', 'LMH', 'RH', 'LH']\n",
    "    not_relevant = ['AC', 'AI', '5', '6', '7', '8', '9', '10']\n",
    "\n",
    "    to_pick = [x for x in raw.ch_names if any([y in x for y in depth]) and not any([z in x for z in not_relevant])]\n",
    "    to_pick = [x for x in to_pick if x not in noisy[subj]]\n",
    "    chans_bi_1 = []\n",
    "    chans_bi_2 = []\n",
    "    # get the channels for bipolar reference\n",
    "    for i, chan in enumerate(to_pick):\n",
    "        if i + 1 < len(to_pick):\n",
    "            next_chan = to_pick[i + 1]\n",
    "            # check that its the same contact\n",
    "            if next_chan[:-1] == chan[:-1]:\n",
    "                chans_bi_1.append(chan)\n",
    "                chans_bi_2.append(next_chan)\n",
    "\n",
    "    raw.pick_channels(to_pick)\n",
    "    raw.crop(tmin=crop_start[subj] * 60, tmax=crop_start[subj] * 60 + 180)\n",
    "    raw.resample(1000)\n",
    "    raw.load_data()\n",
    "    raw_bi = mne.set_bipolar_reference(raw, anode=chans_bi_1, cathode=chans_bi_2, drop_refs=False)\n",
    "    # remove channel 4\n",
    "    raw_bi.pick_channels([x for x in raw_bi.ch_names if '4' not in x or '-' in x])\n",
    "    # Maybe another sort?\n",
    "    # raw_bi.reorder_channels(sorted(raw_bi.ch_names))\n",
    "    if len(raw_bi.annotations) > 0:\n",
    "        raw_bi.annotations.delete(list(range(len(raw_bi.annotations))))\n",
    "    # raw_bi.plot()\n",
    "    rotem_write_edf(raw_bi, f'D:\\\\Lilach\\\\{subj}_for_tag_fix2.edf')"
   ],
   "metadata": {
    "collapsed": false,
    "pycharm": {
     "name": "#%%\n"
    },
    "ExecuteTime": {
     "end_time": "2024-01-14T12:29:49.099870Z",
     "start_time": "2024-01-14T12:29:47.295795200Z"
    }
   }
  },
  {
   "cell_type": "code",
   "execution_count": 4,
   "outputs": [
    {
     "name": "stdout",
     "output_type": "stream",
     "text": [
      "Extracting EDF parameters from D:\\Dawn\\P489_for_tag_edited.edf...\n",
      "EDF file detected\n",
      "Setting channel info structure...\n",
      "Creating raw.info structure...\n",
      "saving to D:\\final_tags\\P489_for_tag.edf, filetype 1\n",
      "conversion time:\n",
      "0:00:00.460031\n"
     ]
    }
   ],
   "source": [
    "# crop stim from tag files\n",
    "timings = {'485': [0, 2 * 60 + 55], '487': [0, 3 * 60], '489': [0, 3 * 60], '498': [0, 3 * 60], '499': [1 * 60 + 10, 6 * 60], '520': [4 * 60, 6 * 60]}\n",
    "# for subj in ['485', '487', '489', '498', '499', '520']:\n",
    "for subj in ['489']:\n",
    "    raw = mne.io.read_raw_edf(f'D:\\\\Dawn\\\\P{subj}_for_tag_edited.edf')\n",
    "    raw.pick([x for x in raw.ch_names if len(x) > 2])\n",
    "    raw.crop(tmin=timings[subj][0], tmax=timings[subj][1])\n",
    "    # fix annotation timing\n",
    "    if timings[subj][0] > 0:\n",
    "        raw.annotations.onset -= timings[subj][0]\n",
    "    rotem_write_edf(raw, f'D:\\\\final_tags\\\\P{subj}_for_tag.edf')"
   ],
   "metadata": {
    "collapsed": false,
    "pycharm": {
     "name": "#%%\n"
    },
    "ExecuteTime": {
     "end_time": "2024-03-06T14:08:09.905230900Z",
     "start_time": "2024-03-06T14:08:09.390100500Z"
    }
   }
  },
  {
   "cell_type": "code",
   "execution_count": 2,
   "outputs": [
    {
     "name": "stdout",
     "output_type": "stream",
     "text": [
      "Extracting EDF parameters from D:\\final_tags_with_stim_and_END\\P396_for_tag.edf...\n",
      "EDF file detected\n",
      "Setting channel info structure...\n",
      "Creating raw.info structure...\n",
      "saving to D:\\final_tags\\P396_for_tag_1000.edf, filetype 1\n",
      "conversion time:\n",
      "0:00:00.192484\n",
      "Extracting EDF parameters from D:\\final_tags_with_stim_and_END\\P398_for_tag.edf...\n",
      "EDF file detected\n",
      "Setting channel info structure...\n",
      "Creating raw.info structure...\n",
      "saving to D:\\final_tags\\P398_for_tag_1000.edf, filetype 1\n",
      "conversion time:\n",
      "0:00:00.151595\n",
      "Extracting EDF parameters from D:\\final_tags_with_stim_and_END\\P402_for_tag.edf...\n",
      "EDF file detected\n",
      "Setting channel info structure...\n",
      "Creating raw.info structure...\n",
      "saving to D:\\final_tags\\P402_for_tag_1000.edf, filetype 1\n",
      "conversion time:\n",
      "0:00:00.132646\n",
      "Extracting EDF parameters from D:\\final_tags_with_stim_and_END\\P406_for_tag.edf...\n",
      "EDF file detected\n",
      "Setting channel info structure...\n",
      "Creating raw.info structure...\n",
      "saving to D:\\final_tags\\P406_for_tag_1000.edf, filetype 1\n",
      "conversion time:\n",
      "0:00:00.085771\n",
      "Extracting EDF parameters from D:\\final_tags_with_stim_and_END\\P415_for_tag.edf...\n",
      "EDF file detected\n",
      "Setting channel info structure...\n",
      "Creating raw.info structure...\n",
      "saving to D:\\final_tags\\P415_for_tag_1000.edf, filetype 1\n",
      "conversion time:\n",
      "0:00:00.120684\n",
      "Extracting EDF parameters from D:\\final_tags_with_stim_and_END\\P416_for_tag.edf...\n",
      "EDF file detected\n",
      "Setting channel info structure...\n",
      "Creating raw.info structure...\n",
      "saving to D:\\final_tags\\P416_for_tag_1000.edf, filetype 1\n",
      "conversion time:\n",
      "0:00:00.129652\n"
     ]
    }
   ],
   "source": [
    "timings = {'396': [0, 3 * 60 + 27], '398': [0, 3 * 60 + 14], '402': [0, 3 * 60 + 50], '406': [0, 3 * 60 + 16], '415': [0, 3 * 60 + 21], '416': [0, 3 * 60 + 22]}\n",
    "for subj in timings.keys():\n",
    "    raw = mne.io.read_raw_edf(f'D:\\\\final_tags_with_stim_and_END\\\\P{subj}_for_tag.edf')\n",
    "    raw.crop(tmin=timings[subj][0], tmax=timings[subj][1])\n",
    "    raw.resample(1000)\n",
    "    rotem_write_edf(raw, f'D:\\\\final_tags\\\\P{subj}_for_tag_1000.edf')"
   ],
   "metadata": {
    "collapsed": false,
    "pycharm": {
     "name": "#%%\n"
    },
    "ExecuteTime": {
     "end_time": "2024-03-20T13:11:47.560177Z",
     "start_time": "2024-03-20T13:11:34.906368400Z"
    }
   }
  },
  {
   "cell_type": "code",
   "execution_count": 6,
   "outputs": [
    {
     "data": {
      "text/plain": "['seeg',\n 'seeg',\n 'seeg',\n 'seeg',\n 'seeg',\n 'seeg',\n 'seeg',\n 'seeg',\n 'seeg',\n 'seeg',\n 'seeg',\n 'seeg',\n 'seeg',\n 'seeg',\n 'seeg',\n 'seeg',\n 'seeg',\n 'seeg',\n 'seeg',\n 'seeg',\n 'seeg',\n 'seeg',\n 'seeg',\n 'seeg',\n 'seeg',\n 'seeg',\n 'seeg',\n 'seeg']"
     },
     "execution_count": 6,
     "metadata": {},
     "output_type": "execute_result"
    }
   ],
   "source": [
    "raw.get_channel_types()"
   ],
   "metadata": {
    "collapsed": false,
    "pycharm": {
     "name": "#%%\n"
    },
    "ExecuteTime": {
     "end_time": "2024-03-06T12:46:12.935781900Z",
     "start_time": "2024-03-06T12:46:12.924906300Z"
    }
   }
  },
  {
   "cell_type": "code",
   "execution_count": 10,
   "outputs": [
    {
     "name": "stdout",
     "output_type": "stream",
     "text": [
      "Using qt as 2D backend.\n"
     ]
    },
    {
     "data": {
      "text/plain": "<mne_qt_browser._pg_figure.MNEQtBrowser at 0x18507467948>"
     },
     "execution_count": 10,
     "metadata": {},
     "output_type": "execute_result"
    }
   ],
   "source": [],
   "metadata": {
    "collapsed": false,
    "pycharm": {
     "name": "#%%\n"
    },
    "ExecuteTime": {
     "end_time": "2024-01-10T14:20:58.278695300Z",
     "start_time": "2024-01-10T14:20:57.431603600Z"
    }
   }
  },
  {
   "cell_type": "code",
   "execution_count": null,
   "outputs": [],
   "source": [],
   "metadata": {
    "collapsed": false
   }
  }
 ],
 "metadata": {
  "kernelspec": {
   "display_name": "Python 3",
   "language": "python",
   "name": "python3"
  },
  "language_info": {
   "codemirror_mode": {
    "name": "ipython",
    "version": 2
   },
   "file_extension": ".py",
   "mimetype": "text/x-python",
   "name": "python",
   "nbconvert_exporter": "python",
   "pygments_lexer": "ipython2",
   "version": "2.7.6"
  }
 },
 "nbformat": 4,
 "nbformat_minor": 0
}
