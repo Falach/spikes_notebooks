{
 "cells": [
  {
   "cell_type": "code",
   "execution_count": 1,
   "outputs": [],
   "source": [
    "import mne\n",
    "from pathlib import Path\n",
    "import numpy as np\n",
    "from mnelab.io.writers import write_edf"
   ],
   "metadata": {
    "collapsed": false,
    "pycharm": {
     "name": "#%%\n"
    }
   }
  },
  {
   "cell_type": "code",
   "execution_count": 17,
   "outputs": [],
   "source": [
    "# same function as mne but support nan values (const physical calues)\n",
    "def write_edf_nan(fname, raw):\n",
    "    \"\"\"Export raw to EDF/BDF file (requires pyEDFlib).\"\"\"\n",
    "    import pyedflib\n",
    "\n",
    "    suffixes = Path(fname).suffixes\n",
    "    ext = \"\".join(suffixes[-1:])\n",
    "    if ext == \".edf\":\n",
    "        filetype = pyedflib.FILETYPE_EDFPLUS\n",
    "        dmin, dmax = -32768, 32767\n",
    "    elif ext == \".bdf\":\n",
    "        filetype = pyedflib.FILETYPE_BDFPLUS\n",
    "        dmin, dmax = -8388608, 8388607\n",
    "    data = raw.get_data() * 1e6  # convert to microvolts\n",
    "    fs = raw.info[\"sfreq\"]\n",
    "    nchan = raw.info[\"nchan\"]\n",
    "    ch_names = raw.info[\"ch_names\"]\n",
    "    if raw.info[\"meas_date\"] is not None:\n",
    "        meas_date = raw.info[\"meas_date\"]\n",
    "    else:\n",
    "        meas_date = None\n",
    "    prefilter = (f\"{raw.info['highpass']}Hz - \"\n",
    "                 f\"{raw.info['lowpass']}\")\n",
    "    pmin, pmax = data.min(axis=1), data.max(axis=1)\n",
    "    f = pyedflib.EdfWriter(fname, nchan, filetype)\n",
    "    channel_info = []\n",
    "    data_list = []\n",
    "    for i in range(nchan):\n",
    "        channel_info.append(dict(label=ch_names[i],\n",
    "                                 dimension=\"uV\",\n",
    "                                 sample_rate=fs,\n",
    "                                 physical_min=-5000,\n",
    "                                 physical_max=5000,\n",
    "                                 digital_min=dmin,\n",
    "                                 digital_max=dmax,\n",
    "                                 transducer=\"\",\n",
    "                                 prefilter=prefilter))\n",
    "        data_list.append(data[i])\n",
    "    f.setTechnician(\"Exported by MNELAB\")\n",
    "    f.setSignalHeaders(channel_info)\n",
    "    if raw.info[\"meas_date\"] is not None:\n",
    "        f.setStartdatetime(meas_date)\n",
    "    # note that currently, only blocks of whole seconds can be written\n",
    "    f.writeSamples(data_list)\n",
    "    for annot in raw.annotations:\n",
    "        f.writeAnnotation(annot[\"onset\"], annot[\"duration\"], annot[\"description\"])"
   ],
   "metadata": {
    "collapsed": false,
    "pycharm": {
     "name": "#%%\n"
    }
   }
  },
  {
   "cell_type": "code",
   "execution_count": 1,
   "outputs": [
    {
     "name": "stdout",
     "output_type": "stream",
     "text": [
      "Extracting EDF parameters from C:\\UCLA\\P44_full_filtered_mtl.edf...\n",
      "EDF file detected\n",
      "Setting channel info structure...\n",
      "Creating raw.info structure...\n",
      "Opening raw data file C:\\UCLA\\44_clean_mtl_annot.fif...\n"
     ]
    },
    {
     "name": "stderr",
     "output_type": "stream",
     "text": [
      "C:\\Users\\user\\AppData\\Local\\Temp/ipykernel_32756/1430721516.py:9: RuntimeWarning: This filename (C:\\UCLA\\44_clean_mtl_annot.fif) does not conform to MNE naming conventions. All raw files should end with raw.fif, raw_sss.fif, raw_tsss.fif, _meg.fif, _eeg.fif, _ieeg.fif, raw.fif.gz, raw_sss.fif.gz, raw_tsss.fif.gz, _meg.fif.gz, _eeg.fif.gz or _ieeg.fif.gz\n",
      "  raw_an = mne.io.read_raw(fr\"C:\\UCLA\\{subj}_clean_mtl_annot.fif\")\n"
     ]
    },
    {
     "name": "stdout",
     "output_type": "stream",
     "text": [
      "Isotrak not found\n",
      "    Range : 0 ... 31556999 =      0.000 ... 31556.999 secs\n",
      "Ready.\n",
      "Opening raw data file C:\\UCLA\\44_clean_mtl_annot-1.fif...\n",
      "Isotrak not found\n",
      "    Range : 31557000 ... 40141999 =  31557.000 ... 40141.999 secs\n",
      "Ready.\n",
      "Using qt as 2D backend.\n"
     ]
    },
    {
     "data": {
      "text/plain": "<mne_qt_browser._pg_figure.MNEQtBrowser at 0x259a268adc8>"
     },
     "execution_count": 1,
     "metadata": {},
     "output_type": "execute_result"
    }
   ],
   "source": [
    "import mne\n",
    "subj = '44'\n",
    "depth = ['RAH1', 'LAH1', 'RA1', 'LA1', 'LEC1', 'REC1', 'RPHG1', 'LPHG1', 'RMH1', 'LMH1', 'RAH2', 'LAH2', 'RA2', 'LA2', 'LEC2', 'REC2', 'RPHG2', 'LPHG2', 'RMH2', 'LMH2']\n",
    "if subj in ['018', '025']:\n",
    "    depth = [x for x in depth+['RA3', 'RA4'] if x not in ['RA1', 'RA2']]\n",
    "raw = mne.io.read_raw_edf(f'C:\\\\UCLA\\\\P{subj}_full_filtered_mtl.edf')\n",
    "raw.set_channel_types({x: 'eog' for x in ['EOG1', 'EOG2']})\n",
    "raw.set_channel_types({x: 'seeg' for x in depth if x in raw.ch_names})\n",
    "raw_an = mne.io.read_raw(fr\"C:\\UCLA\\{subj}_clean_mtl_annot.fif\")\n",
    "annot = raw_an.annotations\n",
    "raw = raw.set_annotations(mne.Annotations(annot.onset, annot.duration, annot.description))\n",
    "raw.plot(duration=60 * 5, scalings=dict(eeg=5e-4, eog=4e-4, seeg=5e-4))"
   ],
   "metadata": {
    "collapsed": false,
    "pycharm": {
     "name": "#%%\n"
    }
   }
  },
  {
   "cell_type": "code",
   "execution_count": 5,
   "outputs": [
    {
     "name": "stdout",
     "output_type": "stream",
     "text": [
      "Reading 0 ... 32258999  =      0.000 ... 32258.999 secs...\n",
      "Creating RawArray with float64 data, n_channels=1, n_times=32259000\n",
      "    Range : 0 ... 32258999 =      0.000 ... 32258.999 secs\n",
      "Ready.\n",
      "Overwriting existing file.\n",
      "Writing C:\\UCLA\\025_clean_mtl_annot.fif\n"
     ]
    },
    {
     "name": "stderr",
     "output_type": "stream",
     "text": [
      "C:\\Users\\user\\AppData\\Local\\Temp/ipykernel_27748/2479625188.py:19: RuntimeWarning: This filename (C:\\UCLA\\025_clean_mtl_annot.fif) does not conform to MNE naming conventions. All raw files should end with raw.fif, raw_sss.fif, raw_tsss.fif, _meg.fif, _eeg.fif, _ieeg.fif, raw.fif.gz, raw_sss.fif.gz, raw_tsss.fif.gz, _meg.fif.gz, _eeg.fif.gz or _ieeg.fif.gz\n",
      "  raw.save(f'C:\\\\UCLA\\\\{subj}_clean_mtl_annot.fif', overwrite=True)\n"
     ]
    },
    {
     "name": "stdout",
     "output_type": "stream",
     "text": [
      "Closing C:\\UCLA\\025_clean_mtl_annot.fif\n",
      "[done]\n",
      "Setting 2965945 of 32259000 (9.19%) samples to NaN, retaining 29293055 (90.81%) samples.\n",
      "Creating RawArray with float64 data, n_channels=6, n_times=32259000\n",
      "    Range : 0 ... 32258999 =      0.000 ... 32258.999 secs\n",
      "Ready.\n"
     ]
    }
   ],
   "source": [
    "# save the fif with annotations\n",
    "raw.drop_channels(raw.info['bads'], on_missing='ignore')\n",
    "if subj == '025':\n",
    "    # copy eog1 as 2\n",
    "    raw.load_data()\n",
    "    # eog2 = mne.io.RawArray(raw.copy().pick_channels(['EOG1']).get_data(),\n",
    "    #                        mne.create_info(ch_names=['EOG2'], sfreq=raw.info['sfreq']))\n",
    "    # raw.add_channels([eog2])\n",
    "if subj == '48':\n",
    "    raw.crop(tmax=60*392)\n",
    "if subj == '51':\n",
    "    raw.crop(tmax=60*530)\n",
    "if subj == '404':\n",
    "    raw.crop(tmin=93*60, tmax=60*617)\n",
    "if subj == '405':\n",
    "    raw.crop(tmin=909*60)\n",
    "if subj == '422':\n",
    "    raw.crop(tmin=57*60)\n",
    "raw.save(f'C:\\\\UCLA\\\\{subj}_clean_mtl_annot.fif', overwrite=True)\n",
    "# save an edf with nans\n",
    "output_filename = 'clean_mtl'\n",
    "nan_clean = raw.get_data(reject_by_annotation='NaN')\n",
    "clean_raw = mne.io.RawArray(nan_clean, raw.info)"
   ],
   "metadata": {
    "collapsed": false,
    "pycharm": {
     "name": "#%%\n"
    }
   }
  },
  {
   "cell_type": "code",
   "execution_count": 18,
   "outputs": [
    {
     "ename": "NameError",
     "evalue": "name 'Path' is not defined",
     "output_type": "error",
     "traceback": [
      "\u001B[1;31m---------------------------------------------------------------------------\u001B[0m",
      "\u001B[1;31mNameError\u001B[0m                                 Traceback (most recent call last)",
      "\u001B[1;32m~\\AppData\\Local\\Temp/ipykernel_33592/576356657.py\u001B[0m in \u001B[0;36m<module>\u001B[1;34m\u001B[0m\n\u001B[1;32m----> 1\u001B[1;33m \u001B[0mwrite_edf_nan\u001B[0m\u001B[1;33m(\u001B[0m\u001B[1;34mf'C:\\\\UCLA\\\\{subj}_clean_mtl.edf'\u001B[0m\u001B[1;33m,\u001B[0m \u001B[0mclean_raw\u001B[0m\u001B[1;33m)\u001B[0m\u001B[1;33m\u001B[0m\u001B[1;33m\u001B[0m\u001B[0m\n\u001B[0m",
      "\u001B[1;32m~\\AppData\\Local\\Temp/ipykernel_33592/1736890455.py\u001B[0m in \u001B[0;36mwrite_edf_nan\u001B[1;34m(fname, raw)\u001B[0m\n\u001B[0;32m      4\u001B[0m     \u001B[1;32mimport\u001B[0m \u001B[0mpyedflib\u001B[0m\u001B[1;33m\u001B[0m\u001B[1;33m\u001B[0m\u001B[0m\n\u001B[0;32m      5\u001B[0m \u001B[1;33m\u001B[0m\u001B[0m\n\u001B[1;32m----> 6\u001B[1;33m     \u001B[0msuffixes\u001B[0m \u001B[1;33m=\u001B[0m \u001B[0mPath\u001B[0m\u001B[1;33m(\u001B[0m\u001B[0mfname\u001B[0m\u001B[1;33m)\u001B[0m\u001B[1;33m.\u001B[0m\u001B[0msuffixes\u001B[0m\u001B[1;33m\u001B[0m\u001B[1;33m\u001B[0m\u001B[0m\n\u001B[0m\u001B[0;32m      7\u001B[0m     \u001B[0mext\u001B[0m \u001B[1;33m=\u001B[0m \u001B[1;34m\"\"\u001B[0m\u001B[1;33m.\u001B[0m\u001B[0mjoin\u001B[0m\u001B[1;33m(\u001B[0m\u001B[0msuffixes\u001B[0m\u001B[1;33m[\u001B[0m\u001B[1;33m-\u001B[0m\u001B[1;36m1\u001B[0m\u001B[1;33m:\u001B[0m\u001B[1;33m]\u001B[0m\u001B[1;33m)\u001B[0m\u001B[1;33m\u001B[0m\u001B[1;33m\u001B[0m\u001B[0m\n\u001B[0;32m      8\u001B[0m     \u001B[1;32mif\u001B[0m \u001B[0mext\u001B[0m \u001B[1;33m==\u001B[0m \u001B[1;34m\".edf\"\u001B[0m\u001B[1;33m:\u001B[0m\u001B[1;33m\u001B[0m\u001B[1;33m\u001B[0m\u001B[0m\n",
      "\u001B[1;31mNameError\u001B[0m: name 'Path' is not defined"
     ]
    }
   ],
   "source": [
    "write_edf_nan(f'C:\\\\UCLA\\\\{subj}_clean_mtl.edf', clean_raw)"
   ],
   "metadata": {
    "collapsed": false,
    "pycharm": {
     "name": "#%%\n"
    }
   }
  },
  {
   "cell_type": "code",
   "execution_count": 7,
   "outputs": [
    {
     "name": "stdout",
     "output_type": "stream",
     "text": [
      "Opening raw data file C:\\UCLA\\018_clean_mtl_annot.fif...\n"
     ]
    },
    {
     "name": "stderr",
     "output_type": "stream",
     "text": [
      "C:\\Users\\user\\AppData\\Local\\Temp/ipykernel_8100/2360845214.py:2: RuntimeWarning: This filename (C:\\UCLA\\018_clean_mtl_annot.fif) does not conform to MNE naming conventions. All raw files should end with raw.fif, raw_sss.fif, raw_tsss.fif, _meg.fif, _eeg.fif, _ieeg.fif, raw.fif.gz, raw_sss.fif.gz, raw_tsss.fif.gz, _meg.fif.gz, _eeg.fif.gz or _ieeg.fif.gz\n",
      "  x = mne.io.read_raw(f'C:\\\\UCLA\\\\{subj}_clean_mtl_annot.fif')\n"
     ]
    },
    {
     "name": "stdout",
     "output_type": "stream",
     "text": [
      "Isotrak not found\n",
      "    Range : 0 ... 5344999 =      0.000 ...  5344.999 secs\n",
      "Ready.\n",
      "Setting 1582808 of 5345000 (29.61%) samples to NaN, retaining 3762192 (70.39%) samples.\n",
      "Creating RawArray with float64 data, n_channels=6, n_times=5345000\n",
      "    Range : 0 ... 5344999 =      0.000 ...  5344.999 secs\n",
      "Ready.\n"
     ]
    }
   ],
   "source": [
    "subj = '018'\n",
    "x = mne.io.read_raw(f'C:\\\\UCLA\\\\{subj}_clean_mtl_annot.fif')\n",
    "nan_clean = x.get_data(reject_by_annotation='NaN')\n",
    "clean_raw = mne.io.RawArray(nan_clean, x.info)\n",
    "write_edf_nan(f'C:\\\\UCLA\\\\{subj}_clean_mtl.edf', clean_raw)"
   ],
   "metadata": {
    "collapsed": false,
    "pycharm": {
     "name": "#%%\n"
    }
   }
  },
  {
   "cell_type": "code",
   "execution_count": null,
   "outputs": [],
   "source": [],
   "metadata": {
    "collapsed": false,
    "pycharm": {
     "name": "#%%\n"
    }
   }
  }
 ],
 "metadata": {
  "kernelspec": {
   "display_name": "Python 3",
   "language": "python",
   "name": "python3"
  },
  "language_info": {
   "codemirror_mode": {
    "name": "ipython",
    "version": 2
   },
   "file_extension": ".py",
   "mimetype": "text/x-python",
   "name": "python",
   "nbconvert_exporter": "python",
   "pygments_lexer": "ipython2",
   "version": "2.7.6"
  }
 },
 "nbformat": 4,
 "nbformat_minor": 0
}