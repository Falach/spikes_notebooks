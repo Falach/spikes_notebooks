{
 "cells": [
  {
   "cell_type": "code",
   "execution_count": 14,
   "outputs": [
    {
     "ename": "ImportError",
     "evalue": "\n    Importing PySide6 disabled by IPython, which has\n    already imported an Incompatible QT Binding: pyqt5\n    ",
     "output_type": "error",
     "traceback": [
      "\u001B[1;31m---------------------------------------------------------------------------\u001B[0m",
      "\u001B[1;31mImportError\u001B[0m                               Traceback (most recent call last)",
      "Cell \u001B[1;32mIn[14], line 4\u001B[0m\n\u001B[0;32m      2\u001B[0m \u001B[38;5;28;01mfrom\u001B[39;00m \u001B[38;5;21;01mpathlib\u001B[39;00m \u001B[38;5;28;01mimport\u001B[39;00m Path\n\u001B[0;32m      3\u001B[0m \u001B[38;5;28;01mimport\u001B[39;00m \u001B[38;5;21;01mnumpy\u001B[39;00m \u001B[38;5;28;01mas\u001B[39;00m \u001B[38;5;21;01mnp\u001B[39;00m\n\u001B[1;32m----> 4\u001B[0m \u001B[38;5;28;01mfrom\u001B[39;00m \u001B[38;5;21;01mmnelab\u001B[39;00m\u001B[38;5;21;01m.\u001B[39;00m\u001B[38;5;21;01mio\u001B[39;00m\u001B[38;5;21;01m.\u001B[39;00m\u001B[38;5;21;01mwriters\u001B[39;00m \u001B[38;5;28;01mimport\u001B[39;00m write_edf\n",
      "File \u001B[1;32m~\\anaconda3\\envs\\depth_ieds\\Lib\\site-packages\\mnelab\\__init__.py:10\u001B[0m\n\u001B[0;32m      7\u001B[0m \u001B[38;5;28;01mfrom\u001B[39;00m \u001B[38;5;21;01mpathlib\u001B[39;00m \u001B[38;5;28;01mimport\u001B[39;00m Path\n\u001B[0;32m      9\u001B[0m \u001B[38;5;28;01mimport\u001B[39;00m \u001B[38;5;21;01mmatplotlib\u001B[39;00m\n\u001B[1;32m---> 10\u001B[0m \u001B[38;5;28;01mfrom\u001B[39;00m \u001B[38;5;21;01mPySide6\u001B[39;00m\u001B[38;5;21;01m.\u001B[39;00m\u001B[38;5;21;01mQtCore\u001B[39;00m \u001B[38;5;28;01mimport\u001B[39;00m Qt\n\u001B[0;32m     11\u001B[0m \u001B[38;5;28;01mfrom\u001B[39;00m \u001B[38;5;21;01mPySide6\u001B[39;00m\u001B[38;5;21;01m.\u001B[39;00m\u001B[38;5;21;01mQtGui\u001B[39;00m \u001B[38;5;28;01mimport\u001B[39;00m QIcon\n\u001B[0;32m     12\u001B[0m \u001B[38;5;28;01mfrom\u001B[39;00m \u001B[38;5;21;01mPySide6\u001B[39;00m\u001B[38;5;21;01m.\u001B[39;00m\u001B[38;5;21;01mQtWidgets\u001B[39;00m \u001B[38;5;28;01mimport\u001B[39;00m QApplication\n",
      "File \u001B[1;32m~\\anaconda3\\envs\\depth_ieds\\Lib\\site-packages\\IPython\\external\\qt_loaders.py:67\u001B[0m, in \u001B[0;36mImportDenier.find_spec\u001B[1;34m(self, fullname, path, target)\u001B[0m\n\u001B[0;32m     65\u001B[0m         \u001B[38;5;28;01mreturn\u001B[39;00m\n\u001B[0;32m     66\u001B[0m     \u001B[38;5;28;01mif\u001B[39;00m fullname \u001B[38;5;129;01min\u001B[39;00m \u001B[38;5;28mself\u001B[39m\u001B[38;5;241m.\u001B[39m__forbidden:\n\u001B[1;32m---> 67\u001B[0m         \u001B[38;5;28;01mraise\u001B[39;00m \u001B[38;5;167;01mImportError\u001B[39;00m(\n\u001B[0;32m     68\u001B[0m \u001B[38;5;250m            \u001B[39m\u001B[38;5;124;03m\"\"\"\u001B[39;00m\n\u001B[0;32m     69\u001B[0m \u001B[38;5;124;03mImporting %s disabled by IPython, which has\u001B[39;00m\n\u001B[0;32m     70\u001B[0m \u001B[38;5;124;03malready imported an Incompatible QT Binding: %s\u001B[39;00m\n\u001B[0;32m     71\u001B[0m \u001B[38;5;124;03m\"\"\"\u001B[39;00m\n\u001B[0;32m     72\u001B[0m             \u001B[38;5;241m%\u001B[39m (fullname, loaded_api())\n\u001B[0;32m     73\u001B[0m         )\n",
      "\u001B[1;31mImportError\u001B[0m: \n    Importing PySide6 disabled by IPython, which has\n    already imported an Incompatible QT Binding: pyqt5\n    "
     ]
    }
   ],
   "source": [
    "import mne\n",
    "from pathlib import Path\n",
    "import numpy as np\n",
    "from mnelab.io.writers import write_edf"
   ],
   "metadata": {
    "collapsed": false,
    "pycharm": {
     "name": "#%%\n"
    },
    "ExecuteTime": {
     "end_time": "2024-04-01T09:19:14.027018600Z",
     "start_time": "2024-04-01T09:19:13.993401100Z"
    }
   }
  },
  {
   "cell_type": "code",
   "execution_count": 12,
   "outputs": [],
   "source": [
    "# same function as mne but support nan values (const physical calues)\n",
    "def write_edf_nan(fname, raw):\n",
    "    \"\"\"Export raw to EDF/BDF file (requires pyEDFlib).\"\"\"\n",
    "    import pyedflib\n",
    "\n",
    "    suffixes = Path(fname).suffixes\n",
    "    ext = \"\".join(suffixes[-1:])\n",
    "    if ext == \".edf\":\n",
    "        filetype = pyedflib.FILETYPE_EDFPLUS\n",
    "        dmin, dmax = -32768, 32767\n",
    "    elif ext == \".bdf\":\n",
    "        filetype = pyedflib.FILETYPE_BDFPLUS\n",
    "        dmin, dmax = -8388608, 8388607\n",
    "    data = raw.get_data() * 1e6  # convert to microvolts\n",
    "    fs = raw.info[\"sfreq\"]\n",
    "    nchan = raw.info[\"nchan\"]\n",
    "    ch_names = raw.info[\"ch_names\"]\n",
    "    if raw.info[\"meas_date\"] is not None:\n",
    "        meas_date = raw.info[\"meas_date\"]\n",
    "    else:\n",
    "        meas_date = None\n",
    "    prefilter = (f\"{raw.info['highpass']}Hz - \"\n",
    "                 f\"{raw.info['lowpass']}\")\n",
    "    pmin, pmax = data.min(axis=1), data.max(axis=1)\n",
    "    f = pyedflib.EdfWriter(fname, nchan, filetype)\n",
    "    channel_info = []\n",
    "    data_list = []\n",
    "    for i in range(nchan):\n",
    "        channel_info.append(dict(label=ch_names[i],\n",
    "                                 dimension=\"uV\",\n",
    "                                 sample_rate=fs,\n",
    "                                 physical_min=-5000,\n",
    "                                 physical_max=5000,\n",
    "                                 digital_min=dmin,\n",
    "                                 digital_max=dmax,\n",
    "                                 transducer=\"\",\n",
    "                                 prefilter=prefilter))\n",
    "        data_list.append(data[i])\n",
    "    f.setTechnician(\"Exported by MNELAB\")\n",
    "    f.setSignalHeaders(channel_info)\n",
    "    if raw.info[\"meas_date\"] is not None:\n",
    "        f.setStartdatetime(meas_date)\n",
    "    # note that currently, only blocks of whole seconds can be written\n",
    "    f.writeSamples(data_list)\n",
    "    for annot in raw.annotations:\n",
    "        f.writeAnnotation(annot[\"onset\"], annot[\"duration\"], annot[\"description\"])"
   ],
   "metadata": {
    "collapsed": false,
    "pycharm": {
     "name": "#%%\n"
    },
    "ExecuteTime": {
     "end_time": "2024-03-27T14:19:28.265822700Z",
     "start_time": "2024-03-27T14:19:28.256415800Z"
    }
   }
  },
  {
   "cell_type": "code",
   "execution_count": 3,
   "outputs": [
    {
     "name": "stdout",
     "output_type": "stream",
     "text": [
      "Extracting EDF parameters from D:\\TLV\\P53_full_filtered_mtl.edf...\n",
      "EDF file detected\n",
      "Setting channel info structure...\n",
      "Creating raw.info structure...\n",
      "NOTE: pick_channels() is a legacy function. New code should use inst.pick(...).\n"
     ]
    },
    {
     "name": "stderr",
     "output_type": "stream",
     "text": [
      "C:\\Users\\user\\AppData\\Local\\Temp\\ipykernel_27300\\1735629148.py:9: FutureWarning: The default for pick_channels will change from ordered=False to ordered=True in 1.5 and this will result in an error because the following channel names are missing:\n",
      "['LAH1', 'LA1', 'LEC1', 'REC1', 'RPHG1', 'LPHG1', 'RMH1', 'LMH1', 'LAH2', 'LA2', 'LEC2', 'REC2', 'RPHG2', 'LPHG2', 'RMH2', 'LMH2']\n",
      "Either fix your included names or explicitly pass ordered=False.\n",
      "  raw.pick_channels(depth + ['EOG1', 'EOG2'])\n",
      "C:\\Users\\user\\AppData\\Local\\Temp\\ipykernel_27300\\1735629148.py:9: FutureWarning: The default for pick_channels will change from ordered=False to ordered=True in 1.5 and this will result in a change of behavior because the resulting channel order will not match. Either use a channel order that matches your instance or pass ordered=False.\n",
      "  raw.pick_channels(depth + ['EOG1', 'EOG2'])\n"
     ]
    },
    {
     "data": {
      "text/plain": "<mne_qt_browser._pg_figure.MNEQtBrowser at 0x1790719dc60>"
     },
     "execution_count": 3,
     "metadata": {},
     "output_type": "execute_result"
    }
   ],
   "source": [
    "import mne\n",
    "subj = '53'\n",
    "depth = ['RAH1', 'LAH1', 'RA1', 'LA1', 'LEC1', 'REC1', 'RPHG1', 'LPHG1', 'RMH1', 'LMH1', 'RAH2', 'LAH2', 'RA2', 'LA2', 'LEC2', 'REC2', 'RPHG2', 'LPHG2', 'RMH2', 'LMH2']\n",
    "if subj in ['018', '025']:\n",
    "    depth = [x for x in depth+['RA3', 'RA4'] if x not in ['RA1', 'RA2']]\n",
    "raw = mne.io.read_raw_edf(f'D:\\\\TLV\\\\P{subj}_full_filtered_mtl.edf')\n",
    "# raw = mne.io.read_raw_edf(f'D:\\\\TLV\\\\P{subj}_full_filtered_mtl.edf')\n",
    "raw.set_channel_types({x: 'eog' for x in ['EOG1', 'EOG2']})\n",
    "raw.pick_channels(depth + ['EOG1', 'EOG2'])\n",
    "raw.set_channel_types({x: 'seeg' for x in depth if x in raw.ch_names})\n",
    "# # copy annotations from other file\n",
    "# raw_an = mne.io.read_raw(fr\"D:\\UCLA\\{subj}_clean_mtl_annot.fif\")\n",
    "# annot = raw_an.annotations\n",
    "# raw = raw.set_annotations(mne.Annotations(annot.onset, annot.duration, annot.description))\n",
    "raw.plot(duration=60 * 5, scalings=dict(eeg=5e-4, eog=4e-4, seeg=5e-4))"
   ],
   "metadata": {
    "collapsed": false,
    "pycharm": {
     "name": "#%%\n"
    },
    "ExecuteTime": {
     "end_time": "2024-03-27T13:43:33.848588400Z",
     "start_time": "2024-03-27T13:43:32.318974500Z"
    }
   }
  },
  {
   "cell_type": "code",
   "execution_count": 3,
   "outputs": [
    {
     "name": "stdout",
     "output_type": "stream",
     "text": [
      "Writing D:\\TLV\\38_clean_mtl_annot.fif\n"
     ]
    },
    {
     "name": "stderr",
     "output_type": "stream",
     "text": [
      "C:\\Users\\user\\AppData\\Local\\Temp\\ipykernel_3772\\2202309907.py:19: RuntimeWarning: This filename (D:\\TLV\\38_clean_mtl_annot.fif) does not conform to MNE naming conventions. All raw files should end with raw.fif, raw_sss.fif, raw_tsss.fif, _meg.fif, _eeg.fif, _ieeg.fif, raw.fif.gz, raw_sss.fif.gz, raw_tsss.fif.gz, _meg.fif.gz, _eeg.fif.gz or _ieeg.fif.gz\n",
      "  raw.save(f'D:\\\\TLV\\\\{subj}_clean_mtl_annot.fif', overwrite=True)\n"
     ]
    },
    {
     "name": "stdout",
     "output_type": "stream",
     "text": [
      "Closing D:\\TLV\\38_clean_mtl_annot.fif\n",
      "Writing D:\\TLV\\38_clean_mtl_annot-1.fif\n",
      "Closing D:\\TLV\\38_clean_mtl_annot-1.fif\n",
      "[done]\n",
      "Setting 1787181 of 37045000 (4.82%) samples to NaN, retaining 35257819 (95.18%) samples.\n",
      "Creating RawArray with float64 data, n_channels=27, n_times=37045000\n",
      "    Range : 0 ... 37044999 =      0.000 ... 37044.999 secs\n",
      "Ready.\n"
     ]
    }
   ],
   "source": [
    "# save the fif with annotations\n",
    "raw.drop_channels(raw.info['bads'], on_missing='ignore')\n",
    "if subj == '025':\n",
    "    # copy eog1 as 2\n",
    "    raw.load_data()\n",
    "    # eog2 = mne.io.RawArray(raw.copy().pick_channels(['EOG1']).get_data(),\n",
    "    #                        mne.create_info(ch_names=['EOG2'], sfreq=raw.info['sfreq']))\n",
    "    # raw.add_channels([eog2])\n",
    "if subj == '48':\n",
    "    raw.crop(tmax=60*392)\n",
    "if subj == '51':\n",
    "    raw.crop(tmax=60*530)\n",
    "if subj == '404':\n",
    "    raw.crop(tmin=93*60, tmax=60*617)\n",
    "if subj == '405':\n",
    "    raw.crop(tmin=909*60)\n",
    "if subj == '422':\n",
    "    raw.crop(tmin=57*60)\n",
    "raw.save(f'D:\\\\TLV\\\\{subj}_clean_mtl_annot.fif', overwrite=True)\n",
    "# save an edf with nans\n",
    "output_filename = 'clean_mtl'\n",
    "nan_clean = raw.get_data(reject_by_annotation='NaN')\n",
    "clean_raw = mne.io.RawArray(nan_clean, raw.info)"
   ],
   "metadata": {
    "collapsed": false,
    "pycharm": {
     "name": "#%%\n"
    },
    "ExecuteTime": {
     "end_time": "2024-03-26T14:23:24.523472700Z",
     "start_time": "2024-03-26T14:22:30.717851100Z"
    }
   }
  },
  {
   "cell_type": "code",
   "execution_count": 11,
   "outputs": [
    {
     "name": "stderr",
     "output_type": "stream",
     "text": [
      "C:\\Users\\user\\anaconda3\\envs\\depth_ieds\\Lib\\site-packages\\pyedflib\\edfwriter.py:31: UserWarning: Invalid char: header entries should contain only ASCII characters and no spaces: \"Exported by MNELAB\"\n",
      "  warnings.warn('Invalid char: header entries should contain only ASCII'\\\n"
     ]
    }
   ],
   "source": [
    "write_edf_nan(f'D:\\\\TLV\\\\{subj}_clean_mtl.edf', clean_raw)"
   ],
   "metadata": {
    "collapsed": false,
    "pycharm": {
     "name": "#%%\n"
    },
    "ExecuteTime": {
     "end_time": "2024-03-26T14:30:42.600732300Z",
     "start_time": "2024-03-26T14:30:06.923026400Z"
    }
   }
  },
  {
   "cell_type": "code",
   "execution_count": 7,
   "outputs": [
    {
     "name": "stdout",
     "output_type": "stream",
     "text": [
      "Opening raw data file C:\\UCLA\\018_clean_mtl_annot.fif...\n"
     ]
    },
    {
     "name": "stderr",
     "output_type": "stream",
     "text": [
      "C:\\Users\\user\\AppData\\Local\\Temp/ipykernel_8100/2360845214.py:2: RuntimeWarning: This filename (C:\\UCLA\\018_clean_mtl_annot.fif) does not conform to MNE naming conventions. All raw files should end with raw.fif, raw_sss.fif, raw_tsss.fif, _meg.fif, _eeg.fif, _ieeg.fif, raw.fif.gz, raw_sss.fif.gz, raw_tsss.fif.gz, _meg.fif.gz, _eeg.fif.gz or _ieeg.fif.gz\n",
      "  x = mne.io.read_raw(f'C:\\\\UCLA\\\\{subj}_clean_mtl_annot.fif')\n"
     ]
    },
    {
     "name": "stdout",
     "output_type": "stream",
     "text": [
      "Isotrak not found\n",
      "    Range : 0 ... 5344999 =      0.000 ...  5344.999 secs\n",
      "Ready.\n",
      "Setting 1582808 of 5345000 (29.61%) samples to NaN, retaining 3762192 (70.39%) samples.\n",
      "Creating RawArray with float64 data, n_channels=6, n_times=5345000\n",
      "    Range : 0 ... 5344999 =      0.000 ...  5344.999 secs\n",
      "Ready.\n"
     ]
    }
   ],
   "source": [
    "subj = '018'\n",
    "x = mne.io.read_raw(f'C:\\\\UCLA\\\\{subj}_clean_mtl_annot.fif')\n",
    "nan_clean = x.get_data(reject_by_annotation='NaN')\n",
    "clean_raw = mne.io.RawArray(nan_clean, x.info)\n",
    "write_edf_nan(f'C:\\\\UCLA\\\\{subj}_clean_mtl.edf', clean_raw)"
   ],
   "metadata": {
    "collapsed": false,
    "pycharm": {
     "name": "#%%\n"
    }
   }
  },
  {
   "cell_type": "code",
   "execution_count": 5,
   "outputs": [
    {
     "data": {
      "text/plain": "<mne_qt_browser._pg_figure.MNEQtBrowser at 0x2cdb1dd57e0>"
     },
     "execution_count": 5,
     "metadata": {},
     "output_type": "execute_result"
    }
   ],
   "source": [
    "raw.plot(duration=30, scalings=dict(eeg=5e-4, eog=4e-4, seeg=5e-4))"
   ],
   "metadata": {
    "collapsed": false,
    "pycharm": {
     "name": "#%%\n"
    },
    "ExecuteTime": {
     "end_time": "2024-03-26T14:28:39.137454800Z",
     "start_time": "2024-03-26T14:28:37.803010500Z"
    }
   }
  },
  {
   "cell_type": "code",
   "outputs": [
    {
     "name": "stdout",
     "output_type": "stream",
     "text": [
      "Extracting EDF parameters from D:\\TLV\\P53_full_filtered_mtl.edf...\n",
      "EDF file detected\n",
      "Setting channel info structure...\n",
      "Creating raw.info structure...\n",
      "NOTE: pick_channels() is a legacy function. New code should use inst.pick(...).\n"
     ]
    },
    {
     "name": "stderr",
     "output_type": "stream",
     "text": [
      "C:\\Users\\user\\AppData\\Local\\Temp\\ipykernel_27300\\3391153837.py:9: FutureWarning: The default for pick_channels will change from ordered=False to ordered=True in 1.5 and this will result in a change of behavior because the resulting channel order will not match. Either use a channel order that matches your instance or pass ordered=False.\n",
      "  raw.pick_channels(curr_scalp + curr_depth)\n"
     ]
    },
    {
     "data": {
      "text/plain": "<mne_qt_browser._pg_figure.MNEQtBrowser at 0x1790aa1c820>"
     },
     "execution_count": 15,
     "metadata": {},
     "output_type": "execute_result"
    }
   ],
   "source": [
    "# 49 don't have mtl file but full filtered is ok\n",
    "subj = '53'\n",
    "depth = ['RAH1', 'LAH1', 'RA1', 'LA1', 'LEC1', 'REC1', 'RPHG1', 'LPHG1', 'RMH1', 'LMH1',\n",
    "         'RAH2', 'LAH2', 'RA2', 'LA2', 'LEC2', 'REC2', 'RPHG2', 'LPHG2', 'RMH2', 'LMH2']\n",
    "scalp_all = ['C3', 'C4', 'PZ', 'EOG1', 'EOG2', 'F4', 'P4', 'F10', 'T10', 'F3', 'P3', 'F9', 'T9', 'CZ', 'P4', 'F8', 'T8', 'P8', 'O1', 'O2', 'T5', 'C6', 'P6', 'F7', 'C5', 'P5', 'FZ']\n",
    "raw = mne.io.read_raw_edf(f'D:\\\\TLV\\\\P{subj}_full_filtered_mtl.edf')\n",
    "curr_scalp = [x for x in scalp_all if x in raw.ch_names]\n",
    "curr_depth = [x for x in depth if x in raw.ch_names]\n",
    "raw.pick_channels(curr_scalp + curr_depth)\n",
    "raw.set_channel_types({x: 'eog' for x in ['EOG1', 'EOG2']})\n",
    "raw.set_channel_types({x: 'seeg' for x in depth if x in raw.ch_names})\n",
    "raw.plot(duration=60 * 5, scalings=dict(eeg=5e-5, eog=4e-5, seeg=5e-4))"
   ],
   "metadata": {
    "collapsed": false,
    "ExecuteTime": {
     "end_time": "2024-04-01T09:19:23.374962500Z",
     "start_time": "2024-04-01T09:19:21.455264800Z"
    }
   },
   "execution_count": 15
  },
  {
   "cell_type": "code",
   "outputs": [
    {
     "data": {
      "text/plain": "['P4']"
     },
     "execution_count": 7,
     "metadata": {},
     "output_type": "execute_result"
    }
   ],
   "source": [
    "raw.info['bads']"
   ],
   "metadata": {
    "collapsed": false,
    "ExecuteTime": {
     "end_time": "2024-03-27T14:17:52.646007Z",
     "start_time": "2024-03-27T14:17:52.638692Z"
    }
   },
   "execution_count": 7
  },
  {
   "cell_type": "code",
   "outputs": [
    {
     "name": "stdout",
     "output_type": "stream",
     "text": [
      "Writing D:\\TLV\\53_clean_mtl_annot.fif\n"
     ]
    },
    {
     "name": "stderr",
     "output_type": "stream",
     "text": [
      "C:\\Users\\user\\AppData\\Local\\Temp\\ipykernel_27300\\1249924845.py:3: RuntimeWarning: This filename (D:\\TLV\\53_clean_mtl_annot.fif) does not conform to MNE naming conventions. All raw files should end with raw.fif, raw_sss.fif, raw_tsss.fif, _meg.fif, _eeg.fif, _ieeg.fif, raw.fif.gz, raw_sss.fif.gz, raw_tsss.fif.gz, _meg.fif.gz, _eeg.fif.gz or _ieeg.fif.gz\n",
      "  raw.save(f'D:\\\\TLV\\\\{subj}_clean_mtl_annot.fif', overwrite=True)\n"
     ]
    },
    {
     "name": "stdout",
     "output_type": "stream",
     "text": [
      "Closing D:\\TLV\\53_clean_mtl_annot.fif\n",
      "[done]\n",
      "Setting 4582759 of 26127000 (17.54%) samples to NaN, retaining 21544241 (82.46%) samples.\n",
      "Creating RawArray with float64 data, n_channels=13, n_times=26127000\n",
      "    Range : 0 ... 26126999 =      0.000 ... 26126.999 secs\n",
      "Ready.\n"
     ]
    },
    {
     "ename": "NameError",
     "evalue": "name 'write_edf_nan' is not defined",
     "output_type": "error",
     "traceback": [
      "\u001B[1;31m---------------------------------------------------------------------------\u001B[0m",
      "\u001B[1;31mNameError\u001B[0m                                 Traceback (most recent call last)",
      "Cell \u001B[1;32mIn[8], line 8\u001B[0m\n\u001B[0;32m      6\u001B[0m nan_clean \u001B[38;5;241m=\u001B[39m raw\u001B[38;5;241m.\u001B[39mget_data(reject_by_annotation\u001B[38;5;241m=\u001B[39m\u001B[38;5;124m'\u001B[39m\u001B[38;5;124mNaN\u001B[39m\u001B[38;5;124m'\u001B[39m)\n\u001B[0;32m      7\u001B[0m clean_raw \u001B[38;5;241m=\u001B[39m mne\u001B[38;5;241m.\u001B[39mio\u001B[38;5;241m.\u001B[39mRawArray(nan_clean, raw\u001B[38;5;241m.\u001B[39minfo)\n\u001B[1;32m----> 8\u001B[0m write_edf_nan(\u001B[38;5;124mf\u001B[39m\u001B[38;5;124m'\u001B[39m\u001B[38;5;124mD:\u001B[39m\u001B[38;5;130;01m\\\\\u001B[39;00m\u001B[38;5;124mTLV\u001B[39m\u001B[38;5;130;01m\\\\\u001B[39;00m\u001B[38;5;132;01m{\u001B[39;00msubj\u001B[38;5;132;01m}\u001B[39;00m\u001B[38;5;124m_clean_mtl.edf\u001B[39m\u001B[38;5;124m'\u001B[39m, clean_raw)\n",
      "\u001B[1;31mNameError\u001B[0m: name 'write_edf_nan' is not defined"
     ]
    }
   ],
   "source": [
    "# save the fif with annotations\n",
    "raw.drop_channels(raw.info['bads'], on_missing='ignore')\n",
    "raw.save(f'D:\\\\TLV\\\\{subj}_clean_mtl_annot.fif', overwrite=True)\n",
    "# save an edf with nans\n",
    "output_filename = 'clean_mtl'\n",
    "nan_clean = raw.get_data(reject_by_annotation='NaN')\n",
    "clean_raw = mne.io.RawArray(nan_clean, raw.info)"
   ],
   "metadata": {
    "collapsed": false,
    "ExecuteTime": {
     "end_time": "2024-03-27T14:18:48.419484900Z",
     "start_time": "2024-03-27T14:18:22.687054700Z"
    }
   },
   "execution_count": 8
  },
  {
   "cell_type": "code",
   "outputs": [
    {
     "name": "stderr",
     "output_type": "stream",
     "text": [
      "C:\\Users\\user\\anaconda3\\envs\\depth_ieds\\Lib\\site-packages\\pyedflib\\edfwriter.py:31: UserWarning: Invalid char: header entries should contain only ASCII characters and no spaces: \"Exported by MNELAB\"\n",
      "  warnings.warn('Invalid char: header entries should contain only ASCII'\\\n"
     ]
    }
   ],
   "source": [
    "write_edf_nan(f'D:\\\\TLV\\\\{subj}_clean_mtl.edf', clean_raw)\n"
   ],
   "metadata": {
    "collapsed": false,
    "ExecuteTime": {
     "end_time": "2024-03-27T14:19:39.105508200Z",
     "start_time": "2024-03-27T14:19:32.052353900Z"
    }
   },
   "execution_count": 13
  },
  {
   "cell_type": "code",
   "outputs": [],
   "source": [],
   "metadata": {
    "collapsed": false
   }
  }
 ],
 "metadata": {
  "kernelspec": {
   "display_name": "Python 3",
   "language": "python",
   "name": "python3"
  },
  "language_info": {
   "codemirror_mode": {
    "name": "ipython",
    "version": 2
   },
   "file_extension": ".py",
   "mimetype": "text/x-python",
   "name": "python",
   "nbconvert_exporter": "python",
   "pygments_lexer": "ipython2",
   "version": "2.7.6"
  }
 },
 "nbformat": 4,
 "nbformat_minor": 0
}
