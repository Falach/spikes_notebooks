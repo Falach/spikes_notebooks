{
 "cells": [
  {
   "cell_type": "code",
   "execution_count": null,
   "outputs": [],
   "source": [
    "import matplotlib.pyplot as plt\n",
    "import numpy as np\n",
    "import pandas as pd\n",
    "from scalp_utils import *\n",
    "import joblib\n",
    "from IPython.display import clear_output"
   ],
   "metadata": {
    "collapsed": false,
    "pycharm": {
     "name": "#%%\n"
    }
   }
  },
  {
   "cell_type": "code",
   "execution_count": null,
   "outputs": [],
   "source": [
    "# configuration\n",
    "egi_nrem_path = 'XXX'"
   ],
   "metadata": {
    "collapsed": false,
    "pycharm": {
     "name": "#%%\n"
    }
   }
  },
  {
   "cell_type": "code",
   "execution_count": null,
   "outputs": [],
   "source": [
    "rf_model = joblib.load('rf_undersample.pkl')\n",
    "lgbm_model = joblib.load('lgbm_undersample.pkl')"
   ],
   "metadata": {
    "collapsed": false,
    "pycharm": {
     "name": "#%%\n"
    }
   }
  },
  {
   "cell_type": "code",
   "execution_count": null,
   "outputs": [],
   "source": [
    "subjects = ['XXX', 'YYY']\n",
    "eog1_dict = {}\n",
    "eog2_dict = {}\n",
    "for subj in subjects:\n",
    "    feat_eog1 = get_all_feat_eog_with_chan_feat('1', subjects=[subj], path=egi_nrem_path)\n",
    "    clear_output()\n",
    "    eog1_dict[subj] = feat_eog1\n",
    "    feat_eog2 = get_all_feat_eog_with_chan_feat('2', subjects=[subj], path=egi_nrem_path)\n",
    "    clear_output()\n",
    "    eog2_dict[subj] = feat_eog2\n",
    "\n",
    "joblib.dump(eog1_dict, f'eog1_egi.pkl')\n",
    "joblib.dump(eog2_dict, f'eog2_egi.pkl')"
   ],
   "metadata": {
    "collapsed": false,
    "pycharm": {
     "name": "#%%\n"
    }
   }
  },
  {
   "cell_type": "code",
   "execution_count": null,
   "outputs": [],
   "source": [
    "eog1_dict = joblib.load('eog1_egi.pkl')\n",
    "eog2_dict = joblib.load('eog2_egi.pkl')\n",
    "feat_all = pd.DataFrame()\n",
    "for subj in subjects:\n",
    "    curr_feat = pd.concat([eog1_dict[subj], eog2_dict[subj].iloc[:, 2:].add_suffix('_2')], axis=1)\n",
    "    feat_all = pd.concat([feat_all, curr_feat])\n",
    "\n",
    "for classifier in [rf_model, lgbm_model]:\n",
    "    y_pred = classifier.predict_proba(feat_all)\n",
    "    \n",
    "# TODO: plot all subjects in 2 groups, y axis is the number of spikes during the hour"
   ],
   "metadata": {
    "collapsed": false,
    "pycharm": {
     "name": "#%%\n"
    }
   }
  }
 ],
 "metadata": {
  "kernelspec": {
   "display_name": "Python 3",
   "language": "python",
   "name": "python3"
  },
  "language_info": {
   "codemirror_mode": {
    "name": "ipython",
    "version": 2
   },
   "file_extension": ".py",
   "mimetype": "text/x-python",
   "name": "python",
   "nbconvert_exporter": "python",
   "pygments_lexer": "ipython2",
   "version": "2.7.6"
  }
 },
 "nbformat": 4,
 "nbformat_minor": 0
}